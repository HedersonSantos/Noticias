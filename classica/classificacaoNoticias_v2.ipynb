{
  "nbformat": 4,
  "nbformat_minor": 0,
  "metadata": {
    "colab": {
      "name": "clusterizacaoNoticias_ngrams_v2",
      "provenance": [],
      "collapsed_sections": []
    },
    "kernelspec": {
      "name": "python3",
      "display_name": "Python 3"
    },
    "language_info": {
      "name": "python"
    }
  },
  "cells": [
    {
      "cell_type": "code",
      "metadata": {
        "id": "Z6ntCB_ZoYIR"
      },
      "source": [
        "import pandas as pd\n",
        "import numpy as np\n",
        "from datetime import datetime\n",
        "import matplotlib.pyplot as plt\n",
        "from multiprocessing import Pool, Process\n",
        "import multiprocessing as mp\n",
        "from google.colab import files, drive\n",
        "from pathlib import Path\n",
        "import io, os\n",
        "import pickle\n",
        "import pyarrow.parquet as pq\n",
        "pd.set_option('display.max_rows', None)\n",
        "pd.set_option('display.max_colwidth', None)\n",
        "\n",
        "\n",
        "\n",
        "import nltk, re\n",
        "from nltk import word_tokenize\n",
        "from nltk.corpus import stopwords\n",
        "from wordcloud import WordCloud\n",
        "\n",
        "from scipy.stats import uniform, randint\n",
        "\n",
        "from sklearn.feature_extraction.text import CountVectorizer\n",
        "from sklearn.feature_extraction.text import TfidfTransformer\n",
        "from sklearn.model_selection import cross_val_score, KFold, RandomizedSearchCV\n",
        "from sklearn.decomposition import PCA\n",
        "from sklearn.decomposition import TruncatedSVD\n",
        "from sklearn.preprocessing import StandardScaler\n",
        "from sklearn.preprocessing import FunctionTransformer\n",
        "from sklearn.pipeline import make_pipeline\n",
        "\n",
        "from sklearn.metrics.pairwise import cosine_similarity\n",
        "from sklearn.neighbors import KNeighborsClassifier\n",
        "from sklearn.naive_bayes import MultinomialNB\n",
        "from sklearn.naive_bayes import GaussianNB\n",
        "from sklearn.ensemble import RandomForestClassifier\n",
        "from sklearn.neural_network import MLPClassifier\n",
        "from sklearn.metrics import accuracy_score, precision_score, \\\n",
        "                            recall_score, confusion_matrix, \\\n",
        "                            plot_confusion_matrix, classification_report, \\\n",
        "                            balanced_accuracy_score, cohen_kappa_score, matthews_corrcoef"
      ],
      "execution_count": 1,
      "outputs": []
    },
    {
      "cell_type": "markdown",
      "metadata": {
        "id": "ATJaqnNUqr_L"
      },
      "source": [
        "# Obtendo dataset de noticias tratadas em preProcessamento_noticias"
      ]
    },
    {
      "cell_type": "code",
      "metadata": {
        "id": "NnmIRw0WowrK",
        "colab": {
          "base_uri": "https://localhost:8080/"
        },
        "outputId": "a5da7200-b6c1-45b6-b559-9797c973561d"
      },
      "source": [
        "#!rm news.*\n",
        "#!wget https://raw.githubusercontent.com/HedersonSantos/Noticias/main/news.zip\n",
        "#!unzip news.zip\n",
        "drive.mount('/gdrive')\n",
        "%cd /gdrive/My\\ Drive/Colab\\ Notebooks/\n",
        "!ls -lh \n"
      ],
      "execution_count": 4,
      "outputs": [
        {
          "output_type": "stream",
          "name": "stdout",
          "text": [
            "Drive already mounted at /gdrive; to attempt to forcibly remount, call drive.mount(\"/gdrive\", force_remount=True).\n",
            "/gdrive/My Drive/Colab Notebooks\n",
            "total 849K\n",
            "drwx------ 8 root root 4.0K Aug 31 12:22  amostra_news_integrada\n",
            "-rw------- 1 root root  57K Jul 13 19:50  artigosWikibr.ipynb\n",
            "drwx------ 2 root root 4.0K Aug 30 22:59  bertimbau\n",
            "-rw------- 1 root root  37K Aug  1 23:19 'BERTimbau_com_amostras (1).ipynb'\n",
            "-rw------- 1 root root 158K Sep  2 16:41  BERTimbau_com_amostras.ipynb\n",
            "drwx------ 2 root root 4.0K Aug  7 13:00  bertimbau_resp\n",
            "drwx------ 2 root root 4.0K Sep  1 13:17  classica_resp\n",
            "-rw------- 1 root root 170K Aug  7 17:47 'Cópia de BERTimbau_Testes (1).ipynb'\n",
            "-rw------- 1 root root  98K Aug  7 15:29 'Cópia de BERTimbau_Testes (2).ipynb'\n",
            "-rw------- 1 root root  72K Aug  1 12:19 'Cópia de BERTimbau_Testes (3).ipynb'\n",
            "-rw------- 1 root root  46K Aug  1 11:45 'Cópia de BERTimbau_Testes (4).ipynb'\n",
            "-rw------- 1 root root 168K Aug 23 20:02 'Cópia de BERTimbau_Testes.ipynb'\n",
            "drwx------ 2 root root 4.0K Aug 16 22:40  figuras\n",
            "-rw------- 1 root root 9.7K Aug 16 23:41  ResultadosExperimentos.ipynb\n",
            "-rw------- 1 root root  306 Jul 12 18:08  Untitled\n",
            "-rw------- 1 root root 9.5K Sep  2 18:02  Untitled0.ipynb\n",
            "-rw------- 1 root root 1.2K Jul 12 17:26  Untitled1.ipynb\n",
            "-rw------- 1 root root 2.3K Sep  3 11:25  Untitled2.ipynb\n"
          ]
        }
      ]
    },
    {
      "cell_type": "code",
      "metadata": {
        "colab": {
          "base_uri": "https://localhost:8080/"
        },
        "id": "hsW44sgpaDj-",
        "outputId": "21dd1a54-5533-4af3-f0e8-243cbe1080d0"
      },
      "source": [
        "%cd /gdrive/My\\ Drive/Colab\\ Notebooks/\n",
        "!ls ./amostra_news_integrada/amostra_5\n"
      ],
      "execution_count": 3,
      "outputs": [
        {
          "output_type": "stream",
          "name": "stdout",
          "text": [
            "/gdrive/My Drive/Colab Notebooks\n",
            "test.csv  train.csv  valid.csv\n"
          ]
        }
      ]
    },
    {
      "cell_type": "code",
      "metadata": {
        "colab": {
          "base_uri": "https://localhost:8080/"
        },
        "id": "6CQJzsnkYJz_",
        "outputId": "b157d057-dbce-4499-a4b4-eebad3162fc0"
      },
      "source": [
        "mp.cpu_count()"
      ],
      "execution_count": null,
      "outputs": [
        {
          "output_type": "execute_result",
          "data": {
            "text/plain": [
              "2"
            ]
          },
          "metadata": {},
          "execution_count": 4
        }
      ]
    },
    {
      "cell_type": "markdown",
      "metadata": {
        "id": "hWX1z5Ntq-Ec"
      },
      "source": [
        "# Funções para processamento de Linguagem Natural"
      ]
    },
    {
      "cell_type": "code",
      "metadata": {
        "id": "jmvLl_wTrFR9"
      },
      "source": [
        "def download_pt_stopWords():\n",
        "\n",
        "  '''download das stopwords '''\n",
        "  nltk.download('stopwords') #stopwords\n",
        "  nltk.download('rslp')  #stemming\n",
        "        \n",
        "def removeStopWords( texto, excluirWords:list=None):\n",
        "  '''remove as stopwords do texto. Novas stopwords podem ser adicionadas através da lista excluirWords'''\n",
        "  naoQueridas = nltk.corpus.stopwords.words('portuguese')\n",
        "  if not excluirWords==None:\n",
        "    naoQueridas.extend(excluirWords)\n",
        "  naoQueridas = list(set(naoQueridas))\n",
        "  palavras = [i for i in texto.split() if not i.lower() in naoQueridas]\n",
        "  return (\" \".join(palavras))\n",
        "\n",
        "def aplicaStemming( texto):\n",
        "  ''' obtém o radical das palavras do vocabulário'''\n",
        "  stemmer = nltk.stem.RSLPStemmer()\n",
        "  palavras = []\n",
        "  for w in texto.split():\n",
        "      palavras.append(stemmer.stem(w))\n",
        "  return (\" \".join(palavras))\n",
        "\n",
        "def removeCaracteresNaoDesejados(texto):\n",
        "  textoLimpo = re.sub(r\"http\\S+\", \"\", texto)\n",
        "  textoLimpo = re.sub(r\"www\\..+\\..+\", \"\", texto)\n",
        "  textoLimpo = re.sub(r\"[^a-zA-ZáÁéÉíÍóÓúÚãÃàÀôâÂêÊôÔçÇ ]\", \"\", texto)\n",
        "  return textoLimpo\n",
        "\n",
        "def retornaVetorizacao(X,pct_min=1, pct_max=1, n_grams=(1,1), excluirSW:list=None, vetorPalavras=None, n_top=1000):\n",
        "  ''' monta a matriz sparsa com o índice de vocabulário em cada texto. \n",
        "    Retorna a matriz sparsa e o vocabulário '''\n",
        "  if vetorPalavras==None:\n",
        "    count_vect = CountVectorizer(min_df=pct_min, max_df=pct_max, lowercase=True,stop_words=excluirSW, ngram_range=n_grams, max_features=n_top) \n",
        "  else:\n",
        "    count_vect = CountVectorizer(min_df=pct_min, max_df=pct_max, lowercase=True,stop_words=excluirSW, ngram_range=n_grams, vocabulary=vetorPalavras, max_features=n_top)\n",
        "  matriz_sparsa = count_vect.fit_transform(X)\n",
        "  vocabulario = count_vect.fit(X).vocabulary_\n",
        "  return [matriz_sparsa,vocabulario]\n",
        "\n",
        "def retornaMatriztfIdf(V):\n",
        "    ''' em cada documento, calcula o tf-idf de cada palavra\n",
        "        term frequency - inverse document frequency'''\n",
        "    tfidf_transformer = TfidfTransformer()\n",
        "    matriz_tfidf = tfidf_transformer.fit_transform(V)\n",
        "    return matriz_tfidf\n",
        "\n",
        "def reduzDimensionalidadecomPCA( X, nro_dimensao,UT=None):\n",
        "    data_pca= PCA(nro_dimensao)\n",
        "    if UT==None:\n",
        "        UT = data_pca.fit(X)\n",
        "    X_pca =  UT.fit_transform(X)\n",
        "      \n",
        "    return [UT,X_pca]\n",
        "\n",
        "def padronizaValores(X):\n",
        "  X_norm = StandardScaler(with_mean=False).fit_transform(X)\n",
        "  return X_norm\n",
        "\n",
        "def retornaPalavras(listaTexto:list):\n",
        "  words=\"\"\n",
        "  for i in listaTexto: \n",
        "    i = str(i) \n",
        "    separate = i.split() \n",
        "    for j in range(len(separate)): \n",
        "        separate[j] = separate[j].lower() \n",
        "  words += \" \".join(separate)+\" \"\n",
        "  return words\n",
        "def montaWordCloud(words, n_palavras:int, sw=None):\n",
        "  wc = WordCloud(width = 400, height = 200, \n",
        "                background_color ='black', max_words=n_palavras,\n",
        "                min_font_size = 10, stopwords = sw).generate(words)\n",
        "  return wc\n",
        "\n",
        "def imprimiWordCloud(listaTexto:list, n_palavras:int, cluster:str=None, sw=None):\n",
        "  words = retornaPalavras(listaTexto)\n",
        "  wc = montaWordCloud(words, n_palavras, sw)\n",
        "  plt.figure(figsize = (8, 8), facecolor = None) \n",
        "  plt.imshow(wc) \n",
        "  plt.axis(\"off\") \n",
        "  plt.tight_layout(pad = 0) \n",
        "  if not cluster == None:\n",
        "    plt.title('PALAVRAS PARA O CLUSTER ' + cluster)\n",
        "  plt.show()\n",
        "\n",
        "def preProcessaTextos(dfDados):\n",
        "  download_pt_stopWords()\n",
        "  dfDados['text'] = dfDados['text'].astype('unicode')\n",
        "  dfDados['text'] = dfDados['text'].map(removeCaracteresNaoDesejados)\n",
        "  dfDados['text'] = dfDados['text'].map(removeStopWords)\n",
        "  dfDados['text'] = dfDados['text'].map(aplicaStemming)\n",
        "  return dfDados\n",
        "  #dfDados['text'] = dfDados.loc[:,['text']].apply(lambda x: removeCaracteresNaoDesejados(x['text']),axis=1)\n",
        "  #dfDados['text'] = dfDados.loc[:,['text']].apply(lambda x: removeStopWords(x['text']),axis=1)\n",
        "  #dfDados['text'] = dfDados.loc[:,['text']].apply(lambda x: aplicaStemming(x['text']),axis=1)\n",
        "\n",
        "def PreProcessamentoParalelo(df, n_jobs):\n",
        "  df_split = np.array_split(df,n_jobs)\n",
        "  pool = Pool(n_jobs)\n",
        "  resultado = pool.map(preProcessaTextos, df_split)\n",
        "  df = pd.concat(resultado, sort=False)\n",
        "  return df\n",
        "\n",
        "def processaVetorizacao(dfDados,min_fr=0.01, max_fr=0.7, ngrams=(1,1),n_top=1000, localDestinoVocabulario=None):\n",
        "  arquivoVetores = 'count_vector.pkl'\n",
        "  if localDestinoVocabulario==None or Path(localDestinoVocabulario+\"/\"+arquivoVetores).is_file()==False:\n",
        "    vetorPalavras=None\n",
        "  else:\n",
        "    vetorPalavras = carregaEstrutura(localDestinoVocabulario, arquivoVetores)\n",
        "    if not vetorPalavras:\n",
        "      vetorPalavras=None\n",
        "  X = dfDados['text'].values\n",
        "  vetores = retornaVetorizacao(X = X,pct_min = min_fr,pct_max = max_fr,n_grams = ngrams,vetorPalavras = vetorPalavras,n_top = n_top)\n",
        "  if localDestinoVocabulario!=None:\n",
        "    salvaEstrutura(vetores[1],localDestinoVocabulario,arquivoVetores)\n",
        "  V = vetores[0]\n",
        "  return V\n",
        "\n",
        "def calcula_especificidade(matriz_confusao):\n",
        "  FP = matriz_confusao.sum(axis=0) - np.diag(matriz_confusao) \n",
        "  FN = matriz_confusao.sum(axis=1) - np.diag(matriz_confusao)\n",
        "  VP = np.diag(matriz_confusao)\n",
        "  VN = matriz_confusao.sum() - (FP + FN + VP)\n",
        "  FP = FP.astype(float)\n",
        "  FN = FN.astype(float)\n",
        "  VP = VP.astype(float)\n",
        "  VN = VN.astype(float)\n",
        "  TVN = np.sum(VN)/(np.sum(VN) + np.sum(FP))\n",
        "  return TVN\n",
        "\n",
        "def calcula_especificidade_porClasse(matriz_confusao):\n",
        "  FP = matriz_confusao.sum(axis=0) - np.diag(matriz_confusao) \n",
        "  FN = matriz_confusao.sum(axis=1) - np.diag(matriz_confusao)\n",
        "  VP = np.diag(matriz_confusao)\n",
        "  VN = matriz_confusao.sum() - (FP + FN + VP)\n",
        "  FP = FP.astype(float)\n",
        "  FN = FN.astype(float)\n",
        "  VP = VP.astype(float)\n",
        "  VN = VN.astype(float)\n",
        "  TVN = (VN)/(VN + FP)\n",
        "  return TVN\n",
        "\n",
        "def calcula_GMean_multiclass(revocacao):\n",
        "   revoc = np.array(revocacao)\n",
        "   GMean = revoc.prod()**(1.0/len(revoc))\n",
        "   return GMean \n",
        "\n",
        "def elabora_relatorio_metricas(report, matriz_confusao):\n",
        "  espec = calcula_especificidade_porClasse(matriz_confusao) # calcula o valor da especificidade para cada classe\n",
        "  dfrep = pd.DataFrame(report).transpose() #transforma o conteúdo do classification_report em um dataframe pandas\n",
        "  dfrep_a = dfrep[:-3].copy() # separa as métricas de cada classe do valor da acurácia geral do modelo\n",
        "  dfrep_a['specificity'] = espec # inclui no dataframe o valor da especificidade\n",
        "  dfrep_b  = dfrep[dfrep.index=='accuracy'].copy() #obtem do dataframe somente o valor da acurácia\n",
        "  dfrep_b['specificity']=calcula_especificidade(matriz_confusao) # inclui o valor da especificidade geral de todas as classes\n",
        "  metricas = ['precision', 'recall', 'specificity', 'f1-score', 'support'] #organiza as métricas na ordem desejada\n",
        "  df = pd.concat([dfrep_a[metricas],dfrep_b[metricas]],sort=False) #concatena todos os valores em um único dataframe\n",
        "  df['support'] = df['support'].astype('int')\n",
        "  return df\n",
        "\n",
        "def imprimeMetricas(y_pred, y_true, caminho_destino):\n",
        "  relatorio = \"\"\n",
        "  print('Classification Report:')\n",
        "  n_classe = np.max(y_true)+1 #obtem o número de classes\n",
        "  report = classification_report(y_true, y_pred, labels=np.arange(0,n_classe), digits=4, output_dict=True) #gera o relatório de métricas\n",
        "  cm = confusion_matrix(y_true, y_pred, labels=np.arange(0,n_classe)) #gera a matriz de confusao\n",
        "  report = elabora_relatorio_metricas(report, cm) #inclui no relatorio a especificidade\n",
        "  \n",
        "  print(report)\n",
        "\n",
        "  acuracia_score = accuracy_score(y_true, y_pred)\n",
        "  cohen_kappa = cohen_kappa_score(y_true, y_pred,labels=np.arange(0,n_classe))\n",
        "  ccmatheus = matthews_corrcoef(y_true, y_pred)\n",
        "  Gmean = calcula_GMean_multiclass(report['recall'])\n",
        "  acuracia_balanceada = balanced_accuracy_score(y_true, y_pred)\n",
        "\n",
        "  print(\"Acurácia:\",acuracia_score)\n",
        "  print('Acurácia balanceada:',acuracia_balanceada)\n",
        "  print('GMean:', Gmean)\n",
        "  print('Cohen Kappa Score:', cohen_kappa)\n",
        "  print('Coef. Correlacao Matheus:', ccmatheus)\n",
        "  \n",
        "  y = caminho_destino.split('/')\n",
        "  arquivo = y[-1:][0].split('.')[0]\n",
        "  report.to_csv('/'.join(y[:-1]) + '/' + arquivo + \".csv\", index=None)\n",
        "  outrasMetricas  = \"Acurácia:\" + str(acuracia_score)\n",
        "  outrasMetricas  += '\\n Acurácia balanceada:' + str(acuracia_balanceada)\n",
        "  outrasMetricas  += '\\n GMean:' + str(Gmean)\n",
        "  outrasMetricas  += '\\n Cohen Kappa Score:' + str(cohen_kappa)\n",
        "  outrasMetricas  += '\\n Coef. Correlacao Matheus:' + str(ccmatheus)\n",
        "  \n",
        "  \n",
        "  salvaEstrutura(outrasMetricas, '/'.join(y[:-1]), y[-1:][0])\n",
        "  \n",
        "\n",
        "def salvaEstrutura(estrutura, local, arquivo):\n",
        "  print('***SALVANDO***')\n",
        "  print(local + \"/\" + arquivo)\n",
        "  pickle.dump(estrutura,open(local + \"/\" + arquivo,'wb'))\n",
        "\n",
        "def carregaEstrutura(local, arquivo):\n",
        "  estrutura = pickle.load(open(local + \"/\" + arquivo,'rb'))\n",
        "  return estrutura"
      ],
      "execution_count": 5,
      "outputs": []
    },
    {
      "cell_type": "code",
      "metadata": {
        "id": "axZJheLQyB7i"
      },
      "source": [
        ""
      ],
      "execution_count": null,
      "outputs": []
    },
    {
      "cell_type": "markdown",
      "metadata": {
        "id": "j_Sln_Vau32S"
      },
      "source": [
        "# Prepara dataset para classificação com algoritmos clássicos"
      ]
    },
    {
      "cell_type": "code",
      "metadata": {
        "id": "zZ2xC0jmIIIE",
        "colab": {
          "base_uri": "https://localhost:8080/"
        },
        "outputId": "c64541f4-13d3-4a34-915a-c7cff7202f60"
      },
      "source": [
        "#dfDados = pd.read_csv('news_integradas.csv')\n",
        "dfTreino = pd.read_csv('./amostra_news_integrada/amostra_5/train.csv')\n",
        "dfvalidacao = pd.read_csv('./amostra_news_integrada/amostra_5/valid.csv')\n",
        "dfteste = pd.read_csv('./amostra_news_integrada/amostra_5/test.csv')\n",
        "dfteste = pd.concat([dfvalidacao, dfteste], sort=False)\n",
        "print(dfTreino.shape, dfteste.shape)"
      ],
      "execution_count": 6,
      "outputs": [
        {
          "output_type": "stream",
          "name": "stdout",
          "text": [
            "(15396, 2) (3849, 2)\n"
          ]
        }
      ]
    },
    {
      "cell_type": "code",
      "metadata": {
        "colab": {
          "base_uri": "https://localhost:8080/",
          "height": 622
        },
        "id": "1C8HtgdwILvc",
        "outputId": "7b2122ff-70fb-467e-e193-fff4a5b268eb"
      },
      "source": [
        "df = dfTreino['category_nro'].value_counts()\n",
        "print(dfTreino['category_nro'].unique().size)\n",
        "df.plot.bar(figsize=(14,10))\n",
        "#'politica', 'economia', 'esporte', 'mundo', 'ilustrada', 'midia', 'tecnologia', 'educação', 'saude', 'ciencia'"
      ],
      "execution_count": 7,
      "outputs": [
        {
          "output_type": "stream",
          "name": "stdout",
          "text": [
            "10\n"
          ]
        },
        {
          "output_type": "execute_result",
          "data": {
            "text/plain": [
              "<matplotlib.axes._subplots.AxesSubplot at 0x7f7ab519a890>"
            ]
          },
          "metadata": {},
          "execution_count": 7
        },
        {
          "output_type": "display_data",
          "data": {
            "image/png": "[encoded data removed]",
            "text/plain": [
              "<Figure size 1008x720 with 1 Axes>"
            ]
          },
          "metadata": {
            "needs_background": "light"
          }
        }
      ]
    },
    {
      "cell_type": "code",
      "metadata": {
        "colab": {
          "base_uri": "https://localhost:8080/"
        },
        "id": "2StJlfb_vCMx",
        "outputId": "cf19c2b7-5b3d-41d8-ac10-ef4514c0f95e"
      },
      "source": [
        "%%time\n",
        "dfPreProc = PreProcessamentoParalelo(dfTreino,mp.cpu_count())\n",
        "#dfPreProc = preProcessaTextos(dfTreino)\n"
      ],
      "execution_count": 8,
      "outputs": [
        {
          "output_type": "stream",
          "name": "stdout",
          "text": [
            "[nltk_data] Downloading package stopwords to /root/nltk_data...\n",
            "[nltk_data]   Unzipping corpora/stopwords.zip.\n",
            "[nltk_data] Downloading package stopwords to /root/nltk_data...\n",
            "[nltk_data] Downloading package rslp to /root/nltk_data...\n",
            "[nltk_data]   Package stopwords is already up-to-date!\n",
            "[nltk_data] Downloading package rslp to /root/nltk_data...\n",
            "[nltk_data]   Unzipping stemmers/rslp.zip.\n",
            "[nltk_data]   Unzipping stemmers/rslp.zip.\n",
            "CPU times: user 1.54 s, sys: 447 ms, total: 1.99 s\n",
            "Wall time: 3min 54s\n"
          ]
        }
      ]
    },
    {
      "cell_type": "code",
      "metadata": {
        "id": "7k3HMohJ3Dv9",
        "colab": {
          "base_uri": "https://localhost:8080/",
          "height": 867
        },
        "outputId": "5afacd12-cbe9-4f70-d40d-bf36642cce90"
      },
      "source": [
        "print(dfPreProc.shape)\n",
        "dfPreProc.head()"
      ],
      "execution_count": 9,
      "outputs": [
        {
          "output_type": "stream",
          "name": "stdout",
          "text": [
            "(15396, 2)\n"
          ]
        },
        {
          "output_type": "execute_result",
          "data": {
            "text/html": [
              "<div>\n",
              "<style scoped>\n",
              "    .dataframe tbody tr th:only-of-type {\n",
              "        vertical-align: middle;\n",
              "    }\n",
              "\n",
              "    .dataframe tbody tr th {\n",
              "        vertical-align: top;\n",
              "    }\n",
              "\n",
              "    .dataframe thead th {\n",
              "        text-align: right;\n",
              "    }\n",
              "</style>\n",
              "<table border=\"1\" class=\"dataframe\">\n",
              "  <thead>\n",
              "    <tr style=\"text-align: right;\">\n",
              "      <th></th>\n",
              "      <th>text</th>\n",
              "      <th>category_nro</th>\n",
              "    </tr>\n",
              "  </thead>\n",
              "  <tbody>\n",
              "    <tr>\n",
              "      <th>0</th>\n",
              "      <td>pouc ano vinic lanz encontr reaç chor prov result decepç ent ano isolous vesti mergulh desol profund enquant lágr corr rost míser cinc cent jog rio dentr própri estádi aquá olímp pouc mes sedi megaevent espor exempl vid nat replet vir part dest terç lanz chanc promov trezent setent set dia após frustr sele olímp cheg troféu mar lenk prim grand event nat nacion cicl melhor temp entr m borbolet eliminatór final nest terç tornei parqu aquá mar lenk dentr parqu olímp classificatóri mund budap julh vai marc pass bast geraçesthiag per exempl aposentous abril enquant país vê surg nom lanz outr ter ido jog bom mant fog brig vag final medalh tóqui diz min hoj ano represent min tênil club medalh prat campeonat mund júni cingap m borbolet lanz adot eua bas iníci estabeleceus bloomington est indi ond pass nad univers local estud veterinár institu pass ser orient ray looz técn integr seleç norteameric rio guru lilly king cody mill blak pieron tod medalh jog nest tempor nad brasil eleit capitã tim universit ray diss vin quer olimpí agor olh pra frent cont nad vag budap dev corrobor técn diss perd olimpí cinc cent aind machuc fez mant foc mai mudanç atitud resum luiz altam viv experi difer consegu classific jog rio prov m livr revez x m livr pass prim fas ambas nad reconhec aprend pod ser interess rum olimpí tóqui obje agor nest cicl tent fic melhor mund precis trein bast natur rora transfer flameng pinh nest tempor club paulist divid rai gabriel sant jog rio nad revez x m livr pedr card perd olimpí pouc fic terc m peit boa marc pinh readquir ces ciel nad vitori histór país mud filosof dispens medalh olímp brun fratu joã lucc apost nov safr perceb hor mud mental afirm técn princip club albert pint silv outr bom val est troféu mar lenk brandonn alme nad m medley m livr rio dev mud eua compet fund guilherm cost abril bat record sulameric m livr esper estabelecers expo ger confi mar lenk consegu melhor temp vou mund diss cris cois abal confianç promess situ turbulent pass cbd confeder brasil desport aquá acus corrupç quatr dirig pres mei entidad perd patrocíni brad viu despenc aport feit correi invest vai diminu bast vai ser dificuldad grand nov ger busc nov competiç lá afirm luiz altam nad diss esper nov gest transpar melhor melhor man ter credibil nov mud tud pens estratég busc nov patrocin renov palavr cert complement altam viníc lanz acris abat sobr confeder trist vai afet ger sobr dirig pres afirm justiç decid event troféu mar lenk terçaf eliminatór h final h m borbolet feminin masculin m livr f m m peit f m x m livr f m quartaf eliminatór h final h m cost f m m medley f m m livr f m livr m quintaf eliminatór h final h m livr f m m peit fem m cost f m m borbolet f m sextaf eliminatór h final h m medley f m m livr f m m cost f m m borbolet f m x m livr f m sáb eliminatór h final h m peit f m m livr f m m livr f m livr m x m medley f m</td>\n",
              "      <td>2</td>\n",
              "    </tr>\n",
              "    <tr>\n",
              "      <th>1</th>\n",
              "      <td>situ financ paul apes restriç desp lig aument arrecad registr recent delic secret fazend luil arrob martim diz arrecad icm impost sobr circul mercad prim semestr dev ser ncr milh r bilh fic ncr milh r bilh qued além distanci previs orçamentár govern est reduz desej orç secret educ seguranç públic</td>\n",
              "      <td>6</td>\n",
              "    </tr>\n",
              "    <tr>\n",
              "      <th>2</th>\n",
              "      <td>dezen milh pesso particip nest quartaf franç dia protest convoc sindic estud contr reform lei trabalh país impulsion govern ato respost intenç presid françoil holland permit empr mud jorn trabalh funcion além hor seman determin lei remuner adic nov model trabalh pod trabalh hor diár hor seman segu pact sindicat troc funcion pass receb folg extr faz part reform med reduz regr dem trabalh remot noturn med defend govern form reduz tax desempreg franç manifestaç reun trabalh desempreg estud respond cham sindicat mov estudantil protest cidad franc paril númer manifest cheg mil protest dest quart coincid grev funcion ferrov suburb long dist franc provoc atras tr tod país crít reform trabalh irrit mov soc espec porqu suger part social françoil holland ano hav consegu aprov jorn trabalh hor anteces holland conserv nicol sarkozy hav defend aument jorn lev propost adiant dev press sindicat frances ministr trabalh mir elkhomr defend lei avanç diss sindicat ouv primeiroministr manuel vall afirm propost retir emb diálog continu intenç govern envi med parl nest quart resist mov sindic dentr part social atras tramit</td>\n",
              "      <td>3</td>\n",
              "    </tr>\n",
              "    <tr>\n",
              "      <th>3</th>\n",
              "      <td>googl decid volt atrás decis proib pornograf plataform blog blogg receb muit crít blogu algum qual don págin déc conteúd explícit aind pod ser post mei ferrament desd blog marc adult jess pelegi gerent suport produt soc companh diz empr receb muit mens sobr proib espec sobr obrigatoriedad blogu apag imag eró mod retro desd iníci págin form sofr penal sit remov marc priv dispon apen don pesso qual compartilh conteúd aparec busc reclamaç sobr impact nega indivídu post conteúd sex explícit express ident diss pelegi companh pod ver saíd mass usu plataform tumblr decid recu googl hav alter term serviç blogg imped págin exib conteúd pornográf ger dinh don fic proib exib anúnci ness págin obje imped cri blog pratic repositóri conteúd explícit ger tráfeg outr sit pornô</td>\n",
              "      <td>6</td>\n",
              "    </tr>\n",
              "    <tr>\n",
              "      <th>4</th>\n",
              "      <td>converg discuss acerc bloquei whatsapp text relatóri final aprov cpi crim ciberné nest quartaf tent blind aplic mens instantâne últ hor adicion term ved bloquei aplic mens pessoal doi projet lei alt marc civil internet tod encaminh seil projet lei cpi vers sobr ampli defin invas comput aument rigor lei destin fistel fund fiscal telecomunicaç órg políci judiciár sobr mudanç marc civil relatóri aprov agor projet lei pres relatóri encaminh com câm projet lei prev bloquei aplicaç pont mai discuss comiss orig permit med judic oper internet bloque acess aplic sit utiliz prát crimin text final fic delimit aplicaç pod ser bloque apen hosped brasil represent país dedic prát ilícit pen mín crim send comet doi segund rela projet complement marc civil internet prev apen retir ar aplicaç internet entant especif dá process sit aplic hosped represent país text aprov cpi cri possibil juíz determin oper faç bloquei sess terç deput critic text afirm red banaliz bloquei aplic apen após crít parágraf blind whatsapp adicion debat esquent cpi após aplic ser bloque segundaf med juiz marcel montalv comarc lagart terç entant desembarg ricard múci sant abr lim tribun justiç sergip revog bloquei text aprov ating sit pirat disponibiliz list bittorrent arqu míd permit usu compartilh víde músic ileg transmiss míd além diss rela esp poss imped acess sit contrab tráf drog outr projet lei alt marc civil cpi tent permit remoç bloquei conteúd mei ord judic cas previst ness projet base pen mín ano crim pratic segund deput alessandr molon rederj vot contr relatóri mudanç text projet lei sufici garant liberdad usu red princip crít rela marc civil internet previs retir conteúd mei simpl decis judic permit chilling effect efeit resfr retiras conteúd judici decid sobr assunt enquant conteúd volt matas assunt diz molon subrela sandr alex ppspr afirm molon faz interpret err matér deput explic retir text possibil bloquei remoç crim pen men doi ano retir previs crim contr honr retir ach tent blind polít além diss aprov lei apen encaminh discuss divers com afirm alex</td>\n",
              "      <td>6</td>\n",
              "    </tr>\n",
              "  </tbody>\n",
              "</table>\n",
              "</div>"
            ],
            "text/plain": [
              "                                                                                                                                                                                                                                                                                                                                                                                                                                                                                                                                                                                                                                                                                                                                                                                                                                                                                                                                                                                                                                                                                                                                                                                                                                                                                                                                                                                                                                                                                                                                                                                                                                                                                                                                                                                                                                                                                                                                                                                                                                                                                                                                                                                                                                                                                                                                                                                                                                                                                                                                                                                                                                                                                                                                                                                                                                                                                                                                                                                       text  category_nro\n",
              "0  pouc ano vinic lanz encontr reaç chor prov result decepç ent ano isolous vesti mergulh desol profund enquant lágr corr rost míser cinc cent jog rio dentr própri estádi aquá olímp pouc mes sedi megaevent espor exempl vid nat replet vir part dest terç lanz chanc promov trezent setent set dia após frustr sele olímp cheg troféu mar lenk prim grand event nat nacion cicl melhor temp entr m borbolet eliminatór final nest terç tornei parqu aquá mar lenk dentr parqu olímp classificatóri mund budap julh vai marc pass bast geraçesthiag per exempl aposentous abril enquant país vê surg nom lanz outr ter ido jog bom mant fog brig vag final medalh tóqui diz min hoj ano represent min tênil club medalh prat campeonat mund júni cingap m borbolet lanz adot eua bas iníci estabeleceus bloomington est indi ond pass nad univers local estud veterinár institu pass ser orient ray looz técn integr seleç norteameric rio guru lilly king cody mill blak pieron tod medalh jog nest tempor nad brasil eleit capitã tim universit ray diss vin quer olimpí agor olh pra frent cont nad vag budap dev corrobor técn diss perd olimpí cinc cent aind machuc fez mant foc mai mudanç atitud resum luiz altam viv experi difer consegu classific jog rio prov m livr revez x m livr pass prim fas ambas nad reconhec aprend pod ser interess rum olimpí tóqui obje agor nest cicl tent fic melhor mund precis trein bast natur rora transfer flameng pinh nest tempor club paulist divid rai gabriel sant jog rio nad revez x m livr pedr card perd olimpí pouc fic terc m peit boa marc pinh readquir ces ciel nad vitori histór país mud filosof dispens medalh olímp brun fratu joã lucc apost nov safr perceb hor mud mental afirm técn princip club albert pint silv outr bom val est troféu mar lenk brandonn alme nad m medley m livr rio dev mud eua compet fund guilherm cost abril bat record sulameric m livr esper estabelecers expo ger confi mar lenk consegu melhor temp vou mund diss cris cois abal confianç promess situ turbulent pass cbd confeder brasil desport aquá acus corrupç quatr dirig pres mei entidad perd patrocíni brad viu despenc aport feit correi invest vai diminu bast vai ser dificuldad grand nov ger busc nov competiç lá afirm luiz altam nad diss esper nov gest transpar melhor melhor man ter credibil nov mud tud pens estratég busc nov patrocin renov palavr cert complement altam viníc lanz acris abat sobr confeder trist vai afet ger sobr dirig pres afirm justiç decid event troféu mar lenk terçaf eliminatór h final h m borbolet feminin masculin m livr f m m peit f m x m livr f m quartaf eliminatór h final h m cost f m m medley f m m livr f m livr m quintaf eliminatór h final h m livr f m m peit fem m cost f m m borbolet f m sextaf eliminatór h final h m medley f m m livr f m m cost f m m borbolet f m x m livr f m sáb eliminatór h final h m peit f m m livr f m m livr f m livr m x m medley f m             2\n",
              "1                                                                                                                                                                                                                                                                                                                                                                                                                                                                                                                                                                                                                                                                                                                                                                                                                                                                                                                                                                                                                                                                                                                                                                                                                                                                                                                                                                                                                                                                                                                                                                                                                                                                                                                                                                                                                                                                                                                                                                                                                                                                                                                                                                                                                                                                                                                                                                                                                                                                                                                                                                                                                                                                                 situ financ paul apes restriç desp lig aument arrecad registr recent delic secret fazend luil arrob martim diz arrecad icm impost sobr circul mercad prim semestr dev ser ncr milh r bilh fic ncr milh r bilh qued além distanci previs orçamentár govern est reduz desej orç secret educ seguranç públic             6\n",
              "2                                                                                                                                                                                                                                                                                                                                                                                                                                                                                                                                                                                                                                                                                                                                                                                                                                                                                                                                                                                                                                                                                                                                                                                                                                                                                                                                                                                                                                                                                                                                                                                                                                                                                                                                                                                                                            dezen milh pesso particip nest quartaf franç dia protest convoc sindic estud contr reform lei trabalh país impulsion govern ato respost intenç presid françoil holland permit empr mud jorn trabalh funcion além hor seman determin lei remuner adic nov model trabalh pod trabalh hor diár hor seman segu pact sindicat troc funcion pass receb folg extr faz part reform med reduz regr dem trabalh remot noturn med defend govern form reduz tax desempreg franç manifestaç reun trabalh desempreg estud respond cham sindicat mov estudantil protest cidad franc paril númer manifest cheg mil protest dest quart coincid grev funcion ferrov suburb long dist franc provoc atras tr tod país crít reform trabalh irrit mov soc espec porqu suger part social françoil holland ano hav consegu aprov jorn trabalh hor anteces holland conserv nicol sarkozy hav defend aument jorn lev propost adiant dev press sindicat frances ministr trabalh mir elkhomr defend lei avanç diss sindicat ouv primeiroministr manuel vall afirm propost retir emb diálog continu intenç govern envi med parl nest quart resist mov sindic dentr part social atras tramit             3\n",
              "3                                                                                                                                                                                                                                                                                                                                                                                                                                                                                                                                                                                                                                                                                                                                                                                                                                                                                                                                                                                                                                                                                                                                                                                                                                                                                                                                                                                                                                                                                                                                                                                                                                                                                                                                                                                                                                                                                                                                                                                                                                                                                                                                                                                       googl decid volt atrás decis proib pornograf plataform blog blogg receb muit crít blogu algum qual don págin déc conteúd explícit aind pod ser post mei ferrament desd blog marc adult jess pelegi gerent suport produt soc companh diz empr receb muit mens sobr proib espec sobr obrigatoriedad blogu apag imag eró mod retro desd iníci págin form sofr penal sit remov marc priv dispon apen don pesso qual compartilh conteúd aparec busc reclamaç sobr impact nega indivídu post conteúd sex explícit express ident diss pelegi companh pod ver saíd mass usu plataform tumblr decid recu googl hav alter term serviç blogg imped págin exib conteúd pornográf ger dinh don fic proib exib anúnci ness págin obje imped cri blog pratic repositóri conteúd explícit ger tráfeg outr sit pornô             6\n",
              "4                                                                                                                                                                                                                                                                                                                                                                                                                                                                                                                                                                                                                                                                                                                                                                                                                                                 converg discuss acerc bloquei whatsapp text relatóri final aprov cpi crim ciberné nest quartaf tent blind aplic mens instantâne últ hor adicion term ved bloquei aplic mens pessoal doi projet lei alt marc civil internet tod encaminh seil projet lei cpi vers sobr ampli defin invas comput aument rigor lei destin fistel fund fiscal telecomunicaç órg políci judiciár sobr mudanç marc civil relatóri aprov agor projet lei pres relatóri encaminh com câm projet lei prev bloquei aplicaç pont mai discuss comiss orig permit med judic oper internet bloque acess aplic sit utiliz prát crimin text final fic delimit aplicaç pod ser bloque apen hosped brasil represent país dedic prát ilícit pen mín crim send comet doi segund rela projet complement marc civil internet prev apen retir ar aplicaç internet entant especif dá process sit aplic hosped represent país text aprov cpi cri possibil juíz determin oper faç bloquei sess terç deput critic text afirm red banaliz bloquei aplic apen após crít parágraf blind whatsapp adicion debat esquent cpi após aplic ser bloque segundaf med juiz marcel montalv comarc lagart terç entant desembarg ricard múci sant abr lim tribun justiç sergip revog bloquei text aprov ating sit pirat disponibiliz list bittorrent arqu míd permit usu compartilh víde músic ileg transmiss míd além diss rela esp poss imped acess sit contrab tráf drog outr projet lei alt marc civil cpi tent permit remoç bloquei conteúd mei ord judic cas previst ness projet base pen mín ano crim pratic segund deput alessandr molon rederj vot contr relatóri mudanç text projet lei sufici garant liberdad usu red princip crít rela marc civil internet previs retir conteúd mei simpl decis judic permit chilling effect efeit resfr retiras conteúd judici decid sobr assunt enquant conteúd volt matas assunt diz molon subrela sandr alex ppspr afirm molon faz interpret err matér deput explic retir text possibil bloquei remoç crim pen men doi ano retir previs crim contr honr retir ach tent blind polít além diss aprov lei apen encaminh discuss divers com afirm alex             6"
            ]
          },
          "metadata": {},
          "execution_count": 9
        }
      ]
    },
    {
      "cell_type": "code",
      "metadata": {
        "colab": {
          "base_uri": "https://localhost:8080/"
        },
        "id": "dZoDVkllw61i",
        "outputId": "8f97e32c-624c-4a11-c69c-e1b0a314e779"
      },
      "source": [
        "dfPreProc_Teste = PreProcessamentoParalelo(dfteste,mp.cpu_count())\n",
        "print(dfPreProc_Teste.shape)"
      ],
      "execution_count": 10,
      "outputs": [
        {
          "output_type": "stream",
          "name": "stdout",
          "text": [
            "[nltk_data] Downloading package stopwords to /root/nltk_data...\n",
            "[nltk_data]   Package stopwords is already up-to-date!\n",
            "[nltk_data] Downloading package rslp to /root/nltk_data...\n",
            "[nltk_data]   Package rslp is already up-to-date!\n",
            "[nltk_data] Downloading package stopwords to /root/nltk_data...\n",
            "[nltk_data]   Package stopwords is already up-to-date!\n",
            "[nltk_data] Downloading package rslp to /root/nltk_data...\n",
            "[nltk_data]   Package rslp is already up-to-date!\n",
            "(3849, 2)\n"
          ]
        }
      ]
    },
    {
      "cell_type": "code",
      "metadata": {
        "id": "0IkNSOm1gria"
      },
      "source": [
        "V = processaVetorizacao(dfPreProc,min_fr=1, max_fr=1, ngrams=(1,2),n_top=10000)\n",
        "X_tfidf = retornaMatriztfIdf(V)\n",
        "y_treino = dfPreProc['category_nro'].values"
      ],
      "execution_count": 12,
      "outputs": []
    },
    {
      "cell_type": "code",
      "metadata": {
        "id": "GhwfvYOlkkm2"
      },
      "source": [
        "#X_treino_coseno = 1-cosine_similarity(X_tfidf)"
      ],
      "execution_count": null,
      "outputs": []
    },
    {
      "cell_type": "code",
      "metadata": {
        "id": "Qjm7SCGxxcui"
      },
      "source": [
        "V_teste = processaVetorizacao(dfPreProc_Teste,min_fr=1, max_fr=1, ngrams=(1,2),n_top=10000) \n",
        "X_tfidf_teste = retornaMatriztfIdf(V_teste)\n",
        "#X_teste_coseno = 1-cosine_similarity(X_tfidf_teste,X_tfidf_teste)\n",
        "y_teste = dfPreProc_Teste['category_nro'].values"
      ],
      "execution_count": 13,
      "outputs": []
    },
    {
      "cell_type": "code",
      "metadata": {
        "colab": {
          "base_uri": "https://localhost:8080/"
        },
        "id": "BZeL1qgXw6pG",
        "outputId": "9300633f-365e-47d9-9f54-046627ee3067"
      },
      "source": [
        "print(X_tfidf.shape, X_tfidf_teste.shape)"
      ],
      "execution_count": 14,
      "outputs": [
        {
          "output_type": "stream",
          "name": "stdout",
          "text": [
            "(15396, 10000) (3849, 10000)\n"
          ]
        }
      ]
    },
    {
      "cell_type": "code",
      "metadata": {
        "id": "0eUUOnr221FM",
        "colab": {
          "base_uri": "https://localhost:8080/",
          "height": 391
        },
        "outputId": "16f69c4a-67bb-422b-f9a7-0041c3b7174f"
      },
      "source": [
        "## mostrar o percentual de representatividade de cada dimensão do PCA\n",
        "data_pca=PCA(svd_solver='full')\n",
        "data_transformed = data_pca.fit(X_tfidf.toarray())\n",
        "plt.rcParams['figure.figsize'] = [12, 6]\n",
        "f, (ax1, ax2)  = plt.subplots(1,2)\n",
        "\n",
        "ax1.plot(data_pca.explained_variance_ratio_, '*') \n",
        "ax2.plot(data_pca.explained_variance_ratio_[:20], '*')"
      ],
      "execution_count": null,
      "outputs": [
        {
          "output_type": "execute_result",
          "data": {
            "text/plain": [
              "[<matplotlib.lines.Line2D at 0x7f55c3801910>]"
            ]
          },
          "metadata": {},
          "execution_count": 79
        },
        {
          "output_type": "display_data",
          "data": {
            "image/png": "[encoded data removed]",
            "text/plain": [
              "<Figure size 864x432 with 2 Axes>"
            ]
          },
          "metadata": {
            "needs_background": "light"
          }
        }
      ]
    },
    {
      "cell_type": "code",
      "metadata": {
        "id": "JiDR3vaag45Y"
      },
      "source": [
        " UT, X_treino_pca =  reduzDimensionalidadecomPCA(X_tfidf.toarray(), 3)\n",
        " X_teste_pca = reduzDimensionalidadecomPCA(X_tfidf_teste.toarray(),3, UT)[1]"
      ],
      "execution_count": null,
      "outputs": []
    },
    {
      "cell_type": "code",
      "metadata": {
        "id": "fbRcjFEiA3a7",
        "colab": {
          "base_uri": "https://localhost:8080/",
          "height": 163
        },
        "outputId": "9e02cfc2-7eae-4462-a000-e9b1686b1028"
      },
      "source": [
        "X_teste_pca.shape"
      ],
      "execution_count": null,
      "outputs": [
        {
          "output_type": "error",
          "ename": "NameError",
          "evalue": "ignored",
          "traceback": [
            "\u001b[0;31m---------------------------------------------------------------------------\u001b[0m",
            "\u001b[0;31mNameError\u001b[0m                                 Traceback (most recent call last)",
            "\u001b[0;32m<ipython-input-6-3ad79930982d>\u001b[0m in \u001b[0;36m<module>\u001b[0;34m()\u001b[0m\n\u001b[0;32m----> 1\u001b[0;31m \u001b[0mX_teste_pca\u001b[0m\u001b[0;34m.\u001b[0m\u001b[0mshape\u001b[0m\u001b[0;34m\u001b[0m\u001b[0;34m\u001b[0m\u001b[0m\n\u001b[0m",
            "\u001b[0;31mNameError\u001b[0m: name 'X_teste_pca' is not defined"
          ]
        }
      ]
    },
    {
      "cell_type": "markdown",
      "metadata": {
        "id": "nHx4qc9mmcqK"
      },
      "source": [
        "KNN"
      ]
    },
    {
      "cell_type": "code",
      "metadata": {
        "id": "-MeLUcf8Er-Y",
        "colab": {
          "base_uri": "https://localhost:8080/",
          "height": 410
        },
        "outputId": "a51f8614-7fda-41a6-ad8e-69d7071832f3"
      },
      "source": [
        "from sklearn.model_selection import cross_validate\n",
        "\n",
        "nkf = 10 #number of folds\n",
        "vk = [] # armazena os valores de k\n",
        "vscore = []\n",
        "for k in range(1, 20):\n",
        "    model = KNeighborsClassifier(n_neighbors=k, metric = 'euclidean')\n",
        "    # realiza a validação cruzada\n",
        "    cv = cross_validate(model, X_treino_pca, y_treino, cv=nkf)\n",
        "    #print('k:', k, 'accurace:', cv['test_score'].mean())\n",
        "    vscore.append(cv['test_score'].mean()) \n",
        "    vk.append(k)\n",
        "\n",
        "plt.plot(vk, vscore, '-bo')\n",
        "plt.xlabel('k', fontsize = 15)\n",
        "plt.ylabel('Accuracy', fontsize = 15)\n",
        "plt.show(True)\n",
        "best_k = np.argmax(vscore)+1\n",
        "print('Melhor k:', best_k, np.max(vscore))"
      ],
      "execution_count": null,
      "outputs": [
        {
          "output_type": "display_data",
          "data": {
            "image/png": "[encoded data removed]",
            "text/plain": [
              "<Figure size 864x432 with 1 Axes>"
            ]
          },
          "metadata": {
            "needs_background": "light"
          }
        },
        {
          "output_type": "stream",
          "name": "stdout",
          "text": [
            "Melhor k: 18 0.6396474772790562\n"
          ]
        }
      ]
    },
    {
      "cell_type": "code",
      "metadata": {
        "id": "BrOCYNk5ceLu",
        "colab": {
          "base_uri": "https://localhost:8080/"
        },
        "outputId": "efb10437-c169-4061-8605-efbf27473728"
      },
      "source": [
        "#sem pca\n",
        "model = KNeighborsClassifier(metric = 'cosine',\n",
        "                              n_neighbors= 7)\n",
        "model.fit(X_tfidf.toarray(), y_treino)"
      ],
      "execution_count": null,
      "outputs": [
        {
          "output_type": "execute_result",
          "data": {
            "text/plain": [
              "KNeighborsClassifier(algorithm='auto', leaf_size=30, metric='cosine',\n",
              "                     metric_params=None, n_jobs=None, n_neighbors=7,\n",
              "                     p=1.1128231580542005, weights='distance')"
            ]
          },
          "metadata": {},
          "execution_count": 28
        }
      ]
    },
    {
      "cell_type": "code",
      "metadata": {
        "id": "oPHHUE5e-B87",
        "colab": {
          "base_uri": "https://localhost:8080/"
        },
        "outputId": "b2bec0a3-f0b7-4530-ae68-2eb61105b583"
      },
      "source": [
        "#com pca\n",
        "model = KNeighborsClassifier(metric= 'euclidean',\n",
        "                             n_neighbors=3)\n",
        "model.fit(X_treino_pca, y_treino)"
      ],
      "execution_count": null,
      "outputs": [
        {
          "output_type": "execute_result",
          "data": {
            "text/plain": [
              "KNeighborsClassifier(algorithm='auto', leaf_size=30, metric='euclidean',\n",
              "                     metric_params=None, n_jobs=None, n_neighbors=3, p=2,\n",
              "                     weights='uniform')"
            ]
          },
          "metadata": {},
          "execution_count": 108
        }
      ]
    },
    {
      "cell_type": "code",
      "metadata": {
        "id": "oNbjlY4UXXJ_"
      },
      "source": [
        "#pickle.dump(model,open('./amostra_news_integrada/amostra_5/knn.pkl', \"wb\"))"
      ],
      "execution_count": null,
      "outputs": []
    },
    {
      "cell_type": "code",
      "metadata": {
        "id": "h3C1o_l9rwoj"
      },
      "source": [
        "#y_pred = model.predict(X_tfidf_teste.toarray())\n",
        "y_pred = model.predict(X_teste_pca)\n"
      ],
      "execution_count": null,
      "outputs": []
    },
    {
      "cell_type": "code",
      "metadata": {
        "id": "_hyjySwIlhCU",
        "colab": {
          "base_uri": "https://localhost:8080/"
        },
        "outputId": "84b81884-7e27-493b-c1bb-1a936060a30a"
      },
      "source": [
        "imprimeMetricas(y_pred, y_teste,'./classica_resp/knn_v1.scr')\n"
      ],
      "execution_count": null,
      "outputs": [
        {
          "output_type": "stream",
          "name": "stdout",
          "text": [
            "Classification Report:\n",
            "          precision    recall  specificity  f1-score  support\n",
            "0          0.010417  0.007812     0.917749  0.008929      384\n",
            "1          0.044706  0.047500     0.882285  0.046061      400\n",
            "2          0.005593  0.012376     0.741945  0.007704      404\n",
            "3          0.204969  0.155660     0.925255  0.176944      424\n",
            "4          0.205696  0.165394     0.927373  0.183357      393\n",
            "5          0.087324  0.076923     0.905978  0.081794      403\n",
            "6          0.055319  0.064516     0.871155  0.059565      403\n",
            "7          0.079823  0.087805     0.879325  0.083624      410\n",
            "8          0.000000  0.000000     0.970243  0.000000      354\n",
            "9          0.017857  0.014599     0.938462  0.016064      274\n",
            "accuracy   0.066251  0.066251     0.896250  0.066251        0\n",
            "Acurácia: 0.06625097427903351\n",
            "Acurácia balanceada: 0.06325861411679772\n",
            "GMean: 0.0\n",
            "Cohen Kappa Score: -0.04035319935563142\n",
            "Coef. Correlacao Matheus: -0.04087967786062633\n",
            "***SALVANDO***\n",
            "./classica_resp/knn_v1.scr\n"
          ]
        }
      ]
    },
    {
      "cell_type": "code",
      "metadata": {
        "id": "DeaPpUtK1nE6"
      },
      "source": [
        "#dfknnv1 = pd.read_csv('./classica_resp/knn_v1.csv')\n",
        "#print(dfknnv1)\n",
        "#carregaEstrutura('./classica_resp','knn_v1.scr')\n"
      ],
      "execution_count": null,
      "outputs": []
    },
    {
      "cell_type": "markdown",
      "metadata": {
        "id": "Rf5QWlxcQSMy"
      },
      "source": [
        "Naive-Bayes"
      ]
    },
    {
      "cell_type": "code",
      "metadata": {
        "id": "OjUHz0hxPgHJ",
        "colab": {
          "base_uri": "https://localhost:8080/",
          "height": 214
        },
        "outputId": "8a4c542e-c837-433a-cc49-faa4da7cf7d1"
      },
      "source": [
        "from sklearn.naive_bayes import GaussianNB\n",
        "model = GaussianNB().fit(X_treino_pca, y_treino)\n",
        "y_pred = model.predict(X_teste)\n",
        "imprimeMetricas(y_pred, y_teste,'./classica_resp/naives_v1.scr')"
      ],
      "execution_count": null,
      "outputs": [
        {
          "output_type": "error",
          "ename": "NameError",
          "evalue": "ignored",
          "traceback": [
            "\u001b[0;31m---------------------------------------------------------------------------\u001b[0m",
            "\u001b[0;31mNameError\u001b[0m                                 Traceback (most recent call last)",
            "\u001b[0;32m<ipython-input-5-7199a0b264ad>\u001b[0m in \u001b[0;36m<module>\u001b[0;34m()\u001b[0m\n\u001b[1;32m      1\u001b[0m \u001b[0;32mfrom\u001b[0m \u001b[0msklearn\u001b[0m\u001b[0;34m.\u001b[0m\u001b[0mnaive_bayes\u001b[0m \u001b[0;32mimport\u001b[0m \u001b[0mGaussianNB\u001b[0m\u001b[0;34m\u001b[0m\u001b[0;34m\u001b[0m\u001b[0m\n\u001b[0;32m----> 2\u001b[0;31m \u001b[0mmodel\u001b[0m \u001b[0;34m=\u001b[0m \u001b[0mGaussianNB\u001b[0m\u001b[0;34m(\u001b[0m\u001b[0;34m)\u001b[0m\u001b[0;34m.\u001b[0m\u001b[0mfit\u001b[0m\u001b[0;34m(\u001b[0m\u001b[0mX_treino_pca\u001b[0m\u001b[0;34m,\u001b[0m \u001b[0my_treino\u001b[0m\u001b[0;34m)\u001b[0m\u001b[0;34m\u001b[0m\u001b[0;34m\u001b[0m\u001b[0m\n\u001b[0m\u001b[1;32m      3\u001b[0m \u001b[0my_pred\u001b[0m \u001b[0;34m=\u001b[0m \u001b[0mmodel\u001b[0m\u001b[0;34m.\u001b[0m\u001b[0mpredict\u001b[0m\u001b[0;34m(\u001b[0m\u001b[0mX_teste\u001b[0m\u001b[0;34m)\u001b[0m\u001b[0;34m\u001b[0m\u001b[0;34m\u001b[0m\u001b[0m\n\u001b[1;32m      4\u001b[0m \u001b[0mimprimeMetricas\u001b[0m\u001b[0;34m(\u001b[0m\u001b[0my_pred\u001b[0m\u001b[0;34m,\u001b[0m \u001b[0my_teste\u001b[0m\u001b[0;34m,\u001b[0m\u001b[0;34m'./classica_resp/naives_v1.scr'\u001b[0m\u001b[0;34m)\u001b[0m\u001b[0;34m\u001b[0m\u001b[0;34m\u001b[0m\u001b[0m\n",
            "\u001b[0;31mNameError\u001b[0m: name 'X_treino_pca' is not defined"
          ]
        }
      ]
    },
    {
      "cell_type": "markdown",
      "metadata": {
        "id": "q-Co9Tgz3Mff"
      },
      "source": [
        "RANDOM FOREST CLASSIFIER"
      ]
    },
    {
      "cell_type": "code",
      "metadata": {
        "id": "1ZL0QcGYMFyx"
      },
      "source": [
        "vscore = []\n",
        "vn = []\n",
        "for n in range(100,500,10):\n",
        "    model = RandomForestClassifier(n_estimators=n)\n",
        "    model.fit(X_treino_pca,y_treino)\n",
        "    y_pred = model.predict(X_teste_pca) \n",
        "    score = accuracy_score(y_pred, y_teste)\n",
        "    print('Number of Estimators:', n, 'Accuracy:', score)\n",
        "    vscore.append(score)\n",
        "    vn.append(n)\n",
        "best_n = vn[np.argmax(vscore)]\n",
        "print('Melhor n:', best_n, ' com acurácia:', vscore[np.argmax(vscore)] )\n",
        "plt.figure(figsize=(10,5))\n",
        "plt.plot(vn, vscore, '-bo')\n",
        "plt.xlabel('Number of Estimators', fontsize = 15)\n",
        "plt.ylabel('Accuracy', fontsize = 15)\n",
        "plt.show()"
      ],
      "execution_count": null,
      "outputs": []
    },
    {
      "cell_type": "code",
      "metadata": {
        "id": "y3mX81g03Q-t"
      },
      "source": [
        "# Number of trees in random forest\n",
        "n_ini = int(np.floor(best_n/10)*10)\n",
        "n_estimators = [int(x) for x in np.linspace(start = n_ini, stop = n_ini+10, num = 10)]\n",
        "# Algoritmo de decisão para split \n",
        "criterion = ['gini','entropy']\n",
        "# Number of features to consider at every split\n",
        "max_features = ['auto', 'sqrt']\n",
        "# Minimum number of samples required to split a node\n",
        "min_samples_split = [2, 3, 5, 10,15]\n",
        "# Minimum number of samples required at each leaf node\n",
        "min_samples_leaf = [1,3,6,9]\n",
        "# Method of selecting samples for training each tree\n",
        "bootstrap = [True, False]\n",
        "# Create the random grid\n",
        "random_grid = {'n_estimators': n_estimators,\n",
        "               'criterion': criterion,\n",
        "               'max_features': max_features,\n",
        "               'bootstrap': bootstrap}\n",
        "print(random_grid)\n",
        "\n",
        "# Use the random grid to search for best hyperparameters\n",
        "# First create the base model to tune\n",
        "rf = RandomForestClassifier()\n",
        "# Random search of parameters, using 3 fold cross validation, \n",
        "# search across 100 different combinations, and use all available cores\n",
        "rf_random = RandomizedSearchCV(estimator = rf, \n",
        "                               param_distributions = random_grid, \n",
        "                               n_iter = 100, cv = 20, \n",
        "                               verbose=2, random_state=10, \n",
        "                               n_jobs = -1)\n",
        "# Fit the random search model\n",
        "inicio = datetime.now()\n",
        "rf_random.fit(X_treino_pca, y_treino)\n",
        "rf_random.best_params_\n",
        "print('Duração do treino:', datetime.now()-inicio)"
      ],
      "execution_count": null,
      "outputs": []
    },
    {
      "cell_type": "code",
      "metadata": {
        "colab": {
          "base_uri": "https://localhost:8080/"
        },
        "id": "exo3yRnQ5ljQ",
        "outputId": "736c2e44-2cbe-4096-d25b-2e2e1114d0da"
      },
      "source": [
        "model_rf = RandomForestClassifier(bootstrap= False,\n",
        "                                  max_depth= 66,\n",
        "                                  max_features= 'sqrt',\n",
        "                                  min_samples_leaf= 1,\n",
        "                                  min_samples_split= 5,\n",
        "                                  n_estimators= 500)\n",
        "model_rf.fit(X_tfidf.toarray(), y_treino)"
      ],
      "execution_count": null,
      "outputs": [
        {
          "output_type": "execute_result",
          "data": {
            "text/plain": [
              "RandomForestClassifier(bootstrap=False, ccp_alpha=0.0, class_weight=None,\n",
              "                       criterion='gini', max_depth=66, max_features='sqrt',\n",
              "                       max_leaf_nodes=None, max_samples=None,\n",
              "                       min_impurity_decrease=0.0, min_impurity_split=None,\n",
              "                       min_samples_leaf=1, min_samples_split=5,\n",
              "                       min_weight_fraction_leaf=0.0, n_estimators=500,\n",
              "                       n_jobs=None, oob_score=False, random_state=None,\n",
              "                       verbose=0, warm_start=False)"
            ]
          },
          "metadata": {},
          "execution_count": 72
        }
      ]
    },
    {
      "cell_type": "code",
      "metadata": {
        "id": "i7xS7A8yzpEg"
      },
      "source": [
        "y_pred = model_rf.predict(X_tfidf_teste.toarray())"
      ],
      "execution_count": null,
      "outputs": []
    },
    {
      "cell_type": "code",
      "metadata": {
        "colab": {
          "base_uri": "https://localhost:8080/"
        },
        "id": "aBLzjO49z0bc",
        "outputId": "58112eb4-9db6-46fd-b7c6-f304acbdc89f"
      },
      "source": [
        "imprimeMetricas(y_pred, y_teste,'./classica_resp/rf_v1.scr')"
      ],
      "execution_count": null,
      "outputs": [
        {
          "output_type": "stream",
          "name": "stdout",
          "text": [
            "Classification Report:\n",
            "          precision    recall  specificity  f1-score  support\n",
            "0          0.292135  0.067708     0.981818  0.109937      384\n",
            "1          0.261905  0.055000     0.982024  0.090909      400\n",
            "2          0.179907  0.190594     0.898113  0.185096      404\n",
            "3          0.127273  0.016509     0.985985  0.029228      424\n",
            "4          0.194878  0.445293     0.790799  0.271108      393\n",
            "5          0.140392  0.444169     0.681950  0.213349      403\n",
            "6          0.106494  0.101737     0.900174  0.104061      403\n",
            "7          0.111111  0.107317     0.897645  0.109181      410\n",
            "8          0.164103  0.090395     0.953362  0.116576      354\n",
            "9          0.136364  0.021898     0.989371  0.037736      274\n",
            "accuracy   0.158223  0.158223     0.906469  0.158223        0\n",
            "Acurácia: 0.15822291504286828\n",
            "Acurácia balanceada: 0.15406205183784066\n",
            "GMean: 0.09790808780998744\n",
            "Cohen Kappa Score: 0.06132218449758542\n",
            "Coef. Correlacao Matheus: 0.06489096206727893\n",
            "***SALVANDO***\n",
            "./classica_resp/rf_v1.scr\n"
          ]
        }
      ]
    },
    {
      "cell_type": "markdown",
      "metadata": {
        "id": "8JUWvaJ2_k5J"
      },
      "source": [
        "MLP Classifier"
      ]
    },
    {
      "cell_type": "code",
      "metadata": {
        "id": "hpnuuDIY_n94"
      },
      "source": [
        "mlp =  MLPClassifier(early_stopping=True)\n",
        "distributions = {'solver': ['adam','sgd'], \n",
        "              'hidden_layer_sizes':[(50,50),(100,100)], \n",
        "              'activation':['tanh','relu'],\n",
        "              'alpha':[1e-4, 5e-2],\n",
        "              'learning_rate':['constant', 'adaptive']}\n",
        "\n",
        "clf = RandomizedSearchCV(\n",
        "    estimator = mlp, # algoritmo de AM que queremos ajustar\n",
        "    param_distributions = distributions, # distribuição dos hiperparâmetros\n",
        "    n_iter = 50, # Número de hiperparâmetros selecionados\n",
        "    scoring = \"f1_macro\", # performance utilizada na cross-validação\n",
        "    n_jobs = -1, # número de core em paralelo\n",
        "    cv = 10, # tipo de cross-validação, no nosso caso 10-fold\n",
        "    verbose = 2,\n",
        "    random_state = 42\n",
        ")\n",
        "\n",
        "search = clf.fit(X_tfidf.toarray(), y_treino)\n",
        "result_knn = search.cv_results_\n",
        "search.best_params_"
      ],
      "execution_count": null,
      "outputs": []
    },
    {
      "cell_type": "code",
      "metadata": {
        "colab": {
          "base_uri": "https://localhost:8080/"
        },
        "id": "wVUY9gm2wNJm",
        "outputId": "83eb8171-fbed-4825-fe61-f21b02a4809d"
      },
      "source": [
        "model_mlp =  MLPClassifier(activation= 'tanh',\n",
        "                     alpha= 0.05,\n",
        "                     hidden_layer_sizes= (100, 100),\n",
        "                     learning_rate= 'adaptive',\n",
        "                     solver= 'adam',\n",
        "                     random_state=42, \n",
        "                     early_stopping=True)\n",
        "model_mlp.fit(X_tfidf.toarray(), y_treino)"
      ],
      "execution_count": null,
      "outputs": [
        {
          "output_type": "execute_result",
          "data": {
            "text/plain": [
              "MLPClassifier(activation='tanh', alpha=0.05, batch_size='auto', beta_1=0.9,\n",
              "              beta_2=0.999, early_stopping=True, epsilon=1e-08,\n",
              "              hidden_layer_sizes=(100, 100), learning_rate='adaptive',\n",
              "              learning_rate_init=0.001, max_fun=15000, max_iter=200,\n",
              "              momentum=0.9, n_iter_no_change=10, nesterovs_momentum=True,\n",
              "              power_t=0.5, random_state=42, shuffle=True, solver='adam',\n",
              "              tol=0.0001, validation_fraction=0.1, verbose=False,\n",
              "              warm_start=False)"
            ]
          },
          "metadata": {},
          "execution_count": 78
        }
      ]
    },
    {
      "cell_type": "code",
      "metadata": {
        "id": "L1IKlXGsw0iu"
      },
      "source": [
        "y_pred = model_mlp.predict(X_tfidf_teste.toarray())"
      ],
      "execution_count": null,
      "outputs": []
    },
    {
      "cell_type": "code",
      "metadata": {
        "colab": {
          "base_uri": "https://localhost:8080/"
        },
        "id": "iobw2ecSw79F",
        "outputId": "29e2e2d6-8772-4f06-9598-c72829c09de3"
      },
      "source": [
        "imprimeMetricas(y_pred, y_teste,'./classica_resp/mlp_v1.scr')"
      ],
      "execution_count": null,
      "outputs": [
        {
          "output_type": "stream",
          "name": "stdout",
          "text": [
            "Classification Report:\n",
            "          precision    recall  specificity  f1-score  support\n",
            "0          0.180672  0.111979     0.943723  0.138264      384\n",
            "1          0.158133  0.262500     0.837924  0.197368      400\n",
            "2          0.172619  0.071782     0.959652  0.101399      404\n",
            "3          0.169014  0.056604     0.965547  0.084806      424\n",
            "4          0.155589  0.262087     0.838252  0.195261      393\n",
            "5          0.151173  0.431762     0.716483  0.223938      403\n",
            "6          0.251163  0.133995     0.953279  0.174757      403\n",
            "7          0.271111  0.148780     0.952312  0.192126      410\n",
            "8          0.129944  0.064972     0.955937  0.086629      354\n",
            "9          0.149758  0.113139     0.950769  0.128898      274\n",
            "accuracy   0.168096  0.168096     0.907566  0.168096        0\n",
            "Acurácia: 0.16809560924915562\n",
            "Acurácia balanceada: 0.1657599381634339\n",
            "GMean: 0.13752920333524946\n",
            "Cohen Kappa Score: 0.07386402447533291\n",
            "Coef. Correlacao Matheus: 0.07669460498598306\n",
            "***SALVANDO***\n",
            "./classica_resp/mlp_v1.scr\n"
          ]
        }
      ]
    }
  ]
}