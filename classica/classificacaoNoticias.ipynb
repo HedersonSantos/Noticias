{
  "nbformat": 4,
  "nbformat_minor": 0,
  "metadata": {
    "colab": {
      "name": "clusterizacaoNoticias_ngrams_v2",
      "provenance": [],
      "collapsed_sections": []
    },
    "kernelspec": {
      "name": "python3",
      "display_name": "Python 3"
    },
    "language_info": {
      "name": "python"
    }
  },
  "cells": [
    {
      "cell_type": "code",
      "metadata": {
        "id": "Z6ntCB_ZoYIR"
      },
      "source": [
        "import pandas as pd\n",
        "import numpy as np\n",
        "from datetime import datetime\n",
        "import matplotlib.pyplot as plt\n",
        "from multiprocessing import Pool, Process\n",
        "import multiprocessing as mp\n",
        "from google.colab import files, drive\n",
        "import io, os\n",
        "import pickle\n",
        "import pyarrow.parquet as pq\n",
        "pd.set_option('display.max_rows', None)\n",
        "pd.set_option('display.max_colwidth', None)\n",
        "\n",
        "import nltk, re\n",
        "from nltk import word_tokenize\n",
        "from nltk.corpus import stopwords\n",
        "from wordcloud import WordCloud\n",
        "\n",
        "from scipy.stats import uniform, randint\n",
        "\n",
        "from sklearn.feature_extraction.text import CountVectorizer\n",
        "from sklearn.feature_extraction.text import TfidfTransformer\n",
        "from sklearn.model_selection import cross_val_score, KFold, RandomizedSearchCV\n",
        "from sklearn.decomposition import PCA\n",
        "from sklearn.decomposition import TruncatedSVD\n",
        "from sklearn.preprocessing import StandardScaler\n",
        "from sklearn.preprocessing import FunctionTransformer\n",
        "from sklearn.pipeline import make_pipeline\n",
        "\n",
        "from sklearn.metrics.pairwise import cosine_similarity\n",
        "from sklearn.neighbors import KNeighborsClassifier\n",
        "from sklearn.metrics import silhouette_samples,silhouette_score"
      ],
      "execution_count": 1,
      "outputs": []
    },
    {
      "cell_type": "markdown",
      "metadata": {
        "id": "ATJaqnNUqr_L"
      },
      "source": [
        "# Obtendo dataset de noticias tratadas em preProcessamento_noticias"
      ]
    },
    {
      "cell_type": "code",
      "metadata": {
        "colab": {
          "base_uri": "https://localhost:8080/"
        },
        "id": "NnmIRw0WowrK",
        "outputId": "cc22a5fe-b3fc-46a7-d911-d5322bd67386"
      },
      "source": [
        "#!rm news.*\n",
        "#!wget https://raw.githubusercontent.com/HedersonSantos/Noticias/main/news.zip\n",
        "#!unzip news.zip\n",
        "drive.mount('/gdrive')\n",
        "%cd /gdrive/My\\ Drive/Colab\\ Notebooks/nlp_tcc/\n",
        "!ls -lh \n"
      ],
      "execution_count": 2,
      "outputs": [
        {
          "output_type": "stream",
          "name": "stdout",
          "text": [
            "Drive already mounted at /gdrive; to attempt to forcibly remount, call drive.mount(\"/gdrive\", force_remount=True).\n",
            "/gdrive/My Drive/Colab Notebooks/nlp_tcc\n",
            "total 1.2G\n",
            "drwx------ 7 root root 4.0K Jul 31 20:13 amostra_news_integrada\n",
            "-rw------- 1 root root 481M Jul 24 17:03 articles.csv\n",
            "drwx------ 2 root root 4.0K Jul 31 17:49 bertimbau_base_results\n",
            "drwx------ 2 root root 4.0K Jul 31 19:09 bertimbau_test\n",
            "-rw------- 1 root root  93M Jul 24 15:58 news.csv\n",
            "-rw------- 1 root root 521M Jul 25 22:30 news_integradas.csv\n",
            "-rw------- 1 root root  93M Jul 24 15:42 noticia_tratada.csv\n"
          ]
        }
      ]
    },
    {
      "cell_type": "code",
      "metadata": {
        "colab": {
          "base_uri": "https://localhost:8080/"
        },
        "id": "hsW44sgpaDj-",
        "outputId": "a4c223db-8b8c-4a3b-8821-2bedc7a574cc"
      },
      "source": [
        "!ls ./amostra_news_integrada/amostra_5"
      ],
      "execution_count": 3,
      "outputs": [
        {
          "output_type": "stream",
          "name": "stdout",
          "text": [
            "amostra.csv  test.csv  train.csv  valid.csv\n"
          ]
        }
      ]
    },
    {
      "cell_type": "code",
      "metadata": {
        "colab": {
          "base_uri": "https://localhost:8080/"
        },
        "id": "6CQJzsnkYJz_",
        "outputId": "1d308fe6-b2c9-4335-f319-b22c27b35802"
      },
      "source": [
        "mp.cpu_count()"
      ],
      "execution_count": 4,
      "outputs": [
        {
          "output_type": "execute_result",
          "data": {
            "text/plain": [
              "2"
            ]
          },
          "metadata": {},
          "execution_count": 4
        }
      ]
    },
    {
      "cell_type": "markdown",
      "metadata": {
        "id": "hWX1z5Ntq-Ec"
      },
      "source": [
        "# Funções para processamento de Linguagem Natural"
      ]
    },
    {
      "cell_type": "code",
      "metadata": {
        "id": "jmvLl_wTrFR9"
      },
      "source": [
        "def download_pt_stopWords():\n",
        "\n",
        "  '''download das stopwords '''\n",
        "  nltk.download('stopwords') #stopwords\n",
        "  nltk.download('rslp')  #stemming\n",
        "        \n",
        "def removeStopWords( texto, excluirWords:list=None):\n",
        "  '''remove as stopwords do texto. Novas stopwords podem ser adicionadas através da lista excluirWords'''\n",
        "  naoQueridas = nltk.corpus.stopwords.words('portuguese')\n",
        "  if not excluirWords==None:\n",
        "    naoQueridas.extend(excluirWords)\n",
        "  naoQueridas = list(set(naoQueridas))\n",
        "  palavras = [i for i in texto.split() if not i.lower() in naoQueridas]\n",
        "  return (\" \".join(palavras))\n",
        "\n",
        "def aplicaStemming( texto):\n",
        "  ''' obtém o radical das palavras do vocabulário'''\n",
        "  stemmer = nltk.stem.RSLPStemmer()\n",
        "  palavras = []\n",
        "  for w in texto.split():\n",
        "      palavras.append(stemmer.stem(w))\n",
        "  return (\" \".join(palavras))\n",
        "\n",
        "def removeCaracteresNaoDesejados(texto):\n",
        "  textoLimpo = re.sub(r\"http\\S+\", \"\", texto)\n",
        "  textoLimpo = re.sub(r\"www\\..+\\..+\", \"\", texto)\n",
        "  textoLimpo = re.sub(r\"[^a-zA-ZáÁéÉíÍóÓúÚãÃàÀôâÂêÊôÔçÇ ]\", \"\", texto)\n",
        "  return textoLimpo\n",
        "\n",
        "def retornaVetorizacao(X,pct_min=1, pct_max=1, n_grams=(1,1), excluirSW:list=None):\n",
        "  ''' monta a matriz sparsa com o índice de vocabulário em cada texto. \n",
        "    Retorna a matriz sparsa e o vocabulário '''\n",
        "  count_vect = CountVectorizer(min_df=pct_min, max_df=pct_max, lowercase=True,stop_words=excluirSW, ngram_range=n_grams) \n",
        "  matriz_sparsa = count_vect.fit_transform(X)\n",
        "  vocabulario = count_vect.fit(X)\n",
        "  return [matriz_sparsa,count_vect]\n",
        "\n",
        "def retornaMatriztfIdf(V):\n",
        "    ''' em cada documento, calcula o tf-idf de cada palavra\n",
        "        term frequency - inverse document frequency'''\n",
        "    tfidf_transformer = TfidfTransformer()\n",
        "    matriz_tfidf = tfidf_transformer.fit_transform(V)\n",
        "    return matriz_tfidf\n",
        "\n",
        "def normalizaEreduzDimensionalidadecomPCA( X, nro_dimensao,UT=None):\n",
        "    data_pca= PCA(nro_dimensao)\n",
        "    if UT==None:\n",
        "        UT = data_pca.fit(X)\n",
        "    X_pca =  UT.fit_transform(X)\n",
        "      \n",
        "    return [UT,X_pca]\n",
        "\n",
        "def padronizaValores(X):\n",
        "  X_norm = StandardScaler(with_mean=False).fit_transform(X)\n",
        "  return X_norm\n",
        "\n",
        "def retornaPalavras(listaTexto:list):\n",
        "  words=\"\"\n",
        "  for i in listaTexto: \n",
        "    i = str(i) \n",
        "    separate = i.split() \n",
        "    for j in range(len(separate)): \n",
        "        separate[j] = separate[j].lower() \n",
        "  words += \" \".join(separate)+\" \"\n",
        "  return words\n",
        "def montaWordCloud(words, n_palavras:int, sw=None):\n",
        "  wc = WordCloud(width = 400, height = 200, \n",
        "                background_color ='black', max_words=n_palavras,\n",
        "                min_font_size = 10, stopwords = sw).generate(words)\n",
        "  return wc\n",
        "\n",
        "def imprimiWordCloud(listaTexto:list, n_palavras:int, cluster:str=None, sw=None):\n",
        "  words = retornaPalavras(listaTexto)\n",
        "  wc = montaWordCloud(words, n_palavras, sw)\n",
        "  plt.figure(figsize = (8, 8), facecolor = None) \n",
        "  plt.imshow(wc) \n",
        "  plt.axis(\"off\") \n",
        "  plt.tight_layout(pad = 0) \n",
        "  if not cluster == None:\n",
        "    plt.title('PALAVRAS PARA O CLUSTER ' + cluster)\n",
        "  plt.show()\n",
        "\n",
        "def preProcessaTextos(dfDados):\n",
        "  download_pt_stopWords()\n",
        "  dfDados['text'] = dfDados['text'].astype('unicode')\n",
        "  dfDados['text'] = dfDados['text'].map(removeCaracteresNaoDesejados)\n",
        "  dfDados['text'] = dfDados['text'].map(removeStopWords)\n",
        "  dfDados['text'] = dfDados['text'].map(aplicaStemming)\n",
        "  return dfDados\n",
        "  #dfDados['text'] = dfDados.loc[:,['text']].apply(lambda x: removeCaracteresNaoDesejados(x['text']),axis=1)\n",
        "  #dfDados['text'] = dfDados.loc[:,['text']].apply(lambda x: removeStopWords(x['text']),axis=1)\n",
        "  #dfDados['text'] = dfDados.loc[:,['text']].apply(lambda x: aplicaStemming(x['text']),axis=1)\n",
        "\n",
        "def PreProcessamentoParalelo(df, n_jobs):\n",
        "  df_split = np.array_split(df,n_jobs)\n",
        "  pool = Pool(n_jobs)\n",
        "  resultado = pool.map(preProcessaTextos, df_split)\n",
        "  df = pd.concat(resultado, sort=False)\n",
        "  return df\n",
        "\n",
        "def processaVetorizacao(dfDados,min_fr=0.01, max_fr=0.7, ngrams=(1,1)):\n",
        "  X = dfDados['text'].values\n",
        "  vetores = retornaVetorizacao(X,min_fr,max_fr,ngrams)\n",
        "  V = vetores[0]\n",
        "  return V\n",
        "\n",
        "def calcula_especificidade(matriz_confusao):\n",
        "  FP = matriz_confusao.sum(axis=0) - np.diag(matriz_confusao) \n",
        "  FN = matriz_confusao.sum(axis=1) - np.diag(matriz_confusao)\n",
        "  VP = np.diag(matriz_confusao)\n",
        "  VN = matriz_confusao.sum() - (FP + FN + VP)\n",
        "  FP = FP.astype(float)\n",
        "  FN = FN.astype(float)\n",
        "  VP = VP.astype(float)\n",
        "  VN = VN.astype(float)\n",
        "  TVN = np.sum(VN)/(np.sum(VN) + np.sum(FP))\n",
        "  return TVN\n",
        "\n",
        "def calcula_especificidade_porClasse(matriz_confusao):\n",
        "  FP = matriz_confusao.sum(axis=0) - np.diag(matriz_confusao) \n",
        "  FN = matriz_confusao.sum(axis=1) - np.diag(matriz_confusao)\n",
        "  VP = np.diag(matriz_confusao)\n",
        "  VN = matriz_confusao.sum() - (FP + FN + VP)\n",
        "  FP = FP.astype(float)\n",
        "  FN = FN.astype(float)\n",
        "  VP = VP.astype(float)\n",
        "  VN = VN.astype(float)\n",
        "  TVN = (VN)/(VN + FP)\n",
        "  return TVN\n",
        "\n",
        "def calcula_GMean_multiclass(revocacao):\n",
        "   revoc = np.array(revocacao)\n",
        "   GMean = revoc.prod()**(1.0/len(revoc))\n",
        "   return GMean \n",
        "\n",
        "def elabora_relatorio_metricas(report, matriz_confusao):\n",
        "  espec = calcula_especificidade_porClasse(matriz_confusao) # calcula o valor da especificidade para cada classe\n",
        "  dfrep = pd.DataFrame(report).transpose() #transforma o conteúdo do classification_report em um dataframe pandas\n",
        "  dfrep_a = dfrep[:-3].copy() # separa as métricas de cada classe do valor da acurácia geral do modelo\n",
        "  dfrep_a['specificity'] = espec # inclui no dataframe o valor da especificidade\n",
        "  dfrep_b  = dfrep[dfrep.index=='accuracy'].copy() #obtem do dataframe somente o valor da acurácia\n",
        "  dfrep_b['specificity']=calcula_especificidade(matriz_confusao) # inclui o valor da especificidade geral de todas as classes\n",
        "  metricas = ['precision', 'recall', 'specificity', 'f1-score', 'support'] #organiza as métricas na ordem desejada\n",
        "  df = pd.concat([dfrep_a[metricas],dfrep_b[metricas]],sort=False) #concatena todos os valores em um único dataframe\n",
        "  df['support'] = df['support'].astype('int')\n",
        "  return df\n",
        "\n",
        "def imprimeMetricas(y_pred, y_true, caminho_destino):\n",
        "  relatorio = \"\"\n",
        "  print('Classification Report:')\n",
        "  n_classe = np.max(y_true)+1 #obtem o número de classes\n",
        "  report = classification_report(y_true, y_pred, labels=np.arange(0,n_classe), digits=4, output_dict=True) #gera o relatório de métricas\n",
        "  cm = confusion_matrix(y_true, y_pred, labels=np.arange(0,n_classe)) #gera a matriz de confusao\n",
        "  report = elabora_relatorio_metricas(report, cm) #inclui no relatorio a especificidade\n",
        "  relatorio = report\n",
        "  print(report)\n",
        "\n",
        "  acuracia_score = accuracy_score(y_true, y_pred)\n",
        "  cohen_kappa = cohen_kappa_score(y_true, y_pred,labels=np.arange(0,n_classe))\n",
        "  ccmatheus = matthews_corrcoef(y_true, y_pred)\n",
        "  Gmean = calcula_GMean_multiclass(report['recall'])\n",
        "  acuracia_balanceada = balanced_accuracy_score(y_true, y_pred)\n",
        "\n",
        "  print(\"Acurácia:\",acuracia_score)\n",
        "  print('Acurácia balanceada:',acuracia_balanceada)\n",
        "  print('GMean:', Gmean)\n",
        "  print('Cohen Kappa Score:', cohen_kappa)\n",
        "  print('Coef. Correlacao Matheus:', ccmatheus)\n",
        "  relatorio += \"\\n\" + \"Acurácia: \" + str(acuracia_score)\n",
        "  relatorio += \"\\n\" + 'Acurácia balanceada: ' + str(acuracia_balanceada)\n",
        "  relatorio += \"\\n\" + 'GMean: ' + str(Gmean)\n",
        "  relatorio += \"\\n\" + 'Cohen Kappa Score: ' + str(cohen_kappa)\n",
        "  relatorio += \"\\n\" + 'Coef. Correlacao Matheus: '+ str(ccmatheus)\n",
        "  with open(caminho_destino, 'w') as f:\n",
        "    f.write(relatorio)\n"
      ],
      "execution_count": 5,
      "outputs": []
    },
    {
      "cell_type": "markdown",
      "metadata": {
        "id": "j_Sln_Vau32S"
      },
      "source": [
        "# Prepara dataset para clusterizacao"
      ]
    },
    {
      "cell_type": "code",
      "metadata": {
        "id": "zZ2xC0jmIIIE",
        "colab": {
          "base_uri": "https://localhost:8080/"
        },
        "outputId": "66969918-692b-4566-c9c4-6645f8e19fc3"
      },
      "source": [
        "#dfDados = pd.read_csv('news_integradas.csv')\n",
        "dfTreino = pd.read_csv('./amostra_news_integrada/amostra_5/train.csv')\n",
        "dfvalidacao = pd.read_csv('./amostra_news_integrada/amostra_5/valid.csv')\n",
        "dfteste = pd.read_csv('./amostra_news_integrada/amostra_5/test.csv')\n",
        "dfteste = pd.concat([dfvalidacao, dfteste], sort=False)\n",
        "print(dfTreino.shape, dfteste.shape)"
      ],
      "execution_count": 6,
      "outputs": [
        {
          "output_type": "stream",
          "name": "stdout",
          "text": [
            "(15396, 2) (3849, 2)\n"
          ]
        }
      ]
    },
    {
      "cell_type": "code",
      "metadata": {
        "colab": {
          "base_uri": "https://localhost:8080/",
          "height": 622
        },
        "id": "1C8HtgdwILvc",
        "outputId": "cc615452-b37b-4759-e306-d23825062dc9"
      },
      "source": [
        "df = dfTreino['category_nro'].value_counts()\n",
        "print(dfTreino['category_nro'].unique().size)\n",
        "df.plot.bar(figsize=(14,10))\n",
        "#'politica', 'economia', 'esporte', 'mundo', 'ilustrada', 'midia', 'tecnologia', 'educação', 'saude', 'ciencia'"
      ],
      "execution_count": 7,
      "outputs": [
        {
          "output_type": "stream",
          "name": "stdout",
          "text": [
            "10\n"
          ]
        },
        {
          "output_type": "execute_result",
          "data": {
            "text/plain": [
              "<matplotlib.axes._subplots.AxesSubplot at 0x7fb3384f2cd0>"
            ]
          },
          "metadata": {},
          "execution_count": 7
        },
        {
          "output_type": "display_data",
          "data": {
            "image/png": "[encoded data removed]",
            "text/plain": [
              "<Figure size 1008x720 with 1 Axes>"
            ]
          },
          "metadata": {
            "needs_background": "light"
          }
        }
      ]
    },
    {
      "cell_type": "code",
      "metadata": {
        "colab": {
          "base_uri": "https://localhost:8080/"
        },
        "id": "2StJlfb_vCMx",
        "outputId": "45fe7452-555d-4d60-efc3-a229468d6354"
      },
      "source": [
        "%%time\n",
        "dfPreProc = PreProcessamentoParalelo(dfTreino,mp.cpu_count())\n",
        "#dfPreProc = preProcessaTextos(dfTreino)\n"
      ],
      "execution_count": 8,
      "outputs": [
        {
          "output_type": "stream",
          "name": "stdout",
          "text": [
            "[nltk_data] Downloading package stopwords to /root/nltk_data...\n",
            "[nltk_data]   Package stopwords is already up-to-date!\n",
            "[nltk_data] Downloading package rslp to /root/nltk_data...\n",
            "[nltk_data]   Package rslp is already up-to-date!\n",
            "CPU times: user 3min 43s, sys: 722 ms, total: 3min 43s\n",
            "Wall time: 3min 44s\n"
          ]
        }
      ]
    },
    {
      "cell_type": "code",
      "metadata": {
        "id": "7k3HMohJ3Dv9"
      },
      "source": [
        "print(dfPreProc.shape)\n",
        "dfPreProc.head()"
      ],
      "execution_count": null,
      "outputs": []
    },
    {
      "cell_type": "code",
      "metadata": {
        "colab": {
          "base_uri": "https://localhost:8080/"
        },
        "id": "dZoDVkllw61i",
        "outputId": "5637aba9-e96b-46a6-aa01-059ea67babe5"
      },
      "source": [
        "dfPreProc_Teste = preProcessaTextos(dfteste)\n",
        "print(dfPreProc_Teste.shape)"
      ],
      "execution_count": 10,
      "outputs": [
        {
          "output_type": "stream",
          "name": "stdout",
          "text": [
            "[nltk_data] Downloading package stopwords to /root/nltk_data...\n",
            "[nltk_data]   Package stopwords is already up-to-date!\n",
            "[nltk_data] Downloading package rslp to /root/nltk_data...\n",
            "[nltk_data]   Package rslp is already up-to-date!\n",
            "(3849, 2)\n"
          ]
        }
      ]
    },
    {
      "cell_type": "code",
      "metadata": {
        "id": "0IkNSOm1gria"
      },
      "source": [
        "V = processaVetorizacao(dfPreProc,min_fr=0.05, max_fr=0.7, ngrams=(1,2))\n",
        "X_tfidf = retornaMatriztfIdf(V)\n",
        "y_treino = dfPreProc['category_nro'].values"
      ],
      "execution_count": 11,
      "outputs": []
    },
    {
      "cell_type": "code",
      "metadata": {
        "id": "GhwfvYOlkkm2"
      },
      "source": [
        "X_treino_coseno = 1 - cosine_similarity(X_tfidf, X_tfidf)"
      ],
      "execution_count": 12,
      "outputs": []
    },
    {
      "cell_type": "code",
      "metadata": {
        "id": "Qjm7SCGxxcui"
      },
      "source": [
        "V_teste = processaVetorizacao(dfPreProc_Teste,min_fr=0.05, max_fr=0.7, ngrams=(1,2))\n",
        "X_tfidf_teste = retornaMatriztfIdf(V_teste)\n",
        "X_teste_coseno = 1 - cosine_similarity(X_tfidf_teste, X_tfidf_teste)\n",
        "y_teste = dfPreProc_Teste['category_nro'].values"
      ],
      "execution_count": 13,
      "outputs": []
    },
    {
      "cell_type": "markdown",
      "metadata": {
        "id": "nHx4qc9mmcqK"
      },
      "source": [
        "KNN"
      ]
    },
    {
      "cell_type": "code",
      "metadata": {
        "colab": {
          "base_uri": "https://localhost:8080/"
        },
        "id": "ajm8XO3AcTWi",
        "outputId": "040c8f8f-e06d-446d-dbbc-6d7e8d6402e8"
      },
      "source": [
        "knn = KNeighborsClassifier()\n",
        "distributions = {\n",
        "    \"n_neighbors\": randint(low=2, high=10),\n",
        "    \"weights\": [\"uniform\", \"distance\"],\n",
        "    \"p\": uniform(loc=1, scale=2),\n",
        "    \"metric\": [\"precomputed\"]\n",
        "}\n",
        "clf = RandomizedSearchCV(\n",
        "    estimator = knn, # algoritmo de AM que queremos ajustar\n",
        "    param_distributions = distributions, # distribuição dos hiperparâmetros\n",
        "    n_iter = 50, # Número de hiperparâmetros selecionados\n",
        "    scoring = \"f1_macro\", # performance utilizada na cross-validação\n",
        "    n_jobs = -1, # número de core em paralelo\n",
        "    cv = 10, # tipo de cross-validação, no nosso caso 10-fold\n",
        "    verbose = 2,\n",
        "    random_state = 42\n",
        ")\n",
        "\n",
        "search = clf.fit(X_treino_coseno, y_treino)\n",
        "result_knn = search.cv_results_\n",
        "search.best_params_\n"
      ],
      "execution_count": null,
      "outputs": [
        {
          "output_type": "stream",
          "name": "stdout",
          "text": [
            "Fitting 10 folds for each of 50 candidates, totalling 500 fits\n"
          ]
        },
        {
          "output_type": "stream",
          "name": "stderr",
          "text": [
            "[Parallel(n_jobs=-1)]: Using backend LokyBackend with 2 concurrent workers.\n",
            "[Parallel(n_jobs=-1)]: Done  37 tasks      | elapsed:  1.2min\n",
            "[Parallel(n_jobs=-1)]: Done 158 tasks      | elapsed:  4.8min\n"
          ]
        }
      ]
    },
    {
      "cell_type": "code",
      "metadata": {
        "id": "h3C1o_l9rwoj"
      },
      "source": [
        "y_pred = clf.predict(X_teste_coseno)\n",
        "imprimeMetricas(y_pred, y_true,'./amostra_news_integrada/amostra_5/knn.scr')"
      ],
      "execution_count": null,
      "outputs": []
    }
  ]
}