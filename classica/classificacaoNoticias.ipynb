{
  "nbformat": 4,
  "nbformat_minor": 0,
  "metadata": {
    "colab": {
      "name": "clusterizacaoNoticias_ngrams_v2",
      "provenance": [],
      "collapsed_sections": []
    },
    "kernelspec": {
      "name": "python3",
      "display_name": "Python 3"
    },
    "language_info": {
      "name": "python"
    }
  },
  "cells": [
    {
      "cell_type": "code",
      "metadata": {
        "id": "Z6ntCB_ZoYIR"
      },
      "source": [
        "import pandas as pd\n",
        "import numpy as np\n",
        "from datetime import datetime\n",
        "import matplotlib.pyplot as plt\n",
        "import seaborn as sns\n",
        "sns.set(rc={'figure.figsize':(11.7,8.27)})\n",
        "palette = sns.color_palette(\"bright\", 10)\n",
        "from multiprocessing import Pool, Process\n",
        "import multiprocessing as mp\n",
        "from google.colab import files, drive\n",
        "from pathlib import Path\n",
        "import io, os\n",
        "import pickle\n",
        "import pyarrow.parquet as pq\n",
        "pd.set_option('display.max_rows', None)\n",
        "pd.set_option('display.max_colwidth', None)\n",
        "\n",
        "\n",
        "\n",
        "import nltk, re\n",
        "from nltk import word_tokenize\n",
        "from nltk.corpus import stopwords\n",
        "from wordcloud import WordCloud\n",
        "\n",
        "from scipy.stats import uniform, randint\n",
        "\n",
        "from sklearn.feature_extraction.text import CountVectorizer\n",
        "from sklearn.feature_extraction.text import TfidfTransformer\n",
        "from sklearn.model_selection import cross_val_score, KFold, RandomizedSearchCV\n",
        "from sklearn.decomposition import PCA\n",
        "from sklearn.decomposition import TruncatedSVD\n",
        "from sklearn.preprocessing import StandardScaler\n",
        "from sklearn.preprocessing import FunctionTransformer\n",
        "from sklearn.pipeline import make_pipeline\n",
        "\n",
        "\n",
        "from sklearn import feature_selection\n",
        "from sklearn.metrics.pairwise import cosine_similarity\n",
        "from sklearn.neighbors import KNeighborsClassifier\n",
        "from sklearn.naive_bayes import MultinomialNB\n",
        "from sklearn.naive_bayes import GaussianNB\n",
        "from sklearn.ensemble import RandomForestClassifier\n",
        "from sklearn.neural_network import MLPClassifier\n",
        "from sklearn.metrics import accuracy_score, precision_score, \\\n",
        "                            recall_score, confusion_matrix, \\\n",
        "                            plot_confusion_matrix, classification_report, \\\n",
        "                            balanced_accuracy_score, cohen_kappa_score, matthews_corrcoef, \\\n",
        "                            auc, roc_curve, precision_recall_curve"
      ],
      "execution_count": 18,
      "outputs": []
    },
    {
      "cell_type": "markdown",
      "metadata": {
        "id": "ATJaqnNUqr_L"
      },
      "source": [
        "# Obtendo dataset de noticias tratadas em preProcessamento_noticias"
      ]
    },
    {
      "cell_type": "code",
      "metadata": {
        "id": "NnmIRw0WowrK",
        "colab": {
          "base_uri": "https://localhost:8080/"
        },
        "outputId": "885d15fd-f56f-4df9-f097-1721a1b5796d"
      },
      "source": [
        "drive.mount('/gdrive')\n",
        "%cd /gdrive/My\\ Drive/Colab\\ Notebooks/\n",
        "!ls -lh \n"
      ],
      "execution_count": 19,
      "outputs": [
        {
          "output_type": "stream",
          "name": "stdout",
          "text": [
            "Drive already mounted at /gdrive; to attempt to forcibly remount, call drive.mount(\"/gdrive\", force_remount=True).\n",
            "/gdrive/My Drive/Colab Notebooks\n",
            "total 5.2M\n",
            "drwx------ 3 root root 4.0K Aug 31 12:22  amostra_news_integrada\n",
            "-rw------- 1 root root  57K Jul 13 19:50  artigosWikibr.ipynb\n",
            "-rw------- 1 root root 990K Sep 17 19:18  Avaliação_Final_Enunciado.ipynb\n",
            "drwx------ 2 root root 4.0K Aug 30 22:59  bertimbau\n",
            "drwx------ 2 root root 4.0K Aug  7 13:00  bertimbau_resp\n",
            "drwx------ 2 root root 4.0K Sep  1 13:17  classica_resp\n",
            "-rw------- 1 root root 125K Sep  6 10:58  classificacaoNoticiasW2vec\n",
            "-rw------- 1 root root 168K Aug 23 20:02 'Cópia de BERTimbau_Testes.ipynb'\n",
            "-rw------- 1 root root  84K Sep  9 20:07 'Cópia de classificacaoNoticiasW2vec'\n",
            "-rw------- 1 root root 3.7M Sep  9 18:27 'Cópia de classificacaoNoticiasW2vec (1)'\n",
            "drwx------ 2 root root 4.0K Aug 16 22:40  figuras\n",
            "-rw------- 1 root root 9.7K Aug 16 23:41  ResultadosExperimentos.ipynb\n",
            "-rw------- 1 root root 7.5K Sep 18 23:20  t_sne.ipynb\n",
            "-rw------- 1 root root  38K Sep 22 00:27  ULMFit_Noticias.ipynb\n",
            "drwx------ 2 root root 4.0K Sep 21 00:05  ulmfit_resp\n",
            "-rw------- 1 root root  306 Jul 12 18:08  Untitled\n",
            "-rw------- 1 root root 9.5K Sep  2 18:02  Untitled0.ipynb\n",
            "-rw------- 1 root root 1.2K Jul 12 17:26  Untitled1.ipynb\n",
            "-rw------- 1 root root 2.3K Sep  3 11:25  Untitled2.ipynb\n",
            "-rw------- 1 root root 3.5K Sep 18 13:19  Untitled3.ipynb\n"
          ]
        }
      ]
    },
    {
      "cell_type": "code",
      "metadata": {
        "colab": {
          "base_uri": "https://localhost:8080/"
        },
        "id": "hsW44sgpaDj-",
        "outputId": "36c8311a-25d7-43cc-ef78-40500bef1705"
      },
      "source": [
        "%cd /gdrive/My\\ Drive/Colab\\ Notebooks/\n",
        "!ls ./amostra_news_integrada/amostra_5\n"
      ],
      "execution_count": 20,
      "outputs": [
        {
          "output_type": "stream",
          "name": "stdout",
          "text": [
            "/gdrive/My Drive/Colab Notebooks\n",
            "amostra5.zip  test.csv\ttrain.csv  valid.csv\n"
          ]
        }
      ]
    },
    {
      "cell_type": "code",
      "metadata": {
        "colab": {
          "base_uri": "https://localhost:8080/"
        },
        "id": "6CQJzsnkYJz_",
        "outputId": "610acb90-b671-4933-d306-1e5566b06dc2"
      },
      "source": [
        "mp.cpu_count()"
      ],
      "execution_count": 21,
      "outputs": [
        {
          "output_type": "execute_result",
          "data": {
            "text/plain": [
              "2"
            ]
          },
          "metadata": {},
          "execution_count": 21
        }
      ]
    },
    {
      "cell_type": "code",
      "metadata": {
        "id": "jmvLl_wTrFR9"
      },
      "source": [
        "def download_pt_stopWords():\n",
        "\n",
        "  '''download das stopwords '''\n",
        "  nltk.download('stopwords') #stopwords\n",
        "  nltk.download('rslp')  #stemming\n",
        "        \n",
        "def removeStopWords( texto, excluirWords:list=None):\n",
        "  '''remove as stopwords do texto. Novas stopwords podem ser adicionadas através da lista excluirWords'''\n",
        "  naoQueridas = nltk.corpus.stopwords.words('portuguese')\n",
        "  if not excluirWords==None:\n",
        "    naoQueridas.extend(excluirWords)\n",
        "  naoQueridas = list(set(naoQueridas))\n",
        "  palavras = [i for i in texto.split() if not i.lower() in naoQueridas]\n",
        "  return (\" \".join(palavras))\n",
        "\n",
        "def aplicaStemming( texto):\n",
        "  ''' obtém o radical das palavras do vocabulário'''\n",
        "  stemmer = nltk.stem.RSLPStemmer()\n",
        "  palavras = []\n",
        "  for w in texto.split():\n",
        "      palavras.append(stemmer.stem(w))\n",
        "  return (\" \".join(palavras))\n",
        "\n",
        "def aplicaLemmatization( texto):\n",
        "  ''' obtém o radical das palavras do vocabulário'''\n",
        "  lemm = nltk.stem.RSLPStemmer()\n",
        "  palavras = []\n",
        "  for w in texto.split():\n",
        "      palavras.append(stemmer.stem(w))\n",
        "  return (\" \".join(palavras))\n",
        "\n",
        "\n",
        "def removeCaracteresNaoDesejados(texto):\n",
        "  textoLimpo = re.sub(r\"http\\S+\", \"\", texto)\n",
        "  textoLimpo = re.sub(r\"www\\..+\\..+\", \"\", texto)\n",
        "  textoLimpo = re.sub(r\"[^a-zA-ZáÁéÉíÍóÓúÚãÃàÀôâÂêÊôÔçÇ ]\", \"\", texto)\n",
        "  return textoLimpo\n",
        "\n",
        "def retornaVetorizacao(X,pct_min=1, pct_max=1, n_grams=(1,1), excluirSW:list=None, vetorPalavras=None, n_top=None):\n",
        "  ''' monta a matriz sparsa com o índice de vocabulário em cada texto. \n",
        "    Retorna a matriz sparsa e o vocabulário '''\n",
        "  if vetorPalavras==None:\n",
        "    count_vect = CountVectorizer(min_df=pct_min, max_df=pct_max, lowercase=True,stop_words=excluirSW, ngram_range=n_grams, max_features=n_top) \n",
        "  else:\n",
        "    count_vect = CountVectorizer(min_df=pct_min, max_df=pct_max, lowercase=True,stop_words=excluirSW, ngram_range=n_grams, vocabulary=vetorPalavras, max_features=n_top)\n",
        "  matriz_sparsa = count_vect.fit_transform(X)\n",
        "  vocabulario = count_vect.fit(X).vocabulary_\n",
        "  return [matriz_sparsa,vocabulario]\n",
        "\n",
        "def retornaMatriztfIdf(V):\n",
        "    ''' em cada documento, calcula o tf-idf de cada palavra\n",
        "        term frequency - inverse document frequency'''\n",
        "    tfidf_transformer = TfidfTransformer()\n",
        "    matriz_tfidf = tfidf_transformer.fit_transform(V)\n",
        "    return matriz_tfidf\n",
        "\n",
        "def reduzDimensionalidadecomPCA( X, nro_dimensao,UT=None):\n",
        "    data_pca= PCA(nro_dimensao)\n",
        "    if UT==None:\n",
        "        UT = data_pca.fit(X)\n",
        "    X_pca =  UT.fit_transform(X)\n",
        "      \n",
        "    return [UT,X_pca]\n",
        "\n",
        "def padronizaValores(X):\n",
        "  X_norm = StandardScaler(with_mean=False).fit_transform(X)\n",
        "  return X_norm\n",
        "\n",
        "def retornaPalavras(listaTexto:list):\n",
        "  words=\"\"\n",
        "  for i in listaTexto: \n",
        "    i = str(i) \n",
        "    separate = i.split() \n",
        "    for j in range(len(separate)): \n",
        "        separate[j] = separate[j].lower() \n",
        "  words += \" \".join(separate)+\" \"\n",
        "  return words\n",
        "def montaWordCloud(words, n_palavras:int, sw=None):\n",
        "  wc = WordCloud(width = 400, height = 200, \n",
        "                background_color ='black', max_words=n_palavras,\n",
        "                min_font_size = 10, stopwords = sw).generate(words)\n",
        "  return wc\n",
        "\n",
        "def imprimiWordCloud(listaTexto:list, n_palavras:int, cluster:str=None, sw=None):\n",
        "  words = retornaPalavras(listaTexto)\n",
        "  wc = montaWordCloud(words, n_palavras, sw)\n",
        "  plt.figure(figsize = (8, 8), facecolor = None) \n",
        "  plt.imshow(wc) \n",
        "  plt.axis(\"off\") \n",
        "  plt.tight_layout(pad = 0) \n",
        "  if not cluster == None:\n",
        "    plt.title('PALAVRAS PARA O CLUSTER ' + cluster)\n",
        "  plt.show()\n",
        "\n",
        "def preProcessaTextos(dfDados):\n",
        "  download_pt_stopWords()\n",
        "  dfDados['text'] = dfDados['text'].astype('unicode')\n",
        "  dfDados['text'] = dfDados['text'].map(removeCaracteresNaoDesejados)\n",
        "  dfDados['text'] = dfDados['text'].map(removeStopWords)\n",
        "  dfDados['text'] = dfDados['text'].map(aplicaStemming)\n",
        "  return dfDados\n",
        "  #dfDados['text'] = dfDados.loc[:,['text']].apply(lambda x: removeCaracteresNaoDesejados(x['text']),axis=1)\n",
        "  #dfDados['text'] = dfDados.loc[:,['text']].apply(lambda x: removeStopWords(x['text']),axis=1)\n",
        "  #dfDados['text'] = dfDados.loc[:,['text']].apply(lambda x: aplicaStemming(x['text']),axis=1)\n",
        "\n",
        "def PreProcessamentoParalelo(df, n_jobs):\n",
        "  df_split = np.array_split(df,n_jobs)\n",
        "  pool = Pool(n_jobs)\n",
        "  resultado = pool.map(preProcessaTextos, df_split)\n",
        "  df = pd.concat(resultado, sort=False)\n",
        "  return df\n",
        "\n",
        "def processaVetorizacao(dfDados,min_fr=0.01, max_fr=0.7, ngrams=(1,1),n_top=None, localDestinoVocabulario=None, vocabulario=None):\n",
        "  arquivoVetores = 'count_vector.pkl'\n",
        "  if vocabulario != None:\n",
        "    vetorPalavras=vocabulario\n",
        "  elif localDestinoVocabulario==None or Path(localDestinoVocabulario+\"/\"+arquivoVetores).is_file()==False:\n",
        "    vetorPalavras=None\n",
        "  else:\n",
        "    vetorPalavras = carregaEstrutura(localDestinoVocabulario, arquivoVetores)\n",
        "    if not vetorPalavras:\n",
        "      vetorPalavras=None\n",
        "  X = dfDados['text'].values\n",
        "  vetores = retornaVetorizacao(X = X,pct_min = min_fr,pct_max = max_fr,n_grams = ngrams,vetorPalavras = vetorPalavras,n_top = n_top)\n",
        "  if localDestinoVocabulario!=None:\n",
        "    salvaEstrutura(vetores[1],localDestinoVocabulario,arquivoVetores)\n",
        "  V = vetores[0]\n",
        "  return vetores\n",
        "\n",
        "def calcula_especificidade(matriz_confusao):\n",
        "  FP = matriz_confusao.sum(axis=0) - np.diag(matriz_confusao) \n",
        "  FN = matriz_confusao.sum(axis=1) - np.diag(matriz_confusao)\n",
        "  VP = np.diag(matriz_confusao)\n",
        "  VN = matriz_confusao.sum() - (FP + FN + VP)\n",
        "  FP = FP.astype(float)\n",
        "  FN = FN.astype(float)\n",
        "  VP = VP.astype(float)\n",
        "  VN = VN.astype(float)\n",
        "  TVN = np.sum(VN)/(np.sum(VN) + np.sum(FP))\n",
        "  return TVN\n",
        "\n",
        "def calcula_especificidade_porClasse(matriz_confusao):\n",
        "  FP = matriz_confusao.sum(axis=0) - np.diag(matriz_confusao) \n",
        "  FN = matriz_confusao.sum(axis=1) - np.diag(matriz_confusao)\n",
        "  VP = np.diag(matriz_confusao)\n",
        "  VN = matriz_confusao.sum() - (FP + FN + VP)\n",
        "  FP = FP.astype(float)\n",
        "  FN = FN.astype(float)\n",
        "  VP = VP.astype(float)\n",
        "  VN = VN.astype(float)\n",
        "  TVN = (VN)/(VN + FP)\n",
        "  return TVN\n",
        "\n",
        "def calcula_GMean_multiclass(revocacao):\n",
        "   revoc = np.array(revocacao)\n",
        "   GMean = revoc.prod()**(1.0/len(revoc))\n",
        "   return GMean \n",
        "\n",
        "def elabora_relatorio_metricas(report, matriz_confusao):\n",
        "  espec = calcula_especificidade_porClasse(matriz_confusao) # calcula o valor da especificidade para cada classe\n",
        "  dfrep = pd.DataFrame(report).transpose() #transforma o conteúdo do classification_report em um dataframe pandas\n",
        "  dfrep_a = dfrep[:-3].copy() # separa as métricas de cada classe do valor da acurácia geral do modelo\n",
        "  dfrep_a['specificity'] = espec # inclui no dataframe o valor da especificidade\n",
        "  dfrep_b  = dfrep[dfrep.index=='accuracy'].copy() #obtem do dataframe somente o valor da acurácia\n",
        "  dfrep_b['specificity']=calcula_especificidade(matriz_confusao) # inclui o valor da especificidade geral de todas as classes\n",
        "  metricas = ['precision', 'recall', 'specificity', 'f1-score', 'support'] #organiza as métricas na ordem desejada\n",
        "  df = pd.concat([dfrep_a[metricas],dfrep_b[metricas]],sort=False) #concatena todos os valores em um único dataframe\n",
        "  df['support'] = df['support'].astype('int')\n",
        "  return df\n",
        "\n",
        "def imprimeMetricas(y_pred, y_true, caminho_destino):\n",
        "  relatorio = \"\"\n",
        "  print('Classification Report:')\n",
        "  n_classe = np.max(y_true)+1 #obtem o número de classes\n",
        "  report = classification_report(y_true, y_pred, labels=np.arange(0,n_classe), digits=4, output_dict=True) #gera o relatório de métricas\n",
        "  cm = confusion_matrix(y_true, y_pred, labels=np.arange(0,n_classe)) #gera a matriz de confusao\n",
        "  report = elabora_relatorio_metricas(report, cm) #inclui no relatorio a especificidade\n",
        "  \n",
        "  print(report)\n",
        "\n",
        "  acuracia_score = accuracy_score(y_true, y_pred)\n",
        "  cohen_kappa = cohen_kappa_score(y_true, y_pred,labels=np.arange(0,n_classe))\n",
        "  ccmatheus = matthews_corrcoef(y_true, y_pred)\n",
        "  Gmean = calcula_GMean_multiclass(report['recall'])\n",
        "  acuracia_balanceada = balanced_accuracy_score(y_true, y_pred)\n",
        "\n",
        "  print(\"Acurácia:\",acuracia_score)\n",
        "  print('Acurácia balanceada:',acuracia_balanceada)\n",
        "  print('GMean:', Gmean)\n",
        "  print('Cohen Kappa Score:', cohen_kappa)\n",
        "  print('Coef. Correlacao Matheus:', ccmatheus)\n",
        "  \n",
        "  y = caminho_destino.split('/')\n",
        "  arquivo = y[-1:][0].split('.')[0]\n",
        "  report.to_csv('/'.join(y[:-1]) + '/' + arquivo + \".csv\", index=None)\n",
        "  outrasMetricas  = \"Acurácia:\" + str(acuracia_score)\n",
        "  outrasMetricas  += '\\n Acurácia balanceada:' + str(acuracia_balanceada)\n",
        "  outrasMetricas  += '\\n GMean:' + str(Gmean)\n",
        "  outrasMetricas  += '\\n Cohen Kappa Score:' + str(cohen_kappa)\n",
        "  outrasMetricas  += '\\n Coef. Correlacao Matheus:' + str(ccmatheus)\n",
        "  \n",
        "  \n",
        "  salvaEstrutura(outrasMetricas, '/'.join(y[:-1]), y[-1:][0])\n",
        "  \n",
        "\n",
        "def salvaEstrutura(estrutura, local, arquivo):\n",
        "  print('***SALVANDO***')\n",
        "  print(local + \"/\" + arquivo)\n",
        "  pickle.dump(estrutura,open(local + \"/\" + arquivo,'wb'))\n",
        "\n",
        "def carregaEstrutura(local, arquivo):\n",
        "  estrutura = pickle.load(open(local + \"/\" + arquivo,'rb'))\n",
        "  return estrutura\n",
        "\n",
        "def imprimeROC_PrecisonRecall_curvas(y_teste,predicted_prob):\n",
        "  classes = np.unique(y_teste)\n",
        "  y_test_array = pd.get_dummies(y_teste, drop_first=False).values\n",
        "  fig, ax = plt.subplots(figsize=(12,8),nrows=1, ncols=2)\n",
        "  ## Plot roc\n",
        "  for i in range(len(classes)):\n",
        "      fpr, tpr, thresholds = roc_curve(y_test_array[:,i],  \n",
        "                            predicted_prob[:,i])\n",
        "      ax[0].plot(fpr, tpr, lw=3, \n",
        "                label='{0} (area={1:0.2f})'.format(classes[i], \n",
        "                                auc(fpr, tpr))\n",
        "                )\n",
        "  ax[0].plot([0,1], [0,1], color='navy', lw=3, linestyle='--')\n",
        "  ax[0].set(xlim=[-0.05,1.0], ylim=[0.0,1.05], \n",
        "            xlabel='False Positive Rate', \n",
        "            ylabel=\"True Positive Rate (Recall)\", \n",
        "            title=\"Receiver operating characteristic\")\n",
        "  ax[0].legend(loc=\"lower right\")\n",
        "  ax[0].grid(True)\n",
        "\n",
        "  ## Plot precision-recall curve\n",
        "  for i in range(len(classes)):\n",
        "      precision, recall, thresholds = precision_recall_curve(\n",
        "                  y_test_array[:,i], predicted_prob[:,i])\n",
        "      ax[1].plot(recall, precision, lw=3, \n",
        "                label='{0} (area={1:0.2f})'.format(classes[i], \n",
        "                                    auc(recall, precision))\n",
        "                )\n",
        "  ax[1].set(xlim=[0.0,1.05], ylim=[0.0,1.05], xlabel='Recall', \n",
        "            ylabel=\"Precision\", title=\"Precision-Recall curve\")\n",
        "  ax[1].legend(loc=\"best\")\n",
        "  ax[1].grid(True)\n",
        "  plt.show()"
      ],
      "execution_count": 22,
      "outputs": []
    },
    {
      "cell_type": "markdown",
      "metadata": {
        "id": "hWX1z5Ntq-Ec"
      },
      "source": [
        "# Funções para processamento de Linguagem Natural"
      ]
    },
    {
      "cell_type": "code",
      "metadata": {
        "id": "axZJheLQyB7i"
      },
      "source": [
        ""
      ],
      "execution_count": 22,
      "outputs": []
    },
    {
      "cell_type": "markdown",
      "metadata": {
        "id": "j_Sln_Vau32S"
      },
      "source": [
        "# Prepara dataset para classificação com algoritmos clássicos"
      ]
    },
    {
      "cell_type": "code",
      "metadata": {
        "id": "zZ2xC0jmIIIE",
        "colab": {
          "base_uri": "https://localhost:8080/"
        },
        "outputId": "48c9727a-c9d6-4208-9aa1-3475e85205a5"
      },
      "source": [
        "#dfDados = pd.read_csv('news_integradas.csv')\n",
        "dfTreino = pd.read_csv('./amostra_news_integrada/amostra_5/train.csv')\n",
        "dfvalidacao = pd.read_csv('./amostra_news_integrada/amostra_5/valid.csv')\n",
        "dfteste = pd.read_csv('./amostra_news_integrada/amostra_5/test.csv')\n",
        "dfteste = pd.concat([dfvalidacao, dfteste], sort=False)\n",
        "print(dfTreino.shape, dfteste.shape)"
      ],
      "execution_count": 23,
      "outputs": [
        {
          "output_type": "stream",
          "name": "stdout",
          "text": [
            "(15396, 2) (3849, 2)\n"
          ]
        }
      ]
    },
    {
      "cell_type": "code",
      "metadata": {
        "id": "u1XoYRWng1gf"
      },
      "source": [
        ""
      ],
      "execution_count": 23,
      "outputs": []
    },
    {
      "cell_type": "code",
      "metadata": {
        "colab": {
          "base_uri": "https://localhost:8080/",
          "height": 659
        },
        "id": "1C8HtgdwILvc",
        "outputId": "aaff6db8-508b-4442-925c-a43c1b396651"
      },
      "source": [
        "def categoria(nro):\n",
        "  cat = ['politica', 'economia', 'esporte', 'mundo', 'ilustrada', 'midia', 'tecnologia', 'educação', 'saude', 'ciencia']\n",
        "  return cat[nro]\n",
        "df = dfTreino.copy()\n",
        "df['categoria'] = df['category_nro'].map(categoria)\n",
        "dfv = df['categoria'].value_counts()\n",
        "dfv.plot.bar(figsize=(14,10))\n"
      ],
      "execution_count": 24,
      "outputs": [
        {
          "output_type": "execute_result",
          "data": {
            "text/plain": [
              "<matplotlib.axes._subplots.AxesSubplot at 0x7f60233d8410>"
            ]
          },
          "metadata": {},
          "execution_count": 24
        },
        {
          "output_type": "display_data",
          "data": {
            "image/png": "[encoded data removed]",
            "text/plain": [
              "<Figure size 1008x720 with 1 Axes>"
            ]
          },
          "metadata": {}
        }
      ]
    },
    {
      "cell_type": "code",
      "metadata": {
        "colab": {
          "base_uri": "https://localhost:8080/"
        },
        "id": "2StJlfb_vCMx",
        "outputId": "a626604f-ae9f-412d-9881-384a7ae5a848"
      },
      "source": [
        "%%time\n",
        "dfPreProc = PreProcessamentoParalelo(dfTreino,mp.cpu_count())\n",
        "#dfPreProc = preProcessaTextos(dfTreino)\n"
      ],
      "execution_count": 15,
      "outputs": [
        {
          "output_type": "stream",
          "name": "stdout",
          "text": [
            "[nltk_data] Downloading package stopwords to /root/nltk_data...\n",
            "[nltk_data]   Unzipping corpora/stopwords.zip.\n",
            "[nltk_data] Downloading package rslp to /root/nltk_data...\n",
            "[nltk_data] Downloading package stopwords to /root/nltk_data...\n",
            "[nltk_data]   Package stopwords is already up-to-date!\n",
            "[nltk_data] Downloading package rslp to /root/nltk_data...\n",
            "[nltk_data]   Unzipping stemmers/rslp.zip.\n",
            "[nltk_data]   Unzipping stemmers/rslp.zip.\n",
            "CPU times: user 782 ms, sys: 540 ms, total: 1.32 s\n",
            "Wall time: 3min 41s\n"
          ]
        }
      ]
    },
    {
      "cell_type": "code",
      "metadata": {
        "id": "7k3HMohJ3Dv9",
        "colab": {
          "base_uri": "https://localhost:8080/",
          "height": 935
        },
        "outputId": "c956deea-4fb6-424c-a9b3-3578b81c1b92"
      },
      "source": [
        "print(dfPreProc.shape)\n",
        "dfPreProc.head()"
      ],
      "execution_count": 16,
      "outputs": [
        {
          "output_type": "stream",
          "name": "stdout",
          "text": [
            "(15396, 2)\n"
          ]
        },
        {
          "output_type": "execute_result",
          "data": {
            "text/html": [
              "<div>\n",
              "<style scoped>\n",
              "    .dataframe tbody tr th:only-of-type {\n",
              "        vertical-align: middle;\n",
              "    }\n",
              "\n",
              "    .dataframe tbody tr th {\n",
              "        vertical-align: top;\n",
              "    }\n",
              "\n",
              "    .dataframe thead th {\n",
              "        text-align: right;\n",
              "    }\n",
              "</style>\n",
              "<table border=\"1\" class=\"dataframe\">\n",
              "  <thead>\n",
              "    <tr style=\"text-align: right;\">\n",
              "      <th></th>\n",
              "      <th>text</th>\n",
              "      <th>category_nro</th>\n",
              "    </tr>\n",
              "  </thead>\n",
              "  <tbody>\n",
              "    <tr>\n",
              "      <th>0</th>\n",
              "      <td>pouc ano vinic lanz encontr reaç chor prov result decepç ent ano isolous vesti mergulh desol profund enquant lágr corr rost míser cinc cent jog rio dentr própri estádi aquá olímp pouc mes sedi megaevent espor exempl vid nat replet vir part dest terç lanz chanc promov trezent setent set dia após frustr sele olímp cheg troféu mar lenk prim grand event nat nacion cicl melhor temp entr m borbolet eliminatór final nest terç tornei parqu aquá mar lenk dentr parqu olímp classificatóri mund budap julh vai marc pass bast geraçesthiag per exempl aposentous abril enquant país vê surg nom lanz outr ter ido jog bom mant fog brig vag final medalh tóqui diz min hoj ano represent min tênil club medalh prat campeonat mund júni cingap m borbolet lanz adot eua bas iníci estabeleceus bloomington est indi ond pass nad univers local estud veterinár institu pass ser orient ray looz técn integr seleç norteameric rio guru lilly king cody mill blak pieron tod medalh jog nest tempor nad brasil eleit capitã tim universit ray diss vin quer olimpí agor olh pra frent cont nad vag budap dev corrobor técn diss perd olimpí cinc cent aind machuc fez mant foc mai mudanç atitud resum luiz altam viv experi difer consegu classific jog rio prov m livr revez x m livr pass prim fas ambas nad reconhec aprend pod ser interess rum olimpí tóqui obje agor nest cicl tent fic melhor mund precis trein bast natur rora transfer flameng pinh nest tempor club paulist divid rai gabriel sant jog rio nad revez x m livr pedr card perd olimpí pouc fic terc m peit boa marc pinh readquir ces ciel nad vitori histór país mud filosof dispens medalh olímp brun fratu joã lucc apost nov safr perceb hor mud mental afirm técn princip club albert pint silv outr bom val est troféu mar lenk brandonn alme nad m medley m livr rio dev mud eua compet fund guilherm cost abril bat record sulameric m livr esper estabelecers expo ger confi mar lenk consegu melhor temp vou mund diss cris cois abal confianç promess situ turbulent pass cbd confeder brasil desport aquá acus corrupç quatr dirig pres mei entidad perd patrocíni brad viu despenc aport feit correi invest vai diminu bast vai ser dificuldad grand nov ger busc nov competiç lá afirm luiz altam nad diss esper nov gest transpar melhor melhor man ter credibil nov mud tud pens estratég busc nov patrocin renov palavr cert complement altam viníc lanz acris abat sobr confeder trist vai afet ger sobr dirig pres afirm justiç decid event troféu mar lenk terçaf eliminatór h final h m borbolet feminin masculin m livr f m m peit f m x m livr f m quartaf eliminatór h final h m cost f m m medley f m m livr f m livr m quintaf eliminatór h final h m livr f m m peit fem m cost f m m borbolet f m sextaf eliminatór h final h m medley f m m livr f m m cost f m m borbolet f m x m livr f m sáb eliminatór h final h m peit f m m livr f m m livr f m livr m x m medley f m</td>\n",
              "      <td>2</td>\n",
              "    </tr>\n",
              "    <tr>\n",
              "      <th>1</th>\n",
              "      <td>situ financ paul apes restriç desp lig aument arrecad registr recent delic secret fazend luil arrob martim diz arrecad icm impost sobr circul mercad prim semestr dev ser ncr milh r bilh fic ncr milh r bilh qued além distanci previs orçamentár govern est reduz desej orç secret educ seguranç públic</td>\n",
              "      <td>6</td>\n",
              "    </tr>\n",
              "    <tr>\n",
              "      <th>2</th>\n",
              "      <td>document revel exag cia edward snowden mostr govern rein unid espion argentin obje mant soberan sobr ilh malvin document revel nest quintaf sit canal tv argentin tod notíc pertenc grup clarín segund papel argentin princip inter espion britân amér latin alv venezuel colômb prim document exib revel hav escritóri espion est tex eua ond coorden operaç amér sul document afirm emb argentin prior rein unid hav demand serviç intelig colômb venezuel informaç sobr motiv espion circul intern dat gchq quartel gener comunicaç govern britân sigl ingl report avanç obtenç informaç alt qual líd milit argentin document inform recolh comunicaç tetr sinal rádi us agênc governament seguranç públic emerg serviç milit sinal us ligaç celul tecnolog gsm segund tn entretant clar espion celul qual alv serviç intelig britân outr registr revel dess vez inform obje naquel moment verific relaç argentin irã apen quatr linh relatóri relat operaç espion ciberné irã argentin avanç trabalh adic feit líb relatóri mai segund observ tn elabor moment começ aparec imprens informaç sobr supost acord argentin irã vir alv investig promot albert nisman encontr mort jan dest ano nisman acus govern argentin conspir irã proteg supost respons atent entidad juda ami troc argentin vantag comerc revelaç feit jorn clarín últ seman indic pod ter hav transfer secret recurs irã argentin pass venezuel mei cont bancár instituiç financ paraís fiscal eua irã supost administr dess cont bancár filh presid cristin kirchn sustent clarín máx kirchn neg acusaç manipul plan rein unid segund document revel tn deflagr campanh comunic ofic us informaç fals apócrif perfil invent red soc obje tent manipul opin públic argentin favor ocup ingl malvin oper comunic denomin intern oper quit dad result pretend outr fragment revel tn novembr mostr cert preocup sobr inclin contin favor demand argentin control sobr malvin últ esperanç fre tend reun chancel chil pouc dia chancel britân jeremy brown viaj país brasil cit ness moment trech fal operaç serviç secret britân brasil têm fic sistematic abaix expect clar porém investig curs</td>\n",
              "      <td>3</td>\n",
              "    </tr>\n",
              "    <tr>\n",
              "      <th>3</th>\n",
              "      <td>googl decid volt atrás decis proib pornograf plataform blog blogg receb muit crít blogu algum qual don págin déc conteúd explícit aind pod ser post mei ferrament desd blog marc adult jess pelegi gerent suport produt soc companh diz empr receb muit mens sobr proib espec sobr obrigatoriedad blogu apag imag eró mod retro desd iníci págin form sofr penal sit remov marc priv dispon apen don pesso qual compartilh conteúd aparec busc reclamaç sobr impact nega indivídu post conteúd sex explícit express ident diss pelegi companh pod ver saíd mass usu plataform tumblr decid recu googl hav alter term serviç blogg imped págin exib conteúd pornográf ger dinh don fic proib exib anúnci ness págin obje imped cri blog pratic repositóri conteúd explícit ger tráfeg outr sit pornô</td>\n",
              "      <td>6</td>\n",
              "    </tr>\n",
              "    <tr>\n",
              "      <th>4</th>\n",
              "      <td>converg discuss acerc bloquei whatsapp text relatóri final aprov cpi crim ciberné nest quartaf tent blind aplic mens instantâne últ hor adicion term ved bloquei aplic mens pessoal doi projet lei alt marc civil internet tod encaminh seil projet lei cpi vers sobr ampli defin invas comput aument rigor lei destin fistel fund fiscal telecomunicaç órg políci judiciár sobr mudanç marc civil relatóri aprov agor projet lei pres relatóri encaminh com câm projet lei prev bloquei aplicaç pont mai discuss comiss orig permit med judic oper internet bloque acess aplic sit utiliz prát crimin text final fic delimit aplicaç pod ser bloque apen hosped brasil represent país dedic prát ilícit pen mín crim send comet doi segund rela projet complement marc civil internet prev apen retir ar aplicaç internet entant especif dá process sit aplic hosped represent país text aprov cpi cri possibil juíz determin oper faç bloquei sess terç deput critic text afirm red banaliz bloquei aplic apen após crít parágraf blind whatsapp adicion debat esquent cpi após aplic ser bloque segundaf med juiz marcel montalv comarc lagart terç entant desembarg ricard múci sant abr lim tribun justiç sergip revog bloquei text aprov ating sit pirat disponibiliz list bittorrent arqu míd permit usu compartilh víde músic ileg transmiss míd além diss rela esp poss imped acess sit contrab tráf drog outr projet lei alt marc civil cpi tent permit remoç bloquei conteúd mei ord judic cas previst ness projet base pen mín ano crim pratic segund deput alessandr molon rederj vot contr relatóri mudanç text projet lei sufici garant liberdad usu red princip crít rela marc civil internet previs retir conteúd mei simpl decis judic permit chilling effect efeit resfr retiras conteúd judici decid sobr assunt enquant conteúd volt matas assunt diz molon subrela sandr alex ppspr afirm molon faz interpret err matér deput explic retir text possibil bloquei remoç crim pen men doi ano retir previs crim contr honr retir ach tent blind polít além diss aprov lei apen encaminh discuss divers com afirm alex</td>\n",
              "      <td>6</td>\n",
              "    </tr>\n",
              "  </tbody>\n",
              "</table>\n",
              "</div>"
            ],
            "text/plain": [
              "                                                                                                                                                                                                                                                                                                                                                                                                                                                                                                                                                                                                                                                                                                                                                                                                                                                                                                                                                                                                                                                                                                                                                                                                                                                                                                                                                                                                                                                                                                                                                                                                                                                                                                                                                                                                                                                                                                                                                                                                                                                                                                                                                                                                                                                                                                                                                                                                                                                                                                                                                                                                                                                                                                                                                                                                                                                                                                                                                                                       text  category_nro\n",
              "0  pouc ano vinic lanz encontr reaç chor prov result decepç ent ano isolous vesti mergulh desol profund enquant lágr corr rost míser cinc cent jog rio dentr própri estádi aquá olímp pouc mes sedi megaevent espor exempl vid nat replet vir part dest terç lanz chanc promov trezent setent set dia após frustr sele olímp cheg troféu mar lenk prim grand event nat nacion cicl melhor temp entr m borbolet eliminatór final nest terç tornei parqu aquá mar lenk dentr parqu olímp classificatóri mund budap julh vai marc pass bast geraçesthiag per exempl aposentous abril enquant país vê surg nom lanz outr ter ido jog bom mant fog brig vag final medalh tóqui diz min hoj ano represent min tênil club medalh prat campeonat mund júni cingap m borbolet lanz adot eua bas iníci estabeleceus bloomington est indi ond pass nad univers local estud veterinár institu pass ser orient ray looz técn integr seleç norteameric rio guru lilly king cody mill blak pieron tod medalh jog nest tempor nad brasil eleit capitã tim universit ray diss vin quer olimpí agor olh pra frent cont nad vag budap dev corrobor técn diss perd olimpí cinc cent aind machuc fez mant foc mai mudanç atitud resum luiz altam viv experi difer consegu classific jog rio prov m livr revez x m livr pass prim fas ambas nad reconhec aprend pod ser interess rum olimpí tóqui obje agor nest cicl tent fic melhor mund precis trein bast natur rora transfer flameng pinh nest tempor club paulist divid rai gabriel sant jog rio nad revez x m livr pedr card perd olimpí pouc fic terc m peit boa marc pinh readquir ces ciel nad vitori histór país mud filosof dispens medalh olímp brun fratu joã lucc apost nov safr perceb hor mud mental afirm técn princip club albert pint silv outr bom val est troféu mar lenk brandonn alme nad m medley m livr rio dev mud eua compet fund guilherm cost abril bat record sulameric m livr esper estabelecers expo ger confi mar lenk consegu melhor temp vou mund diss cris cois abal confianç promess situ turbulent pass cbd confeder brasil desport aquá acus corrupç quatr dirig pres mei entidad perd patrocíni brad viu despenc aport feit correi invest vai diminu bast vai ser dificuldad grand nov ger busc nov competiç lá afirm luiz altam nad diss esper nov gest transpar melhor melhor man ter credibil nov mud tud pens estratég busc nov patrocin renov palavr cert complement altam viníc lanz acris abat sobr confeder trist vai afet ger sobr dirig pres afirm justiç decid event troféu mar lenk terçaf eliminatór h final h m borbolet feminin masculin m livr f m m peit f m x m livr f m quartaf eliminatór h final h m cost f m m medley f m m livr f m livr m quintaf eliminatór h final h m livr f m m peit fem m cost f m m borbolet f m sextaf eliminatór h final h m medley f m m livr f m m cost f m m borbolet f m x m livr f m sáb eliminatór h final h m peit f m m livr f m m livr f m livr m x m medley f m             2\n",
              "1                                                                                                                                                                                                                                                                                                                                                                                                                                                                                                                                                                                                                                                                                                                                                                                                                                                                                                                                                                                                                                                                                                                                                                                                                                                                                                                                                                                                                                                                                                                                                                                                                                                                                                                                                                                                                                                                                                                                                                                                                                                                                                                                                                                                                                                                                                                                                                                                                                                                                                                                                                                                                                                                                 situ financ paul apes restriç desp lig aument arrecad registr recent delic secret fazend luil arrob martim diz arrecad icm impost sobr circul mercad prim semestr dev ser ncr milh r bilh fic ncr milh r bilh qued além distanci previs orçamentár govern est reduz desej orç secret educ seguranç públic             6\n",
              "2                                                                                                                                                                                                                                                                                                                                                                                                                                                                                                                                                                                                                                                                                                                                                                                                                    document revel exag cia edward snowden mostr govern rein unid espion argentin obje mant soberan sobr ilh malvin document revel nest quintaf sit canal tv argentin tod notíc pertenc grup clarín segund papel argentin princip inter espion britân amér latin alv venezuel colômb prim document exib revel hav escritóri espion est tex eua ond coorden operaç amér sul document afirm emb argentin prior rein unid hav demand serviç intelig colômb venezuel informaç sobr motiv espion circul intern dat gchq quartel gener comunicaç govern britân sigl ingl report avanç obtenç informaç alt qual líd milit argentin document inform recolh comunicaç tetr sinal rádi us agênc governament seguranç públic emerg serviç milit sinal us ligaç celul tecnolog gsm segund tn entretant clar espion celul qual alv serviç intelig britân outr registr revel dess vez inform obje naquel moment verific relaç argentin irã apen quatr linh relatóri relat operaç espion ciberné irã argentin avanç trabalh adic feit líb relatóri mai segund observ tn elabor moment começ aparec imprens informaç sobr supost acord argentin irã vir alv investig promot albert nisman encontr mort jan dest ano nisman acus govern argentin conspir irã proteg supost respons atent entidad juda ami troc argentin vantag comerc revelaç feit jorn clarín últ seman indic pod ter hav transfer secret recurs irã argentin pass venezuel mei cont bancár instituiç financ paraís fiscal eua irã supost administr dess cont bancár filh presid cristin kirchn sustent clarín máx kirchn neg acusaç manipul plan rein unid segund document revel tn deflagr campanh comunic ofic us informaç fals apócrif perfil invent red soc obje tent manipul opin públic argentin favor ocup ingl malvin oper comunic denomin intern oper quit dad result pretend outr fragment revel tn novembr mostr cert preocup sobr inclin contin favor demand argentin control sobr malvin últ esperanç fre tend reun chancel chil pouc dia chancel britân jeremy brown viaj país brasil cit ness moment trech fal operaç serviç secret britân brasil têm fic sistematic abaix expect clar porém investig curs             3\n",
              "3                                                                                                                                                                                                                                                                                                                                                                                                                                                                                                                                                                                                                                                                                                                                                                                                                                                                                                                                                                                                                                                                                                                                                                                                                                                                                                                                                                                                                                                                                                                                                                                                                                                                                                                                                                                                                                                                                                                                                                                                                                                                                                                                                                                       googl decid volt atrás decis proib pornograf plataform blog blogg receb muit crít blogu algum qual don págin déc conteúd explícit aind pod ser post mei ferrament desd blog marc adult jess pelegi gerent suport produt soc companh diz empr receb muit mens sobr proib espec sobr obrigatoriedad blogu apag imag eró mod retro desd iníci págin form sofr penal sit remov marc priv dispon apen don pesso qual compartilh conteúd aparec busc reclamaç sobr impact nega indivídu post conteúd sex explícit express ident diss pelegi companh pod ver saíd mass usu plataform tumblr decid recu googl hav alter term serviç blogg imped págin exib conteúd pornográf ger dinh don fic proib exib anúnci ness págin obje imped cri blog pratic repositóri conteúd explícit ger tráfeg outr sit pornô             6\n",
              "4                                                                                                                                                                                                                                                                                                                                                                                                                                                                                                                                                                                                                                                                                                                                                                                                                                                 converg discuss acerc bloquei whatsapp text relatóri final aprov cpi crim ciberné nest quartaf tent blind aplic mens instantâne últ hor adicion term ved bloquei aplic mens pessoal doi projet lei alt marc civil internet tod encaminh seil projet lei cpi vers sobr ampli defin invas comput aument rigor lei destin fistel fund fiscal telecomunicaç órg políci judiciár sobr mudanç marc civil relatóri aprov agor projet lei pres relatóri encaminh com câm projet lei prev bloquei aplicaç pont mai discuss comiss orig permit med judic oper internet bloque acess aplic sit utiliz prát crimin text final fic delimit aplicaç pod ser bloque apen hosped brasil represent país dedic prát ilícit pen mín crim send comet doi segund rela projet complement marc civil internet prev apen retir ar aplicaç internet entant especif dá process sit aplic hosped represent país text aprov cpi cri possibil juíz determin oper faç bloquei sess terç deput critic text afirm red banaliz bloquei aplic apen após crít parágraf blind whatsapp adicion debat esquent cpi após aplic ser bloque segundaf med juiz marcel montalv comarc lagart terç entant desembarg ricard múci sant abr lim tribun justiç sergip revog bloquei text aprov ating sit pirat disponibiliz list bittorrent arqu míd permit usu compartilh víde músic ileg transmiss míd além diss rela esp poss imped acess sit contrab tráf drog outr projet lei alt marc civil cpi tent permit remoç bloquei conteúd mei ord judic cas previst ness projet base pen mín ano crim pratic segund deput alessandr molon rederj vot contr relatóri mudanç text projet lei sufici garant liberdad usu red princip crít rela marc civil internet previs retir conteúd mei simpl decis judic permit chilling effect efeit resfr retiras conteúd judici decid sobr assunt enquant conteúd volt matas assunt diz molon subrela sandr alex ppspr afirm molon faz interpret err matér deput explic retir text possibil bloquei remoç crim pen men doi ano retir previs crim contr honr retir ach tent blind polít além diss aprov lei apen encaminh discuss divers com afirm alex             6"
            ]
          },
          "metadata": {},
          "execution_count": 16
        }
      ]
    },
    {
      "cell_type": "code",
      "metadata": {
        "colab": {
          "base_uri": "https://localhost:8080/"
        },
        "id": "dZoDVkllw61i",
        "outputId": "358f3ef3-ac39-469e-f741-b69ae1826646"
      },
      "source": [
        "dfPreProc_Teste = PreProcessamentoParalelo(dfteste,mp.cpu_count())\n",
        "print(dfPreProc_Teste.shape)"
      ],
      "execution_count": 25,
      "outputs": [
        {
          "output_type": "stream",
          "name": "stdout",
          "text": [
            "[nltk_data] Downloading package stopwords to /root/nltk_data...\n",
            "[nltk_data]   Package stopwords is already up-to-date!\n",
            "[nltk_data] Downloading package rslp to /root/nltk_data...\n",
            "[nltk_data]   Package rslp is already up-to-date!\n",
            "[nltk_data] Downloading package stopwords to /root/nltk_data...\n",
            "[nltk_data]   Package stopwords is already up-to-date!\n",
            "[nltk_data] Downloading package rslp to /root/nltk_data...\n",
            "[nltk_data]   Package rslp is already up-to-date!\n",
            "(3849, 2)\n"
          ]
        }
      ]
    },
    {
      "cell_type": "code",
      "metadata": {
        "colab": {
          "base_uri": "https://localhost:8080/"
        },
        "id": "FDoxygVk1urs",
        "outputId": "f63718ab-f37f-45a9-97f9-ee791eff8e31"
      },
      "source": [
        " #df = dfPreProc.copy()\n",
        " dfPreProc['qtd_palavras'] = dfPreProc['text'].map(lambda x: len(x.split(\" \")))\n",
        " dfPreProc['qtd_palavras'].describe()"
      ],
      "execution_count": 26,
      "outputs": [
        {
          "output_type": "execute_result",
          "data": {
            "text/plain": [
              "count    15396.000000\n",
              "mean       254.095934\n",
              "std        188.458742\n",
              "min          1.000000\n",
              "25%        131.000000\n",
              "50%        217.000000\n",
              "75%        326.000000\n",
              "max       2908.000000\n",
              "Name: qtd_palavras, dtype: float64"
            ]
          },
          "metadata": {},
          "execution_count": 26
        }
      ]
    },
    {
      "cell_type": "code",
      "metadata": {
        "id": "53DLzgUMlr4O"
      },
      "source": [
        "#df[(df['qtd_palavras']>=0) & (df['qtd_palavras']<=10)]\n",
        "dfPreProc = dfPreProc[dfPreProc['qtd_palavras']>10]"
      ],
      "execution_count": 28,
      "outputs": []
    },
    {
      "cell_type": "code",
      "metadata": {
        "id": "Vj1HpKT9OIkR",
        "colab": {
          "base_uri": "https://localhost:8080/"
        },
        "outputId": "cacd022f-74d1-4ab0-f993-d368da99e4f5"
      },
      "source": [
        "df = dfTreino.copy()\n",
        "df['qtd_palavras'] = df['text'].map(lambda x: len(x.split(\" \")))\n",
        "df['categoria'] = df['category_nro'].map(categoria)\n",
        "df['qtd_palavras'].describe()"
      ],
      "execution_count": 29,
      "outputs": [
        {
          "output_type": "execute_result",
          "data": {
            "text/plain": [
              "count    15396.000000\n",
              "mean       463.567615\n",
              "std        350.126359\n",
              "min          1.000000\n",
              "25%        236.000000\n",
              "50%        394.000000\n",
              "75%        596.000000\n",
              "max       5190.000000\n",
              "Name: qtd_palavras, dtype: float64"
            ]
          },
          "metadata": {},
          "execution_count": 29
        }
      ]
    },
    {
      "cell_type": "code",
      "metadata": {
        "id": "PUFuIRV3mojU",
        "colab": {
          "base_uri": "https://localhost:8080/",
          "height": 824
        },
        "outputId": "529682b2-1ed1-4a2d-f31e-17cf406c83a3"
      },
      "source": [
        "df[(df['qtd_palavras']>=1) & (df['qtd_palavras']<=10)]"
      ],
      "execution_count": 30,
      "outputs": [
        {
          "output_type": "execute_result",
          "data": {
            "text/html": [
              "<div>\n",
              "<style scoped>\n",
              "    .dataframe tbody tr th:only-of-type {\n",
              "        vertical-align: middle;\n",
              "    }\n",
              "\n",
              "    .dataframe tbody tr th {\n",
              "        vertical-align: top;\n",
              "    }\n",
              "\n",
              "    .dataframe thead th {\n",
              "        text-align: right;\n",
              "    }\n",
              "</style>\n",
              "<table border=\"1\" class=\"dataframe\">\n",
              "  <thead>\n",
              "    <tr style=\"text-align: right;\">\n",
              "      <th></th>\n",
              "      <th>text</th>\n",
              "      <th>category_nro</th>\n",
              "      <th>qtd_palavras</th>\n",
              "      <th>categoria</th>\n",
              "    </tr>\n",
              "  </thead>\n",
              "  <tbody>\n",
              "    <tr>\n",
              "      <th>605</th>\n",
              "      <td>Os BBBs que foram trabalhar na TV após o reality</td>\n",
              "      <td>5</td>\n",
              "      <td>10</td>\n",
              "      <td>midia</td>\n",
              "    </tr>\n",
              "    <tr>\n",
              "      <th>637</th>\n",
              "      <td>Leia: http://folha.com/no1660675</td>\n",
              "      <td>5</td>\n",
              "      <td>2</td>\n",
              "      <td>midia</td>\n",
              "    </tr>\n",
              "    <tr>\n",
              "      <th>1935</th>\n",
              "      <td>O</td>\n",
              "      <td>5</td>\n",
              "      <td>1</td>\n",
              "      <td>midia</td>\n",
              "    </tr>\n",
              "    <tr>\n",
              "      <th>2049</th>\n",
              "      <td>Leia a reportagem</td>\n",
              "      <td>5</td>\n",
              "      <td>3</td>\n",
              "      <td>midia</td>\n",
              "    </tr>\n",
              "    <tr>\n",
              "      <th>2107</th>\n",
              "      <td>Caso não consiga ler, ouça o que está escrito.</td>\n",
              "      <td>5</td>\n",
              "      <td>9</td>\n",
              "      <td>midia</td>\n",
              "    </tr>\n",
              "    <tr>\n",
              "      <th>2371</th>\n",
              "      <td>O</td>\n",
              "      <td>5</td>\n",
              "      <td>1</td>\n",
              "      <td>midia</td>\n",
              "    </tr>\n",
              "    <tr>\n",
              "      <th>3623</th>\n",
              "      <td>Leia a reportagem</td>\n",
              "      <td>5</td>\n",
              "      <td>3</td>\n",
              "      <td>midia</td>\n",
              "    </tr>\n",
              "    <tr>\n",
              "      <th>4684</th>\n",
              "      <td>Leia mais</td>\n",
              "      <td>5</td>\n",
              "      <td>2</td>\n",
              "      <td>midia</td>\n",
              "    </tr>\n",
              "    <tr>\n",
              "      <th>4782</th>\n",
              "      <td>Leia a reportagem aqui</td>\n",
              "      <td>5</td>\n",
              "      <td>4</td>\n",
              "      <td>midia</td>\n",
              "    </tr>\n",
              "    <tr>\n",
              "      <th>5241</th>\n",
              "      <td>Uma publicação compartilhada por Boninho (@jbboninho)\\n</td>\n",
              "      <td>5</td>\n",
              "      <td>6</td>\n",
              "      <td>midia</td>\n",
              "    </tr>\n",
              "    <tr>\n",
              "      <th>5371</th>\n",
              "      <td>Uma publicação compartilhada por (@idesigngold)\\n</td>\n",
              "      <td>6</td>\n",
              "      <td>5</td>\n",
              "      <td>tecnologia</td>\n",
              "    </tr>\n",
              "    <tr>\n",
              "      <th>5747</th>\n",
              "      <td>Leia: http://folha.com/no1675438</td>\n",
              "      <td>5</td>\n",
              "      <td>2</td>\n",
              "      <td>midia</td>\n",
              "    </tr>\n",
              "    <tr>\n",
              "      <th>6334</th>\n",
              "      <td>Leia a reportagem aqui</td>\n",
              "      <td>5</td>\n",
              "      <td>4</td>\n",
              "      <td>midia</td>\n",
              "    </tr>\n",
              "    <tr>\n",
              "      <th>6659</th>\n",
              "      <td>Uma publicação compartilhada por JOÃO LUIZ PEDROSA (@joaolpedrosa)</td>\n",
              "      <td>5</td>\n",
              "      <td>8</td>\n",
              "      <td>midia</td>\n",
              "    </tr>\n",
              "    <tr>\n",
              "      <th>7072</th>\n",
              "      <td>Leia a reportagem aqui</td>\n",
              "      <td>5</td>\n",
              "      <td>4</td>\n",
              "      <td>midia</td>\n",
              "    </tr>\n",
              "    <tr>\n",
              "      <th>8862</th>\n",
              "      <td>Leia a reportagem</td>\n",
              "      <td>5</td>\n",
              "      <td>3</td>\n",
              "      <td>midia</td>\n",
              "    </tr>\n",
              "    <tr>\n",
              "      <th>9377</th>\n",
              "      <td>Leia mais aqui</td>\n",
              "      <td>5</td>\n",
              "      <td>3</td>\n",
              "      <td>midia</td>\n",
              "    </tr>\n",
              "    <tr>\n",
              "      <th>10568</th>\n",
              "      <td>Leia mais aqui</td>\n",
              "      <td>5</td>\n",
              "      <td>3</td>\n",
              "      <td>midia</td>\n",
              "    </tr>\n",
              "    <tr>\n",
              "      <th>11124</th>\n",
              "      <td>Leia a reportagem aqui</td>\n",
              "      <td>5</td>\n",
              "      <td>4</td>\n",
              "      <td>midia</td>\n",
              "    </tr>\n",
              "    <tr>\n",
              "      <th>12378</th>\n",
              "      <td>Leia mais: http://folha.com/no1689813</td>\n",
              "      <td>5</td>\n",
              "      <td>3</td>\n",
              "      <td>midia</td>\n",
              "    </tr>\n",
              "    <tr>\n",
              "      <th>12729</th>\n",
              "      <td>Saiba mais em http://f5.folha.uol.com.br/</td>\n",
              "      <td>5</td>\n",
              "      <td>4</td>\n",
              "      <td>midia</td>\n",
              "    </tr>\n",
              "    <tr>\n",
              "      <th>13098</th>\n",
              "      <td>O</td>\n",
              "      <td>5</td>\n",
              "      <td>1</td>\n",
              "      <td>midia</td>\n",
              "    </tr>\n",
              "    <tr>\n",
              "      <th>13218</th>\n",
              "      <td>Confira o especial completo Tudo Sobre - Rio em Transformação</td>\n",
              "      <td>5</td>\n",
              "      <td>10</td>\n",
              "      <td>midia</td>\n",
              "    </tr>\n",
              "    <tr>\n",
              "      <th>13445</th>\n",
              "      <td>Leia a reportagem aqui</td>\n",
              "      <td>5</td>\n",
              "      <td>4</td>\n",
              "      <td>midia</td>\n",
              "    </tr>\n",
              "    <tr>\n",
              "      <th>14097</th>\n",
              "      <td>Leia mais aqui</td>\n",
              "      <td>5</td>\n",
              "      <td>3</td>\n",
              "      <td>midia</td>\n",
              "    </tr>\n",
              "  </tbody>\n",
              "</table>\n",
              "</div>"
            ],
            "text/plain": [
              "                                                                      text  ...   categoria\n",
              "605                       Os BBBs que foram trabalhar na TV após o reality  ...       midia\n",
              "637                                       Leia: http://folha.com/no1660675  ...       midia\n",
              "1935                                                                    O   ...       midia\n",
              "2049                                                     Leia a reportagem  ...       midia\n",
              "2107                        Caso não consiga ler, ouça o que está escrito.  ...       midia\n",
              "2371                                                                    O   ...       midia\n",
              "3623                                                     Leia a reportagem  ...       midia\n",
              "4684                                                             Leia mais  ...       midia\n",
              "4782                                                Leia a reportagem aqui  ...       midia\n",
              "5241               Uma publicação compartilhada por Boninho (@jbboninho)\\n  ...       midia\n",
              "5371                     Uma publicação compartilhada por (@idesigngold)\\n  ...  tecnologia\n",
              "5747                                      Leia: http://folha.com/no1675438  ...       midia\n",
              "6334                                                Leia a reportagem aqui  ...       midia\n",
              "6659   Uma publicação compartilhada por JOÃO LUIZ PEDROSA (@joaolpedrosa)  ...       midia\n",
              "7072                                                Leia a reportagem aqui  ...       midia\n",
              "8862                                                     Leia a reportagem  ...       midia\n",
              "9377                                                        Leia mais aqui  ...       midia\n",
              "10568                                                       Leia mais aqui  ...       midia\n",
              "11124                                               Leia a reportagem aqui  ...       midia\n",
              "12378                                Leia mais: http://folha.com/no1689813  ...       midia\n",
              "12729                            Saiba mais em http://f5.folha.uol.com.br/  ...       midia\n",
              "13098                                                                   O   ...       midia\n",
              "13218        Confira o especial completo Tudo Sobre - Rio em Transformação  ...       midia\n",
              "13445                                               Leia a reportagem aqui  ...       midia\n",
              "14097                                                       Leia mais aqui  ...       midia\n",
              "\n",
              "[25 rows x 4 columns]"
            ]
          },
          "metadata": {},
          "execution_count": 30
        }
      ]
    },
    {
      "cell_type": "code",
      "metadata": {
        "id": "6mKLC-JmOh-t",
        "colab": {
          "base_uri": "https://localhost:8080/",
          "height": 502
        },
        "outputId": "5709f46e-442e-4c43-e35b-a5e329cd423d"
      },
      "source": [
        "fig = plt.figure(figsize = (20,8))\n",
        "ax = fig.add_subplot(1,2,1)\n",
        "sns.set_theme(style=\"whitegrid\")\n",
        "sns.color_palette(\"Paired\")\n",
        "ax = sns.boxplot(x=df['qtd_palavras'])\n",
        "mybox = ax.artists[0]\n",
        "mybox.set_facecolor('blue')\n",
        "mybox.set_edgecolor('black')\n",
        "for line in ax.get_lines():\n",
        "    line.set_color('black')\n",
        "    \n",
        "ax = fig.add_subplot(1,2,2)\n",
        "ax = sns.histplot(data=df, x='qtd_palavras', kde=True)\n",
        "for line in ax.get_lines():\n",
        "    line.set_color('red')"
      ],
      "execution_count": 31,
      "outputs": [
        {
          "output_type": "display_data",
          "data": {
            "image/png": "[encoded data removed]",
            "text/plain": [
              "<Figure size 1440x576 with 2 Axes>"
            ]
          },
          "metadata": {}
        }
      ]
    },
    {
      "cell_type": "code",
      "metadata": {
        "id": "7QmsxjD0OiNV",
        "colab": {
          "base_uri": "https://localhost:8080/",
          "height": 502
        },
        "outputId": "32db1c62-2f29-4a93-8a9f-dc65b44846c8"
      },
      "source": [
        "fig = plt.figure(figsize = (18,8))\n",
        "ax = sns.boxplot(x=\"categoria\", y=\"qtd_palavras\", data=df)"
      ],
      "execution_count": 32,
      "outputs": [
        {
          "output_type": "display_data",
          "data": {
            "image/png": "[encoded data removed]",
            "text/plain": [
              "<Figure size 1296x576 with 1 Axes>"
            ]
          },
          "metadata": {}
        }
      ]
    },
    {
      "cell_type": "code",
      "metadata": {
        "id": "pINVs9WWWbX0"
      },
      "source": [
        "V, vocab = processaVetorizacao(min_fr=1, max_fr=1, ngrams=(1,1),n_top=2100000)"
      ],
      "execution_count": 54,
      "outputs": []
    },
    {
      "cell_type": "code",
      "metadata": {
        "colab": {
          "base_uri": "https://localhost:8080/"
        },
        "id": "1SzmNhUHW3G4",
        "outputId": "8280d974-eaf5-4da6-9d0b-87c55fd104f7"
      },
      "source": [
        "print(V.shape, len(vocab))"
      ],
      "execution_count": 55,
      "outputs": [
        {
          "output_type": "stream",
          "name": "stdout",
          "text": [
            "(15361, 40966) 40966\n"
          ]
        }
      ]
    },
    {
      "cell_type": "code",
      "metadata": {
        "id": "0IkNSOm1gria"
      },
      "source": [
        "V, vocab = processaVetorizacao(dfPreProc,min_fr=1, max_fr=1, ngrams=(1,2),n_top=10000)\n",
        "X_tfidf = retornaMatriztfIdf(V)\n",
        "y_treino = dfPreProc['category_nro'].values"
      ],
      "execution_count": 56,
      "outputs": []
    },
    {
      "cell_type": "code",
      "metadata": {
        "id": "m1U4UEWejrAR",
        "outputId": "f38539d4-df5d-4782-956e-b7a697adcc9e",
        "colab": {
          "base_uri": "https://localhost:8080/"
        }
      },
      "source": [
        "V.shape"
      ],
      "execution_count": 57,
      "outputs": [
        {
          "output_type": "execute_result",
          "data": {
            "text/plain": [
              "(15361, 10000)"
            ]
          },
          "metadata": {},
          "execution_count": 57
        }
      ]
    },
    {
      "cell_type": "code",
      "metadata": {
        "id": "LOqu-inMHdiA"
      },
      "source": [
        "#https://towardsdatascience.com/text-classification-with-nlp-tf-idf-vs-word2vec-vs-bert-41ff868d1794\n",
        "#teste chi2 para as palavras de cada categoria, manter as mais relevantes\n",
        "X_names = list(vocab.keys())\n",
        "y=dfPreProc['category_nro']\n",
        "p_value_limit = 0.95\n",
        "dtf_features = pd.DataFrame()\n",
        "for cat in np.unique(y):\n",
        "    chi2, p = feature_selection.chi2(X_tfidf, y==cat)\n",
        "    dtf_features = dtf_features.append(pd.DataFrame(\n",
        "                   {\"feature\":X_names, \"score\":1-p, \"y\":cat}))\n",
        "    dtf_features = dtf_features.sort_values([\"y\",\"score\"], \n",
        "                    ascending=[True,False])\n",
        "    dtf_features = dtf_features[dtf_features[\"score\"]>p_value_limit]\n",
        "X_names = dtf_features[\"feature\"].unique().tolist()"
      ],
      "execution_count": 36,
      "outputs": []
    },
    {
      "cell_type": "code",
      "metadata": {
        "id": "4cWNdkE7PPje",
        "colab": {
          "base_uri": "https://localhost:8080/"
        },
        "outputId": "a1e5b94f-7704-4caf-f040-2917a49f3045"
      },
      "source": [
        "len(X_names)"
      ],
      "execution_count": 37,
      "outputs": [
        {
          "output_type": "execute_result",
          "data": {
            "text/plain": [
              "6222"
            ]
          },
          "metadata": {},
          "execution_count": 37
        }
      ]
    },
    {
      "cell_type": "code",
      "metadata": {
        "id": "sdU7YPRGMzEb"
      },
      "source": [
        "#reprocessa a vetorização e o tfidf para considerar somente o vocabulario de palavras relevantes.\n",
        "#0.05 e 0.8\n",
        "V, vocab = processaVetorizacao(dfPreProc,min_fr=0.01, max_fr=0.95, ngrams=(1,2),vocabulario=None)\n",
        "X_tfidf = retornaMatriztfIdf(V)\n",
        "y_treino = dfPreProc['category_nro'].values"
      ],
      "execution_count": 87,
      "outputs": []
    },
    {
      "cell_type": "code",
      "metadata": {
        "id": "1z8IBAmaP7nt",
        "outputId": "68163490-ec0a-420d-9d3d-0b9996bbea42",
        "colab": {
          "base_uri": "https://localhost:8080/"
        }
      },
      "source": [
        "#v_1_2 = vocab\n",
        "#v_1_1 = vocab\n",
        "set(v_1_2.keys()) - set(v_1_1.keys())"
      ],
      "execution_count": 88,
      "outputs": [
        {
          "output_type": "execute_result",
          "data": {
            "text/plain": [
              "{'além diss',\n",
              " 'ano pass',\n",
              " 'dest ano',\n",
              " 'dev ser',\n",
              " 'dilm rousseff',\n",
              " 'doi ano',\n",
              " 'est unid',\n",
              " 'faz part',\n",
              " 'nest ano',\n",
              " 'nest quartaf',\n",
              " 'nest quintaf',\n",
              " 'nest segundaf',\n",
              " 'nest terçaf',\n",
              " 'pod ser',\n",
              " 'pod ter',\n",
              " 'prim vez',\n",
              " 'red soc',\n",
              " 'ter sid'}"
            ]
          },
          "metadata": {},
          "execution_count": 88
        }
      ]
    },
    {
      "cell_type": "code",
      "metadata": {
        "id": "vHEP_VWGU-6o",
        "outputId": "16d7ad2f-e453-4a4d-a0c2-5001eca3da8b",
        "colab": {
          "base_uri": "https://localhost:8080/"
        }
      },
      "source": [
        "X_tfidf.shape"
      ],
      "execution_count": 89,
      "outputs": [
        {
          "output_type": "execute_result",
          "data": {
            "text/plain": [
              "(15361, 3002)"
            ]
          },
          "metadata": {},
          "execution_count": 89
        }
      ]
    },
    {
      "cell_type": "code",
      "metadata": {
        "id": "UOvsVmUkVRBN"
      },
      "source": [
        "V, vocab = processaVetorizacao(dfPreProc_Teste,min_fr=1, max_fr=1, ngrams=(1,2),vocabulario=vocab)\n",
        "X_tfidf_teste = retornaMatriztfIdf(V)\n",
        "y_teste = dfPreProc_Teste['category_nro'].values"
      ],
      "execution_count": 90,
      "outputs": []
    },
    {
      "cell_type": "code",
      "metadata": {
        "id": "PUCmIVs9VexG",
        "colab": {
          "base_uri": "https://localhost:8080/"
        },
        "outputId": "741a2ea5-62c5-43b1-a69f-d6d879fccf3f"
      },
      "source": [
        "X_tfidf_teste.shape"
      ],
      "execution_count": 91,
      "outputs": [
        {
          "output_type": "execute_result",
          "data": {
            "text/plain": [
              "(3849, 3002)"
            ]
          },
          "metadata": {},
          "execution_count": 91
        }
      ]
    },
    {
      "cell_type": "markdown",
      "metadata": {
        "id": "vbNOI3umvJBU"
      },
      "source": [
        "## Naive-Bayes"
      ]
    },
    {
      "cell_type": "code",
      "metadata": {
        "id": "SxjZW-7MMzKv"
      },
      "source": [
        "nb_classifier = MultinomialNB()\n",
        "nb_classifier.fit(X_tfidf, y_treino)\n",
        "y_pred_nb = nb_classifier.predict(X_tfidf_teste)\n",
        "predicted_prob = nb_classifier.predict_proba(X_tfidf_teste)"
      ],
      "execution_count": 92,
      "outputs": []
    },
    {
      "cell_type": "code",
      "metadata": {
        "id": "uqZtuMctHa0V",
        "colab": {
          "base_uri": "https://localhost:8080/"
        },
        "outputId": "a6b07adc-ac3d-4804-a8ab-939a02be88aa"
      },
      "source": [
        "print(predicted_prob[0:3])\n",
        "print(y_teste[0:3])\n",
        "print(y_pred_nb[0:3])"
      ],
      "execution_count": 93,
      "outputs": [
        {
          "output_type": "stream",
          "name": "stdout",
          "text": [
            "[[4.65909752e-04 5.65342877e-04 9.52186844e-01 6.25719492e-04\n",
            "  1.93316059e-02 2.21048874e-02 1.51175220e-03 1.04524687e-03\n",
            "  8.78598658e-04 1.28409306e-03]\n",
            " [2.06938673e-05 1.10612154e-04 2.01956387e-05 3.82323537e-05\n",
            "  1.54935165e-05 3.96081717e-05 7.56355129e-05 9.99445533e-01\n",
            "  1.28958287e-04 1.05037808e-04]\n",
            " [2.26633723e-02 1.92057418e-02 3.56187018e-04 7.38907945e-04\n",
            "  1.73683286e-04 1.46411673e-04 4.19262603e-04 9.55106655e-01\n",
            "  5.62709347e-04 6.27068664e-04]]\n",
            "[2 7 7]\n",
            "[2 7 7]\n"
          ]
        }
      ]
    },
    {
      "cell_type": "code",
      "metadata": {
        "id": "SQ533RsIGhJx",
        "colab": {
          "base_uri": "https://localhost:8080/"
        },
        "outputId": "57aac020-8f23-4ce0-cc64-72b15b94ab6b"
      },
      "source": [
        "imprimeMetricas(y_pred_nb, y_teste,'./classica_resp/nb_v1.scr')"
      ],
      "execution_count": 94,
      "outputs": [
        {
          "output_type": "stream",
          "name": "stdout",
          "text": [
            "Classification Report:\n",
            "          precision    recall  specificity  f1-score  support\n",
            "0          0.717949  0.875000     0.961905  0.788732      384\n",
            "1          0.773684  0.735000     0.975065  0.753846      400\n",
            "2          0.923469  0.896040     0.991292  0.909548      404\n",
            "3          0.859813  0.867925     0.982482  0.863850      424\n",
            "4          0.756356  0.908397     0.966725  0.825434      393\n",
            "5          0.917695  0.553350     0.994196  0.690402      403\n",
            "6          0.794189  0.813896     0.975334  0.803922      403\n",
            "7          0.920863  0.936585     0.990404  0.928658      410\n",
            "8          0.832021  0.895480     0.981688  0.862585      354\n",
            "9          0.839216  0.781022     0.988531  0.809074      274\n",
            "accuracy   0.826968  0.826968     0.980774  0.826968        0\n",
            "Acurácia: 0.8269680436477007\n",
            "Acurácia balanceada: 0.8262694226047984\n",
            "GMean: 0.8187568045027335\n",
            "Cohen Kappa Score: 0.8075163442616957\n",
            "Coef. Correlacao Matheus: 0.8087528815797629\n",
            "***SALVANDO***\n",
            "./classica_resp/nb_v1.scr\n"
          ]
        }
      ]
    },
    {
      "cell_type": "code",
      "metadata": {
        "id": "728qr3F2GhM-",
        "colab": {
          "base_uri": "https://localhost:8080/",
          "height": 518
        },
        "outputId": "049d5604-77e5-4fbd-f65d-5ebd0de95a1d"
      },
      "source": [
        "imprimeROC_PrecisonRecall_curvas(y_teste, predicted_prob )"
      ],
      "execution_count": 95,
      "outputs": [
        {
          "output_type": "display_data",
          "data": {
            "image/png": "[encoded data removed]",
            "text/plain": [
              "<Figure size 864x576 with 2 Axes>"
            ]
          },
          "metadata": {}
        }
      ]
    },
    {
      "cell_type": "markdown",
      "metadata": {
        "id": "ptcoc1RAmlWs"
      },
      "source": [
        "## RANDOM FOREST"
      ]
    },
    {
      "cell_type": "code",
      "metadata": {
        "id": "Xk32mwzfGhQP",
        "colab": {
          "base_uri": "https://localhost:8080/",
          "height": 528
        },
        "outputId": "8e269718-c27e-485c-f73e-13a69edd6638"
      },
      "source": [
        "'''Número de árvores que influencia o resultado'''\n",
        "\n",
        "vscore = []\n",
        "vn = []\n",
        "for n in range(1,100,10):\n",
        "    model = RandomForestClassifier(n_estimators=n, random_state=42)\n",
        "    model.fit(X_tfidf,y_treino)\n",
        "    y_pred = model.predict(X_tfidf_teste) \n",
        "    score = accuracy_score(y_pred, y_teste)\n",
        "    print('Number of Estimators:', n, 'Accuracy:', score)\n",
        "    vscore.append(score)\n",
        "    vn.append(n)\n",
        "best_n = vn[np.argmax(vscore)]\n",
        "print('Melhor n:', best_n, ' com acurácia:', vscore[np.argmax(vscore)] )\n",
        "plt.figure(figsize=(10,5))\n",
        "plt.plot(vn, vscore, '-bo')\n",
        "plt.xlabel('Number of Estimators', fontsize = 15)\n",
        "plt.ylabel('Accuracy', fontsize = 15)\n",
        "plt.show()"
      ],
      "execution_count": 96,
      "outputs": [
        {
          "output_type": "stream",
          "name": "stdout",
          "text": [
            "Number of Estimators: 1 Accuracy: 0.5645622239542738\n",
            "Number of Estimators: 11 Accuracy: 0.7739672642244739\n",
            "Number of Estimators: 21 Accuracy: 0.8077422707196674\n",
            "Number of Estimators: 31 Accuracy: 0.8118991945959989\n",
            "Number of Estimators: 41 Accuracy: 0.8204728500909327\n",
            "Number of Estimators: 51 Accuracy: 0.8222915042868277\n",
            "Number of Estimators: 61 Accuracy: 0.82670823590543\n",
            "Number of Estimators: 71 Accuracy: 0.8287866978435957\n",
            "Number of Estimators: 81 Accuracy: 0.8300857365549493\n",
            "Number of Estimators: 91 Accuracy: 0.8303455442972201\n",
            "Melhor n: 91  com acurácia: 0.8303455442972201\n"
          ]
        },
        {
          "output_type": "display_data",
          "data": {
            "image/png": "[encoded data removed]",
            "text/plain": [
              "<Figure size 720x360 with 1 Axes>"
            ]
          },
          "metadata": {}
        }
      ]
    },
    {
      "cell_type": "code",
      "metadata": {
        "id": "55ZyIiT0GhTQ"
      },
      "source": [
        "kf = KFold(10, random_state=42, shuffle=True)\n",
        "accs = cross_val_score(\n",
        "    RandomForestClassifier(\n",
        "        random_state=42,\n",
        "        n_estimators=best_n\n",
        "    ),\n",
        "    X=X_tfidf,\n",
        "    y=y_treino,\n",
        "    cv=kf,\n",
        "    scoring=\"accuracy\"\n",
        ")"
      ],
      "execution_count": null,
      "outputs": []
    },
    {
      "cell_type": "code",
      "metadata": {
        "id": "10xz4F2oGhWf"
      },
      "source": [
        "np.mean(accs), np.std(accs)"
      ],
      "execution_count": null,
      "outputs": []
    },
    {
      "cell_type": "code",
      "metadata": {
        "id": "4Pl-mgOGrZfQ"
      },
      "source": [
        "model = RandomForestClassifier(\n",
        "    n_estimators=best_n, \n",
        "    random_state=42)\n",
        "model.fit(X_tfidf, y_treino)"
      ],
      "execution_count": null,
      "outputs": []
    },
    {
      "cell_type": "code",
      "metadata": {
        "id": "bzQO8Na_sdHp"
      },
      "source": [
        "y_pred_rf = model.predict(X_tfidf_teste)"
      ],
      "execution_count": null,
      "outputs": []
    },
    {
      "cell_type": "code",
      "metadata": {
        "id": "XEkUpx-HssWY"
      },
      "source": [
        "imprimeMetricas(y_pred_rf, y_teste,'./classica_resp/rf_v1.scr')"
      ],
      "execution_count": null,
      "outputs": []
    },
    {
      "cell_type": "code",
      "metadata": {
        "id": "-Wi-u0_0tyaZ"
      },
      "source": [
        "pred_prob = model.predict_proba(X_tfidf_teste)\n",
        "imprimeROC_PrecisonRecall_curvas(y_teste, pred_prob )"
      ],
      "execution_count": null,
      "outputs": []
    }
  ]
}