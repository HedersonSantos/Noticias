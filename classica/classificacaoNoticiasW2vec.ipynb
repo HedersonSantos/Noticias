{
  "nbformat": 4,
  "nbformat_minor": 0,
  "metadata": {
    "colab": {
      "name": "classificacaoNoticiasW2vec",
      "provenance": [],
      "collapsed_sections": [],
      "include_colab_link": true
    },
    "kernelspec": {
      "name": "python3",
      "display_name": "Python 3"
    },
    "language_info": {
      "name": "python"
    }
  },
  "cells": [
    {
      "cell_type": "markdown",
      "metadata": {
        "id": "view-in-github",
        "colab_type": "text"
      },
      "source": [
        "<a href=\"https://colab.research.google.com/github/HedersonSantos/Noticias/blob/main/classica/classificacaoNoticiasW2vec.ipynb\" target=\"_parent\"><img src=\"https://colab.research.google.com/assets/colab-badge.svg\" alt=\"Open In Colab\"/></a>"
      ]
    },
    {
      "cell_type": "code",
      "metadata": {
        "id": "Z6ntCB_ZoYIR"
      },
      "source": [
        "#https://towardsdatascience.com/text-classification-with-nlp-tf-idf-vs-word2vec-vs-bert-41ff868d1794 (medio)\n",
        "#https://www.kdnuggets.com/2018/11/multi-class-text-classification-model-comparison-selection.html/2 (fraco)\n",
        "#https://realpython.com/python-keras-text-classification/ (fraco)\n",
        "#https://sabber.medium.com/classifying-yelp-review-comments-using-lstm-and-word-embeddings-part-1-eb2275e4066b (fraco)\n",
        "\n",
        "import pandas as pd\n",
        "import numpy as np\n",
        "from datetime import datetime\n",
        "import matplotlib.pyplot as plt\n",
        "from multiprocessing import Pool, Process\n",
        "import multiprocessing as mp\n",
        "from google.colab import files, drive\n",
        "from pathlib import Path\n",
        "import io, os\n",
        "import pickle\n",
        "import pyarrow.parquet as pq\n",
        "pd.set_option('display.max_rows', None)\n",
        "pd.set_option('display.max_colwidth', None)\n",
        "\n",
        "\n",
        "\n",
        "import nltk, re\n",
        "from nltk import word_tokenize\n",
        "from nltk.corpus import stopwords\n",
        "from wordcloud import WordCloud\n",
        "import gensim\n",
        "import gensim.downloader as gensim_api\n",
        "\n",
        "\n",
        "from scipy.stats import uniform, randint\n",
        "\n",
        "from sklearn.feature_extraction.text import CountVectorizer\n",
        "from sklearn.feature_extraction.text import TfidfTransformer\n",
        "from sklearn.model_selection import cross_val_score, KFold, RandomizedSearchCV\n",
        "from sklearn.decomposition import PCA\n",
        "from sklearn.decomposition import TruncatedSVD\n",
        "from sklearn.preprocessing import StandardScaler\n",
        "from sklearn.preprocessing import FunctionTransformer\n",
        "from sklearn.pipeline import make_pipeline\n",
        "\n",
        "\n",
        "from sklearn import feature_selection\n",
        "from sklearn.metrics.pairwise import cosine_similarity\n",
        "from sklearn.neighbors import KNeighborsClassifier\n",
        "from sklearn.naive_bayes import MultinomialNB\n",
        "from sklearn.naive_bayes import GaussianNB\n",
        "from sklearn.ensemble import RandomForestClassifier\n",
        "from sklearn.neural_network import MLPClassifier\n",
        "from sklearn.metrics import accuracy_score, precision_score, \\\n",
        "                            recall_score, confusion_matrix, \\\n",
        "                            plot_confusion_matrix, classification_report, \\\n",
        "                            balanced_accuracy_score, cohen_kappa_score, matthews_corrcoef, \\\n",
        "                            auc, roc_curve, precision_recall_curve\n",
        "\n",
        "from tensorflow.keras import models, layers, preprocessing as kprocessing\n",
        "from tensorflow.keras import backend as K\n",
        "import tensorflow as tf"
      ],
      "execution_count": 1,
      "outputs": []
    },
    {
      "cell_type": "markdown",
      "metadata": {
        "id": "ATJaqnNUqr_L"
      },
      "source": [
        "# Obtendo dataset de noticias tratadas em preProcessamento_noticias"
      ]
    },
    {
      "cell_type": "code",
      "metadata": {
        "id": "NnmIRw0WowrK",
        "colab": {
          "base_uri": "https://localhost:8080/"
        },
        "outputId": "90c96319-18db-40e4-9429-d87bbd1cd353"
      },
      "source": [
        "#!rm news.*\n",
        "#!wget https://raw.githubusercontent.com/HedersonSantos/Noticias/main/news.zip\n",
        "#!unzip news.zip\n",
        "drive.mount('/gdrive')\n",
        "%cd /gdrive/My\\ Drive/Colab\\ Notebooks/\n",
        "!ls -lh \n"
      ],
      "execution_count": 2,
      "outputs": [
        {
          "output_type": "stream",
          "name": "stdout",
          "text": [
            "Drive already mounted at /gdrive; to attempt to forcibly remount, call drive.mount(\"/gdrive\", force_remount=True).\n",
            "/gdrive/My Drive/Colab Notebooks\n",
            "total 4.7M\n",
            "drwx------  8 root root 4.0K Aug 31 12:22  amostra_news_integrada\n",
            "-rw-------  1 root root  57K Jul 13 19:50  artigosWikibr.ipynb\n",
            "drwx------  2 root root 4.0K Aug 30 22:59  bertimbau\n",
            "-rw-------  1 root root  37K Aug  1 23:19 'BERTimbau_com_amostras (1).ipynb'\n",
            "-rw-------  1 root root 158K Sep  2 16:41  BERTimbau_com_amostras.ipynb\n",
            "drwx------ 15 root root 4.0K Aug  7 13:00  bertimbau_resp\n",
            "drwx------  2 root root 4.0K Sep  9 19:58  classica_resp\n",
            "-rw-------  1 root root 125K Sep  6 10:58  classificacaoNoticiasW2vec\n",
            "-rw-------  1 root root 170K Aug  7 17:47 'Cópia de BERTimbau_Testes (1).ipynb'\n",
            "-rw-------  1 root root  98K Aug  7 15:29 'Cópia de BERTimbau_Testes (2).ipynb'\n",
            "-rw-------  1 root root  72K Aug  1 12:19 'Cópia de BERTimbau_Testes (3).ipynb'\n",
            "-rw-------  1 root root  46K Aug  1 11:45 'Cópia de BERTimbau_Testes (4).ipynb'\n",
            "-rw-------  1 root root 168K Aug 23 20:02 'Cópia de BERTimbau_Testes.ipynb'\n",
            "-rw-------  1 root root 3.7M Sep  9 18:27 'Cópia de classificacaoNoticiasW2vec'\n",
            "drwx------  2 root root 4.0K Aug 16 22:40  figuras\n",
            "-rw-------  1 root root 9.7K Aug 16 23:41  ResultadosExperimentos.ipynb\n",
            "-rw-------  1 root root  306 Jul 12 18:08  Untitled\n",
            "-rw-------  1 root root 9.5K Sep  2 18:02  Untitled0.ipynb\n",
            "-rw-------  1 root root 1.2K Jul 12 17:26  Untitled1.ipynb\n",
            "-rw-------  1 root root 2.3K Sep  3 11:25  Untitled2.ipynb\n"
          ]
        }
      ]
    },
    {
      "cell_type": "code",
      "metadata": {
        "colab": {
          "base_uri": "https://localhost:8080/"
        },
        "id": "hsW44sgpaDj-",
        "outputId": "f4c54fae-48d9-49f6-f564-8d01a9f59a01"
      },
      "source": [
        "%cd /gdrive/My\\ Drive/Colab\\ Notebooks/\n",
        "!ls ./amostra_news_integrada/amostra_5\n"
      ],
      "execution_count": 3,
      "outputs": [
        {
          "output_type": "stream",
          "name": "stdout",
          "text": [
            "/gdrive/My Drive/Colab Notebooks\n",
            "test.csv  train.csv  valid.csv\n"
          ]
        }
      ]
    },
    {
      "cell_type": "code",
      "metadata": {
        "colab": {
          "base_uri": "https://localhost:8080/"
        },
        "id": "6CQJzsnkYJz_",
        "outputId": "ad01e063-0ef9-4d6e-d0b1-57ed62b56c8b"
      },
      "source": [
        "mp.cpu_count()"
      ],
      "execution_count": 4,
      "outputs": [
        {
          "output_type": "execute_result",
          "data": {
            "text/plain": [
              "2"
            ]
          },
          "metadata": {},
          "execution_count": 4
        }
      ]
    },
    {
      "cell_type": "markdown",
      "metadata": {
        "id": "hWX1z5Ntq-Ec"
      },
      "source": [
        "# Funções para processamento de Linguagem Natural"
      ]
    },
    {
      "cell_type": "code",
      "metadata": {
        "id": "jmvLl_wTrFR9"
      },
      "source": [
        "def download_pt_stopWords():\n",
        "\n",
        "  '''download das stopwords '''\n",
        "  nltk.download('stopwords') #stopwords\n",
        "  nltk.download('rslp')  #stemming\n",
        "        \n",
        "def removeStopWords( texto, excluirWords:list=None):\n",
        "  '''remove as stopwords do texto. Novas stopwords podem ser adicionadas através da lista excluirWords'''\n",
        "  naoQueridas = nltk.corpus.stopwords.words('portuguese')\n",
        "  if not excluirWords==None:\n",
        "    naoQueridas.extend(excluirWords)\n",
        "  naoQueridas = list(set(naoQueridas))\n",
        "  palavras = [i for i in texto.split() if not i.lower() in naoQueridas]\n",
        "  return (\" \".join(palavras))\n",
        "\n",
        "def aplicaStemming( texto):\n",
        "  ''' obtém o radical das palavras do vocabulário'''\n",
        "  stemmer = nltk.stem.RSLPStemmer()\n",
        "  palavras = []\n",
        "  for w in texto.split():\n",
        "      palavras.append(stemmer.stem(w))\n",
        "  return (\" \".join(palavras))\n",
        "\n",
        "def removeCaracteresNaoDesejados(texto):\n",
        "  textoLimpo = re.sub(r\"http\\S+\", \"\", texto)\n",
        "  textoLimpo = re.sub(r\"www\\..+\\..+\", \"\", texto)\n",
        "  textoLimpo = re.sub(r\"[^a-zA-ZáÁéÉíÍóÓúÚãÃàÀôâÂêÊôÔçÇ ]\", \"\", texto)\n",
        "  return textoLimpo\n",
        "\n",
        "def retornaVetorizacao(X,pct_min=1, pct_max=1, n_grams=(1,1), excluirSW:list=None, vetorPalavras=None, n_top=None):\n",
        "  ''' monta a matriz sparsa com o índice de vocabulário em cada texto. \n",
        "    Retorna a matriz sparsa e o vocabulário '''\n",
        "  if vetorPalavras==None:\n",
        "    count_vect = CountVectorizer(min_df=pct_min, max_df=pct_max, lowercase=True,stop_words=excluirSW, ngram_range=n_grams, max_features=n_top) \n",
        "  else:\n",
        "    count_vect = CountVectorizer(min_df=pct_min, max_df=pct_max, lowercase=True,stop_words=excluirSW, ngram_range=n_grams, vocabulary=vetorPalavras, max_features=n_top)\n",
        "  matriz_sparsa = count_vect.fit_transform(X)\n",
        "  vocabulario = count_vect.fit(X).vocabulary_\n",
        "  return [matriz_sparsa,vocabulario]\n",
        "\n",
        "def retornaMatriztfIdf(V):\n",
        "    ''' em cada documento, calcula o tf-idf de cada palavra\n",
        "        term frequency - inverse document frequency'''\n",
        "    tfidf_transformer = TfidfTransformer()\n",
        "    matriz_tfidf = tfidf_transformer.fit_transform(V)\n",
        "    return matriz_tfidf\n",
        "\n",
        "def reduzDimensionalidadecomPCA( X, nro_dimensao,UT=None):\n",
        "    data_pca= PCA(nro_dimensao)\n",
        "    if UT==None:\n",
        "        UT = data_pca.fit(X)\n",
        "    X_pca =  UT.fit_transform(X)\n",
        "      \n",
        "    return [UT,X_pca]\n",
        "\n",
        "def padronizaValores(X):\n",
        "  X_norm = StandardScaler(with_mean=False).fit_transform(X)\n",
        "  return X_norm\n",
        "\n",
        "def retornaPalavras(listaTexto:list):\n",
        "  words=\"\"\n",
        "  for i in listaTexto: \n",
        "    i = str(i) \n",
        "    separate = i.split() \n",
        "    for j in range(len(separate)): \n",
        "        separate[j] = separate[j].lower() \n",
        "  words += \" \".join(separate)+\" \"\n",
        "  return words\n",
        "def montaWordCloud(words, n_palavras:int, sw=None):\n",
        "  wc = WordCloud(width = 400, height = 200, \n",
        "                background_color ='black', max_words=n_palavras,\n",
        "                min_font_size = 10, stopwords = sw).generate(words)\n",
        "  return wc\n",
        "\n",
        "def imprimiWordCloud(listaTexto:list, n_palavras:int, cluster:str=None, sw=None):\n",
        "  words = retornaPalavras(listaTexto)\n",
        "  wc = montaWordCloud(words, n_palavras, sw)\n",
        "  plt.figure(figsize = (8, 8), facecolor = None) \n",
        "  plt.imshow(wc) \n",
        "  plt.axis(\"off\") \n",
        "  plt.tight_layout(pad = 0) \n",
        "  if not cluster == None:\n",
        "    plt.title('PALAVRAS PARA O CLUSTER ' + cluster)\n",
        "  plt.show()\n",
        "\n",
        "def preProcessaTextos(dfDados):\n",
        "  download_pt_stopWords()\n",
        "  dfDados['text'] = dfDados['text'].astype('unicode')\n",
        "  dfDados['text'] = dfDados['text'].map(removeCaracteresNaoDesejados)\n",
        "  dfDados['text'] = dfDados['text'].map(removeStopWords)\n",
        "  dfDados['text'] = dfDados['text'].map(aplicaStemming)\n",
        "  return dfDados\n",
        "  \n",
        "\n",
        "def PreProcessamentoParalelo(df, n_jobs):\n",
        "  df_split = np.array_split(df,n_jobs)\n",
        "  pool = Pool(n_jobs)\n",
        "  resultado = pool.map(preProcessaTextos, df_split)\n",
        "  df = pd.concat(resultado, sort=False)\n",
        "  return df\n",
        "\n",
        "def processaVetorizacao(dfDados,min_fr=0.01, max_fr=0.7, ngrams=(1,1),n_top=None, localDestinoVocabulario=None, vocabulario=None):\n",
        "  arquivoVetores = 'count_vector.pkl'\n",
        "  if vocabulario != None:\n",
        "    vetorPalavras=vocabulario\n",
        "  elif localDestinoVocabulario==None or Path(localDestinoVocabulario+\"/\"+arquivoVetores).is_file()==False:\n",
        "    vetorPalavras=None\n",
        "  else:\n",
        "    vetorPalavras = carregaEstrutura(localDestinoVocabulario, arquivoVetores)\n",
        "    if not vetorPalavras:\n",
        "      vetorPalavras=None\n",
        "  X = dfDados['text'].values\n",
        "  vetores = retornaVetorizacao(X = X,pct_min = min_fr,pct_max = max_fr,n_grams = ngrams,vetorPalavras = vetorPalavras,n_top = n_top)\n",
        "  if localDestinoVocabulario!=None:\n",
        "    salvaEstrutura(vetores[1],localDestinoVocabulario,arquivoVetores)\n",
        "  V = vetores[0]\n",
        "  return vetores\n",
        "\n",
        "def calcula_especificidade(matriz_confusao):\n",
        "  FP = matriz_confusao.sum(axis=0) - np.diag(matriz_confusao) \n",
        "  FN = matriz_confusao.sum(axis=1) - np.diag(matriz_confusao)\n",
        "  VP = np.diag(matriz_confusao)\n",
        "  VN = matriz_confusao.sum() - (FP + FN + VP)\n",
        "  FP = FP.astype(float)\n",
        "  FN = FN.astype(float)\n",
        "  VP = VP.astype(float)\n",
        "  VN = VN.astype(float)\n",
        "  TVN = np.sum(VN)/(np.sum(VN) + np.sum(FP))\n",
        "  return TVN\n",
        "\n",
        "def calcula_especificidade_porClasse(matriz_confusao):\n",
        "  FP = matriz_confusao.sum(axis=0) - np.diag(matriz_confusao) \n",
        "  FN = matriz_confusao.sum(axis=1) - np.diag(matriz_confusao)\n",
        "  VP = np.diag(matriz_confusao)\n",
        "  VN = matriz_confusao.sum() - (FP + FN + VP)\n",
        "  FP = FP.astype(float)\n",
        "  FN = FN.astype(float)\n",
        "  VP = VP.astype(float)\n",
        "  VN = VN.astype(float)\n",
        "  TVN = (VN)/(VN + FP)\n",
        "  return TVN\n",
        "\n",
        "def calcula_GMean_multiclass(revocacao):\n",
        "   revoc = np.array(revocacao)\n",
        "   GMean = revoc.prod()**(1.0/len(revoc))\n",
        "   return GMean \n",
        "\n",
        "def elabora_relatorio_metricas(report, matriz_confusao):\n",
        "  espec = calcula_especificidade_porClasse(matriz_confusao) # calcula o valor da especificidade para cada classe\n",
        "  dfrep = pd.DataFrame(report).transpose() #transforma o conteúdo do classification_report em um dataframe pandas\n",
        "  dfrep_a = dfrep[:-3].copy() # separa as métricas de cada classe do valor da acurácia geral do modelo\n",
        "  dfrep_a['specificity'] = espec # inclui no dataframe o valor da especificidade\n",
        "  dfrep_b  = dfrep[dfrep.index=='accuracy'].copy() #obtem do dataframe somente o valor da acurácia\n",
        "  dfrep_b['specificity']=calcula_especificidade(matriz_confusao) # inclui o valor da especificidade geral de todas as classes\n",
        "  metricas = ['precision', 'recall', 'specificity', 'f1-score', 'support'] #organiza as métricas na ordem desejada\n",
        "  df = pd.concat([dfrep_a[metricas],dfrep_b[metricas]],sort=False) #concatena todos os valores em um único dataframe\n",
        "  df['support'] = df['support'].astype('int')\n",
        "  return df\n",
        "\n",
        "def imprimeMetricas(y_pred, y_true, caminho_destino):\n",
        "  relatorio = \"\"\n",
        "  print('Classification Report:')\n",
        "  n_classe = np.max(y_true)+1 #obtem o número de classes\n",
        "  report = classification_report(y_true, y_pred, labels=np.arange(0,n_classe), digits=4, output_dict=True) #gera o relatório de métricas\n",
        "  cm = confusion_matrix(y_true, y_pred, labels=np.arange(0,n_classe)) #gera a matriz de confusao\n",
        "  report = elabora_relatorio_metricas(report, cm) #inclui no relatorio a especificidade\n",
        "  \n",
        "  print(report)\n",
        "\n",
        "  acuracia_score = accuracy_score(y_true, y_pred)\n",
        "  cohen_kappa = cohen_kappa_score(y_true, y_pred,labels=np.arange(0,n_classe))\n",
        "  ccmatheus = matthews_corrcoef(y_true, y_pred)\n",
        "  Gmean = calcula_GMean_multiclass(report['recall'])\n",
        "  acuracia_balanceada = balanced_accuracy_score(y_true, y_pred)\n",
        "\n",
        "  print(\"Acurácia:\",acuracia_score)\n",
        "  print('Acurácia balanceada:',acuracia_balanceada)\n",
        "  print('GMean:', Gmean)\n",
        "  print('Cohen Kappa Score:', cohen_kappa)\n",
        "  print('Coef. Correlacao Matheus:', ccmatheus)\n",
        "  \n",
        "  y = caminho_destino.split('/')\n",
        "  arquivo = y[-1:][0].split('.')[0]\n",
        "  report.to_csv('/'.join(y[:-1]) + '/' + arquivo + \".csv\", index=None)\n",
        "  outrasMetricas  = \"Acurácia:\" + str(acuracia_score)\n",
        "  outrasMetricas  += '\\n Acurácia balanceada:' + str(acuracia_balanceada)\n",
        "  outrasMetricas  += '\\n GMean:' + str(Gmean)\n",
        "  outrasMetricas  += '\\n Cohen Kappa Score:' + str(cohen_kappa)\n",
        "  outrasMetricas  += '\\n Coef. Correlacao Matheus:' + str(ccmatheus)\n",
        "  \n",
        "  \n",
        "  salvaEstrutura(outrasMetricas, '/'.join(y[:-1]), y[-1:][0])\n",
        "  \n",
        "\n",
        "def imprimeROC_PrecisonRecall_curvas(y_teste,predicted_prob):\n",
        "  classes = np.unique(y_teste)\n",
        "  y_test_array = pd.get_dummies(y_teste, drop_first=False).values\n",
        "  fig, ax = plt.subplots(figsize=(12,8),nrows=1, ncols=2)\n",
        "  ## Plot roc\n",
        "  for i in range(len(classes)):\n",
        "      fpr, tpr, thresholds = roc_curve(y_test_array[:,i],  \n",
        "                            predicted_prob[:,i])\n",
        "      ax[0].plot(fpr, tpr, lw=3, \n",
        "                label='{0} (area={1:0.2f})'.format(classes[i], \n",
        "                                auc(fpr, tpr))\n",
        "                )\n",
        "  ax[0].plot([0,1], [0,1], color='navy', lw=3, linestyle='--')\n",
        "  ax[0].set(xlim=[-0.05,1.0], ylim=[0.0,1.05], \n",
        "            xlabel='False Positive Rate', \n",
        "            ylabel=\"True Positive Rate (Recall)\", \n",
        "            title=\"Receiver operating characteristic\")\n",
        "  ax[0].legend(loc=\"lower right\")\n",
        "  ax[0].grid(True)\n",
        "\n",
        "  ## Plot precision-recall curve\n",
        "  for i in range(len(classes)):\n",
        "      precision, recall, thresholds = precision_recall_curve(\n",
        "                  y_test_array[:,i], predicted_prob[:,i])\n",
        "      ax[1].plot(recall, precision, lw=3, \n",
        "                label='{0} (area={1:0.2f})'.format(classes[i], \n",
        "                                    auc(recall, precision))\n",
        "                )\n",
        "  ax[1].set(xlim=[0.0,1.05], ylim=[0.0,1.05], xlabel='Recall', \n",
        "            ylabel=\"Precision\", title=\"Precision-Recall curve\")\n",
        "  ax[1].legend(loc=\"best\")\n",
        "  ax[1].grid(True)\n",
        "  plt.show()\n",
        "\n",
        "def salvaEstrutura(estrutura, local, arquivo):\n",
        "  print('***SALVANDO***')\n",
        "  print(local + \"/\" + arquivo)\n",
        "  pickle.dump(estrutura,open(local + \"/\" + arquivo,'wb'))\n",
        "\n",
        "def carregaEstrutura(local, arquivo):\n",
        "  estrutura = pickle.load(open(local + \"/\" + arquivo,'rb'))\n",
        "  return estrutura\n",
        "\n",
        "def obtemListasn_grams(corpus):\n",
        "  ''' transformar o texto das noticias em uma lista de n-grams. Usaremos uni-gramas, bi-gramas e tri-gramas '''\n",
        "  ## cria uma lista de uni-grams\n",
        "  lst_corpus = []\n",
        "  for string in corpus:\n",
        "    lst_words = string.split() #cria uma lista com as palavras da noticia\n",
        "    lst_grams = [\" \".join(lst_words[i:i+1]) \n",
        "                for i in range(0, len(lst_words), 1)] #gera uma lista de combinação palavra a palavra (1-ngram)\n",
        "    lst_corpus.append(lst_grams)\n",
        "\n",
        "  ## detect bigrams and trigrams\n",
        "  bigrams_detector = gensim.models.phrases.Phrases(lst_corpus, \n",
        "                  delimiter=\" \".encode(), min_count=5, threshold=10)\n",
        "  bigrams_detector = gensim.models.phrases.Phraser(bigrams_detector)\n",
        "  trigrams_detector = gensim.models.phrases.Phrases(bigrams_detector[lst_corpus], \n",
        "              delimiter=\" \".encode(), min_count=5, threshold=10)\n",
        "  trigrams_detector = gensim.models.phrases.Phraser(trigrams_detector)\n",
        "  return [lst_corpus, bigrams_detector, trigrams_detector]\n",
        "\n",
        "def tokenizar(lst_corpus, max_seq_length):\n",
        "  #Transformar o corpus pré-processado (lista de n-gramas: lst_corpous) em uma lista de sequência usando tensorflow/keras\n",
        "  #tokenizar o texto - monta um dicionário cujas chaves são as palavras do texto e o value é um identificador (sequencial) da palavra.\n",
        "  tokenizer = kprocessing.text.Tokenizer() \n",
        "  tokenizer.fit_on_texts (lst_corpus) \n",
        "  dic_vocabulary = tokenizer.word_index\n",
        "\n",
        "  #criar sequência - para cada noticia, obtem o id de cada palavra no vocabulário\n",
        "  lst_text2seq = tokenizer.texts_to_sequences (lst_corpus)\n",
        "\n",
        "  #sequencia preenchimento - transforma a lista em um array numpy e limita o tamanho do vetor de cada noticia. \n",
        "  #                          Usaremos limite de 128. Sequencias menores que estas são preenchidas para ficar com 128.\n",
        "  #                          Usaremos tanto o preenchimento (padding) quanto o corte (truncating) após as 128 palavras. \n",
        "  X = kprocessing.sequence.pad_sequences(lst_text2seq, \n",
        "                                                maxlen = max_seq_length, padding = \"post\", truncating = \"post\")\n",
        "  return [X, lst_text2seq, dic_vocabulary]"
      ],
      "execution_count": 5,
      "outputs": []
    },
    {
      "cell_type": "markdown",
      "metadata": {
        "id": "j_Sln_Vau32S"
      },
      "source": [
        "\n",
        "\n",
        "```\n",
        "# Isto está formatado como código\n",
        "```\n",
        "\n",
        "# Prepara dataset para classificação com algoritmos clássicos"
      ]
    },
    {
      "cell_type": "code",
      "metadata": {
        "id": "zZ2xC0jmIIIE",
        "colab": {
          "base_uri": "https://localhost:8080/"
        },
        "outputId": "3bedb189-cddb-4a5d-cd25-49ad8f2918b5"
      },
      "source": [
        "#dfDados = pd.read_csv('news_integradas.csv')\n",
        "dfTreino = pd.read_csv('./amostra_news_integrada/amostra_5/train.csv')\n",
        "dfvalidacao = pd.read_csv('./amostra_news_integrada/amostra_5/valid.csv')\n",
        "dfteste = pd.read_csv('./amostra_news_integrada/amostra_5/test.csv')\n",
        "dfTreino = pd.concat([dfvalidacao, dfTreino], sort=False)\n",
        "print(dfTreino.shape, dfteste.shape)"
      ],
      "execution_count": 6,
      "outputs": [
        {
          "output_type": "stream",
          "name": "stdout",
          "text": [
            "(17320, 2) (1925, 2)\n"
          ]
        }
      ]
    },
    {
      "cell_type": "code",
      "metadata": {
        "colab": {
          "base_uri": "https://localhost:8080/",
          "height": 622
        },
        "id": "1C8HtgdwILvc",
        "outputId": "91489e25-2132-4330-96be-7951a837e640"
      },
      "source": [
        "df = dfTreino['category_nro'].value_counts()\n",
        "print(dfTreino['category_nro'].unique().size)\n",
        "df.plot.bar(figsize=(14,10))\n",
        "#'politica', 'economia', 'esporte', 'mundo', 'ilustrada', 'midia', 'tecnologia', 'educação', 'saude', 'ciencia'"
      ],
      "execution_count": 7,
      "outputs": [
        {
          "output_type": "stream",
          "name": "stdout",
          "text": [
            "10\n"
          ]
        },
        {
          "output_type": "execute_result",
          "data": {
            "text/plain": [
              "<matplotlib.axes._subplots.AxesSubplot at 0x7f6643d55910>"
            ]
          },
          "metadata": {},
          "execution_count": 7
        },
        {
          "output_type": "display_data",
          "data": {
            "image/png": "[encoded data removed]",
            "text/plain": [
              "<Figure size 1008x720 with 1 Axes>"
            ]
          },
          "metadata": {
            "needs_background": "light"
          }
        }
      ]
    },
    {
      "cell_type": "code",
      "metadata": {
        "colab": {
          "base_uri": "https://localhost:8080/"
        },
        "id": "2StJlfb_vCMx",
        "outputId": "6d5149fa-75e7-49da-feb8-89c0ca62dfc8"
      },
      "source": [
        "%%time\n",
        "#para w2vec está sem stemizacao\n",
        "dfPreProc = PreProcessamentoParalelo(dfTreino,mp.cpu_count())\n",
        "#dfPreProc = preProcessaTextos(dfTreino)\n"
      ],
      "execution_count": 8,
      "outputs": [
        {
          "output_type": "stream",
          "name": "stdout",
          "text": [
            "[nltk_data] Downloading package stopwords to /root/nltk_data...\n",
            "[nltk_data]   Package stopwords is already up-to-date!\n",
            "[nltk_data] Downloading package rslp to /root/nltk_data...\n",
            "[nltk_data]   Package rslp is already up-to-date!\n",
            "[nltk_data] Downloading package stopwords to /root/nltk_data...\n",
            "[nltk_data]   Package stopwords is already up-to-date!\n",
            "[nltk_data] Downloading package rslp to /root/nltk_data...\n",
            "[nltk_data]   Package rslp is already up-to-date!\n",
            "CPU times: user 2.05 s, sys: 567 ms, total: 2.62 s\n",
            "Wall time: 4min 55s\n"
          ]
        }
      ]
    },
    {
      "cell_type": "code",
      "metadata": {
        "id": "7k3HMohJ3Dv9",
        "colab": {
          "base_uri": "https://localhost:8080/",
          "height": 816
        },
        "outputId": "a3f54add-7fc2-4ade-bae9-5da168b3b167"
      },
      "source": [
        "print(dfPreProc.shape)\n",
        "dfPreProc.head()"
      ],
      "execution_count": 9,
      "outputs": [
        {
          "output_type": "stream",
          "name": "stdout",
          "text": [
            "(17320, 2)\n"
          ]
        },
        {
          "output_type": "execute_result",
          "data": {
            "text/html": [
              "<div>\n",
              "<style scoped>\n",
              "    .dataframe tbody tr th:only-of-type {\n",
              "        vertical-align: middle;\n",
              "    }\n",
              "\n",
              "    .dataframe tbody tr th {\n",
              "        vertical-align: top;\n",
              "    }\n",
              "\n",
              "    .dataframe thead th {\n",
              "        text-align: right;\n",
              "    }\n",
              "</style>\n",
              "<table border=\"1\" class=\"dataframe\">\n",
              "  <thead>\n",
              "    <tr style=\"text-align: right;\">\n",
              "      <th></th>\n",
              "      <th>text</th>\n",
              "      <th>category_nro</th>\n",
              "    </tr>\n",
              "  </thead>\n",
              "  <tbody>\n",
              "    <tr>\n",
              "      <th>0</th>\n",
              "      <td>jog will smith campeã sup bowl grand final lig futebol americ est unid new orle saint assassin noit dest sáb new orle smith mulh racquel bale após acid trânsit jog resist fer morr local deix trê filh racquel ating doi tir pern encaminh hospit est saúd divulg smith jog saint assin contrat new england patriot cheg jog tim nfl</td>\n",
              "      <td>2</td>\n",
              "    </tr>\n",
              "    <tr>\n",
              "      <th>1</th>\n",
              "      <td>após admit equívoc deix méd institut feder result en exam nacion ensin médi inep institut nacion estud pesquis educac divulg dad escol hav fic public orig acord inep divulg result nov escol oferec ensin médi integr educ profiss dua mai méd en ambas priv lic art ofíci paul colégi viscond port segur val sp campu vitór institut feder espírit sant hav obt lug tod escol públic país prov obje fic pos ranking atual segund inep escol not divulg dia outubr result modific nov cálcul pass inclu alun ensin médi integr educ profiss dess instituiç vej aqu planilh result ferrament busc sit minist educ aind cont dad atual acord past plataform atual nest sextaf</td>\n",
              "      <td>7</td>\n",
              "    </tr>\n",
              "    <tr>\n",
              "      <th>2</th>\n",
              "      <td>unicamp univers estad campin vai econom cerc r milh mê congel salári profes acim tet paul cúpul univers porém continu receb val acim dess limit constitu determin serv públic estad pod ganh govern gerald alckmin psdb receb atual r mil brut exceç procur cuj tet mai r mil segu regr judici unicamp docent ativ aposent salári mai tet pass ter venc limit após decis tribun justiç segundaf conform antecip folh desembarg câm direit públic derrub limin decis provisór proib univers aplic redu cúpul univers porém dev continu receb alckmin porqu nov profes carg import unicamp têm doi númer matrícul salári difer cad segund unicamp tet aplic cad matrícul dess mod apen salári cúpul administr limit rei josé tad jorg exempl junh salári brut r mil outr r mil nov decis soment prim venc congel unicamp justif salári duplic sob argument cúpul cumpr papel docent dirig temp diz aind possibil acumul venc lev consider som remuneraç extrapol tet aind discuss definitiv julg tce tribun cont est financi basic recurs govern estad unicamp pass dificuldad financ orç cerc r bilh compromet folh pag ideal máx edit artefolhapres adunicamp dire adunicamp associ docent afirm ser contr dupl remuner cúpul reun associ seman pass diss rei prórei ganh gratific represent aument venc sobr congel salári docent entidad diz vai recorr decis tribun justiç stj superi tribun justiç stf supr tribun feder prim secret adunicamp paul oliv corret carr acadêm ser amarr carg polít fic sujeit condiç moment hum polít afirm profes mai salári cheg top carr após ano dedic docent univers paul defend assemble legisl cri tet únic funcion paul assim ocorr est argument hav fug cad vez mai profes pesquis qualific batalh cort salári unicamp vir batalh tribun ano pass univers pass limit pag abril cumpr decis tce adunicamp entr justiç obtev limin mes suspend med ocas argument limit pag desrespeit isonom serv poi procur univers inclu tet isonom docent univers estad feder cuj tet salar mai sustent profes têm direit adquir legisl imped reduç salári fever dest ano justiç emit prim decis mérit cas autoriz cort segund univers entend confirm agor segund inst result unicamp seguir aplic decis tce congel tet salar docent divulg aplic tet salar alv polêm outr univers estad paul fim ano pass usp unesp unicamp entend pod entr cômput vantag salar adquir serv ant emend constitu deix regr cl instituiç pass ent cort serv val exced salári govern exclu vantag adquir ant daquel ano supr tribun feder porém decid outubr tod vantag dev ser consider cômput tet salar contrari lógic univers salári númer exat serv unicamp salári mai govern conhec mê pass univers vinh recus mostr dad julh public sit list númer matrícul salári mil serv ativ aposent inici ocorr após determin justiç bas açã mov folh abert dad assim acontec cas usp</td>\n",
              "      <td>7</td>\n",
              "    </tr>\n",
              "    <tr>\n",
              "      <th>3</th>\n",
              "      <td>ano grand fabric ócul real virtual coloc aparelh merc ano câm grau vão cheg mão usu profiss opç disposi captur costur imag tod direç espalhams estand corr ce mai feir tecnolog mund abr port nest quartaf nikon exempl anunci nest terçaf keymission tamanh gopr capt imag tod direç resoluç k prim fabric tradic câm apost merc amad imag grau pesso quer adot tecnolog necess profiss fotograf víde ant hav apen opç empr ricoh cheg ócul real virtual oferec experi imers tip conteúd fabric pass apost model tend análog àquel inici prim model gopr coloc fotograf açã ant exig equip car complex mão usári comum hoj youtub facebook oferec possibil public víde grau fabric câm quer agor captur imag dess tip tão simpl quant tir fot tradic gopr apost ecossistem câm pequenin poder resist vem mont ano desd prim model her carrochef empr spheric solutiom conjunt equip softw feit produz conteúd grau suport encaix gopr vár direç difer aplic costur tud imag final ricoh ce câm thet receb boa crít ediç feir outr opç fabric menos conhec procur espaç sol merc cad vez competi pavilh centr exib cham atenç and corr port hast bol verd top câm esfér panon pioneir segment começ ser desenvolv aind aind companh nok ozo câm real virtual nok fly imagin empres pet adderton fã esport radic par ser gopr merc grau jornal viaj convit samsung</td>\n",
              "      <td>6</td>\n",
              "    </tr>\n",
              "    <tr>\n",
              "      <th>4</th>\n",
              "      <td>levant conselh feder medicin cfm neurolog sistem únic saúd su tod país cerc médic afirm cont serviç públic mecan tri identific imediat paci sofr avc acid vascul cerebr segund acess tomograf minut hiderald cabeç câm técn neurolog neurocirurg cfm diz tomograf tri import diferenci avc isquêm interrupç flux sanguíne quadr comum avc hemorrág romp vas sanguíne identific precis aplic trat apropri depend temp realiz atend h após avc quant temp dem men chanc indivídu recuper paci fic sequel diz cerc médic pesquis afirm cont medic trombolí promov desobstruç artér trat imediat paci dess popul médic diz possível faz básic diz cabeç contud segund daniel ciamp neurolog hospit clín profes usp problem vão além cheg rápid hospit dificuldad pres tod mund cois identific tip derram popul geral sab alguém tend avc outr problem diz ciamp sinal avc falt respost fraqu repentin lad corp boc tort dificuldad fal ciamp diz trein clín geral emergenc reconhec sab trat avc import tend vis imposs hav neurolog plant tod lug hospitaisescol falt remédi sei hospit pequen vai ter trombolí médic trein faz trombólis rupt tromb caus avc segund dad organiz mund saúd avc provoc milh mort mund cond princip respons incapacit pesso obes diabet colesterol alt hipertens estr sedentar mulh enxaquec uso pílul anticoncepc pod ser fat risc segund cabeç dad obt pesquis encaminh minist saúd minist afirm enfrent problem infraestrut aument frot ambulânc ampli recurs destin compr medic past trabalh reforç atenç básic nível assist imprescind atend paci sofr avc inclusiv atend car estrut apont conselh feder medicin cfm post saúd diz not</td>\n",
              "      <td>8</td>\n",
              "    </tr>\n",
              "  </tbody>\n",
              "</table>\n",
              "</div>"
            ],
            "text/plain": [
              "                                                                                                                                                                                                                                                                                                                                                                                                                                                                                                                                                                                                                                                                                                                                                                                                                                                                                                                                                                                                                                                                                                                                                                                                                                                                                                                                                                                                                                                                                                                                                                                                                                                                                                                                                                                                                                                                                                                                                                                                                                                                                                                                                                                                                                                                                                                                                                                                                                                                                                                                                                                                                                                                                                                                                                                                                                                                                        text  category_nro\n",
              "0                                                                                                                                                                                                                                                                                                                                                                                                                                                                                                                                                                                                                                                                                                                                                                                                                                                                                                                                                                                                                                                                                                                                                                                                                                                                                                                                                                                                                                                                                                                                                                                                                                                                                                                                                                                                                                                                                                                                                                                                                                                                                                                                                                                                                                                                                                                                                                                                                                                                                                                                                      jog will smith campeã sup bowl grand final lig futebol americ est unid new orle saint assassin noit dest sáb new orle smith mulh racquel bale após acid trânsit jog resist fer morr local deix trê filh racquel ating doi tir pern encaminh hospit est saúd divulg smith jog saint assin contrat new england patriot cheg jog tim nfl             2\n",
              "1                                                                                                                                                                                                                                                                                                                                                                                                                                                                                                                                                                                                                                                                                                                                                                                                                                                                                                                                                                                                                                                                                                                                                                                                                                                                                                                                                                                                                                                                                                                                                                                                                                                                                                                                                                                                                                                                                                                                                                                                                                                                                                                                                                                                               após admit equívoc deix méd institut feder result en exam nacion ensin médi inep institut nacion estud pesquis educac divulg dad escol hav fic public orig acord inep divulg result nov escol oferec ensin médi integr educ profiss dua mai méd en ambas priv lic art ofíci paul colégi viscond port segur val sp campu vitór institut feder espírit sant hav obt lug tod escol públic país prov obje fic pos ranking atual segund inep escol not divulg dia outubr result modific nov cálcul pass inclu alun ensin médi integr educ profiss dess instituiç vej aqu planilh result ferrament busc sit minist educ aind cont dad atual acord past plataform atual nest sextaf             7\n",
              "2  unicamp univers estad campin vai econom cerc r milh mê congel salári profes acim tet paul cúpul univers porém continu receb val acim dess limit constitu determin serv públic estad pod ganh govern gerald alckmin psdb receb atual r mil brut exceç procur cuj tet mai r mil segu regr judici unicamp docent ativ aposent salári mai tet pass ter venc limit após decis tribun justiç segundaf conform antecip folh desembarg câm direit públic derrub limin decis provisór proib univers aplic redu cúpul univers porém dev continu receb alckmin porqu nov profes carg import unicamp têm doi númer matrícul salári difer cad segund unicamp tet aplic cad matrícul dess mod apen salári cúpul administr limit rei josé tad jorg exempl junh salári brut r mil outr r mil nov decis soment prim venc congel unicamp justif salári duplic sob argument cúpul cumpr papel docent dirig temp diz aind possibil acumul venc lev consider som remuneraç extrapol tet aind discuss definitiv julg tce tribun cont est financi basic recurs govern estad unicamp pass dificuldad financ orç cerc r bilh compromet folh pag ideal máx edit artefolhapres adunicamp dire adunicamp associ docent afirm ser contr dupl remuner cúpul reun associ seman pass diss rei prórei ganh gratific represent aument venc sobr congel salári docent entidad diz vai recorr decis tribun justiç stj superi tribun justiç stf supr tribun feder prim secret adunicamp paul oliv corret carr acadêm ser amarr carg polít fic sujeit condiç moment hum polít afirm profes mai salári cheg top carr após ano dedic docent univers paul defend assemble legisl cri tet únic funcion paul assim ocorr est argument hav fug cad vez mai profes pesquis qualific batalh cort salári unicamp vir batalh tribun ano pass univers pass limit pag abril cumpr decis tce adunicamp entr justiç obtev limin mes suspend med ocas argument limit pag desrespeit isonom serv poi procur univers inclu tet isonom docent univers estad feder cuj tet salar mai sustent profes têm direit adquir legisl imped reduç salári fever dest ano justiç emit prim decis mérit cas autoriz cort segund univers entend confirm agor segund inst result unicamp seguir aplic decis tce congel tet salar docent divulg aplic tet salar alv polêm outr univers estad paul fim ano pass usp unesp unicamp entend pod entr cômput vantag salar adquir serv ant emend constitu deix regr cl instituiç pass ent cort serv val exced salári govern exclu vantag adquir ant daquel ano supr tribun feder porém decid outubr tod vantag dev ser consider cômput tet salar contrari lógic univers salári númer exat serv unicamp salári mai govern conhec mê pass univers vinh recus mostr dad julh public sit list númer matrícul salári mil serv ativ aposent inici ocorr após determin justiç bas açã mov folh abert dad assim acontec cas usp             7\n",
              "3                                                                                                                                                                                                                                                                                                                                                                                                                                                                                                                                                                                                                                                                                                                                                                                                                                                                                                                                                                                                                                                                                                                                                                                                                                                                                                                                                                                                                                                                                                                          ano grand fabric ócul real virtual coloc aparelh merc ano câm grau vão cheg mão usu profiss opç disposi captur costur imag tod direç espalhams estand corr ce mai feir tecnolog mund abr port nest quartaf nikon exempl anunci nest terçaf keymission tamanh gopr capt imag tod direç resoluç k prim fabric tradic câm apost merc amad imag grau pesso quer adot tecnolog necess profiss fotograf víde ant hav apen opç empr ricoh cheg ócul real virtual oferec experi imers tip conteúd fabric pass apost model tend análog àquel inici prim model gopr coloc fotograf açã ant exig equip car complex mão usári comum hoj youtub facebook oferec possibil public víde grau fabric câm quer agor captur imag dess tip tão simpl quant tir fot tradic gopr apost ecossistem câm pequenin poder resist vem mont ano desd prim model her carrochef empr spheric solutiom conjunt equip softw feit produz conteúd grau suport encaix gopr vár direç difer aplic costur tud imag final ricoh ce câm thet receb boa crít ediç feir outr opç fabric menos conhec procur espaç sol merc cad vez competi pavilh centr exib cham atenç and corr port hast bol verd top câm esfér panon pioneir segment começ ser desenvolv aind aind companh nok ozo câm real virtual nok fly imagin empres pet adderton fã esport radic par ser gopr merc grau jornal viaj convit samsung             6\n",
              "4                                                                                                                                                                                                                                                                                                                                                                                                                                                                                                                                                                                                                                                                                                                                                                                                                                                                                                                                                                                                                                                                                                                                                                                                                     levant conselh feder medicin cfm neurolog sistem únic saúd su tod país cerc médic afirm cont serviç públic mecan tri identific imediat paci sofr avc acid vascul cerebr segund acess tomograf minut hiderald cabeç câm técn neurolog neurocirurg cfm diz tomograf tri import diferenci avc isquêm interrupç flux sanguíne quadr comum avc hemorrág romp vas sanguíne identific precis aplic trat apropri depend temp realiz atend h após avc quant temp dem men chanc indivídu recuper paci fic sequel diz cerc médic pesquis afirm cont medic trombolí promov desobstruç artér trat imediat paci dess popul médic diz possível faz básic diz cabeç contud segund daniel ciamp neurolog hospit clín profes usp problem vão além cheg rápid hospit dificuldad pres tod mund cois identific tip derram popul geral sab alguém tend avc outr problem diz ciamp sinal avc falt respost fraqu repentin lad corp boc tort dificuldad fal ciamp diz trein clín geral emergenc reconhec sab trat avc import tend vis imposs hav neurolog plant tod lug hospitaisescol falt remédi sei hospit pequen vai ter trombolí médic trein faz trombólis rupt tromb caus avc segund dad organiz mund saúd avc provoc milh mort mund cond princip respons incapacit pesso obes diabet colesterol alt hipertens estr sedentar mulh enxaquec uso pílul anticoncepc pod ser fat risc segund cabeç dad obt pesquis encaminh minist saúd minist afirm enfrent problem infraestrut aument frot ambulânc ampli recurs destin compr medic past trabalh reforç atenç básic nível assist imprescind atend paci sofr avc inclusiv atend car estrut apont conselh feder medicin cfm post saúd diz not             8"
            ]
          },
          "metadata": {},
          "execution_count": 9
        }
      ]
    },
    {
      "cell_type": "code",
      "metadata": {
        "colab": {
          "base_uri": "https://localhost:8080/"
        },
        "id": "dxhXdXAcG4YR",
        "outputId": "1d64b991-e6f9-4462-ff66-83fb581277af"
      },
      "source": [
        "dfPreProc_Teste = PreProcessamentoParalelo(dfteste,mp.cpu_count())"
      ],
      "execution_count": 10,
      "outputs": [
        {
          "output_type": "stream",
          "name": "stdout",
          "text": [
            "[nltk_data] Downloading package stopwords to /root/nltk_data...\n",
            "[nltk_data]   Package stopwords is already up-to-date!\n",
            "[nltk_data] Downloading package stopwords to /root/nltk_data...\n",
            "[nltk_data] Downloading package rslp to /root/nltk_data...\n",
            "[nltk_data]   Package rslp is already up-to-date!\n",
            "[nltk_data]   Package stopwords is already up-to-date!\n",
            "[nltk_data] Downloading package rslp to /root/nltk_data...\n",
            "[nltk_data]   Package rslp is already up-to-date!\n"
          ]
        }
      ]
    },
    {
      "cell_type": "markdown",
      "metadata": {
        "id": "dUCZM0Jaq9Zc"
      },
      "source": [
        "CRIANDO WORD2VEC"
      ]
    },
    {
      "cell_type": "code",
      "metadata": {
        "id": "ke4TVkvuIGyu"
      },
      "source": [
        "''' transformar o texto das noticias em uma lista de n-grams. Usaremos uni-gramas, bi-gramas e tri-gramas\n",
        "  algoritmo obtido do artigo https://towardsdatascience.com/text-classification-with-nlp-tf-idf-vs-word2vec-vs-bert-41ff868d1794\n",
        "'''\n",
        "lst_corpus, bigrams_detector, trigrams_detector =  obtemListasn_grams(dfPreProc['text'])\n",
        "lst_corpus_teste, bigrams_teste, trigrams_teste =  obtemListasn_grams(dfPreProc_Teste['text'])"
      ],
      "execution_count": 11,
      "outputs": []
    },
    {
      "cell_type": "code",
      "metadata": {
        "colab": {
          "base_uri": "https://localhost:8080/"
        },
        "id": "n_e8GgLC9WsW",
        "outputId": "5dbe6fe3-55d3-49ab-bf75-5b543d5c31a3"
      },
      "source": [
        "tamanho = [len(i) for i in lst_corpus]\n",
        "print('menor:', min(tamanho),'media:', np.round(np.mean(tamanho),1), 'mediana:',np.median(tamanho), 'maximo:',max(tamanho) )"
      ],
      "execution_count": 12,
      "outputs": [
        {
          "output_type": "stream",
          "name": "stdout",
          "text": [
            "menor: 1 media: 253.1 mediana: 216.0 maximo: 5235\n"
          ]
        }
      ]
    },
    {
      "cell_type": "code",
      "metadata": {
        "colab": {
          "base_uri": "https://localhost:8080/"
        },
        "id": "QWQavIebD3-9",
        "outputId": "59870121-0d70-4247-bcdb-c1af1bf716ae"
      },
      "source": [
        "[[i,t] for i,t in enumerate(tamanho)][0:10]\n"
      ],
      "execution_count": 13,
      "outputs": [
        {
          "output_type": "execute_result",
          "data": {
            "text/plain": [
              "[[0, 59],\n",
              " [1, 113],\n",
              " [2, 465],\n",
              " [3, 229],\n",
              " [4, 259],\n",
              " [5, 412],\n",
              " [6, 460],\n",
              " [7, 107],\n",
              " [8, 25],\n",
              " [9, 123]]"
            ]
          },
          "metadata": {},
          "execution_count": 13
        }
      ]
    },
    {
      "cell_type": "code",
      "metadata": {
        "colab": {
          "base_uri": "https://localhost:8080/"
        },
        "id": "MKBi2E2pq4bV",
        "outputId": "d69f4fb2-ed63-4128-91ad-1a1c4e0ec40d"
      },
      "source": [
        "print(list(bigrams_detector.phrasegrams.keys())[0:10])\n",
        "print(list(trigrams_detector.phrasegrams.keys())[0:10])\n"
      ],
      "execution_count": 14,
      "outputs": [
        {
          "output_type": "stream",
          "name": "stdout",
          "text": [
            "[(b'will', b'smith'), (b'sup', b'bowl'), (b'futebol', b'americ'), (b'est', b'unid'), (b'new', b'orle'), (b'noit', b'dest'), (b'dest', b's\\xc3\\xa1b'), (b'ap\\xc3\\xb3s', b'acid'), (b'acid', b'tr\\xc3\\xa2nsit'), (b'encaminh', b'hospit')]\n",
            "[(b'will', b'smith'), (b'sup', b'bowl'), (b'futebol', b'americ'), (b'est', b'unid'), (b'new', b'orle'), (b'noit', b'dest'), (b'noit', b'dest s\\xc3\\xa1b'), (b'noit dest', b's\\xc3\\xa1b'), (b'ap\\xc3\\xb3s', b'acid'), (b'encaminh', b'hospit')]\n"
          ]
        }
      ]
    },
    {
      "cell_type": "code",
      "metadata": {
        "id": "MOUogTkBq4eb",
        "colab": {
          "base_uri": "https://localhost:8080/",
          "height": 52
        },
        "outputId": "d1e3578c-77fd-460f-df1a-bfbf9fa02e17"
      },
      "source": [
        "## fit w2v\n",
        "#window = distância máxima entre a palavra atual e a palavra a ser predita dentro de uma sentença\n",
        "#min_count = frequência mínima a ser considerada \n",
        "#sg ({0, 1}, optional) – Training algorithm: 1 for skip-gram; otherwise CBOW.\n",
        "'''nlp = gensim.models.word2vec.Word2Vec(sentences=lst_corpus, size=300,   \n",
        "            window=5, min_count=1, sg=1, iter=50, seed=42, workers=mp.cpu_count())\n",
        "nlp.save('./classica_resp/nlp_w2vec.sav')'''"
      ],
      "execution_count": 15,
      "outputs": [
        {
          "output_type": "execute_result",
          "data": {
            "application/vnd.google.colaboratory.intrinsic+json": {
              "type": "string"
            },
            "text/plain": [
              "\"nlp = gensim.models.word2vec.Word2Vec(sentences=lst_corpus, size=300,   \\n            window=5, min_count=1, sg=1, iter=50, seed=42, workers=mp.cpu_count())\\nnlp.save('./classica_resp/nlp_w2vec.sav')\""
            ]
          },
          "metadata": {},
          "execution_count": 15
        }
      ]
    },
    {
      "cell_type": "code",
      "metadata": {
        "id": "sgiehQ0t74hJ"
      },
      "source": [
        "nlp = gensim.models.word2vec.Word2Vec.load('./classica_resp/nlp_w2vec.sav')"
      ],
      "execution_count": 16,
      "outputs": []
    },
    {
      "cell_type": "code",
      "metadata": {
        "colab": {
          "base_uri": "https://localhost:8080/"
        },
        "id": "Exgh8IU0q4h7",
        "outputId": "5c7e0b26-b0db-4a48-ca4d-1118778bcb7f"
      },
      "source": [
        "# obter o vetor da palavra primavera\n",
        "word = 'primavera'\n",
        "nlp.wv.__getitem__(word).shape"
      ],
      "execution_count": 17,
      "outputs": [
        {
          "output_type": "execute_result",
          "data": {
            "text/plain": [
              "(300,)"
            ]
          },
          "metadata": {},
          "execution_count": 17
        }
      ]
    },
    {
      "cell_type": "code",
      "metadata": {
        "colab": {
          "base_uri": "https://localhost:8080/"
        },
        "id": "mGGLD6txBuCl",
        "outputId": "707b620d-caad-43f3-fe8d-40c13a821a85"
      },
      "source": [
        "nlp.wv.__getitem__(word)"
      ],
      "execution_count": 18,
      "outputs": [
        {
          "output_type": "execute_result",
          "data": {
            "text/plain": [
              "array([ 4.60936129e-02,  1.31057277e-01,  8.81530762e-01, -2.34672036e-02,\n",
              "       -5.17097056e-01, -3.47907603e-01, -1.89384118e-01, -1.28437756e-02,\n",
              "       -4.74603504e-01, -3.38726372e-01, -1.34931907e-01, -4.53139782e-01,\n",
              "       -4.09022599e-01, -1.55073404e-01,  2.87164986e-01,  1.24016479e-01,\n",
              "       -1.50348976e-01,  1.16820894e-01,  1.14190526e-01, -1.38232172e-01,\n",
              "        3.99390697e-01,  3.39112192e-01,  1.15921736e-01,  5.17549276e-01,\n",
              "        1.10668465e-01, -3.20743710e-01, -5.11032343e-01,  7.68667400e-01,\n",
              "       -2.08081901e-01, -4.55280900e-01, -5.41652858e-01,  3.09889037e-02,\n",
              "       -6.97741628e-01,  1.15280271e-01, -8.23198780e-02, -1.41426608e-01,\n",
              "        5.92072487e-01,  4.07967061e-01, -1.95538476e-01, -1.11432634e-01,\n",
              "       -1.70507908e-01,  4.35354412e-02,  7.88871348e-02, -9.90175828e-02,\n",
              "        5.84619269e-02,  5.37419915e-02, -3.12381797e-02,  4.82183248e-01,\n",
              "       -5.78517877e-02, -2.64890432e-01,  2.33151823e-01,  1.47676378e-01,\n",
              "       -9.03240405e-04,  8.11289474e-02, -1.20457202e-01,  3.22583802e-02,\n",
              "        6.74134120e-02,  3.45655203e-01, -2.57849574e-01, -8.51880684e-02,\n",
              "       -3.26150268e-01, -3.19079101e-01,  3.75018865e-01, -1.89873815e-01,\n",
              "       -1.91407859e-01, -4.04710859e-01, -2.16160854e-03,  6.72210986e-03,\n",
              "       -9.93088484e-02, -4.15879488e-01, -2.74772078e-01,  3.31750214e-01,\n",
              "        9.14168134e-02, -2.49674305e-01,  2.67044276e-01, -6.74927831e-01,\n",
              "        7.07136989e-02,  5.66093922e-01,  1.34312376e-01,  4.88612711e-01,\n",
              "       -3.90688151e-01,  3.55693460e-01,  5.12067497e-01, -1.34495392e-01,\n",
              "        4.01314378e-01,  4.25350368e-01, -4.09363389e-01,  2.18437895e-01,\n",
              "        1.01856083e-01, -3.88975590e-01,  5.81280470e-01,  3.31178159e-01,\n",
              "        7.72065580e-01,  3.18579942e-01,  3.28729562e-02, -5.37894666e-01,\n",
              "       -4.91917819e-01,  2.20742479e-01,  1.72129110e-01, -8.33620317e-03,\n",
              "        1.88083991e-01, -3.17068011e-01, -1.56015649e-01, -5.74561715e-01,\n",
              "        4.40232217e-01, -4.11255032e-01,  3.27555686e-01, -2.14737371e-01,\n",
              "        4.78124380e-01,  6.13369286e-01, -4.06006068e-01, -9.12400614e-03,\n",
              "        1.79299355e-01,  2.66571164e-01,  1.95541337e-01, -4.62948203e-01,\n",
              "        1.88934878e-02, -2.41178602e-01,  7.15885460e-01,  5.00665903e-01,\n",
              "       -2.62967855e-01,  3.03849339e-01, -7.19449997e-01, -2.66945541e-01,\n",
              "       -2.68623918e-01,  3.10722500e-01,  1.19291246e-01,  8.80679935e-02,\n",
              "        1.54311741e-02,  1.82087466e-01, -1.03795186e-01, -5.41081131e-01,\n",
              "       -2.80120403e-01, -4.85380799e-01,  1.68728232e-01, -3.11430663e-01,\n",
              "       -5.96225739e-01,  3.11386794e-01, -4.96690094e-01, -7.47779608e-01,\n",
              "       -5.16453870e-02, -2.52931565e-01, -3.67013633e-01, -6.32250667e-01,\n",
              "       -4.44726884e-01, -7.86087215e-02,  6.16919659e-02, -3.60982925e-01,\n",
              "       -9.33206677e-02, -1.92735363e-02,  2.72175431e-01, -6.13093317e-01,\n",
              "       -1.62032247e-01, -3.45119953e-01, -2.35263035e-01,  2.37608507e-01,\n",
              "       -3.20326626e-01, -2.80504674e-01, -6.28266692e-01, -4.02835384e-02,\n",
              "        3.61570090e-01, -1.41073212e-01,  3.81609589e-01,  3.68096054e-01,\n",
              "       -1.07469931e-01, -1.30434260e-01, -5.76608516e-02, -2.55264193e-01,\n",
              "       -6.54067039e-01, -5.90237826e-02,  2.11972058e-01,  8.72289315e-02,\n",
              "        2.95020342e-01,  3.25922310e-01,  3.45809281e-01, -3.17581922e-01,\n",
              "       -3.52452129e-01,  8.12644720e-01, -2.21996471e-01, -3.07814002e-01,\n",
              "        5.74764013e-01, -1.89742088e-01, -4.31560904e-01,  5.29277980e-01,\n",
              "        2.41251901e-01,  7.55491853e-01, -1.29570737e-01,  2.23028570e-01,\n",
              "        4.87139851e-01, -5.37399296e-03,  1.30090356e-01, -1.27812192e-01,\n",
              "        2.82804146e-02, -5.32189310e-01, -8.51611197e-02, -3.11634481e-01,\n",
              "       -1.46862969e-03, -5.55003285e-02,  1.66422993e-01, -1.04328588e-01,\n",
              "        1.57916382e-01,  2.71488652e-02,  5.35750151e-01,  6.30529046e-01,\n",
              "       -8.89641568e-02, -6.94222331e-01, -7.98827350e-01, -1.23108499e-01,\n",
              "       -5.16010970e-02,  2.71269053e-01,  3.94990921e-01,  5.64220488e-01,\n",
              "       -2.67886341e-01,  3.88495147e-01,  2.66137868e-01, -3.20665091e-02,\n",
              "        1.31277844e-01, -5.11962771e-01,  4.89150971e-01, -4.54869986e-01,\n",
              "       -9.98433381e-02, -2.84968346e-01,  1.59554526e-01, -6.31216049e-01,\n",
              "        1.99237615e-01, -1.97311142e-03, -4.07166928e-01, -7.81294882e-01,\n",
              "       -2.99600035e-01, -6.21461809e-01,  7.28639364e-01, -2.22453475e-01,\n",
              "       -2.10637003e-01,  5.67062020e-01, -3.14483136e-01,  3.70337099e-01,\n",
              "       -5.85713446e-01,  5.27852535e-01,  4.31899801e-02,  1.14047632e-01,\n",
              "        5.03239393e-01, -1.28425553e-01, -6.35549188e-01, -3.78870219e-01,\n",
              "       -7.68017322e-02, -2.87275583e-01, -2.90580660e-01,  4.20701683e-01,\n",
              "       -3.73561621e-01,  1.13817127e-02,  4.36195672e-01,  5.22112370e-01,\n",
              "        1.26435176e-01, -1.00675877e-02, -1.66487377e-02, -4.92388815e-01,\n",
              "       -1.53047442e-01, -1.12421103e-01,  4.87383068e-01,  6.11897349e-01,\n",
              "        4.78670634e-02, -1.26723826e-01,  2.08606496e-01, -1.40489861e-01,\n",
              "       -9.93894190e-02,  2.79516816e-01, -1.13631740e-01, -3.43953311e-01,\n",
              "       -1.68221891e-01, -1.17649240e-02, -2.97728568e-01, -3.81172955e-01,\n",
              "       -7.99433663e-02, -2.90839702e-01, -4.67019826e-01,  4.12433028e-01,\n",
              "        4.93466735e-01,  2.47087225e-01,  4.45284486e-01,  1.72263741e-01,\n",
              "        1.81509241e-01, -5.88843822e-01, -8.75619471e-01,  2.80849874e-01,\n",
              "        5.93698084e-01,  9.23812613e-02, -2.15175301e-01, -1.43122315e-01,\n",
              "       -1.77358329e-01,  1.47486463e-01, -1.83104604e-01,  8.42676163e-02,\n",
              "        9.18978214e-01, -5.53865790e-01, -2.65025258e-01, -8.84739235e-02,\n",
              "        1.82894170e-01,  6.23614676e-02, -6.01166666e-01, -2.68342048e-01],\n",
              "      dtype=float32)"
            ]
          },
          "metadata": {},
          "execution_count": 18
        }
      ]
    },
    {
      "cell_type": "markdown",
      "metadata": {
        "id": "e4qgXYos0JGJ"
      },
      "source": [
        ""
      ]
    },
    {
      "cell_type": "markdown",
      "metadata": {
        "id": "CeR3sMdf788j"
      },
      "source": [
        "# Rede Neural\n",
        "\n",
        "* Primeiro, transforme o corpus em sequências preenchidas de ids de palavras para obter uma matriz de recursos.\n",
        "* Em seguida, crie uma matriz de incorporação de forma que o vetor da palavra com id N esteja localizado na enésima linha.\n",
        "* Finalmente, construa uma rede neural com uma camada de incorporação que pesa cada palavra nas sequências com o vetor correspondente."
      ]
    },
    {
      "cell_type": "code",
      "metadata": {
        "id": "NmHbNmXwJ5v4"
      },
      "source": [
        "#tokenizar: Transformar o corpus pré-processado (lista de n-gramas: lst_corpous) em uma lista de sequência \n",
        "max_length=128\n",
        "X_train, lst_text2seq, dic_vocabulary = tokenizar(lst_corpus, max_length)\n",
        "X_teste = tokenizar(lst_corpus_teste, max_length)[0]"
      ],
      "execution_count": 19,
      "outputs": []
    },
    {
      "cell_type": "code",
      "metadata": {
        "colab": {
          "base_uri": "https://localhost:8080/"
        },
        "id": "q8CBoNCBGf2T",
        "outputId": "0704abc9-c857-4c3c-d0a3-814a438b06a8"
      },
      "source": [
        "print(X_train.shape, X_teste.shape)"
      ],
      "execution_count": 20,
      "outputs": [
        {
          "output_type": "stream",
          "name": "stdout",
          "text": [
            "(17320, 128) (1925, 128)\n"
          ]
        }
      ]
    },
    {
      "cell_type": "code",
      "metadata": {
        "id": "4SWKJpSP0nOW"
      },
      "source": [
        "y_train  = dfPreProc['category_nro']\n",
        "y_teste = dfPreProc_Teste['category_nro']"
      ],
      "execution_count": 21,
      "outputs": []
    },
    {
      "cell_type": "code",
      "metadata": {
        "colab": {
          "base_uri": "https://localhost:8080/"
        },
        "id": "dEl_e4o074mK",
        "outputId": "827485aa-9f2c-4f36-b7a5-13cbbff6dafc"
      },
      "source": [
        "len(dic_vocabulary.keys())"
      ],
      "execution_count": 22,
      "outputs": [
        {
          "output_type": "execute_result",
          "data": {
            "text/plain": [
              "79779"
            ]
          },
          "metadata": {},
          "execution_count": 22
        }
      ]
    },
    {
      "cell_type": "code",
      "metadata": {
        "colab": {
          "base_uri": "https://localhost:8080/"
        },
        "id": "-8akq0vNBEjN",
        "outputId": "6be48478-aeef-459e-9d6d-80253fdef2de"
      },
      "source": [
        "lst_text2seq[0][0:15]"
      ],
      "execution_count": 23,
      "outputs": [
        {
          "output_type": "execute_result",
          "data": {
            "text/plain": [
              "[40, 1728, 3806, 1407, 1914, 6456, 54, 122, 297, 584, 178, 13, 181, 1061, 8172]"
            ]
          },
          "metadata": {},
          "execution_count": 23
        }
      ]
    },
    {
      "cell_type": "code",
      "metadata": {
        "colab": {
          "base_uri": "https://localhost:8080/"
        },
        "id": "lnmpCfIyCOoK",
        "outputId": "87526da4-49c5-4a2e-a652-d0e6d381b578"
      },
      "source": [
        "print(X_train[0], '\\n \\n', X_train[1])"
      ],
      "execution_count": 24,
      "outputs": [
        {
          "output_type": "stream",
          "name": "stdout",
          "text": [
            "[   40  1728  3806  1407  1914  6456    54   122   297   584   178    13\n",
            "   181  1061  8172  6386  2931   436    67   378  1061  8172  3806   144\n",
            " 32412  3507    42  1288  2436    40   880  1107   509   163    88    83\n",
            "   143 32412   543    48   453  2293  1719   526    13   101   166  3806\n",
            "    40  6386   754   201  1061  6057  5448    45    40   284  6247     0\n",
            "     0     0     0     0     0     0     0     0     0     0     0     0\n",
            "     0     0     0     0     0     0     0     0     0     0     0     0\n",
            "     0     0     0     0     0     0     0     0     0     0     0     0\n",
            "     0     0     0     0     0     0     0     0     0     0     0     0\n",
            "     0     0     0     0     0     0     0     0     0     0     0     0\n",
            "     0     0     0     0     0     0     0     0] \n",
            " \n",
            " [   42  1307  5173    88   215   373    55   139   524   476    93    99\n",
            "   332  2349   373    93    28    50  1571   166    78    51    63    34\n",
            "   148   535    59  2349   166   139    11    51   354    99   332   401\n",
            "    89   446   116    31   215   524  2254   608 11195   740  3608    30\n",
            "   884 13781   369   737   102   803  2089   663   373    55  2176   295\n",
            "    63   703   315    17    51    41    24   103   414    34   758  1308\n",
            "   167     7  2349    51   179   166    14   922   139  2255    11  1717\n",
            "    15   279    87    99   332   401    89   446    94   666   451   337\n",
            "  4942   139  1059   258   286   145    89    21    37    78   167    59\n",
            "   958   882   167    16   539     0     0     0     0     0     0     0\n",
            "     0     0     0     0     0     0     0     0]\n"
          ]
        }
      ]
    },
    {
      "cell_type": "code",
      "metadata": {
        "id": "ss15PqDUGOgI"
      },
      "source": [
        "'''criar uma matriz embedding para usar como peso na rede neural do classificador.\n",
        "   cada palavra no dicionário das noticias recebá o vetor do word2vec. '''\n",
        "\n",
        "## inicia uma matrix zerada de shape tamanho do vocabulário x tamanho do vetor\n",
        "embeddings = np.zeros((len(dic_vocabulary)+1, 300))\n",
        "for word,idx in dic_vocabulary.items():\n",
        "    ## atualiza a linha da matriz com o vetor do word2vec nlp.\n",
        "    try:\n",
        "        embeddings[idx] =  nlp.wv.__getitem__(word)\n",
        "    ## se a palavra não estiver em nlp, o vetor de pesos desta palavra ficará zerado.\n",
        "    except:\n",
        "        pass"
      ],
      "execution_count": 25,
      "outputs": []
    },
    {
      "cell_type": "code",
      "metadata": {
        "colab": {
          "base_uri": "https://localhost:8080/"
        },
        "id": "jZRers6-G1GM",
        "outputId": "4a4f271d-53a4-4d69-825a-41a63bcc9298"
      },
      "source": [
        "embeddings.shape"
      ],
      "execution_count": 26,
      "outputs": [
        {
          "output_type": "execute_result",
          "data": {
            "text/plain": [
              "(79780, 300)"
            ]
          },
          "metadata": {},
          "execution_count": 26
        }
      ]
    },
    {
      "cell_type": "code",
      "metadata": {
        "colab": {
          "base_uri": "https://localhost:8080/"
        },
        "id": "GCNYpbVjGO1X",
        "outputId": "5a59ef58-f5a4-4141-f69a-b875cf61fea6"
      },
      "source": [
        "''' criar a rede neural para o classificador que terá as seguintes camadas:\n",
        "  * embedding - obtem as sequências (noticias tokenizadas em X_train) como entrada e o \n",
        "    vetor de palavras que compõem cada noticia (embeddings) como pesos.\n",
        "  * simple Attention layer - proposto por Bahdanau, Cho e Bengio, 2014 e também em quase todos os modelos apresentados no estudo bibliográfico - \n",
        "    permite entender qual parte do texto é realmente relevante. Captura os pesos de cada instância e ajuda a construir um explicador, sendo que \n",
        "    não é necessário para as previsões, apenas para a explicabilidade.\n",
        "  * Duas camdas de LSTM Bidirecional para modelar a ordem das palaras em uma sequencia em ambas as direções.\n",
        "  * Duas camadas densas finais que irão prever a probabilidade de cada categoria de notícias.\n",
        "'''\n",
        "\n",
        "## code attention layer\n",
        "def attention_layer(inputs, neurons):\n",
        "    x = layers.Permute((2,1))(inputs) #permuta a forma (shape) de entrada usando o padrão (2,1)\n",
        "    x = layers.Dense(neurons, activation=\"softmax\")(x) #executa a função de ativação softmax na matrix de entrada x. Neurons é a qtd de neurônios.\n",
        "                                                       #output = activation(dot(input, kernel) + bias) input=x, kernel=neurons (pesos)\n",
        "    x = layers.Permute((2,1), name=\"attention\")(x) \n",
        "    x = layers.multiply([inputs, x]) \n",
        "    return x\n",
        "\n",
        "## input\n",
        "x_in = layers.Input(shape=(max_length,))\n",
        "print('x_in:', x_in.shape)\n",
        "## embedding\n",
        "x = layers.Embedding(input_dim=embeddings.shape[0],  \n",
        "                     output_dim=embeddings.shape[1], \n",
        "                     weights=[embeddings],\n",
        "                     input_length=max_length, trainable=False)(x_in)\n",
        "print('x embedding', x.shape)\n",
        "## apply attention\n",
        "x = attention_layer(x, neurons=max_length)\n",
        "print('x attention_layer', x.shape)\n",
        "## 2 layers of bidirectional lstm\n",
        "x = layers.Bidirectional(layers.LSTM(units=max_length, dropout=0.2, \n",
        "                         return_sequences=True))(x)\n",
        "print('x LSTM', x.shape)\n",
        "x = layers.Bidirectional(layers.LSTM(units=max_length, dropout=0.2))(x)\n",
        "print('x LSTM', x.shape)\n",
        "## final dense layers\n",
        "x = layers.Dense(64, activation='relu')(x)\n",
        "print('x Dense', x.shape)\n",
        "y_out = layers.Dense(10, activation='softmax')(x)\n",
        "print('y_out', y_out.shape)\n",
        "## compile\n",
        "model = models.Model(x_in, y_out)\n",
        "optimizer = tf.optimizers.Adam(learning_rate=1e-6)\n",
        "model.compile(loss='sparse_categorical_crossentropy',\n",
        "              optimizer=optimizer, metrics=['accuracy'])\n",
        "\n",
        "model.summary()\n",
        "   \n",
        "  \n"
      ],
      "execution_count": 27,
      "outputs": [
        {
          "output_type": "stream",
          "name": "stdout",
          "text": [
            "x_in: (None, 128)\n",
            "x embedding (None, 128, 300)\n",
            "x attention_layer (None, 128, 300)\n",
            "x LSTM (None, 128, 256)\n",
            "x LSTM (None, 256)\n",
            "x Dense (None, 64)\n",
            "y_out (None, 10)\n",
            "Model: \"model\"\n",
            "__________________________________________________________________________________________________\n",
            "Layer (type)                    Output Shape         Param #     Connected to                     \n",
            "==================================================================================================\n",
            "input_1 (InputLayer)            [(None, 128)]        0                                            \n",
            "__________________________________________________________________________________________________\n",
            "embedding (Embedding)           (None, 128, 300)     23934000    input_1[0][0]                    \n",
            "__________________________________________________________________________________________________\n",
            "permute (Permute)               (None, 300, 128)     0           embedding[0][0]                  \n",
            "__________________________________________________________________________________________________\n",
            "dense (Dense)                   (None, 300, 128)     16512       permute[0][0]                    \n",
            "__________________________________________________________________________________________________\n",
            "attention (Permute)             (None, 128, 300)     0           dense[0][0]                      \n",
            "__________________________________________________________________________________________________\n",
            "multiply (Multiply)             (None, 128, 300)     0           embedding[0][0]                  \n",
            "                                                                 attention[0][0]                  \n",
            "__________________________________________________________________________________________________\n",
            "bidirectional (Bidirectional)   (None, 128, 256)     439296      multiply[0][0]                   \n",
            "__________________________________________________________________________________________________\n",
            "bidirectional_1 (Bidirectional) (None, 256)          394240      bidirectional[0][0]              \n",
            "__________________________________________________________________________________________________\n",
            "dense_1 (Dense)                 (None, 64)           16448       bidirectional_1[0][0]            \n",
            "__________________________________________________________________________________________________\n",
            "dense_2 (Dense)                 (None, 10)           650         dense_1[0][0]                    \n",
            "==================================================================================================\n",
            "Total params: 24,801,146\n",
            "Trainable params: 867,146\n",
            "Non-trainable params: 23,934,000\n",
            "__________________________________________________________________________________________________\n"
          ]
        }
      ]
    },
    {
      "cell_type": "code",
      "metadata": {
        "id": "CLZIGvt6zw-A"
      },
      "source": [
        "'''treinando o modelo '''\n",
        "## encode y\n",
        "dic_y_mapping = {n:label for n,label in \n",
        "                 enumerate(np.unique(y_train))}\n",
        "inverse_dic = {v:k for k,v in dic_y_mapping.items()}\n",
        "y_train = np.array([inverse_dic[y] for y in y_train])\n",
        "## train\n",
        "training = model.fit(x=X_train, y=y_train, batch_size=256, \n",
        "                     epochs=10, shuffle=True, verbose=0, \n",
        "                     validation_split=0.1)"
      ],
      "execution_count": null,
      "outputs": []
    },
    {
      "cell_type": "code",
      "metadata": {
        "id": "Knu4TZwq24ne"
      },
      "source": [
        "'''loss '''\n",
        "metrics = [k for k in training.history.keys() if (\"loss\" not in k) and (\"val\" not in k)]\n",
        "fig, ax = plt.subplots(nrows=1, ncols=2, sharey=True)\n",
        "ax[0].set(title=\"Training\")\n",
        "ax11 = ax[0].twinx()\n",
        "ax[0].plot(training.history['loss'], color='black')\n",
        "ax[0].set_xlabel('Epochs')\n",
        "ax[0].set_ylabel('Loss', color='black')\n",
        "for metric in metrics:\n",
        "    ax11.plot(training.history[metric], label=metric)\n",
        "ax11.set_ylabel(\"Score\", color='steelblue')\n",
        "ax11.legend()\n",
        "ax[1].set(title=\"Validation\")\n",
        "ax22 = ax[1].twinx()\n",
        "ax[1].plot(training.history['val_loss'], color='black')\n",
        "ax[1].set_xlabel('Epochs')\n",
        "ax[1].set_ylabel('Loss', color='black')\n",
        "for metric in metrics:\n",
        "     ax22.plot(training.history['val_'+metric], label=metric)\n",
        "ax22.set_ylabel(\"Score\", color=\"steelblue\")\n",
        "plt.show()"
      ],
      "execution_count": null,
      "outputs": []
    },
    {
      "cell_type": "code",
      "metadata": {
        "id": "W7XAy9G102n8"
      },
      "source": [
        "y_pred = model.predict(X_teste)"
      ],
      "execution_count": null,
      "outputs": []
    },
    {
      "cell_type": "code",
      "metadata": {
        "id": "7IBi5NUtfe_Z"
      },
      "source": [
        "y_pred_cat = [np.argmax(i) for i in y_pred]\n",
        "y_pred_prob = [np.max(i) for i in y_pred]\n"
      ],
      "execution_count": null,
      "outputs": []
    },
    {
      "cell_type": "code",
      "metadata": {
        "id": "SQ533RsIGhJx"
      },
      "source": [
        "imprimeMetricas(y_pred_cat, y_teste,'./classica_resp/lstm_v1.scr')"
      ],
      "execution_count": null,
      "outputs": []
    },
    {
      "cell_type": "code",
      "metadata": {
        "id": "xCqXir0ngWkc"
      },
      "source": [
        "imprimeROC_PrecisonRecall_curvas(y_teste,y_pred)"
      ],
      "execution_count": null,
      "outputs": []
    },
    {
      "cell_type": "code",
      "metadata": {
        "id": "728qr3F2GhM-"
      },
      "source": [
        ""
      ],
      "execution_count": null,
      "outputs": []
    },
    {
      "cell_type": "code",
      "metadata": {
        "id": "Xk32mwzfGhQP"
      },
      "source": [
        ""
      ],
      "execution_count": null,
      "outputs": []
    },
    {
      "cell_type": "code",
      "metadata": {
        "id": "55ZyIiT0GhTQ"
      },
      "source": [
        ""
      ],
      "execution_count": null,
      "outputs": []
    },
    {
      "cell_type": "code",
      "metadata": {
        "id": "10xz4F2oGhWf"
      },
      "source": [
        ""
      ],
      "execution_count": null,
      "outputs": []
    },
    {
      "cell_type": "markdown",
      "metadata": {
        "id": "nHx4qc9mmcqK"
      },
      "source": [
        "KNN"
      ]
    }
  ]
}