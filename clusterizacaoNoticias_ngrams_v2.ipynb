{
  "nbformat": 4,
  "nbformat_minor": 0,
  "metadata": {
    "colab": {
      "name": "clusterizacaoNoticias_ngrams_v2",
      "provenance": [],
      "collapsed_sections": [],
      "authorship_tag": "ABX9TyPiI4NKWu8Apf0nlz0eyD0N",
      "include_colab_link": true
    },
    "kernelspec": {
      "name": "python3",
      "display_name": "Python 3"
    },
    "language_info": {
      "name": "python"
    }
  },
  "cells": [
    {
      "cell_type": "markdown",
      "metadata": {
        "id": "view-in-github",
        "colab_type": "text"
      },
      "source": [
        "<a href=\"https://colab.research.google.com/github/HedersonSantos/Noticias/blob/main/clusterizacaoNoticias_ngrams_v2.ipynb\" target=\"_parent\"><img src=\"https://colab.research.google.com/assets/colab-badge.svg\" alt=\"Open In Colab\"/></a>"
      ]
    },
    {
      "cell_type": "code",
      "metadata": {
        "id": "Z6ntCB_ZoYIR"
      },
      "source": [
        "import pandas as pd\n",
        "import numpy as np\n",
        "from datetime import datetime\n",
        "import matplotlib.pyplot as plt\n",
        "from multiprocessing import Pool, Process\n",
        "import multiprocessing as mp\n",
        "from sklearn.pipeline import make_pipeline\n",
        "from google.colab import files, drive\n",
        "pd.set_option('display.max_rows', None)\n",
        "pd.set_option('display.max_colwidth', None)\n",
        "\n",
        "import nltk, re\n",
        "from nltk import word_tokenize\n",
        "from nltk.corpus import stopwords\n",
        "from wordcloud import WordCloud\n",
        "\n",
        "from sklearn.feature_extraction.text import CountVectorizer\n",
        "from sklearn.feature_extraction.text import TfidfTransformer\n",
        "from sklearn.model_selection import train_test_split\n",
        "from sklearn.decomposition import PCA\n",
        "from sklearn.decomposition import TruncatedSVD\n",
        "from sklearn.preprocessing import StandardScaler\n",
        "from sklearn.preprocessing import FunctionTransformer\n",
        "\n",
        "from sklearn.metrics.pairwise import cosine_similarity\n",
        "from sklearn.cluster import AgglomerativeClustering\n",
        "from scipy.cluster.hierarchy import linkage, dendrogram, ward, fcluster, single, complete, average\n",
        "import scipy.cluster.hierarchy as sch"
      ],
      "execution_count": 2,
      "outputs": []
    },
    {
      "cell_type": "markdown",
      "metadata": {
        "id": "ATJaqnNUqr_L"
      },
      "source": [
        "# Obtendo dataset de noticias tratadas em preProcessamento_noticias"
      ]
    },
    {
      "cell_type": "code",
      "metadata": {
        "colab": {
          "base_uri": "https://localhost:8080/"
        },
        "id": "NnmIRw0WowrK",
        "outputId": "8cae0efd-66a7-4007-f635-722742bc2913"
      },
      "source": [
        "#!rm news.*\n",
        "#!wget https://raw.githubusercontent.com/HedersonSantos/Noticias/main/news.zip\n",
        "#!unzip news.zip\n",
        "drive.mount('/gdrive')\n",
        "%cd /gdrive/My\\ Drive/Colab\\ Notebooks/nlp_tcc/\n",
        "!ls -lh \n"
      ],
      "execution_count": 3,
      "outputs": [
        {
          "output_type": "stream",
          "text": [
            "Drive already mounted at /gdrive; to attempt to forcibly remount, call drive.mount(\"/gdrive\", force_remount=True).\n",
            "/gdrive/My Drive/Colab Notebooks/nlp_tcc\n",
            "total 1.2G\n",
            "drwx------ 3 root root 4.0K Jul 31 20:13 amostra_news_integrada\n",
            "-rw------- 1 root root 481M Jul 24 17:03 articles.csv\n",
            "drwx------ 2 root root 4.0K Jul 31 17:49 bertimbau_base_results\n",
            "drwx------ 2 root root 4.0K Jul 31 19:09 bertimbau_test\n",
            "-rw------- 1 root root  93M Jul 24 15:58 news.csv\n",
            "-rw------- 1 root root 521M Jul 25 22:30 news_integradas.csv\n",
            "-rw------- 1 root root  93M Jul 24 15:42 noticia_tratada.csv\n"
          ],
          "name": "stdout"
        }
      ]
    },
    {
      "cell_type": "code",
      "metadata": {
        "colab": {
          "base_uri": "https://localhost:8080/"
        },
        "id": "6CQJzsnkYJz_",
        "outputId": "c56a919d-711e-4070-c179-6be10ccd9d07"
      },
      "source": [
        "mp.cpu_count()"
      ],
      "execution_count": 4,
      "outputs": [
        {
          "output_type": "execute_result",
          "data": {
            "text/plain": [
              "2"
            ]
          },
          "metadata": {},
          "execution_count": 4
        }
      ]
    },
    {
      "cell_type": "markdown",
      "metadata": {
        "id": "hWX1z5Ntq-Ec"
      },
      "source": [
        "# Funções para processamento de Linguagem Natural"
      ]
    },
    {
      "cell_type": "code",
      "metadata": {
        "id": "jmvLl_wTrFR9"
      },
      "source": [
        "def download_pt_stopWords():\n",
        "\n",
        "  '''download das stopwords '''\n",
        "  nltk.download('stopwords') #stopwords\n",
        "  nltk.download('rslp')  #stemming\n",
        "        \n",
        "def removeStopWords( texto, excluirWords:list=None):\n",
        "  '''remove as stopwords do texto. Novas stopwords podem ser adicionadas através da lista excluirWords'''\n",
        "  naoQueridas = nltk.corpus.stopwords.words('portuguese')\n",
        "  if not excluirWords==None:\n",
        "    naoQueridas.extend(excluirWords)\n",
        "  naoQueridas = list(set(naoQueridas))\n",
        "  palavras = [i for i in texto.split() if not i.lower() in naoQueridas]\n",
        "  return (\" \".join(palavras))\n",
        "\n",
        "def aplicaStemming( texto):\n",
        "  ''' obtém o radical das palavras do vocabulário'''\n",
        "  stemmer = nltk.stem.RSLPStemmer()\n",
        "  palavras = []\n",
        "  for w in texto.split():\n",
        "      palavras.append(stemmer.stem(w))\n",
        "  return (\" \".join(palavras))\n",
        "\n",
        "def removeCaracteresNaoDesejados(texto):\n",
        "  textoLimpo = re.sub(r\"http\\S+\", \"\", texto)\n",
        "  textoLimpo = re.sub(r\"www\\..+\\..+\", \"\", texto)\n",
        "  textoLimpo = re.sub(r\"[^a-zA-ZáÁéÉíÍóÓúÚãÃàÀôâÂêÊôÔçÇ ]\", \"\", texto)\n",
        "  return textoLimpo\n",
        "\n",
        "def retornaVetorizacao(X,pct_min=1, pct_max=1, n_grams=(1,1), excluirSW:list=None):\n",
        "  ''' monta a matriz sparsa com o índice de vocabulário em cada texto. \n",
        "    Retorna a matriz sparsa e o vocabulário '''\n",
        "  count_vect = CountVectorizer(min_df=pct_min, max_df=pct_max, lowercase=True,stop_words=excluirSW, ngram_range=n_grams) \n",
        "  matriz_sparsa = count_vect.fit_transform(X)\n",
        "  vocabulario = count_vect.fit(X)\n",
        "  return [matriz_sparsa,count_vect]\n",
        "\n",
        "def retornaMatriztfIdf(V):\n",
        "    ''' em cada documento, calcula o tf-idf de cada palavra\n",
        "        term frequency - inverse document frequency'''\n",
        "    tfidf_transformer = TfidfTransformer()\n",
        "    matriz_tfidf = tfidf_transformer.fit_transform(V)\n",
        "    return matriz_tfidf\n",
        "\n",
        "def normalizaEreduzDimensionalidadecomPCA( X, nro_dimensao,UT=None):\n",
        "    data_pca= TruncatedSVD(nro_dimensao)\n",
        "    if UT==None:\n",
        "        UT = data_pca.fit(X)\n",
        "    X_pca =  UT.fit_transform(X)\n",
        "      \n",
        "    return [UT,X_pca]\n",
        "\n",
        "def padronizaValores(X):\n",
        "  X_norm = StandardScaler(with_mean=False).fit_transform(X)\n",
        "  return X_norm\n",
        "\n",
        "def retornaPalavras(listaTexto:list):\n",
        "  words=\"\"\n",
        "  for i in listaTexto: \n",
        "    i = str(i) \n",
        "    separate = i.split() \n",
        "    for j in range(len(separate)): \n",
        "        separate[j] = separate[j].lower() \n",
        "  words += \" \".join(separate)+\" \"\n",
        "  return words\n",
        "def montaWordCloud(words, n_palavras:int, sw=None):\n",
        "  wc = WordCloud(width = 400, height = 200, \n",
        "                background_color ='black', max_words=n_palavras,\n",
        "                min_font_size = 10, stopwords = sw).generate(words)\n",
        "  return wc\n",
        "\n",
        "def imprimiWordCloud(listaTexto:list, n_palavras:int, cluster:str=None, sw=None):\n",
        "  words = retornaPalavras(listaTexto)\n",
        "  wc = montaWordCloud(words, n_palavras, sw)\n",
        "  plt.figure(figsize = (8, 8), facecolor = None) \n",
        "  plt.imshow(wc) \n",
        "  plt.axis(\"off\") \n",
        "  plt.tight_layout(pad = 0) \n",
        "  if not cluster == None:\n",
        "    plt.title('PALAVRAS PARA O CLUSTER ' + cluster)\n",
        "  plt.show()\n",
        "\n",
        "def preProcessaTextos(dfDados):\n",
        "  download_pt_stopWords()\n",
        "  dfDados['text'] = dfDados['text'].astype('unicode')\n",
        "  dfDados['text'] = dfDados['text'].map(removeCaracteresNaoDesejados)\n",
        "  dfDados['text'] = dfDados['text'].map(removeStopWords)\n",
        "  dfDados['text'] = dfDados['text'].map(aplicaStemming)\n",
        "  return dfDados\n",
        "  #dfDados['text'] = dfDados.loc[:,['text']].apply(lambda x: removeCaracteresNaoDesejados(x['text']),axis=1)\n",
        "  #dfDados['text'] = dfDados.loc[:,['text']].apply(lambda x: removeStopWords(x['text']),axis=1)\n",
        "  #dfDados['text'] = dfDados.loc[:,['text']].apply(lambda x: aplicaStemming(x['text']),axis=1)\n",
        "\n",
        "def PreProcessamentoParalelo(df, n_jobs):\n",
        "  df_split = np.array_split(df,n_jobs)\n",
        "  pool = Pool(n_jobs)\n",
        "  resultado = pool.map(preProcessaTextos, df_split)\n",
        "  df = pd.concat(resultado, sort=False)\n",
        "  return df\n",
        "\n",
        "def processaVetorizacao(dfDados,min_fr=0.01, max_fr=0.7, ngrams=(1,1)):\n",
        "  X = dfDados['text'].values\n",
        "  vetores = retornaVetorizacao(X,min_fr,max_fr,ngrams)\n",
        "  V = vetores[0]\n",
        "  return V\n",
        "  "
      ],
      "execution_count": 5,
      "outputs": []
    },
    {
      "cell_type": "markdown",
      "metadata": {
        "id": "j_Sln_Vau32S"
      },
      "source": [
        "# Prepara dataset para clusterizacao"
      ]
    },
    {
      "cell_type": "code",
      "metadata": {
        "id": "zZ2xC0jmIIIE",
        "colab": {
          "base_uri": "https://localhost:8080/"
        },
        "outputId": "969fae88-421b-478f-8b99-4ad14daf010b"
      },
      "source": [
        "#dfDados = pd.read_csv('news_integradas.csv')\n",
        "dfDados = pd.read_csv('./amostra_news_integrada/amostra_4/amostra.csv')\n",
        "print(dfDados.shape)"
      ],
      "execution_count": 6,
      "outputs": [
        {
          "output_type": "stream",
          "text": [
            "(28122, 3)\n"
          ],
          "name": "stdout"
        }
      ]
    },
    {
      "cell_type": "code",
      "metadata": {
        "colab": {
          "base_uri": "https://localhost:8080/"
        },
        "id": "FFNyx-YmXdrq",
        "outputId": "bf18eeb2-7e1b-4990-bdf0-a23fce90a38e"
      },
      "source": [
        "dfDados = dfDados.sample(frac=0.05)\n",
        "print(dfDados.shape)"
      ],
      "execution_count": 7,
      "outputs": [
        {
          "output_type": "stream",
          "text": [
            "(1406, 3)\n"
          ],
          "name": "stdout"
        }
      ]
    },
    {
      "cell_type": "code",
      "metadata": {
        "colab": {
          "base_uri": "https://localhost:8080/"
        },
        "id": "z-XgItLehJxU",
        "outputId": "85ca4a6c-d331-4ac4-f717-e945f9e165a5"
      },
      "source": [
        "dfDados.columns"
      ],
      "execution_count": 8,
      "outputs": [
        {
          "output_type": "execute_result",
          "data": {
            "text/plain": [
              "Index(['text', 'category', 'category_nro'], dtype='object')"
            ]
          },
          "metadata": {},
          "execution_count": 8
        }
      ]
    },
    {
      "cell_type": "code",
      "metadata": {
        "colab": {
          "base_uri": "https://localhost:8080/",
          "height": 736
        },
        "id": "1C8HtgdwILvc",
        "outputId": "adb26dff-1a4a-4a0d-cdc3-b904a205dd93"
      },
      "source": [
        "df = dfDados['category'].value_counts()\n",
        "#df =df.head(40)\n",
        "df.plot.bar(figsize=(14,10))\n"
      ],
      "execution_count": 9,
      "outputs": [
        {
          "output_type": "execute_result",
          "data": {
            "text/plain": [
              "<matplotlib.axes._subplots.AxesSubplot at 0x7f947254e8d0>"
            ]
          },
          "metadata": {},
          "execution_count": 9
        },
        {
          "output_type": "display_data",
          "data": {
            "image/png": "[encoded data removed]",
            "text/plain": [
              "<Figure size 1008x720 with 1 Axes>"
            ]
          },
          "metadata": {
            "needs_background": "light"
          }
        }
      ]
    },
    {
      "cell_type": "code",
      "metadata": {
        "colab": {
          "base_uri": "https://localhost:8080/"
        },
        "id": "2StJlfb_vCMx",
        "outputId": "a6c7db95-aa3d-4029-ce29-626a1110b0c2"
      },
      "source": [
        "#abrir arquivo news.csv\n",
        "%%time\n",
        "\n",
        "#dfDados = dfDados.sample(frac=0.2)\n",
        "\n",
        "dfPreProc = PreProcessamentoParalelo(dfDados,mp.cpu_count())\n",
        "#dfPreProc = preProcessaTextos(dfDados.copy())"
      ],
      "execution_count": 10,
      "outputs": [
        {
          "output_type": "stream",
          "text": [
            "[nltk_data] Downloading package stopwords to /root/nltk_data...\n",
            "[nltk_data]   Package stopwords is already up-to-date!\n",
            "[nltk_data] Downloading package rslp to /root/nltk_data...\n",
            "[nltk_data]   Package rslp is already up-to-date!\n",
            "[nltk_data] Downloading package stopwords to /root/nltk_data...\n",
            "[nltk_data]   Package stopwords is already up-to-date!\n",
            "[nltk_data] Downloading package rslp to /root/nltk_data...\n",
            "[nltk_data]   Package rslp is already up-to-date!\n",
            "CPU times: user 211 ms, sys: 73.8 ms, total: 285 ms\n",
            "Wall time: 24.1 s\n"
          ],
          "name": "stdout"
        }
      ]
    },
    {
      "cell_type": "code",
      "metadata": {
        "id": "7k3HMohJ3Dv9",
        "colab": {
          "base_uri": "https://localhost:8080/",
          "height": 782
        },
        "outputId": "ad423070-2ff6-4ab3-a55d-4e611c6d694a"
      },
      "source": [
        "print(dfPreProc.shape)\n",
        "dfPreProc.head()"
      ],
      "execution_count": 11,
      "outputs": [
        {
          "output_type": "stream",
          "text": [
            "(1406, 3)\n"
          ],
          "name": "stdout"
        },
        {
          "output_type": "execute_result",
          "data": {
            "text/html": [
              "<div>\n",
              "<style scoped>\n",
              "    .dataframe tbody tr th:only-of-type {\n",
              "        vertical-align: middle;\n",
              "    }\n",
              "\n",
              "    .dataframe tbody tr th {\n",
              "        vertical-align: top;\n",
              "    }\n",
              "\n",
              "    .dataframe thead th {\n",
              "        text-align: right;\n",
              "    }\n",
              "</style>\n",
              "<table border=\"1\" class=\"dataframe\">\n",
              "  <thead>\n",
              "    <tr style=\"text-align: right;\">\n",
              "      <th></th>\n",
              "      <th>text</th>\n",
              "      <th>category</th>\n",
              "      <th>category_nro</th>\n",
              "    </tr>\n",
              "  </thead>\n",
              "  <tbody>\n",
              "    <tr>\n",
              "      <th>10361</th>\n",
              "      <td>sob protest opos câm baix parl jap aprov nest quintaf bloc lei modif polít defês país vig desd fim segund guerr mund intuit permit envi trop exteri impulsion primeiroministr shinz abe text reinterpret constitu pacif japon vig desd fim segund guerr mund projet prev envi trop exteri fim apoi país ali princip est unid situ seguranç redor jap cad vez grav diss abe após vot refer chin lei necessár proteg vid japones preven guerr ant explod acrescent med seg agor vot câm alt parl cas recus vot dia projet retorn câm baix ond part abe maior necessár aprovál após termin discurs contr aprov med parlament opos deix plen boicot vot dur noit milh pesso reun próx parl protest contr lei seguranç pesquis opin demonstr cerc japones ve med bom olh maior consid fer constitu país emb constitu jap autoriz uso forç milit soment situaç risc seguranç nacion trop país fim humanit mant sul iraqu legal oper govern ent premi junichir koizum aprov dezembr lei sobr envi trop iraqu époc med sofr resist opos opin públic</td>\n",
              "      <td>mundo</td>\n",
              "      <td>4</td>\n",
              "    </tr>\n",
              "    <tr>\n",
              "      <th>6881</th>\n",
              "      <td>sen cpi futebol aprov tard dest quartaf convoc marc pol del ner presid licenci cbf ricard teix comand entidad dua déc convoc aprov sen dat depo aind fech parlament del ner afast carg desd dezembr fbi acus ser benefici esquem receb propin vend direit tornei país exteri investig comit étic fif depo sen vão quest detalh negóci feit cartol empres wagn abrah dep cpi além supost cont dirig exteri sess dest quart sen aprov convoc depo marc pol del ner filh gustav feijó vicepresid cbf del ner filh dep esclarec séri negóci realiz junt pai abril folh revel presid licenci cbf filh compr abrah r milh cobert dúplex metr quadr barr tijuc zon nobr rio apart pertenc empr filh abrah acord del ner filh repass empres cerc r mil sald dev revel outr cobert condomíni imóvel val mín cerc r milh acord corre carioc especi apart lux negoci consid suspeit presid cpi sen rom psbrj banc bol banc bol decid reag sen trê hor cpi futebol aprov convoc marc pol del ner ricard teix dep sen cir nogu ppp ped presid renan calh pmdb cancel sess nogu aleg falt quorum vot cpi moment seil sen assin comparec sess apen trê sal randolf rodrig redeap rom psbrj zezé perrel ptbmg gost solic investig esclarec ocorr cpi futebol hoj cpi presenç sen assin list presenç vot convoc vár pesso solicit cancel dest vot afirm nogu princip ali cbf comiss nogu receb ajud financ entidad ele confeder doou r mil campanh deput feder calh ped rápid investig proced regiment diss decidir nest quint sobr tem ali polít calh gustav feijó vic cbf nest quart aprov convoc dep cpi futebol troc mens obt comiss feijó ped cerc r mil del ner cartol respond envi cbf del ner aparec doad campanh prefeit boc mat interi alago presid sen receb doaç campanh cbf ganh mil entidad ent presid ricard teix presid cpi sen rom diss proced corret secretár geral mes oportun confer atest autentic assinat vot simból conform autoriz reg intern sen diss exjog seleç brasil caix doi suspeit us dinh caix doi campanh prefeit boc mat interi alago gustav feijó vai respond question sen sobr supost ajud financ cbf mens troc doi cartol obt sen feijó cobr del ner dinh campanh respost presid licenci cbf diz pag feit document feijó diz orç campanh r declar justiç eleitor ter arrecad receit r mil cbf aparec doad campanh segund tse dirig eleit prefeit boc mat requer aprov cpi convoc cartol empres ped sen randolf rodrig red</td>\n",
              "      <td>esporte</td>\n",
              "      <td>3</td>\n",
              "    </tr>\n",
              "    <tr>\n",
              "      <th>14042</th>\n",
              "      <td>paul format difer temper alh alecrim algum difer dess porç batat frit conf seleç endereç gener prim burg rechonchud batat lembr format waffl tir entrelaç r r joaquim flori itaim bib tel burg tabl batat cas rús r frit casc temper alh alecrim r gabriel dannunzi camp bel reg sul tel achap cort gom têm assinat marc mccain porç rús casc alecrim sai r r hei peixot cambuc reg centr tel</td>\n",
              "      <td>local</td>\n",
              "      <td>7</td>\n",
              "    </tr>\n",
              "    <tr>\n",
              "      <th>12885</th>\n",
              "      <td>ótim part futebol ganh derr minut qual sublim corr mil metr sprint magníf últ volt assim ritm mil outon jacob zoet david mitchell traduz forç flu daniel gal temp vir sécul cen orient extr ilh jav ond célebr companh comérci holand mantém entrepost ilh artific dej baí nagasak jap nel corrupç sane situ entr cen nov direç cuj cont jacob títul sujeit simpl cumpr fé protest estrit cheg ilusã faz fortun retorn país cas vid lá desconcert alg misteri person kurz coraçã trev joseph conrad mitchell compô dr marinu médic natur vir fio antig fidel ocident serv excel contrapont zoet além tra intent pequenoburgu justiç prosper vai envolv paix inesper infeliz segund protagon livr orit aibagaw aind chanc ser heró acas ataqu memor resist medi alianç heterodox conceb multicultur brut man heroín viv forç mosteir intens cruel reconstitu daquel ambi turv hierarqu japon tradic choc pragmat comerc gent vár orig send medi filtr envies intérpret viv língu étic distint romanc oper thrill narr sempr pres flashback comp quebracabeç afunil bel superi desfech jacob zoet nov marlow final seren mil outon jacob zoet autor david mitchell traduç daniel gal edit companh letr quant r pág</td>\n",
              "      <td>ilustrada</td>\n",
              "      <td>6</td>\n",
              "    </tr>\n",
              "    <tr>\n",
              "      <th>12136</th>\n",
              "      <td>vig pres suspeit colabor roub cerc r milh transport val reg mat zon lest paul pris temporár vig decret após políci milit apontál colabor crimin roub transport pres dp sant cecíl reg centr paul segund políci menos hom arm particip roub transport volt h últ quartaf vigil carrofort empr cont políci cheg transport descarreg malot gol branc logotip transport par local trê hom arm desc veícul anunci roub vig diss troc tir ladr segund dispar part rua komb estacion pert local crimin consegu fug lev malot acord políci ant fug ladr incendi gol branc us açã coloc fog caminh coloc atravess rua prova dificult pass políci facil fug posteri políci constat doi veícul us roub períc local roub recolh cápsul analis cas investig deic departament estad investigaç crim</td>\n",
              "      <td>cotidiano</td>\n",
              "      <td>5</td>\n",
              "    </tr>\n",
              "  </tbody>\n",
              "</table>\n",
              "</div>"
            ],
            "text/plain": [
              "                                                                                                                                                                                                                                                                                                                                                                                                                                                                                                                                                                                                                                                                                                                                                                                                                                                                                                                                                                                                                                                                                                                                                                                                                                                                                                                                                                                                                                                                                                                                                                                                                                                                                                                                                                                                                                                                                                                                                                                                                                                                                                                                                                                                                                                                                                                                                                                                                                                 text  ... category_nro\n",
              "10361                                                                                                                                                                                                                                                                                                                                                                                                                                                                                                                                                                                                                                                                                                                                                                                                                                                                                                                                                                                                                                                                                                                                                                                                                                                                                                                                                                                                     sob protest opos câm baix parl jap aprov nest quintaf bloc lei modif polít defês país vig desd fim segund guerr mund intuit permit envi trop exteri impulsion primeiroministr shinz abe text reinterpret constitu pacif japon vig desd fim segund guerr mund projet prev envi trop exteri fim apoi país ali princip est unid situ seguranç redor jap cad vez grav diss abe após vot refer chin lei necessár proteg vid japones preven guerr ant explod acrescent med seg agor vot câm alt parl cas recus vot dia projet retorn câm baix ond part abe maior necessár aprovál após termin discurs contr aprov med parlament opos deix plen boicot vot dur noit milh pesso reun próx parl protest contr lei seguranç pesquis opin demonstr cerc japones ve med bom olh maior consid fer constitu país emb constitu jap autoriz uso forç milit soment situaç risc seguranç nacion trop país fim humanit mant sul iraqu legal oper govern ent premi junichir koizum aprov dezembr lei sobr envi trop iraqu époc med sofr resist opos opin públic  ...            4\n",
              "6881   sen cpi futebol aprov tard dest quartaf convoc marc pol del ner presid licenci cbf ricard teix comand entidad dua déc convoc aprov sen dat depo aind fech parlament del ner afast carg desd dezembr fbi acus ser benefici esquem receb propin vend direit tornei país exteri investig comit étic fif depo sen vão quest detalh negóci feit cartol empres wagn abrah dep cpi além supost cont dirig exteri sess dest quart sen aprov convoc depo marc pol del ner filh gustav feijó vicepresid cbf del ner filh dep esclarec séri negóci realiz junt pai abril folh revel presid licenci cbf filh compr abrah r milh cobert dúplex metr quadr barr tijuc zon nobr rio apart pertenc empr filh abrah acord del ner filh repass empres cerc r mil sald dev revel outr cobert condomíni imóvel val mín cerc r milh acord corre carioc especi apart lux negoci consid suspeit presid cpi sen rom psbrj banc bol banc bol decid reag sen trê hor cpi futebol aprov convoc marc pol del ner ricard teix dep sen cir nogu ppp ped presid renan calh pmdb cancel sess nogu aleg falt quorum vot cpi moment seil sen assin comparec sess apen trê sal randolf rodrig redeap rom psbrj zezé perrel ptbmg gost solic investig esclarec ocorr cpi futebol hoj cpi presenç sen assin list presenç vot convoc vár pesso solicit cancel dest vot afirm nogu princip ali cbf comiss nogu receb ajud financ entidad ele confeder doou r mil campanh deput feder calh ped rápid investig proced regiment diss decidir nest quint sobr tem ali polít calh gustav feijó vic cbf nest quart aprov convoc dep cpi futebol troc mens obt comiss feijó ped cerc r mil del ner cartol respond envi cbf del ner aparec doad campanh prefeit boc mat interi alago presid sen receb doaç campanh cbf ganh mil entidad ent presid ricard teix presid cpi sen rom diss proced corret secretár geral mes oportun confer atest autentic assinat vot simból conform autoriz reg intern sen diss exjog seleç brasil caix doi suspeit us dinh caix doi campanh prefeit boc mat interi alago gustav feijó vai respond question sen sobr supost ajud financ cbf mens troc doi cartol obt sen feijó cobr del ner dinh campanh respost presid licenci cbf diz pag feit document feijó diz orç campanh r declar justiç eleitor ter arrecad receit r mil cbf aparec doad campanh segund tse dirig eleit prefeit boc mat requer aprov cpi convoc cartol empres ped sen randolf rodrig red  ...            3\n",
              "14042                                                                                                                                                                                                                                                                                                                                                                                                                                                                                                                                                                                                                                                                                                                                                                                                                                                                                                                                                                                                                                                                                                                                                                                                                                                                                                                                                                                                                                                                                                                                                                                                                                                                                                                                                                                                                                                                                                                                                                                                                                                   paul format difer temper alh alecrim algum difer dess porç batat frit conf seleç endereç gener prim burg rechonchud batat lembr format waffl tir entrelaç r r joaquim flori itaim bib tel burg tabl batat cas rús r frit casc temper alh alecrim r gabriel dannunzi camp bel reg sul tel achap cort gom têm assinat marc mccain porç rús casc alecrim sai r r hei peixot cambuc reg centr tel  ...            7\n",
              "12885                                                                                                                                                                                                                                                                                                                                                                                                                                                                                                                                                                                                                                                                                                                                                                                                                                                                                                                                                                                                                                                                                                                                                                                                                                ótim part futebol ganh derr minut qual sublim corr mil metr sprint magníf últ volt assim ritm mil outon jacob zoet david mitchell traduz forç flu daniel gal temp vir sécul cen orient extr ilh jav ond célebr companh comérci holand mantém entrepost ilh artific dej baí nagasak jap nel corrupç sane situ entr cen nov direç cuj cont jacob títul sujeit simpl cumpr fé protest estrit cheg ilusã faz fortun retorn país cas vid lá desconcert alg misteri person kurz coraçã trev joseph conrad mitchell compô dr marinu médic natur vir fio antig fidel ocident serv excel contrapont zoet além tra intent pequenoburgu justiç prosper vai envolv paix inesper infeliz segund protagon livr orit aibagaw aind chanc ser heró acas ataqu memor resist medi alianç heterodox conceb multicultur brut man heroín viv forç mosteir intens cruel reconstitu daquel ambi turv hierarqu japon tradic choc pragmat comerc gent vár orig send medi filtr envies intérpret viv língu étic distint romanc oper thrill narr sempr pres flashback comp quebracabeç afunil bel superi desfech jacob zoet nov marlow final seren mil outon jacob zoet autor david mitchell traduç daniel gal edit companh letr quant r pág  ...            6\n",
              "12136                                                                                                                                                                                                                                                                                                                                                                                                                                                                                                                                                                                                                                                                                                                                                                                                                                                                                                                                                                                                                                                                                                                                                                                                                                                                                                                                                                                                                                                                                                                                                                                                                                                           vig pres suspeit colabor roub cerc r milh transport val reg mat zon lest paul pris temporár vig decret após políci milit apontál colabor crimin roub transport pres dp sant cecíl reg centr paul segund políci menos hom arm particip roub transport volt h últ quartaf vigil carrofort empr cont políci cheg transport descarreg malot gol branc logotip transport par local trê hom arm desc veícul anunci roub vig diss troc tir ladr segund dispar part rua komb estacion pert local crimin consegu fug lev malot acord políci ant fug ladr incendi gol branc us açã coloc fog caminh coloc atravess rua prova dificult pass políci facil fug posteri políci constat doi veícul us roub períc local roub recolh cápsul analis cas investig deic departament estad investigaç crim  ...            5\n",
              "\n",
              "[5 rows x 3 columns]"
            ]
          },
          "metadata": {},
          "execution_count": 11
        }
      ]
    },
    {
      "cell_type": "code",
      "metadata": {
        "id": "r_3yu52YGxy3"
      },
      "source": [
        "#dfPreProc.to_csv('./amostra_news_integrada/amostra_4/dfPreProc.csv',index=False)\n",
        "#dfPreProc = pd.read_csv('./amostra_news_integrada/amostra_4/dfPreProc.csv')\n",
        "#dfPreProc['text'] = dfPreProc['text'].astype('unicode')"
      ],
      "execution_count": 12,
      "outputs": []
    },
    {
      "cell_type": "code",
      "metadata": {
        "id": "0IkNSOm1gria"
      },
      "source": [
        "V = processaVetorizacao(dfPreProc,min_fr=0.01, max_fr=0.9, ngrams=(1,2))\n",
        "X_tfidf = retornaMatriztfIdf(V)"
      ],
      "execution_count": 13,
      "outputs": []
    },
    {
      "cell_type": "code",
      "metadata": {
        "id": "gOURNSL0tmiN",
        "colab": {
          "base_uri": "https://localhost:8080/"
        },
        "outputId": "09d28449-3eb8-4c1f-936d-2c331cc6b826"
      },
      "source": [
        "%%time\n",
        "#https://www.kaggle.com/tchainzzz/agglomerative-document-clustering-on-cord-19\n",
        "\n",
        "dist = 1 - cosine_similarity(X_tfidf)\n",
        "dist = dist - dist.min()\n",
        "linkage_matrix = average(dist) #ward(dist)"
      ],
      "execution_count": 14,
      "outputs": [
        {
          "output_type": "stream",
          "text": [
            "CPU times: user 1.52 s, sys: 3.56 ms, total: 1.52 s\n",
            "Wall time: 1.52 s\n"
          ],
          "name": "stdout"
        }
      ]
    },
    {
      "cell_type": "markdown",
      "metadata": {
        "id": "lRI7LTZB8zep"
      },
      "source": [
        "* https://towardsdatascience.com/breaking-down-the-agglomerative-clustering-process-1c367f74c7c2\n",
        "* https://towardsdatascience.com/machine-learning-algorithms-part-12-hierarchical-agglomerative-clustering-example-in-python-1e18e0075019\n",
        "* https://medium.com/@gilneyjnr/qualidade-de-agrupamentos-ci%C3%AAncia-de-dados-4b1176bef5e5\n"
      ]
    },
    {
      "cell_type": "code",
      "metadata": {
        "id": "3FKCEFRLJHhv"
      },
      "source": [
        "#X = np.ones((X_tfidf.shape))\n",
        "#X_tfidf.toarray(out=X)\n"
      ],
      "execution_count": 15,
      "outputs": []
    },
    {
      "cell_type": "code",
      "metadata": {
        "id": "SyZil-aRD9KO"
      },
      "source": [
        "%%time\n",
        "plt.figure(figsize=(16, 30))\n",
        "dendrogram = sch.dendrogram(linkage_matrix)\n",
        "plt.show()"
      ],
      "execution_count": null,
      "outputs": []
    },
    {
      "cell_type": "markdown",
      "metadata": {
        "id": "w5no3NFSTTAn"
      },
      "source": [
        "Similaridade Coseno"
      ]
    },
    {
      "cell_type": "code",
      "metadata": {
        "id": "r-BiJ4_xQbH8"
      },
      "source": [
        "X_cosine = X_tfidf.toarray()\n",
        "print(np.where(~X_cosine.any(axis=1))[0])\n",
        "z = np.where(~X_cosine.any(axis=1))[0]\n",
        "for i in z:\n",
        "  X_cosine[i] = np.ones(X_cosine[i].shape)*1/100\n",
        "print(np.where(~X_cosine.any(axis=1))[0])"
      ],
      "execution_count": null,
      "outputs": []
    },
    {
      "cell_type": "markdown",
      "metadata": {
        "id": "R67-OVXYVeKN"
      },
      "source": [
        "Para 6 clusters"
      ]
    },
    {
      "cell_type": "code",
      "metadata": {
        "id": "r2rwFYDPKFcn"
      },
      "source": [
        "#model= AgglomerativeClustering(n_clusters=8, affinity='manhattan', linkage='average')\n",
        "#dfDadosPred = aplicaModelo(model, dfDados, X_tfidf)\n",
        "model= AgglomerativeClustering(n_clusters=6, affinity='cosine', linkage='average')\n",
        "y_pred = model.fit_predict(X_cosine)"
      ],
      "execution_count": null,
      "outputs": []
    },
    {
      "cell_type": "code",
      "metadata": {
        "id": "FD2yWccjVmu3"
      },
      "source": [
        "dfDados['y_pred'] = y_pred\n",
        "dfconta = dfDados.groupby(y_pred)['category_nro'].count().reset_index().rename(columns={'index':'y_pred','category_nro':'qtd'}).sort_values(by='qtd', ascending=False)\n",
        "plt.bar('y_pred','qtd',data=dfconta)\n"
      ],
      "execution_count": null,
      "outputs": []
    },
    {
      "cell_type": "code",
      "metadata": {
        "id": "jTzbRBpaEtPs"
      },
      "source": [
        "dfconta = dfDados['y_pred'].value_counts().reset_index()\n",
        "sw = nltk.corpus.stopwords.words('portuguese')\n",
        "for y in dfconta['index'].tolist():\n",
        "  dftmp = dfDados.loc[:,['text']][dfDados['y_pred']==y]\n",
        "  imprimiWordCloud(dftmp['text'].tolist(),200,str(y),sw)"
      ],
      "execution_count": null,
      "outputs": []
    },
    {
      "cell_type": "markdown",
      "metadata": {
        "id": "p_AYtqBJV7Aj"
      },
      "source": [
        "Para 12 Clusters"
      ]
    },
    {
      "cell_type": "code",
      "metadata": {
        "id": "KiPFDzfBWD1E"
      },
      "source": [
        "model= AgglomerativeClustering(n_clusters=12, affinity='cosine', linkage='average')\n",
        "y_pred = model.fit_predict(X_cosine)"
      ],
      "execution_count": null,
      "outputs": []
    },
    {
      "cell_type": "code",
      "metadata": {
        "id": "gLe7DXr-WEgC"
      },
      "source": [
        "dfDados['y_pred'] = y_pred\n",
        "dfconta = dfDados.groupby(y_pred)['category_nro'].count().reset_index().rename(columns={'index':'y_pred','category_nro':'qtd'}).sort_values(by='qtd', ascending=False)\n",
        "plt.bar('y_pred','qtd',data=dfconta)\n"
      ],
      "execution_count": null,
      "outputs": []
    },
    {
      "cell_type": "code",
      "metadata": {
        "id": "cpoH48NIWEkE"
      },
      "source": [
        ""
      ],
      "execution_count": null,
      "outputs": []
    },
    {
      "cell_type": "code",
      "metadata": {
        "id": "4ArZ7UzlWEoB"
      },
      "source": [
        ""
      ],
      "execution_count": null,
      "outputs": []
    },
    {
      "cell_type": "code",
      "metadata": {
        "id": "wMMwm2VTWEtP"
      },
      "source": [
        ""
      ],
      "execution_count": null,
      "outputs": []
    },
    {
      "cell_type": "code",
      "metadata": {
        "id": "OKl3rZb1h3_v"
      },
      "source": [
        "dfDados[dfDados['y_pred']==0][['category','y_pred']].groupby('category').count().reset_index().rename(columns={'y_pred':'qtd'}).sort_values(by='qtd', ascending=False)"
      ],
      "execution_count": null,
      "outputs": []
    },
    {
      "cell_type": "code",
      "metadata": {
        "id": "ch3kPxdaSWvs"
      },
      "source": [
        "dfDados[dfDados['y_pred']==0].sample(10)"
      ],
      "execution_count": null,
      "outputs": []
    }
  ]
}