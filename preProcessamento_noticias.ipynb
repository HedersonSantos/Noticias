{
  "nbformat": 4,
  "nbformat_minor": 0,
  "metadata": {
    "colab": {
      "name": "preProcessamento_noticias.ipynb",
      "provenance": [],
      "collapsed_sections": [],
      "authorship_tag": "ABX9TyOichRBuRPqE1wH+66OZ1yI",
      "include_colab_link": true
    },
    "kernelspec": {
      "name": "python3",
      "display_name": "Python 3"
    },
    "language_info": {
      "name": "python"
    }
  },
  "cells": [
    {
      "cell_type": "markdown",
      "metadata": {
        "id": "view-in-github",
        "colab_type": "text"
      },
      "source": [
        "<a href=\"https://colab.research.google.com/github/HedersonSantos/Noticias/blob/main/preProcessamento_noticias.ipynb\" target=\"_parent\"><img src=\"https://colab.research.google.com/assets/colab-badge.svg\" alt=\"Open In Colab\"/></a>"
      ]
    },
    {
      "cell_type": "code",
      "metadata": {
        "id": "IoJHquZUTshK"
      },
      "source": [
        "import pandas as pd\n",
        "import numpy as np\n",
        "from google.colab import files, drive\n",
        "from pathlib import Path\n",
        "from sklearn.model_selection import train_test_split\n",
        "import io\n",
        "pd.set_option('display.max_columns', None)\n",
        "pd.set_option('display.max_rows', None)\n",
        "pd.set_option('max_colwidth', None)"
      ],
      "execution_count": 1,
      "outputs": []
    },
    {
      "cell_type": "markdown",
      "metadata": {
        "id": "Av1qKWSSl0vP"
      },
      "source": [
        "### Montando drive Google e setando variáveis"
      ]
    },
    {
      "cell_type": "code",
      "metadata": {
        "id": "xXMzGFjTl0A4",
        "colab": {
          "base_uri": "https://localhost:8080/"
        },
        "outputId": "c208ee72-411c-484c-dbb1-5f877a4f7777"
      },
      "source": [
        "drive.mount('/gdrive')\n",
        "%cd /gdrive/My\\ Drive/Colab\\ Notebooks/nlp_tcc\n",
        "path = '/gdrive/My Drive/Colab Notebooks/nlp_tcc'"
      ],
      "execution_count": 2,
      "outputs": [
        {
          "output_type": "stream",
          "text": [
            "Mounted at /gdrive\n",
            "/gdrive/My Drive/Colab Notebooks/nlp_tcc\n"
          ],
          "name": "stdout"
        }
      ]
    },
    {
      "cell_type": "markdown",
      "metadata": {
        "id": "dkoxSIroT-72"
      },
      "source": [
        "### Upload da base de noticias"
      ]
    },
    {
      "cell_type": "code",
      "metadata": {
        "colab": {
          "base_uri": "https://localhost:8080/"
        },
        "id": "RqSo13WoUFXA",
        "outputId": "cfe9cdf0-13be-4b3a-d71c-a02028660e08"
      },
      "source": [
        "#csvNoticias = files.upload()  \n",
        "!rm *.*\n",
        "!wget https://raw.githubusercontent.com/HedersonSantos/Noticias/main/noticia_tratada.zip\n",
        "!unzip noticia_tratada.zip\n",
        "%ls\n",
        "\n"
      ],
      "execution_count": 3,
      "outputs": [
        {
          "output_type": "stream",
          "text": [
            "--2021-06-18 13:30:15--  https://raw.githubusercontent.com/HedersonSantos/Noticias/main/noticia_tratada.zip\n",
            "Resolving raw.githubusercontent.com (raw.githubusercontent.com)... 185.199.111.133, 185.199.108.133, 185.199.109.133, ...\n",
            "Connecting to raw.githubusercontent.com (raw.githubusercontent.com)|185.199.111.133|:443... connected.\n",
            "HTTP request sent, awaiting response... 200 OK\n",
            "Length: 11358315 (11M) [application/zip]\n",
            "Saving to: ‘noticia_tratada.zip’\n",
            "\n",
            "noticia_tratada.zip 100%[===================>]  10.83M  39.4MB/s    in 0.3s    \n",
            "\n",
            "2021-06-18 13:30:16 (39.4 MB/s) - ‘noticia_tratada.zip’ saved [11358315/11358315]\n",
            "\n",
            "Archive:  noticia_tratada.zip\n",
            "  inflating: noticia_tratada.csv     \n",
            "bertimbau_classifier_pt_dict  noticia_tratada.csv  noticia_tratada.zip\n"
          ],
          "name": "stdout"
        }
      ]
    },
    {
      "cell_type": "code",
      "metadata": {
        "colab": {
          "base_uri": "https://localhost:8080/"
        },
        "id": "EaWfMxdXUgST",
        "outputId": "e7ef8166-cbde-4334-dd8d-d3866e708c2a"
      },
      "source": [
        "#dfNews_all = pd.read_csv(io.BytesIO(csvNoticias['noticia_tratada.csv']), header=0, delimiter=';')\n",
        "dfNews_all = pd.read_csv('noticia_tratada.csv', header=0, delimiter=';')\n",
        "print(dfNews_all.columns)\n",
        "dfNews_all.shape"
      ],
      "execution_count": 9,
      "outputs": [
        {
          "output_type": "stream",
          "text": [
            "Index(['FONTE', 'CATEGORIA', 'TEXTO', 'URL', 'PUBLISHEDAT', 'TITLE', 'AUTHOR',\n",
            "       'DT_REGISTRO', 'TEXT_TRATADO'],\n",
            "      dtype='object')\n"
          ],
          "name": "stdout"
        },
        {
          "output_type": "execute_result",
          "data": {
            "text/plain": [
              "(7157, 9)"
            ]
          },
          "metadata": {
            "tags": []
          },
          "execution_count": 9
        }
      ]
    },
    {
      "cell_type": "markdown",
      "metadata": {
        "id": "iEnpG9RMbDmy"
      },
      "source": [
        "### Tratamento da CATEGORIA"
      ]
    },
    {
      "cell_type": "code",
      "metadata": {
        "colab": {
          "base_uri": "https://localhost:8080/"
        },
        "id": "CRH9psITZbGz",
        "outputId": "092c9bd9-c432-4045-c4cb-8230b3e8c8fa"
      },
      "source": [
        "print('Dimensao Inicial:',dfNews_all.shape)\n",
        "#Elimina noticias duplicadas\n",
        "dfNews = dfNews_all.drop_duplicates(subset=['URL'],keep='first').copy()\n",
        "#Elimina noticias sem texto\n",
        "dfNews = dfNews[(~dfNews['TEXT_TRATADO'].isnull())]\n",
        "print('Dimensão após eliminar duplicadas e textos em branco:',dfNews.shape)\n",
        "#Tira as marcações do campo Text[] do Postgres em categoria e seta para minúscula\n",
        "dfNews['CATEGORIA'] = dfNews.loc[:,['CATEGORIA']].apply(lambda x: x['CATEGORIA'].replace('[','').replace(']','').replace('\"','').replace(\", 'redacao'\",'').replace(\"'\",''),axis=1)\n",
        "dfNews['CATEGORIA'] = dfNews.loc[:,['CATEGORIA']].apply(lambda x: x['CATEGORIA'].lower(),axis=1)\n",
        "#Agrupa as notícias locais como categoria LOCAL\n",
        "siglaEstados = ['ac','al','ap','am','ba','ce','df','es','go','ma','mt','ms','mg','pa','pb','pr','pe','pi','rj','rn','rs','ro','rr','sc','sp','se','to']\n",
        "nomeEstados = ['acre','alagoas','amapa','amazonas','bahia','ceara','distrito-federal','espirito-santo','goias','maranhao','mato-grosso','mato-grosso-sul','minas-gerais','minas',\n",
        "               'para','paraiba','parana','pernambuco','piaui','rio-janeiro','rio-grande-norte','rio-grande-sul','rondonia','roraima','santa-catarina','sao-paulo','sergipe','tocantins']\n",
        "nomeCidades =['rio','bh',]\n",
        "local = siglaEstados + nomeEstados + nomeCidades\n",
        "dfNews['CATEGORIA'] = dfNews.loc[:,['CATEGORIA']].apply(lambda x: 'local' if x['CATEGORIA'] in local else x['CATEGORIA'],axis=1)\n",
        "#efe, afp, rfi são notícias internacionais. \n",
        "mundo = ['efe','afp','rfi','mundo','internacional']\n",
        "dfNews['CATEGORIA'] = dfNews.loc[:,['CATEGORIA']].apply(lambda x: 'mundo' if any( i in x['CATEGORIA'] for i in mundo) else x['CATEGORIA'],axis=1)\n",
        "#Na lista miscelanea há as categorias que possuem miscelâneas de noticias de outras categorias.\n",
        "miscelanea = ['deutschewelle', '','bbc','ansa','universa']\n",
        "dfNews['CATEGORIA'] = dfNews.loc[:,['CATEGORIA']].apply(lambda x: 'miscelanea' if x['CATEGORIA'] in miscelanea else x['CATEGORIA'],axis=1)\n",
        "#'reuters' é uma categoria especifica do UOL. Possui textos de economia e miscelânea de noticias.\n",
        "dfreuters = dfNews[dfNews['CATEGORIA']=='reuters'].copy()\n",
        "dfreuters['CATEGORIA'] = dfreuters.loc[:,['CATEGORIA','URL']].apply(lambda x: 'economia' if 'economia' in x['URL']  else 'miscelanea',axis=1)\n",
        "dfNews=dfNews[dfNews['CATEGORIA']!='reuters']\n",
        "dfNews = pd.concat([dfNews,dfreuters],sort=False)\n",
        "#noticias é uma categoria da globo. Traz noticias do Jornal Nacional. São miscelâneas.\n",
        "dfnoticia = dfNews[dfNews['CATEGORIA']=='noticia'].copy()\n",
        "dfnoticia['CATEGORIA'] = dfnoticia.loc[:,['CATEGORIA','URL']].apply(lambda x: 'saude' if 'ciencia-e-saude' in x['URL']  else 'miscelanea',axis=1)\n",
        "dfNews=dfNews[dfNews['CATEGORIA']!='noticia']\n",
        "dfNews = pd.concat([dfNews,dfnoticia],sort=False)\n",
        "#redacao é uma categoria da uol. Traz noticias do meio-ambiente. VERIFICAR QUANDO ATUALIZAR O DATASET SE PERMANECE ASSIM.\n",
        "dfNews['CATEGORIA'] = dfNews.loc[:,['CATEGORIA','URL']].apply(lambda x: 'meio-ambiente' if ('meio-ambiente' in x['URL']) and\n",
        "                                                              (x['CATEGORIA']=='redacao') else x['CATEGORIA'],axis=1)\n",
        "dfNews['CATEGORIA'] = dfNews.loc[:,['CATEGORIA','URL']].apply(lambda x: 'meio-ambiente' if ('meio-ambiente' in x['URL']) and\n",
        "                                                              (x['CATEGORIA']=='sociedade') else \n",
        "                                                              'miscelanea' if x['CATEGORIA']=='sociedade' else x['CATEGORIA'] ,axis=1)\n",
        "dfNews['CATEGORIA'] = dfNews.loc[:,['CATEGORIA']].apply(lambda x: 'saude' if any(i in x['CATEGORIA'] for i in ['vivabem','bemestar'])  else x['CATEGORIA'] ,axis=1)\n",
        "dfNews['CATEGORIA'] = dfNews.loc[:,['CATEGORIA']].apply(lambda x: 'esporte' if any(i in x['CATEGORIA'] for i in ['futebol','volei']) else x['CATEGORIA'],axis=1)\n",
        "midia = ['famosos','cinema','oscar','videos','bbb','musica','lives','cultura']\n",
        "dfNews['CATEGORIA'] = dfNews.loc[:,['CATEGORIA']].apply(lambda x: 'midia' if any(i in x['CATEGORIA'] for i in midia) else x['CATEGORIA'],axis=1)\n",
        "dfNews['CATEGORIA'] = dfNews.loc[:,['CATEGORIA']].apply(lambda x: 'politica' if any(i in x['CATEGORIA'] for i in ['politica'])  else x['CATEGORIA'],axis=1)\n",
        "dfNews.shape"
      ],
      "execution_count": 10,
      "outputs": [
        {
          "output_type": "stream",
          "text": [
            "Dimensao Inicial: (7157, 9)\n",
            "Dimensão após eliminar duplicadas e textos em branco: (7152, 9)\n"
          ],
          "name": "stdout"
        },
        {
          "output_type": "execute_result",
          "data": {
            "text/plain": [
              "(7152, 9)"
            ]
          },
          "metadata": {
            "tags": []
          },
          "execution_count": 10
        }
      ]
    },
    {
      "cell_type": "code",
      "metadata": {
        "id": "w1Dr5Bp5Up3s"
      },
      "source": [
        "#Exportando o dataset todo para csv\n",
        "dfNews.to_csv(path + \"/news.csv\",header=True,doublequote=True, index=False, quotechar='\"', encoding='utf-8')"
      ],
      "execution_count": 13,
      "outputs": []
    },
    {
      "cell_type": "code",
      "metadata": {
        "id": "JZ29lPV6VCor",
        "colab": {
          "base_uri": "https://localhost:8080/",
          "height": 1000
        },
        "outputId": "bb2c5ca3-692d-488e-d43c-8424272fafdb"
      },
      "source": [
        "dfNews.groupby(['CATEGORIA'])['URL'].count().reset_index().sort_values('URL',ascending=False)"
      ],
      "execution_count": 6,
      "outputs": [
        {
          "output_type": "execute_result",
          "data": {
            "text/html": [
              "<div>\n",
              "<style scoped>\n",
              "    .dataframe tbody tr th:only-of-type {\n",
              "        vertical-align: middle;\n",
              "    }\n",
              "\n",
              "    .dataframe tbody tr th {\n",
              "        vertical-align: top;\n",
              "    }\n",
              "\n",
              "    .dataframe thead th {\n",
              "        text-align: right;\n",
              "    }\n",
              "</style>\n",
              "<table border=\"1\" class=\"dataframe\">\n",
              "  <thead>\n",
              "    <tr style=\"text-align: right;\">\n",
              "      <th></th>\n",
              "      <th>CATEGORIA</th>\n",
              "      <th>URL</th>\n",
              "    </tr>\n",
              "  </thead>\n",
              "  <tbody>\n",
              "    <tr>\n",
              "      <th>37</th>\n",
              "      <td>midia</td>\n",
              "      <td>1164</td>\n",
              "    </tr>\n",
              "    <tr>\n",
              "      <th>34</th>\n",
              "      <td>local</td>\n",
              "      <td>979</td>\n",
              "    </tr>\n",
              "    <tr>\n",
              "      <th>50</th>\n",
              "      <td>politica</td>\n",
              "      <td>906</td>\n",
              "    </tr>\n",
              "    <tr>\n",
              "      <th>40</th>\n",
              "      <td>mundo</td>\n",
              "      <td>731</td>\n",
              "    </tr>\n",
              "    <tr>\n",
              "      <th>43</th>\n",
              "      <td>novelas</td>\n",
              "      <td>552</td>\n",
              "    </tr>\n",
              "    <tr>\n",
              "      <th>38</th>\n",
              "      <td>miscelanea</td>\n",
              "      <td>491</td>\n",
              "    </tr>\n",
              "    <tr>\n",
              "      <th>56</th>\n",
              "      <td>saude</td>\n",
              "      <td>390</td>\n",
              "    </tr>\n",
              "    <tr>\n",
              "      <th>26</th>\n",
              "      <td>esporte</td>\n",
              "      <td>378</td>\n",
              "    </tr>\n",
              "    <tr>\n",
              "      <th>18</th>\n",
              "      <td>economia</td>\n",
              "      <td>301</td>\n",
              "    </tr>\n",
              "    <tr>\n",
              "      <th>2</th>\n",
              "      <td>brasil</td>\n",
              "      <td>270</td>\n",
              "    </tr>\n",
              "    <tr>\n",
              "      <th>14</th>\n",
              "      <td>coronavirus</td>\n",
              "      <td>226</td>\n",
              "    </tr>\n",
              "    <tr>\n",
              "      <th>10</th>\n",
              "      <td>colunas</td>\n",
              "      <td>183</td>\n",
              "    </tr>\n",
              "    <tr>\n",
              "      <th>31</th>\n",
              "      <td>justica</td>\n",
              "      <td>129</td>\n",
              "    </tr>\n",
              "    <tr>\n",
              "      <th>8</th>\n",
              "      <td>celebridades</td>\n",
              "      <td>85</td>\n",
              "    </tr>\n",
              "    <tr>\n",
              "      <th>27</th>\n",
              "      <td>fantastico</td>\n",
              "      <td>47</td>\n",
              "    </tr>\n",
              "    <tr>\n",
              "      <th>15</th>\n",
              "      <td>cotidiano</td>\n",
              "      <td>45</td>\n",
              "    </tr>\n",
              "    <tr>\n",
              "      <th>36</th>\n",
              "      <td>meio-ambiente</td>\n",
              "      <td>45</td>\n",
              "    </tr>\n",
              "    <tr>\n",
              "      <th>61</th>\n",
              "      <td>tecnologia</td>\n",
              "      <td>39</td>\n",
              "    </tr>\n",
              "    <tr>\n",
              "      <th>49</th>\n",
              "      <td>podcast</td>\n",
              "      <td>31</td>\n",
              "    </tr>\n",
              "    <tr>\n",
              "      <th>22</th>\n",
              "      <td>eleicoes</td>\n",
              "      <td>30</td>\n",
              "    </tr>\n",
              "    <tr>\n",
              "      <th>21</th>\n",
              "      <td>educacao</td>\n",
              "      <td>17</td>\n",
              "    </tr>\n",
              "    <tr>\n",
              "      <th>35</th>\n",
              "      <td>loterias</td>\n",
              "      <td>16</td>\n",
              "    </tr>\n",
              "    <tr>\n",
              "      <th>19</th>\n",
              "      <td>economia, blog, post</td>\n",
              "      <td>11</td>\n",
              "    </tr>\n",
              "    <tr>\n",
              "      <th>7</th>\n",
              "      <td>casos-de-policia</td>\n",
              "      <td>9</td>\n",
              "    </tr>\n",
              "    <tr>\n",
              "      <th>0</th>\n",
              "      <td>agronegocios</td>\n",
              "      <td>5</td>\n",
              "    </tr>\n",
              "    <tr>\n",
              "      <th>13</th>\n",
              "      <td>confere</td>\n",
              "      <td>5</td>\n",
              "    </tr>\n",
              "    <tr>\n",
              "      <th>4</th>\n",
              "      <td>carros</td>\n",
              "      <td>5</td>\n",
              "    </tr>\n",
              "    <tr>\n",
              "      <th>62</th>\n",
              "      <td>tilt, reuters</td>\n",
              "      <td>4</td>\n",
              "    </tr>\n",
              "    <tr>\n",
              "      <th>16</th>\n",
              "      <td>covid</td>\n",
              "      <td>4</td>\n",
              "    </tr>\n",
              "    <tr>\n",
              "      <th>48</th>\n",
              "      <td>pme</td>\n",
              "      <td>4</td>\n",
              "    </tr>\n",
              "    <tr>\n",
              "      <th>23</th>\n",
              "      <td>enem</td>\n",
              "      <td>3</td>\n",
              "    </tr>\n",
              "    <tr>\n",
              "      <th>46</th>\n",
              "      <td>pesquisas</td>\n",
              "      <td>3</td>\n",
              "    </tr>\n",
              "    <tr>\n",
              "      <th>20</th>\n",
              "      <td>economia, tecnologia, blog, post</td>\n",
              "      <td>3</td>\n",
              "    </tr>\n",
              "    <tr>\n",
              "      <th>51</th>\n",
              "      <td>portuguese</td>\n",
              "      <td>3</td>\n",
              "    </tr>\n",
              "    <tr>\n",
              "      <th>58</th>\n",
              "      <td>sociedade, coronavirus</td>\n",
              "      <td>2</td>\n",
              "    </tr>\n",
              "    <tr>\n",
              "      <th>42</th>\n",
              "      <td>nossa</td>\n",
              "      <td>2</td>\n",
              "    </tr>\n",
              "    <tr>\n",
              "      <th>41</th>\n",
              "      <td>nieman</td>\n",
              "      <td>2</td>\n",
              "    </tr>\n",
              "    <tr>\n",
              "      <th>25</th>\n",
              "      <td>especiais</td>\n",
              "      <td>2</td>\n",
              "    </tr>\n",
              "    <tr>\n",
              "      <th>12</th>\n",
              "      <td>comprova</td>\n",
              "      <td>2</td>\n",
              "    </tr>\n",
              "    <tr>\n",
              "      <th>33</th>\n",
              "      <td>legislacao</td>\n",
              "      <td>2</td>\n",
              "    </tr>\n",
              "    <tr>\n",
              "      <th>53</th>\n",
              "      <td>programas, 3-em-1</td>\n",
              "      <td>2</td>\n",
              "    </tr>\n",
              "    <tr>\n",
              "      <th>47</th>\n",
              "      <td>pix</td>\n",
              "      <td>2</td>\n",
              "    </tr>\n",
              "    <tr>\n",
              "      <th>57</th>\n",
              "      <td>saude, estado</td>\n",
              "      <td>1</td>\n",
              "    </tr>\n",
              "    <tr>\n",
              "      <th>59</th>\n",
              "      <td>sociedade, educacao</td>\n",
              "      <td>1</td>\n",
              "    </tr>\n",
              "    <tr>\n",
              "      <th>52</th>\n",
              "      <td>programas</td>\n",
              "      <td>1</td>\n",
              "    </tr>\n",
              "    <tr>\n",
              "      <th>60</th>\n",
              "      <td>start</td>\n",
              "      <td>1</td>\n",
              "    </tr>\n",
              "    <tr>\n",
              "      <th>54</th>\n",
              "      <td>quadros</td>\n",
              "      <td>1</td>\n",
              "    </tr>\n",
              "    <tr>\n",
              "      <th>55</th>\n",
              "      <td>realities</td>\n",
              "      <td>1</td>\n",
              "    </tr>\n",
              "    <tr>\n",
              "      <th>32</th>\n",
              "      <td>justica, 3-dos-ex-pms-levados-por-salles-para-ministerio-foram-afastados-pelo-stf</td>\n",
              "      <td>1</td>\n",
              "    </tr>\n",
              "    <tr>\n",
              "      <th>45</th>\n",
              "      <td>palmeiras</td>\n",
              "      <td>1</td>\n",
              "    </tr>\n",
              "    <tr>\n",
              "      <th>44</th>\n",
              "      <td>olimpiadas</td>\n",
              "      <td>1</td>\n",
              "    </tr>\n",
              "    <tr>\n",
              "      <th>39</th>\n",
              "      <td>motor</td>\n",
              "      <td>1</td>\n",
              "    </tr>\n",
              "    <tr>\n",
              "      <th>1</th>\n",
              "      <td>atitude</td>\n",
              "      <td>1</td>\n",
              "    </tr>\n",
              "    <tr>\n",
              "      <th>30</th>\n",
              "      <td>internet</td>\n",
              "      <td>1</td>\n",
              "    </tr>\n",
              "    <tr>\n",
              "      <th>29</th>\n",
              "      <td>historia</td>\n",
              "      <td>1</td>\n",
              "    </tr>\n",
              "    <tr>\n",
              "      <th>28</th>\n",
              "      <td>golfe</td>\n",
              "      <td>1</td>\n",
              "    </tr>\n",
              "    <tr>\n",
              "      <th>24</th>\n",
              "      <td>ep</td>\n",
              "      <td>1</td>\n",
              "    </tr>\n",
              "    <tr>\n",
              "      <th>17</th>\n",
              "      <td>diplomacia</td>\n",
              "      <td>1</td>\n",
              "    </tr>\n",
              "    <tr>\n",
              "      <th>11</th>\n",
              "      <td>combate</td>\n",
              "      <td>1</td>\n",
              "    </tr>\n",
              "    <tr>\n",
              "      <th>9</th>\n",
              "      <td>coluna</td>\n",
              "      <td>1</td>\n",
              "    </tr>\n",
              "    <tr>\n",
              "      <th>6</th>\n",
              "      <td>carros, colunas, infomoto</td>\n",
              "      <td>1</td>\n",
              "    </tr>\n",
              "    <tr>\n",
              "      <th>5</th>\n",
              "      <td>carros, colunas</td>\n",
              "      <td>1</td>\n",
              "    </tr>\n",
              "    <tr>\n",
              "      <th>3</th>\n",
              "      <td>brics</td>\n",
              "      <td>1</td>\n",
              "    </tr>\n",
              "    <tr>\n",
              "      <th>63</th>\n",
              "      <td>transito</td>\n",
              "      <td>1</td>\n",
              "    </tr>\n",
              "  </tbody>\n",
              "</table>\n",
              "</div>"
            ],
            "text/plain": [
              "                                                                            CATEGORIA  \\\n",
              "37                                                                              midia   \n",
              "34                                                                              local   \n",
              "50                                                                           politica   \n",
              "40                                                                              mundo   \n",
              "43                                                                            novelas   \n",
              "38                                                                         miscelanea   \n",
              "56                                                                              saude   \n",
              "26                                                                            esporte   \n",
              "18                                                                           economia   \n",
              "2                                                                              brasil   \n",
              "14                                                                        coronavirus   \n",
              "10                                                                            colunas   \n",
              "31                                                                            justica   \n",
              "8                                                                        celebridades   \n",
              "27                                                                         fantastico   \n",
              "15                                                                          cotidiano   \n",
              "36                                                                      meio-ambiente   \n",
              "61                                                                         tecnologia   \n",
              "49                                                                            podcast   \n",
              "22                                                                           eleicoes   \n",
              "21                                                                           educacao   \n",
              "35                                                                           loterias   \n",
              "19                                                               economia, blog, post   \n",
              "7                                                                    casos-de-policia   \n",
              "0                                                                        agronegocios   \n",
              "13                                                                            confere   \n",
              "4                                                                              carros   \n",
              "62                                                                      tilt, reuters   \n",
              "16                                                                              covid   \n",
              "48                                                                                pme   \n",
              "23                                                                               enem   \n",
              "46                                                                          pesquisas   \n",
              "20                                                   economia, tecnologia, blog, post   \n",
              "51                                                                         portuguese   \n",
              "58                                                             sociedade, coronavirus   \n",
              "42                                                                              nossa   \n",
              "41                                                                             nieman   \n",
              "25                                                                          especiais   \n",
              "12                                                                           comprova   \n",
              "33                                                                         legislacao   \n",
              "53                                                                  programas, 3-em-1   \n",
              "47                                                                                pix   \n",
              "57                                                                      saude, estado   \n",
              "59                                                                sociedade, educacao   \n",
              "52                                                                          programas   \n",
              "60                                                                              start   \n",
              "54                                                                            quadros   \n",
              "55                                                                          realities   \n",
              "32  justica, 3-dos-ex-pms-levados-por-salles-para-ministerio-foram-afastados-pelo-stf   \n",
              "45                                                                          palmeiras   \n",
              "44                                                                         olimpiadas   \n",
              "39                                                                              motor   \n",
              "1                                                                             atitude   \n",
              "30                                                                           internet   \n",
              "29                                                                           historia   \n",
              "28                                                                              golfe   \n",
              "24                                                                                 ep   \n",
              "17                                                                         diplomacia   \n",
              "11                                                                            combate   \n",
              "9                                                                              coluna   \n",
              "6                                                           carros, colunas, infomoto   \n",
              "5                                                                     carros, colunas   \n",
              "3                                                                               brics   \n",
              "63                                                                           transito   \n",
              "\n",
              "     URL  \n",
              "37  1164  \n",
              "34   979  \n",
              "50   906  \n",
              "40   731  \n",
              "43   552  \n",
              "38   491  \n",
              "56   390  \n",
              "26   378  \n",
              "18   301  \n",
              "2    270  \n",
              "14   226  \n",
              "10   183  \n",
              "31   129  \n",
              "8     85  \n",
              "27    47  \n",
              "15    45  \n",
              "36    45  \n",
              "61    39  \n",
              "49    31  \n",
              "22    30  \n",
              "21    17  \n",
              "35    16  \n",
              "19    11  \n",
              "7      9  \n",
              "0      5  \n",
              "13     5  \n",
              "4      5  \n",
              "62     4  \n",
              "16     4  \n",
              "48     4  \n",
              "23     3  \n",
              "46     3  \n",
              "20     3  \n",
              "51     3  \n",
              "58     2  \n",
              "42     2  \n",
              "41     2  \n",
              "25     2  \n",
              "12     2  \n",
              "33     2  \n",
              "53     2  \n",
              "47     2  \n",
              "57     1  \n",
              "59     1  \n",
              "52     1  \n",
              "60     1  \n",
              "54     1  \n",
              "55     1  \n",
              "32     1  \n",
              "45     1  \n",
              "44     1  \n",
              "39     1  \n",
              "1      1  \n",
              "30     1  \n",
              "29     1  \n",
              "28     1  \n",
              "24     1  \n",
              "17     1  \n",
              "11     1  \n",
              "9      1  \n",
              "6      1  \n",
              "5      1  \n",
              "3      1  \n",
              "63     1  "
            ]
          },
          "metadata": {
            "tags": []
          },
          "execution_count": 6
        }
      ]
    },
    {
      "cell_type": "code",
      "metadata": {
        "colab": {
          "base_uri": "https://localhost:8080/"
        },
        "id": "Y8o7f9g6W4O3",
        "outputId": "fb3d3956-8b7e-4796-906d-cb0e3d8671de"
      },
      "source": [
        "#Filtra categorias com poucas noticias. \n",
        "dfNewsGrupo = dfNews.groupby(['CATEGORIA'])['URL'].count().reset_index().sort_values('URL',ascending=False)\n",
        "dfNewsGrupo = dfNewsGrupo[dfNewsGrupo['URL']<=30]\n",
        "dfNews = dfNews[~dfNews['CATEGORIA'].isin(dfNewsGrupo['CATEGORIA'].tolist())]\n",
        "dfNews.shape"
      ],
      "execution_count": 7,
      "outputs": [
        {
          "output_type": "execute_result",
          "data": {
            "text/plain": [
              "(6992, 9)"
            ]
          },
          "metadata": {
            "tags": []
          },
          "execution_count": 7
        }
      ]
    },
    {
      "cell_type": "code",
      "metadata": {
        "colab": {
          "base_uri": "https://localhost:8080/",
          "height": 598
        },
        "id": "K91Alyn0R0ot",
        "outputId": "a07bc2c1-798b-423f-85c9-a70bd42206a4"
      },
      "source": [
        "#Criando coluna CATEGORIA numerada.\n",
        "dfNewsGrupo = dfNews.groupby(['CATEGORIA'])['URL'].count().reset_index().sort_values('URL',ascending=False)\n",
        "print('QUANTIDADE DE NOTICIAS POR CATEGORIA:\\n',dfNewsGrupo)\n",
        "dictCategoriaNumero = dict(zip(dfNewsGrupo['CATEGORIA'],range(0,30)))\n",
        "print(dictCategoriaNumero)\n",
        "dfNews['CAT_NRO'] = dfNews['CATEGORIA'].map(dictCategoriaNumero)\n",
        "dfNews[['CATEGORIA','CAT_NRO']].head(5)"
      ],
      "execution_count": 8,
      "outputs": [
        {
          "output_type": "stream",
          "text": [
            "QUANTIDADE DE NOTICIAS POR CATEGORIA:\n",
            "         CATEGORIA   URL\n",
            "11          midia  1164\n",
            "9           local   979\n",
            "16       politica   906\n",
            "13          mundo   731\n",
            "14        novelas   552\n",
            "12     miscelanea   491\n",
            "17          saude   390\n",
            "6         esporte   378\n",
            "5        economia   301\n",
            "0          brasil   270\n",
            "3     coronavirus   226\n",
            "2         colunas   183\n",
            "8         justica   129\n",
            "1    celebridades    85\n",
            "7      fantastico    47\n",
            "10  meio-ambiente    45\n",
            "4       cotidiano    45\n",
            "18     tecnologia    39\n",
            "15        podcast    31\n",
            "{'midia': 0, 'local': 1, 'politica': 2, 'mundo': 3, 'novelas': 4, 'miscelanea': 5, 'saude': 6, 'esporte': 7, 'economia': 8, 'brasil': 9, 'coronavirus': 10, 'colunas': 11, 'justica': 12, 'celebridades': 13, 'fantastico': 14, 'meio-ambiente': 15, 'cotidiano': 16, 'tecnologia': 17, 'podcast': 18}\n"
          ],
          "name": "stdout"
        },
        {
          "output_type": "execute_result",
          "data": {
            "text/html": [
              "<div>\n",
              "<style scoped>\n",
              "    .dataframe tbody tr th:only-of-type {\n",
              "        vertical-align: middle;\n",
              "    }\n",
              "\n",
              "    .dataframe tbody tr th {\n",
              "        vertical-align: top;\n",
              "    }\n",
              "\n",
              "    .dataframe thead th {\n",
              "        text-align: right;\n",
              "    }\n",
              "</style>\n",
              "<table border=\"1\" class=\"dataframe\">\n",
              "  <thead>\n",
              "    <tr style=\"text-align: right;\">\n",
              "      <th></th>\n",
              "      <th>CATEGORIA</th>\n",
              "      <th>CAT_NRO</th>\n",
              "    </tr>\n",
              "  </thead>\n",
              "  <tbody>\n",
              "    <tr>\n",
              "      <th>0</th>\n",
              "      <td>midia</td>\n",
              "      <td>0</td>\n",
              "    </tr>\n",
              "    <tr>\n",
              "      <th>1</th>\n",
              "      <td>midia</td>\n",
              "      <td>0</td>\n",
              "    </tr>\n",
              "    <tr>\n",
              "      <th>2</th>\n",
              "      <td>miscelanea</td>\n",
              "      <td>5</td>\n",
              "    </tr>\n",
              "    <tr>\n",
              "      <th>3</th>\n",
              "      <td>mundo</td>\n",
              "      <td>3</td>\n",
              "    </tr>\n",
              "    <tr>\n",
              "      <th>4</th>\n",
              "      <td>local</td>\n",
              "      <td>1</td>\n",
              "    </tr>\n",
              "  </tbody>\n",
              "</table>\n",
              "</div>"
            ],
            "text/plain": [
              "    CATEGORIA  CAT_NRO\n",
              "0       midia        0\n",
              "1       midia        0\n",
              "2  miscelanea        5\n",
              "3       mundo        3\n",
              "4       local        1"
            ]
          },
          "metadata": {
            "tags": []
          },
          "execution_count": 8
        }
      ]
    },
    {
      "cell_type": "markdown",
      "metadata": {
        "id": "cY8AFOZ-SmRw"
      },
      "source": [
        "### Prepara DataSet Treinamento, Teste"
      ]
    },
    {
      "cell_type": "code",
      "metadata": {
        "colab": {
          "base_uri": "https://localhost:8080/"
        },
        "id": "l6INwvY-SW3O",
        "outputId": "77fb0847-ee7b-4878-850b-5417a2ce8f7d"
      },
      "source": [
        "dfMiscelanea = dfNews[dfNews['CATEGORIA']=='miscelanea'].loc[:,['TEXT_TRATADO']]\n",
        "print('miscelanea:',dfMiscelanea.shape)\n",
        "\n"
      ],
      "execution_count": 8,
      "outputs": [
        {
          "output_type": "stream",
          "text": [
            "miscelanea: (491, 1)\n"
          ],
          "name": "stdout"
        }
      ]
    },
    {
      "cell_type": "code",
      "metadata": {
        "colab": {
          "base_uri": "https://localhost:8080/"
        },
        "id": "YEwbsnboXbr6",
        "outputId": "961e6d9e-636f-45e6-de45-8141d739902b"
      },
      "source": [
        "dfNews.columns"
      ],
      "execution_count": 9,
      "outputs": [
        {
          "output_type": "execute_result",
          "data": {
            "text/plain": [
              "Index(['FONTE', 'CATEGORIA', 'TEXTO', 'URL', 'PUBLISHEDAT', 'TITLE', 'AUTHOR',\n",
              "       'DT_REGISTRO', 'TEXT_TRATADO', 'CAT_NRO'],\n",
              "      dtype='object')"
            ]
          },
          "metadata": {
            "tags": []
          },
          "execution_count": 9
        }
      ]
    },
    {
      "cell_type": "code",
      "metadata": {
        "id": "szyy4_koj2tU"
      },
      "source": [
        ""
      ],
      "execution_count": null,
      "outputs": []
    },
    {
      "cell_type": "code",
      "metadata": {
        "colab": {
          "base_uri": "https://localhost:8080/"
        },
        "id": "cX8302pfRxQ3",
        "outputId": "e6cf1b31-9834-47b3-b678-7163e5438b7e"
      },
      "source": [
        "#vamos obter uma amostra randômica de n noticias para cada CATEGORIA e dividir em três datasets Treinamento Validação e Teste.\n",
        "dfNewsGrupo = dfNewsGrupo[dfNewsGrupo['CATEGORIA']!='miscelanea']\n",
        "n=200\n",
        "categorias = dfNewsGrupo[dfNewsGrupo['URL']>n].loc[:,['CATEGORIA']]['CATEGORIA'].to_list()\n",
        "print(categorias)\n",
        "frame=[]\n",
        "for categoria in categorias:\n",
        "  dftmp = dfNews[dfNews['CATEGORIA']==categoria].loc[:,['TEXTO','CAT_NRO']].sample(n=n)\n",
        "  frame.append(dftmp)\n",
        "dfAmostra = pd.concat(frame,ignore_index=True, sort=False)\n",
        "print('Amostra:', dfAmostra.shape)\n",
        "\n",
        "df_train, df_test_valid = train_test_split(dfAmostra, train_size = 0.8, random_state = 10)\n",
        "df_valid, df_test = train_test_split(df_test_valid, train_size = 0.5, random_state = 10)\n",
        "print('Treinamento:',df_train.shape)\n",
        "print('Teste:', df_test.shape)\n",
        "print('Valid:', df_valid.shape)\n",
        "\n"
      ],
      "execution_count": null,
      "outputs": [
        {
          "output_type": "stream",
          "text": [
            "['local', 'politica', 'mundo', 'novelas', 'saude', 'esporte', 'economia', 'brasil']\n",
            "Amostra: (1600, 2)\n",
            "Treinamento: (1280, 2)\n",
            "Teste: (160, 2)\n",
            "Valid: (160, 2)\n"
          ],
          "name": "stdout"
        }
      ]
    },
    {
      "cell_type": "code",
      "metadata": {
        "id": "xng6PljPjnPb"
      },
      "source": [
        "df_train.to_csv(path + \"/train.csv\",header=True,doublequote=True, index=False, quotechar='\"', encoding='utf-8')\n",
        "df_test.to_csv(path + \"/test.csv\",header=True,doublequote=True, index=False, quotechar='\"', encoding='utf-8')\n",
        "df_valid.to_csv(path + \"/valid.csv\",header=True,doublequote=True, index=False, quotechar='\"', encoding='utf-8')"
      ],
      "execution_count": null,
      "outputs": []
    },
    {
      "cell_type": "markdown",
      "metadata": {
        "id": "nHBa6shmIkcw"
      },
      "source": [
        ""
      ]
    }
  ]
}