{
  "nbformat": 4,
  "nbformat_minor": 0,
  "metadata": {
    "colab": {
      "name": "preProcessamento_noticias.ipynb",
      "provenance": [],
      "collapsed_sections": [],
      "authorship_tag": "ABX9TyNjWoTTSt4PV7HTTDC0Xfqs",
      "include_colab_link": true
    },
    "kernelspec": {
      "name": "python3",
      "display_name": "Python 3"
    },
    "language_info": {
      "name": "python"
    }
  },
  "cells": [
    {
      "cell_type": "markdown",
      "metadata": {
        "id": "view-in-github",
        "colab_type": "text"
      },
      "source": [
        "<a href=\"https://colab.research.google.com/github/HedersonSantos/Noticias/blob/main/preProcessamento_noticias.ipynb\" target=\"_parent\"><img src=\"https://colab.research.google.com/assets/colab-badge.svg\" alt=\"Open In Colab\"/></a>"
      ]
    },
    {
      "cell_type": "code",
      "metadata": {
        "id": "IoJHquZUTshK"
      },
      "source": [
        "import pandas as pd\n",
        "import numpy as np\n",
        "from google.colab import files, drive\n",
        "from pathlib import Path\n",
        "from sklearn.model_selection import train_test_split\n",
        "import io\n",
        "pd.set_option('display.max_columns', None)\n",
        "pd.set_option('display.max_rows', None)\n",
        "pd.set_option('max_colwidth', None)"
      ],
      "execution_count": 1,
      "outputs": []
    },
    {
      "cell_type": "markdown",
      "metadata": {
        "id": "Av1qKWSSl0vP"
      },
      "source": [
        "### Montando drive Google e setando variáveis"
      ]
    },
    {
      "cell_type": "code",
      "metadata": {
        "id": "xXMzGFjTl0A4",
        "colab": {
          "base_uri": "https://localhost:8080/"
        },
        "outputId": "f1ecad8e-32fa-438b-a19f-a139faef5001"
      },
      "source": [
        "drive.mount('/gdrive')\n",
        "%cd /gdrive/My\\ Drive/Colab\\ Notebooks/nlp_tcc\n",
        "path = '/gdrive/My Drive/Colab Notebooks/nlp_tcc'"
      ],
      "execution_count": 2,
      "outputs": [
        {
          "output_type": "stream",
          "text": [
            "Mounted at /gdrive\n",
            "/gdrive/My Drive/Colab Notebooks/nlp_tcc\n"
          ],
          "name": "stdout"
        }
      ]
    },
    {
      "cell_type": "markdown",
      "metadata": {
        "id": "dkoxSIroT-72"
      },
      "source": [
        "### Upload da base de noticias"
      ]
    },
    {
      "cell_type": "code",
      "metadata": {
        "colab": {
          "base_uri": "https://localhost:8080/"
        },
        "id": "RqSo13WoUFXA",
        "outputId": "35252d5b-96ce-479d-a133-673ef8932d37"
      },
      "source": [
        "#csvNoticias = files.upload()  \n",
        "!rm *.*\n",
        "!wget https://raw.githubusercontent.com/HedersonSantos/Noticias/main/noticia_tratada.zip\n",
        "!unzip noticia_tratada.zip\n",
        "%ls\n",
        "\n"
      ],
      "execution_count": 3,
      "outputs": [
        {
          "output_type": "stream",
          "text": [
            "--2021-06-04 22:10:22--  https://raw.githubusercontent.com/HedersonSantos/Noticias/main/noticia_tratada.zip\n",
            "Resolving raw.githubusercontent.com (raw.githubusercontent.com)... 185.199.111.133, 185.199.110.133, 185.199.108.133, ...\n",
            "Connecting to raw.githubusercontent.com (raw.githubusercontent.com)|185.199.111.133|:443... connected.\n",
            "HTTP request sent, awaiting response... 200 OK\n",
            "Length: 6432391 (6.1M) [application/zip]\n",
            "Saving to: ‘noticia_tratada.zip’\n",
            "\n",
            "noticia_tratada.zip 100%[===================>]   6.13M  12.7MB/s    in 0.5s    \n",
            "\n",
            "2021-06-04 22:10:24 (12.7 MB/s) - ‘noticia_tratada.zip’ saved [6432391/6432391]\n",
            "\n",
            "Archive:  noticia_tratada.zip\n",
            "  inflating: noticia_tratada.csv     \n",
            "noticia_tratada.csv  noticia_tratada.zip\n"
          ],
          "name": "stdout"
        }
      ]
    },
    {
      "cell_type": "code",
      "metadata": {
        "colab": {
          "base_uri": "https://localhost:8080/"
        },
        "id": "EaWfMxdXUgST",
        "outputId": "ea23f2d1-3bba-47fe-90e7-7c306e25c528"
      },
      "source": [
        "#dfNews_all = pd.read_csv(io.BytesIO(csvNoticias['noticia_tratada.csv']), header=0, delimiter=';')\n",
        "dfNews_all = pd.read_csv('noticia_tratada.csv', header=0, delimiter=';')\n",
        "print(dfNews_all.columns)\n",
        "dfNews_all.shape"
      ],
      "execution_count": 4,
      "outputs": [
        {
          "output_type": "stream",
          "text": [
            "Index(['FONTE', 'CATEGORIA', 'TEXTO', 'URL', 'PUBLISHEDAT', 'TITLE', 'AUTHOR',\n",
            "       'DT_REGISTRO', 'TEXT_TRATADO'],\n",
            "      dtype='object')\n"
          ],
          "name": "stdout"
        },
        {
          "output_type": "execute_result",
          "data": {
            "text/plain": [
              "(3994, 9)"
            ]
          },
          "metadata": {
            "tags": []
          },
          "execution_count": 4
        }
      ]
    },
    {
      "cell_type": "markdown",
      "metadata": {
        "id": "iEnpG9RMbDmy"
      },
      "source": [
        "### Tratamento da CATEGORIA"
      ]
    },
    {
      "cell_type": "code",
      "metadata": {
        "colab": {
          "base_uri": "https://localhost:8080/"
        },
        "id": "CRH9psITZbGz",
        "outputId": "3a872f3a-08dc-46dc-e37d-ff453bf562b6"
      },
      "source": [
        "print('Dimensao Inicial:',dfNews_all.shape)\n",
        "#Elimina noticias duplicadas\n",
        "dfNews = dfNews_all.drop_duplicates(subset=['URL'],keep='first').copy()\n",
        "#Elimina noticias sem texto\n",
        "dfNews = dfNews[(~dfNews['TEXT_TRATADO'].isnull())]\n",
        "print('Dimensão após eliminar duplicadas e textos em branco:',dfNews.shape)\n",
        "#Tira as marcações do campo Text[] do Postgres em categoria e seta para minúscula\n",
        "dfNews['CATEGORIA'] = dfNews.loc[:,['CATEGORIA']].apply(lambda x: x['CATEGORIA'].replace('[','').replace(']','').replace('\"','').replace(\", 'redacao'\",'').replace(\"'\",''),axis=1)\n",
        "dfNews['CATEGORIA'] = dfNews.loc[:,['CATEGORIA']].apply(lambda x: x['CATEGORIA'].lower(),axis=1)\n",
        "#Agrupa as notícias locais como categoria LOCAL\n",
        "siglaEstados = ['ac','al','ap','am','ba','ce','df','es','go','ma','mt','ms','mg','pa','pb','pr','pe','pi','rj','rn','rs','ro','rr','sc','sp','se','to']\n",
        "nomeEstados = ['acre','alagoas','amapa','amazonas','bahia','ceara','distrito-federal','espirito-santo','goias','maranhao','mato-grosso','mato-grosso-sul','minas-gerais','minas',\n",
        "               'para','paraiba','parana','pernambuco','piaui','rio-janeiro','rio-grande-norte','rio-grande-sul','rondonia','roraima','santa-catarina','sao-paulo','sergipe','tocantins']\n",
        "nomeCidades =['rio','bh',]\n",
        "local = siglaEstados + nomeEstados + nomeCidades\n",
        "dfNews['CATEGORIA'] = dfNews.loc[:,['CATEGORIA']].apply(lambda x: 'local' if x['CATEGORIA'] in local else x['CATEGORIA'],axis=1)\n",
        "#efe, afp, rfi são notícias internacionais. \n",
        "mundo = ['efe','afp','rfi','mundo','internacional']\n",
        "dfNews['CATEGORIA'] = dfNews.loc[:,['CATEGORIA']].apply(lambda x: 'mundo' if any( i in x['CATEGORIA'] for i in mundo) else x['CATEGORIA'],axis=1)\n",
        "#Na lista miscelanea há as categorias que possuem miscelâneas de noticias de outras categorias.\n",
        "miscelanea = ['deutschewelle', '','bbc','ansa','universa']\n",
        "dfNews['CATEGORIA'] = dfNews.loc[:,['CATEGORIA']].apply(lambda x: 'miscelanea' if x['CATEGORIA'] in miscelanea else x['CATEGORIA'],axis=1)\n",
        "#'reuters' é uma categoria especifica do UOL. Possui textos de economia e miscelânea de noticias.\n",
        "dfreuters = dfNews[dfNews['CATEGORIA']=='reuters'].copy()\n",
        "dfreuters['CATEGORIA'] = dfreuters.loc[:,['CATEGORIA','URL']].apply(lambda x: 'economia' if 'economia' in x['URL']  else 'miscelanea',axis=1)\n",
        "dfNews=dfNews[dfNews['CATEGORIA']!='reuters']\n",
        "dfNews = pd.concat([dfNews,dfreuters],sort=False)\n",
        "#noticias é uma categoria da globo. Traz noticias do Jornal Nacional. São miscelâneas.\n",
        "dfnoticia = dfNews[dfNews['CATEGORIA']=='noticia'].copy()\n",
        "dfnoticia['CATEGORIA'] = dfnoticia.loc[:,['CATEGORIA','URL']].apply(lambda x: 'saude' if 'ciencia-e-saude' in x['URL']  else 'miscelanea',axis=1)\n",
        "dfNews=dfNews[dfNews['CATEGORIA']!='noticia']\n",
        "dfNews = pd.concat([dfNews,dfnoticia],sort=False)\n",
        "#redacao é uma categoria da uol. Traz noticias do meio-ambiente. VERIFICAR QUANDO ATUALIZAR O DATASET SE PERMANECE ASSIM.\n",
        "dfNews['CATEGORIA'] = dfNews.loc[:,['CATEGORIA','URL']].apply(lambda x: 'meio-ambiente' if ('meio-ambiente' in x['URL']) and\n",
        "                                                              (x['CATEGORIA']=='redacao') else x['CATEGORIA'],axis=1)\n",
        "dfNews['CATEGORIA'] = dfNews.loc[:,['CATEGORIA','URL']].apply(lambda x: 'meio-ambiente' if ('meio-ambiente' in x['URL']) and\n",
        "                                                              (x['CATEGORIA']=='sociedade') else \n",
        "                                                              'miscelanea' if x['CATEGORIA']=='sociedade' else x['CATEGORIA'] ,axis=1)\n",
        "dfNews['CATEGORIA'] = dfNews.loc[:,['CATEGORIA']].apply(lambda x: 'saude' if any(i in x['CATEGORIA'] for i in ['vivabem','bemestar'])  else x['CATEGORIA'] ,axis=1)\n",
        "dfNews['CATEGORIA'] = dfNews.loc[:,['CATEGORIA']].apply(lambda x: 'esporte' if any(i in x['CATEGORIA'] for i in ['futebol','volei']) else x['CATEGORIA'],axis=1)\n",
        "midia = ['famosos','cinema','oscar','videos','bbb','musica','lives','cultura']\n",
        "dfNews['CATEGORIA'] = dfNews.loc[:,['CATEGORIA']].apply(lambda x: 'midia' if any(i in x['CATEGORIA'] for i in midia) else x['CATEGORIA'],axis=1)\n",
        "dfNews['CATEGORIA'] = dfNews.loc[:,['CATEGORIA']].apply(lambda x: 'politica' if any(i in x['CATEGORIA'] for i in ['politica'])  else x['CATEGORIA'],axis=1)\n",
        "dfNews.shape"
      ],
      "execution_count": 5,
      "outputs": [
        {
          "output_type": "stream",
          "text": [
            "Dimensao Inicial: (3994, 9)\n",
            "Dimensão após eliminar duplicadas e textos em branco: (3991, 9)\n"
          ],
          "name": "stdout"
        },
        {
          "output_type": "execute_result",
          "data": {
            "text/plain": [
              "(3991, 9)"
            ]
          },
          "metadata": {
            "tags": []
          },
          "execution_count": 5
        }
      ]
    },
    {
      "cell_type": "code",
      "metadata": {
        "colab": {
          "base_uri": "https://localhost:8080/"
        },
        "id": "Y8o7f9g6W4O3",
        "outputId": "4f16171e-e6d3-4c5c-e75e-06216a904ec1"
      },
      "source": [
        "#Filtra categorias com poucas noticias. \n",
        "dfNewsGrupo = dfNews.groupby(['CATEGORIA'])['URL'].count().reset_index().sort_values('URL',ascending=False)\n",
        "dfNewsGrupo = dfNewsGrupo[dfNewsGrupo['URL']<=30]\n",
        "dfNews = dfNews[~dfNews['CATEGORIA'].isin(dfNewsGrupo['CATEGORIA'].tolist())]\n",
        "dfNews.shape"
      ],
      "execution_count": 6,
      "outputs": [
        {
          "output_type": "execute_result",
          "data": {
            "text/plain": [
              "(3837, 9)"
            ]
          },
          "metadata": {
            "tags": []
          },
          "execution_count": 6
        }
      ]
    },
    {
      "cell_type": "code",
      "metadata": {
        "colab": {
          "base_uri": "https://localhost:8080/",
          "height": 512
        },
        "id": "K91Alyn0R0ot",
        "outputId": "35ac8d46-dbb5-41cb-c702-3ef38751e179"
      },
      "source": [
        "#Criando coluna CATEGORIA numerada.\n",
        "dfNewsGrupo = dfNews.groupby(['CATEGORIA'])['URL'].count().reset_index().sort_values('URL',ascending=False)\n",
        "print('QUANTIDADE DE NOTICIAS POR CATEGORIA:\\n',dfNewsGrupo)\n",
        "dictCategoriaNumero = dict(zip(dfNewsGrupo['CATEGORIA'],range(0,30)))\n",
        "print(dictCategoriaNumero)\n",
        "dfNews['CAT_NRO'] = dfNews['CATEGORIA'].map(dictCategoriaNumero)\n",
        "dfNews[['CATEGORIA','CAT_NRO']].head(5)"
      ],
      "execution_count": 7,
      "outputs": [
        {
          "output_type": "stream",
          "text": [
            "QUANTIDADE DE NOTICIAS POR CATEGORIA:\n",
            "         CATEGORIA  URL\n",
            "7           local  673\n",
            "12       politica  622\n",
            "11          mundo  528\n",
            "10     miscelanea  350\n",
            "13          saude  303\n",
            "5         esporte  253\n",
            "4        economia  219\n",
            "9           midia  219\n",
            "0          brasil  189\n",
            "2     coronavirus  172\n",
            "1         colunas  128\n",
            "6         justica   76\n",
            "8   meio-ambiente   41\n",
            "3       cotidiano   33\n",
            "14     tecnologia   31\n",
            "{'local': 0, 'politica': 1, 'mundo': 2, 'miscelanea': 3, 'saude': 4, 'esporte': 5, 'economia': 6, 'midia': 7, 'brasil': 8, 'coronavirus': 9, 'colunas': 10, 'justica': 11, 'meio-ambiente': 12, 'cotidiano': 13, 'tecnologia': 14}\n"
          ],
          "name": "stdout"
        },
        {
          "output_type": "execute_result",
          "data": {
            "text/html": [
              "<div>\n",
              "<style scoped>\n",
              "    .dataframe tbody tr th:only-of-type {\n",
              "        vertical-align: middle;\n",
              "    }\n",
              "\n",
              "    .dataframe tbody tr th {\n",
              "        vertical-align: top;\n",
              "    }\n",
              "\n",
              "    .dataframe thead th {\n",
              "        text-align: right;\n",
              "    }\n",
              "</style>\n",
              "<table border=\"1\" class=\"dataframe\">\n",
              "  <thead>\n",
              "    <tr style=\"text-align: right;\">\n",
              "      <th></th>\n",
              "      <th>CATEGORIA</th>\n",
              "      <th>CAT_NRO</th>\n",
              "    </tr>\n",
              "  </thead>\n",
              "  <tbody>\n",
              "    <tr>\n",
              "      <th>0</th>\n",
              "      <td>esporte</td>\n",
              "      <td>5</td>\n",
              "    </tr>\n",
              "    <tr>\n",
              "      <th>1</th>\n",
              "      <td>colunas</td>\n",
              "      <td>10</td>\n",
              "    </tr>\n",
              "    <tr>\n",
              "      <th>2</th>\n",
              "      <td>miscelanea</td>\n",
              "      <td>3</td>\n",
              "    </tr>\n",
              "    <tr>\n",
              "      <th>3</th>\n",
              "      <td>miscelanea</td>\n",
              "      <td>3</td>\n",
              "    </tr>\n",
              "    <tr>\n",
              "      <th>4</th>\n",
              "      <td>miscelanea</td>\n",
              "      <td>3</td>\n",
              "    </tr>\n",
              "  </tbody>\n",
              "</table>\n",
              "</div>"
            ],
            "text/plain": [
              "    CATEGORIA  CAT_NRO\n",
              "0     esporte        5\n",
              "1     colunas       10\n",
              "2  miscelanea        3\n",
              "3  miscelanea        3\n",
              "4  miscelanea        3"
            ]
          },
          "metadata": {
            "tags": []
          },
          "execution_count": 7
        }
      ]
    },
    {
      "cell_type": "markdown",
      "metadata": {
        "id": "cY8AFOZ-SmRw"
      },
      "source": [
        "### Prepara DataSet Treinamento, Teste"
      ]
    },
    {
      "cell_type": "code",
      "metadata": {
        "colab": {
          "base_uri": "https://localhost:8080/"
        },
        "id": "l6INwvY-SW3O",
        "outputId": "f5bd6a78-c0fb-47e3-cee5-18d94366f48d"
      },
      "source": [
        "dfMiscelanea = dfNews[dfNews['CATEGORIA']=='miscelanea'].loc[:,['TEXT_TRATADO']]\n",
        "print('miscelanea:',dfMiscelanea.shape)\n",
        "\n"
      ],
      "execution_count": 8,
      "outputs": [
        {
          "output_type": "stream",
          "text": [
            "miscelanea: (350, 1)\n"
          ],
          "name": "stdout"
        }
      ]
    },
    {
      "cell_type": "code",
      "metadata": {
        "colab": {
          "base_uri": "https://localhost:8080/"
        },
        "id": "YEwbsnboXbr6",
        "outputId": "95cb7cdf-d168-45c4-eda0-f1cd3bd3ddd3"
      },
      "source": [
        "dfNews.columns"
      ],
      "execution_count": 9,
      "outputs": [
        {
          "output_type": "execute_result",
          "data": {
            "text/plain": [
              "Index(['FONTE', 'CATEGORIA', 'TEXTO', 'URL', 'PUBLISHEDAT', 'TITLE', 'AUTHOR',\n",
              "       'DT_REGISTRO', 'TEXT_TRATADO', 'CAT_NRO'],\n",
              "      dtype='object')"
            ]
          },
          "metadata": {
            "tags": []
          },
          "execution_count": 9
        }
      ]
    },
    {
      "cell_type": "code",
      "metadata": {
        "id": "szyy4_koj2tU"
      },
      "source": [
        ""
      ],
      "execution_count": 9,
      "outputs": []
    },
    {
      "cell_type": "code",
      "metadata": {
        "colab": {
          "base_uri": "https://localhost:8080/"
        },
        "id": "cX8302pfRxQ3",
        "outputId": "2dfa74bc-12a5-4a27-a5aa-8475d6253703"
      },
      "source": [
        "#vamos obter uma amostra randômica de n noticias para cada CATEGORIA e dividir em dois datasets Treinamento e Teste.\n",
        "dfNewsGrupo = dfNewsGrupo[dfNewsGrupo['CATEGORIA']!='miscelanea']\n",
        "n=180\n",
        "categorias = dfNewsGrupo[dfNewsGrupo['URL']>n].loc[:,['CATEGORIA']]['CATEGORIA'].to_list()\n",
        "print(categorias)\n",
        "frame=[]\n",
        "for categoria in categorias:\n",
        "  dftmp = dfNews[dfNews['CATEGORIA']==categoria].loc[:,['TEXTO','CAT_NRO']].sample(n=n)\n",
        "  frame.append(dftmp)\n",
        "dfAmostra = pd.concat(frame,ignore_index=True, sort=False)\n",
        "print('Amostra:', dfAmostra.shape)\n",
        "\n",
        "df_train, df_test_valid = train_test_split(dfAmostra, train_size = 0.8, random_state = 10)\n",
        "df_valid, df_test = train_test_split(df_test_valid, train_size = 0.5, random_state = 10)\n",
        "print('Treinamento:',df_train.shape)\n",
        "print('Teste:', df_test.shape)\n",
        "print('Valid:', df_valid.shape)\n",
        "\n"
      ],
      "execution_count": 16,
      "outputs": [
        {
          "output_type": "stream",
          "text": [
            "['local', 'politica', 'mundo', 'saude', 'esporte', 'economia', 'midia', 'brasil']\n",
            "Amostra: (1440, 2)\n",
            "Treinamento: (1152, 2)\n",
            "Teste: (144, 2)\n",
            "Valid: (144, 2)\n"
          ],
          "name": "stdout"
        }
      ]
    },
    {
      "cell_type": "code",
      "metadata": {
        "id": "xng6PljPjnPb"
      },
      "source": [
        "df_train.to_csv(path + \"/train.csv\",header=True,doublequote=True, index=False, quotechar='\"', encoding='utf-8')\n",
        "df_test.to_csv(path + \"/test.csv\",header=True,doublequote=True, index=False, quotechar='\"', encoding='utf-8')\n",
        "df_valid.to_csv(path + \"/valid.csv\",header=True,doublequote=True, index=False, quotechar='\"', encoding='utf-8')"
      ],
      "execution_count": 18,
      "outputs": []
    },
    {
      "cell_type": "markdown",
      "metadata": {
        "id": "nHBa6shmIkcw"
      },
      "source": [
        ""
      ]
    }
  ]
}