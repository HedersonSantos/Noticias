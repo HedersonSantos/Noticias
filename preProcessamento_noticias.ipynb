{
  "nbformat": 4,
  "nbformat_minor": 0,
  "metadata": {
    "colab": {
      "name": "preProcessamento_noticias.ipynb",
      "provenance": [],
      "collapsed_sections": [],
      "authorship_tag": "ABX9TyM5niNQCngrGTOgdVDpe2h+",
      "include_colab_link": true
    },
    "kernelspec": {
      "name": "python3",
      "display_name": "Python 3"
    },
    "language_info": {
      "name": "python"
    }
  },
  "cells": [
    {
      "cell_type": "markdown",
      "metadata": {
        "id": "view-in-github",
        "colab_type": "text"
      },
      "source": [
        "<a href=\"https://colab.research.google.com/github/HedersonSantos/Noticias/blob/main/preProcessamento_noticias.ipynb\" target=\"_parent\"><img src=\"https://colab.research.google.com/assets/colab-badge.svg\" alt=\"Open In Colab\"/></a>"
      ]
    },
    {
      "cell_type": "code",
      "metadata": {
        "id": "IoJHquZUTshK"
      },
      "source": [
        "import pandas as pd\n",
        "import numpy as np\n",
        "from google.colab import files\n",
        "from sklearn.model_selection import train_test_split\n",
        "import io\n",
        "pd.set_option('display.max_columns', None)\n",
        "pd.set_option('display.max_rows', None)\n",
        "pd.set_option('max_colwidth', None)"
      ],
      "execution_count": 1,
      "outputs": []
    },
    {
      "cell_type": "markdown",
      "metadata": {
        "id": "dkoxSIroT-72"
      },
      "source": [
        "### Upload da base de noticias"
      ]
    },
    {
      "cell_type": "code",
      "metadata": {
        "colab": {
          "base_uri": "https://localhost:8080/"
        },
        "id": "RqSo13WoUFXA",
        "outputId": "1f36384c-9620-4f66-b8d5-4e38eaf5eb2f"
      },
      "source": [
        "#csvNoticias = files.upload()  \n",
        "!wget https://raw.githubusercontent.com/HedersonSantos/Noticias/main/noticia_tratada.zip\n",
        "!unzip noticia_tratada.zip\n",
        "%ls\n",
        "\n"
      ],
      "execution_count": 2,
      "outputs": [
        {
          "output_type": "stream",
          "text": [
            "--2021-05-30 14:27:00--  https://raw.githubusercontent.com/HedersonSantos/Noticias/main/noticia_tratada.zip\n",
            "Resolving raw.githubusercontent.com (raw.githubusercontent.com)... 185.199.108.133, 185.199.109.133, 185.199.110.133, ...\n",
            "Connecting to raw.githubusercontent.com (raw.githubusercontent.com)|185.199.108.133|:443... connected.\n",
            "HTTP request sent, awaiting response... 200 OK\n",
            "Length: 6432391 (6.1M) [application/zip]\n",
            "Saving to: ‘noticia_tratada.zip’\n",
            "\n",
            "noticia_tratada.zip 100%[===================>]   6.13M  18.0MB/s    in 0.3s    \n",
            "\n",
            "2021-05-30 14:27:01 (18.0 MB/s) - ‘noticia_tratada.zip’ saved [6432391/6432391]\n",
            "\n",
            "Archive:  noticia_tratada.zip\n",
            "  inflating: noticia_tratada.csv     \n",
            "noticia_tratada.csv  noticia_tratada.zip  \u001b[0m\u001b[01;34msample_data\u001b[0m/\n"
          ],
          "name": "stdout"
        }
      ]
    },
    {
      "cell_type": "code",
      "metadata": {
        "colab": {
          "base_uri": "https://localhost:8080/"
        },
        "id": "EaWfMxdXUgST",
        "outputId": "92d6eb38-9fbb-4637-fbcb-a2503521b696"
      },
      "source": [
        "#dfNews_all = pd.read_csv(io.BytesIO(csvNoticias['noticia_tratada.csv']), header=0, delimiter=';')\n",
        "dfNews_all = pd.read_csv('noticia_tratada.csv', header=0, delimiter=';')\n",
        "print(dfNews_all.columns)\n",
        "dfNews_all.shape"
      ],
      "execution_count": 3,
      "outputs": [
        {
          "output_type": "stream",
          "text": [
            "Index(['FONTE', 'CATEGORIA', 'TEXTO', 'URL', 'PUBLISHEDAT', 'TITLE', 'AUTHOR',\n",
            "       'DT_REGISTRO', 'TEXT_TRATADO'],\n",
            "      dtype='object')\n"
          ],
          "name": "stdout"
        },
        {
          "output_type": "execute_result",
          "data": {
            "text/plain": [
              "(3994, 9)"
            ]
          },
          "metadata": {
            "tags": []
          },
          "execution_count": 3
        }
      ]
    },
    {
      "cell_type": "markdown",
      "metadata": {
        "id": "iEnpG9RMbDmy"
      },
      "source": [
        "### Tratamento da CATEGORIA"
      ]
    },
    {
      "cell_type": "code",
      "metadata": {
        "colab": {
          "base_uri": "https://localhost:8080/"
        },
        "id": "CRH9psITZbGz",
        "outputId": "b91d06c4-be53-4346-8c79-5cf9a5a5aa93"
      },
      "source": [
        "print('Dimensao Inicial:',dfNews_all.shape)\n",
        "#Elimina noticias duplicadas\n",
        "dfNews = dfNews_all.drop_duplicates(subset=['URL'],keep='first').copy()\n",
        "#Elimina noticias sem texto\n",
        "dfNews = dfNews[(~dfNews['TEXT_TRATADO'].isnull())]\n",
        "print('Dimensão após eliminar duplicadas e textos em branco:',dfNews.shape)\n",
        "#Tira as marcações do campo Text[] do Postgres\n",
        "dfNews['CATEGORIA'] = dfNews.loc[:,['CATEGORIA']].apply(lambda x: x['CATEGORIA'].replace('[','').replace(']','').replace('\"','').replace(\", 'redacao'\",'').replace(\"'\",''),axis=1)\n",
        "#Agrupa as notícias locais como categoria LOCAL\n",
        "siglaEstados = ['ac','al','ap','am','ba','ce','df','es','go','ma','mt','ms','mg','pa','pb','pr','pe','pi','rj','rn','rs','ro','rr','sc','sp','se','to']\n",
        "nomeEstados = ['acre','alagoas','amapa','amazonas','bahia','ceara','distrito-federal','espirito-santo','goias','maranhao','mato-grosso','mato-grosso-sul','minas-gerais','minas',\n",
        "               'para','paraiba','parana','pernambuco','piaui','rio-janeiro','rio-grande-norte','rio-grande-sul','rondonia','roraima','santa-catarina','sao-paulo','sergipe','tocantins']\n",
        "nomeCidades =['rio','bh',]\n",
        "local = siglaEstados + nomeEstados + nomeCidades\n",
        "dfNews['CATEGORIA'] = dfNews.loc[:,['CATEGORIA']].apply(lambda x: 'local' if x['CATEGORIA'] in local else x['CATEGORIA'],axis=1)\n",
        "#efe, afp, rfi são notícias internacionais. \n",
        "mundo = ['efe','afp','rfi','mundo','internacional']\n",
        "dfNews['CATEGORIA'] = dfNews.loc[:,['CATEGORIA']].apply(lambda x: 'mundo' if x['CATEGORIA'] in mundo else x['CATEGORIA'],axis=1)\n",
        "#Na lista miscelanea há as categorias que possuem miscelâneas de noticias de outras categorias.\n",
        "miscelanea = ['deutschewelle', '','bbc','ansa','universa']\n",
        "dfNews['CATEGORIA'] = dfNews.loc[:,['CATEGORIA']].apply(lambda x: 'miscelanea' if x['CATEGORIA'] in miscelanea else x['CATEGORIA'],axis=1)\n",
        "#'reuters' é uma categoria especifica do UOL. Possui textos de economia e miscelânea de noticias.\n",
        "dfreuters = dfNews[dfNews['CATEGORIA']=='reuters'].copy()\n",
        "dfreuters['CATEGORIA'] = dfreuters.loc[:,['CATEGORIA','URL']].apply(lambda x: 'economia' if 'economia' in x['URL']  else 'miscelanea',axis=1)\n",
        "dfNews=dfNews[dfNews['CATEGORIA']!='reuters']\n",
        "dfNews = pd.concat([dfNews,dfreuters],sort=False)\n",
        "#noticias é uma categoria da globo. Traz noticias do Jornal Nacional. São miscelâneas.\n",
        "dfnoticia = dfNews[dfNews['CATEGORIA']=='noticia'].copy()\n",
        "dfnoticia['CATEGORIA'] = dfnoticia.loc[:,['CATEGORIA','URL']].apply(lambda x: 'saude' if 'ciencia-e-saude' in x['URL']  else 'miscelanea',axis=1)\n",
        "dfNews=dfNews[dfNews['CATEGORIA']!='noticia']\n",
        "dfNews = pd.concat([dfNews,dfnoticia],sort=False)\n",
        "#redacao é uma categoria da uol. Traz noticias do meio-ambiente. VERIFICAR QUANDO ATUALIZAR O DATASET SE PERMANECE ASSIM.\n",
        "dfNews['CATEGORIA'] = dfNews.loc[:,['CATEGORIA','URL']].apply(lambda x: 'meio-ambiente' if ('meio-ambiente' in x['URL']) and\n",
        "                                                              (x['CATEGORIA']=='redacao') else x['CATEGORIA'],axis=1)\n",
        "dfNews['CATEGORIA'] = dfNews.loc[:,['CATEGORIA','URL']].apply(lambda x: 'meio-ambiente' if ('meio-ambiente' in x['URL']) and\n",
        "                                                              (x['CATEGORIA']=='sociedade') else \n",
        "                                                              'miscelanea' if x['CATEGORIA']=='sociedade' else x['CATEGORIA'] ,axis=1)\n",
        "dfNews['CATEGORIA'] = dfNews.loc[:,['CATEGORIA']].apply(lambda x: 'saude' if x['CATEGORIA'] in ['vivabem','bemestar']  else x['CATEGORIA'] ,axis=1)\n",
        "dfNews['CATEGORIA'] = dfNews.loc[:,['CATEGORIA']].apply(lambda x: 'esporte' if x['CATEGORIA'] in ['futebol','volei'] else x['CATEGORIA'],axis=1)\n",
        "dfNews['CATEGORIA'] = dfNews.loc[:,['CATEGORIA']].apply(lambda x: 'midia' if x['CATEGORIA'] in ['famosos','cinema','oscar','videos','bbb','musica','lives'], else x['CATEGORIA'],axis=1)\n",
        "dfNews['CATEGORIA'] = dfNews.loc[:,['CATEGORIA']].apply(lambda x: 'economia' if x['CATEGORIA'] in ['economia'], else x['CATEGORIA'],axis=1)\n",
        "dfNews.shape"
      ],
      "execution_count": 4,
      "outputs": [
        {
          "output_type": "stream",
          "text": [
            "Dimensao Inicial: (3994, 9)\n",
            "Dimensão após duplicadas e textos em branco: (3991, 9)\n"
          ],
          "name": "stdout"
        },
        {
          "output_type": "execute_result",
          "data": {
            "text/plain": [
              "(3991, 9)"
            ]
          },
          "metadata": {
            "tags": []
          },
          "execution_count": 4
        }
      ]
    },
    {
      "cell_type": "code",
      "metadata": {
        "colab": {
          "base_uri": "https://localhost:8080/"
        },
        "id": "Y8o7f9g6W4O3",
        "outputId": "128ef99a-0e86-4453-9861-1613650cf3ff"
      },
      "source": [
        "#Filtra categorias com poucas noticias. \n",
        "dfNewsGrupo = dfNews.groupby(['CATEGORIA'])['URL'].count().reset_index().sort_values('URL',ascending=False)\n",
        "dfNewsGrupo = dfNewsGrupo[dfNewsGrupo['URL']<=10]\n",
        "dfNews = dfNews[~dfNews['CATEGORIA'].isin(dfNewsGrupo['CATEGORIA'].tolist())]\n",
        "dfNews.shape"
      ],
      "execution_count": null,
      "outputs": [
        {
          "output_type": "execute_result",
          "data": {
            "text/plain": [
              "(2884, 9)"
            ]
          },
          "metadata": {
            "tags": []
          },
          "execution_count": 120
        }
      ]
    },
    {
      "cell_type": "code",
      "metadata": {
        "colab": {
          "base_uri": "https://localhost:8080/",
          "height": 1000
        },
        "id": "K91Alyn0R0ot",
        "outputId": "a191659e-e548-450a-ca86-d8e0f33d8f91"
      },
      "source": [
        "dfNewsGrupo = dfNews.groupby(['CATEGORIA'])['URL'].count().reset_index().sort_values('URL',ascending=False)\n",
        "dfNewsGrupo"
      ],
      "execution_count": 5,
      "outputs": [
        {
          "output_type": "execute_result",
          "data": {
            "text/html": [
              "<div>\n",
              "<style scoped>\n",
              "    .dataframe tbody tr th:only-of-type {\n",
              "        vertical-align: middle;\n",
              "    }\n",
              "\n",
              "    .dataframe tbody tr th {\n",
              "        vertical-align: top;\n",
              "    }\n",
              "\n",
              "    .dataframe thead th {\n",
              "        text-align: right;\n",
              "    }\n",
              "</style>\n",
              "<table border=\"1\" class=\"dataframe\">\n",
              "  <thead>\n",
              "    <tr style=\"text-align: right;\">\n",
              "      <th></th>\n",
              "      <th>CATEGORIA</th>\n",
              "      <th>URL</th>\n",
              "    </tr>\n",
              "  </thead>\n",
              "  <tbody>\n",
              "    <tr>\n",
              "      <th>30</th>\n",
              "      <td>local</td>\n",
              "      <td>673</td>\n",
              "    </tr>\n",
              "    <tr>\n",
              "      <th>47</th>\n",
              "      <td>politica</td>\n",
              "      <td>583</td>\n",
              "    </tr>\n",
              "    <tr>\n",
              "      <th>36</th>\n",
              "      <td>mundo</td>\n",
              "      <td>522</td>\n",
              "    </tr>\n",
              "    <tr>\n",
              "      <th>34</th>\n",
              "      <td>miscelanea</td>\n",
              "      <td>350</td>\n",
              "    </tr>\n",
              "    <tr>\n",
              "      <th>54</th>\n",
              "      <td>saude</td>\n",
              "      <td>287</td>\n",
              "    </tr>\n",
              "    <tr>\n",
              "      <th>23</th>\n",
              "      <td>esporte</td>\n",
              "      <td>251</td>\n",
              "    </tr>\n",
              "    <tr>\n",
              "      <th>17</th>\n",
              "      <td>economia</td>\n",
              "      <td>219</td>\n",
              "    </tr>\n",
              "    <tr>\n",
              "      <th>5</th>\n",
              "      <td>brasil</td>\n",
              "      <td>189</td>\n",
              "    </tr>\n",
              "    <tr>\n",
              "      <th>14</th>\n",
              "      <td>coronavirus</td>\n",
              "      <td>172</td>\n",
              "    </tr>\n",
              "    <tr>\n",
              "      <th>33</th>\n",
              "      <td>midia</td>\n",
              "      <td>161</td>\n",
              "    </tr>\n",
              "    <tr>\n",
              "      <th>10</th>\n",
              "      <td>colunas</td>\n",
              "      <td>131</td>\n",
              "    </tr>\n",
              "    <tr>\n",
              "      <th>26</th>\n",
              "      <td>justica</td>\n",
              "      <td>76</td>\n",
              "    </tr>\n",
              "    <tr>\n",
              "      <th>32</th>\n",
              "      <td>meio-ambiente</td>\n",
              "      <td>41</td>\n",
              "    </tr>\n",
              "    <tr>\n",
              "      <th>48</th>\n",
              "      <td>politica, blog, post</td>\n",
              "      <td>39</td>\n",
              "    </tr>\n",
              "    <tr>\n",
              "      <th>15</th>\n",
              "      <td>cotidiano</td>\n",
              "      <td>33</td>\n",
              "    </tr>\n",
              "    <tr>\n",
              "      <th>58</th>\n",
              "      <td>tecnologia</td>\n",
              "      <td>31</td>\n",
              "    </tr>\n",
              "    <tr>\n",
              "      <th>25</th>\n",
              "      <td>fantastico</td>\n",
              "      <td>27</td>\n",
              "    </tr>\n",
              "    <tr>\n",
              "      <th>21</th>\n",
              "      <td>eleicoes</td>\n",
              "      <td>24</td>\n",
              "    </tr>\n",
              "    <tr>\n",
              "      <th>46</th>\n",
              "      <td>podcast</td>\n",
              "      <td>21</td>\n",
              "    </tr>\n",
              "    <tr>\n",
              "      <th>38</th>\n",
              "      <td>musica</td>\n",
              "      <td>18</td>\n",
              "    </tr>\n",
              "    <tr>\n",
              "      <th>20</th>\n",
              "      <td>educacao</td>\n",
              "      <td>17</td>\n",
              "    </tr>\n",
              "    <tr>\n",
              "      <th>8</th>\n",
              "      <td>cinema</td>\n",
              "      <td>12</td>\n",
              "    </tr>\n",
              "    <tr>\n",
              "      <th>31</th>\n",
              "      <td>loterias</td>\n",
              "      <td>12</td>\n",
              "    </tr>\n",
              "    <tr>\n",
              "      <th>42</th>\n",
              "      <td>oscar</td>\n",
              "      <td>11</td>\n",
              "    </tr>\n",
              "    <tr>\n",
              "      <th>3</th>\n",
              "      <td>bemestar</td>\n",
              "      <td>9</td>\n",
              "    </tr>\n",
              "    <tr>\n",
              "      <th>18</th>\n",
              "      <td>economia, blog, post</td>\n",
              "      <td>8</td>\n",
              "    </tr>\n",
              "    <tr>\n",
              "      <th>7</th>\n",
              "      <td>casos-de-policia</td>\n",
              "      <td>7</td>\n",
              "    </tr>\n",
              "    <tr>\n",
              "      <th>37</th>\n",
              "      <td>mundo, blog, post</td>\n",
              "      <td>6</td>\n",
              "    </tr>\n",
              "    <tr>\n",
              "      <th>59</th>\n",
              "      <td>videos</td>\n",
              "      <td>5</td>\n",
              "    </tr>\n",
              "    <tr>\n",
              "      <th>29</th>\n",
              "      <td>lives</td>\n",
              "      <td>5</td>\n",
              "    </tr>\n",
              "    <tr>\n",
              "      <th>4</th>\n",
              "      <td>bemestar, blog, post</td>\n",
              "      <td>4</td>\n",
              "    </tr>\n",
              "    <tr>\n",
              "      <th>13</th>\n",
              "      <td>confere</td>\n",
              "      <td>4</td>\n",
              "    </tr>\n",
              "    <tr>\n",
              "      <th>43</th>\n",
              "      <td>pesquisas</td>\n",
              "      <td>3</td>\n",
              "    </tr>\n",
              "    <tr>\n",
              "      <th>6</th>\n",
              "      <td>carros</td>\n",
              "      <td>3</td>\n",
              "    </tr>\n",
              "    <tr>\n",
              "      <th>39</th>\n",
              "      <td>musica, blog, post</td>\n",
              "      <td>2</td>\n",
              "    </tr>\n",
              "    <tr>\n",
              "      <th>55</th>\n",
              "      <td>sociedade, coronavirus</td>\n",
              "      <td>2</td>\n",
              "    </tr>\n",
              "    <tr>\n",
              "      <th>41</th>\n",
              "      <td>nossa</td>\n",
              "      <td>2</td>\n",
              "    </tr>\n",
              "    <tr>\n",
              "      <th>51</th>\n",
              "      <td>programas, 3-em-1</td>\n",
              "      <td>2</td>\n",
              "    </tr>\n",
              "    <tr>\n",
              "      <th>49</th>\n",
              "      <td>portuguese</td>\n",
              "      <td>2</td>\n",
              "    </tr>\n",
              "    <tr>\n",
              "      <th>60</th>\n",
              "      <td>volei</td>\n",
              "      <td>2</td>\n",
              "    </tr>\n",
              "    <tr>\n",
              "      <th>28</th>\n",
              "      <td>legislacao</td>\n",
              "      <td>2</td>\n",
              "    </tr>\n",
              "    <tr>\n",
              "      <th>12</th>\n",
              "      <td>comprova</td>\n",
              "      <td>2</td>\n",
              "    </tr>\n",
              "    <tr>\n",
              "      <th>19</th>\n",
              "      <td>economia, tecnologia, blog, post</td>\n",
              "      <td>2</td>\n",
              "    </tr>\n",
              "    <tr>\n",
              "      <th>16</th>\n",
              "      <td>cultura</td>\n",
              "      <td>2</td>\n",
              "    </tr>\n",
              "    <tr>\n",
              "      <th>40</th>\n",
              "      <td>nieman</td>\n",
              "      <td>1</td>\n",
              "    </tr>\n",
              "    <tr>\n",
              "      <th>52</th>\n",
              "      <td>quadros</td>\n",
              "      <td>1</td>\n",
              "    </tr>\n",
              "    <tr>\n",
              "      <th>2</th>\n",
              "      <td>bbb21</td>\n",
              "      <td>1</td>\n",
              "    </tr>\n",
              "    <tr>\n",
              "      <th>9</th>\n",
              "      <td>coluna</td>\n",
              "      <td>1</td>\n",
              "    </tr>\n",
              "    <tr>\n",
              "      <th>57</th>\n",
              "      <td>start</td>\n",
              "      <td>1</td>\n",
              "    </tr>\n",
              "    <tr>\n",
              "      <th>56</th>\n",
              "      <td>sociedade, educacao</td>\n",
              "      <td>1</td>\n",
              "    </tr>\n",
              "    <tr>\n",
              "      <th>11</th>\n",
              "      <td>combate</td>\n",
              "      <td>1</td>\n",
              "    </tr>\n",
              "    <tr>\n",
              "      <th>53</th>\n",
              "      <td>realities</td>\n",
              "      <td>1</td>\n",
              "    </tr>\n",
              "    <tr>\n",
              "      <th>50</th>\n",
              "      <td>programas</td>\n",
              "      <td>1</td>\n",
              "    </tr>\n",
              "    <tr>\n",
              "      <th>35</th>\n",
              "      <td>motor</td>\n",
              "      <td>1</td>\n",
              "    </tr>\n",
              "    <tr>\n",
              "      <th>22</th>\n",
              "      <td>enem</td>\n",
              "      <td>1</td>\n",
              "    </tr>\n",
              "    <tr>\n",
              "      <th>24</th>\n",
              "      <td>famosos</td>\n",
              "      <td>1</td>\n",
              "    </tr>\n",
              "    <tr>\n",
              "      <th>27</th>\n",
              "      <td>justica, 3-dos-ex-pms-levados-por-salles-para-ministerio-foram-afastados-pelo-stf</td>\n",
              "      <td>1</td>\n",
              "    </tr>\n",
              "    <tr>\n",
              "      <th>45</th>\n",
              "      <td>pme</td>\n",
              "      <td>1</td>\n",
              "    </tr>\n",
              "    <tr>\n",
              "      <th>44</th>\n",
              "      <td>pix</td>\n",
              "      <td>1</td>\n",
              "    </tr>\n",
              "    <tr>\n",
              "      <th>1</th>\n",
              "      <td>bbb</td>\n",
              "      <td>1</td>\n",
              "    </tr>\n",
              "    <tr>\n",
              "      <th>0</th>\n",
              "      <td>agronegocios</td>\n",
              "      <td>1</td>\n",
              "    </tr>\n",
              "  </tbody>\n",
              "</table>\n",
              "</div>"
            ],
            "text/plain": [
              "                                                                            CATEGORIA  \\\n",
              "30                                                                              local   \n",
              "47                                                                           politica   \n",
              "36                                                                              mundo   \n",
              "34                                                                         miscelanea   \n",
              "54                                                                              saude   \n",
              "23                                                                            esporte   \n",
              "17                                                                           economia   \n",
              "5                                                                              brasil   \n",
              "14                                                                        coronavirus   \n",
              "33                                                                              midia   \n",
              "10                                                                            colunas   \n",
              "26                                                                            justica   \n",
              "32                                                                      meio-ambiente   \n",
              "48                                                               politica, blog, post   \n",
              "15                                                                          cotidiano   \n",
              "58                                                                         tecnologia   \n",
              "25                                                                         fantastico   \n",
              "21                                                                           eleicoes   \n",
              "46                                                                            podcast   \n",
              "38                                                                             musica   \n",
              "20                                                                           educacao   \n",
              "8                                                                              cinema   \n",
              "31                                                                           loterias   \n",
              "42                                                                              oscar   \n",
              "3                                                                            bemestar   \n",
              "18                                                               economia, blog, post   \n",
              "7                                                                    casos-de-policia   \n",
              "37                                                                  mundo, blog, post   \n",
              "59                                                                             videos   \n",
              "29                                                                              lives   \n",
              "4                                                                bemestar, blog, post   \n",
              "13                                                                            confere   \n",
              "43                                                                          pesquisas   \n",
              "6                                                                              carros   \n",
              "39                                                                 musica, blog, post   \n",
              "55                                                             sociedade, coronavirus   \n",
              "41                                                                              nossa   \n",
              "51                                                                  programas, 3-em-1   \n",
              "49                                                                         portuguese   \n",
              "60                                                                              volei   \n",
              "28                                                                         legislacao   \n",
              "12                                                                           comprova   \n",
              "19                                                   economia, tecnologia, blog, post   \n",
              "16                                                                            cultura   \n",
              "40                                                                             nieman   \n",
              "52                                                                            quadros   \n",
              "2                                                                               bbb21   \n",
              "9                                                                              coluna   \n",
              "57                                                                              start   \n",
              "56                                                                sociedade, educacao   \n",
              "11                                                                            combate   \n",
              "53                                                                          realities   \n",
              "50                                                                          programas   \n",
              "35                                                                              motor   \n",
              "22                                                                               enem   \n",
              "24                                                                            famosos   \n",
              "27  justica, 3-dos-ex-pms-levados-por-salles-para-ministerio-foram-afastados-pelo-stf   \n",
              "45                                                                                pme   \n",
              "44                                                                                pix   \n",
              "1                                                                                 bbb   \n",
              "0                                                                        agronegocios   \n",
              "\n",
              "    URL  \n",
              "30  673  \n",
              "47  583  \n",
              "36  522  \n",
              "34  350  \n",
              "54  287  \n",
              "23  251  \n",
              "17  219  \n",
              "5   189  \n",
              "14  172  \n",
              "33  161  \n",
              "10  131  \n",
              "26   76  \n",
              "32   41  \n",
              "48   39  \n",
              "15   33  \n",
              "58   31  \n",
              "25   27  \n",
              "21   24  \n",
              "46   21  \n",
              "38   18  \n",
              "20   17  \n",
              "8    12  \n",
              "31   12  \n",
              "42   11  \n",
              "3     9  \n",
              "18    8  \n",
              "7     7  \n",
              "37    6  \n",
              "59    5  \n",
              "29    5  \n",
              "4     4  \n",
              "13    4  \n",
              "43    3  \n",
              "6     3  \n",
              "39    2  \n",
              "55    2  \n",
              "41    2  \n",
              "51    2  \n",
              "49    2  \n",
              "60    2  \n",
              "28    2  \n",
              "12    2  \n",
              "19    2  \n",
              "16    2  \n",
              "40    1  \n",
              "52    1  \n",
              "2     1  \n",
              "9     1  \n",
              "57    1  \n",
              "56    1  \n",
              "11    1  \n",
              "53    1  \n",
              "50    1  \n",
              "35    1  \n",
              "22    1  \n",
              "24    1  \n",
              "27    1  \n",
              "45    1  \n",
              "44    1  \n",
              "1     1  \n",
              "0     1  "
            ]
          },
          "metadata": {
            "tags": []
          },
          "execution_count": 5
        }
      ]
    },
    {
      "cell_type": "markdown",
      "metadata": {
        "id": "cY8AFOZ-SmRw"
      },
      "source": [
        "### Prepara DataSet Treinamento, Teste"
      ]
    },
    {
      "cell_type": "code",
      "metadata": {
        "colab": {
          "base_uri": "https://localhost:8080/"
        },
        "id": "l6INwvY-SW3O",
        "outputId": "366ec58e-5bf2-4038-f5c1-aeea94a8c7d3"
      },
      "source": [
        "dfMiscelanea = dfNews[dfNews['CATEGORIA']=='miscelanea'].loc[:,['TEXT_TRATADO']]\n",
        "dfMiscelanea.shape"
      ],
      "execution_count": null,
      "outputs": [
        {
          "output_type": "execute_result",
          "data": {
            "text/plain": [
              "(279, 1)"
            ]
          },
          "metadata": {
            "tags": []
          },
          "execution_count": 122
        }
      ]
    },
    {
      "cell_type": "code",
      "metadata": {
        "colab": {
          "base_uri": "https://localhost:8080/"
        },
        "id": "YEwbsnboXbr6",
        "outputId": "86cd1553-eaf6-4e88-8cbb-5ff0707bef39"
      },
      "source": [
        "dfNews.columns"
      ],
      "execution_count": null,
      "outputs": [
        {
          "output_type": "execute_result",
          "data": {
            "text/plain": [
              "Index(['FONTE', 'CATEGORIA', 'TEXTO', 'URL', 'PUBLISHEDAT', 'TITLE', 'AUTHOR',\n",
              "       'DT_REGISTRO', 'TEXT_TRATADO'],\n",
              "      dtype='object')"
            ]
          },
          "metadata": {
            "tags": []
          },
          "execution_count": 142
        }
      ]
    },
    {
      "cell_type": "code",
      "metadata": {
        "colab": {
          "base_uri": "https://localhost:8080/"
        },
        "id": "cX8302pfRxQ3",
        "outputId": "4619082b-cc2b-4a04-f7a3-26b1c9627259"
      },
      "source": [
        "#vamos obter uma amostra randômica de 130 noticias para cada CATEGORIA e dividir em dois datasets Treinamento e Teste.\n",
        "n=130\n",
        "categorias = dfNewsGrupo[dfNewsGrupo['URL']>n].loc[:,['CATEGORIA']]['CATEGORIA'].to_list()\n",
        "frame=[]\n",
        "for categoria in categorias:\n",
        "  dftmp = dfNews[dfNews['CATEGORIA']==categoria].loc[:,['TEXTO','CATEGORIA']].sample(n=n)\n",
        "  frame.append(dftmp)\n",
        "dfAmostra = pd.concat(frame,ignore_index=True, sort=False)\n",
        "print('Amostra:', dfAmostra.shape)\n",
        "\n",
        "df_train, df_test = train_test_split(dfAmostra, train_size = 0.9, random_state = 10)\n",
        "print('Treinamento:',df_train.shape)\n",
        "print('Teste:', df_test.shape)\n"
      ],
      "execution_count": null,
      "outputs": [
        {
          "output_type": "stream",
          "text": [
            "Amostra: (1430, 2)\n",
            "Treinamento: (1287, 2)\n",
            "Teste: (143, 2)\n"
          ],
          "name": "stdout"
        }
      ]
    },
    {
      "cell_type": "markdown",
      "metadata": {
        "id": "nHBa6shmIkcw"
      },
      "source": [
        ""
      ]
    }
  ]
}