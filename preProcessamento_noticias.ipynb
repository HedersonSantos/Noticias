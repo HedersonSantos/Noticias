{
  "nbformat": 4,
  "nbformat_minor": 0,
  "metadata": {
    "colab": {
      "name": "preProcessamento_noticias.ipynb",
      "provenance": [],
      "collapsed_sections": [],
      "authorship_tag": "ABX9TyN4qrPKhkWur+CbUSSC2/69",
      "include_colab_link": true
    },
    "kernelspec": {
      "name": "python3",
      "display_name": "Python 3"
    },
    "language_info": {
      "name": "python"
    }
  },
  "cells": [
    {
      "cell_type": "markdown",
      "metadata": {
        "id": "view-in-github",
        "colab_type": "text"
      },
      "source": [
        "<a href=\"https://colab.research.google.com/github/HedersonSantos/Noticias/blob/main/preProcessamento_noticias.ipynb\" target=\"_parent\"><img src=\"https://colab.research.google.com/assets/colab-badge.svg\" alt=\"Open In Colab\"/></a>"
      ]
    },
    {
      "cell_type": "code",
      "metadata": {
        "id": "IoJHquZUTshK"
      },
      "source": [
        "import pandas as pd\n",
        "import numpy as np\n",
        "from google.colab import files, drive\n",
        "from pathlib import Path\n",
        "from sklearn.model_selection import train_test_split\n",
        "import io\n",
        "pd.set_option('display.max_columns', None)\n",
        "pd.set_option('display.max_rows', None)\n",
        "pd.set_option('max_colwidth', None)"
      ],
      "execution_count": 1,
      "outputs": []
    },
    {
      "cell_type": "markdown",
      "metadata": {
        "id": "Av1qKWSSl0vP"
      },
      "source": [
        "### Montando drive Google e setando variáveis"
      ]
    },
    {
      "cell_type": "code",
      "metadata": {
        "id": "xXMzGFjTl0A4",
        "colab": {
          "base_uri": "https://localhost:8080/"
        },
        "outputId": "5fe4febc-6994-44c1-8dd2-f8729954c52e"
      },
      "source": [
        "drive.mount('/gdrive')\n",
        "%cd /gdrive/My\\ Drive/Colab\\ Notebooks/nlp_tcc\n",
        "path = '/gdrive/My Drive/Colab Notebooks/nlp_tcc'"
      ],
      "execution_count": 2,
      "outputs": [
        {
          "output_type": "stream",
          "text": [
            "Mounted at /gdrive\n",
            "/gdrive/My Drive/Colab Notebooks/nlp_tcc\n"
          ],
          "name": "stdout"
        }
      ]
    },
    {
      "cell_type": "markdown",
      "metadata": {
        "id": "dkoxSIroT-72"
      },
      "source": [
        "### Upload da base de noticias"
      ]
    },
    {
      "cell_type": "code",
      "metadata": {
        "colab": {
          "base_uri": "https://localhost:8080/"
        },
        "id": "RqSo13WoUFXA",
        "outputId": "0beb47c1-a8af-45e7-e4ed-ddc034ebeb17"
      },
      "source": [
        "#csvNoticias = files.upload()  \n",
        "!rm *.*\n",
        "!wget https://raw.githubusercontent.com/HedersonSantos/Noticias/main/noticia_tratada.zip\n",
        "!unzip noticia_tratada.zip\n",
        "%ls\n",
        "\n"
      ],
      "execution_count": 3,
      "outputs": [
        {
          "output_type": "stream",
          "text": [
            "--2021-06-05 13:15:51--  https://raw.githubusercontent.com/HedersonSantos/Noticias/main/noticia_tratada.zip\n",
            "Resolving raw.githubusercontent.com (raw.githubusercontent.com)... 185.199.111.133, 185.199.109.133, 185.199.110.133, ...\n",
            "Connecting to raw.githubusercontent.com (raw.githubusercontent.com)|185.199.111.133|:443... connected.\n",
            "HTTP request sent, awaiting response... 200 OK\n",
            "Length: 7964747 (7.6M) [application/zip]\n",
            "Saving to: ‘noticia_tratada.zip’\n",
            "\n",
            "noticia_tratada.zip 100%[===================>]   7.60M  19.2MB/s    in 0.4s    \n",
            "\n",
            "2021-06-05 13:15:52 (19.2 MB/s) - ‘noticia_tratada.zip’ saved [7964747/7964747]\n",
            "\n",
            "Archive:  noticia_tratada.zip\n",
            "  inflating: noticia_tratada.csv     \n",
            "noticia_tratada.csv  noticia_tratada.zip\n"
          ],
          "name": "stdout"
        }
      ]
    },
    {
      "cell_type": "code",
      "metadata": {
        "colab": {
          "base_uri": "https://localhost:8080/"
        },
        "id": "EaWfMxdXUgST",
        "outputId": "a1b26dd8-2707-41ac-8e6e-bd6a33b84273"
      },
      "source": [
        "#dfNews_all = pd.read_csv(io.BytesIO(csvNoticias['noticia_tratada.csv']), header=0, delimiter=';')\n",
        "dfNews_all = pd.read_csv('noticia_tratada.csv', header=0, delimiter=';')\n",
        "print(dfNews_all.columns)\n",
        "dfNews_all.shape"
      ],
      "execution_count": 7,
      "outputs": [
        {
          "output_type": "stream",
          "text": [
            "Index(['FONTE', 'CATEGORIA', 'TEXTO', 'URL', 'PUBLISHEDAT', 'TITLE', 'AUTHOR',\n",
            "       'DT_REGISTRO', 'TEXT_TRATADO'],\n",
            "      dtype='object')\n"
          ],
          "name": "stdout"
        },
        {
          "output_type": "execute_result",
          "data": {
            "text/plain": [
              "(4892, 9)"
            ]
          },
          "metadata": {
            "tags": []
          },
          "execution_count": 7
        }
      ]
    },
    {
      "cell_type": "markdown",
      "metadata": {
        "id": "iEnpG9RMbDmy"
      },
      "source": [
        "### Tratamento da CATEGORIA"
      ]
    },
    {
      "cell_type": "code",
      "metadata": {
        "colab": {
          "base_uri": "https://localhost:8080/"
        },
        "id": "CRH9psITZbGz",
        "outputId": "1c51ed82-8750-42df-fb95-1410e42d001e"
      },
      "source": [
        "print('Dimensao Inicial:',dfNews_all.shape)\n",
        "#Elimina noticias duplicadas\n",
        "dfNews = dfNews_all.drop_duplicates(subset=['URL'],keep='first').copy()\n",
        "#Elimina noticias sem texto\n",
        "dfNews = dfNews[(~dfNews['TEXT_TRATADO'].isnull())]\n",
        "print('Dimensão após eliminar duplicadas e textos em branco:',dfNews.shape)\n",
        "#Tira as marcações do campo Text[] do Postgres em categoria e seta para minúscula\n",
        "dfNews['CATEGORIA'] = dfNews.loc[:,['CATEGORIA']].apply(lambda x: x['CATEGORIA'].replace('[','').replace(']','').replace('\"','').replace(\", 'redacao'\",'').replace(\"'\",''),axis=1)\n",
        "dfNews['CATEGORIA'] = dfNews.loc[:,['CATEGORIA']].apply(lambda x: x['CATEGORIA'].lower(),axis=1)\n",
        "#Agrupa as notícias locais como categoria LOCAL\n",
        "siglaEstados = ['ac','al','ap','am','ba','ce','df','es','go','ma','mt','ms','mg','pa','pb','pr','pe','pi','rj','rn','rs','ro','rr','sc','sp','se','to']\n",
        "nomeEstados = ['acre','alagoas','amapa','amazonas','bahia','ceara','distrito-federal','espirito-santo','goias','maranhao','mato-grosso','mato-grosso-sul','minas-gerais','minas',\n",
        "               'para','paraiba','parana','pernambuco','piaui','rio-janeiro','rio-grande-norte','rio-grande-sul','rondonia','roraima','santa-catarina','sao-paulo','sergipe','tocantins']\n",
        "nomeCidades =['rio','bh',]\n",
        "local = siglaEstados + nomeEstados + nomeCidades\n",
        "dfNews['CATEGORIA'] = dfNews.loc[:,['CATEGORIA']].apply(lambda x: 'local' if x['CATEGORIA'] in local else x['CATEGORIA'],axis=1)\n",
        "#efe, afp, rfi são notícias internacionais. \n",
        "mundo = ['efe','afp','rfi','mundo','internacional']\n",
        "dfNews['CATEGORIA'] = dfNews.loc[:,['CATEGORIA']].apply(lambda x: 'mundo' if any( i in x['CATEGORIA'] for i in mundo) else x['CATEGORIA'],axis=1)\n",
        "#Na lista miscelanea há as categorias que possuem miscelâneas de noticias de outras categorias.\n",
        "miscelanea = ['deutschewelle', '','bbc','ansa','universa']\n",
        "dfNews['CATEGORIA'] = dfNews.loc[:,['CATEGORIA']].apply(lambda x: 'miscelanea' if x['CATEGORIA'] in miscelanea else x['CATEGORIA'],axis=1)\n",
        "#'reuters' é uma categoria especifica do UOL. Possui textos de economia e miscelânea de noticias.\n",
        "dfreuters = dfNews[dfNews['CATEGORIA']=='reuters'].copy()\n",
        "dfreuters['CATEGORIA'] = dfreuters.loc[:,['CATEGORIA','URL']].apply(lambda x: 'economia' if 'economia' in x['URL']  else 'miscelanea',axis=1)\n",
        "dfNews=dfNews[dfNews['CATEGORIA']!='reuters']\n",
        "dfNews = pd.concat([dfNews,dfreuters],sort=False)\n",
        "#noticias é uma categoria da globo. Traz noticias do Jornal Nacional. São miscelâneas.\n",
        "dfnoticia = dfNews[dfNews['CATEGORIA']=='noticia'].copy()\n",
        "dfnoticia['CATEGORIA'] = dfnoticia.loc[:,['CATEGORIA','URL']].apply(lambda x: 'saude' if 'ciencia-e-saude' in x['URL']  else 'miscelanea',axis=1)\n",
        "dfNews=dfNews[dfNews['CATEGORIA']!='noticia']\n",
        "dfNews = pd.concat([dfNews,dfnoticia],sort=False)\n",
        "#redacao é uma categoria da uol. Traz noticias do meio-ambiente. VERIFICAR QUANDO ATUALIZAR O DATASET SE PERMANECE ASSIM.\n",
        "dfNews['CATEGORIA'] = dfNews.loc[:,['CATEGORIA','URL']].apply(lambda x: 'meio-ambiente' if ('meio-ambiente' in x['URL']) and\n",
        "                                                              (x['CATEGORIA']=='redacao') else x['CATEGORIA'],axis=1)\n",
        "dfNews['CATEGORIA'] = dfNews.loc[:,['CATEGORIA','URL']].apply(lambda x: 'meio-ambiente' if ('meio-ambiente' in x['URL']) and\n",
        "                                                              (x['CATEGORIA']=='sociedade') else \n",
        "                                                              'miscelanea' if x['CATEGORIA']=='sociedade' else x['CATEGORIA'] ,axis=1)\n",
        "dfNews['CATEGORIA'] = dfNews.loc[:,['CATEGORIA']].apply(lambda x: 'saude' if any(i in x['CATEGORIA'] for i in ['vivabem','bemestar'])  else x['CATEGORIA'] ,axis=1)\n",
        "dfNews['CATEGORIA'] = dfNews.loc[:,['CATEGORIA']].apply(lambda x: 'esporte' if any(i in x['CATEGORIA'] for i in ['futebol','volei']) else x['CATEGORIA'],axis=1)\n",
        "midia = ['famosos','cinema','oscar','videos','bbb','musica','lives','cultura']\n",
        "dfNews['CATEGORIA'] = dfNews.loc[:,['CATEGORIA']].apply(lambda x: 'midia' if any(i in x['CATEGORIA'] for i in midia) else x['CATEGORIA'],axis=1)\n",
        "dfNews['CATEGORIA'] = dfNews.loc[:,['CATEGORIA']].apply(lambda x: 'politica' if any(i in x['CATEGORIA'] for i in ['politica'])  else x['CATEGORIA'],axis=1)\n",
        "dfNews.shape"
      ],
      "execution_count": 8,
      "outputs": [
        {
          "output_type": "stream",
          "text": [
            "Dimensao Inicial: (4892, 9)\n",
            "Dimensão após eliminar duplicadas e textos em branco: (4889, 9)\n"
          ],
          "name": "stdout"
        },
        {
          "output_type": "execute_result",
          "data": {
            "text/plain": [
              "(4889, 9)"
            ]
          },
          "metadata": {
            "tags": []
          },
          "execution_count": 8
        }
      ]
    },
    {
      "cell_type": "code",
      "metadata": {
        "id": "JZ29lPV6VCor",
        "outputId": "5b8aad93-d83e-48ff-975c-b2d4d8899a9d",
        "colab": {
          "base_uri": "https://localhost:8080/",
          "height": 592
        }
      },
      "source": [
        "dfNews.groupby(['CATEGORIA'])['URL'].count().reset_index().sort_values('URL',ascending=False)"
      ],
      "execution_count": 10,
      "outputs": [
        {
          "output_type": "execute_result",
          "data": {
            "text/html": [
              "<div>\n",
              "<style scoped>\n",
              "    .dataframe tbody tr th:only-of-type {\n",
              "        vertical-align: middle;\n",
              "    }\n",
              "\n",
              "    .dataframe tbody tr th {\n",
              "        vertical-align: top;\n",
              "    }\n",
              "\n",
              "    .dataframe thead th {\n",
              "        text-align: right;\n",
              "    }\n",
              "</style>\n",
              "<table border=\"1\" class=\"dataframe\">\n",
              "  <thead>\n",
              "    <tr style=\"text-align: right;\">\n",
              "      <th></th>\n",
              "      <th>CATEGORIA</th>\n",
              "      <th>URL</th>\n",
              "    </tr>\n",
              "  </thead>\n",
              "  <tbody>\n",
              "    <tr>\n",
              "      <th>9</th>\n",
              "      <td>local</td>\n",
              "      <td>780</td>\n",
              "    </tr>\n",
              "    <tr>\n",
              "      <th>15</th>\n",
              "      <td>politica</td>\n",
              "      <td>715</td>\n",
              "    </tr>\n",
              "    <tr>\n",
              "      <th>13</th>\n",
              "      <td>mundo</td>\n",
              "      <td>595</td>\n",
              "    </tr>\n",
              "    <tr>\n",
              "      <th>14</th>\n",
              "      <td>novelas</td>\n",
              "      <td>439</td>\n",
              "    </tr>\n",
              "    <tr>\n",
              "      <th>12</th>\n",
              "      <td>miscelanea</td>\n",
              "      <td>407</td>\n",
              "    </tr>\n",
              "    <tr>\n",
              "      <th>16</th>\n",
              "      <td>saude</td>\n",
              "      <td>331</td>\n",
              "    </tr>\n",
              "    <tr>\n",
              "      <th>6</th>\n",
              "      <td>esporte</td>\n",
              "      <td>288</td>\n",
              "    </tr>\n",
              "    <tr>\n",
              "      <th>5</th>\n",
              "      <td>economia</td>\n",
              "      <td>243</td>\n",
              "    </tr>\n",
              "    <tr>\n",
              "      <th>0</th>\n",
              "      <td>brasil</td>\n",
              "      <td>218</td>\n",
              "    </tr>\n",
              "    <tr>\n",
              "      <th>3</th>\n",
              "      <td>coronavirus</td>\n",
              "      <td>193</td>\n",
              "    </tr>\n",
              "    <tr>\n",
              "      <th>2</th>\n",
              "      <td>colunas</td>\n",
              "      <td>145</td>\n",
              "    </tr>\n",
              "    <tr>\n",
              "      <th>8</th>\n",
              "      <td>justica</td>\n",
              "      <td>89</td>\n",
              "    </tr>\n",
              "    <tr>\n",
              "      <th>1</th>\n",
              "      <td>celebridades</td>\n",
              "      <td>73</td>\n",
              "    </tr>\n",
              "    <tr>\n",
              "      <th>11</th>\n",
              "      <td>midia</td>\n",
              "      <td>65</td>\n",
              "    </tr>\n",
              "    <tr>\n",
              "      <th>10</th>\n",
              "      <td>meio-ambiente</td>\n",
              "      <td>43</td>\n",
              "    </tr>\n",
              "    <tr>\n",
              "      <th>4</th>\n",
              "      <td>cotidiano</td>\n",
              "      <td>36</td>\n",
              "    </tr>\n",
              "    <tr>\n",
              "      <th>7</th>\n",
              "      <td>fantastico</td>\n",
              "      <td>35</td>\n",
              "    </tr>\n",
              "    <tr>\n",
              "      <th>17</th>\n",
              "      <td>tecnologia</td>\n",
              "      <td>35</td>\n",
              "    </tr>\n",
              "  </tbody>\n",
              "</table>\n",
              "</div>"
            ],
            "text/plain": [
              "        CATEGORIA  URL\n",
              "9           local  780\n",
              "15       politica  715\n",
              "13          mundo  595\n",
              "14        novelas  439\n",
              "12     miscelanea  407\n",
              "16          saude  331\n",
              "6         esporte  288\n",
              "5        economia  243\n",
              "0          brasil  218\n",
              "3     coronavirus  193\n",
              "2         colunas  145\n",
              "8         justica   89\n",
              "1    celebridades   73\n",
              "11          midia   65\n",
              "10  meio-ambiente   43\n",
              "4       cotidiano   36\n",
              "7      fantastico   35\n",
              "17     tecnologia   35"
            ]
          },
          "metadata": {
            "tags": []
          },
          "execution_count": 10
        }
      ]
    },
    {
      "cell_type": "code",
      "metadata": {
        "colab": {
          "base_uri": "https://localhost:8080/"
        },
        "id": "Y8o7f9g6W4O3",
        "outputId": "bd517a20-331d-4f25-a379-5485d2b9c3cf"
      },
      "source": [
        "#Filtra categorias com poucas noticias. \n",
        "dfNewsGrupo = dfNews.groupby(['CATEGORIA'])['URL'].count().reset_index().sort_values('URL',ascending=False)\n",
        "dfNewsGrupo = dfNewsGrupo[dfNewsGrupo['URL']<=30]\n",
        "dfNews = dfNews[~dfNews['CATEGORIA'].isin(dfNewsGrupo['CATEGORIA'].tolist())]\n",
        "dfNews.shape"
      ],
      "execution_count": 11,
      "outputs": [
        {
          "output_type": "execute_result",
          "data": {
            "text/plain": [
              "(4730, 9)"
            ]
          },
          "metadata": {
            "tags": []
          },
          "execution_count": 11
        }
      ]
    },
    {
      "cell_type": "code",
      "metadata": {
        "colab": {
          "base_uri": "https://localhost:8080/",
          "height": 561
        },
        "id": "K91Alyn0R0ot",
        "outputId": "6e036ce3-c01b-4cf4-9835-7b3eeaccefb1"
      },
      "source": [
        "#Criando coluna CATEGORIA numerada.\n",
        "dfNewsGrupo = dfNews.groupby(['CATEGORIA'])['URL'].count().reset_index().sort_values('URL',ascending=False)\n",
        "print('QUANTIDADE DE NOTICIAS POR CATEGORIA:\\n',dfNewsGrupo)\n",
        "dictCategoriaNumero = dict(zip(dfNewsGrupo['CATEGORIA'],range(0,30)))\n",
        "print(dictCategoriaNumero)\n",
        "dfNews['CAT_NRO'] = dfNews['CATEGORIA'].map(dictCategoriaNumero)\n",
        "dfNews[['CATEGORIA','CAT_NRO']].head(5)"
      ],
      "execution_count": 12,
      "outputs": [
        {
          "output_type": "stream",
          "text": [
            "QUANTIDADE DE NOTICIAS POR CATEGORIA:\n",
            "         CATEGORIA  URL\n",
            "9           local  780\n",
            "15       politica  715\n",
            "13          mundo  595\n",
            "14        novelas  439\n",
            "12     miscelanea  407\n",
            "16          saude  331\n",
            "6         esporte  288\n",
            "5        economia  243\n",
            "0          brasil  218\n",
            "3     coronavirus  193\n",
            "2         colunas  145\n",
            "8         justica   89\n",
            "1    celebridades   73\n",
            "11          midia   65\n",
            "10  meio-ambiente   43\n",
            "4       cotidiano   36\n",
            "7      fantastico   35\n",
            "17     tecnologia   35\n",
            "{'local': 0, 'politica': 1, 'mundo': 2, 'novelas': 3, 'miscelanea': 4, 'saude': 5, 'esporte': 6, 'economia': 7, 'brasil': 8, 'coronavirus': 9, 'colunas': 10, 'justica': 11, 'celebridades': 12, 'midia': 13, 'meio-ambiente': 14, 'cotidiano': 15, 'fantastico': 16, 'tecnologia': 17}\n"
          ],
          "name": "stdout"
        },
        {
          "output_type": "execute_result",
          "data": {
            "text/html": [
              "<div>\n",
              "<style scoped>\n",
              "    .dataframe tbody tr th:only-of-type {\n",
              "        vertical-align: middle;\n",
              "    }\n",
              "\n",
              "    .dataframe tbody tr th {\n",
              "        vertical-align: top;\n",
              "    }\n",
              "\n",
              "    .dataframe thead th {\n",
              "        text-align: right;\n",
              "    }\n",
              "</style>\n",
              "<table border=\"1\" class=\"dataframe\">\n",
              "  <thead>\n",
              "    <tr style=\"text-align: right;\">\n",
              "      <th></th>\n",
              "      <th>CATEGORIA</th>\n",
              "      <th>CAT_NRO</th>\n",
              "    </tr>\n",
              "  </thead>\n",
              "  <tbody>\n",
              "    <tr>\n",
              "      <th>0</th>\n",
              "      <td>colunas</td>\n",
              "      <td>10</td>\n",
              "    </tr>\n",
              "    <tr>\n",
              "      <th>1</th>\n",
              "      <td>colunas</td>\n",
              "      <td>10</td>\n",
              "    </tr>\n",
              "    <tr>\n",
              "      <th>2</th>\n",
              "      <td>economia</td>\n",
              "      <td>7</td>\n",
              "    </tr>\n",
              "    <tr>\n",
              "      <th>3</th>\n",
              "      <td>economia</td>\n",
              "      <td>7</td>\n",
              "    </tr>\n",
              "    <tr>\n",
              "      <th>4</th>\n",
              "      <td>economia</td>\n",
              "      <td>7</td>\n",
              "    </tr>\n",
              "  </tbody>\n",
              "</table>\n",
              "</div>"
            ],
            "text/plain": [
              "  CATEGORIA  CAT_NRO\n",
              "0   colunas       10\n",
              "1   colunas       10\n",
              "2  economia        7\n",
              "3  economia        7\n",
              "4  economia        7"
            ]
          },
          "metadata": {
            "tags": []
          },
          "execution_count": 12
        }
      ]
    },
    {
      "cell_type": "markdown",
      "metadata": {
        "id": "cY8AFOZ-SmRw"
      },
      "source": [
        "### Prepara DataSet Treinamento, Teste"
      ]
    },
    {
      "cell_type": "code",
      "metadata": {
        "colab": {
          "base_uri": "https://localhost:8080/"
        },
        "id": "l6INwvY-SW3O",
        "outputId": "f5bd6a78-c0fb-47e3-cee5-18d94366f48d"
      },
      "source": [
        "dfMiscelanea = dfNews[dfNews['CATEGORIA']=='miscelanea'].loc[:,['TEXT_TRATADO']]\n",
        "print('miscelanea:',dfMiscelanea.shape)\n",
        "\n"
      ],
      "execution_count": null,
      "outputs": [
        {
          "output_type": "stream",
          "text": [
            "miscelanea: (350, 1)\n"
          ],
          "name": "stdout"
        }
      ]
    },
    {
      "cell_type": "code",
      "metadata": {
        "colab": {
          "base_uri": "https://localhost:8080/"
        },
        "id": "YEwbsnboXbr6",
        "outputId": "95cb7cdf-d168-45c4-eda0-f1cd3bd3ddd3"
      },
      "source": [
        "dfNews.columns"
      ],
      "execution_count": null,
      "outputs": [
        {
          "output_type": "execute_result",
          "data": {
            "text/plain": [
              "Index(['FONTE', 'CATEGORIA', 'TEXTO', 'URL', 'PUBLISHEDAT', 'TITLE', 'AUTHOR',\n",
              "       'DT_REGISTRO', 'TEXT_TRATADO', 'CAT_NRO'],\n",
              "      dtype='object')"
            ]
          },
          "metadata": {
            "tags": []
          },
          "execution_count": 9
        }
      ]
    },
    {
      "cell_type": "code",
      "metadata": {
        "id": "szyy4_koj2tU"
      },
      "source": [
        ""
      ],
      "execution_count": null,
      "outputs": []
    },
    {
      "cell_type": "code",
      "metadata": {
        "colab": {
          "base_uri": "https://localhost:8080/"
        },
        "id": "cX8302pfRxQ3",
        "outputId": "e6cf1b31-9834-47b3-b678-7163e5438b7e"
      },
      "source": [
        "#vamos obter uma amostra randômica de n noticias para cada CATEGORIA e dividir em dois datasets Treinamento e Teste.\n",
        "dfNewsGrupo = dfNewsGrupo[dfNewsGrupo['CATEGORIA']!='miscelanea']\n",
        "n=200\n",
        "categorias = dfNewsGrupo[dfNewsGrupo['URL']>n].loc[:,['CATEGORIA']]['CATEGORIA'].to_list()\n",
        "print(categorias)\n",
        "frame=[]\n",
        "for categoria in categorias:\n",
        "  dftmp = dfNews[dfNews['CATEGORIA']==categoria].loc[:,['TEXTO','CAT_NRO']].sample(n=n)\n",
        "  frame.append(dftmp)\n",
        "dfAmostra = pd.concat(frame,ignore_index=True, sort=False)\n",
        "print('Amostra:', dfAmostra.shape)\n",
        "\n",
        "df_train, df_test_valid = train_test_split(dfAmostra, train_size = 0.8, random_state = 10)\n",
        "df_valid, df_test = train_test_split(df_test_valid, train_size = 0.5, random_state = 10)\n",
        "print('Treinamento:',df_train.shape)\n",
        "print('Teste:', df_test.shape)\n",
        "print('Valid:', df_valid.shape)\n",
        "\n"
      ],
      "execution_count": 13,
      "outputs": [
        {
          "output_type": "stream",
          "text": [
            "['local', 'politica', 'mundo', 'novelas', 'saude', 'esporte', 'economia', 'brasil']\n",
            "Amostra: (1600, 2)\n",
            "Treinamento: (1280, 2)\n",
            "Teste: (160, 2)\n",
            "Valid: (160, 2)\n"
          ],
          "name": "stdout"
        }
      ]
    },
    {
      "cell_type": "code",
      "metadata": {
        "id": "xng6PljPjnPb"
      },
      "source": [
        "df_train.to_csv(path + \"/train.csv\",header=True,doublequote=True, index=False, quotechar='\"', encoding='utf-8')\n",
        "df_test.to_csv(path + \"/test.csv\",header=True,doublequote=True, index=False, quotechar='\"', encoding='utf-8')\n",
        "df_valid.to_csv(path + \"/valid.csv\",header=True,doublequote=True, index=False, quotechar='\"', encoding='utf-8')"
      ],
      "execution_count": 14,
      "outputs": []
    },
    {
      "cell_type": "markdown",
      "metadata": {
        "id": "nHBa6shmIkcw"
      },
      "source": [
        ""
      ]
    }
  ]
}