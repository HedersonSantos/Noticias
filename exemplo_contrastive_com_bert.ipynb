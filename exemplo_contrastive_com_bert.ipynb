{
  "nbformat": 4,
  "nbformat_minor": 0,
  "metadata": {
    "colab": {
      "provenance": [],
      "authorship_tag": "ABX9TyP3waZg861IvOXh1Lhzf5zD",
      "include_colab_link": true
    },
    "kernelspec": {
      "name": "python3",
      "display_name": "Python 3"
    },
    "language_info": {
      "name": "python"
    }
  },
  "cells": [
    {
      "cell_type": "markdown",
      "metadata": {
        "id": "view-in-github",
        "colab_type": "text"
      },
      "source": [
        "<a href=\"https://colab.research.google.com/github/HedersonSantos/Noticias/blob/main/exemplo_contrastive_com_bert.ipynb\" target=\"_parent\"><img src=\"https://colab.research.google.com/assets/colab-badge.svg\" alt=\"Open In Colab\"/></a>"
      ]
    },
    {
      "cell_type": "code",
      "execution_count": null,
      "metadata": {
        "id": "G1cIFe0r52XJ"
      },
      "outputs": [],
      "source": [
        "import torch\n",
        "import torch.nn as nn\n",
        "import torch.nn.functional as F\n",
        "from transformers import BertModel\n",
        "\n",
        "class ContrastiveClassifier(nn.Module):\n",
        "    def __init__(self, bert_model, hidden_size, num_classes):\n",
        "        super(ContrastiveClassifier, self).__init__()\n",
        "        self.bert = bert_model\n",
        "        self.fc1 = nn.Linear(hidden_size*4, hidden_size*2)\n",
        "        self.fc2 = nn.Linear(hidden_size*2, num_classes)\n",
        "    \n",
        "    def forward(self, x1, x2, y=None):\n",
        "        \"\"\"\n",
        "        x1, x2: input texts of shape (batch_size, max_seq_len)\n",
        "        y: labels of shape (batch_size,)\n",
        "        \"\"\"\n",
        "        # encode input texts with BERT\n",
        "        _, h1 = self.bert(x1)\n",
        "        _, h2 = self.bert(x2)\n",
        "        \n",
        "        # apply contrastive learning\n",
        "        sim = F.cosine_similarity(h1, h2, dim=1)\n",
        "        diff = torch.abs(h1 - h2)\n",
        "        x = torch.cat([h1, h2, sim.unsqueeze(1), diff], dim=1)\n",
        "        \n",
        "        # feed through classification MLP\n",
        "        x = F.relu(self.fc1(x))\n",
        "        x = self.fc2(x)\n",
        "        \n",
        "        # calculate loss if labels are provided\n",
        "        if y is not None:\n",
        "            criterion = nn.CrossEntropyLoss()\n",
        "            loss = criterion(x, y)\n",
        "            return x, loss\n",
        "        else:\n",
        "            return x\n"
      ]
    },
    {
      "cell_type": "markdown",
      "source": [
        "Neste exemplo, ContrastiveClassifier é uma subclasse de nn.Module que define a arquitetura do modelo. Ele recebe um modelo BERT pré-treinado, hidden_size é o tamanho do vetor de características gerado pela camada oculta de BERT, e num_classes é o número de classes de saída (neste caso, 9).\n",
        "\n",
        "O método forward define a lógica de passagem para a frente do modelo. Ele recebe duas entradas de texto x1 e x2 e as codifica com BERT. Em seguida, ele aplica a técnica de aprendizado por contraste, que compara as representações de texto de x1 e x2, e alimenta as diferenças e similaridades para um MLP de classificação.\n",
        "\n",
        "Observe que o MLP de classificação tem duas camadas totalmente conectadas (fc1 e fc2) e usa a função de ativação ReLU. Além disso, a entrada para a camada fc1 é concatenada com a similaridade e diferença de x1 e x2. Isso é feito para incorporar a informação aprendida na etapa de aprendizado por contraste.\n",
        "\n",
        "Se o parâmetro y for fornecido, o modelo calcula a perda de entropia cruzada (cross-entropy loss) entre as previsões x e as labels y e retorna tanto a saída x quanto a perda de treinamento. Caso contrário, ele retorna apenas a saída x.\n",
        "\n",
        "Para treinar o modelo, você pode usar o algoritmo de otimização Adam e ajustar os hiperparâmetros, como a taxa de aprendizado e o número de épocas, conforme necessário:"
      ],
      "metadata": {
        "id": "znWzJla07vgt"
      }
    },
    {
      "cell_type": "code",
      "source": [
        "from torch.utils.data import DataLoader, TensorDataset\n",
        "from transformers import BertTokenizer\n",
        "\n",
        "# initialize model and tokenizer\n",
        "bert"
      ],
      "metadata": {
        "id": "XJHYM8mx7kkV"
      },
      "execution_count": null,
      "outputs": []
    }
  ]
}