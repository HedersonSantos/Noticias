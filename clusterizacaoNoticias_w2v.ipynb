{
  "nbformat": 4,
  "nbformat_minor": 0,
  "metadata": {
    "colab": {
      "name": "clusterizacaoNoticias_w2v.ipynb",
      "provenance": [],
      "collapsed_sections": [
        "ATJaqnNUqr_L"
      ],
      "include_colab_link": true
    },
    "kernelspec": {
      "name": "python3",
      "display_name": "Python 3"
    },
    "language_info": {
      "name": "python"
    }
  },
  "cells": [
    {
      "cell_type": "markdown",
      "metadata": {
        "id": "view-in-github",
        "colab_type": "text"
      },
      "source": [
        "<a href=\"https://colab.research.google.com/github/HedersonSantos/Noticias/blob/main/clusterizacaoNoticias_w2v.ipynb\" target=\"_parent\"><img src=\"https://colab.research.google.com/assets/colab-badge.svg\" alt=\"Open In Colab\"/></a>"
      ]
    },
    {
      "cell_type": "code",
      "metadata": {
        "id": "Z6ntCB_ZoYIR"
      },
      "source": [
        "import pandas as pd\n",
        "import numpy as np\n",
        "from datetime import datetime\n",
        "import matplotlib.pyplot as plt\n",
        "\n",
        "import nltk, re\n",
        "from nltk import word_tokenize\n",
        "from nltk.corpus import stopwords\n",
        "from wordcloud import WordCloud\n",
        "from gensim.models import Word2Vec\n",
        "\n",
        "from sklearn.feature_extraction.text import CountVectorizer\n",
        "from sklearn.feature_extraction.text import TfidfVectorizer\n",
        "from sklearn.feature_extraction.text import TfidfTransformer\n",
        "from sklearn.model_selection import train_test_split\n",
        "from sklearn.decomposition import PCA\n",
        "from sklearn.decomposition import TruncatedSVD\n",
        "from sklearn.preprocessing import StandardScaler\n",
        "\n",
        "from sklearn.cluster import AgglomerativeClustering"
      ],
      "execution_count": 12,
      "outputs": []
    },
    {
      "cell_type": "markdown",
      "metadata": {
        "id": "ATJaqnNUqr_L"
      },
      "source": [
        "# Obtendo dataset de noticias tratadas em preProcessamento_noticias"
      ]
    },
    {
      "cell_type": "code",
      "metadata": {
        "colab": {
          "base_uri": "https://localhost:8080/"
        },
        "id": "NnmIRw0WowrK",
        "outputId": "1c5d8652-7da6-4310-fac6-ef776733b476"
      },
      "source": [
        "!rm news.*\n",
        "!wget https://raw.githubusercontent.com/HedersonSantos/Noticias/main/news.zip\n",
        "!unzip news.zip\n",
        "%ls"
      ],
      "execution_count": 2,
      "outputs": [
        {
          "output_type": "stream",
          "text": [
            "rm: cannot remove 'news.*': No such file or directory\n",
            "--2021-06-20 18:34:30--  https://raw.githubusercontent.com/HedersonSantos/Noticias/main/news.zip\n",
            "Resolving raw.githubusercontent.com (raw.githubusercontent.com)... 185.199.108.133, 185.199.109.133, 185.199.110.133, ...\n",
            "Connecting to raw.githubusercontent.com (raw.githubusercontent.com)|185.199.108.133|:443... connected.\n",
            "HTTP request sent, awaiting response... 200 OK\n",
            "Length: 11333903 (11M) [application/zip]\n",
            "Saving to: ‘news.zip’\n",
            "\n",
            "news.zip            100%[===================>]  10.81M  18.4MB/s    in 0.6s    \n",
            "\n",
            "2021-06-20 18:34:31 (18.4 MB/s) - ‘news.zip’ saved [11333903/11333903]\n",
            "\n",
            "Archive:  news.zip\n",
            "  inflating: news.csv                \n",
            "news.csv  news.zip  \u001b[0m\u001b[01;34msample_data\u001b[0m/\n"
          ],
          "name": "stdout"
        }
      ]
    },
    {
      "cell_type": "markdown",
      "metadata": {
        "id": "hWX1z5Ntq-Ec"
      },
      "source": [
        "# Funções para processamento de Linguagem Natural"
      ]
    },
    {
      "cell_type": "code",
      "metadata": {
        "id": "jmvLl_wTrFR9"
      },
      "source": [
        "def download_pt_stopWords():\n",
        "\n",
        "  '''download das stopwords '''\n",
        "  nltk.download('stopwords') #stopwords\n",
        "  nltk.download('rslp')  #stemming\n",
        "  nltk.download('punkt')  #tokenizacao\n",
        "        \n",
        "def removeStopWords( texto, excluirWords:list=None):\n",
        "  '''remove as stopwords do texto. Novas stopwords podem ser adicionadas através da lista excluirWords'''\n",
        "  naoQueridas = nltk.corpus.stopwords.words('portuguese')\n",
        "  if not excluirWords==None:\n",
        "    naoQueridas.extend(excluirWords)\n",
        "  naoQueridas = list(set(naoQueridas))\n",
        "  palavras = [i for i in texto.split() if not i.lower() in naoQueridas]\n",
        "  return (\" \".join(palavras))\n",
        "\n",
        "def aplicaStemming( texto):\n",
        "  ''' obtém o radical das palavras do vocabulário'''\n",
        "  stemmer = nltk.stem.RSLPStemmer()\n",
        "  palavras = []\n",
        "  for w in texto.split():\n",
        "      palavras.append(stemmer.stem(w))\n",
        "  return (\" \".join(palavras))\n",
        "\n",
        "def transformaTextoMinuscula(texto):\n",
        "  palavras=[]\n",
        "  for w in texto.split(\" \"):\n",
        "    palavras.append(w.lower())\n",
        "  return (\" \".join(palavras))\n",
        "\n",
        "\n",
        "def removeCaracteresNaoDesejados(texto, pontuacao=False):\n",
        "  textoLimpo = re.sub(r\"http\\S+\", \"\", texto)\n",
        "  textoLimpo = re.sub(r\"www\\..+\\..+\", \"\", textoLimpo)\n",
        "  textoLimpo = re.sub(r\"[^a-zA-ZáÁéÉíÍóÓúÚãÃàÀôâÂêÊôÔçÇ!,:.; ]\", \"\", textoLimpo)\n",
        "  if pontuacao==True:\n",
        "    textoLimpo = re.sub(r'[^\\w\\s]', '',textoLimpo)\n",
        "  return textoLimpo\n",
        "\n",
        "def retornaVetorizacao(X,pct_min=1, pct_max=1, excluirSW:list=None):\n",
        "  ''' monta a matriz sparsa com o índice de vocabulário em cada texto. \n",
        "    Retorna a matriz sparsa e o vocabulário '''\n",
        "  count_vect = CountVectorizer(min_df=pct_min, max_df=pct_max, lowercase=True,stop_words=excluirSW) \n",
        "  matriz_sparsa = count_vect.fit_transform(X)\n",
        "  vocabulario = count_vect.fit(X)\n",
        "  return [matriz_sparsa,vocabulario]\n",
        "\n",
        "def retornaMatriztfIdf( V):\n",
        "    ''' em cada documento, calcula o tf-idf de cada palavra\n",
        "        term frequency - inverse document frequency'''\n",
        "    tfidf_transformer = TfidfTransformer()\n",
        "    matriz_tfidf = tfidf_transformer.fit_transform(V)\n",
        "    return matriz_tfidf\n",
        "\n",
        "def normalizaEreduzDimensionalidadecomPCA( X, nro_dimensao,UT=None):\n",
        "    data_pca= TruncatedSVD(nro_dimensao)\n",
        "    if UT==None:\n",
        "        UT = data_pca.fit(X)\n",
        "    X_pca =  UT.fit_transform(X)\n",
        "      \n",
        "    return [UT,X_pca]\n",
        "\n",
        "def padronizaValores(X):\n",
        "  X_norm = StandardScaler(with_mean=False).fit_transform(X)\n",
        "  return X_norm\n",
        "\n",
        "def retornaPalavras(listaTexto:list):\n",
        "  words=\"\"\n",
        "  for i in listaTexto: \n",
        "    i = str(i) \n",
        "    separate = i.split() \n",
        "    for j in range(len(separate)): \n",
        "        separate[j] = separate[j].lower() \n",
        "  words += \" \".join(separate)+\" \"\n",
        "  return words\n",
        "def montaWordCloud(words, n_palavras:int):\n",
        "  wc = WordCloud(width = 400, height = 200, \n",
        "                background_color ='black', max_words=n_palavras,\n",
        "                min_font_size = 10).generate(words)\n",
        "  return wc\n",
        "\n",
        "def imprimiWordCloud(listaTexto:list, n_palavras:int, cluster:str=None):\n",
        "  words = retornaPalavras(listaTexto)\n",
        "  wc = montaWordCloud(words, n_palavras)\n",
        "  plt.figure(figsize = (8, 8), facecolor = None) \n",
        "  plt.imshow(wc) \n",
        "  plt.axis(\"off\") \n",
        "  plt.tight_layout(pad = 0) \n",
        "  if not cluster == None:\n",
        "    plt.title('PALAVRAS PARA O CLUSTER ' + cluster)\n",
        "  plt.show()\n",
        "\n",
        "def tokenizaporSentenca(text):\n",
        "  '''divide o texto em sentenças. Para cada sentença cria uma lista de palavras sem a pontuação. '''\n",
        "  sentencas = text.split(\".\")\n",
        "  tk = [word_tokenize(re.sub(r'[^\\w\\s]', '',s)) for s in sentencas if len(word_tokenize(re.sub(r'[^\\w\\s]', '',s)))>0  ]\n",
        "  return tk\n",
        "\n",
        "def tokenizaTexto(text):\n",
        "  ''' usa todo o texto para tokenizacao '''\n",
        "  tk = word_tokenize(re.sub(r'[^\\w\\s]', '',text))\n",
        "  return tk\n",
        "\n",
        "\n",
        "def modelaWord2Vec(tokens_docs, tam_vetor, nro_seed):\n",
        "  model = Word2Vec(tokens_docs, size=tam_vetor,sg=1,min_count=1)\n",
        "  return model\n",
        "\n",
        "def top_tfidf_feats(row, terms, top_n=25):\n",
        "    top_ids = np.argsort(row)[::-1][:top_n]\n",
        "    top_feats = [terms[i] for i in top_ids]\n",
        "    return top_feats\n",
        "\n",
        "def extract_tfidf_keywords(texts, min_df=1, max_df=1.0,top_n=100):\n",
        "    tfidf_vectorizer = TfidfVectorizer(use_idf=True,  ngram_range=(1,3))\n",
        "    tfidf_matrix = tfidf_vectorizer.fit_transform(texts)\n",
        "    terms = tfidf_vectorizer.get_feature_names()\n",
        "    arr = []\n",
        "    for i in range(0, tfidf_matrix.shape[0]):\n",
        "        row = np.squeeze(tfidf_matrix[i].toarray())\n",
        "        feats = top_tfidf_feats(row, terms, top_n)\n",
        "        arr.append(feats)\n",
        "    return arr\n"
      ],
      "execution_count": 39,
      "outputs": []
    },
    {
      "cell_type": "markdown",
      "metadata": {
        "id": "Q34fUDgD2S3e"
      },
      "source": [
        ""
      ]
    },
    {
      "cell_type": "markdown",
      "metadata": {
        "id": "j_Sln_Vau32S"
      },
      "source": [
        "# Prepara dataset para clusterizacao"
      ]
    },
    {
      "cell_type": "code",
      "metadata": {
        "colab": {
          "base_uri": "https://localhost:8080/",
          "height": 244
        },
        "id": "2StJlfb_vCMx",
        "outputId": "3d2bc0af-01d0-497e-9b95-227af6bce676"
      },
      "source": [
        "#abrir arquivo news.csv\n",
        "dfDados = pd.read_csv('news.csv')\n",
        "dfDados['TEXT_TRATADO'] = dfDados['TEXT_TRATADO'].astype('unicode')\n",
        "dfDados['TEXT_TRATADO'] = dfDados.loc[:,['TEXT_TRATADO']].apply(lambda x: removeCaracteresNaoDesejados(x['TEXT_TRATADO']),axis=1)\n",
        "download_pt_stopWords()\n",
        "dfDados['TEXT_TRATADO'] = dfDados.loc[:,['TEXT_TRATADO']].apply(lambda x: removeStopWords(x['TEXT_TRATADO']),axis=1)\n",
        "dfDados['TEXT_TRATADO'] = dfDados.loc[:,['TEXT_TRATADO']].apply(lambda x: transformaTextoMinuscula(x['TEXT_TRATADO']),axis=1)\n",
        "dfDados['TEXT_TRATADO'] = dfDados.loc[:,['TEXT_TRATADO']].apply(lambda x: aplicaStemming(x['TEXT_TRATADO']),axis=1)\n",
        "dfDados[['TEXT_TRATADO']].head(3)\n"
      ],
      "execution_count": 10,
      "outputs": [
        {
          "output_type": "stream",
          "text": [
            "[nltk_data] Downloading package stopwords to /root/nltk_data...\n",
            "[nltk_data]   Package stopwords is already up-to-date!\n",
            "[nltk_data] Downloading package rslp to /root/nltk_data...\n",
            "[nltk_data]   Package rslp is already up-to-date!\n",
            "[nltk_data] Downloading package punkt to /root/nltk_data...\n",
            "[nltk_data]   Package punkt is already up-to-date!\n"
          ],
          "name": "stdout"
        },
        {
          "output_type": "execute_result",
          "data": {
            "text/html": [
              "<div>\n",
              "<style scoped>\n",
              "    .dataframe tbody tr th:only-of-type {\n",
              "        vertical-align: middle;\n",
              "    }\n",
              "\n",
              "    .dataframe tbody tr th {\n",
              "        vertical-align: top;\n",
              "    }\n",
              "\n",
              "    .dataframe thead th {\n",
              "        text-align: right;\n",
              "    }\n",
              "</style>\n",
              "<table border=\"1\" class=\"dataframe\">\n",
              "  <thead>\n",
              "    <tr style=\"text-align: right;\">\n",
              "      <th></th>\n",
              "      <th>TEXT_TRATADO</th>\n",
              "    </tr>\n",
              "  </thead>\n",
              "  <tbody>\n",
              "    <tr>\n",
              "      <th>0</th>\n",
              "      <td>sext bbb tv glob broth receb com beb faz aquec...</td>\n",
              "    </tr>\n",
              "    <tr>\n",
              "      <th>1</th>\n",
              "      <td>program viv bbb tv globo, leifert convers empa...</td>\n",
              "    </tr>\n",
              "    <tr>\n",
              "      <th>2</th>\n",
              "      <td>continu dizendo, deu tir daquel cadeira. vai s...</td>\n",
              "    </tr>\n",
              "  </tbody>\n",
              "</table>\n",
              "</div>"
            ],
            "text/plain": [
              "                                        TEXT_TRATADO\n",
              "0  sext bbb tv glob broth receb com beb faz aquec...\n",
              "1  program viv bbb tv globo, leifert convers empa...\n",
              "2  continu dizendo, deu tir daquel cadeira. vai s..."
            ]
          },
          "metadata": {
            "tags": []
          },
          "execution_count": 10
        }
      ]
    },
    {
      "cell_type": "code",
      "metadata": {
        "id": "7k3HMohJ3Dv9"
      },
      "source": [
        "#tokeniza \n",
        "X = dfDados['TEXT_TRATADO'].values\n",
        "X_words = []\n",
        "for i in range(0,X.shape[0],1):\n",
        "  X_tk = tokenizaTexto(X[i])\n",
        "  if len(X_tk)>0:\n",
        "    X_tfidf = extract_tfidf_keywords(X_tk, top_n=25)\n",
        "    X_words.append(X_tfidf) \n",
        "\n",
        "#modela Word2Vec para X_tk  \n",
        "#modelW2V = Word2Vec(X_tk, size=50,sg=1,min_count=1)"
      ],
      "execution_count": 41,
      "outputs": []
    },
    {
      "cell_type": "code",
      "metadata": {
        "id": "QwH4o8q96dW_"
      },
      "source": [
        "X = dfDados['TEXT_TRATADO'].values\n",
        "tfidf_vectorizer = TfidfVectorizer(use_idf=True,  ngram_range=(1,3), tokenizer=tokenizaTexto, )\n",
        "tfidf_matrix = tfidf_vectorizer.fit_transform(X)\n",
        "terms = tfidf_vectorizer.get_feature_names()\n",
        "arr = []\n",
        "for i in range(0, tfidf_matrix.shape[0]):\n",
        "    row = np.squeeze(tfidf_matrix[i].toarray())\n",
        "    feats = top_tfidf_feats(row, terms, top_n)\n",
        "    arr.append(feats)\n"
      ],
      "execution_count": 57,
      "outputs": []
    },
    {
      "cell_type": "code",
      "metadata": {
        "id": "-3GVrWaXKnRi"
      },
      "source": [
        "modelW2V = Word2Vec(arr, size=50,sg=1,min_count=1)"
      ],
      "execution_count": 62,
      "outputs": []
    },
    {
      "cell_type": "code",
      "metadata": {
        "colab": {
          "base_uri": "https://localhost:8080/"
        },
        "id": "cL0BwP5Uffxq",
        "outputId": "ae2a57bf-e973-4402-8080-c1e15e6d253d"
      },
      "source": [
        "stemmer = nltk.stem.RSLPStemmer()\n",
        "print(modelW2V.wv.similarity(stemmer.stem('brasil'),stemmer.stem('futebol')))\n"
      ],
      "execution_count": 73,
      "outputs": [
        {
          "output_type": "stream",
          "text": [
            "0.21539998\n"
          ],
          "name": "stdout"
        }
      ]
    },
    {
      "cell_type": "code",
      "metadata": {
        "colab": {
          "base_uri": "https://localhost:8080/",
          "height": 197
        },
        "id": "3vp-oAxlYf0O",
        "outputId": "8784514a-aab6-4976-e31f-8e8f8cf66044"
      },
      "source": [
        "\n",
        "doc2vecs = []\n",
        "for i in range(0, len(abstract2kw)):\n",
        "    vec = [0 for k in range(100)] \n",
        "    for j in range(0, len(abstract2kw[i])):\n",
        "        if abstract2kw[i][j] in word2vec_model:\n",
        "            vec += word2vec_model[abstract2kw[i][j]]\n",
        "            \n",
        "    for j in range(0, len(text2kw[i])):\n",
        "        if text2kw[i][j] in word2vec_model:\n",
        "            vec += word2vec_model[text2kw[i][j]]\n",
        "    doc2vecs.append(vec)"
      ],
      "execution_count": 7,
      "outputs": [
        {
          "output_type": "error",
          "ename": "AttributeError",
          "evalue": "ignored",
          "traceback": [
            "\u001b[0;31m---------------------------------------------------------------------------\u001b[0m",
            "\u001b[0;31mAttributeError\u001b[0m                            Traceback (most recent call last)",
            "\u001b[0;32m<ipython-input-7-9ec469cfb86d>\u001b[0m in \u001b[0;36m<module>\u001b[0;34m()\u001b[0m\n\u001b[0;32m----> 1\u001b[0;31m \u001b[0mX_w2v\u001b[0m \u001b[0;34m=\u001b[0m \u001b[0mmodelW2V\u001b[0m\u001b[0;34m[\u001b[0m\u001b[0mmodelW2V\u001b[0m\u001b[0;34m.\u001b[0m\u001b[0mmv\u001b[0m\u001b[0;34m.\u001b[0m\u001b[0mvocab\u001b[0m\u001b[0;34m]\u001b[0m\u001b[0;34m\u001b[0m\u001b[0;34m\u001b[0m\u001b[0m\n\u001b[0m\u001b[1;32m      2\u001b[0m \u001b[0mmodel\u001b[0m \u001b[0;34m=\u001b[0m \u001b[0mAgglomerativeClustering\u001b[0m\u001b[0;34m(\u001b[0m\u001b[0mlinkage\u001b[0m\u001b[0;34m=\u001b[0m\u001b[0;34m'ward'\u001b[0m\u001b[0;34m,\u001b[0m \u001b[0maffinity\u001b[0m\u001b[0;34m=\u001b[0m\u001b[0;34m'euclidean'\u001b[0m\u001b[0;34m,\u001b[0m \u001b[0mdistance_threshold\u001b[0m\u001b[0;34m=\u001b[0m\u001b[0mn\u001b[0m\u001b[0;34m,\u001b[0m \u001b[0mn_clusters\u001b[0m\u001b[0;34m=\u001b[0m\u001b[0;32mNone\u001b[0m\u001b[0;34m)\u001b[0m\u001b[0;34m\u001b[0m\u001b[0;34m\u001b[0m\u001b[0m\n\u001b[1;32m      3\u001b[0m \u001b[0mmodel\u001b[0m \u001b[0;34m=\u001b[0m \u001b[0mmodel\u001b[0m\u001b[0;34m.\u001b[0m\u001b[0mfit\u001b[0m\u001b[0;34m(\u001b[0m\u001b[0mX_w2v\u001b[0m\u001b[0;34m.\u001b[0m\u001b[0mtoarray\u001b[0m\u001b[0;34m(\u001b[0m\u001b[0;34m)\u001b[0m\u001b[0;34m)\u001b[0m\u001b[0;34m\u001b[0m\u001b[0;34m\u001b[0m\u001b[0m\n",
            "\u001b[0;31mAttributeError\u001b[0m: 'Word2Vec' object has no attribute 'mv'"
          ]
        }
      ]
    },
    {
      "cell_type": "code",
      "metadata": {
        "id": "d7kB-m9x5GWS"
      },
      "source": [
        "linkage = ['ward','complete','single','average']\n",
        "distancia = ['euclidean', 'manhattan'] #, 'cosine'\n",
        "d_tsh = [8,10,12]\n",
        "dictResultado = {}\n",
        "dictModel = {}\n",
        "\n",
        "for l in linkage:\n",
        "  for d in distancia:\n",
        "    for n in d_tsh:\n",
        "      if l=='ward' and d!='euclidean':\n",
        "        continue\n",
        "      model = AgglomerativeClustering(linkage=l, affinity=d, distance_threshold=n, n_clusters=None)\n",
        "      model = model.fit(X_tfidf.toarray())\n",
        "      dictResultado[l + '_' + d + '_' + str(n)] = model.n_clusters_\n",
        "      dictModel[l + '_' + d + '_' + str(n)] = model\n"
      ],
      "execution_count": null,
      "outputs": []
    },
    {
      "cell_type": "code",
      "metadata": {
        "id": "u80gD8Kf07zu"
      },
      "source": [
        "dictResultado"
      ],
      "execution_count": null,
      "outputs": []
    },
    {
      "cell_type": "code",
      "metadata": {
        "id": "bOr6Iu4F-zwP"
      },
      "source": [
        "model = dictModel['ward_euclidean_12']\n",
        "print('nro cluster:',model.n_clusters_)\n",
        "distancia = model.distances_\n",
        "print('distância minima:', distancia.min(), '\\n distância máxima:', distancia.max())"
      ],
      "execution_count": null,
      "outputs": []
    },
    {
      "cell_type": "code",
      "metadata": {
        "id": "dy-zyC-qCyze"
      },
      "source": [
        "y_pred = model.fit_predict(X_tfidf.toarray())\n",
        "dfDados['y_pred'] = y_pred\n",
        "dfDados.groupby(['y_pred'])['y_pred'].count()"
      ],
      "execution_count": null,
      "outputs": []
    },
    {
      "cell_type": "code",
      "metadata": {
        "id": "ALMQ96G7Dpr6"
      },
      "source": [
        "for y in np.sort(dfDados['y_pred'].unique()):\n",
        "  print('Top 10 categorias de y_pred = ', y)\n",
        "  print(dfDados[dfDados['y_pred']==y].groupby('CATEGORIA')['URL'].count().reset_index().sort_values(by='URL',ascending=False)[0:10])\n"
      ],
      "execution_count": null,
      "outputs": []
    },
    {
      "cell_type": "code",
      "metadata": {
        "id": "jTzbRBpaEtPs"
      },
      "source": [
        "for y in np.sort(dfDados['y_pred'].unique()):\n",
        "  dftmp = dfDados.loc[:,['TEXT_TRATADO']][dfDados['y_pred']==y]\n",
        "  imprimiWordCloud(dftmp['TEXT_TRATADO'].tolist(),100,str(y))"
      ],
      "execution_count": null,
      "outputs": []
    },
    {
      "cell_type": "code",
      "metadata": {
        "id": "aZZcuLP7APrd"
      },
      "source": [
        "from scipy.cluster.hierarchy import dendrogram\n",
        "from scipy.cluster import hierarchy\n",
        "Z = hierarchy.linkage(model.children_, 'ward')\n",
        "plt.figure(figsize=(20,10))\n",
        "dn = hierarchy.dendrogram(Z)"
      ],
      "execution_count": null,
      "outputs": []
    }
  ]
}