{
  "nbformat": 4,
  "nbformat_minor": 0,
  "metadata": {
    "colab": {
      "name": "t_sne.ipynb",
      "provenance": [],
      "collapsed_sections": [],
      "authorship_tag": "ABX9TyNIbPJlkV9BzuNLxedEMTth",
      "include_colab_link": true
    },
    "kernelspec": {
      "name": "python3",
      "display_name": "Python 3"
    },
    "language_info": {
      "name": "python"
    }
  },
  "cells": [
    {
      "cell_type": "markdown",
      "metadata": {
        "id": "view-in-github",
        "colab_type": "text"
      },
      "source": [
        "<a href=\"https://colab.research.google.com/github/HedersonSantos/Noticias/blob/main/%5Cbert%5Ct_sne.ipynb\" target=\"_parent\"><img src=\"https://colab.research.google.com/assets/colab-badge.svg\" alt=\"Open In Colab\"/></a>"
      ]
    },
    {
      "cell_type": "code",
      "metadata": {
        "colab": {
          "base_uri": "https://localhost:8080/"
        },
        "id": "EXr7ilxrlsQ-",
        "outputId": "e2a9d524-dde1-4851-f68b-e49fe581ad7a"
      },
      "source": [
        "import matplotlib.pyplot as plt\n",
        "import pandas as pd\n",
        "import numpy as np\n",
        "import torch\n",
        "from datetime import datetime\n",
        "from google.colab import files, drive\n",
        "import io, os\n",
        "\n",
        "\n",
        "from sklearn.datasets import load_digits\n",
        "from scipy.spatial.distance import pdist\n",
        "from sklearn.manifold.t_sne import _joint_probabilities\n",
        "from scipy import linalg\n",
        "from sklearn.metrics import pairwise_distances\n",
        "from scipy.spatial.distance import squareform\n",
        "from sklearn.manifold import TSNE\n",
        "from matplotlib import pyplot as plt\n",
        "import seaborn as sns\n",
        "sns.set(rc={'figure.figsize':(11.7,8.27)})\n",
        "palette = sns.color_palette(\"bright\", 10)"
      ],
      "execution_count": 2,
      "outputs": [
        {
          "output_type": "stream",
          "name": "stderr",
          "text": [
            "/usr/local/lib/python3.7/dist-packages/sklearn/utils/deprecation.py:144: FutureWarning: The sklearn.manifold.t_sne module is  deprecated in version 0.22 and will be removed in version 0.24. The corresponding classes / functions should instead be imported from sklearn.manifold. Anything that cannot be imported from sklearn.manifold is now part of the private API.\n",
            "  warnings.warn(message, FutureWarning)\n"
          ]
        }
      ]
    },
    {
      "cell_type": "markdown",
      "metadata": {
        "id": "kPptZfHIl0f4"
      },
      "source": [
        "t-SNE = redução de dimensionalidade usando a distância entre os pontos, só que está distância é utilizada em uma distribuição de probabilidade de tal forma que os pontos mais próximos possui probabilidade alta e pontos mais distantes possui probabilidade baixa de pertencer a um determinado grupo.\n",
        "\n",
        "https://towardsdatascience.com/t-sne-python-example-1ded9953f26<br>\n",
        "https://medium.com/@violante.andre/an-introduction-to-t-sne-with-python-example-47e6ae7dc58f<br>\n",
        "https://www.reneshbedre.com/blog/tsne.html\n"
      ]
    },
    {
      "cell_type": "code",
      "metadata": {
        "colab": {
          "base_uri": "https://localhost:8080/"
        },
        "id": "HNppZNuMlznZ",
        "outputId": "bce83137-a49c-4a25-9b4e-fadc6e30bd7f"
      },
      "source": [
        "# importando dataset de digitos manuscritos\n",
        "X, y = load_digits(return_X_y=True)\n",
        "print(X.shape, y.shape)"
      ],
      "execution_count": 5,
      "outputs": [
        {
          "output_type": "stream",
          "name": "stdout",
          "text": [
            "(1797, 64) (1797,)\n"
          ]
        }
      ]
    },
    {
      "cell_type": "code",
      "metadata": {
        "id": "KIqpgGbOlzy3"
      },
      "source": [
        "MACHINE_EPSILON = np.finfo(np.double).eps #menor número que o computador consegue manipular, menor que este falta bit.\n",
        "n_components = 2 #número de dimensões que será reduzido.\n",
        "perplexity = 30  #número de vizinhos próximos usado no algoritmo (30 é o padro do sk-learn)"
      ],
      "execution_count": 6,
      "outputs": []
    },
    {
      "cell_type": "code",
      "metadata": {
        "colab": {
          "base_uri": "https://localhost:8080/",
          "height": 231
        },
        "id": "-4v_SuIFlz2Y",
        "outputId": "709ee7c8-39cc-4d5f-84d0-758c947d5844"
      },
      "source": [
        "def fit(X):\n",
        "  n_samples = X.shape[0]\n",
        "\n",
        "  #calcula distância euclidiana - gera uma matriz de distância entre todo os pontos de X\n",
        "  distances = pairwise_distances(X, metric='euclidean', squared=True)\n",
        "  print(distances.shape)\n",
        "\n",
        "  #calcula a probabilidade p(j|i) a partir das distâncias para cada ponto de dados.  )\n",
        "  P = _joint_probabilities(distances=distances, desired_perplexity=perplexity, verbose=False)\n",
        "  print(P.shape)\n",
        "\n",
        "  #inicializa as embedding com distribuição Gaussiana e std = 1e-4\n",
        "  #np.random.mtrand._rand.randn = Cria uma matriz da forma fornecida e preencha-a com amostras aleatórias de uma distribuição uniforme\n",
        "  #graus de liberdade = nro de componentes -1\n",
        "  X_embedded = 1e-4 * np.random.mtrand._rand.randn(n_samples, n_components).astype(np.float32)\n",
        "  degrees_of_freedom = max(n_components - 1, 1)\n",
        "  return _tsne(P, degrees_of_freedom, n_samples, X_embedded=X_embedded)\n"
      ],
      "execution_count": 56,
      "outputs": [
        {
          "output_type": "stream",
          "name": "stdout",
          "text": [
            "(1797, 1797)\n",
            "(1613706,)\n"
          ]
        },
        {
          "output_type": "error",
          "ename": "NameError",
          "evalue": "ignored",
          "traceback": [
            "\u001b[0;31m---------------------------------------------------------------------------\u001b[0m",
            "\u001b[0;31mNameError\u001b[0m                                 Traceback (most recent call last)",
            "\u001b[0;32m<ipython-input-56-2b28b8a4d6ef>\u001b[0m in \u001b[0;36m<module>\u001b[0;34m()\u001b[0m\n\u001b[1;32m     15\u001b[0m \u001b[0mX_embedded\u001b[0m \u001b[0;34m=\u001b[0m \u001b[0;36m1e-4\u001b[0m \u001b[0;34m*\u001b[0m \u001b[0mnp\u001b[0m\u001b[0;34m.\u001b[0m\u001b[0mrandom\u001b[0m\u001b[0;34m.\u001b[0m\u001b[0mmtrand\u001b[0m\u001b[0;34m.\u001b[0m\u001b[0m_rand\u001b[0m\u001b[0;34m.\u001b[0m\u001b[0mrandn\u001b[0m\u001b[0;34m(\u001b[0m\u001b[0mn_samples\u001b[0m\u001b[0;34m,\u001b[0m \u001b[0mn_components\u001b[0m\u001b[0;34m)\u001b[0m\u001b[0;34m.\u001b[0m\u001b[0mastype\u001b[0m\u001b[0;34m(\u001b[0m\u001b[0mnp\u001b[0m\u001b[0;34m.\u001b[0m\u001b[0mfloat32\u001b[0m\u001b[0;34m)\u001b[0m\u001b[0;34m\u001b[0m\u001b[0;34m\u001b[0m\u001b[0m\n\u001b[1;32m     16\u001b[0m \u001b[0mdegrees_of_freedom\u001b[0m \u001b[0;34m=\u001b[0m \u001b[0mmax\u001b[0m\u001b[0;34m(\u001b[0m\u001b[0mn_components\u001b[0m \u001b[0;34m-\u001b[0m \u001b[0;36m1\u001b[0m\u001b[0;34m,\u001b[0m \u001b[0;36m1\u001b[0m\u001b[0;34m)\u001b[0m\u001b[0;34m\u001b[0m\u001b[0;34m\u001b[0m\u001b[0m\n\u001b[0;32m---> 17\u001b[0;31m \u001b[0m_tsne\u001b[0m\u001b[0;34m(\u001b[0m\u001b[0mP\u001b[0m\u001b[0;34m,\u001b[0m \u001b[0mdegrees_of_freedom\u001b[0m\u001b[0;34m,\u001b[0m \u001b[0mn_samples\u001b[0m\u001b[0;34m,\u001b[0m \u001b[0mX_embedded\u001b[0m\u001b[0;34m=\u001b[0m\u001b[0mX_embedded\u001b[0m\u001b[0;34m)\u001b[0m\u001b[0;34m\u001b[0m\u001b[0;34m\u001b[0m\u001b[0m\n\u001b[0m",
            "\u001b[0;31mNameError\u001b[0m: name '_tsne' is not defined"
          ]
        }
      ]
    },
    {
      "cell_type": "code",
      "metadata": {
        "colab": {
          "base_uri": "https://localhost:8080/"
        },
        "id": "EDe7bNptwHBc",
        "outputId": "65be4f61-bdc7-4ef8-81de-3dd14c3b2d23"
      },
      "source": [
        "def _tsne(P, degrees_of_freedom, n_sampes, X_embedded):\n",
        "  params = X_embedded.ravel()"
      ],
      "execution_count": 51,
      "outputs": [
        {
          "output_type": "execute_result",
          "data": {
            "text/plain": [
              "115008"
            ]
          },
          "metadata": {},
          "execution_count": 51
        }
      ]
    }
  ]
}