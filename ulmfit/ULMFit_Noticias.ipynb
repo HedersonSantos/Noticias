{
  "nbformat": 4,
  "nbformat_minor": 0,
  "metadata": {
    "colab": {
      "name": "ULMFit_Noticias.ipynb",
      "provenance": [],
      "authorship_tag": "ABX9TyMMZSxZijiEXLqCvoukTcfk",
      "include_colab_link": true
    },
    "kernelspec": {
      "name": "python3",
      "display_name": "Python 3"
    },
    "language_info": {
      "name": "python"
    }
  },
  "cells": [
    {
      "cell_type": "markdown",
      "metadata": {
        "id": "view-in-github",
        "colab_type": "text"
      },
      "source": [
        "<a href=\"https://colab.research.google.com/github/HedersonSantos/Noticias/blob/main/ulmfit/ULMFit_Noticias.ipynb\" target=\"_parent\"><img src=\"https://colab.research.google.com/assets/colab-badge.svg\" alt=\"Open In Colab\"/></a>"
      ]
    },
    {
      "cell_type": "code",
      "metadata": {
        "id": "bQr_hQlVp23P"
      },
      "source": [
        "from fastai import *\n",
        "from fastai.text import *\n",
        "import pandas as pd\n",
        "from pathlib import Path\n",
        "from datetime import datetime\n",
        "from google.colab import drive"
      ],
      "execution_count": 10,
      "outputs": []
    },
    {
      "cell_type": "code",
      "metadata": {
        "colab": {
          "base_uri": "https://localhost:8080/"
        },
        "id": "ah3vhFXIqIVG",
        "outputId": "a172a003-d4f8-475e-86bc-b9b0f4f3c080"
      },
      "source": [
        "drive.mount('/gdrive')\n",
        "%cd /gdrive/My\\ Drive/Colab\\ Notebooks\n"
      ],
      "execution_count": 26,
      "outputs": [
        {
          "output_type": "stream",
          "name": "stdout",
          "text": [
            "Drive already mounted at /gdrive; to attempt to forcibly remount, call drive.mount(\"/gdrive\", force_remount=True).\n",
            "/gdrive/My Drive/Colab Notebooks\n"
          ]
        }
      ]
    },
    {
      "cell_type": "code",
      "metadata": {
        "colab": {
          "base_uri": "https://localhost:8080/"
        },
        "id": "avqbGShhtp0G",
        "outputId": "ef4c447f-1916-4b09-daec-0bdd989163da"
      },
      "source": [
        "#%cd amostra_6/\n",
        "#!unzip amostra6.zip\n",
        "#!ls"
      ],
      "execution_count": 9,
      "outputs": [
        {
          "output_type": "stream",
          "name": "stdout",
          "text": [
            "amostra6.csv  amostra6.zip\n"
          ]
        }
      ]
    },
    {
      "cell_type": "code",
      "metadata": {
        "id": "DXVAjsaeqZRd"
      },
      "source": [
        "source_folder = './amostra_news_integrada/amostra_' \n",
        "destination_folder = './ulmfit_resp' \n"
      ],
      "execution_count": 12,
      "outputs": []
    },
    {
      "cell_type": "code",
      "metadata": {
        "id": "qFTkozIMrrMq"
      },
      "source": [
        "df = pd.read_csv(source_folder+str(6)+'/amostra6.csv')\n"
      ],
      "execution_count": 15,
      "outputs": []
    },
    {
      "cell_type": "code",
      "metadata": {
        "colab": {
          "base_uri": "https://localhost:8080/",
          "height": 71
        },
        "id": "Y-q9DUSJquLc",
        "outputId": "e1bc9747-44ff-4a28-eb25-66f3c188c92c"
      },
      "source": [
        "bs = 128\n",
        "lang = 'pt'\n",
        "_id=6\n",
        "data = (TextList.from_csv(source_folder+str(_id),'amostra6.csv', cols='text')\n",
        "            .split_by_rand_pct(0.1, seed=42)\n",
        "            .label_for_lm()           \n",
        "            .databunch(bs=bs, num_workers=1))"
      ],
      "execution_count": 34,
      "outputs": [
        {
          "output_type": "display_data",
          "data": {
            "text/html": [
              ""
            ],
            "text/plain": [
              "<IPython.core.display.HTML object>"
            ]
          },
          "metadata": {}
        },
        {
          "output_type": "stream",
          "name": "stderr",
          "text": [
            "/usr/local/lib/python3.7/dist-packages/fastai/core.py:302: VisibleDeprecationWarning: Creating an ndarray from ragged nested sequences (which is a list-or-tuple of lists-or-tuples-or ndarrays with different lengths or shapes) is deprecated. If you meant to do this, you must specify 'dtype=object' when creating the ndarray\n",
            "  return np.array(a, dtype=dtype, **kwargs)\n"
          ]
        },
        {
          "output_type": "display_data",
          "data": {
            "text/html": [
              ""
            ],
            "text/plain": [
              "<IPython.core.display.HTML object>"
            ]
          },
          "metadata": {}
        }
      ]
    },
    {
      "cell_type": "code",
      "metadata": {
        "colab": {
          "base_uri": "https://localhost:8080/"
        },
        "id": "D8VdBy_BvSFZ",
        "outputId": "b837762c-7955-4f2e-97a4-969540b23955"
      },
      "source": [
        "data.save(f'{lang}_databunch')\n",
        "len(data.vocab.itos),len(data.train_ds)"
      ],
      "execution_count": 38,
      "outputs": [
        {
          "output_type": "execute_result",
          "data": {
            "text/plain": [
              "(60000, 71144)"
            ]
          },
          "metadata": {},
          "execution_count": 38
        }
      ]
    },
    {
      "cell_type": "code",
      "metadata": {
        "id": "FAKonqpgvdbX"
      },
      "source": [
        "bs = 128\n",
        "lang = 'pt'\n",
        "data = load_data(source_folder+str(_id), f'{lang}_databunch', bs=bs)"
      ],
      "execution_count": 40,
      "outputs": []
    },
    {
      "cell_type": "code",
      "metadata": {
        "colab": {
          "base_uri": "https://localhost:8080/",
          "height": 306
        },
        "id": "xhZ44O7My_C3",
        "outputId": "2b35c45e-c8b4-4a77-9178-8a236608d3ba"
      },
      "source": [
        "data.show_batch()"
      ],
      "execution_count": 42,
      "outputs": [
        {
          "output_type": "display_data",
          "data": {
            "text/html": [
              "<table border=\"1\" class=\"dataframe\">\n",
              "  <thead>\n",
              "    <tr style=\"text-align: right;\">\n",
              "      <th>idx</th>\n",
              "      <th>text</th>\n",
              "    </tr>\n",
              "  </thead>\n",
              "  <tbody>\n",
              "    <tr>\n",
              "      <td>0</td>\n",
              "      <td>por 1 a 0 . xxmaj no dia da partida foram feitas outras homenagens ao ex - volante pelo xxmaj santos . xxmaj uma imagem do rosto de xxmaj zito foi estampada na camisa dos jogadores , assim como o nome do ex - volante e a inscrição \" obrigado \" . o telão da xxmaj vila xxmaj belmiro exibiu imagens de xxmaj zito , e torcedores e jogadores fizeram</td>\n",
              "    </tr>\n",
              "    <tr>\n",
              "      <td>1</td>\n",
              "      <td>tucano sinalizou uma tentativa de sair do foco da apuração e passá - lo para o xxmaj executivo . xxmaj na sessão , a declaração foi dada após um questionamento do deputado xxmaj xxunk xxmaj barba ( xxup pt ) , que disse a xxmaj capez que \" tem mão do xxmaj palácio dos xxmaj bandeirantes no escândalo da merenda \" . \" xxmaj eu não acredito em fogo amigo</td>\n",
              "    </tr>\n",
              "    <tr>\n",
              "      <td>2</td>\n",
              "      <td>veio na hora certa . xxmaj das 12 temporadas desde a adoção dos pontos corridos no xxmaj brasileiro , em 2003 , o primeiro colocado do turno também levantou o caneco nove vezes ao final do campeonato . xxmaj após 19 rodadas , o xxmaj corinthians somou 40 pontos , contra 36 do xxmaj atlético - xxup mg , vice - líder . xxbos o anúncio de que xxmaj fernando</td>\n",
              "    </tr>\n",
              "    <tr>\n",
              "      <td>3</td>\n",
              "      <td>ser tão boa e jura que irá se vingar da irmã . xxmaj samuca xxunk xxmaj vivi , que agradece ele com um beijo no rosto . xxmaj cris espia tudo e xxmaj marian aparece . a vilã diz que essa é a hora de se vingar e que ela deve postar a imagem dizendo que xxmaj vivi roubou seu namorado . xxmaj vivi vê a foto e discute com</td>\n",
              "    </tr>\n",
              "    <tr>\n",
              "      <td>4</td>\n",
              "      <td>as crianças disseram aos investigadores que xxmaj xxunk lhes dava cerveja , cigarros e maconha , mostrava - lhes pornografia infantil e depois tocava seus genitais . xxmaj os procuradores teriam encontrado \" um preocupante padrão institucional de comportamento \" da arquidiocese frente aos abusos . xxmaj segundo o procurador xxmaj john xxmaj choi , a organização não respondeu a \" numerosos e repetidos \" relatos sobre a conduta de</td>\n",
              "    </tr>\n",
              "  </tbody>\n",
              "</table>"
            ],
            "text/plain": [
              "<IPython.core.display.HTML object>"
            ]
          },
          "metadata": {}
        }
      ]
    },
    {
      "cell_type": "code",
      "metadata": {
        "colab": {
          "base_uri": "https://localhost:8080/",
          "height": 163
        },
        "id": "30dG8lok0dR5",
        "outputId": "a08ad151-ceb2-45c2-8e2b-4d92d64621c1"
      },
      "source": [
        "#o modelo foi treinado para o inglês. Como os dados estão em português, utilizaremos a flag pretrained = False\n",
        "#e rodaremos um ciclo de treinamento do modelo para o português.\n",
        "device = torch.device('cuda:0' if torch.cuda.is_available() else 'cpu')\n",
        "if device = 'cpu':\n",
        "  learn = language_model_learner(data, AWD_LSTM, drop_mult=0.5, pretrained=False)#.to_fp16()\n",
        "else:\n",
        "  learn = language_model_learner(data, AWD_LSTM, drop_mult=0.5, pretrained=False).to_fp16()"
      ],
      "execution_count": 43,
      "outputs": [
        {
          "output_type": "error",
          "ename": "NameError",
          "evalue": "ignored",
          "traceback": [
            "\u001b[0;31m---------------------------------------------------------------------------\u001b[0m",
            "\u001b[0;31mNameError\u001b[0m                                 Traceback (most recent call last)",
            "\u001b[0;32m<ipython-input-43-2cbc9fbcb1b7>\u001b[0m in \u001b[0;36m<module>\u001b[0;34m()\u001b[0m\n\u001b[0;32m----> 1\u001b[0;31m \u001b[0mtrain_on_gpu\u001b[0m\u001b[0;34m\u001b[0m\u001b[0;34m\u001b[0m\u001b[0m\n\u001b[0m",
            "\u001b[0;31mNameError\u001b[0m: name 'train_on_gpu' is not defined"
          ]
        }
      ]
    }
  ]
}