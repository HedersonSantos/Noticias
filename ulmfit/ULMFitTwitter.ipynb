{
  "nbformat": 4,
  "nbformat_minor": 0,
  "metadata": {
    "accelerator": "GPU",
    "colab": {
      "name": "ULMFitTwitter.ipynb",
      "provenance": [],
      "collapsed_sections": [],
      "include_colab_link": true
    },
    "kernelspec": {
      "name": "python3",
      "display_name": "Python 3"
    },
    "language_info": {
      "codemirror_mode": {
        "name": "ipython",
        "version": 3
      },
      "file_extension": ".py",
      "mimetype": "text/x-python",
      "name": "python",
      "nbconvert_exporter": "python",
      "pygments_lexer": "ipython3",
      "version": "3.7.1"
    }
  },
  "cells": [
    {
      "cell_type": "markdown",
      "metadata": {
        "id": "view-in-github",
        "colab_type": "text"
      },
      "source": [
        "<a href=\"https://colab.research.google.com/github/HedersonSantos/Noticias/blob/main/ulmfit/ULMFitTwitter.ipynb\" target=\"_parent\"><img src=\"https://colab.research.google.com/assets/colab-badge.svg\" alt=\"Open In Colab\"/></a>"
      ]
    },
    {
      "cell_type": "code",
      "metadata": {
        "id": "r8YlohPcfjA8"
      },
      "source": [
        "#Montando o Encoder"
      ],
      "execution_count": null,
      "outputs": []
    },
    {
      "cell_type": "code",
      "metadata": {
        "id": "myxMluYVs9re"
      },
      "source": [
        "%reload_ext autoreload\n",
        "%autoreload 2\n",
        "%matplotlib inline\n",
        "\n",
        "from fastai import *\n",
        "from fastai.text import *\n",
        "import pandas as pd\n",
        "from pathlib import Path\n",
        "from datetime import datetime\n",
        "from google.colab import drive"
      ],
      "execution_count": null,
      "outputs": []
    },
    {
      "cell_type": "code",
      "metadata": {
        "id": "By569TiQfjBB",
        "colab": {
          "base_uri": "https://localhost:8080/",
          "height": 34
        },
        "outputId": "af36cc2f-316d-465b-b3ec-5e22afa40c93"
      },
      "source": [
        "train_on_gpu=torch.cuda.is_available()\n",
        "if(train_on_gpu):\n",
        "    print('Treinamento em GPU :-)')\n",
        "else:\n",
        "    print('Sem disponibilidade de GPU, usando CPU. :-(')\n"
      ],
      "execution_count": null,
      "outputs": [
        {
          "output_type": "stream",
          "text": [
            "Treinamento em GPU :-)\n"
          ],
          "name": "stdout"
        }
      ]
    },
    {
      "cell_type": "markdown",
      "metadata": {
        "id": "78r2uF3XfjBF"
      },
      "source": [
        "# Preparando os dados."
      ]
    },
    {
      "cell_type": "code",
      "metadata": {
        "id": "0RiOAWl0fjBG"
      },
      "source": [
        "#nos Correios\n",
        "#path = '/opt/app/jupyter/GDMT'\n",
        "#df = pd.read_csv('twitterUMLFit.csv')\n",
        "#df = df.sample(frac=0.5)\n",
        "#df.count()\n"
      ],
      "execution_count": null,
      "outputs": []
    },
    {
      "cell_type": "code",
      "metadata": {
        "id": "wdPUIm7rgvxO",
        "colab": {
          "base_uri": "https://localhost:8080/",
          "height": 309
        },
        "outputId": "6fb99fea-39b7-4d27-9f5a-e4e1da67fba1"
      },
      "source": [
        "#collab\n",
        "drive.mount('/gdrive')\n",
        "%cd /gdrive/My\\ Drive/Colab\\ Notebooks\n",
        "data_path ='twitterUMLFit.csv'\n",
        "df = pd.read_csv(data_path)\n",
        "print(df.count())\n",
        "path = '/gdrive/My Drive/Colab Notebooks/'\n"
      ],
      "execution_count": null,
      "outputs": [
        {
          "output_type": "stream",
          "text": [
            "Drive already mounted at /gdrive; to attempt to forcibly remount, call drive.mount(\"/gdrive\", force_remount=True).\n",
            "/gdrive/My Drive/Colab Notebooks\n"
          ],
          "name": "stdout"
        },
        {
          "output_type": "stream",
          "text": [
            "/usr/local/lib/python3.6/dist-packages/IPython/core/interactiveshell.py:2718: DtypeWarning: Columns (9) have mixed types. Specify dtype option on import or set low_memory=False.\n",
            "  interactivity=interactivity, compiler=compiler, result=result)\n"
          ],
          "name": "stderr"
        },
        {
          "output_type": "stream",
          "text": [
            "id_post                584513\n",
            "data_post              584513\n",
            "is_retweeted           584513\n",
            "latitude               584513\n",
            "longitude              584513\n",
            "referencia_pesquisa    584513\n",
            "retweet_count          584513\n",
            "login_usuario          584513\n",
            "mensagem               584513\n",
            "link                    63964\n",
            "kmeans                      0\n",
            "dtype: int64\n"
          ],
          "name": "stdout"
        }
      ]
    },
    {
      "cell_type": "code",
      "metadata": {
        "id": "IMbKNJIvvIiX",
        "colab": {
          "base_uri": "https://localhost:8080/",
          "height": 63
        },
        "outputId": "ff8abc3b-4932-4a35-f977-65dc12424bf8"
      },
      "source": [
        "%cd /gdrive/My\\ Drive/Colab\\ Notebooks/models\n",
        "!ls *.csv -la"
      ],
      "execution_count": null,
      "outputs": [
        {
          "output_type": "stream",
          "text": [
            "/gdrive/My Drive/Colab Notebooks/models\n",
            "ls: cannot access '*.csv': No such file or directory\n"
          ],
          "name": "stdout"
        }
      ]
    },
    {
      "cell_type": "code",
      "metadata": {
        "id": "32S0k0E5wuKy"
      },
      "source": [
        "#df.sample(frac = 0.3, random_state = 1234)\n",
        "#print(df.count())"
      ],
      "execution_count": null,
      "outputs": []
    },
    {
      "cell_type": "markdown",
      "metadata": {
        "id": "QDvVkjY3fjBQ"
      },
      "source": [
        "# Carregando os dados - montando o databunch"
      ]
    },
    {
      "cell_type": "code",
      "metadata": {
        "id": "2QCjZ4IYfjBR",
        "colab": {
          "base_uri": "https://localhost:8080/",
          "height": 283
        },
        "outputId": "8220f19d-ac17-47ca-e138-08e99a14ec7a"
      },
      "source": [
        "\n",
        "bs = 128\n",
        "lang = 'pt'\n",
        "data = (TextList.from_csv(path,'twitterUMLFit.csv', cols='mensagem')\n",
        "            .split_by_rand_pct(0.1, seed=42)\n",
        "            .label_for_lm()           \n",
        "            .databunch(bs=bs, num_workers=1))"
      ],
      "execution_count": null,
      "outputs": [
        {
          "output_type": "stream",
          "text": [
            "/usr/local/lib/python3.6/dist-packages/IPython/core/interactiveshell.py:2822: DtypeWarning: Columns (9) have mixed types. Specify dtype option on import or set low_memory=False.\n",
            "  if self.run_code(code, result):\n"
          ],
          "name": "stderr"
        },
        {
          "output_type": "display_data",
          "data": {
            "text/html": [
              ""
            ],
            "text/plain": [
              "<IPython.core.display.HTML object>"
            ]
          },
          "metadata": {
            "tags": []
          }
        },
        {
          "output_type": "display_data",
          "data": {
            "text/html": [
              ""
            ],
            "text/plain": [
              "<IPython.core.display.HTML object>"
            ]
          },
          "metadata": {
            "tags": []
          }
        }
      ]
    },
    {
      "cell_type": "code",
      "metadata": {
        "id": "b8U_dyHtvIVq"
      },
      "source": [
        ""
      ],
      "execution_count": null,
      "outputs": []
    },
    {
      "cell_type": "code",
      "metadata": {
        "id": "BUNmKnbxfjBU",
        "colab": {
          "base_uri": "https://localhost:8080/",
          "height": 34
        },
        "outputId": "8bd69fc2-4245-4bf5-e041-d5e6b404d275"
      },
      "source": [
        "data.save(f'{lang}_TWTdatabunch')\n",
        "len(data.vocab.itos),len(data.train_ds)"
      ],
      "execution_count": null,
      "outputs": [
        {
          "output_type": "execute_result",
          "data": {
            "text/plain": [
              "(60000, 526062)"
            ]
          },
          "metadata": {
            "tags": []
          },
          "execution_count": 8
        }
      ]
    },
    {
      "cell_type": "code",
      "metadata": {
        "id": "YmvWEW9bfjBX"
      },
      "source": [
        "bs = 128\n",
        "lang = 'pt'\n",
        "data = load_data(path, f'{lang}_TWTdatabunch', bs=bs)"
      ],
      "execution_count": null,
      "outputs": []
    },
    {
      "cell_type": "code",
      "metadata": {
        "id": "oXK6l9qDfjBa",
        "colab": {
          "base_uri": "https://localhost:8080/",
          "height": 323
        },
        "outputId": "c486bbb3-beae-41d8-fba9-e0f7147e8867"
      },
      "source": [
        "data.show_batch()"
      ],
      "execution_count": null,
      "outputs": [
        {
          "output_type": "display_data",
          "data": {
            "text/html": [
              "<table border=\"1\" class=\"dataframe\">\n",
              "  <thead>\n",
              "    <tr style=\"text-align: right;\">\n",
              "      <th>idx</th>\n",
              "      <th>text</th>\n",
              "    </tr>\n",
              "  </thead>\n",
              "  <tbody>\n",
              "    <tr>\n",
              "      <td>0</td>\n",
              "      <td>chega ao xxmaj brasil é independente … https : / / t.co / xxunk xxbos xxup r$ 9,90 \\n  xxmaj enviamos via xxmaj correios para todo o xxmaj brasil . \\n  - xxmaj caso esteja situado em xxmaj são xxmaj gonçalo ou regiões próximas , poderá … https : / / t.co / xxunk xxbos i 'm at xxmaj correios in xxmaj indaiatuba , xxmaj são xxmaj paulo</td>\n",
              "    </tr>\n",
              "    <tr>\n",
              "      <td>1</td>\n",
              "      <td>que depende dos xxmaj correios xxbos xxup meu xxup óculos xxup quebrou e os xxup correios xxup perdeu xxup minha xxup encomenda- xxup vlog \\n  https : / / t.co / vypoiqxivr xxbos xxunk xxmaj depende dos correios anjo . xxmaj normalmente de uma a duas semanas xxbos xxunk xxmaj vamo . xxmaj de correios xxbos amanhã eu tinha que sair pra resolver muita coisa mas vou ter que</td>\n",
              "    </tr>\n",
              "    <tr>\n",
              "      <td>2</td>\n",
              "      <td>/ t.co / xxunk xxbos xxmaj eu vou processar os correios se eu não achar minha encomenda , esses irresponsáveis nunca vi esse negócio de fazer … https : / / t.co / xxunk xxbos xxunk xxrep 4 a h xxup que xxup meu xxup convite xxup não xxup chegou xxup na xxup minha xxup caixinha xxup de xxup correios xxup ainda . xxup cadê xxbos xxunk xxunk xxmaj muito</td>\n",
              "    </tr>\n",
              "    <tr>\n",
              "      <td>3</td>\n",
              "      <td>várias cores pra o frete valer a pena , comprei 60 gramas de mica em pó … https : / / t.co / xxunk xxbos xxmaj com reestruturação dos xxmaj correios , cortes podem chegar a 20 mil . xxmaj presidente da estatal disse à xxmaj folha que número ideal … https : / / t.co / xxunk xxbos xxmaj correios passa por reestruturação e cortes podem chegar a 20</td>\n",
              "    </tr>\n",
              "    <tr>\n",
              "      <td>4</td>\n",
              "      <td>jadlog na lista de transportadora com entrega lixo igual a xxmaj total xxmaj express ... toda reclamação que já f … https : / / t.co / xxunk xxbos @roxmo @nirdop é uma parceria de vagabundos , alfândega e correios . xxmaj quando não tão de greve , tão de atestado médico . … https : / / t.co / xxunk xxbos @edupezz @rodrigo4334 @thyagojuliana @roxmo xxmaj portanto , no</td>\n",
              "    </tr>\n",
              "  </tbody>\n",
              "</table>"
            ],
            "text/plain": [
              "<IPython.core.display.HTML object>"
            ]
          },
          "metadata": {
            "tags": []
          }
        }
      ]
    },
    {
      "cell_type": "code",
      "metadata": {
        "id": "kn7c4p3imxw9"
      },
      "source": [
        ""
      ],
      "execution_count": null,
      "outputs": []
    },
    {
      "cell_type": "markdown",
      "metadata": {
        "id": "NzhBscBmfjBd"
      },
      "source": [
        "# Usando um modelo já treinado."
      ]
    },
    {
      "cell_type": "code",
      "metadata": {
        "id": "u66v1XoyfjBf"
      },
      "source": [
        "#o modelo foi treinado para o inglês. Como os dados estão em português, utilizaremos a flag pretrained = False\n",
        "#e rodaremos um ciclo de treinamento do modelo para o português.\n",
        "if not train_on_gpu:\n",
        "  learn = language_model_learner(data, AWD_LSTM, drop_mult=0.5, pretrained=False)#.to_fp16()\n",
        "else:\n",
        "  learn = language_model_learner(data, AWD_LSTM, drop_mult=0.5, pretrained=False).to_fp16()"
      ],
      "execution_count": null,
      "outputs": []
    },
    {
      "cell_type": "code",
      "metadata": {
        "id": "DPqXhM1cfjBh"
      },
      "source": [
        "lr = 1e-2 #manteremos o 0,01. Testei com 0,001 e o resultado não foi satisfatório (o caimento foi mais lento e a acurácia teve piora)."
      ],
      "execution_count": null,
      "outputs": []
    },
    {
      "cell_type": "code",
      "metadata": {
        "id": "bu1flbhmfjBl",
        "colab": {
          "base_uri": "https://localhost:8080/",
          "height": 250
        },
        "outputId": "906c1a5c-9450-4b36-f79f-fa7cd9458f67"
      },
      "source": [
        "inicio = datetime.now()\n",
        "learn.unfreeze() #como iremos treinar o modelo para definirmos novos parâmetros, liberarmos os parâmetros de treinamento para redefinição (descongelamento dos parâmetros de treinamento)\n",
        "learn.fit_one_cycle(11, lr, moms=(0.8,0.7)) \n",
        "print('duracao: ', datetime.now()-inicio)\n",
        "'''rodando para 11 iterações e lr = 1e-2\n",
        "\n",
        "0\t3.511818\t3.387745\t0.430466\t08:40\n",
        "1\t3.192427\t3.080928\t0.456455\t08:44\n",
        "2\t3.141455\t3.042238\t0.458198\t08:44\n",
        "3\t3.077677\t2.977442\t0.464996\t08:44\n",
        "4\t3.010370\t2.914681\t0.472557\t08:44\n",
        "5\t2.916011\t2.850265\t0.479905\t08:44\n",
        "6\t2.833328\t2.787559\t0.487808\t08:44\n",
        "7\t2.742976\t2.729383\t0.495477\t08:44\n",
        "8\t2.646871\t2.684921\t0.501621\t08:44\n",
        "9\t2.565699\t2.662056\t0.505357\t08:44\n",
        "10\t2.527627\t2.659061\t0.505916\t08:44\n",
        "\n",
        "Tempo: duracao:  1:36:05.089229 '''\n"
      ],
      "execution_count": null,
      "outputs": [
        {
          "output_type": "display_data",
          "data": {
            "text/html": [
              "\n",
              "    <div>\n",
              "        <style>\n",
              "            /* Turns off some styling */\n",
              "            progress {\n",
              "                /* gets rid of default border in Firefox and Opera. */\n",
              "                border: none;\n",
              "                /* Needs to be in here for Safari polyfill so background images work as expected. */\n",
              "                background-size: auto;\n",
              "            }\n",
              "            .progress-bar-interrupted, .progress-bar-interrupted::-webkit-progress-bar {\n",
              "                background: #F44336;\n",
              "            }\n",
              "        </style>\n",
              "      <progress value='5' class='' max='11', style='width:300px; height:20px; vertical-align: middle;'></progress>\n",
              "      45.45% [5/11 38:21<46:01]\n",
              "    </div>\n",
              "    \n",
              "<table border=\"1\" class=\"dataframe\">\n",
              "  <thead>\n",
              "    <tr style=\"text-align: left;\">\n",
              "      <th>epoch</th>\n",
              "      <th>train_loss</th>\n",
              "      <th>valid_loss</th>\n",
              "      <th>accuracy</th>\n",
              "      <th>time</th>\n",
              "    </tr>\n",
              "  </thead>\n",
              "  <tbody>\n",
              "    <tr>\n",
              "      <td>0</td>\n",
              "      <td>3.526235</td>\n",
              "      <td>3.395679</td>\n",
              "      <td>0.429953</td>\n",
              "      <td>07:37</td>\n",
              "    </tr>\n",
              "    <tr>\n",
              "      <td>1</td>\n",
              "      <td>3.183123</td>\n",
              "      <td>3.083472</td>\n",
              "      <td>0.456208</td>\n",
              "      <td>07:40</td>\n",
              "    </tr>\n",
              "    <tr>\n",
              "      <td>2</td>\n",
              "      <td>3.155166</td>\n",
              "      <td>3.046926</td>\n",
              "      <td>0.457276</td>\n",
              "      <td>07:40</td>\n",
              "    </tr>\n",
              "    <tr>\n",
              "      <td>3</td>\n",
              "      <td>3.086245</td>\n",
              "      <td>2.987351</td>\n",
              "      <td>0.463695</td>\n",
              "      <td>07:40</td>\n",
              "    </tr>\n",
              "    <tr>\n",
              "      <td>4</td>\n",
              "      <td>3.012007</td>\n",
              "      <td>2.918219</td>\n",
              "      <td>0.471969</td>\n",
              "      <td>07:41</td>\n",
              "    </tr>\n",
              "  </tbody>\n",
              "</table><p>\n",
              "\n",
              "    <div>\n",
              "        <style>\n",
              "            /* Turns off some styling */\n",
              "            progress {\n",
              "                /* gets rid of default border in Firefox and Opera. */\n",
              "                border: none;\n",
              "                /* Needs to be in here for Safari polyfill so background images work as expected. */\n",
              "                background-size: auto;\n",
              "            }\n",
              "            .progress-bar-interrupted, .progress-bar-interrupted::-webkit-progress-bar {\n",
              "                background: #F44336;\n",
              "            }\n",
              "        </style>\n",
              "      <progress value='1306' class='' max='1448', style='width:300px; height:20px; vertical-align: middle;'></progress>\n",
              "      90.19% [1306/1448 06:37<00:43 2.9272]\n",
              "    </div>\n",
              "    "
            ],
            "text/plain": [
              "<IPython.core.display.HTML object>"
            ]
          },
          "metadata": {
            "tags": []
          }
        }
      ]
    },
    {
      "cell_type": "code",
      "metadata": {
        "id": "QnGGypYgfjBo"
      },
      "source": [
        "#Salvando o modelo pre-treinado e o vocabulário (vocab) com as mensagens do twitter."
      ],
      "execution_count": null,
      "outputs": []
    },
    {
      "cell_type": "code",
      "metadata": {
        "id": "TeISkQx4fjBq"
      },
      "source": [
        "lm_fns = [f'{lang}_TWT_wt', f'{lang}_TWT_wt_vocab']\n",
        "pathlms = Path(path+'/models')\n",
        "learn.to_fp32().save(pathlms/lm_fns[0], with_opt=False)\n",
        "learn.data.vocab.save(pathlms/(lm_fns[1] + '.pkl'))\n"
      ],
      "execution_count": null,
      "outputs": []
    },
    {
      "cell_type": "code",
      "metadata": {
        "id": "HSBFzdQoIgwT"
      },
      "source": [
        "#ENCODER"
      ],
      "execution_count": null,
      "outputs": []
    },
    {
      "cell_type": "code",
      "metadata": {
        "id": "Ai0_mmLGoo5A"
      },
      "source": [
        "#%cd /gdrive/My\\ Drive/Colab\\ Notebooks\n",
        "train_df = pd.read_csv('twitterclusterizado2.csv')\n",
        "test_df = pd.read_csv('tweetssetembro.csv')\n",
        "df = pd.concat([train_df,test_df], sort=False)"
      ],
      "execution_count": null,
      "outputs": []
    },
    {
      "cell_type": "code",
      "metadata": {
        "id": "7j6C90zXIS1C"
      },
      "source": [
        "bs= 128\n",
        "data_lm = (TextList.from_df(df, path, cols='mensagem')\n",
        "    .split_by_rand_pct(0.1, seed=42)\n",
        "    .label_for_lm()           \n",
        "    .databunch(bs=bs, num_workers=1))\n"
      ],
      "execution_count": null,
      "outputs": []
    },
    {
      "cell_type": "code",
      "metadata": {
        "id": "_RgaKO0iRhnw"
      },
      "source": [
        "data_lm.save(f'{lang}_twt_lm')"
      ],
      "execution_count": null,
      "outputs": []
    },
    {
      "cell_type": "code",
      "metadata": {
        "id": "xpAwIAsfKcCu"
      },
      "source": [
        "lang='pt'\n",
        "lm_fns = [f'{lang}_TWT_wt', f'{lang}_TWT_wt_vocab']\n",
        "\n",
        "learn_lm = language_model_learner(data_lm, AWD_LSTM, pretrained_fnames=lm_fns, drop_mult=1.0)"
      ],
      "execution_count": null,
      "outputs": []
    },
    {
      "cell_type": "code",
      "metadata": {
        "id": "3n6fqWdHKgX_"
      },
      "source": [
        "lr = 1e-3\n",
        "lr *= bs/48"
      ],
      "execution_count": null,
      "outputs": []
    },
    {
      "cell_type": "code",
      "metadata": {
        "id": "qdIW0tGHLB89"
      },
      "source": [
        "learn_lm.fit_one_cycle(2, lr*10, moms=(0.8,0.7))"
      ],
      "execution_count": null,
      "outputs": []
    },
    {
      "cell_type": "code",
      "metadata": {
        "id": "NfFlenyQLEzt"
      },
      "source": [
        "learn_lm.unfreeze()\n",
        "learn_lm.fit_one_cycle(8, lr, moms=(0.8,0.7))"
      ],
      "execution_count": null,
      "outputs": []
    },
    {
      "cell_type": "code",
      "metadata": {
        "id": "D1ic_UATMkGZ"
      },
      "source": [
        "pathlms = Path(path+'/models')\n",
        "learn_lm.save(pathlms/f'{lang}_TWT_fine_tuned')\n",
        "learn_lm.save_encoder(pathlms/f'{lang}_TWT_fine_tuned_enc')"
      ],
      "execution_count": null,
      "outputs": []
    },
    {
      "cell_type": "code",
      "metadata": {
        "id": "7FyPfb5hPciD"
      },
      "source": [
        ""
      ],
      "execution_count": null,
      "outputs": []
    }
  ]
}