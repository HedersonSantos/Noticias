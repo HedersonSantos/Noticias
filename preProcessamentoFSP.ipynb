{
  "nbformat": 4,
  "nbformat_minor": 0,
  "metadata": {
    "colab": {
      "name": "preProcessamentoFSP.ipynb",
      "provenance": [],
      "authorship_tag": "ABX9TyMeXS4VRgPheAV2se/05hF4",
      "include_colab_link": true
    },
    "kernelspec": {
      "name": "python3",
      "display_name": "Python 3"
    },
    "language_info": {
      "name": "python"
    }
  },
  "cells": [
    {
      "cell_type": "markdown",
      "metadata": {
        "id": "view-in-github",
        "colab_type": "text"
      },
      "source": [
        "<a href=\"https://colab.research.google.com/github/HedersonSantos/Noticias/blob/main/preProcessamentoFSP.ipynb\" target=\"_parent\"><img src=\"https://colab.research.google.com/assets/colab-badge.svg\" alt=\"Open In Colab\"/></a>"
      ]
    },
    {
      "cell_type": "code",
      "metadata": {
        "id": "Q07HsC2GS8NZ"
      },
      "source": [
        "import pandas as pd\n",
        "import numpy as np\n",
        "from google.colab import files, drive\n",
        "from pathlib import Path\n",
        "from sklearn.model_selection import train_test_split\n",
        "import io\n",
        "pd.set_option('display.max_columns', None)\n",
        "pd.set_option('display.max_rows', None)\n",
        "pd.set_option('max_colwidth', None)"
      ],
      "execution_count": 1,
      "outputs": []
    },
    {
      "cell_type": "markdown",
      "metadata": {
        "id": "ht1KhOAqTcz6"
      },
      "source": [
        "### Montando Google Driver e abrindo arquivos de noticias"
      ]
    },
    {
      "cell_type": "markdown",
      "metadata": {
        "id": "EMhQp7LQfU1q"
      },
      "source": [
        "o arquivo articles.csv contém 167053 noticias da Folha de São Paulo. Este dataset está disponível em .... <br>\n",
        "O arquivo news.csv contém xxx noticias extraídos dos sites UOL, G1, GoogleNews, Poder360 através de web scrapping cujo algoritmo foi montado por nós."
      ]
    },
    {
      "cell_type": "code",
      "metadata": {
        "colab": {
          "base_uri": "https://localhost:8080/"
        },
        "id": "SA5KAl6MTN5z",
        "outputId": "edd55353-19e2-4617-9e23-9832da299df2"
      },
      "source": [
        "drive.mount('/gdrive')\n",
        "%cd /gdrive/My\\ Drive/Colab\\ Notebooks/nlp_tcc\n",
        "path = '/gdrive/My Drive/Colab Notebooks/nlp_tcc'\n",
        "KEY='4/1AX4XfWjO8LFULyUVA2hr76Ekj281Rn58ieVYw_BkgE4HYvy9Lf8PJ1W3aOQ'"
      ],
      "execution_count": 14,
      "outputs": [
        {
          "output_type": "stream",
          "text": [
            "Drive already mounted at /gdrive; to attempt to forcibly remount, call drive.mount(\"/gdrive\", force_remount=True).\n",
            "/gdrive/My Drive/Colab Notebooks/nlp_tcc\n"
          ],
          "name": "stdout"
        }
      ]
    },
    {
      "cell_type": "code",
      "metadata": {
        "id": "7MNdNYYYTybp"
      },
      "source": [
        "#!unzip noticiasFSP.zip\n",
        "#!ls *.csv\n"
      ],
      "execution_count": 29,
      "outputs": []
    },
    {
      "cell_type": "code",
      "metadata": {
        "colab": {
          "base_uri": "https://localhost:8080/"
        },
        "id": "z7s92YzMepOX",
        "outputId": "be0d615f-e118-4c97-cfa2-3c74baf13e8a"
      },
      "source": [
        "!ls *.csv -lh"
      ],
      "execution_count": 24,
      "outputs": [
        {
          "output_type": "stream",
          "text": [
            "-rw------- 1 root root 481M Sep 21  2019 articles.csv\n",
            "-rw------- 1 root root  93M Jul 24 15:58 news.csv\n",
            "-rw------- 1 root root  93M Jul 24 15:42 noticia_tratada.csv\n"
          ],
          "name": "stdout"
        }
      ]
    },
    {
      "cell_type": "markdown",
      "metadata": {
        "id": "tOGwdFrQhbNe"
      },
      "source": [
        "**Conjunto de Notícias da Folha de São Paulo**"
      ]
    },
    {
      "cell_type": "code",
      "metadata": {
        "colab": {
          "base_uri": "https://localhost:8080/"
        },
        "id": "5uxjH-YneHXp",
        "outputId": "95ea6c0a-80e9-4a8d-8510-f00049da5512"
      },
      "source": [
        "dfFSP = pd.read_csv('articles.csv', header=0)\n",
        "print(dfFSP.columns)\n",
        "dfFSP.shape"
      ],
      "execution_count": 21,
      "outputs": [
        {
          "output_type": "stream",
          "text": [
            "Index(['title', 'text', 'date', 'category', 'subcategory', 'link'], dtype='object')\n"
          ],
          "name": "stdout"
        },
        {
          "output_type": "execute_result",
          "data": {
            "text/plain": [
              "(167053, 6)"
            ]
          },
          "metadata": {
            "tags": []
          },
          "execution_count": 21
        }
      ]
    },
    {
      "cell_type": "code",
      "metadata": {
        "colab": {
          "base_uri": "https://localhost:8080/",
          "height": 1000
        },
        "id": "Q1PdhjppebTH",
        "outputId": "a8366f4a-04c1-41fc-e6c6-449f599bdf89"
      },
      "source": [
        "dfFSP.head()"
      ],
      "execution_count": 22,
      "outputs": [
        {
          "output_type": "execute_result",
          "data": {
            "text/html": [
              "<div>\n",
              "<style scoped>\n",
              "    .dataframe tbody tr th:only-of-type {\n",
              "        vertical-align: middle;\n",
              "    }\n",
              "\n",
              "    .dataframe tbody tr th {\n",
              "        vertical-align: top;\n",
              "    }\n",
              "\n",
              "    .dataframe thead th {\n",
              "        text-align: right;\n",
              "    }\n",
              "</style>\n",
              "<table border=\"1\" class=\"dataframe\">\n",
              "  <thead>\n",
              "    <tr style=\"text-align: right;\">\n",
              "      <th></th>\n",
              "      <th>title</th>\n",
              "      <th>text</th>\n",
              "      <th>date</th>\n",
              "      <th>category</th>\n",
              "      <th>subcategory</th>\n",
              "      <th>link</th>\n",
              "    </tr>\n",
              "  </thead>\n",
              "  <tbody>\n",
              "    <tr>\n",
              "      <th>0</th>\n",
              "      <td>Lula diz que está 'lascado', mas que ainda tem força como cabo eleitoral</td>\n",
              "      <td>Com a possibilidade de uma condenação impedir sua candidatura em 2018, o ex-presidente Luiz Inácio Lula da Silva fez, nesta segunda (9), um discurso inflamado contra a Lava Jato, no qual disse saber que está \"lascado\", exigiu um pedido de desculpas do juiz Sergio Moro e afirmou que, mesmo fora da disputa pelo Planalto, será um cabo eleitoral expressivo para a sucessão de Michel Temer.  Segundo o petista, réu em sete ações penais, o objetivo de Moro é impedir sua candidatura no ano que vem, desidratando-o, inclusive, no apoio a um nome alternativo, como o do ex-prefeito de São Paulo Fernando Haddad (PT), caso ele não possa concorrer à Presidência.  \"Eu sei que tô lascado, todo dia tem um processo. Eu não quero nem que Moro me absolva, eu só quero que ele peça desculpas\", disse Lula durante um seminário sobre educação em Brasília. \"Eles [investigadores] chegam a dizer: 'Ah, se o Lula não for candidato, ele não vai ter força como cabo eleitoral'. Testem\", completou o petista.  Para o ex-presidente, Moro usou \"mentiras contadas pela Polícia Federal e pelo Ministério Público\" para julgá-lo e condená-lo a nove anos e seis meses de prisão pelo caso do tríplex em Guarujá (SP).  O ex-presidente disse ainda não ter \"medo\" dos investigadores que, de acordo com ele, estão acostumados a \"mexer com deputados e senadores\" que temem as apurações.  \"Eu quero que eles saibam o seguinte: se eles estão acostumados a lidar com deputado que tem medo deles, a mexer com senadores que têm medo deles, quero dizer que tenho respeito profundo por quem me respeita, pelas leis que nós ajudamos a criar, mas não tenho respeito por quem não me respeita e eles não me respeitaram\", afirmou o petista.    De acordo com aliados, Lula não gosta de discutir, mesmo que nos bastidores, a chance de não ser candidato ao Planalto e a projeção do nome de Haddad como plano B do PT tem incomodado os mais próximos ao ex-presidente. O ex-prefeito, que estava no evento nesta segunda, fez um discurso rápido, de menos de dez minutos, em que encerrou dizendo esperar que Lula assuma a Presidência em 2019.  \"Espero que dia 1º de janeiro de 2019 esse pesadelo chamado Temer acabe e o senhor assuma a Presidência da República\", disse Haddad.  'DEMÔNIO DO MERCADO'  Lula voltou a fazer um discurso mais agressivo em relação ao mercado e disse que \"não tem cara de demônio\", mas quer que o respeitem \"como se fosse\".  \"Não tenho cara de demônio, mas quero que eles me respeitem como se eu fosse, porque eles sabem que a economia não vai ficar subordinada ao elitismo da sociedade brasileira\", disse o ex-presidente.  O petista rivalizou ainda com o deputado Jair Bolsonaro (PSC-RJ), segundo colocado nas últimas pesquisas empatado com Marina Silva, e disse que se ele \"agrada ao mercado\", o PT tem que \"desagradar\".  A Folha publicou nesta segunda (9) reportagem em que mostrou que o deputado ensaia movimento ao centro no debate econômico, adotando um discurso simpático aos investidores do mercado financeiro.</td>\n",
              "      <td>2017-09-10</td>\n",
              "      <td>poder</td>\n",
              "      <td>NaN</td>\n",
              "      <td>http://www1.folha.uol.com.br/poder/2017/10/1925743-lula-diz-que-esta-lascado-mas-que-ainda-tem-forca-como-cabo-eleitoral.shtml</td>\n",
              "    </tr>\n",
              "    <tr>\n",
              "      <th>1</th>\n",
              "      <td>'Decidi ser escrava das mulheres que sofrem', diz cantora Oumou Sangaré</td>\n",
              "      <td>Para Oumou Sangaré, cantora e ativista malinesa, o sofrimento da mulher é universal. \"Canto com todas as minhas forças e vejo mulheres chorando ao meu redor\", disse durante um encontro na Casa da Cultura de Paraty, no Rio de Janeiro, neste domingo (8).  Herdeira da tradição musical de sua família –sua avó foi uma \"grande estrela\" do país africano–, ela conta que começou a cantar na rua para ajudar nas finanças de casa após o divórcio dos pais, que deixou seis filhos dependentes de sua mãe, também cantora.  \"Eu vi uma mulher que sofria para se defender sozinha e alimentar os filhos e às vezes isso era muito duro, tinha dias em que ela se retirava no quarto para chorar\", recorda.  Ela conta que o desejo de fazer a mãe feliz a incentivou, inclusive, a abandonar os estudos para se dedicar à música. Ainda que seu canto fosse as dores da matriarca, Sangaré conta ter percebido que as mulheres que a ouviam também se viam decifradas nele.  \"Quando uma mulher dá à luz, ela está entre a vida e a morte, mas ela o faz para que o mundo engrandeça, por que esse mesmo mundo não pode encarar os problemas dela?\", questiona. \"É por isso que decidi ser escrava de todas as mulheres que sofrem.\"  Sangaré, que se diz uma \"muçulmana relax\", tornou-se uma notória ativista na luta pela igualdade de gêneros, batalhando contra a circuncisão feminina e o casamento e a poligamia compulsórios –sem contar seu trabalho com a ONU pela erradicação da fome em países africanos.  Com o discurso de empoderamento pelo trabalho –\"desenvolvam-se e sejam úteis para sua família e seu país\", ela repete com frequência–, resolveu dar o exemplo, criando uma rede hoteleira e uma concessionária de carros e plantando milho, cebola e laranja.  Os aspectos que moldaram a história de Sangaré estão impressos nos títulos de seus álbuns. Além do que leva o seu nome, \"Moussolou\", o de estreia, significa \"mulher\"; \"Ko Sira\", \"o casamento de hoje\"; \"Worotan\", \"preço por uma noiva\"; \"Seya\", \"alegria\"; \"Kounadia\", \"a boa estrela\".  TRADIÇÃO SONORA  Foi o mais recente, \"Mogoya\" (as pessoas da atualidade), que a cantora apresentou em Paraty, neste sábado (7), como parte da programação do Mimo Festival –o evento, gratuito, reuniu cerca de 25 mil pessoas com suas atrações gratuitas durante o fim de semana.  Com letras em bambara, um dos diversos idiomas de Mali, Sangaré se consagrou como ícone do wassoulou, estilo musical derivado do folclore de uma região homônima da África Ocidental.  No repertório que trouxe para cá, ela mistura o ritmo com batidas eletrônicas e conta que a atualização tinha como intuito atingir novas gerações e público do mercado global.  A cantora mostrou a potência de sua voz, amparada por uma banda parte africana e parte europeia que incluía um kamale ngoni –instrumento típico do wassoulou semelhante a um berimbau e moldado com uma cabaça– e uma dupla de backing vocals hipnotizantes.</td>\n",
              "      <td>2017-09-10</td>\n",
              "      <td>ilustrada</td>\n",
              "      <td>NaN</td>\n",
              "      <td>http://www1.folha.uol.com.br/ilustrada/2017/10/1925745-decidi-ser-escrava-das-mulheres-que-sofrem-diz-cantora-oumou-sangare.shtml</td>\n",
              "    </tr>\n",
              "    <tr>\n",
              "      <th>2</th>\n",
              "      <td>Três reportagens da Folha ganham Prêmio Petrobras de Jornalismo</td>\n",
              "      <td>Três reportagens da Folha foram vencedoras do Prêmio Petrobras de Jornalismo, anunciado na noite desta segunda-feira (9).  O jornal ganhou a premiação nas categorias Economia, com a criação do REM-F (Ranking de Eficiência dos Municípios-Folha), Regional SP-Sul, com uma série de reportagens sobre dados sigilosos do governo Geraldo Alckmin (PSDB), e Ciência e Tecnologia, com o especial \"Tudo sobre o mosquito\".  A vencedora do Grande Prêmio foi a reportagem \"Terra bruta - Pistolagem, devastação e morte no coração do Brasil\", do jornal \"O Estado de S. Paulo\".  Criado em 2013, o Prêmio Petrobras de Jornalismo está em sua quarta edição. Ele teve neste ano 11 categorias nacionais e regionais, além de dois prêmios especiais. Nenhuma das categorias é voltada especificamente às reportagens sobre política.  DOCUMENTOS SECRETOS DE ALCKMIN  Vencedora na categoria Regional SP-Sul, a série de investigações publicadas pela Folha em outubro de 2015 revelou que a gestão Alckmin havia tornado sigilosas centenas de informações do transporte público metropolitano. O trabalho é de autoria dos repórteres Artur Rodrigues, André Monteiro e Fabricio Lobel.  A classificação das informações impossibilitava a consulta pública de 157 documentos num prazo de 25 anos. A população não poderia ter acesso a relatórios que explicassem, por exemplo, os motivos exatos de atrasos em obras de linhas e estações. À época, como atualmente, todas as linhas em expansão do Metrô de São Paulo e da CPTM estavam atrasadas.  A reportagem motivou a abertura de uma investigação pelo Ministério Público e o pedido de explicações pelo Tribunal de Contas do Estado. Dois dias após a publicação do material pelo jornal, o governo paulista revogou os decretos de sigilo e se comprometeu a revisar todos os termos semelhantes impostos até então.  Após a decisão, as reportagens identificaram outras áreas da gestão Alckmin em que também havia sido imposto o sigilo de informação. Entre elas estavam dados sobre procedimentos e projetos técnicos e operacionais do abastecimento de água de São Paulo, além de dados da Polícia Militar e da Administração Penitenciária.  RANKING DE EFICIÊNCIA DOS MUNICÍPIOS  O Ranking de Eficiência dos Municípios-Folha (REM-F), projeto publicado em agosto de 2016, antes das eleições municipais, trouxe uma ferramenta virtual, criada em conjunto com o Datafolha, que mostra quais prefeituras entregam mais serviços básicos à população usando menor volume de recursos financeiros.  O ranking, com participação de Alessandro Janoni, Fernando Canzian, Marcelo Soares, Mario Kanno e Renata Nunes, leva em conta indicadores de saúde, educação e saneamento para calcular a eficiência da gestão em relação à sua receita disponível. Foram avaliados 5.281 municípios, ou 95% do total de 5.569 existentes no Brasil.  Além do índice, o projeto também incluiu visitas a 16 cidades brasileiras, de diferentes regiões e níveis de eficiência apurados pelo ranking.  O MOSQUITO  Coordenado pelos jornalistas Marcelo Leite e Mariana Versolato, o pacote de reportagens sobre o mosquito Aedes aegypti foi publicado em dezembro de 2016, em meio à crise do vírus da zika. Com participação de uma equipe de 21 profissionais, tem também entre seus autores os jornalistas Cláudia Collucci, Lalo de Almeida, Patricia Campos Mello, Reinaldo José Lopes e Gabriel Alves.  O material contém textos sobre diferentes aspectos da questão que comoveu o Brasil e o mundo, chegando a ser declarada como uma emergência internacional pela Organização Mundial da Saúde.  O primeiro capítulo \"O vírus da zika\" é o resultado de uma viagem ao berço da doença, o continente africano, com visitas ao Senegal e a Uganda, onde fica a floresta Zika, que deu nome ao vírus.  Em seguida, o material traz relatos sobre mães e seus filhos e filhas, que nasceram com microcefalia. A reportagem explicita os percalços de quem não tinha muita informação do que fazer naquele momento tão crítico.  O especial ainda discute o impacto da doença nos EUA e as novidades no combate ao mosquito Aedes aegypti e à doença propriamente dita.</td>\n",
              "      <td>2017-09-10</td>\n",
              "      <td>poder</td>\n",
              "      <td>NaN</td>\n",
              "      <td>http://www1.folha.uol.com.br/poder/2017/10/1925789-tres-reportagens-da-folha-ganham-premio-petrobras-de-jornalismo.shtml</td>\n",
              "    </tr>\n",
              "    <tr>\n",
              "      <th>3</th>\n",
              "      <td>Filme 'Star Wars: Os Últimos Jedi' ganha trailer definitivo; assista</td>\n",
              "      <td>A Disney divulgou na noite desta segunda-feira (9) o novo trailer de \"Star Wars: Os Últimos Jedi\", oitavo episódio da saga.  O trailer era aguardado pelos fãs e se tornou um dos tópicos mais comentados no Twitter no horário de seu lançamento.  Assista ao trailer de 'Os Últimos Jedi'  Assista ao trailer de 'Os Últimos Jedi'  Em \"O Despertar da Força\" (2015), episódio mais recente, a personagem Rey (Daisy Ridley) descobre que tem a Força e procura por Luke Skywalker (Mark Hamill) para começar seu treinamento Jedi.  A história do novo episódio continua desse ponto, e cenas do trailer mostram a relação entre Rey e Skywalker.  Com direção de Rian Johnson, o filme será lançado em 14 de dezembro no Brasil. O nono episódio, ainda sem título, encerra a nova trilogia em 20 de dezembro de 2019.  O estúdio também divulgou novo poster do filme.  Poster</td>\n",
              "      <td>2017-09-10</td>\n",
              "      <td>ilustrada</td>\n",
              "      <td>NaN</td>\n",
              "      <td>http://www1.folha.uol.com.br/ilustrada/2017/10/1925733-filme-star-wars-os-ultimos-jedi-ganha-trailer-definitivo-assista.shtml</td>\n",
              "    </tr>\n",
              "    <tr>\n",
              "      <th>4</th>\n",
              "      <td>CBSS inicia acordos com fintechs e quer 30% do crédito digital em 2018</td>\n",
              "      <td>O CBSS, banco da holding Elopar dos sócios Bradesco e Banco do Brasil, está fazendo parcerias com fintechs, prevendo em 2018 alcançar 30% de um mercado de rápido crescimento e que já empresta mais de R$ 1 bilhão por ano.  Inicialmente, os acordos usarão o modelo mais praticado no mercado, com fintechs captando pedidos de empréstimos e filtrando o perfil de risco dos tomadores, operação conhecida no jargão do mercado como \"lead\" e pela qual as fintechs são remuneradas, quase sempre por bancos de médio porte e cooperativas de crédito, que de fato concedem os financiamentos.  \"Nós temos funding competitivo e em boa quantidade e as fintechs conseguem originar crédito com um custo muito menor do que faríamos por meios físicos\", disse à Reuters o presidente do Banco CBSS, Carlos Giovane.  A primeira parceria é com a Bom Pra Crédito, marketplace no qual cerca de 500 mil interessados em tomar empréstimo pessoal submetem todo mês pedidos que são distribuídos para cerca de 25 bancos oferecerem propostas.  Além desse acordo, já em andamento, negociações estão em curso com outras quatro fintechs especializadas em crédito: Guia Bolso, Lendico, Finanzero e Wecash, previstas para estarem operacionais ainda em 2017.  O movimento marca a primeira aproximação operacional, mesmo que de forma indireta, de grandes bancos com fintechs, que nos últimos dois anos emergiram como potenciais rivais no crédito pessoal, ao oferecerem taxas de juros muito menores do que as praticadas no sistema financeiro.  Segundo o presidente da Bom Pra Crédito, Ricardo Kalichsztein, ser parceiro é melhor.  O CBSS, no caso, oferecerá empréstimos pessoais sem garantia com taxas a partir de 3,9% ao mês. A taxa média do sistema financeiro foi de 7,2% ao mês, segundo dados do Banco Central referentes a agosto.  A iniciativa acontece em meio a uma audiência pública aberta pelo Banco Central para regulamentar a atuação das plataformas digitais de crédito. A proposta do BC é classificar essas fintechs em duas categorias, a que empresta com capital dos próprios acionistas e a que conecta investidores a tomadores de recursos, prática conhecida como peer to peer lending.  Na avaliação de especialistas do setor, dependendo da forma como vier a regulação, o modelo atual de parcerias pode ser esvaziado, uma vez que bancos podem preferir ter plataformas digitais próprias, enquanto algumas fintechs poderiam ter um braço financeiro para operar de ponta a ponta.  \"As fintechs começarão a se perguntar se vale a pena virar banco\", disse Rubens Vidigal Neto, sócio do PVG Advogados.  Atento a esse movimento, o CBSS já visualiza aprofundar a aproximação com as fintechs. Num primeiro momento, as conversas envolvem proposta de remuneração mais atrativa, na qual o banco pode repassar às parceiras mais do que apenas um valor pela originação de negócios.  Mas com pelo menos uma delas as conversas já evoluíram para participação societária.  \"Estamos em negociações finais para sermos sócios de uma delas (fintech)\", disse Giovane, sem dar mais detalhes.  A entrada do CBSS no crédito digital é motivada, dentre outros fatores, pelo interesse dos sócios em acelerar a rentabilização do negócio, disse o executivo.  Após ter obtido as aprovações do Banco Central no ano passado para atuar como banco, o CBSS vem deslanchando uma série de iniciativas para vender produtos financeiros, incluindo por meio da financeira Ibi, de parcerias com redes varejistas e o lançamento de um plataforma digital própria de cartão de crédito, a Digio.  Essa plataforma começa a operar ainda este mês um marketplace, inclusive com produtos como os da Apple Store. A partir de novembro, a Digio incluirá oferta de crédito pessoal.  Todas essas frentes consumiram investimentos que levam mais tempo para dar retorno. O banco, que tinha patrimônio de R$ 410 milhões em junho, já opera no azul desde o mês passado, mas o plano é começar a ter lucro.  \"As parcerias com as fintechs no crédito são um negócio que permite retorno quase imediato\", disse Giovane.</td>\n",
              "      <td>2017-09-10</td>\n",
              "      <td>mercado</td>\n",
              "      <td>NaN</td>\n",
              "      <td>http://www1.folha.uol.com.br/mercado/2017/10/1925723-cbss-inicia-acordos-com-fintechs-e-quer-30-do-credito-digital-em-2018.shtml</td>\n",
              "    </tr>\n",
              "  </tbody>\n",
              "</table>\n",
              "</div>"
            ],
            "text/plain": [
              "                                                                      title  \\\n",
              "0  Lula diz que está 'lascado', mas que ainda tem força como cabo eleitoral   \n",
              "1   'Decidi ser escrava das mulheres que sofrem', diz cantora Oumou Sangaré   \n",
              "2           Três reportagens da Folha ganham Prêmio Petrobras de Jornalismo   \n",
              "3      Filme 'Star Wars: Os Últimos Jedi' ganha trailer definitivo; assista   \n",
              "4    CBSS inicia acordos com fintechs e quer 30% do crédito digital em 2018   \n",
              "\n",
              "                                                                                                                                                                                                                                                                                                                                                                                                                                                                                                                                                                                                                                                                                                                                                                                                                                                                                                                                                                                                                                                                                                                                                                                                                                                                                                                                                                                                                                                                                                                                                                                                                                                                                                                                                                                                                                                                                                                                                                                                                                                                                                                                                                                                                                                                                                                                                                                                                                                                                                                                                                                                                                                                                                                                                                                                                                                                                                                                                                                                                                                                                                                                                                                                                                                                                                                                                                                                                                                                                                                                                                                                                                                                                                                                                                                                                                                                                                                                                                                                                                                                                                                                                                                                                                             text  \\\n",
              "0                                                                                                                                                                                                                                                                                                                                                                                                                                                                                                                                                                                                                                                                                                                                                                                                                                                                                                                                                                                                                                                                                                                                   Com a possibilidade de uma condenação impedir sua candidatura em 2018, o ex-presidente Luiz Inácio Lula da Silva fez, nesta segunda (9), um discurso inflamado contra a Lava Jato, no qual disse saber que está \"lascado\", exigiu um pedido de desculpas do juiz Sergio Moro e afirmou que, mesmo fora da disputa pelo Planalto, será um cabo eleitoral expressivo para a sucessão de Michel Temer.  Segundo o petista, réu em sete ações penais, o objetivo de Moro é impedir sua candidatura no ano que vem, desidratando-o, inclusive, no apoio a um nome alternativo, como o do ex-prefeito de São Paulo Fernando Haddad (PT), caso ele não possa concorrer à Presidência.  \"Eu sei que tô lascado, todo dia tem um processo. Eu não quero nem que Moro me absolva, eu só quero que ele peça desculpas\", disse Lula durante um seminário sobre educação em Brasília. \"Eles [investigadores] chegam a dizer: 'Ah, se o Lula não for candidato, ele não vai ter força como cabo eleitoral'. Testem\", completou o petista.  Para o ex-presidente, Moro usou \"mentiras contadas pela Polícia Federal e pelo Ministério Público\" para julgá-lo e condená-lo a nove anos e seis meses de prisão pelo caso do tríplex em Guarujá (SP).  O ex-presidente disse ainda não ter \"medo\" dos investigadores que, de acordo com ele, estão acostumados a \"mexer com deputados e senadores\" que temem as apurações.  \"Eu quero que eles saibam o seguinte: se eles estão acostumados a lidar com deputado que tem medo deles, a mexer com senadores que têm medo deles, quero dizer que tenho respeito profundo por quem me respeita, pelas leis que nós ajudamos a criar, mas não tenho respeito por quem não me respeita e eles não me respeitaram\", afirmou o petista.    De acordo com aliados, Lula não gosta de discutir, mesmo que nos bastidores, a chance de não ser candidato ao Planalto e a projeção do nome de Haddad como plano B do PT tem incomodado os mais próximos ao ex-presidente. O ex-prefeito, que estava no evento nesta segunda, fez um discurso rápido, de menos de dez minutos, em que encerrou dizendo esperar que Lula assuma a Presidência em 2019.  \"Espero que dia 1º de janeiro de 2019 esse pesadelo chamado Temer acabe e o senhor assuma a Presidência da República\", disse Haddad.  'DEMÔNIO DO MERCADO'  Lula voltou a fazer um discurso mais agressivo em relação ao mercado e disse que \"não tem cara de demônio\", mas quer que o respeitem \"como se fosse\".  \"Não tenho cara de demônio, mas quero que eles me respeitem como se eu fosse, porque eles sabem que a economia não vai ficar subordinada ao elitismo da sociedade brasileira\", disse o ex-presidente.  O petista rivalizou ainda com o deputado Jair Bolsonaro (PSC-RJ), segundo colocado nas últimas pesquisas empatado com Marina Silva, e disse que se ele \"agrada ao mercado\", o PT tem que \"desagradar\".  A Folha publicou nesta segunda (9) reportagem em que mostrou que o deputado ensaia movimento ao centro no debate econômico, adotando um discurso simpático aos investidores do mercado financeiro.   \n",
              "1                                                                                                                                                                                                                                                                                                                                                                                                                                                                                                                                                                                                                                                                                                                                                                                                                                                                                                                                                                                                                                                                                                                                                                                                                                  Para Oumou Sangaré, cantora e ativista malinesa, o sofrimento da mulher é universal. \"Canto com todas as minhas forças e vejo mulheres chorando ao meu redor\", disse durante um encontro na Casa da Cultura de Paraty, no Rio de Janeiro, neste domingo (8).  Herdeira da tradição musical de sua família –sua avó foi uma \"grande estrela\" do país africano–, ela conta que começou a cantar na rua para ajudar nas finanças de casa após o divórcio dos pais, que deixou seis filhos dependentes de sua mãe, também cantora.  \"Eu vi uma mulher que sofria para se defender sozinha e alimentar os filhos e às vezes isso era muito duro, tinha dias em que ela se retirava no quarto para chorar\", recorda.  Ela conta que o desejo de fazer a mãe feliz a incentivou, inclusive, a abandonar os estudos para se dedicar à música. Ainda que seu canto fosse as dores da matriarca, Sangaré conta ter percebido que as mulheres que a ouviam também se viam decifradas nele.  \"Quando uma mulher dá à luz, ela está entre a vida e a morte, mas ela o faz para que o mundo engrandeça, por que esse mesmo mundo não pode encarar os problemas dela?\", questiona. \"É por isso que decidi ser escrava de todas as mulheres que sofrem.\"  Sangaré, que se diz uma \"muçulmana relax\", tornou-se uma notória ativista na luta pela igualdade de gêneros, batalhando contra a circuncisão feminina e o casamento e a poligamia compulsórios –sem contar seu trabalho com a ONU pela erradicação da fome em países africanos.  Com o discurso de empoderamento pelo trabalho –\"desenvolvam-se e sejam úteis para sua família e seu país\", ela repete com frequência–, resolveu dar o exemplo, criando uma rede hoteleira e uma concessionária de carros e plantando milho, cebola e laranja.  Os aspectos que moldaram a história de Sangaré estão impressos nos títulos de seus álbuns. Além do que leva o seu nome, \"Moussolou\", o de estreia, significa \"mulher\"; \"Ko Sira\", \"o casamento de hoje\"; \"Worotan\", \"preço por uma noiva\"; \"Seya\", \"alegria\"; \"Kounadia\", \"a boa estrela\".  TRADIÇÃO SONORA  Foi o mais recente, \"Mogoya\" (as pessoas da atualidade), que a cantora apresentou em Paraty, neste sábado (7), como parte da programação do Mimo Festival –o evento, gratuito, reuniu cerca de 25 mil pessoas com suas atrações gratuitas durante o fim de semana.  Com letras em bambara, um dos diversos idiomas de Mali, Sangaré se consagrou como ícone do wassoulou, estilo musical derivado do folclore de uma região homônima da África Ocidental.  No repertório que trouxe para cá, ela mistura o ritmo com batidas eletrônicas e conta que a atualização tinha como intuito atingir novas gerações e público do mercado global.  A cantora mostrou a potência de sua voz, amparada por uma banda parte africana e parte europeia que incluía um kamale ngoni –instrumento típico do wassoulou semelhante a um berimbau e moldado com uma cabaça– e uma dupla de backing vocals hipnotizantes.   \n",
              "2  Três reportagens da Folha foram vencedoras do Prêmio Petrobras de Jornalismo, anunciado na noite desta segunda-feira (9).  O jornal ganhou a premiação nas categorias Economia, com a criação do REM-F (Ranking de Eficiência dos Municípios-Folha), Regional SP-Sul, com uma série de reportagens sobre dados sigilosos do governo Geraldo Alckmin (PSDB), e Ciência e Tecnologia, com o especial \"Tudo sobre o mosquito\".  A vencedora do Grande Prêmio foi a reportagem \"Terra bruta - Pistolagem, devastação e morte no coração do Brasil\", do jornal \"O Estado de S. Paulo\".  Criado em 2013, o Prêmio Petrobras de Jornalismo está em sua quarta edição. Ele teve neste ano 11 categorias nacionais e regionais, além de dois prêmios especiais. Nenhuma das categorias é voltada especificamente às reportagens sobre política.  DOCUMENTOS SECRETOS DE ALCKMIN  Vencedora na categoria Regional SP-Sul, a série de investigações publicadas pela Folha em outubro de 2015 revelou que a gestão Alckmin havia tornado sigilosas centenas de informações do transporte público metropolitano. O trabalho é de autoria dos repórteres Artur Rodrigues, André Monteiro e Fabricio Lobel.  A classificação das informações impossibilitava a consulta pública de 157 documentos num prazo de 25 anos. A população não poderia ter acesso a relatórios que explicassem, por exemplo, os motivos exatos de atrasos em obras de linhas e estações. À época, como atualmente, todas as linhas em expansão do Metrô de São Paulo e da CPTM estavam atrasadas.  A reportagem motivou a abertura de uma investigação pelo Ministério Público e o pedido de explicações pelo Tribunal de Contas do Estado. Dois dias após a publicação do material pelo jornal, o governo paulista revogou os decretos de sigilo e se comprometeu a revisar todos os termos semelhantes impostos até então.  Após a decisão, as reportagens identificaram outras áreas da gestão Alckmin em que também havia sido imposto o sigilo de informação. Entre elas estavam dados sobre procedimentos e projetos técnicos e operacionais do abastecimento de água de São Paulo, além de dados da Polícia Militar e da Administração Penitenciária.  RANKING DE EFICIÊNCIA DOS MUNICÍPIOS  O Ranking de Eficiência dos Municípios-Folha (REM-F), projeto publicado em agosto de 2016, antes das eleições municipais, trouxe uma ferramenta virtual, criada em conjunto com o Datafolha, que mostra quais prefeituras entregam mais serviços básicos à população usando menor volume de recursos financeiros.  O ranking, com participação de Alessandro Janoni, Fernando Canzian, Marcelo Soares, Mario Kanno e Renata Nunes, leva em conta indicadores de saúde, educação e saneamento para calcular a eficiência da gestão em relação à sua receita disponível. Foram avaliados 5.281 municípios, ou 95% do total de 5.569 existentes no Brasil.  Além do índice, o projeto também incluiu visitas a 16 cidades brasileiras, de diferentes regiões e níveis de eficiência apurados pelo ranking.  O MOSQUITO  Coordenado pelos jornalistas Marcelo Leite e Mariana Versolato, o pacote de reportagens sobre o mosquito Aedes aegypti foi publicado em dezembro de 2016, em meio à crise do vírus da zika. Com participação de uma equipe de 21 profissionais, tem também entre seus autores os jornalistas Cláudia Collucci, Lalo de Almeida, Patricia Campos Mello, Reinaldo José Lopes e Gabriel Alves.  O material contém textos sobre diferentes aspectos da questão que comoveu o Brasil e o mundo, chegando a ser declarada como uma emergência internacional pela Organização Mundial da Saúde.  O primeiro capítulo \"O vírus da zika\" é o resultado de uma viagem ao berço da doença, o continente africano, com visitas ao Senegal e a Uganda, onde fica a floresta Zika, que deu nome ao vírus.  Em seguida, o material traz relatos sobre mães e seus filhos e filhas, que nasceram com microcefalia. A reportagem explicita os percalços de quem não tinha muita informação do que fazer naquele momento tão crítico.  O especial ainda discute o impacto da doença nos EUA e as novidades no combate ao mosquito Aedes aegypti e à doença propriamente dita.   \n",
              "3                                                                                                                                                                                                                                                                                                                                                                                                                                                                                                                                                                                                                                                                                                                                                                                                                                                                                                                                                                                                                                                                                                                                                                                                                                                                                                                                                                                                                                                                                                                                                                                                                                                                                                                                                                                                                                                                                                                                                                                                                                                                                                                                                                                                                                                                                                                                                                                                                                                                                                                                                                                                                                                                                                                                                                                                                                                                                                                                                                                                                                                                                                                                                                                                                                                                                                                                                             A Disney divulgou na noite desta segunda-feira (9) o novo trailer de \"Star Wars: Os Últimos Jedi\", oitavo episódio da saga.  O trailer era aguardado pelos fãs e se tornou um dos tópicos mais comentados no Twitter no horário de seu lançamento.  Assista ao trailer de 'Os Últimos Jedi'  Assista ao trailer de 'Os Últimos Jedi'  Em \"O Despertar da Força\" (2015), episódio mais recente, a personagem Rey (Daisy Ridley) descobre que tem a Força e procura por Luke Skywalker (Mark Hamill) para começar seu treinamento Jedi.  A história do novo episódio continua desse ponto, e cenas do trailer mostram a relação entre Rey e Skywalker.  Com direção de Rian Johnson, o filme será lançado em 14 de dezembro no Brasil. O nono episódio, ainda sem título, encerra a nova trilogia em 20 de dezembro de 2019.  O estúdio também divulgou novo poster do filme.  Poster   \n",
              "4                                                                 O CBSS, banco da holding Elopar dos sócios Bradesco e Banco do Brasil, está fazendo parcerias com fintechs, prevendo em 2018 alcançar 30% de um mercado de rápido crescimento e que já empresta mais de R$ 1 bilhão por ano.  Inicialmente, os acordos usarão o modelo mais praticado no mercado, com fintechs captando pedidos de empréstimos e filtrando o perfil de risco dos tomadores, operação conhecida no jargão do mercado como \"lead\" e pela qual as fintechs são remuneradas, quase sempre por bancos de médio porte e cooperativas de crédito, que de fato concedem os financiamentos.  \"Nós temos funding competitivo e em boa quantidade e as fintechs conseguem originar crédito com um custo muito menor do que faríamos por meios físicos\", disse à Reuters o presidente do Banco CBSS, Carlos Giovane.  A primeira parceria é com a Bom Pra Crédito, marketplace no qual cerca de 500 mil interessados em tomar empréstimo pessoal submetem todo mês pedidos que são distribuídos para cerca de 25 bancos oferecerem propostas.  Além desse acordo, já em andamento, negociações estão em curso com outras quatro fintechs especializadas em crédito: Guia Bolso, Lendico, Finanzero e Wecash, previstas para estarem operacionais ainda em 2017.  O movimento marca a primeira aproximação operacional, mesmo que de forma indireta, de grandes bancos com fintechs, que nos últimos dois anos emergiram como potenciais rivais no crédito pessoal, ao oferecerem taxas de juros muito menores do que as praticadas no sistema financeiro.  Segundo o presidente da Bom Pra Crédito, Ricardo Kalichsztein, ser parceiro é melhor.  O CBSS, no caso, oferecerá empréstimos pessoais sem garantia com taxas a partir de 3,9% ao mês. A taxa média do sistema financeiro foi de 7,2% ao mês, segundo dados do Banco Central referentes a agosto.  A iniciativa acontece em meio a uma audiência pública aberta pelo Banco Central para regulamentar a atuação das plataformas digitais de crédito. A proposta do BC é classificar essas fintechs em duas categorias, a que empresta com capital dos próprios acionistas e a que conecta investidores a tomadores de recursos, prática conhecida como peer to peer lending.  Na avaliação de especialistas do setor, dependendo da forma como vier a regulação, o modelo atual de parcerias pode ser esvaziado, uma vez que bancos podem preferir ter plataformas digitais próprias, enquanto algumas fintechs poderiam ter um braço financeiro para operar de ponta a ponta.  \"As fintechs começarão a se perguntar se vale a pena virar banco\", disse Rubens Vidigal Neto, sócio do PVG Advogados.  Atento a esse movimento, o CBSS já visualiza aprofundar a aproximação com as fintechs. Num primeiro momento, as conversas envolvem proposta de remuneração mais atrativa, na qual o banco pode repassar às parceiras mais do que apenas um valor pela originação de negócios.  Mas com pelo menos uma delas as conversas já evoluíram para participação societária.  \"Estamos em negociações finais para sermos sócios de uma delas (fintech)\", disse Giovane, sem dar mais detalhes.  A entrada do CBSS no crédito digital é motivada, dentre outros fatores, pelo interesse dos sócios em acelerar a rentabilização do negócio, disse o executivo.  Após ter obtido as aprovações do Banco Central no ano passado para atuar como banco, o CBSS vem deslanchando uma série de iniciativas para vender produtos financeiros, incluindo por meio da financeira Ibi, de parcerias com redes varejistas e o lançamento de um plataforma digital própria de cartão de crédito, a Digio.  Essa plataforma começa a operar ainda este mês um marketplace, inclusive com produtos como os da Apple Store. A partir de novembro, a Digio incluirá oferta de crédito pessoal.  Todas essas frentes consumiram investimentos que levam mais tempo para dar retorno. O banco, que tinha patrimônio de R$ 410 milhões em junho, já opera no azul desde o mês passado, mas o plano é começar a ter lucro.  \"As parcerias com as fintechs no crédito são um negócio que permite retorno quase imediato\", disse Giovane.   \n",
              "\n",
              "         date   category subcategory  \\\n",
              "0  2017-09-10      poder         NaN   \n",
              "1  2017-09-10  ilustrada         NaN   \n",
              "2  2017-09-10      poder         NaN   \n",
              "3  2017-09-10  ilustrada         NaN   \n",
              "4  2017-09-10    mercado         NaN   \n",
              "\n",
              "                                                                                                                                link  \n",
              "0     http://www1.folha.uol.com.br/poder/2017/10/1925743-lula-diz-que-esta-lascado-mas-que-ainda-tem-forca-como-cabo-eleitoral.shtml  \n",
              "1  http://www1.folha.uol.com.br/ilustrada/2017/10/1925745-decidi-ser-escrava-das-mulheres-que-sofrem-diz-cantora-oumou-sangare.shtml  \n",
              "2           http://www1.folha.uol.com.br/poder/2017/10/1925789-tres-reportagens-da-folha-ganham-premio-petrobras-de-jornalismo.shtml  \n",
              "3      http://www1.folha.uol.com.br/ilustrada/2017/10/1925733-filme-star-wars-os-ultimos-jedi-ganha-trailer-definitivo-assista.shtml  \n",
              "4   http://www1.folha.uol.com.br/mercado/2017/10/1925723-cbss-inicia-acordos-com-fintechs-e-quer-30-do-credito-digital-em-2018.shtml  "
            ]
          },
          "metadata": {
            "tags": []
          },
          "execution_count": 22
        }
      ]
    },
    {
      "cell_type": "markdown",
      "metadata": {
        "id": "Rg0ifeCNhrHu"
      },
      "source": [
        "**Quantidade de noticias por categoria**"
      ]
    },
    {
      "cell_type": "code",
      "metadata": {
        "colab": {
          "base_uri": "https://localhost:8080/",
          "height": 1000
        },
        "id": "I4AFC0MSfGzP",
        "outputId": "0637198a-5857-4c87-afc1-6baace8ab389"
      },
      "source": [
        "#['title', 'text', 'date', 'category', 'subcategory', 'link'\n",
        "dfFSP.groupby(['category'])['link'].count().reset_index().sort_values(by = 'link', ascending=False)"
      ],
      "execution_count": 28,
      "outputs": [
        {
          "output_type": "execute_result",
          "data": {
            "text/html": [
              "<div>\n",
              "<style scoped>\n",
              "    .dataframe tbody tr th:only-of-type {\n",
              "        vertical-align: middle;\n",
              "    }\n",
              "\n",
              "    .dataframe tbody tr th {\n",
              "        vertical-align: top;\n",
              "    }\n",
              "\n",
              "    .dataframe thead th {\n",
              "        text-align: right;\n",
              "    }\n",
              "</style>\n",
              "<table border=\"1\" class=\"dataframe\">\n",
              "  <thead>\n",
              "    <tr style=\"text-align: right;\">\n",
              "      <th></th>\n",
              "      <th>category</th>\n",
              "      <th>link</th>\n",
              "    </tr>\n",
              "  </thead>\n",
              "  <tbody>\n",
              "    <tr>\n",
              "      <th>35</th>\n",
              "      <td>poder</td>\n",
              "      <td>22022</td>\n",
              "    </tr>\n",
              "    <tr>\n",
              "      <th>9</th>\n",
              "      <td>colunas</td>\n",
              "      <td>21622</td>\n",
              "    </tr>\n",
              "    <tr>\n",
              "      <th>26</th>\n",
              "      <td>mercado</td>\n",
              "      <td>20970</td>\n",
              "    </tr>\n",
              "    <tr>\n",
              "      <th>18</th>\n",
              "      <td>esporte</td>\n",
              "      <td>19730</td>\n",
              "    </tr>\n",
              "    <tr>\n",
              "      <th>29</th>\n",
              "      <td>mundo</td>\n",
              "      <td>17130</td>\n",
              "    </tr>\n",
              "    <tr>\n",
              "      <th>12</th>\n",
              "      <td>cotidiano</td>\n",
              "      <td>16967</td>\n",
              "    </tr>\n",
              "    <tr>\n",
              "      <th>23</th>\n",
              "      <td>ilustrada</td>\n",
              "      <td>16345</td>\n",
              "    </tr>\n",
              "    <tr>\n",
              "      <th>33</th>\n",
              "      <td>opiniao</td>\n",
              "      <td>4525</td>\n",
              "    </tr>\n",
              "    <tr>\n",
              "      <th>34</th>\n",
              "      <td>paineldoleitor</td>\n",
              "      <td>4011</td>\n",
              "    </tr>\n",
              "    <tr>\n",
              "      <th>37</th>\n",
              "      <td>saopaulo</td>\n",
              "      <td>3955</td>\n",
              "    </tr>\n",
              "    <tr>\n",
              "      <th>41</th>\n",
              "      <td>tec</td>\n",
              "      <td>2260</td>\n",
              "    </tr>\n",
              "    <tr>\n",
              "      <th>46</th>\n",
              "      <td>tv</td>\n",
              "      <td>2142</td>\n",
              "    </tr>\n",
              "    <tr>\n",
              "      <th>14</th>\n",
              "      <td>educacao</td>\n",
              "      <td>2118</td>\n",
              "    </tr>\n",
              "    <tr>\n",
              "      <th>45</th>\n",
              "      <td>turismo</td>\n",
              "      <td>1903</td>\n",
              "    </tr>\n",
              "    <tr>\n",
              "      <th>24</th>\n",
              "      <td>ilustrissima</td>\n",
              "      <td>1411</td>\n",
              "    </tr>\n",
              "    <tr>\n",
              "      <th>8</th>\n",
              "      <td>ciencia</td>\n",
              "      <td>1335</td>\n",
              "    </tr>\n",
              "    <tr>\n",
              "      <th>16</th>\n",
              "      <td>equilibrioesaude</td>\n",
              "      <td>1312</td>\n",
              "    </tr>\n",
              "    <tr>\n",
              "      <th>40</th>\n",
              "      <td>sobretudo</td>\n",
              "      <td>1057</td>\n",
              "    </tr>\n",
              "    <tr>\n",
              "      <th>5</th>\n",
              "      <td>bbc</td>\n",
              "      <td>980</td>\n",
              "    </tr>\n",
              "    <tr>\n",
              "      <th>20</th>\n",
              "      <td>folhinha</td>\n",
              "      <td>876</td>\n",
              "    </tr>\n",
              "    <tr>\n",
              "      <th>15</th>\n",
              "      <td>empreendedorsocial</td>\n",
              "      <td>841</td>\n",
              "    </tr>\n",
              "    <tr>\n",
              "      <th>10</th>\n",
              "      <td>comida</td>\n",
              "      <td>828</td>\n",
              "    </tr>\n",
              "    <tr>\n",
              "      <th>3</th>\n",
              "      <td>asmais</td>\n",
              "      <td>548</td>\n",
              "    </tr>\n",
              "    <tr>\n",
              "      <th>2</th>\n",
              "      <td>ambiente</td>\n",
              "      <td>491</td>\n",
              "    </tr>\n",
              "    <tr>\n",
              "      <th>38</th>\n",
              "      <td>seminariosfolha</td>\n",
              "      <td>379</td>\n",
              "    </tr>\n",
              "    <tr>\n",
              "      <th>39</th>\n",
              "      <td>serafina</td>\n",
              "      <td>334</td>\n",
              "    </tr>\n",
              "    <tr>\n",
              "      <th>31</th>\n",
              "      <td>o-melhor-de-sao-paulo</td>\n",
              "      <td>189</td>\n",
              "    </tr>\n",
              "    <tr>\n",
              "      <th>47</th>\n",
              "      <td>vice</td>\n",
              "      <td>146</td>\n",
              "    </tr>\n",
              "    <tr>\n",
              "      <th>21</th>\n",
              "      <td>guia-de-livros-discos-filmes</td>\n",
              "      <td>143</td>\n",
              "    </tr>\n",
              "    <tr>\n",
              "      <th>42</th>\n",
              "      <td>topofmind</td>\n",
              "      <td>86</td>\n",
              "    </tr>\n",
              "    <tr>\n",
              "      <th>4</th>\n",
              "      <td>banco-de-dados</td>\n",
              "      <td>64</td>\n",
              "    </tr>\n",
              "    <tr>\n",
              "      <th>13</th>\n",
              "      <td>dw</td>\n",
              "      <td>48</td>\n",
              "    </tr>\n",
              "    <tr>\n",
              "      <th>17</th>\n",
              "      <td>especial</td>\n",
              "      <td>43</td>\n",
              "    </tr>\n",
              "    <tr>\n",
              "      <th>25</th>\n",
              "      <td>infograficos</td>\n",
              "      <td>43</td>\n",
              "    </tr>\n",
              "    <tr>\n",
              "      <th>7</th>\n",
              "      <td>cenarios-2017</td>\n",
              "      <td>43</td>\n",
              "    </tr>\n",
              "    <tr>\n",
              "      <th>36</th>\n",
              "      <td>rfi</td>\n",
              "      <td>29</td>\n",
              "    </tr>\n",
              "    <tr>\n",
              "      <th>22</th>\n",
              "      <td>guia-de-livros-filmes-discos</td>\n",
              "      <td>28</td>\n",
              "    </tr>\n",
              "    <tr>\n",
              "      <th>28</th>\n",
              "      <td>multimidia</td>\n",
              "      <td>27</td>\n",
              "    </tr>\n",
              "    <tr>\n",
              "      <th>43</th>\n",
              "      <td>treinamento</td>\n",
              "      <td>21</td>\n",
              "    </tr>\n",
              "    <tr>\n",
              "      <th>44</th>\n",
              "      <td>treinamentocienciaesaude</td>\n",
              "      <td>18</td>\n",
              "    </tr>\n",
              "    <tr>\n",
              "      <th>27</th>\n",
              "      <td>mulher</td>\n",
              "      <td>16</td>\n",
              "    </tr>\n",
              "    <tr>\n",
              "      <th>19</th>\n",
              "      <td>euronews</td>\n",
              "      <td>8</td>\n",
              "    </tr>\n",
              "    <tr>\n",
              "      <th>32</th>\n",
              "      <td>ombudsman</td>\n",
              "      <td>3</td>\n",
              "    </tr>\n",
              "    <tr>\n",
              "      <th>11</th>\n",
              "      <td>contas-de-casa</td>\n",
              "      <td>2</td>\n",
              "    </tr>\n",
              "    <tr>\n",
              "      <th>1</th>\n",
              "      <td>2016</td>\n",
              "      <td>1</td>\n",
              "    </tr>\n",
              "    <tr>\n",
              "      <th>6</th>\n",
              "      <td>bichos</td>\n",
              "      <td>1</td>\n",
              "    </tr>\n",
              "    <tr>\n",
              "      <th>30</th>\n",
              "      <td>musica</td>\n",
              "      <td>1</td>\n",
              "    </tr>\n",
              "    <tr>\n",
              "      <th>0</th>\n",
              "      <td>2015</td>\n",
              "      <td>1</td>\n",
              "    </tr>\n",
              "  </tbody>\n",
              "</table>\n",
              "</div>"
            ],
            "text/plain": [
              "                        category   link\n",
              "35                         poder  22022\n",
              "9                        colunas  21622\n",
              "26                       mercado  20970\n",
              "18                       esporte  19730\n",
              "29                         mundo  17130\n",
              "12                     cotidiano  16967\n",
              "23                     ilustrada  16345\n",
              "33                       opiniao   4525\n",
              "34                paineldoleitor   4011\n",
              "37                      saopaulo   3955\n",
              "41                           tec   2260\n",
              "46                            tv   2142\n",
              "14                      educacao   2118\n",
              "45                       turismo   1903\n",
              "24                  ilustrissima   1411\n",
              "8                        ciencia   1335\n",
              "16              equilibrioesaude   1312\n",
              "40                     sobretudo   1057\n",
              "5                            bbc    980\n",
              "20                      folhinha    876\n",
              "15            empreendedorsocial    841\n",
              "10                        comida    828\n",
              "3                         asmais    548\n",
              "2                       ambiente    491\n",
              "38               seminariosfolha    379\n",
              "39                      serafina    334\n",
              "31         o-melhor-de-sao-paulo    189\n",
              "47                          vice    146\n",
              "21  guia-de-livros-discos-filmes    143\n",
              "42                     topofmind     86\n",
              "4                 banco-de-dados     64\n",
              "13                            dw     48\n",
              "17                      especial     43\n",
              "25                  infograficos     43\n",
              "7                  cenarios-2017     43\n",
              "36                           rfi     29\n",
              "22  guia-de-livros-filmes-discos     28\n",
              "28                    multimidia     27\n",
              "43                   treinamento     21\n",
              "44      treinamentocienciaesaude     18\n",
              "27                        mulher     16\n",
              "19                      euronews      8\n",
              "32                     ombudsman      3\n",
              "11                contas-de-casa      2\n",
              "1                           2016      1\n",
              "6                         bichos      1\n",
              "30                        musica      1\n",
              "0                           2015      1"
            ]
          },
          "metadata": {
            "tags": []
          },
          "execution_count": 28
        }
      ]
    },
    {
      "cell_type": "markdown",
      "metadata": {
        "id": "urz3dmz2iKOz"
      },
      "source": [
        "**Conjunto de Notícias da nossa base de dados**"
      ]
    },
    {
      "cell_type": "code",
      "metadata": {
        "colab": {
          "base_uri": "https://localhost:8080/"
        },
        "id": "_43R0jQBiESU",
        "outputId": "a1b976de-16ac-4045-e5b3-e241431b12c9"
      },
      "source": [
        "dfNews = pd.read_csv('news.csv', header=0)\n",
        "print(dfNews.columns)\n",
        "dfNews.shape"
      ],
      "execution_count": 30,
      "outputs": [
        {
          "output_type": "stream",
          "text": [
            "Index(['FONTE', 'CATEGORIA', 'TEXTO', 'URL', 'PUBLISHEDAT', 'TITLE', 'AUTHOR',\n",
            "       'DT_REGISTRO', 'TEXT_TRATADO'],\n",
            "      dtype='object')\n"
          ],
          "name": "stdout"
        },
        {
          "output_type": "execute_result",
          "data": {
            "text/plain": [
              "(11176, 9)"
            ]
          },
          "metadata": {
            "tags": []
          },
          "execution_count": 30
        }
      ]
    },
    {
      "cell_type": "code",
      "metadata": {
        "colab": {
          "base_uri": "https://localhost:8080/",
          "height": 223
        },
        "id": "G3fgFvzpi7CR",
        "outputId": "46abfd53-50a8-425d-98ec-efe560ecabd6"
      },
      "source": [
        "'''tornando o nome das colunas dos dois datasets iguais '''\n",
        "dfNews.rename(columns={'categoria':'category',\n",
        "                       'URL':'link',\n",
        "                       'PUBLISHEDAT':'date',\n",
        "                       'TITLE':'title',\n",
        "                       'FONTE':'fonte'})\n",
        "dfNews.columns\n",
        "\n",
        "    "
      ],
      "execution_count": 1,
      "outputs": [
        {
          "output_type": "error",
          "ename": "NameError",
          "evalue": "ignored",
          "traceback": [
            "\u001b[0;31m---------------------------------------------------------------------------\u001b[0m",
            "\u001b[0;31mNameError\u001b[0m                                 Traceback (most recent call last)",
            "\u001b[0;32m<ipython-input-1-af2778284eb3>\u001b[0m in \u001b[0;36m<module>\u001b[0;34m()\u001b[0m\n\u001b[1;32m      1\u001b[0m \u001b[0;34m'''tornando o nome das colunas dos dois datasets iguais '''\u001b[0m\u001b[0;34m\u001b[0m\u001b[0;34m\u001b[0m\u001b[0m\n\u001b[0;32m----> 2\u001b[0;31m dfNews.rename(columns={'categoria':'category',\n\u001b[0m\u001b[1;32m      3\u001b[0m                        \u001b[0;34m'URL'\u001b[0m\u001b[0;34m:\u001b[0m\u001b[0;34m'link'\u001b[0m\u001b[0;34m,\u001b[0m\u001b[0;34m\u001b[0m\u001b[0;34m\u001b[0m\u001b[0m\n\u001b[1;32m      4\u001b[0m                        \u001b[0;34m'PUBLISHEDAT'\u001b[0m\u001b[0;34m:\u001b[0m\u001b[0;34m'date'\u001b[0m\u001b[0;34m,\u001b[0m\u001b[0;34m\u001b[0m\u001b[0;34m\u001b[0m\u001b[0m\n\u001b[1;32m      5\u001b[0m                        \u001b[0;34m'TITLE'\u001b[0m\u001b[0;34m:\u001b[0m\u001b[0;34m'title'\u001b[0m\u001b[0;34m,\u001b[0m\u001b[0;34m\u001b[0m\u001b[0;34m\u001b[0m\u001b[0m\n",
            "\u001b[0;31mNameError\u001b[0m: name 'dfNews' is not defined"
          ]
        }
      ]
    },
    {
      "cell_type": "code",
      "metadata": {
        "id": "WxvvbTjBivKl"
      },
      "source": [
        "dfNews.groupby(['category'])['link'].count().reset_index().sort_values(by = 'link', ascending=False)"
      ],
      "execution_count": null,
      "outputs": []
    }
  ]
}