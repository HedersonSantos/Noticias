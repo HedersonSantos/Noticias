{
  "nbformat": 4,
  "nbformat_minor": 0,
  "metadata": {
    "colab": {
      "name": "BERTimbau_Testes.ipynb",
      "provenance": [],
      "collapsed_sections": [],
      "include_colab_link": true
    },
    "kernelspec": {
      "name": "python3",
      "display_name": "Python 3"
    },
    "language_info": {
      "name": "python"
    },
    "accelerator": "GPU",
    "widgets": {
      "application/vnd.jupyter.widget-state+json": {
        "5a67700b63864beabfb79c44b8a07004": {
          "model_module": "@jupyter-widgets/controls",
          "model_name": "HBoxModel",
          "state": {
            "_view_name": "HBoxView",
            "_dom_classes": [],
            "_model_name": "HBoxModel",
            "_view_module": "@jupyter-widgets/controls",
            "_model_module_version": "1.5.0",
            "_view_count": null,
            "_view_module_version": "1.5.0",
            "box_style": "",
            "layout": "IPY_MODEL_cb4add9c5ee14ced93f93b3d17d119a8",
            "_model_module": "@jupyter-widgets/controls",
            "children": [
              "IPY_MODEL_0ed60ce1a77d4ca6aeffa2263bfd8f03",
              "IPY_MODEL_36cc76b53c3e49ed82ad6e011d6515cc"
            ]
          }
        },
        "cb4add9c5ee14ced93f93b3d17d119a8": {
          "model_module": "@jupyter-widgets/base",
          "model_name": "LayoutModel",
          "state": {
            "_view_name": "LayoutView",
            "grid_template_rows": null,
            "right": null,
            "justify_content": null,
            "_view_module": "@jupyter-widgets/base",
            "overflow": null,
            "_model_module_version": "1.2.0",
            "_view_count": null,
            "flex_flow": null,
            "width": null,
            "min_width": null,
            "border": null,
            "align_items": null,
            "bottom": null,
            "_model_module": "@jupyter-widgets/base",
            "top": null,
            "grid_column": null,
            "overflow_y": null,
            "overflow_x": null,
            "grid_auto_flow": null,
            "grid_area": null,
            "grid_template_columns": null,
            "flex": null,
            "_model_name": "LayoutModel",
            "justify_items": null,
            "grid_row": null,
            "max_height": null,
            "align_content": null,
            "visibility": null,
            "align_self": null,
            "height": null,
            "min_height": null,
            "padding": null,
            "grid_auto_rows": null,
            "grid_gap": null,
            "max_width": null,
            "order": null,
            "_view_module_version": "1.2.0",
            "grid_template_areas": null,
            "object_position": null,
            "object_fit": null,
            "grid_auto_columns": null,
            "margin": null,
            "display": null,
            "left": null
          }
        },
        "0ed60ce1a77d4ca6aeffa2263bfd8f03": {
          "model_module": "@jupyter-widgets/controls",
          "model_name": "FloatProgressModel",
          "state": {
            "_view_name": "ProgressView",
            "style": "IPY_MODEL_b3ec0e3305054610bbd305642b97994e",
            "_dom_classes": [],
            "description": "Downloading: 100%",
            "_model_name": "FloatProgressModel",
            "bar_style": "success",
            "max": 43,
            "_view_module": "@jupyter-widgets/controls",
            "_model_module_version": "1.5.0",
            "value": 43,
            "_view_count": null,
            "_view_module_version": "1.5.0",
            "orientation": "horizontal",
            "min": 0,
            "description_tooltip": null,
            "_model_module": "@jupyter-widgets/controls",
            "layout": "IPY_MODEL_5aa9ebf50e024e74a8b0337640958fb5"
          }
        },
        "36cc76b53c3e49ed82ad6e011d6515cc": {
          "model_module": "@jupyter-widgets/controls",
          "model_name": "HTMLModel",
          "state": {
            "_view_name": "HTMLView",
            "style": "IPY_MODEL_7d330fa1b57449cabad501e814325b9a",
            "_dom_classes": [],
            "description": "",
            "_model_name": "HTMLModel",
            "placeholder": "​",
            "_view_module": "@jupyter-widgets/controls",
            "_model_module_version": "1.5.0",
            "value": " 43.0/43.0 [00:00&lt;00:00, 1.10kB/s]",
            "_view_count": null,
            "_view_module_version": "1.5.0",
            "description_tooltip": null,
            "_model_module": "@jupyter-widgets/controls",
            "layout": "IPY_MODEL_9aa93bb6111146d9a94e4771611a53fe"
          }
        },
        "b3ec0e3305054610bbd305642b97994e": {
          "model_module": "@jupyter-widgets/controls",
          "model_name": "ProgressStyleModel",
          "state": {
            "_view_name": "StyleView",
            "_model_name": "ProgressStyleModel",
            "description_width": "initial",
            "_view_module": "@jupyter-widgets/base",
            "_model_module_version": "1.5.0",
            "_view_count": null,
            "_view_module_version": "1.2.0",
            "bar_color": null,
            "_model_module": "@jupyter-widgets/controls"
          }
        },
        "5aa9ebf50e024e74a8b0337640958fb5": {
          "model_module": "@jupyter-widgets/base",
          "model_name": "LayoutModel",
          "state": {
            "_view_name": "LayoutView",
            "grid_template_rows": null,
            "right": null,
            "justify_content": null,
            "_view_module": "@jupyter-widgets/base",
            "overflow": null,
            "_model_module_version": "1.2.0",
            "_view_count": null,
            "flex_flow": null,
            "width": null,
            "min_width": null,
            "border": null,
            "align_items": null,
            "bottom": null,
            "_model_module": "@jupyter-widgets/base",
            "top": null,
            "grid_column": null,
            "overflow_y": null,
            "overflow_x": null,
            "grid_auto_flow": null,
            "grid_area": null,
            "grid_template_columns": null,
            "flex": null,
            "_model_name": "LayoutModel",
            "justify_items": null,
            "grid_row": null,
            "max_height": null,
            "align_content": null,
            "visibility": null,
            "align_self": null,
            "height": null,
            "min_height": null,
            "padding": null,
            "grid_auto_rows": null,
            "grid_gap": null,
            "max_width": null,
            "order": null,
            "_view_module_version": "1.2.0",
            "grid_template_areas": null,
            "object_position": null,
            "object_fit": null,
            "grid_auto_columns": null,
            "margin": null,
            "display": null,
            "left": null
          }
        },
        "7d330fa1b57449cabad501e814325b9a": {
          "model_module": "@jupyter-widgets/controls",
          "model_name": "DescriptionStyleModel",
          "state": {
            "_view_name": "StyleView",
            "_model_name": "DescriptionStyleModel",
            "description_width": "",
            "_view_module": "@jupyter-widgets/base",
            "_model_module_version": "1.5.0",
            "_view_count": null,
            "_view_module_version": "1.2.0",
            "_model_module": "@jupyter-widgets/controls"
          }
        },
        "9aa93bb6111146d9a94e4771611a53fe": {
          "model_module": "@jupyter-widgets/base",
          "model_name": "LayoutModel",
          "state": {
            "_view_name": "LayoutView",
            "grid_template_rows": null,
            "right": null,
            "justify_content": null,
            "_view_module": "@jupyter-widgets/base",
            "overflow": null,
            "_model_module_version": "1.2.0",
            "_view_count": null,
            "flex_flow": null,
            "width": null,
            "min_width": null,
            "border": null,
            "align_items": null,
            "bottom": null,
            "_model_module": "@jupyter-widgets/base",
            "top": null,
            "grid_column": null,
            "overflow_y": null,
            "overflow_x": null,
            "grid_auto_flow": null,
            "grid_area": null,
            "grid_template_columns": null,
            "flex": null,
            "_model_name": "LayoutModel",
            "justify_items": null,
            "grid_row": null,
            "max_height": null,
            "align_content": null,
            "visibility": null,
            "align_self": null,
            "height": null,
            "min_height": null,
            "padding": null,
            "grid_auto_rows": null,
            "grid_gap": null,
            "max_width": null,
            "order": null,
            "_view_module_version": "1.2.0",
            "grid_template_areas": null,
            "object_position": null,
            "object_fit": null,
            "grid_auto_columns": null,
            "margin": null,
            "display": null,
            "left": null
          }
        },
        "3f82b945fc934b7e89c7da9c2b438a3b": {
          "model_module": "@jupyter-widgets/controls",
          "model_name": "HBoxModel",
          "state": {
            "_view_name": "HBoxView",
            "_dom_classes": [],
            "_model_name": "HBoxModel",
            "_view_module": "@jupyter-widgets/controls",
            "_model_module_version": "1.5.0",
            "_view_count": null,
            "_view_module_version": "1.5.0",
            "box_style": "",
            "layout": "IPY_MODEL_b6d152562a1145cdab508d4a5e0b113b",
            "_model_module": "@jupyter-widgets/controls",
            "children": [
              "IPY_MODEL_ea0e38a1e736413fae75790d4507dda3",
              "IPY_MODEL_cb05711dfbf948b5bbf2f207bc8e6862"
            ]
          }
        },
        "b6d152562a1145cdab508d4a5e0b113b": {
          "model_module": "@jupyter-widgets/base",
          "model_name": "LayoutModel",
          "state": {
            "_view_name": "LayoutView",
            "grid_template_rows": null,
            "right": null,
            "justify_content": null,
            "_view_module": "@jupyter-widgets/base",
            "overflow": null,
            "_model_module_version": "1.2.0",
            "_view_count": null,
            "flex_flow": null,
            "width": null,
            "min_width": null,
            "border": null,
            "align_items": null,
            "bottom": null,
            "_model_module": "@jupyter-widgets/base",
            "top": null,
            "grid_column": null,
            "overflow_y": null,
            "overflow_x": null,
            "grid_auto_flow": null,
            "grid_area": null,
            "grid_template_columns": null,
            "flex": null,
            "_model_name": "LayoutModel",
            "justify_items": null,
            "grid_row": null,
            "max_height": null,
            "align_content": null,
            "visibility": null,
            "align_self": null,
            "height": null,
            "min_height": null,
            "padding": null,
            "grid_auto_rows": null,
            "grid_gap": null,
            "max_width": null,
            "order": null,
            "_view_module_version": "1.2.0",
            "grid_template_areas": null,
            "object_position": null,
            "object_fit": null,
            "grid_auto_columns": null,
            "margin": null,
            "display": null,
            "left": null
          }
        },
        "ea0e38a1e736413fae75790d4507dda3": {
          "model_module": "@jupyter-widgets/controls",
          "model_name": "FloatProgressModel",
          "state": {
            "_view_name": "ProgressView",
            "style": "IPY_MODEL_eb6280362fdf4dbb8ecfbff19a073675",
            "_dom_classes": [],
            "description": "Downloading: 100%",
            "_model_name": "FloatProgressModel",
            "bar_style": "success",
            "max": 647,
            "_view_module": "@jupyter-widgets/controls",
            "_model_module_version": "1.5.0",
            "value": 647,
            "_view_count": null,
            "_view_module_version": "1.5.0",
            "orientation": "horizontal",
            "min": 0,
            "description_tooltip": null,
            "_model_module": "@jupyter-widgets/controls",
            "layout": "IPY_MODEL_11d8f4e7305e43b488e33560e0677aed"
          }
        },
        "cb05711dfbf948b5bbf2f207bc8e6862": {
          "model_module": "@jupyter-widgets/controls",
          "model_name": "HTMLModel",
          "state": {
            "_view_name": "HTMLView",
            "style": "IPY_MODEL_22997668971443d18c9e814fd4a9f49c",
            "_dom_classes": [],
            "description": "",
            "_model_name": "HTMLModel",
            "placeholder": "​",
            "_view_module": "@jupyter-widgets/controls",
            "_model_module_version": "1.5.0",
            "value": " 647/647 [00:00&lt;00:00, 3.08kB/s]",
            "_view_count": null,
            "_view_module_version": "1.5.0",
            "description_tooltip": null,
            "_model_module": "@jupyter-widgets/controls",
            "layout": "IPY_MODEL_370260512d3f4f12aa4f0cd601d0f25b"
          }
        },
        "eb6280362fdf4dbb8ecfbff19a073675": {
          "model_module": "@jupyter-widgets/controls",
          "model_name": "ProgressStyleModel",
          "state": {
            "_view_name": "StyleView",
            "_model_name": "ProgressStyleModel",
            "description_width": "initial",
            "_view_module": "@jupyter-widgets/base",
            "_model_module_version": "1.5.0",
            "_view_count": null,
            "_view_module_version": "1.2.0",
            "bar_color": null,
            "_model_module": "@jupyter-widgets/controls"
          }
        },
        "11d8f4e7305e43b488e33560e0677aed": {
          "model_module": "@jupyter-widgets/base",
          "model_name": "LayoutModel",
          "state": {
            "_view_name": "LayoutView",
            "grid_template_rows": null,
            "right": null,
            "justify_content": null,
            "_view_module": "@jupyter-widgets/base",
            "overflow": null,
            "_model_module_version": "1.2.0",
            "_view_count": null,
            "flex_flow": null,
            "width": null,
            "min_width": null,
            "border": null,
            "align_items": null,
            "bottom": null,
            "_model_module": "@jupyter-widgets/base",
            "top": null,
            "grid_column": null,
            "overflow_y": null,
            "overflow_x": null,
            "grid_auto_flow": null,
            "grid_area": null,
            "grid_template_columns": null,
            "flex": null,
            "_model_name": "LayoutModel",
            "justify_items": null,
            "grid_row": null,
            "max_height": null,
            "align_content": null,
            "visibility": null,
            "align_self": null,
            "height": null,
            "min_height": null,
            "padding": null,
            "grid_auto_rows": null,
            "grid_gap": null,
            "max_width": null,
            "order": null,
            "_view_module_version": "1.2.0",
            "grid_template_areas": null,
            "object_position": null,
            "object_fit": null,
            "grid_auto_columns": null,
            "margin": null,
            "display": null,
            "left": null
          }
        },
        "22997668971443d18c9e814fd4a9f49c": {
          "model_module": "@jupyter-widgets/controls",
          "model_name": "DescriptionStyleModel",
          "state": {
            "_view_name": "StyleView",
            "_model_name": "DescriptionStyleModel",
            "description_width": "",
            "_view_module": "@jupyter-widgets/base",
            "_model_module_version": "1.5.0",
            "_view_count": null,
            "_view_module_version": "1.2.0",
            "_model_module": "@jupyter-widgets/controls"
          }
        },
        "370260512d3f4f12aa4f0cd601d0f25b": {
          "model_module": "@jupyter-widgets/base",
          "model_name": "LayoutModel",
          "state": {
            "_view_name": "LayoutView",
            "grid_template_rows": null,
            "right": null,
            "justify_content": null,
            "_view_module": "@jupyter-widgets/base",
            "overflow": null,
            "_model_module_version": "1.2.0",
            "_view_count": null,
            "flex_flow": null,
            "width": null,
            "min_width": null,
            "border": null,
            "align_items": null,
            "bottom": null,
            "_model_module": "@jupyter-widgets/base",
            "top": null,
            "grid_column": null,
            "overflow_y": null,
            "overflow_x": null,
            "grid_auto_flow": null,
            "grid_area": null,
            "grid_template_columns": null,
            "flex": null,
            "_model_name": "LayoutModel",
            "justify_items": null,
            "grid_row": null,
            "max_height": null,
            "align_content": null,
            "visibility": null,
            "align_self": null,
            "height": null,
            "min_height": null,
            "padding": null,
            "grid_auto_rows": null,
            "grid_gap": null,
            "max_width": null,
            "order": null,
            "_view_module_version": "1.2.0",
            "grid_template_areas": null,
            "object_position": null,
            "object_fit": null,
            "grid_auto_columns": null,
            "margin": null,
            "display": null,
            "left": null
          }
        },
        "0ec80168d05341ffa5c05c922e6cc2da": {
          "model_module": "@jupyter-widgets/controls",
          "model_name": "HBoxModel",
          "state": {
            "_view_name": "HBoxView",
            "_dom_classes": [],
            "_model_name": "HBoxModel",
            "_view_module": "@jupyter-widgets/controls",
            "_model_module_version": "1.5.0",
            "_view_count": null,
            "_view_module_version": "1.5.0",
            "box_style": "",
            "layout": "IPY_MODEL_f8b176eae0144a60a95be9761c89ee30",
            "_model_module": "@jupyter-widgets/controls",
            "children": [
              "IPY_MODEL_920cac10a4be4c249161f12abf6bc329",
              "IPY_MODEL_b26d0fb0e63d49528c7288f3ebe87eaf"
            ]
          }
        },
        "f8b176eae0144a60a95be9761c89ee30": {
          "model_module": "@jupyter-widgets/base",
          "model_name": "LayoutModel",
          "state": {
            "_view_name": "LayoutView",
            "grid_template_rows": null,
            "right": null,
            "justify_content": null,
            "_view_module": "@jupyter-widgets/base",
            "overflow": null,
            "_model_module_version": "1.2.0",
            "_view_count": null,
            "flex_flow": null,
            "width": null,
            "min_width": null,
            "border": null,
            "align_items": null,
            "bottom": null,
            "_model_module": "@jupyter-widgets/base",
            "top": null,
            "grid_column": null,
            "overflow_y": null,
            "overflow_x": null,
            "grid_auto_flow": null,
            "grid_area": null,
            "grid_template_columns": null,
            "flex": null,
            "_model_name": "LayoutModel",
            "justify_items": null,
            "grid_row": null,
            "max_height": null,
            "align_content": null,
            "visibility": null,
            "align_self": null,
            "height": null,
            "min_height": null,
            "padding": null,
            "grid_auto_rows": null,
            "grid_gap": null,
            "max_width": null,
            "order": null,
            "_view_module_version": "1.2.0",
            "grid_template_areas": null,
            "object_position": null,
            "object_fit": null,
            "grid_auto_columns": null,
            "margin": null,
            "display": null,
            "left": null
          }
        },
        "920cac10a4be4c249161f12abf6bc329": {
          "model_module": "@jupyter-widgets/controls",
          "model_name": "FloatProgressModel",
          "state": {
            "_view_name": "ProgressView",
            "style": "IPY_MODEL_5773ca233d0a472094251aec6b8c4488",
            "_dom_classes": [],
            "description": "Downloading: 100%",
            "_model_name": "FloatProgressModel",
            "bar_style": "success",
            "max": 209528,
            "_view_module": "@jupyter-widgets/controls",
            "_model_module_version": "1.5.0",
            "value": 209528,
            "_view_count": null,
            "_view_module_version": "1.5.0",
            "orientation": "horizontal",
            "min": 0,
            "description_tooltip": null,
            "_model_module": "@jupyter-widgets/controls",
            "layout": "IPY_MODEL_e999166cf97e4628950a5392e101718d"
          }
        },
        "b26d0fb0e63d49528c7288f3ebe87eaf": {
          "model_module": "@jupyter-widgets/controls",
          "model_name": "HTMLModel",
          "state": {
            "_view_name": "HTMLView",
            "style": "IPY_MODEL_2dc0326616e24a9b9e3a3292289fd017",
            "_dom_classes": [],
            "description": "",
            "_model_name": "HTMLModel",
            "placeholder": "​",
            "_view_module": "@jupyter-widgets/controls",
            "_model_module_version": "1.5.0",
            "value": " 210k/210k [00:00&lt;00:00, 235kB/s]",
            "_view_count": null,
            "_view_module_version": "1.5.0",
            "description_tooltip": null,
            "_model_module": "@jupyter-widgets/controls",
            "layout": "IPY_MODEL_2ad2185fcc344614aba494cafe797fa9"
          }
        },
        "5773ca233d0a472094251aec6b8c4488": {
          "model_module": "@jupyter-widgets/controls",
          "model_name": "ProgressStyleModel",
          "state": {
            "_view_name": "StyleView",
            "_model_name": "ProgressStyleModel",
            "description_width": "initial",
            "_view_module": "@jupyter-widgets/base",
            "_model_module_version": "1.5.0",
            "_view_count": null,
            "_view_module_version": "1.2.0",
            "bar_color": null,
            "_model_module": "@jupyter-widgets/controls"
          }
        },
        "e999166cf97e4628950a5392e101718d": {
          "model_module": "@jupyter-widgets/base",
          "model_name": "LayoutModel",
          "state": {
            "_view_name": "LayoutView",
            "grid_template_rows": null,
            "right": null,
            "justify_content": null,
            "_view_module": "@jupyter-widgets/base",
            "overflow": null,
            "_model_module_version": "1.2.0",
            "_view_count": null,
            "flex_flow": null,
            "width": null,
            "min_width": null,
            "border": null,
            "align_items": null,
            "bottom": null,
            "_model_module": "@jupyter-widgets/base",
            "top": null,
            "grid_column": null,
            "overflow_y": null,
            "overflow_x": null,
            "grid_auto_flow": null,
            "grid_area": null,
            "grid_template_columns": null,
            "flex": null,
            "_model_name": "LayoutModel",
            "justify_items": null,
            "grid_row": null,
            "max_height": null,
            "align_content": null,
            "visibility": null,
            "align_self": null,
            "height": null,
            "min_height": null,
            "padding": null,
            "grid_auto_rows": null,
            "grid_gap": null,
            "max_width": null,
            "order": null,
            "_view_module_version": "1.2.0",
            "grid_template_areas": null,
            "object_position": null,
            "object_fit": null,
            "grid_auto_columns": null,
            "margin": null,
            "display": null,
            "left": null
          }
        },
        "2dc0326616e24a9b9e3a3292289fd017": {
          "model_module": "@jupyter-widgets/controls",
          "model_name": "DescriptionStyleModel",
          "state": {
            "_view_name": "StyleView",
            "_model_name": "DescriptionStyleModel",
            "description_width": "",
            "_view_module": "@jupyter-widgets/base",
            "_model_module_version": "1.5.0",
            "_view_count": null,
            "_view_module_version": "1.2.0",
            "_model_module": "@jupyter-widgets/controls"
          }
        },
        "2ad2185fcc344614aba494cafe797fa9": {
          "model_module": "@jupyter-widgets/base",
          "model_name": "LayoutModel",
          "state": {
            "_view_name": "LayoutView",
            "grid_template_rows": null,
            "right": null,
            "justify_content": null,
            "_view_module": "@jupyter-widgets/base",
            "overflow": null,
            "_model_module_version": "1.2.0",
            "_view_count": null,
            "flex_flow": null,
            "width": null,
            "min_width": null,
            "border": null,
            "align_items": null,
            "bottom": null,
            "_model_module": "@jupyter-widgets/base",
            "top": null,
            "grid_column": null,
            "overflow_y": null,
            "overflow_x": null,
            "grid_auto_flow": null,
            "grid_area": null,
            "grid_template_columns": null,
            "flex": null,
            "_model_name": "LayoutModel",
            "justify_items": null,
            "grid_row": null,
            "max_height": null,
            "align_content": null,
            "visibility": null,
            "align_self": null,
            "height": null,
            "min_height": null,
            "padding": null,
            "grid_auto_rows": null,
            "grid_gap": null,
            "max_width": null,
            "order": null,
            "_view_module_version": "1.2.0",
            "grid_template_areas": null,
            "object_position": null,
            "object_fit": null,
            "grid_auto_columns": null,
            "margin": null,
            "display": null,
            "left": null
          }
        },
        "2d906385e1be4cda89dcf4028d9928ca": {
          "model_module": "@jupyter-widgets/controls",
          "model_name": "HBoxModel",
          "state": {
            "_view_name": "HBoxView",
            "_dom_classes": [],
            "_model_name": "HBoxModel",
            "_view_module": "@jupyter-widgets/controls",
            "_model_module_version": "1.5.0",
            "_view_count": null,
            "_view_module_version": "1.5.0",
            "box_style": "",
            "layout": "IPY_MODEL_ef4425676e9248e88a7491abda04b0a1",
            "_model_module": "@jupyter-widgets/controls",
            "children": [
              "IPY_MODEL_310563cf21554e6599d1692ac21bbed3",
              "IPY_MODEL_4610b905d4184013b44bffdea94a9721"
            ]
          }
        },
        "ef4425676e9248e88a7491abda04b0a1": {
          "model_module": "@jupyter-widgets/base",
          "model_name": "LayoutModel",
          "state": {
            "_view_name": "LayoutView",
            "grid_template_rows": null,
            "right": null,
            "justify_content": null,
            "_view_module": "@jupyter-widgets/base",
            "overflow": null,
            "_model_module_version": "1.2.0",
            "_view_count": null,
            "flex_flow": null,
            "width": null,
            "min_width": null,
            "border": null,
            "align_items": null,
            "bottom": null,
            "_model_module": "@jupyter-widgets/base",
            "top": null,
            "grid_column": null,
            "overflow_y": null,
            "overflow_x": null,
            "grid_auto_flow": null,
            "grid_area": null,
            "grid_template_columns": null,
            "flex": null,
            "_model_name": "LayoutModel",
            "justify_items": null,
            "grid_row": null,
            "max_height": null,
            "align_content": null,
            "visibility": null,
            "align_self": null,
            "height": null,
            "min_height": null,
            "padding": null,
            "grid_auto_rows": null,
            "grid_gap": null,
            "max_width": null,
            "order": null,
            "_view_module_version": "1.2.0",
            "grid_template_areas": null,
            "object_position": null,
            "object_fit": null,
            "grid_auto_columns": null,
            "margin": null,
            "display": null,
            "left": null
          }
        },
        "310563cf21554e6599d1692ac21bbed3": {
          "model_module": "@jupyter-widgets/controls",
          "model_name": "FloatProgressModel",
          "state": {
            "_view_name": "ProgressView",
            "style": "IPY_MODEL_76880f3b6bd040fd8f0878a6479ef404",
            "_dom_classes": [],
            "description": "Downloading: 100%",
            "_model_name": "FloatProgressModel",
            "bar_style": "success",
            "max": 2,
            "_view_module": "@jupyter-widgets/controls",
            "_model_module_version": "1.5.0",
            "value": 2,
            "_view_count": null,
            "_view_module_version": "1.5.0",
            "orientation": "horizontal",
            "min": 0,
            "description_tooltip": null,
            "_model_module": "@jupyter-widgets/controls",
            "layout": "IPY_MODEL_0b3a49cc313a42c7a0be3cf3d9b298ae"
          }
        },
        "4610b905d4184013b44bffdea94a9721": {
          "model_module": "@jupyter-widgets/controls",
          "model_name": "HTMLModel",
          "state": {
            "_view_name": "HTMLView",
            "style": "IPY_MODEL_b07a5c53619a485cab084658e6866acb",
            "_dom_classes": [],
            "description": "",
            "_model_name": "HTMLModel",
            "placeholder": "​",
            "_view_module": "@jupyter-widgets/controls",
            "_model_module_version": "1.5.0",
            "value": " 2.00/2.00 [00:01&lt;00:00, 1.66B/s]",
            "_view_count": null,
            "_view_module_version": "1.5.0",
            "description_tooltip": null,
            "_model_module": "@jupyter-widgets/controls",
            "layout": "IPY_MODEL_4d9d3b45c0c94a5eaa42b949f0954c29"
          }
        },
        "76880f3b6bd040fd8f0878a6479ef404": {
          "model_module": "@jupyter-widgets/controls",
          "model_name": "ProgressStyleModel",
          "state": {
            "_view_name": "StyleView",
            "_model_name": "ProgressStyleModel",
            "description_width": "initial",
            "_view_module": "@jupyter-widgets/base",
            "_model_module_version": "1.5.0",
            "_view_count": null,
            "_view_module_version": "1.2.0",
            "bar_color": null,
            "_model_module": "@jupyter-widgets/controls"
          }
        },
        "0b3a49cc313a42c7a0be3cf3d9b298ae": {
          "model_module": "@jupyter-widgets/base",
          "model_name": "LayoutModel",
          "state": {
            "_view_name": "LayoutView",
            "grid_template_rows": null,
            "right": null,
            "justify_content": null,
            "_view_module": "@jupyter-widgets/base",
            "overflow": null,
            "_model_module_version": "1.2.0",
            "_view_count": null,
            "flex_flow": null,
            "width": null,
            "min_width": null,
            "border": null,
            "align_items": null,
            "bottom": null,
            "_model_module": "@jupyter-widgets/base",
            "top": null,
            "grid_column": null,
            "overflow_y": null,
            "overflow_x": null,
            "grid_auto_flow": null,
            "grid_area": null,
            "grid_template_columns": null,
            "flex": null,
            "_model_name": "LayoutModel",
            "justify_items": null,
            "grid_row": null,
            "max_height": null,
            "align_content": null,
            "visibility": null,
            "align_self": null,
            "height": null,
            "min_height": null,
            "padding": null,
            "grid_auto_rows": null,
            "grid_gap": null,
            "max_width": null,
            "order": null,
            "_view_module_version": "1.2.0",
            "grid_template_areas": null,
            "object_position": null,
            "object_fit": null,
            "grid_auto_columns": null,
            "margin": null,
            "display": null,
            "left": null
          }
        },
        "b07a5c53619a485cab084658e6866acb": {
          "model_module": "@jupyter-widgets/controls",
          "model_name": "DescriptionStyleModel",
          "state": {
            "_view_name": "StyleView",
            "_model_name": "DescriptionStyleModel",
            "description_width": "",
            "_view_module": "@jupyter-widgets/base",
            "_model_module_version": "1.5.0",
            "_view_count": null,
            "_view_module_version": "1.2.0",
            "_model_module": "@jupyter-widgets/controls"
          }
        },
        "4d9d3b45c0c94a5eaa42b949f0954c29": {
          "model_module": "@jupyter-widgets/base",
          "model_name": "LayoutModel",
          "state": {
            "_view_name": "LayoutView",
            "grid_template_rows": null,
            "right": null,
            "justify_content": null,
            "_view_module": "@jupyter-widgets/base",
            "overflow": null,
            "_model_module_version": "1.2.0",
            "_view_count": null,
            "flex_flow": null,
            "width": null,
            "min_width": null,
            "border": null,
            "align_items": null,
            "bottom": null,
            "_model_module": "@jupyter-widgets/base",
            "top": null,
            "grid_column": null,
            "overflow_y": null,
            "overflow_x": null,
            "grid_auto_flow": null,
            "grid_area": null,
            "grid_template_columns": null,
            "flex": null,
            "_model_name": "LayoutModel",
            "justify_items": null,
            "grid_row": null,
            "max_height": null,
            "align_content": null,
            "visibility": null,
            "align_self": null,
            "height": null,
            "min_height": null,
            "padding": null,
            "grid_auto_rows": null,
            "grid_gap": null,
            "max_width": null,
            "order": null,
            "_view_module_version": "1.2.0",
            "grid_template_areas": null,
            "object_position": null,
            "object_fit": null,
            "grid_auto_columns": null,
            "margin": null,
            "display": null,
            "left": null
          }
        },
        "004eaa5f9b1b4ab8855d298836cbe295": {
          "model_module": "@jupyter-widgets/controls",
          "model_name": "HBoxModel",
          "state": {
            "_view_name": "HBoxView",
            "_dom_classes": [],
            "_model_name": "HBoxModel",
            "_view_module": "@jupyter-widgets/controls",
            "_model_module_version": "1.5.0",
            "_view_count": null,
            "_view_module_version": "1.5.0",
            "box_style": "",
            "layout": "IPY_MODEL_7d95a3652c0b482f953d50b5bdcac643",
            "_model_module": "@jupyter-widgets/controls",
            "children": [
              "IPY_MODEL_31c723590dca4bffbcce828585c78695",
              "IPY_MODEL_039c40bc3ba54ce2b9937faf02004c0f"
            ]
          }
        },
        "7d95a3652c0b482f953d50b5bdcac643": {
          "model_module": "@jupyter-widgets/base",
          "model_name": "LayoutModel",
          "state": {
            "_view_name": "LayoutView",
            "grid_template_rows": null,
            "right": null,
            "justify_content": null,
            "_view_module": "@jupyter-widgets/base",
            "overflow": null,
            "_model_module_version": "1.2.0",
            "_view_count": null,
            "flex_flow": null,
            "width": null,
            "min_width": null,
            "border": null,
            "align_items": null,
            "bottom": null,
            "_model_module": "@jupyter-widgets/base",
            "top": null,
            "grid_column": null,
            "overflow_y": null,
            "overflow_x": null,
            "grid_auto_flow": null,
            "grid_area": null,
            "grid_template_columns": null,
            "flex": null,
            "_model_name": "LayoutModel",
            "justify_items": null,
            "grid_row": null,
            "max_height": null,
            "align_content": null,
            "visibility": null,
            "align_self": null,
            "height": null,
            "min_height": null,
            "padding": null,
            "grid_auto_rows": null,
            "grid_gap": null,
            "max_width": null,
            "order": null,
            "_view_module_version": "1.2.0",
            "grid_template_areas": null,
            "object_position": null,
            "object_fit": null,
            "grid_auto_columns": null,
            "margin": null,
            "display": null,
            "left": null
          }
        },
        "31c723590dca4bffbcce828585c78695": {
          "model_module": "@jupyter-widgets/controls",
          "model_name": "FloatProgressModel",
          "state": {
            "_view_name": "ProgressView",
            "style": "IPY_MODEL_e300d3064bc642f191370dbbcf94e66d",
            "_dom_classes": [],
            "description": "Downloading: 100%",
            "_model_name": "FloatProgressModel",
            "bar_style": "success",
            "max": 112,
            "_view_module": "@jupyter-widgets/controls",
            "_model_module_version": "1.5.0",
            "value": 112,
            "_view_count": null,
            "_view_module_version": "1.5.0",
            "orientation": "horizontal",
            "min": 0,
            "description_tooltip": null,
            "_model_module": "@jupyter-widgets/controls",
            "layout": "IPY_MODEL_bd365bfb74b4437690b280a14ba16ca6"
          }
        },
        "039c40bc3ba54ce2b9937faf02004c0f": {
          "model_module": "@jupyter-widgets/controls",
          "model_name": "HTMLModel",
          "state": {
            "_view_name": "HTMLView",
            "style": "IPY_MODEL_eb65e10a1cb54512b273ff61eeacec00",
            "_dom_classes": [],
            "description": "",
            "_model_name": "HTMLModel",
            "placeholder": "​",
            "_view_module": "@jupyter-widgets/controls",
            "_model_module_version": "1.5.0",
            "value": " 112/112 [00:00&lt;00:00, 187B/s]",
            "_view_count": null,
            "_view_module_version": "1.5.0",
            "description_tooltip": null,
            "_model_module": "@jupyter-widgets/controls",
            "layout": "IPY_MODEL_1041a8057a02465f9ee7dd6163793546"
          }
        },
        "e300d3064bc642f191370dbbcf94e66d": {
          "model_module": "@jupyter-widgets/controls",
          "model_name": "ProgressStyleModel",
          "state": {
            "_view_name": "StyleView",
            "_model_name": "ProgressStyleModel",
            "description_width": "initial",
            "_view_module": "@jupyter-widgets/base",
            "_model_module_version": "1.5.0",
            "_view_count": null,
            "_view_module_version": "1.2.0",
            "bar_color": null,
            "_model_module": "@jupyter-widgets/controls"
          }
        },
        "bd365bfb74b4437690b280a14ba16ca6": {
          "model_module": "@jupyter-widgets/base",
          "model_name": "LayoutModel",
          "state": {
            "_view_name": "LayoutView",
            "grid_template_rows": null,
            "right": null,
            "justify_content": null,
            "_view_module": "@jupyter-widgets/base",
            "overflow": null,
            "_model_module_version": "1.2.0",
            "_view_count": null,
            "flex_flow": null,
            "width": null,
            "min_width": null,
            "border": null,
            "align_items": null,
            "bottom": null,
            "_model_module": "@jupyter-widgets/base",
            "top": null,
            "grid_column": null,
            "overflow_y": null,
            "overflow_x": null,
            "grid_auto_flow": null,
            "grid_area": null,
            "grid_template_columns": null,
            "flex": null,
            "_model_name": "LayoutModel",
            "justify_items": null,
            "grid_row": null,
            "max_height": null,
            "align_content": null,
            "visibility": null,
            "align_self": null,
            "height": null,
            "min_height": null,
            "padding": null,
            "grid_auto_rows": null,
            "grid_gap": null,
            "max_width": null,
            "order": null,
            "_view_module_version": "1.2.0",
            "grid_template_areas": null,
            "object_position": null,
            "object_fit": null,
            "grid_auto_columns": null,
            "margin": null,
            "display": null,
            "left": null
          }
        },
        "eb65e10a1cb54512b273ff61eeacec00": {
          "model_module": "@jupyter-widgets/controls",
          "model_name": "DescriptionStyleModel",
          "state": {
            "_view_name": "StyleView",
            "_model_name": "DescriptionStyleModel",
            "description_width": "",
            "_view_module": "@jupyter-widgets/base",
            "_model_module_version": "1.5.0",
            "_view_count": null,
            "_view_module_version": "1.2.0",
            "_model_module": "@jupyter-widgets/controls"
          }
        },
        "1041a8057a02465f9ee7dd6163793546": {
          "model_module": "@jupyter-widgets/base",
          "model_name": "LayoutModel",
          "state": {
            "_view_name": "LayoutView",
            "grid_template_rows": null,
            "right": null,
            "justify_content": null,
            "_view_module": "@jupyter-widgets/base",
            "overflow": null,
            "_model_module_version": "1.2.0",
            "_view_count": null,
            "flex_flow": null,
            "width": null,
            "min_width": null,
            "border": null,
            "align_items": null,
            "bottom": null,
            "_model_module": "@jupyter-widgets/base",
            "top": null,
            "grid_column": null,
            "overflow_y": null,
            "overflow_x": null,
            "grid_auto_flow": null,
            "grid_area": null,
            "grid_template_columns": null,
            "flex": null,
            "_model_name": "LayoutModel",
            "justify_items": null,
            "grid_row": null,
            "max_height": null,
            "align_content": null,
            "visibility": null,
            "align_self": null,
            "height": null,
            "min_height": null,
            "padding": null,
            "grid_auto_rows": null,
            "grid_gap": null,
            "max_width": null,
            "order": null,
            "_view_module_version": "1.2.0",
            "grid_template_areas": null,
            "object_position": null,
            "object_fit": null,
            "grid_auto_columns": null,
            "margin": null,
            "display": null,
            "left": null
          }
        },
        "eee5b486517c4a87a7ea8dca84fe2927": {
          "model_module": "@jupyter-widgets/controls",
          "model_name": "HBoxModel",
          "state": {
            "_view_name": "HBoxView",
            "_dom_classes": [],
            "_model_name": "HBoxModel",
            "_view_module": "@jupyter-widgets/controls",
            "_model_module_version": "1.5.0",
            "_view_count": null,
            "_view_module_version": "1.5.0",
            "box_style": "",
            "layout": "IPY_MODEL_7aeff5d493024c77b8cbfc733dc9a3ee",
            "_model_module": "@jupyter-widgets/controls",
            "children": [
              "IPY_MODEL_aabab3e3106d4e77954b3c7f1fa46223",
              "IPY_MODEL_192f60d264964546a742bd036f70209b"
            ]
          }
        },
        "7aeff5d493024c77b8cbfc733dc9a3ee": {
          "model_module": "@jupyter-widgets/base",
          "model_name": "LayoutModel",
          "state": {
            "_view_name": "LayoutView",
            "grid_template_rows": null,
            "right": null,
            "justify_content": null,
            "_view_module": "@jupyter-widgets/base",
            "overflow": null,
            "_model_module_version": "1.2.0",
            "_view_count": null,
            "flex_flow": null,
            "width": null,
            "min_width": null,
            "border": null,
            "align_items": null,
            "bottom": null,
            "_model_module": "@jupyter-widgets/base",
            "top": null,
            "grid_column": null,
            "overflow_y": null,
            "overflow_x": null,
            "grid_auto_flow": null,
            "grid_area": null,
            "grid_template_columns": null,
            "flex": null,
            "_model_name": "LayoutModel",
            "justify_items": null,
            "grid_row": null,
            "max_height": null,
            "align_content": null,
            "visibility": null,
            "align_self": null,
            "height": null,
            "min_height": null,
            "padding": null,
            "grid_auto_rows": null,
            "grid_gap": null,
            "max_width": null,
            "order": null,
            "_view_module_version": "1.2.0",
            "grid_template_areas": null,
            "object_position": null,
            "object_fit": null,
            "grid_auto_columns": null,
            "margin": null,
            "display": null,
            "left": null
          }
        },
        "aabab3e3106d4e77954b3c7f1fa46223": {
          "model_module": "@jupyter-widgets/controls",
          "model_name": "FloatProgressModel",
          "state": {
            "_view_name": "ProgressView",
            "style": "IPY_MODEL_c31a574aceb647e8a60b9b02be371845",
            "_dom_classes": [],
            "description": "Downloading: 100%",
            "_model_name": "FloatProgressModel",
            "bar_style": "success",
            "max": 438235074,
            "_view_module": "@jupyter-widgets/controls",
            "_model_module_version": "1.5.0",
            "value": 438235074,
            "_view_count": null,
            "_view_module_version": "1.5.0",
            "orientation": "horizontal",
            "min": 0,
            "description_tooltip": null,
            "_model_module": "@jupyter-widgets/controls",
            "layout": "IPY_MODEL_4faf856df33f407ebca7a6d6707b2397"
          }
        },
        "192f60d264964546a742bd036f70209b": {
          "model_module": "@jupyter-widgets/controls",
          "model_name": "HTMLModel",
          "state": {
            "_view_name": "HTMLView",
            "style": "IPY_MODEL_e8ca911ca10341079b862f0ab4da0ea0",
            "_dom_classes": [],
            "description": "",
            "_model_name": "HTMLModel",
            "placeholder": "​",
            "_view_module": "@jupyter-widgets/controls",
            "_model_module_version": "1.5.0",
            "value": " 438M/438M [00:12&lt;00:00, 35.5MB/s]",
            "_view_count": null,
            "_view_module_version": "1.5.0",
            "description_tooltip": null,
            "_model_module": "@jupyter-widgets/controls",
            "layout": "IPY_MODEL_4c6b0ce312184774aaa30576dc0b881d"
          }
        },
        "c31a574aceb647e8a60b9b02be371845": {
          "model_module": "@jupyter-widgets/controls",
          "model_name": "ProgressStyleModel",
          "state": {
            "_view_name": "StyleView",
            "_model_name": "ProgressStyleModel",
            "description_width": "initial",
            "_view_module": "@jupyter-widgets/base",
            "_model_module_version": "1.5.0",
            "_view_count": null,
            "_view_module_version": "1.2.0",
            "bar_color": null,
            "_model_module": "@jupyter-widgets/controls"
          }
        },
        "4faf856df33f407ebca7a6d6707b2397": {
          "model_module": "@jupyter-widgets/base",
          "model_name": "LayoutModel",
          "state": {
            "_view_name": "LayoutView",
            "grid_template_rows": null,
            "right": null,
            "justify_content": null,
            "_view_module": "@jupyter-widgets/base",
            "overflow": null,
            "_model_module_version": "1.2.0",
            "_view_count": null,
            "flex_flow": null,
            "width": null,
            "min_width": null,
            "border": null,
            "align_items": null,
            "bottom": null,
            "_model_module": "@jupyter-widgets/base",
            "top": null,
            "grid_column": null,
            "overflow_y": null,
            "overflow_x": null,
            "grid_auto_flow": null,
            "grid_area": null,
            "grid_template_columns": null,
            "flex": null,
            "_model_name": "LayoutModel",
            "justify_items": null,
            "grid_row": null,
            "max_height": null,
            "align_content": null,
            "visibility": null,
            "align_self": null,
            "height": null,
            "min_height": null,
            "padding": null,
            "grid_auto_rows": null,
            "grid_gap": null,
            "max_width": null,
            "order": null,
            "_view_module_version": "1.2.0",
            "grid_template_areas": null,
            "object_position": null,
            "object_fit": null,
            "grid_auto_columns": null,
            "margin": null,
            "display": null,
            "left": null
          }
        },
        "e8ca911ca10341079b862f0ab4da0ea0": {
          "model_module": "@jupyter-widgets/controls",
          "model_name": "DescriptionStyleModel",
          "state": {
            "_view_name": "StyleView",
            "_model_name": "DescriptionStyleModel",
            "description_width": "",
            "_view_module": "@jupyter-widgets/base",
            "_model_module_version": "1.5.0",
            "_view_count": null,
            "_view_module_version": "1.2.0",
            "_model_module": "@jupyter-widgets/controls"
          }
        },
        "4c6b0ce312184774aaa30576dc0b881d": {
          "model_module": "@jupyter-widgets/base",
          "model_name": "LayoutModel",
          "state": {
            "_view_name": "LayoutView",
            "grid_template_rows": null,
            "right": null,
            "justify_content": null,
            "_view_module": "@jupyter-widgets/base",
            "overflow": null,
            "_model_module_version": "1.2.0",
            "_view_count": null,
            "flex_flow": null,
            "width": null,
            "min_width": null,
            "border": null,
            "align_items": null,
            "bottom": null,
            "_model_module": "@jupyter-widgets/base",
            "top": null,
            "grid_column": null,
            "overflow_y": null,
            "overflow_x": null,
            "grid_auto_flow": null,
            "grid_area": null,
            "grid_template_columns": null,
            "flex": null,
            "_model_name": "LayoutModel",
            "justify_items": null,
            "grid_row": null,
            "max_height": null,
            "align_content": null,
            "visibility": null,
            "align_self": null,
            "height": null,
            "min_height": null,
            "padding": null,
            "grid_auto_rows": null,
            "grid_gap": null,
            "max_width": null,
            "order": null,
            "_view_module_version": "1.2.0",
            "grid_template_areas": null,
            "object_position": null,
            "object_fit": null,
            "grid_auto_columns": null,
            "margin": null,
            "display": null,
            "left": null
          }
        }
      }
    }
  },
  "cells": [
    {
      "cell_type": "markdown",
      "metadata": {
        "id": "view-in-github",
        "colab_type": "text"
      },
      "source": [
        "<a href=\"https://colab.research.google.com/github/HedersonSantos/Noticias/blob/main/BERT/BERTimbau_news_integradas.ipynb\" target=\"_parent\"><img src=\"https://colab.research.google.com/assets/colab-badge.svg\" alt=\"Open In Colab\"/></a>"
      ]
    },
    {
      "cell_type": "code",
      "metadata": {
        "colab": {
          "base_uri": "https://localhost:8080/"
        },
        "id": "SKMj5WG6lxGP",
        "outputId": "b7cea79e-fdbc-4e29-c925-d622299704cf"
      },
      "source": [
        "! pip install transformers"
      ],
      "execution_count": 1,
      "outputs": [
        {
          "output_type": "stream",
          "text": [
            "Collecting transformers\n",
            "  Downloading transformers-4.9.1-py3-none-any.whl (2.6 MB)\n",
            "\u001b[K     |████████████████████████████████| 2.6 MB 8.2 MB/s \n",
            "\u001b[?25hRequirement already satisfied: numpy>=1.17 in /usr/local/lib/python3.7/dist-packages (from transformers) (1.19.5)\n",
            "Requirement already satisfied: regex!=2019.12.17 in /usr/local/lib/python3.7/dist-packages (from transformers) (2019.12.20)\n",
            "Requirement already satisfied: requests in /usr/local/lib/python3.7/dist-packages (from transformers) (2.23.0)\n",
            "Collecting tokenizers<0.11,>=0.10.1\n",
            "  Downloading tokenizers-0.10.3-cp37-cp37m-manylinux_2_5_x86_64.manylinux1_x86_64.manylinux_2_12_x86_64.manylinux2010_x86_64.whl (3.3 MB)\n",
            "\u001b[K     |████████████████████████████████| 3.3 MB 53.1 MB/s \n",
            "\u001b[?25hCollecting sacremoses\n",
            "  Downloading sacremoses-0.0.45-py3-none-any.whl (895 kB)\n",
            "\u001b[K     |████████████████████████████████| 895 kB 60.5 MB/s \n",
            "\u001b[?25hCollecting huggingface-hub==0.0.12\n",
            "  Downloading huggingface_hub-0.0.12-py3-none-any.whl (37 kB)\n",
            "Requirement already satisfied: importlib-metadata in /usr/local/lib/python3.7/dist-packages (from transformers) (4.6.1)\n",
            "Requirement already satisfied: tqdm>=4.27 in /usr/local/lib/python3.7/dist-packages (from transformers) (4.41.1)\n",
            "Requirement already satisfied: filelock in /usr/local/lib/python3.7/dist-packages (from transformers) (3.0.12)\n",
            "Collecting pyyaml>=5.1\n",
            "  Downloading PyYAML-5.4.1-cp37-cp37m-manylinux1_x86_64.whl (636 kB)\n",
            "\u001b[K     |████████████████████████████████| 636 kB 71.9 MB/s \n",
            "\u001b[?25hRequirement already satisfied: packaging in /usr/local/lib/python3.7/dist-packages (from transformers) (21.0)\n",
            "Requirement already satisfied: typing-extensions in /usr/local/lib/python3.7/dist-packages (from huggingface-hub==0.0.12->transformers) (3.7.4.3)\n",
            "Requirement already satisfied: pyparsing>=2.0.2 in /usr/local/lib/python3.7/dist-packages (from packaging->transformers) (2.4.7)\n",
            "Requirement already satisfied: zipp>=0.5 in /usr/local/lib/python3.7/dist-packages (from importlib-metadata->transformers) (3.5.0)\n",
            "Requirement already satisfied: chardet<4,>=3.0.2 in /usr/local/lib/python3.7/dist-packages (from requests->transformers) (3.0.4)\n",
            "Requirement already satisfied: idna<3,>=2.5 in /usr/local/lib/python3.7/dist-packages (from requests->transformers) (2.10)\n",
            "Requirement already satisfied: certifi>=2017.4.17 in /usr/local/lib/python3.7/dist-packages (from requests->transformers) (2021.5.30)\n",
            "Requirement already satisfied: urllib3!=1.25.0,!=1.25.1,<1.26,>=1.21.1 in /usr/local/lib/python3.7/dist-packages (from requests->transformers) (1.24.3)\n",
            "Requirement already satisfied: click in /usr/local/lib/python3.7/dist-packages (from sacremoses->transformers) (7.1.2)\n",
            "Requirement already satisfied: six in /usr/local/lib/python3.7/dist-packages (from sacremoses->transformers) (1.15.0)\n",
            "Requirement already satisfied: joblib in /usr/local/lib/python3.7/dist-packages (from sacremoses->transformers) (1.0.1)\n",
            "Installing collected packages: tokenizers, sacremoses, pyyaml, huggingface-hub, transformers\n",
            "  Attempting uninstall: pyyaml\n",
            "    Found existing installation: PyYAML 3.13\n",
            "    Uninstalling PyYAML-3.13:\n",
            "      Successfully uninstalled PyYAML-3.13\n",
            "Successfully installed huggingface-hub-0.0.12 pyyaml-5.4.1 sacremoses-0.0.45 tokenizers-0.10.3 transformers-4.9.1\n"
          ],
          "name": "stdout"
        }
      ]
    },
    {
      "cell_type": "code",
      "metadata": {
        "id": "fIlZbdsGo_vR",
        "colab": {
          "base_uri": "https://localhost:8080/"
        },
        "outputId": "772cf7ec-8e4d-4db7-ba2f-4607f6b31167"
      },
      "source": [
        "\n",
        "!pip install torch==1.8.1 torchvision==0.9.1 torchaudio==0.8.\n"
      ],
      "execution_count": 2,
      "outputs": [
        {
          "output_type": "stream",
          "text": [
            "Collecting torch==1.8.1\n",
            "  Downloading torch-1.8.1-cp37-cp37m-manylinux1_x86_64.whl (804.1 MB)\n",
            "\u001b[K     |████████████████████████████████| 804.1 MB 2.8 kB/s \n",
            "\u001b[?25hCollecting torchvision==0.9.1\n",
            "  Downloading torchvision-0.9.1-cp37-cp37m-manylinux1_x86_64.whl (17.4 MB)\n",
            "\u001b[K     |████████████████████████████████| 17.4 MB 118 kB/s \n",
            "\u001b[?25hCollecting torchaudio==0.8.\n",
            "  Downloading torchaudio-0.8.0-cp37-cp37m-manylinux1_x86_64.whl (1.9 MB)\n",
            "\u001b[K     |████████████████████████████████| 1.9 MB 54.7 MB/s \n",
            "\u001b[?25hRequirement already satisfied: numpy in /usr/local/lib/python3.7/dist-packages (from torch==1.8.1) (1.19.5)\n",
            "Requirement already satisfied: typing-extensions in /usr/local/lib/python3.7/dist-packages (from torch==1.8.1) (3.7.4.3)\n",
            "Requirement already satisfied: pillow>=4.1.1 in /usr/local/lib/python3.7/dist-packages (from torchvision==0.9.1) (7.1.2)\n",
            "INFO: pip is looking at multiple versions of torchvision to determine which version is compatible with other requirements. This could take a while.\n",
            "INFO: pip is looking at multiple versions of <Python from Requires-Python> to determine which version is compatible with other requirements. This could take a while.\n",
            "INFO: pip is looking at multiple versions of torch to determine which version is compatible with other requirements. This could take a while.\n",
            "\u001b[31mERROR: Cannot install torch==1.8.1, torchaudio==0.8.0 and torchvision==0.9.1 because these package versions have conflicting dependencies.\u001b[0m\n",
            "\n",
            "The conflict is caused by:\n",
            "    The user requested torch==1.8.1\n",
            "    torchvision 0.9.1 depends on torch==1.8.1\n",
            "    torchaudio 0.8.0 depends on torch==1.8.0\n",
            "\n",
            "To fix this you could try to:\n",
            "1. loosen the range of package versions you've specified\n",
            "2. remove package versions to allow pip attempt to solve the dependency conflict\n",
            "\n",
            "\u001b[31mERROR: ResolutionImpossible: for help visit https://pip.pypa.io/en/latest/user_guide/#fixing-conflicting-dependencies\u001b[0m\n"
          ],
          "name": "stdout"
        }
      ]
    },
    {
      "cell_type": "code",
      "metadata": {
        "id": "ky7aWx6DyYU4",
        "colab": {
          "base_uri": "https://localhost:8080/"
        },
        "outputId": "50bc7d24-b2da-49f2-98cc-1c0934327b42"
      },
      "source": [
        "!nvidia-smi"
      ],
      "execution_count": 4,
      "outputs": [
        {
          "output_type": "stream",
          "text": [
            "Sat Jul 31 15:59:59 2021       \n",
            "+-----------------------------------------------------------------------------+\n",
            "| NVIDIA-SMI 470.42.01    Driver Version: 460.32.03    CUDA Version: 11.2     |\n",
            "|-------------------------------+----------------------+----------------------+\n",
            "| GPU  Name        Persistence-M| Bus-Id        Disp.A | Volatile Uncorr. ECC |\n",
            "| Fan  Temp  Perf  Pwr:Usage/Cap|         Memory-Usage | GPU-Util  Compute M. |\n",
            "|                               |                      |               MIG M. |\n",
            "|===============================+======================+======================|\n",
            "|   0  Tesla T4            Off  | 00000000:00:04.0 Off |                    0 |\n",
            "| N/A   40C    P8     9W /  70W |      0MiB / 15109MiB |      0%      Default |\n",
            "|                               |                      |                  N/A |\n",
            "+-------------------------------+----------------------+----------------------+\n",
            "                                                                               \n",
            "+-----------------------------------------------------------------------------+\n",
            "| Processes:                                                                  |\n",
            "|  GPU   GI   CI        PID   Type   Process name                  GPU Memory |\n",
            "|        ID   ID                                                   Usage      |\n",
            "|=============================================================================|\n",
            "|  No running processes found                                                 |\n",
            "+-----------------------------------------------------------------------------+\n"
          ],
          "name": "stdout"
        }
      ]
    },
    {
      "cell_type": "code",
      "metadata": {
        "id": "Hts6ewoYvUYn"
      },
      "source": [
        "# Libraries\n",
        "\n",
        "import matplotlib.pyplot as plt\n",
        "import pandas as pd\n",
        "import numpy as np\n",
        "import torch\n",
        "from google.colab import files, drive\n",
        "\n",
        "# Preliminaries\n",
        "\n",
        "from torchtext.legacy.data import Field, TabularDataset, BucketIterator, Iterator\n",
        "\n",
        "# Models\n",
        "\n",
        "import torch.nn as nn\n",
        "from transformers import BertTokenizer, BertForSequenceClassification, BertConfig\n",
        "from transformers import AutoTokenizer  # Or BertTokenizer\n",
        "from transformers import AutoModelForPreTraining  # Or BertForPreTraining for loading pretraining heads\n",
        "from transformers import AutoModel  # or BertModel, for BERT without pretraining heads\n",
        "\n",
        "# Training\n",
        "\n",
        "import torch.optim as optim\n",
        "\n",
        "# Evaluation\n",
        "\n",
        "from sklearn.metrics import accuracy_score, classification_report, confusion_matrix\n",
        "import seaborn as sns"
      ],
      "execution_count": 10,
      "outputs": []
    },
    {
      "cell_type": "markdown",
      "metadata": {
        "id": "cPOdGbGitPHS"
      },
      "source": [
        "### Carregando tokens e vocabulário do BERTimbau"
      ]
    },
    {
      "cell_type": "code",
      "metadata": {
        "colab": {
          "base_uri": "https://localhost:8080/",
          "height": 375,
          "referenced_widgets": [
            "5a67700b63864beabfb79c44b8a07004",
            "cb4add9c5ee14ced93f93b3d17d119a8",
            "0ed60ce1a77d4ca6aeffa2263bfd8f03",
            "36cc76b53c3e49ed82ad6e011d6515cc",
            "b3ec0e3305054610bbd305642b97994e",
            "5aa9ebf50e024e74a8b0337640958fb5",
            "7d330fa1b57449cabad501e814325b9a",
            "9aa93bb6111146d9a94e4771611a53fe",
            "3f82b945fc934b7e89c7da9c2b438a3b",
            "b6d152562a1145cdab508d4a5e0b113b",
            "ea0e38a1e736413fae75790d4507dda3",
            "cb05711dfbf948b5bbf2f207bc8e6862",
            "eb6280362fdf4dbb8ecfbff19a073675",
            "11d8f4e7305e43b488e33560e0677aed",
            "22997668971443d18c9e814fd4a9f49c",
            "370260512d3f4f12aa4f0cd601d0f25b",
            "0ec80168d05341ffa5c05c922e6cc2da",
            "f8b176eae0144a60a95be9761c89ee30",
            "920cac10a4be4c249161f12abf6bc329",
            "b26d0fb0e63d49528c7288f3ebe87eaf",
            "5773ca233d0a472094251aec6b8c4488",
            "e999166cf97e4628950a5392e101718d",
            "2dc0326616e24a9b9e3a3292289fd017",
            "2ad2185fcc344614aba494cafe797fa9",
            "2d906385e1be4cda89dcf4028d9928ca",
            "ef4425676e9248e88a7491abda04b0a1",
            "310563cf21554e6599d1692ac21bbed3",
            "4610b905d4184013b44bffdea94a9721",
            "76880f3b6bd040fd8f0878a6479ef404",
            "0b3a49cc313a42c7a0be3cf3d9b298ae",
            "b07a5c53619a485cab084658e6866acb",
            "4d9d3b45c0c94a5eaa42b949f0954c29",
            "004eaa5f9b1b4ab8855d298836cbe295",
            "7d95a3652c0b482f953d50b5bdcac643",
            "31c723590dca4bffbcce828585c78695",
            "039c40bc3ba54ce2b9937faf02004c0f",
            "e300d3064bc642f191370dbbcf94e66d",
            "bd365bfb74b4437690b280a14ba16ca6",
            "eb65e10a1cb54512b273ff61eeacec00",
            "1041a8057a02465f9ee7dd6163793546",
            "eee5b486517c4a87a7ea8dca84fe2927",
            "7aeff5d493024c77b8cbfc733dc9a3ee",
            "aabab3e3106d4e77954b3c7f1fa46223",
            "192f60d264964546a742bd036f70209b",
            "c31a574aceb647e8a60b9b02be371845",
            "4faf856df33f407ebca7a6d6707b2397",
            "e8ca911ca10341079b862f0ab4da0ea0",
            "4c6b0ce312184774aaa30576dc0b881d"
          ]
        },
        "id": "MLcgDJZSpmfD",
        "outputId": "63a400b6-aac2-4100-df3c-5b6c6a0ab309"
      },
      "source": [
        "tokenizer = AutoTokenizer.from_pretrained('neuralmind/bert-base-portuguese-cased')\n",
        "model = AutoModel.from_pretrained('neuralmind/bert-base-portuguese-cased')"
      ],
      "execution_count": 7,
      "outputs": [
        {
          "output_type": "display_data",
          "data": {
            "application/vnd.jupyter.widget-view+json": {
              "model_id": "5a67700b63864beabfb79c44b8a07004",
              "version_minor": 0,
              "version_major": 2
            },
            "text/plain": [
              "HBox(children=(FloatProgress(value=0.0, description='Downloading', max=43.0, style=ProgressStyle(description_w…"
            ]
          },
          "metadata": {
            "tags": []
          }
        },
        {
          "output_type": "stream",
          "text": [
            "\n"
          ],
          "name": "stdout"
        },
        {
          "output_type": "display_data",
          "data": {
            "application/vnd.jupyter.widget-view+json": {
              "model_id": "3f82b945fc934b7e89c7da9c2b438a3b",
              "version_minor": 0,
              "version_major": 2
            },
            "text/plain": [
              "HBox(children=(FloatProgress(value=0.0, description='Downloading', max=647.0, style=ProgressStyle(description_…"
            ]
          },
          "metadata": {
            "tags": []
          }
        },
        {
          "output_type": "stream",
          "text": [
            "\n"
          ],
          "name": "stdout"
        },
        {
          "output_type": "display_data",
          "data": {
            "application/vnd.jupyter.widget-view+json": {
              "model_id": "0ec80168d05341ffa5c05c922e6cc2da",
              "version_minor": 0,
              "version_major": 2
            },
            "text/plain": [
              "HBox(children=(FloatProgress(value=0.0, description='Downloading', max=209528.0, style=ProgressStyle(descripti…"
            ]
          },
          "metadata": {
            "tags": []
          }
        },
        {
          "output_type": "stream",
          "text": [
            "\n"
          ],
          "name": "stdout"
        },
        {
          "output_type": "display_data",
          "data": {
            "application/vnd.jupyter.widget-view+json": {
              "model_id": "2d906385e1be4cda89dcf4028d9928ca",
              "version_minor": 0,
              "version_major": 2
            },
            "text/plain": [
              "HBox(children=(FloatProgress(value=0.0, description='Downloading', max=2.0, style=ProgressStyle(description_wi…"
            ]
          },
          "metadata": {
            "tags": []
          }
        },
        {
          "output_type": "stream",
          "text": [
            "\n"
          ],
          "name": "stdout"
        },
        {
          "output_type": "display_data",
          "data": {
            "application/vnd.jupyter.widget-view+json": {
              "model_id": "004eaa5f9b1b4ab8855d298836cbe295",
              "version_minor": 0,
              "version_major": 2
            },
            "text/plain": [
              "HBox(children=(FloatProgress(value=0.0, description='Downloading', max=112.0, style=ProgressStyle(description_…"
            ]
          },
          "metadata": {
            "tags": []
          }
        },
        {
          "output_type": "stream",
          "text": [
            "\n"
          ],
          "name": "stdout"
        },
        {
          "output_type": "display_data",
          "data": {
            "application/vnd.jupyter.widget-view+json": {
              "model_id": "eee5b486517c4a87a7ea8dca84fe2927",
              "version_minor": 0,
              "version_major": 2
            },
            "text/plain": [
              "HBox(children=(FloatProgress(value=0.0, description='Downloading', max=438235074.0, style=ProgressStyle(descri…"
            ]
          },
          "metadata": {
            "tags": []
          }
        },
        {
          "output_type": "stream",
          "text": [
            "\n"
          ],
          "name": "stdout"
        },
        {
          "output_type": "stream",
          "text": [
            "Some weights of the model checkpoint at neuralmind/bert-base-portuguese-cased were not used when initializing BertModel: ['cls.predictions.decoder.weight', 'cls.predictions.transform.LayerNorm.bias', 'cls.seq_relationship.bias', 'cls.seq_relationship.weight', 'cls.predictions.transform.dense.bias', 'cls.predictions.bias', 'cls.predictions.transform.dense.weight', 'cls.predictions.transform.LayerNorm.weight']\n",
            "- This IS expected if you are initializing BertModel from the checkpoint of a model trained on another task or with another architecture (e.g. initializing a BertForSequenceClassification model from a BertForPreTraining model).\n",
            "- This IS NOT expected if you are initializing BertModel from the checkpoint of a model that you expect to be exactly identical (initializing a BertForSequenceClassification model from a BertForSequenceClassification model).\n"
          ],
          "name": "stderr"
        }
      ]
    },
    {
      "cell_type": "code",
      "metadata": {
        "id": "joJqFofvtKcp",
        "colab": {
          "base_uri": "https://localhost:8080/"
        },
        "outputId": "f1043828-00a6-45d3-fa90-a4c79613b48e"
      },
      "source": [
        "tokenizer"
      ],
      "execution_count": null,
      "outputs": [
        {
          "output_type": "execute_result",
          "data": {
            "text/plain": [
              "PreTrainedTokenizerFast(name_or_path='neuralmind/bert-base-portuguese-cased', vocab_size=29794, model_max_len=1000000000000000019884624838656, is_fast=True, padding_side='right', special_tokens={'unk_token': '[UNK]', 'sep_token': '[SEP]', 'pad_token': '[PAD]', 'cls_token': '[CLS]', 'mask_token': '[MASK]'})"
            ]
          },
          "metadata": {
            "tags": []
          },
          "execution_count": 5
        }
      ]
    },
    {
      "cell_type": "markdown",
      "metadata": {
        "id": "KZOL2o_ltyzz"
      },
      "source": [
        "### Preparando DataSet\n",
        "https://towardsdatascience.com/bert-text-classification-using-pytorch-723dfb8b6b5b"
      ]
    },
    {
      "cell_type": "code",
      "metadata": {
        "id": "WFtrA_dtunW-",
        "colab": {
          "base_uri": "https://localhost:8080/"
        },
        "outputId": "98d5684d-fe2a-48cb-d776-aa73b67df2d9"
      },
      "source": [
        "#!rm *.csv\n",
        "#!!wget https://raw.githubusercontent.com/HedersonSantos/Noticias/main/train.csv\n",
        "#!wget https://raw.githubusercontent.com/HedersonSantos/Noticias/main/valid.csv\n",
        "#!wget https://raw.githubusercontent.com/HedersonSantos/Noticias/main/test.csv\n",
        "#!wget https://raw.githubusercontent.com/HedersonSantos/Noticias/main/miscelanea.csv\n",
        "drive.mount('/gdrive')\n",
        "%cd /gdrive/My\\ Drive/Colab\\ Notebooks/nlp_tcc\n",
        "path = '/gdrive/My Drive/Colab Notebooks/nlp_tcc'"
      ],
      "execution_count": 11,
      "outputs": [
        {
          "output_type": "stream",
          "text": [
            "Mounted at /gdrive\n",
            "/gdrive/My Drive/Colab Notebooks/nlp_tcc\n"
          ],
          "name": "stdout"
        }
      ]
    },
    {
      "cell_type": "code",
      "metadata": {
        "colab": {
          "base_uri": "https://localhost:8080/"
        },
        "id": "nAoZ9dYvWGBd",
        "outputId": "b2c3c111-d917-4177-bf5c-f200769de70f"
      },
      "source": [
        "!ls"
      ],
      "execution_count": 15,
      "outputs": [
        {
          "output_type": "stream",
          "text": [
            "amostra_news_integrada\tnews.csv\t     noticia_tratada.csv\n",
            "articles.csv\t\tnews_integradas.csv\n"
          ],
          "name": "stdout"
        }
      ]
    },
    {
      "cell_type": "code",
      "metadata": {
        "colab": {
          "base_uri": "https://localhost:8080/"
        },
        "id": "iV8T4nMYXqdR",
        "outputId": "c6c473b5-5427-4f75-f9e6-e0a49d76bad5"
      },
      "source": [
        "device = torch.device('cuda:0' if torch.cuda.is_available() else 'cpu')\n",
        "print(device)"
      ],
      "execution_count": null,
      "outputs": [
        {
          "output_type": "stream",
          "text": [
            "cuda:0\n"
          ],
          "name": "stdout"
        }
      ]
    },
    {
      "cell_type": "code",
      "metadata": {
        "id": "3sjrTvfBLGCL"
      },
      "source": [
        "source_folder = '/content' #'/content'\n",
        "destination_folder = '/content' #'/content'\n"
      ],
      "execution_count": null,
      "outputs": []
    },
    {
      "cell_type": "code",
      "metadata": {
        "colab": {
          "base_uri": "https://localhost:8080/"
        },
        "id": "90WJxOxcxgAQ",
        "outputId": "1f22d3d4-288a-4641-954b-b861f57f55ae"
      },
      "source": [
        "!ls /content"
      ],
      "execution_count": null,
      "outputs": [
        {
          "output_type": "stream",
          "text": [
            "miscelanea.csv\tsample_data  test.csv  train.csv  valid.csv\n"
          ],
          "name": "stdout"
        }
      ]
    },
    {
      "cell_type": "code",
      "metadata": {
        "id": "PyoK7ac8t4HF"
      },
      "source": [
        "#https://towardsdatascience.com/multi-class-text-classification-with-deep-learning-using-bert-b59ca2f5c613\n",
        "#Model parameter\n",
        "MAX_SEQ_LEN = 128 #limita os artigos em 128 tokens. Bert é limitado em 512 tokens por texto (checar isto e aplicar limpeza nos textos).\n",
        "PAD_INDEX = tokenizer.convert_tokens_to_ids(tokenizer.pad_token)\n",
        "UNK_INDEX = tokenizer.convert_tokens_to_ids(tokenizer.unk_token)\n",
        "bs = 16\n",
        "\n",
        "# Fields - use_vocab=False  e tokenizer.encode permite que utilizemos os tokens do BERTimbau.\n",
        "label_field = Field(sequential=False, use_vocab=False, batch_first=True, dtype=torch.float)\n",
        "text_field = Field(use_vocab=False, tokenize=tokenizer.encode, lower=False, include_lengths=False, batch_first=True,\n",
        "                   fix_length=MAX_SEQ_LEN, pad_token=PAD_INDEX, unk_token=UNK_INDEX)\n",
        "fields = [('text', text_field),('label', label_field)]\n",
        "\n",
        "# TabularDataset\n",
        "train, valid, test = TabularDataset.splits(path=source_folder, train='train.csv', validation='valid.csv',\n",
        "                                           test='test.csv', format='CSV', fields=fields, skip_header=True)\n",
        "\n",
        "# Iterators\n",
        "\n",
        "train_iter = BucketIterator(train, batch_size=bs, sort_key=lambda x: len(x.text),\n",
        "                            device=device, train=True, sort=True, sort_within_batch=True)\n",
        "valid_iter = BucketIterator(valid, batch_size=bs, sort_key=lambda x: len(x.text),\n",
        "                            device=device, train=True, sort=True, sort_within_batch=True)\n",
        "test_iter = Iterator(test, batch_size=bs, device=device, train=False, shuffle=False, sort=False)\n"
      ],
      "execution_count": null,
      "outputs": []
    },
    {
      "cell_type": "code",
      "metadata": {
        "id": "rcTHSXSluKkt",
        "colab": {
          "base_uri": "https://localhost:8080/"
        },
        "outputId": "4b1f4385-73ec-4827-ffd0-4771dd093afb"
      },
      "source": [
        "print(vars(train[0]))\n",
        "print(vars(valid[0]))\n",
        "print(vars(test[0]))"
      ],
      "execution_count": null,
      "outputs": [
        {
          "output_type": "stream",
          "text": [
            "{'text': [101, 13647, 240, 3426, 6071, 13647, 240, 3426, 6071, 1833, 210, 9930, 6276, 5347, 125, 257, 109, 10081, 192, 5772, 125, 5506, 320, 7007, 9058, 11465, 22307, 2506, 119, 223, 22283, 119, 14979, 22302, 113, 11388, 114, 118, 977, 22296, 12763, 1704, 2030, 4639, 5485, 145, 117, 420, 2859, 123, 187, 21557, 113, 4045, 8966, 20345, 298, 13232, 114, 122, 123, 359, 22328, 22321, 113, 2674, 3479, 298, 13232, 114, 4882, 123, 6191, 13030, 12001, 712, 16271, 180, 3159, 117, 8487, 10159, 124, 113, 15166, 118, 14215, 114, 117, 122, 171, 6225, 117, 7697, 19734, 113, 10836, 22311, 118, 13293, 114, 117, 230, 981, 125, 8658, 179, 17833, 228, 173, 2154, 119, 177, 9358, 180, 2052, 1112, 22026, 404, 10784, 366, 11401, 4639, 5485, 145, 22354, 117, 9183, 221, 123, 4669, 100, 14258, 113, 2633, 119, 223, 22283, 119, 14979, 22302, 114, 117, 2810, 13460, 240, 222, 5291, 119, 2195, 4428, 180, 187, 21557, 117, 1112, 146, 5291, 171, 644, 2633, 346, 5707, 22303, 3680, 125, 4768, 179, 5963, 22287, 11621, 737, 22354, 119, 177, 16736, 4479, 567, 19350, 1676, 11401, 4639, 5485, 145, 4328, 2506, 19284, 832, 119, 1431, 4687, 253, 221, 179, 146, 9930, 6276, 5347, 781, 185, 123, 370, 146, 2261, 125, 257, 109, 10081, 122, 1547, 12659, 1139, 3072, 684, 259, 3997, 11720, 180, 9196, 769, 151, 119, 5394, 2009, 10865, 286, 954, 18946, 122, 179, 2810, 4847, 320, 4855, 253, 146, 22128, 125, 5772, 125, 5506, 320, 7007, 119, 1629, 125, 187, 21557, 122, 359, 22328, 22321, 117, 4366, 670, 180, 6528, 123, 10484, 22293, 113, 10385, 1580, 298, 13232, 2225, 2030, 13226, 8521, 2841, 122, 13226, 8521, 1516, 22281, 5600, 6355, 114, 117, 146, 15769, 22321, 113, 8452, 298, 13232, 2225, 2030, 834, 2690, 114, 122, 260, 21880, 771, 6612, 122, 10875, 4673, 2619, 22280, 119, 8159, 21725, 117, 1640, 180, 187, 21557, 117, 3415, 179, 1112, 146, 2049, 698, 3891, 11062, 117, 146, 5155, 125, 1069, 8231, 117, 259, 8731, 298, 6571, 117, 171, 5721, 13403, 228, 122, 146, 9930, 6276, 5347, 262, 10939, 119, 1431, 739, 14941, 22354, 119, 2195, 368, 117, 123, 6287, 171, 2261, 171, 9930, 253, 1112, 222, 5846, 22354, 119, 1112, 1645, 222, 5846, 744, 636, 253, 146, 1161, 20354, 716, 157, 370, 10939, 146, 1189, 125, 1101, 179, 1146, 3859, 1966, 9930, 117, 1790, 21229, 1050, 221, 4365, 744, 325, 4594, 7282, 22287, 11062, 122, 179, 146, 806, 19789, 22279, 230, 5572, 18254, 1979, 22354, 119, 9058, 11465, 22307, 10508, 122, 118, 223, 215, 221, 9058, 11465, 22307, 9058, 11465, 22307, 240, 9058, 11465, 22307, 240, 9058, 11465, 22307, 240, 9058, 11465, 22307, 240, 11044, 16210, 240, 9058, 11465, 22307, 240, 9058, 11465, 22307, 240, 9058, 11465, 22307, 240, 9058, 11465, 22307, 240, 9058, 11465, 22307, 240, 9058, 11465, 22307, 240, 9058, 11465, 22307, 240, 9058, 11465, 22307, 240, 11044, 16210, 240, 9058, 11465, 22307, 240, 9058, 11465, 22307, 240, 9058, 11465, 22307, 240, 9058, 11465, 22307, 240, 9058, 11465, 22307, 2174, 2215, 215, 296, 13647, 240, 3426, 6071, 20022, 131, 195, 173, 18376, 22290, 2561, 8454, 22284, 197, 959, 10508, 221, 325, 125, 230, 2760, 117, 21333, 823, 259, 14441, 22281, 240, 1666, 22282, 225, 966, 119, 14979, 22302, 100, 4859, 259, 3015, 9058, 11465, 22307, 119, 102], 'label': '7'}\n",
            "{'text': [101, 8759, 15906, 634, 8759, 15906, 634, 1715, 359, 7918, 117, 202, 1007, 125, 1455, 275, 120, 16899, 120, 14979, 22302, 16720, 22296, 554, 19900, 249, 11130, 180, 2967, 978, 146, 8846, 125, 176, 2357, 125, 2200, 119, 959, 1257, 117, 176, 3171, 125, 651, 170, 123, 1288, 625, 744, 978, 1433, 481, 119, 14459, 173, 222, 3515, 202, 8283, 117, 582, 1767, 240, 1685, 481, 119, 14459, 240, 1210, 736, 4021, 170, 146, 9518, 125, 19900, 249, 7140, 367, 1669, 119, 1645, 262, 222, 8431, 221, 333, 8892, 22325, 125, 7749, 1528, 179, 9972, 22300, 173, 222, 998, 179, 3171, 327, 1069, 119, 177, 1018, 4438, 682, 2112, 125, 4696, 117, 368, 176, 7114, 203, 744, 325, 1676, 4026, 127, 626, 585, 119, 231, 596, 346, 221, 256, 122, 146, 8846, 125, 5152, 173, 222, 2504, 739, 1993, 495, 1078, 576, 2892, 119, 231, 2200, 117, 202, 1325, 117, 2364, 5127, 180, 327, 3827, 119, 192, 170, 123, 14516, 298, 682, 117, 368, 12351, 9755, 20509, 202, 21211, 10326, 117, 582, 12044, 748, 170, 15605, 3507, 4102, 458, 122, 770, 6921, 205, 117, 245, 6271, 125, 9499, 119, 107, 177, 13588, 124, 5971, 785, 119, 14333, 15854, 214, 22003, 653, 202, 21211, 10326, 119, 3396, 5057, 2183, 125, 3822, 122, 6814, 22283, 222, 2934, 179, 12044, 748, 122, 3171, 7122, 1069, 119, 1807, 348, 170, 123, 4273, 7700, 229, 4014, 117, 170, 6970, 125, 1394, 4516, 122, 179, 346, 16616, 692, 119, 1643, 2389, 9193, 117, 260, 4739, 3290, 12044, 2208, 119, 3479, 13608, 348, 7343, 2934, 119, 6582, 1351, 123, 5698, 7122, 1069, 107, 117, 1996, 146, 11046, 22282, 320, 359, 7918, 9151, 119, 1431, 4733, 20502, 285, 240, 248, 192, 278, 257, 192, 267, 192, 113, 137, 2779, 514, 846, 185, 114, 231, 8846, 125, 333, 2357, 2200, 262, 11735, 8501, 119, 9755, 20509, 1367, 529, 5697, 125, 1037, 240, 8283, 117, 10345, 117, 8760, 122, 548, 240, 222, 2504, 180, 1975, 119, 787, 176, 3339, 3770, 423, 11468, 22288, 117, 173, 4155, 117, 449, 117, 123, 3295, 117, 253, 179, 2364, 2286, 5212, 171, 7171, 271, 21454, 119, 107, 20611, 170, 2169, 15482, 122, 3486, 10773, 179, 770, 4360, 3866, 222, 1342, 3420, 119, 4957, 289, 22283, 123, 1434, 8558, 125, 3478, 4810, 117, 449, 346, 495, 221, 9726, 119, 510, 4486, 506, 6738, 221, 1342, 1341, 117, 146, 2200, 346, 4750, 325, 4945, 125, 9726, 195, 3979, 128, 197, 122, 1642, 244, 12022, 221, 146, 1147, 6936, 119, 3396, 1684, 8766, 185, 22283, 366, 14175, 117, 125, 7505, 122, 662, 289, 22283, 123, 1434, 240, 1284, 2288, 119, 12603, 123, 2538, 117, 146, 2934, 5401, 3093, 2256, 22288, 119, 107, 6312, 3885, 9755, 20509, 262, 5945, 214, 179, 347, 3753, 346, 495, 202, 2200, 119, 3393, 1767, 6054, 625, 262, 6303, 221, 333, 8892, 22325, 125, 9972, 22300, 173, 222, 998, 119, 787, 21283, 202, 1586, 15494, 117, 449, 2471, 125, 4412, 682, 2112, 20369, 944, 259, 1564, 119, 1643, 13256, 146, 3495, 179, 3859, 151, 240, 644, 271, 3620, 117, 346, 17662, 924, 1176, 122, 9093, 146, 1774, 119, 107, 7846, 22288, 230, 13254, 4554, 4111, 179, 3804, 322, 125, 6384, 221, 1434, 222, 998, 119, 10304, 22290, 311, 18574, 122, 311, 17861, 119, 19687, 22305, 146, 3515, 122, 7282, 22283, 119, 20484, 978, 2160, 3418, 117, 3874, 117, 1203, 123, 1354, 125, 16341, 653, 119, 20564, 4435, 22279, 179, 11650, 173, 1434, 146, 998, 291, 3866, 5699, 214, 202, 1774, 119, 19687, 19623, 229, 10188, 122, 4789, 175, 22283, 2249, 495, 146, 13850, 22325, 119, 3362, 257, 109, 10081, 123, 17222, 122, 202, 1774, 16653, 230, 2565, 125, 5155, 125, 257, 109, 3055, 119, 13716, 4174, 244, 924, 1176, 117, 3283, 146, 998, 107, 117, 10201, 119, 107, 1643, 2779, 778, 8393, 170, 146, 9972, 22300, 4763, 22283, 131, 107, 3396, 346, 15212, 2839, 125, 1434, 260, 4486, 179, 3983, 1191, 117, 346, 117, 449, 1061, 311, 11967, 490, 5863, 122, 17891, 2822, 7343, 13071, 107, 195, 3979, 128, 197, 119, 787, 1984, 22288, 123, 5294, 356, 107, 117, 10821, 119, 15708, 22282, 366, 6363, 171, 998, 262, 230, 4036, 170, 4251, 125, 4014, 2479, 119, 9755, 20509, 2364, 325, 13683, 122, 117, 10012, 201, 240, 2205, 805, 5587, 122, 146, 3695, 10259, 3213, 138, 117, 170, 1977, 1021, 13839, 229, 1037, 171, 10345, 117, 20523, 22288, 125, 576, 3876, 1160, 1147, 119, 107, 4499, 179, 1784, 244, 7122, 2490, 202, 998, 117, 146, 2205, 805, 5587, 117, 3620, 171, 998, 117, 311, 2628, 221, 1434, 14190, 125, 3822, 119, 787, 311, 11234, 1016, 131, 107, 19900, 249, 117, 3983, 346, 253, 2357, 117, 253, 3620, 107, 119, 761, 9834, 4566, 3846, 770, 13540, 3307, 203, 2745, 195, 3979, 128, 197, 119, 3396, 1684, 8766, 185, 22283, 117, 449, 262, 146, 998, 179, 311, 2002, 6272, 125, 3866, 1966, 3420, 107, 117, 3415, 119, 107, 231, 4755, 269, 3213, 138, 770, 495, 7343, 3695, 180, 1126, 171, 10345, 122, 368, 407, 1191, 146, 998, 171, 9972, 22300, 119, 989, 7343, 2475, 117, 122, 311, 2628, 221, 123, 13878, 22282, 185, 117, 173, 6437, 119, 787, 1996, 179, 978, 2448, 2895, 170, 1039, 122, 179, 5220, 682, 698, 16643, 8840, 5062, 173, 222, 5340, 119, 787, 11234, 179, 146, 8846, 262, 2514, 1752, 179, 123, 681, 5664, 179, 368, 1191, 625, 1365, 22288, 262, 5961, 170, 1039, 119, 20564, 117, 368, 311, 2628, 4922, 4067, 125, 3822, 179, 5794, 1210, 6362, 22247, 22281, 107, 117, 10821, 119, 1431, 4733, 20502, 285, 240, 248, 192, 278, 257, 192, 267, 192, 113, 137, 2779, 514, 846, 185, 114, 1012, 123, 1018, 4756, 6880, 125, 3822, 179, 9755, 20509, 1367, 123, 11589, 146, 21211, 10326, 119, 231, 652, 1518, 262, 173, 1614, 125, 14979, 22307, 117, 449, 368, 9679, 179, 11736, 2822, 3996, 117, 346, 2686, 333, 107, 222, 4249, 125, 222, 2232, 1518, 107, 119, 1645, 368, 18047, 22288, 123, 8405, 171, 1518, 122, 259, 8244, 4058, 123, 5401, 3093, 4803, 325, 122, 325, 202, 1423, 171, 2200, 119, 533, 4754, 3063, 4058, 123, 17755, 307, 117, 146, 179, 8231, 744, 325, 327, 6698, 119, 107, 3396, 9679, 179, 2471, 179, 2822, 3996, 122, 346, 1203, 3767, 230, 576, 119, 177, 4102, 556, 705, 19973, 785, 119, 989, 4490, 5961, 125, 820, 222, 2113, 376, 5747, 9349, 119, 11408, 117, 4264, 202, 17933, 122, 1790, 202, 18868, 22317, 22346, 117, 180, 6090, 119, 5685, 743, 117, 9481, 7788, 117, 2205, 117, 4097, 159, 12460, 181, 117, 19532, 7902, 22280, 117, 8928, 1515, 249, 8378, 117, 2891, 1404, 339, 117, 7593, 117, 171, 3217, 119, 119, 119, 4859, 1061, 6082, 22287, 7600, 119, 385, 1145, 125, 2538, 117, 2475, 107, 117, 8028, 119, 1629, 298, 8244, 170, 1976, 656, 325, 6802, 10248, 117, 9755, 20509, 407, 5971, 125, 7505, 3724, 12283, 1628, 119, 107, 989, 1684, 4062, 3852, 230, 3661, 179, 3306, 2351, 123, 6384, 173, 2182, 125, 7614, 119, 14233, 4435, 22279, 1257, 170, 1039, 119, 989, 230, 547, 7211, 125, 4915, 123, 3661, 125, 2538, 407, 538, 17080, 8244, 119, 3396, 1120, 3897, 22283, 122, 253, 2199, 1569, 222, 3767, 582, 2448, 252, 119, 1643, 7277, 2538, 229, 2375, 117, 260, 9880, 1835, 22286, 6262, 176, 5334, 2227, 123, 347, 2748, 119, 20805, 834, 7672, 119, 7170, 346, 9050, 202, 2182, 117, 449, 2745, 179, 787, 659, 253, 13380, 107, 117, 8028, 119, 102], 'label': '5'}\n",
            "{'text': [101, 21791, 183, 179, 12069, 7937, 117, 3869, 173, 8446, 122, 2391, 19083, 291, 19586, 442, 4188, 423, 4884, 291, 12605, 423, 2831, 123, 4137, 1955, 2321, 18468, 122, 14809, 1965, 119, 21791, 183, 179, 12069, 7937, 117, 3869, 173, 8446, 122, 2391, 19083, 291, 19586, 442, 4188, 423, 4884, 291, 12605, 423, 2831, 123, 4137, 1955, 2321, 18468, 122, 14809, 1965, 119, 7437, 384, 4264, 412, 1582, 5559, 125, 19259, 122, 5686, 173, 4080, 412, 5581, 22263, 526, 9475, 1080, 117, 262, 12102, 180, 15492, 125, 200, 119, 1033, 240, 4167, 481, 122, 6095, 222, 20837, 498, 2200, 2642, 202, 359, 7918, 1065, 4155, 119, 1040, 120, 16720, 120, 14979, 22302, 16720, 22296, 554, 177, 4468, 125, 10855, 17727, 171, 3118, 171, 10967, 117, 13970, 251, 229, 6151, 118, 14258, 117, 700, 180, 4076, 240, 245, 123, 205, 221, 146, 20111, 2151, 2607, 21760, 117, 412, 2171, 21941, 180, 10455, 117, 9938, 222, 1223, 125, 1256, 481, 122, 3003, 2112, 179, 495, 6648, 229, 563, 2061, 175, 1837, 125, 598, 4347, 122, 1907, 3498, 125, 5409, 143, 179, 8413, 202, 2200, 1910, 119, 761, 123, 4867, 125, 14120, 411, 3909, 22283, 117, 146, 4022, 1307, 325, 596, 202, 2466, 173, 222, 2504, 180, 681, 3007, 1772, 1425, 123, 333, 2255, 304, 117, 179, 15594, 146, 2094, 118, 13293, 1065, 1543, 171, 622, 3714, 122, 2286, 229, 2338, 1318, 123, 6831, 221, 123, 4960, 177, 119, 7178, 179, 347, 1254, 229, 2403, 113, 1528, 125, 222, 622, 122, 1256, 2112, 117, 770, 179, 368, 262, 4775, 173, 1934, 125, 1543, 114, 4048, 548, 13779, 251, 229, 7315, 170, 259, 2851, 325, 5533, 2370, 125, 736, 1775, 179, 4366, 670, 298, 1867, 5490, 270, 171, 2200, 2835, 119, 335, 230, 2925, 170, 297, 298, 1649, 9776, 4644, 171, 4659, 113, 1242, 180, 2092, 117, 1256, 366, 13946, 122, 325, 1256, 180, 5472, 114, 117, 146, 771, 253, 6086, 173, 179, 146, 4022, 1307, 325, 596, 173, 222, 653, 1774, 2080, 240, 1957, 119, 510, 7825, 179, 325, 176, 4621, 22287, 171, 4732, 125, 2255, 304, 453, 14458, 17502, 122, 6305, 171, 1422, 119, 4114, 22281, 682, 1775, 117, 259, 5409, 143, 325, 5533, 2370, 113, 15642, 608, 1182, 22331, 3802, 14944, 22283, 122, 15688, 3237, 118, 233, 8315, 114, 6179, 228, 532, 7744, 5662, 173, 3975, 125, 6437, 119, 119, 119, 291, 1547, 117, 222, 622, 122, 1423, 1075, 171, 5278, 171, 2504, 15950, 119, 4823, 1028, 2844, 171, 1147, 12890, 2642, 246, 240, 346, 4832, 5747, 4500, 399, 170, 8549, 8091, 170, 2851, 7227, 125, 380, 436, 16306, 259, 14764, 122, 10384, 4594, 119, 3278, 117, 3787, 122, 8461, 744, 1854, 173, 3418, 2851, 179, 506, 9128, 22281, 202, 995, 11445, 125, 5096, 119, 15940, 247, 1861, 324, 2858, 22280, 113, 8660, 833, 22305, 2598, 8139, 114, 122, 1333, 193, 22296, 2627, 314, 113, 13952, 470, 186, 22326, 114, 548, 11006, 3810, 4644, 179, 12903, 228, 675, 15054, 22281, 117, 449, 5072, 172, 5589, 6592, 113, 3346, 183, 22292, 114, 117, 346, 119, 2781, 171, 1342, 1341, 171, 9969, 180, 4500, 399, 117, 1134, 1195, 122, 3734, 3615, 5409, 143, 179, 770, 8955, 228, 6710, 125, 230, 1490, 11374, 214, 146, 653, 2504, 119, 231, 325, 5533, 378, 125, 944, 253, 4269, 1937, 1056, 117, 179, 698, 353, 2375, 171, 15526, 18162, 5618, 1065, 1617, 125, 3665, 119, 4114, 596, 1364, 117, 368, 2473, 222, 1461, 180, 213, 18741, 113, 3757, 114, 122, 864, 5596, 171, 3219, 10265, 119, 4823, 834, 3484, 15844, 1307, 1256, 481, 117, 368, 698, 5533, 125, 370, 146, 2466, 6548, 243, 119, 2781, 146, 1910, 6290, 1392, 15738, 22283, 117, 353, 2375, 171, 11158, 207, 1065, 3190, 117, 3390, 2535, 146, 11165, 171, 347, 1223, 119, 503, 1318, 19023, 117, 3180, 123, 3805, 298, 9743, 180, 3928, 3391, 10953, 119, 192, 117, 173, 1512, 117, 262, 2700, 118, 3176, 171, 2088, 125, 13154, 117, 170, 2368, 123, 2434, 498, 146, 9801, 529, 11479, 119, 503, 8062, 8755, 117, 2440, 180, 7989, 125, 8715, 3213, 22279, 1857, 117, 179, 5733, 8955, 1027, 481, 271, 3161, 171, 7802, 125, 22035, 173, 1512, 117, 1307, 423, 1528, 222, 4022, 325, 5533, 378, 179, 368, 131, 5816, 22300, 11059, 514, 5528, 3552, 117, 179, 15594, 146, 2299, 424, 1065, 1618, 125, 3618, 119, 192, 1257, 2113, 123, 1478, 1367, 123, 636, 670, 2811, 1254, 229, 3437, 125, 3378, 180, 4179, 171, 2236, 17798, 119, 2067, 1659, 117, 259, 14764, 171, 1774, 1684, 13031, 228, 179, 123, 6234, 171, 1223, 117, 179, 2810, 20250, 202, 1338, 180, 1318, 117, 240, 3087, 171, 1946, 5409, 117, 495, 123, 1407, 8208, 119, 3585, 131, 4269, 1937, 1056, 117, 202, 15526, 18162, 5618, 1065, 1617, 120, 3665, 22311, 22352, 22348, 6162, 22317, 131, 6290, 1392, 15738, 22283, 117, 202, 11158, 207, 1065, 1618, 120, 3190, 22324, 5650, 22320, 22402, 22301, 131, 5816, 22300, 11059, 514, 5528, 3552, 117, 202, 2299, 424, 1065, 1618, 120, 3618, 13209, 7665, 18394, 131, 8715, 3213, 22279, 1857, 117, 202, 7802, 125, 22035, 1065, 1512, 120, 3618, 9369, 13344, 7665, 18394, 131, 10204, 6817, 1361, 117, 202, 12511, 7002, 1065, 1512, 120, 3618, 22318, 22352, 22327, 22328, 6162, 22301, 131, 1419, 3073, 14495, 22326, 117, 202, 13197, 22290, 185, 3854, 22279, 705, 1065, 1512, 120, 3618, 10722, 22322, 22379, 22320, 5234, 131, 1651, 6505, 22087, 22284, 22282, 6332, 12764, 16339, 22285, 117, 202, 1305, 324, 1065, 1570, 120, 3470, 7073, 22328, 10847, 16017, 22322, 5650, 131, 17174, 10239, 2041, 117, 202, 4397, 22285, 2229, 1065, 1511, 120, 3470, 22357, 10409, 22321, 21748, 22301, 131, 5268, 2057, 604, 21825, 117, 202, 448, 22308, 22328, 19244, 22290, 1065, 1618, 120, 3757, 6765, 6993, 8427, 7073, 22301, 131, 7593, 17578, 2222, 117, 202, 13118, 2911, 185, 1065, 1592, 120, 3843, 22333, 7864, 16484, 131, 3455, 22280, 4095, 157, 8816, 1750, 9500, 22278, 117, 202, 231, 343, 9965, 343, 1065, 1154, 14214, 397, 120, 4284, 9436, 22357, 22327, 5234, 131, 17173, 7806, 22280, 7684, 1840, 4029, 117, 229, 9140, 1053, 154, 1065, 1592, 120, 4284, 20928, 10847, 22320, 9545, 131, 12251, 896, 22331, 22261, 117, 202, 335, 2614, 1065, 1618, 120, 4284, 22310, 8718, 22321, 22341, 17694, 22327, 131, 8159, 8667, 117, 202, 2268, 1065, 1618, 120, 5096, 17511, 7073, 22301, 131, 15940, 247, 1861, 324, 2858, 22280, 117, 202, 8660, 833, 22305, 2598, 8139, 1065, 1617, 120, 5096, 22322, 22371, 6236, 5234, 131, 5072, 172, 5589, 6592, 117, 202, 3346, 183, 22292, 1065, 1512, 120, 5096, 22321, 15289, 22349, 22341, 5234, 131, 1333, 193, 22296, 2627, 314, 117, 202, 13952, 470, 186, 22326, 1065, 1512, 120, 5096, 6765, 22357, 14390, 22301, 16566, 22341, 18822, 5118, 131, 15642, 608, 1182, 22331, 3802, 14944, 22283, 117, 202, 2090, 252, 1065, 1618, 120, 6437, 5218, 7286, 5234, 15040, 200, 18199, 131, 15688, 3237, 118, 233, 8315, 117, 202, 17264, 22293, 10911, 22285, 8139, 1065, 1600, 120, 6437, 14213, 4089, 13292, 131, 2255, 304, 117, 202, 2094, 118, 13293, 1065, 1543, 120, 14979, 22307, 115, 820, 420, 259, 7579, 180, 681, 3007, 1772, 113, 213, 18741, 117, 202, 1652, 298, 3585, 114, 102], 'label': '5'}\n"
          ],
          "name": "stdout"
        }
      ]
    },
    {
      "cell_type": "markdown",
      "metadata": {
        "id": "sPypCNPuHaRz"
      },
      "source": [
        "## Modelo"
      ]
    },
    {
      "cell_type": "code",
      "metadata": {
        "id": "Yvy3rgrdHj_x"
      },
      "source": [
        "'''É preciso informar o número de labels, pois o BERTimbau foi treinado para 2 classes '''\n",
        "class BERT(nn.Module):\n",
        "\n",
        "    def __init__(self):\n",
        "        super(BERT, self).__init__()\n",
        "\n",
        "        options_name = \"bert-base-portuguese-cased\"\n",
        "        self.encoder = BertForSequenceClassification.from_pretrained('neuralmind/bert-base-portuguese-cased',num_labels=9 )\n",
        "\n",
        "    def forward(self, text, label):\n",
        "        loss, text_fea = self.encoder(text, labels=label)[:2]\n",
        "\n",
        "        return loss, text_fea\n",
        "\n"
      ],
      "execution_count": null,
      "outputs": []
    },
    {
      "cell_type": "markdown",
      "metadata": {
        "id": "3pYKbHICIus0"
      },
      "source": [
        "## Treinamento"
      ]
    },
    {
      "cell_type": "code",
      "metadata": {
        "id": "hJFwyl7DIoxQ"
      },
      "source": [
        "# Save and Load Functions\n",
        "\n",
        "def save_checkpoint(save_path, model, valid_loss):\n",
        "\n",
        "    if save_path == None:\n",
        "        return\n",
        "    \n",
        "    state_dict = {'model_state_dict': model.state_dict(),\n",
        "                  'valid_loss': valid_loss}\n",
        "    \n",
        "    torch.save(state_dict, save_path)\n",
        "    print(f'Model saved to ==> {save_path}')\n",
        "\n",
        "def load_checkpoint(load_path, model):\n",
        "    \n",
        "    if load_path==None:\n",
        "        return\n",
        "    \n",
        "    state_dict = torch.load(load_path, map_location=device)\n",
        "    print(f'Model loaded from <== {load_path}')\n",
        "    \n",
        "    model.load_state_dict(state_dict['model_state_dict'])\n",
        "    return state_dict['valid_loss']\n",
        "\n",
        "\n",
        "def save_metrics(save_path, train_loss_list, valid_loss_list, global_steps_list):\n",
        "\n",
        "    if save_path == None:\n",
        "        return\n",
        "    \n",
        "    state_dict = {'train_loss_list': train_loss_list,\n",
        "                  'valid_loss_list': valid_loss_list,\n",
        "                  'global_steps_list': global_steps_list}\n",
        "    \n",
        "    torch.save(state_dict, save_path)\n",
        "    print(f'Model saved to ==> {save_path}')\n",
        "\n",
        "\n",
        "def load_metrics(load_path):\n",
        "\n",
        "    if load_path==None:\n",
        "        return\n",
        "    \n",
        "    state_dict = torch.load(load_path, map_location=device)\n",
        "    print(f'Model loaded from <== {load_path}')\n",
        "    \n",
        "    return state_dict['train_loss_list'], state_dict['valid_loss_list'], state_dict['global_steps_list']"
      ],
      "execution_count": null,
      "outputs": []
    },
    {
      "cell_type": "code",
      "metadata": {
        "id": "fiueExF5Jb8V"
      },
      "source": [
        "# Training Function\n",
        "'''criterion = nn.BCELoss() é BinaryCrossEntropy é a função de perda para targets binarios. Como o nosso alvo possui\n",
        "muitas classes troque a função de perda para nn.CrossEntropyLoss() '''\n",
        "\n",
        "def train(model,\n",
        "          optimizer,\n",
        "          criterion = nn.CrossEntropyLoss(), #nn.BCELoss(),\n",
        "          train_loader = train_iter,\n",
        "          valid_loader = valid_iter,\n",
        "          num_epochs = 5,\n",
        "          eval_every = len(train_iter) // 2,\n",
        "          file_path = destination_folder,\n",
        "          best_valid_loss = float(\"Inf\")):\n",
        "    \n",
        "    # initialize running values\n",
        "    running_loss = 0.0\n",
        "    valid_running_loss = 0.0\n",
        "    global_step = 0\n",
        "    train_loss_list = []\n",
        "    valid_loss_list = []\n",
        "    global_steps_list = []\n",
        "\n",
        "    # training loop\n",
        "    model.train()\n",
        "    for epoch in range(num_epochs):\n",
        "        for (text, labels), _ in train_loader:\n",
        "            labels = labels.type(torch.LongTensor)           \n",
        "            #print('label size:', labels.size())\n",
        "            #print('label:', labels)\n",
        "            labels = labels.to(device)\n",
        "            text = text.type(torch.LongTensor) \n",
        "            #print('text:', text.size())\n",
        "            text = text.to(device)\n",
        "            #print('treina...')\n",
        "            output = model(text, labels)\n",
        "            #print('fim treino...')\n",
        "            loss, _ = output\n",
        "\n",
        "            optimizer.zero_grad()\n",
        "            loss.backward()\n",
        "            optimizer.step()\n",
        "\n",
        "            # update running values\n",
        "            running_loss += loss.item()\n",
        "            global_step += 1\n",
        "\n",
        "            # evaluation step\n",
        "            if global_step % eval_every == 0:\n",
        "                model.eval()\n",
        "                with torch.no_grad():                    \n",
        "\n",
        "                    # validation loop\n",
        "                    for (text,labels), _ in valid_loader:\n",
        "                        text = text.type(torch.LongTensor)  \n",
        "                        text = text.to(device)\n",
        "                        labels = labels.type(torch.LongTensor)           \n",
        "                        labels = labels.to(device)\n",
        "                        \n",
        "                        output = model(text, labels)\n",
        "                        loss, _ = output\n",
        "                        \n",
        "                        valid_running_loss += loss.item()\n",
        "\n",
        "                # evaluation\n",
        "                average_train_loss = running_loss / eval_every\n",
        "                average_valid_loss = valid_running_loss / len(valid_loader)\n",
        "                train_loss_list.append(average_train_loss)\n",
        "                valid_loss_list.append(average_valid_loss)\n",
        "                global_steps_list.append(global_step)\n",
        "\n",
        "                # resetting running values\n",
        "                running_loss = 0.0                \n",
        "                valid_running_loss = 0.0\n",
        "                model.train()\n",
        "\n",
        "                # print progress\n",
        "                print('Epoch [{}/{}], Step [{}/{}], Train Loss: {:.4f}, Valid Loss: {:.4f}'\n",
        "                      .format(epoch+1, num_epochs, global_step, num_epochs*len(train_loader),\n",
        "                              average_train_loss, average_valid_loss))\n",
        "                \n",
        "                # checkpoint\n",
        "                if best_valid_loss > average_valid_loss:\n",
        "                    best_valid_loss = average_valid_loss\n",
        "                    save_checkpoint(file_path + '/' + 'model.pt', model, best_valid_loss)\n",
        "                    save_metrics(file_path + '/' + 'metrics.pt', train_loss_list, valid_loss_list, global_steps_list)\n",
        "    \n",
        "    save_metrics(file_path + '/' + 'metrics.pt', train_loss_list, valid_loss_list, global_steps_list)\n",
        "    print('Finished Training!')\n",
        "    "
      ],
      "execution_count": null,
      "outputs": []
    },
    {
      "cell_type": "code",
      "metadata": {
        "colab": {
          "base_uri": "https://localhost:8080/"
        },
        "id": "JQcJQ5kaMPa4",
        "outputId": "82184e7e-c385-4dd0-b25a-6fb43fcfde60"
      },
      "source": [
        "device"
      ],
      "execution_count": null,
      "outputs": [
        {
          "output_type": "execute_result",
          "data": {
            "text/plain": [
              "device(type='cuda', index=0)"
            ]
          },
          "metadata": {
            "tags": []
          },
          "execution_count": 16
        }
      ]
    },
    {
      "cell_type": "code",
      "metadata": {
        "colab": {
          "base_uri": "https://localhost:8080/"
        },
        "id": "RrkvwE2VL1qY",
        "outputId": "27ada042-9713-470b-e1c9-5bd6e6aca6fe"
      },
      "source": [
        "model = BERT().to(device)\n",
        "optimizer = optim.Adam(model.parameters(), lr=1e-5)\n",
        "\n",
        "train(model=model, optimizer=optimizer)"
      ],
      "execution_count": null,
      "outputs": [
        {
          "output_type": "stream",
          "text": [
            "Some weights of the model checkpoint at neuralmind/bert-base-portuguese-cased were not used when initializing BertForSequenceClassification: ['cls.predictions.transform.LayerNorm.bias', 'cls.predictions.transform.LayerNorm.weight', 'cls.seq_relationship.bias', 'cls.predictions.transform.dense.weight', 'cls.predictions.bias', 'cls.predictions.decoder.weight', 'cls.seq_relationship.weight', 'cls.predictions.transform.dense.bias']\n",
            "- This IS expected if you are initializing BertForSequenceClassification from the checkpoint of a model trained on another task or with another architecture (e.g. initializing a BertForSequenceClassification model from a BertForPreTraining model).\n",
            "- This IS NOT expected if you are initializing BertForSequenceClassification from the checkpoint of a model that you expect to be exactly identical (initializing a BertForSequenceClassification model from a BertForSequenceClassification model).\n",
            "Some weights of BertForSequenceClassification were not initialized from the model checkpoint at neuralmind/bert-base-portuguese-cased and are newly initialized: ['classifier.weight', 'classifier.bias']\n",
            "You should probably TRAIN this model on a down-stream task to be able to use it for predictions and inference.\n"
          ],
          "name": "stderr"
        },
        {
          "output_type": "stream",
          "text": [
            "Epoch [1/5], Step [40/400], Train Loss: 1.9647, Valid Loss: 1.8218\n",
            "Model saved to ==> /content/model.pt\n",
            "Model saved to ==> /content/metrics.pt\n",
            "Epoch [1/5], Step [80/400], Train Loss: 1.6679, Valid Loss: 1.3062\n",
            "Model saved to ==> /content/model.pt\n",
            "Model saved to ==> /content/metrics.pt\n",
            "Epoch [2/5], Step [120/400], Train Loss: 1.2497, Valid Loss: 0.9376\n",
            "Model saved to ==> /content/model.pt\n",
            "Model saved to ==> /content/metrics.pt\n",
            "Epoch [2/5], Step [160/400], Train Loss: 0.8751, Valid Loss: 0.6886\n",
            "Model saved to ==> /content/model.pt\n",
            "Model saved to ==> /content/metrics.pt\n",
            "Epoch [3/5], Step [200/400], Train Loss: 0.7224, Valid Loss: 0.5602\n",
            "Model saved to ==> /content/model.pt\n",
            "Model saved to ==> /content/metrics.pt\n",
            "Epoch [3/5], Step [240/400], Train Loss: 0.5159, Valid Loss: 0.4799\n",
            "Model saved to ==> /content/model.pt\n",
            "Model saved to ==> /content/metrics.pt\n",
            "Epoch [4/5], Step [280/400], Train Loss: 0.4663, Valid Loss: 0.4406\n",
            "Model saved to ==> /content/model.pt\n",
            "Model saved to ==> /content/metrics.pt\n",
            "Epoch [4/5], Step [320/400], Train Loss: 0.3260, Valid Loss: 0.4078\n",
            "Model saved to ==> /content/model.pt\n",
            "Model saved to ==> /content/metrics.pt\n",
            "Epoch [5/5], Step [360/400], Train Loss: 0.3361, Valid Loss: 0.4088\n",
            "Epoch [5/5], Step [400/400], Train Loss: 0.2275, Valid Loss: 0.3417\n",
            "Model saved to ==> /content/model.pt\n",
            "Model saved to ==> /content/metrics.pt\n",
            "Model saved to ==> /content/metrics.pt\n",
            "Finished Training!\n"
          ],
          "name": "stdout"
        }
      ]
    },
    {
      "cell_type": "code",
      "metadata": {
        "colab": {
          "base_uri": "https://localhost:8080/",
          "height": 296
        },
        "id": "AHdfTUs0ALnZ",
        "outputId": "deb30c53-c737-49ed-98d4-13ef6eda7bad"
      },
      "source": [
        "train_loss_list, valid_loss_list, global_steps_list = load_metrics(destination_folder + '/metrics.pt')\n",
        "plt.plot(global_steps_list, train_loss_list, label='Train')\n",
        "plt.plot(global_steps_list, valid_loss_list, label='Valid')\n",
        "plt.xlabel('Global Steps')\n",
        "plt.ylabel('Loss')\n",
        "plt.legend()\n",
        "plt.show() "
      ],
      "execution_count": null,
      "outputs": [
        {
          "output_type": "stream",
          "text": [
            "Model loaded from <== /content/metrics.pt\n"
          ],
          "name": "stdout"
        },
        {
          "output_type": "display_data",
          "data": {
            "image/png": "[encoded data removed]",
            "text/plain": [
              "<Figure size 432x288 with 1 Axes>"
            ]
          },
          "metadata": {
            "tags": [],
            "needs_background": "light"
          }
        }
      ]
    },
    {
      "cell_type": "markdown",
      "metadata": {
        "id": "bAI0EpQOAgM1"
      },
      "source": [
        "### Avaliação"
      ]
    },
    {
      "cell_type": "code",
      "metadata": {
        "id": "6sGfCMMB9ewJ",
        "colab": {
          "base_uri": "https://localhost:8080/",
          "height": 696
        },
        "outputId": "7b534063-17d9-451d-dbe9-880c8516ef92"
      },
      "source": [
        "def evaluate(model, test_loader):\n",
        "    y_pred = []\n",
        "    y_true = []\n",
        "\n",
        "    model.eval()\n",
        "    with torch.no_grad():\n",
        "        for (text, labels), _ in test_loader:\n",
        "                labels = labels.type(torch.LongTensor)           \n",
        "                labels = labels.to(device)\n",
        "                text = text.type(torch.LongTensor)  \n",
        "                text = text.to(device)\n",
        "                output = model(text, labels)\n",
        "\n",
        "                _, output = output\n",
        "                y_pred.extend(torch.argmax(output, 1).tolist())\n",
        "                y_true.extend(labels.tolist())\n",
        "    \n",
        "    print('Classification Report:')\n",
        "    n_classe = np.max(y_true)+1\n",
        "    print(classification_report(y_true, y_pred, labels=np.arange(0,n_classe), digits=4))\n",
        "    \n",
        "    cm = confusion_matrix(y_true, y_pred, labels=np.arange(0,n_classe))\n",
        "    ax= plt.subplot()\n",
        "    sns.heatmap(cm, annot=True, ax = ax, cmap='Blues', fmt=\"d\")\n",
        "\n",
        "    ax.set_title('Confusion Matrix')\n",
        "\n",
        "    ax.set_xlabel('Predicted Labels')\n",
        "    ax.set_ylabel('True Labels')\n",
        "\n",
        "    \n",
        "    \n",
        "best_model = BERT().to(device)\n",
        "\n",
        "load_checkpoint(destination_folder + '/model.pt', best_model)\n",
        "\n",
        "evaluate(best_model, test_iter)"
      ],
      "execution_count": null,
      "outputs": [
        {
          "output_type": "stream",
          "text": [
            "Some weights of the model checkpoint at neuralmind/bert-base-portuguese-cased were not used when initializing BertForSequenceClassification: ['cls.predictions.transform.LayerNorm.bias', 'cls.predictions.transform.LayerNorm.weight', 'cls.seq_relationship.bias', 'cls.predictions.transform.dense.weight', 'cls.predictions.bias', 'cls.predictions.decoder.weight', 'cls.seq_relationship.weight', 'cls.predictions.transform.dense.bias']\n",
            "- This IS expected if you are initializing BertForSequenceClassification from the checkpoint of a model trained on another task or with another architecture (e.g. initializing a BertForSequenceClassification model from a BertForPreTraining model).\n",
            "- This IS NOT expected if you are initializing BertForSequenceClassification from the checkpoint of a model that you expect to be exactly identical (initializing a BertForSequenceClassification model from a BertForSequenceClassification model).\n",
            "Some weights of BertForSequenceClassification were not initialized from the model checkpoint at neuralmind/bert-base-portuguese-cased and are newly initialized: ['classifier.weight', 'classifier.bias']\n",
            "You should probably TRAIN this model on a down-stream task to be able to use it for predictions and inference.\n"
          ],
          "name": "stderr"
        },
        {
          "output_type": "stream",
          "text": [
            "Model loaded from <== /content/model.pt\n",
            "Classification Report:\n",
            "              precision    recall  f1-score   support\n",
            "\n",
            "           0     0.9565    0.9565    0.9565        23\n",
            "           1     0.7857    1.0000    0.8800        22\n",
            "           2     0.8636    0.8636    0.8636        22\n",
            "           3     1.0000    1.0000    1.0000        14\n",
            "           4     0.7619    0.8889    0.8205        18\n",
            "           5     1.0000    1.0000    1.0000        15\n",
            "           6     0.9231    0.7059    0.8000        17\n",
            "           7     0.8750    0.7241    0.7925        29\n",
            "\n",
            "    accuracy                         0.8812       160\n",
            "   macro avg     0.8957    0.8924    0.8891       160\n",
            "weighted avg     0.8879    0.8812    0.8794       160\n",
            "\n"
          ],
          "name": "stdout"
        },
        {
          "output_type": "display_data",
          "data": {
            "image/png": "[encoded data removed]",
            "text/plain": [
              "<Figure size 432x288 with 2 Axes>"
            ]
          },
          "metadata": {
            "tags": [],
            "needs_background": "light"
          }
        }
      ]
    },
    {
      "cell_type": "markdown",
      "metadata": {
        "id": "kIA9kWsxs7SQ"
      },
      "source": [
        "## Salvando o modelo"
      ]
    },
    {
      "cell_type": "code",
      "metadata": {
        "colab": {
          "base_uri": "https://localhost:8080/"
        },
        "id": "Gg_nC_Pyu7vn",
        "outputId": "ab5cb864-64ed-41aa-a541-53bf88f66019"
      },
      "source": [
        "from google.colab import files, drive\n",
        "from pathlib import Path\n",
        "import pickle\n",
        "drive.mount('/gdrive')\n",
        "%cd /gdrive/My\\ Drive/Colab\\ Notebooks/nlp_tcc\n",
        "path = '/gdrive/My Drive/Colab Notebooks/nlp_tcc'\n",
        "arquivo = '/bertimbau_classifier_pt'"
      ],
      "execution_count": null,
      "outputs": [
        {
          "output_type": "stream",
          "text": [
            "Mounted at /gdrive\n",
            "/gdrive/My Drive/Colab Notebooks/nlp_tcc\n"
          ],
          "name": "stdout"
        }
      ]
    },
    {
      "cell_type": "code",
      "metadata": {
        "id": "iuUSiZFswnGs"
      },
      "source": [
        "pickle.dump(best_model, open(path+arquivo,'wb'))\n",
        "pickle.dump(tokenizer, open(path+arquivo+'_token','wb'))"
      ],
      "execution_count": null,
      "outputs": []
    },
    {
      "cell_type": "markdown",
      "metadata": {
        "id": "iBuMztZ-gwyN"
      },
      "source": [
        "## Aplicando o modelo nas miscelâneas de notícias"
      ]
    },
    {
      "cell_type": "code",
      "metadata": {
        "id": "CBAsMn2o3rGc"
      },
      "source": [
        "#carregando o modelo e o tokenizador\n",
        "model = pickle.load(open(path+arquivo,'rb'))\n",
        "token = pickle.load(open(path+arquivo+'_token','rb'))"
      ],
      "execution_count": null,
      "outputs": []
    },
    {
      "cell_type": "markdown",
      "metadata": {
        "id": "nnFvPwrWgnX5"
      },
      "source": [
        "### Tokenizando"
      ]
    },
    {
      "cell_type": "code",
      "metadata": {
        "id": "xTxwEmKpjmjR"
      },
      "source": [
        "# TabularDataset\n",
        "text_field = Field(use_vocab=False, tokenize=tokenizer.encode, lower=False, include_lengths=False, batch_first=True,\n",
        "                   fix_length=MAX_SEQ_LEN, pad_token=PAD_INDEX, unk_token=UNK_INDEX)\n",
        "fields = [('text', text_field)]\n",
        "\n",
        "miscelanea = TabularDataset.splits(path=source_folder, miscelanea='miscelanea.csv', \n",
        "                                  format='CSV',fields=fields, skip_header=True)\n",
        "\n",
        "# Iterators\n",
        "\n",
        "miscelanea_iter = BucketIterator(miscelanea, batch_size=bs, sort_key=lambda x: len(x.text),\n",
        "                            device=device, train=True, sort=True, sort_within_batch=True)"
      ],
      "execution_count": null,
      "outputs": []
    },
    {
      "cell_type": "code",
      "metadata": {
        "colab": {
          "base_uri": "https://localhost:8080/"
        },
        "id": "V1koq2k7jrIj",
        "outputId": "c5577499-6f5d-46d0-9898-70effe92e8e7"
      },
      "source": [
        "tokenizer(\"Hoje é um belo dia de sábado, porém estou aqui estudando.\")"
      ],
      "execution_count": null,
      "outputs": [
        {
          "output_type": "execute_result",
          "data": {
            "text/plain": [
              "{'input_ids': [101, 6029, 253, 222, 15152, 644, 125, 14157, 117, 1804, 12044, 5863, 19679, 119, 102], 'token_type_ids': [0, 0, 0, 0, 0, 0, 0, 0, 0, 0, 0, 0, 0, 0, 0], 'attention_mask': [1, 1, 1, 1, 1, 1, 1, 1, 1, 1, 1, 1, 1, 1, 1]}"
            ]
          },
          "metadata": {
            "tags": []
          },
          "execution_count": 24
        }
      ]
    },
    {
      "cell_type": "markdown",
      "metadata": {
        "id": "TJrH6W-UEXCK"
      },
      "source": [
        ""
      ]
    }
  ]
}