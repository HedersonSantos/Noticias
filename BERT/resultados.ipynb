{
  "nbformat": 4,
  "nbformat_minor": 0,
  "metadata": {
    "colab": {
      "name": "Untitled2.ipynb",
      "provenance": [],
      "authorship_tag": "ABX9TyPYIgmvdZMjtYjVRjJuEoKo",
      "include_colab_link": true
    },
    "kernelspec": {
      "name": "python3",
      "display_name": "Python 3"
    },
    "language_info": {
      "name": "python"
    }
  },
  "cells": [
    {
      "cell_type": "markdown",
      "metadata": {
        "id": "view-in-github",
        "colab_type": "text"
      },
      "source": [
        "<a href=\"https://colab.research.google.com/github/HedersonSantos/Noticias/blob/main/BERT/resultados.ipynb\" target=\"_parent\"><img src=\"https://colab.research.google.com/assets/colab-badge.svg\" alt=\"Open In Colab\"/></a>"
      ]
    },
    {
      "cell_type": "code",
      "metadata": {
        "id": "BHi066QMUemz"
      },
      "source": [
        "def imprimeMetricas(id_planilha,destination_folder)\n",
        "#id_planilha = [1,7] #[9,9.1,9.2,9.3,9.4,9.5,9.6]\n",
        "for id_ in id_planilha:\n",
        "  file_path = destination_folder + \"/\"+str(id_)\n",
        "  train_loss_list, valid_loss_list, global_steps_list = load_metrics(file_path + '/metrics.pt')\n",
        "  plt.plot(global_steps_list, train_loss_list, label='Train')\n",
        "  plt.plot(global_steps_list, valid_loss_list, label='Valid')\n",
        "  plt.xlabel('Global Steps')\n",
        "  plt.ylabel('Loss')\n",
        "  plt.title = 'Resultado do Treino id ' + str(id_)\n",
        "  plt.legend()\n",
        "  plt.show() "
      ],
      "execution_count": 1,
      "outputs": []
    },
    {
      "cell_type": "markdown",
      "metadata": {
        "id": "jwVuC4qDVBHu"
      },
      "source": [
        "# RESULTADOS DOS EXPERIMENTOS\n"
      ]
    },
    {
      "cell_type": "markdown",
      "metadata": {
        "id": "2gWyD6YpU_bY"
      },
      "source": [
        "Para classificar as noticias com o BERTimbau, inicialmente construimos três datasets, um primeiro com 100 noticias em 32 categorias, totalizando 3200 noticias; um segundo com 1000 noticias em 18 categorias, totalizando 18 mil e um terceiro com 57 mil noticias selecionadas 40% aleatoriamente de cada uma das 95 noticias do banco de dados.<br>\n",
        "\n",
        "No primeiro dataset não conseguimos \n",
        "\n"
      ]
    },
    {
      "cell_type": "code",
      "metadata": {
        "id": "BtuEXGECZ1FU"
      },
      "source": [
        "id_planilha = [1,7] #[9,9.1,9.2,9.3,9.4,9.5,9.6]\n",
        "for id_ in id_planilha:\n",
        "  file_path = destination_folder + \"/\"+str(id_)\n",
        "  train_loss_list, valid_loss_list, global_steps_list = load_metrics(file_path + '/metrics.pt')\n",
        "  plt.plot(global_steps_list, train_loss_list, label='Train')\n",
        "  plt.plot(global_steps_list, valid_loss_list, label='Valid')\n",
        "  plt.xlabel('Global Steps')\n",
        "  plt.ylabel('Loss')\n",
        "  plt.title = 'Resultado do Treino id ' + str(id_)\n",
        "  plt.legend()\n",
        "  plt.show() "
      ],
      "execution_count": null,
      "outputs": []
    }
  ]
}