{
  "nbformat": 4,
  "nbformat_minor": 0,
  "metadata": {
    "colab": {
      "name": "BERTimbau_Testes.ipynb",
      "provenance": [],
      "collapsed_sections": [],
      "include_colab_link": true
    },
    "kernelspec": {
      "name": "python3",
      "display_name": "Python 3"
    },
    "language_info": {
      "name": "python"
    },
    "accelerator": "GPU",
    "widgets": {
      "application/vnd.jupyter.widget-state+json": {
        "551c9e29b742411ba3c4b1aabe4d60fa": {
          "model_module": "@jupyter-widgets/controls",
          "model_name": "HBoxModel",
          "model_module_version": "1.5.0",
          "state": {
            "_view_name": "HBoxView",
            "_dom_classes": [],
            "_model_name": "HBoxModel",
            "_view_module": "@jupyter-widgets/controls",
            "_model_module_version": "1.5.0",
            "_view_count": null,
            "_view_module_version": "1.5.0",
            "box_style": "",
            "layout": "IPY_MODEL_5968ba5a45644354844b4a84614daa69",
            "_model_module": "@jupyter-widgets/controls",
            "children": [
              "IPY_MODEL_60ed1fa31ef446009db9e38786f7d31a",
              "IPY_MODEL_75b6d27d284940838e0764be330f88da",
              "IPY_MODEL_602cecceacc54dd191a4f9a64e0a4160"
            ]
          }
        },
        "5968ba5a45644354844b4a84614daa69": {
          "model_module": "@jupyter-widgets/base",
          "model_name": "LayoutModel",
          "model_module_version": "1.2.0",
          "state": {
            "_view_name": "LayoutView",
            "grid_template_rows": null,
            "right": null,
            "justify_content": null,
            "_view_module": "@jupyter-widgets/base",
            "overflow": null,
            "_model_module_version": "1.2.0",
            "_view_count": null,
            "flex_flow": null,
            "width": null,
            "min_width": null,
            "border": null,
            "align_items": null,
            "bottom": null,
            "_model_module": "@jupyter-widgets/base",
            "top": null,
            "grid_column": null,
            "overflow_y": null,
            "overflow_x": null,
            "grid_auto_flow": null,
            "grid_area": null,
            "grid_template_columns": null,
            "flex": null,
            "_model_name": "LayoutModel",
            "justify_items": null,
            "grid_row": null,
            "max_height": null,
            "align_content": null,
            "visibility": null,
            "align_self": null,
            "height": null,
            "min_height": null,
            "padding": null,
            "grid_auto_rows": null,
            "grid_gap": null,
            "max_width": null,
            "order": null,
            "_view_module_version": "1.2.0",
            "grid_template_areas": null,
            "object_position": null,
            "object_fit": null,
            "grid_auto_columns": null,
            "margin": null,
            "display": null,
            "left": null
          }
        },
        "60ed1fa31ef446009db9e38786f7d31a": {
          "model_module": "@jupyter-widgets/controls",
          "model_name": "HTMLModel",
          "model_module_version": "1.5.0",
          "state": {
            "_view_name": "HTMLView",
            "style": "IPY_MODEL_d7cb53b8ec4c472a807e23ddebb3450a",
            "_dom_classes": [],
            "description": "",
            "_model_name": "HTMLModel",
            "placeholder": "​",
            "_view_module": "@jupyter-widgets/controls",
            "_model_module_version": "1.5.0",
            "value": "Downloading: 100%",
            "_view_count": null,
            "_view_module_version": "1.5.0",
            "description_tooltip": null,
            "_model_module": "@jupyter-widgets/controls",
            "layout": "IPY_MODEL_da53d76603fd4219be1603cb23783a46"
          }
        },
        "75b6d27d284940838e0764be330f88da": {
          "model_module": "@jupyter-widgets/controls",
          "model_name": "FloatProgressModel",
          "model_module_version": "1.5.0",
          "state": {
            "_view_name": "ProgressView",
            "style": "IPY_MODEL_7f5983e1896842d8a814969caca29a76",
            "_dom_classes": [],
            "description": "",
            "_model_name": "FloatProgressModel",
            "bar_style": "success",
            "max": 43,
            "_view_module": "@jupyter-widgets/controls",
            "_model_module_version": "1.5.0",
            "value": 43,
            "_view_count": null,
            "_view_module_version": "1.5.0",
            "orientation": "horizontal",
            "min": 0,
            "description_tooltip": null,
            "_model_module": "@jupyter-widgets/controls",
            "layout": "IPY_MODEL_5ff052c43734427a8c6ff3aa98c19320"
          }
        },
        "602cecceacc54dd191a4f9a64e0a4160": {
          "model_module": "@jupyter-widgets/controls",
          "model_name": "HTMLModel",
          "model_module_version": "1.5.0",
          "state": {
            "_view_name": "HTMLView",
            "style": "IPY_MODEL_0a8c58071e6d4cf5824b106d52aa5d61",
            "_dom_classes": [],
            "description": "",
            "_model_name": "HTMLModel",
            "placeholder": "​",
            "_view_module": "@jupyter-widgets/controls",
            "_model_module_version": "1.5.0",
            "value": " 43.0/43.0 [00:00&lt;00:00, 1.09kB/s]",
            "_view_count": null,
            "_view_module_version": "1.5.0",
            "description_tooltip": null,
            "_model_module": "@jupyter-widgets/controls",
            "layout": "IPY_MODEL_3d1eff07384f41c3978d912095544bc6"
          }
        },
        "d7cb53b8ec4c472a807e23ddebb3450a": {
          "model_module": "@jupyter-widgets/controls",
          "model_name": "DescriptionStyleModel",
          "model_module_version": "1.5.0",
          "state": {
            "_view_name": "StyleView",
            "_model_name": "DescriptionStyleModel",
            "description_width": "",
            "_view_module": "@jupyter-widgets/base",
            "_model_module_version": "1.5.0",
            "_view_count": null,
            "_view_module_version": "1.2.0",
            "_model_module": "@jupyter-widgets/controls"
          }
        },
        "da53d76603fd4219be1603cb23783a46": {
          "model_module": "@jupyter-widgets/base",
          "model_name": "LayoutModel",
          "model_module_version": "1.2.0",
          "state": {
            "_view_name": "LayoutView",
            "grid_template_rows": null,
            "right": null,
            "justify_content": null,
            "_view_module": "@jupyter-widgets/base",
            "overflow": null,
            "_model_module_version": "1.2.0",
            "_view_count": null,
            "flex_flow": null,
            "width": null,
            "min_width": null,
            "border": null,
            "align_items": null,
            "bottom": null,
            "_model_module": "@jupyter-widgets/base",
            "top": null,
            "grid_column": null,
            "overflow_y": null,
            "overflow_x": null,
            "grid_auto_flow": null,
            "grid_area": null,
            "grid_template_columns": null,
            "flex": null,
            "_model_name": "LayoutModel",
            "justify_items": null,
            "grid_row": null,
            "max_height": null,
            "align_content": null,
            "visibility": null,
            "align_self": null,
            "height": null,
            "min_height": null,
            "padding": null,
            "grid_auto_rows": null,
            "grid_gap": null,
            "max_width": null,
            "order": null,
            "_view_module_version": "1.2.0",
            "grid_template_areas": null,
            "object_position": null,
            "object_fit": null,
            "grid_auto_columns": null,
            "margin": null,
            "display": null,
            "left": null
          }
        },
        "7f5983e1896842d8a814969caca29a76": {
          "model_module": "@jupyter-widgets/controls",
          "model_name": "ProgressStyleModel",
          "model_module_version": "1.5.0",
          "state": {
            "_view_name": "StyleView",
            "_model_name": "ProgressStyleModel",
            "description_width": "",
            "_view_module": "@jupyter-widgets/base",
            "_model_module_version": "1.5.0",
            "_view_count": null,
            "_view_module_version": "1.2.0",
            "bar_color": null,
            "_model_module": "@jupyter-widgets/controls"
          }
        },
        "5ff052c43734427a8c6ff3aa98c19320": {
          "model_module": "@jupyter-widgets/base",
          "model_name": "LayoutModel",
          "model_module_version": "1.2.0",
          "state": {
            "_view_name": "LayoutView",
            "grid_template_rows": null,
            "right": null,
            "justify_content": null,
            "_view_module": "@jupyter-widgets/base",
            "overflow": null,
            "_model_module_version": "1.2.0",
            "_view_count": null,
            "flex_flow": null,
            "width": null,
            "min_width": null,
            "border": null,
            "align_items": null,
            "bottom": null,
            "_model_module": "@jupyter-widgets/base",
            "top": null,
            "grid_column": null,
            "overflow_y": null,
            "overflow_x": null,
            "grid_auto_flow": null,
            "grid_area": null,
            "grid_template_columns": null,
            "flex": null,
            "_model_name": "LayoutModel",
            "justify_items": null,
            "grid_row": null,
            "max_height": null,
            "align_content": null,
            "visibility": null,
            "align_self": null,
            "height": null,
            "min_height": null,
            "padding": null,
            "grid_auto_rows": null,
            "grid_gap": null,
            "max_width": null,
            "order": null,
            "_view_module_version": "1.2.0",
            "grid_template_areas": null,
            "object_position": null,
            "object_fit": null,
            "grid_auto_columns": null,
            "margin": null,
            "display": null,
            "left": null
          }
        },
        "0a8c58071e6d4cf5824b106d52aa5d61": {
          "model_module": "@jupyter-widgets/controls",
          "model_name": "DescriptionStyleModel",
          "model_module_version": "1.5.0",
          "state": {
            "_view_name": "StyleView",
            "_model_name": "DescriptionStyleModel",
            "description_width": "",
            "_view_module": "@jupyter-widgets/base",
            "_model_module_version": "1.5.0",
            "_view_count": null,
            "_view_module_version": "1.2.0",
            "_model_module": "@jupyter-widgets/controls"
          }
        },
        "3d1eff07384f41c3978d912095544bc6": {
          "model_module": "@jupyter-widgets/base",
          "model_name": "LayoutModel",
          "model_module_version": "1.2.0",
          "state": {
            "_view_name": "LayoutView",
            "grid_template_rows": null,
            "right": null,
            "justify_content": null,
            "_view_module": "@jupyter-widgets/base",
            "overflow": null,
            "_model_module_version": "1.2.0",
            "_view_count": null,
            "flex_flow": null,
            "width": null,
            "min_width": null,
            "border": null,
            "align_items": null,
            "bottom": null,
            "_model_module": "@jupyter-widgets/base",
            "top": null,
            "grid_column": null,
            "overflow_y": null,
            "overflow_x": null,
            "grid_auto_flow": null,
            "grid_area": null,
            "grid_template_columns": null,
            "flex": null,
            "_model_name": "LayoutModel",
            "justify_items": null,
            "grid_row": null,
            "max_height": null,
            "align_content": null,
            "visibility": null,
            "align_self": null,
            "height": null,
            "min_height": null,
            "padding": null,
            "grid_auto_rows": null,
            "grid_gap": null,
            "max_width": null,
            "order": null,
            "_view_module_version": "1.2.0",
            "grid_template_areas": null,
            "object_position": null,
            "object_fit": null,
            "grid_auto_columns": null,
            "margin": null,
            "display": null,
            "left": null
          }
        },
        "8d1ab1add053433aa7b54b74e5d11c90": {
          "model_module": "@jupyter-widgets/controls",
          "model_name": "HBoxModel",
          "model_module_version": "1.5.0",
          "state": {
            "_view_name": "HBoxView",
            "_dom_classes": [],
            "_model_name": "HBoxModel",
            "_view_module": "@jupyter-widgets/controls",
            "_model_module_version": "1.5.0",
            "_view_count": null,
            "_view_module_version": "1.5.0",
            "box_style": "",
            "layout": "IPY_MODEL_bc5d7bef0bbb4283b8bd8b817eb232b9",
            "_model_module": "@jupyter-widgets/controls",
            "children": [
              "IPY_MODEL_3fb0f98be71e4ab8a9bed2f46602d4a8",
              "IPY_MODEL_af5f227260d14b31bb15713eadc05ab1",
              "IPY_MODEL_e924ccefec624910a31f62cb5502c29e"
            ]
          }
        },
        "bc5d7bef0bbb4283b8bd8b817eb232b9": {
          "model_module": "@jupyter-widgets/base",
          "model_name": "LayoutModel",
          "model_module_version": "1.2.0",
          "state": {
            "_view_name": "LayoutView",
            "grid_template_rows": null,
            "right": null,
            "justify_content": null,
            "_view_module": "@jupyter-widgets/base",
            "overflow": null,
            "_model_module_version": "1.2.0",
            "_view_count": null,
            "flex_flow": null,
            "width": null,
            "min_width": null,
            "border": null,
            "align_items": null,
            "bottom": null,
            "_model_module": "@jupyter-widgets/base",
            "top": null,
            "grid_column": null,
            "overflow_y": null,
            "overflow_x": null,
            "grid_auto_flow": null,
            "grid_area": null,
            "grid_template_columns": null,
            "flex": null,
            "_model_name": "LayoutModel",
            "justify_items": null,
            "grid_row": null,
            "max_height": null,
            "align_content": null,
            "visibility": null,
            "align_self": null,
            "height": null,
            "min_height": null,
            "padding": null,
            "grid_auto_rows": null,
            "grid_gap": null,
            "max_width": null,
            "order": null,
            "_view_module_version": "1.2.0",
            "grid_template_areas": null,
            "object_position": null,
            "object_fit": null,
            "grid_auto_columns": null,
            "margin": null,
            "display": null,
            "left": null
          }
        },
        "3fb0f98be71e4ab8a9bed2f46602d4a8": {
          "model_module": "@jupyter-widgets/controls",
          "model_name": "HTMLModel",
          "model_module_version": "1.5.0",
          "state": {
            "_view_name": "HTMLView",
            "style": "IPY_MODEL_9e9817e2e7f040d2a4dc4a49d827eb63",
            "_dom_classes": [],
            "description": "",
            "_model_name": "HTMLModel",
            "placeholder": "​",
            "_view_module": "@jupyter-widgets/controls",
            "_model_module_version": "1.5.0",
            "value": "Downloading: 100%",
            "_view_count": null,
            "_view_module_version": "1.5.0",
            "description_tooltip": null,
            "_model_module": "@jupyter-widgets/controls",
            "layout": "IPY_MODEL_7b089fdffe3d435098fa2a0ed2095a38"
          }
        },
        "af5f227260d14b31bb15713eadc05ab1": {
          "model_module": "@jupyter-widgets/controls",
          "model_name": "FloatProgressModel",
          "model_module_version": "1.5.0",
          "state": {
            "_view_name": "ProgressView",
            "style": "IPY_MODEL_6b50e771d90f481fb9d5a6da592a9031",
            "_dom_classes": [],
            "description": "",
            "_model_name": "FloatProgressModel",
            "bar_style": "success",
            "max": 647,
            "_view_module": "@jupyter-widgets/controls",
            "_model_module_version": "1.5.0",
            "value": 647,
            "_view_count": null,
            "_view_module_version": "1.5.0",
            "orientation": "horizontal",
            "min": 0,
            "description_tooltip": null,
            "_model_module": "@jupyter-widgets/controls",
            "layout": "IPY_MODEL_affb8e1ac7db42068eb08c19f6b4ffa4"
          }
        },
        "e924ccefec624910a31f62cb5502c29e": {
          "model_module": "@jupyter-widgets/controls",
          "model_name": "HTMLModel",
          "model_module_version": "1.5.0",
          "state": {
            "_view_name": "HTMLView",
            "style": "IPY_MODEL_50e35b040fc94460aa6db39c032b3486",
            "_dom_classes": [],
            "description": "",
            "_model_name": "HTMLModel",
            "placeholder": "​",
            "_view_module": "@jupyter-widgets/controls",
            "_model_module_version": "1.5.0",
            "value": " 647/647 [00:00&lt;00:00, 17.9kB/s]",
            "_view_count": null,
            "_view_module_version": "1.5.0",
            "description_tooltip": null,
            "_model_module": "@jupyter-widgets/controls",
            "layout": "IPY_MODEL_3bd128f851e6434ab5613e6637cb6050"
          }
        },
        "9e9817e2e7f040d2a4dc4a49d827eb63": {
          "model_module": "@jupyter-widgets/controls",
          "model_name": "DescriptionStyleModel",
          "model_module_version": "1.5.0",
          "state": {
            "_view_name": "StyleView",
            "_model_name": "DescriptionStyleModel",
            "description_width": "",
            "_view_module": "@jupyter-widgets/base",
            "_model_module_version": "1.5.0",
            "_view_count": null,
            "_view_module_version": "1.2.0",
            "_model_module": "@jupyter-widgets/controls"
          }
        },
        "7b089fdffe3d435098fa2a0ed2095a38": {
          "model_module": "@jupyter-widgets/base",
          "model_name": "LayoutModel",
          "model_module_version": "1.2.0",
          "state": {
            "_view_name": "LayoutView",
            "grid_template_rows": null,
            "right": null,
            "justify_content": null,
            "_view_module": "@jupyter-widgets/base",
            "overflow": null,
            "_model_module_version": "1.2.0",
            "_view_count": null,
            "flex_flow": null,
            "width": null,
            "min_width": null,
            "border": null,
            "align_items": null,
            "bottom": null,
            "_model_module": "@jupyter-widgets/base",
            "top": null,
            "grid_column": null,
            "overflow_y": null,
            "overflow_x": null,
            "grid_auto_flow": null,
            "grid_area": null,
            "grid_template_columns": null,
            "flex": null,
            "_model_name": "LayoutModel",
            "justify_items": null,
            "grid_row": null,
            "max_height": null,
            "align_content": null,
            "visibility": null,
            "align_self": null,
            "height": null,
            "min_height": null,
            "padding": null,
            "grid_auto_rows": null,
            "grid_gap": null,
            "max_width": null,
            "order": null,
            "_view_module_version": "1.2.0",
            "grid_template_areas": null,
            "object_position": null,
            "object_fit": null,
            "grid_auto_columns": null,
            "margin": null,
            "display": null,
            "left": null
          }
        },
        "6b50e771d90f481fb9d5a6da592a9031": {
          "model_module": "@jupyter-widgets/controls",
          "model_name": "ProgressStyleModel",
          "model_module_version": "1.5.0",
          "state": {
            "_view_name": "StyleView",
            "_model_name": "ProgressStyleModel",
            "description_width": "",
            "_view_module": "@jupyter-widgets/base",
            "_model_module_version": "1.5.0",
            "_view_count": null,
            "_view_module_version": "1.2.0",
            "bar_color": null,
            "_model_module": "@jupyter-widgets/controls"
          }
        },
        "affb8e1ac7db42068eb08c19f6b4ffa4": {
          "model_module": "@jupyter-widgets/base",
          "model_name": "LayoutModel",
          "model_module_version": "1.2.0",
          "state": {
            "_view_name": "LayoutView",
            "grid_template_rows": null,
            "right": null,
            "justify_content": null,
            "_view_module": "@jupyter-widgets/base",
            "overflow": null,
            "_model_module_version": "1.2.0",
            "_view_count": null,
            "flex_flow": null,
            "width": null,
            "min_width": null,
            "border": null,
            "align_items": null,
            "bottom": null,
            "_model_module": "@jupyter-widgets/base",
            "top": null,
            "grid_column": null,
            "overflow_y": null,
            "overflow_x": null,
            "grid_auto_flow": null,
            "grid_area": null,
            "grid_template_columns": null,
            "flex": null,
            "_model_name": "LayoutModel",
            "justify_items": null,
            "grid_row": null,
            "max_height": null,
            "align_content": null,
            "visibility": null,
            "align_self": null,
            "height": null,
            "min_height": null,
            "padding": null,
            "grid_auto_rows": null,
            "grid_gap": null,
            "max_width": null,
            "order": null,
            "_view_module_version": "1.2.0",
            "grid_template_areas": null,
            "object_position": null,
            "object_fit": null,
            "grid_auto_columns": null,
            "margin": null,
            "display": null,
            "left": null
          }
        },
        "50e35b040fc94460aa6db39c032b3486": {
          "model_module": "@jupyter-widgets/controls",
          "model_name": "DescriptionStyleModel",
          "model_module_version": "1.5.0",
          "state": {
            "_view_name": "StyleView",
            "_model_name": "DescriptionStyleModel",
            "description_width": "",
            "_view_module": "@jupyter-widgets/base",
            "_model_module_version": "1.5.0",
            "_view_count": null,
            "_view_module_version": "1.2.0",
            "_model_module": "@jupyter-widgets/controls"
          }
        },
        "3bd128f851e6434ab5613e6637cb6050": {
          "model_module": "@jupyter-widgets/base",
          "model_name": "LayoutModel",
          "model_module_version": "1.2.0",
          "state": {
            "_view_name": "LayoutView",
            "grid_template_rows": null,
            "right": null,
            "justify_content": null,
            "_view_module": "@jupyter-widgets/base",
            "overflow": null,
            "_model_module_version": "1.2.0",
            "_view_count": null,
            "flex_flow": null,
            "width": null,
            "min_width": null,
            "border": null,
            "align_items": null,
            "bottom": null,
            "_model_module": "@jupyter-widgets/base",
            "top": null,
            "grid_column": null,
            "overflow_y": null,
            "overflow_x": null,
            "grid_auto_flow": null,
            "grid_area": null,
            "grid_template_columns": null,
            "flex": null,
            "_model_name": "LayoutModel",
            "justify_items": null,
            "grid_row": null,
            "max_height": null,
            "align_content": null,
            "visibility": null,
            "align_self": null,
            "height": null,
            "min_height": null,
            "padding": null,
            "grid_auto_rows": null,
            "grid_gap": null,
            "max_width": null,
            "order": null,
            "_view_module_version": "1.2.0",
            "grid_template_areas": null,
            "object_position": null,
            "object_fit": null,
            "grid_auto_columns": null,
            "margin": null,
            "display": null,
            "left": null
          }
        },
        "afaf5fe0b5744020b40494848622df15": {
          "model_module": "@jupyter-widgets/controls",
          "model_name": "HBoxModel",
          "model_module_version": "1.5.0",
          "state": {
            "_view_name": "HBoxView",
            "_dom_classes": [],
            "_model_name": "HBoxModel",
            "_view_module": "@jupyter-widgets/controls",
            "_model_module_version": "1.5.0",
            "_view_count": null,
            "_view_module_version": "1.5.0",
            "box_style": "",
            "layout": "IPY_MODEL_6412f7aed06e483c84d0c9e6076b6807",
            "_model_module": "@jupyter-widgets/controls",
            "children": [
              "IPY_MODEL_934a49cd34cc4127b7d4f2d7573523e6",
              "IPY_MODEL_51e33e4853084f2b8bf0717acebc7805",
              "IPY_MODEL_31bc77fd78d949e38b93ca803e2d3db0"
            ]
          }
        },
        "6412f7aed06e483c84d0c9e6076b6807": {
          "model_module": "@jupyter-widgets/base",
          "model_name": "LayoutModel",
          "model_module_version": "1.2.0",
          "state": {
            "_view_name": "LayoutView",
            "grid_template_rows": null,
            "right": null,
            "justify_content": null,
            "_view_module": "@jupyter-widgets/base",
            "overflow": null,
            "_model_module_version": "1.2.0",
            "_view_count": null,
            "flex_flow": null,
            "width": null,
            "min_width": null,
            "border": null,
            "align_items": null,
            "bottom": null,
            "_model_module": "@jupyter-widgets/base",
            "top": null,
            "grid_column": null,
            "overflow_y": null,
            "overflow_x": null,
            "grid_auto_flow": null,
            "grid_area": null,
            "grid_template_columns": null,
            "flex": null,
            "_model_name": "LayoutModel",
            "justify_items": null,
            "grid_row": null,
            "max_height": null,
            "align_content": null,
            "visibility": null,
            "align_self": null,
            "height": null,
            "min_height": null,
            "padding": null,
            "grid_auto_rows": null,
            "grid_gap": null,
            "max_width": null,
            "order": null,
            "_view_module_version": "1.2.0",
            "grid_template_areas": null,
            "object_position": null,
            "object_fit": null,
            "grid_auto_columns": null,
            "margin": null,
            "display": null,
            "left": null
          }
        },
        "934a49cd34cc4127b7d4f2d7573523e6": {
          "model_module": "@jupyter-widgets/controls",
          "model_name": "HTMLModel",
          "model_module_version": "1.5.0",
          "state": {
            "_view_name": "HTMLView",
            "style": "IPY_MODEL_aea65b581613469cb2bd63989c3e3ed1",
            "_dom_classes": [],
            "description": "",
            "_model_name": "HTMLModel",
            "placeholder": "​",
            "_view_module": "@jupyter-widgets/controls",
            "_model_module_version": "1.5.0",
            "value": "Downloading: 100%",
            "_view_count": null,
            "_view_module_version": "1.5.0",
            "description_tooltip": null,
            "_model_module": "@jupyter-widgets/controls",
            "layout": "IPY_MODEL_901d262b480644a987c4a8493dda8374"
          }
        },
        "51e33e4853084f2b8bf0717acebc7805": {
          "model_module": "@jupyter-widgets/controls",
          "model_name": "FloatProgressModel",
          "model_module_version": "1.5.0",
          "state": {
            "_view_name": "ProgressView",
            "style": "IPY_MODEL_6cdb9d474e2c471eb6089adbfeec6108",
            "_dom_classes": [],
            "description": "",
            "_model_name": "FloatProgressModel",
            "bar_style": "success",
            "max": 209528,
            "_view_module": "@jupyter-widgets/controls",
            "_model_module_version": "1.5.0",
            "value": 209528,
            "_view_count": null,
            "_view_module_version": "1.5.0",
            "orientation": "horizontal",
            "min": 0,
            "description_tooltip": null,
            "_model_module": "@jupyter-widgets/controls",
            "layout": "IPY_MODEL_9b67fa9ca14b4f5a9fd359d0796233cf"
          }
        },
        "31bc77fd78d949e38b93ca803e2d3db0": {
          "model_module": "@jupyter-widgets/controls",
          "model_name": "HTMLModel",
          "model_module_version": "1.5.0",
          "state": {
            "_view_name": "HTMLView",
            "style": "IPY_MODEL_26032a98d15640adba98fc62e87337bc",
            "_dom_classes": [],
            "description": "",
            "_model_name": "HTMLModel",
            "placeholder": "​",
            "_view_module": "@jupyter-widgets/controls",
            "_model_module_version": "1.5.0",
            "value": " 210k/210k [00:00&lt;00:00, 1.37MB/s]",
            "_view_count": null,
            "_view_module_version": "1.5.0",
            "description_tooltip": null,
            "_model_module": "@jupyter-widgets/controls",
            "layout": "IPY_MODEL_a3ee8de6f2d442afb85f2590fe9437d9"
          }
        },
        "aea65b581613469cb2bd63989c3e3ed1": {
          "model_module": "@jupyter-widgets/controls",
          "model_name": "DescriptionStyleModel",
          "model_module_version": "1.5.0",
          "state": {
            "_view_name": "StyleView",
            "_model_name": "DescriptionStyleModel",
            "description_width": "",
            "_view_module": "@jupyter-widgets/base",
            "_model_module_version": "1.5.0",
            "_view_count": null,
            "_view_module_version": "1.2.0",
            "_model_module": "@jupyter-widgets/controls"
          }
        },
        "901d262b480644a987c4a8493dda8374": {
          "model_module": "@jupyter-widgets/base",
          "model_name": "LayoutModel",
          "model_module_version": "1.2.0",
          "state": {
            "_view_name": "LayoutView",
            "grid_template_rows": null,
            "right": null,
            "justify_content": null,
            "_view_module": "@jupyter-widgets/base",
            "overflow": null,
            "_model_module_version": "1.2.0",
            "_view_count": null,
            "flex_flow": null,
            "width": null,
            "min_width": null,
            "border": null,
            "align_items": null,
            "bottom": null,
            "_model_module": "@jupyter-widgets/base",
            "top": null,
            "grid_column": null,
            "overflow_y": null,
            "overflow_x": null,
            "grid_auto_flow": null,
            "grid_area": null,
            "grid_template_columns": null,
            "flex": null,
            "_model_name": "LayoutModel",
            "justify_items": null,
            "grid_row": null,
            "max_height": null,
            "align_content": null,
            "visibility": null,
            "align_self": null,
            "height": null,
            "min_height": null,
            "padding": null,
            "grid_auto_rows": null,
            "grid_gap": null,
            "max_width": null,
            "order": null,
            "_view_module_version": "1.2.0",
            "grid_template_areas": null,
            "object_position": null,
            "object_fit": null,
            "grid_auto_columns": null,
            "margin": null,
            "display": null,
            "left": null
          }
        },
        "6cdb9d474e2c471eb6089adbfeec6108": {
          "model_module": "@jupyter-widgets/controls",
          "model_name": "ProgressStyleModel",
          "model_module_version": "1.5.0",
          "state": {
            "_view_name": "StyleView",
            "_model_name": "ProgressStyleModel",
            "description_width": "",
            "_view_module": "@jupyter-widgets/base",
            "_model_module_version": "1.5.0",
            "_view_count": null,
            "_view_module_version": "1.2.0",
            "bar_color": null,
            "_model_module": "@jupyter-widgets/controls"
          }
        },
        "9b67fa9ca14b4f5a9fd359d0796233cf": {
          "model_module": "@jupyter-widgets/base",
          "model_name": "LayoutModel",
          "model_module_version": "1.2.0",
          "state": {
            "_view_name": "LayoutView",
            "grid_template_rows": null,
            "right": null,
            "justify_content": null,
            "_view_module": "@jupyter-widgets/base",
            "overflow": null,
            "_model_module_version": "1.2.0",
            "_view_count": null,
            "flex_flow": null,
            "width": null,
            "min_width": null,
            "border": null,
            "align_items": null,
            "bottom": null,
            "_model_module": "@jupyter-widgets/base",
            "top": null,
            "grid_column": null,
            "overflow_y": null,
            "overflow_x": null,
            "grid_auto_flow": null,
            "grid_area": null,
            "grid_template_columns": null,
            "flex": null,
            "_model_name": "LayoutModel",
            "justify_items": null,
            "grid_row": null,
            "max_height": null,
            "align_content": null,
            "visibility": null,
            "align_self": null,
            "height": null,
            "min_height": null,
            "padding": null,
            "grid_auto_rows": null,
            "grid_gap": null,
            "max_width": null,
            "order": null,
            "_view_module_version": "1.2.0",
            "grid_template_areas": null,
            "object_position": null,
            "object_fit": null,
            "grid_auto_columns": null,
            "margin": null,
            "display": null,
            "left": null
          }
        },
        "26032a98d15640adba98fc62e87337bc": {
          "model_module": "@jupyter-widgets/controls",
          "model_name": "DescriptionStyleModel",
          "model_module_version": "1.5.0",
          "state": {
            "_view_name": "StyleView",
            "_model_name": "DescriptionStyleModel",
            "description_width": "",
            "_view_module": "@jupyter-widgets/base",
            "_model_module_version": "1.5.0",
            "_view_count": null,
            "_view_module_version": "1.2.0",
            "_model_module": "@jupyter-widgets/controls"
          }
        },
        "a3ee8de6f2d442afb85f2590fe9437d9": {
          "model_module": "@jupyter-widgets/base",
          "model_name": "LayoutModel",
          "model_module_version": "1.2.0",
          "state": {
            "_view_name": "LayoutView",
            "grid_template_rows": null,
            "right": null,
            "justify_content": null,
            "_view_module": "@jupyter-widgets/base",
            "overflow": null,
            "_model_module_version": "1.2.0",
            "_view_count": null,
            "flex_flow": null,
            "width": null,
            "min_width": null,
            "border": null,
            "align_items": null,
            "bottom": null,
            "_model_module": "@jupyter-widgets/base",
            "top": null,
            "grid_column": null,
            "overflow_y": null,
            "overflow_x": null,
            "grid_auto_flow": null,
            "grid_area": null,
            "grid_template_columns": null,
            "flex": null,
            "_model_name": "LayoutModel",
            "justify_items": null,
            "grid_row": null,
            "max_height": null,
            "align_content": null,
            "visibility": null,
            "align_self": null,
            "height": null,
            "min_height": null,
            "padding": null,
            "grid_auto_rows": null,
            "grid_gap": null,
            "max_width": null,
            "order": null,
            "_view_module_version": "1.2.0",
            "grid_template_areas": null,
            "object_position": null,
            "object_fit": null,
            "grid_auto_columns": null,
            "margin": null,
            "display": null,
            "left": null
          }
        },
        "09cd84dc18a846dba6fc3eb59954b97a": {
          "model_module": "@jupyter-widgets/controls",
          "model_name": "HBoxModel",
          "model_module_version": "1.5.0",
          "state": {
            "_view_name": "HBoxView",
            "_dom_classes": [],
            "_model_name": "HBoxModel",
            "_view_module": "@jupyter-widgets/controls",
            "_model_module_version": "1.5.0",
            "_view_count": null,
            "_view_module_version": "1.5.0",
            "box_style": "",
            "layout": "IPY_MODEL_269f914a01474b6586f00ca77444a062",
            "_model_module": "@jupyter-widgets/controls",
            "children": [
              "IPY_MODEL_a96b425f126a4f178c3ef99144d27f64",
              "IPY_MODEL_7481311034bc4ad593465e9381beff68",
              "IPY_MODEL_455abfdc57584c4a8d1e3e6a4000ace6"
            ]
          }
        },
        "269f914a01474b6586f00ca77444a062": {
          "model_module": "@jupyter-widgets/base",
          "model_name": "LayoutModel",
          "model_module_version": "1.2.0",
          "state": {
            "_view_name": "LayoutView",
            "grid_template_rows": null,
            "right": null,
            "justify_content": null,
            "_view_module": "@jupyter-widgets/base",
            "overflow": null,
            "_model_module_version": "1.2.0",
            "_view_count": null,
            "flex_flow": null,
            "width": null,
            "min_width": null,
            "border": null,
            "align_items": null,
            "bottom": null,
            "_model_module": "@jupyter-widgets/base",
            "top": null,
            "grid_column": null,
            "overflow_y": null,
            "overflow_x": null,
            "grid_auto_flow": null,
            "grid_area": null,
            "grid_template_columns": null,
            "flex": null,
            "_model_name": "LayoutModel",
            "justify_items": null,
            "grid_row": null,
            "max_height": null,
            "align_content": null,
            "visibility": null,
            "align_self": null,
            "height": null,
            "min_height": null,
            "padding": null,
            "grid_auto_rows": null,
            "grid_gap": null,
            "max_width": null,
            "order": null,
            "_view_module_version": "1.2.0",
            "grid_template_areas": null,
            "object_position": null,
            "object_fit": null,
            "grid_auto_columns": null,
            "margin": null,
            "display": null,
            "left": null
          }
        },
        "a96b425f126a4f178c3ef99144d27f64": {
          "model_module": "@jupyter-widgets/controls",
          "model_name": "HTMLModel",
          "model_module_version": "1.5.0",
          "state": {
            "_view_name": "HTMLView",
            "style": "IPY_MODEL_b7de40e72f324a2481a1d2d0e37f445b",
            "_dom_classes": [],
            "description": "",
            "_model_name": "HTMLModel",
            "placeholder": "​",
            "_view_module": "@jupyter-widgets/controls",
            "_model_module_version": "1.5.0",
            "value": "Downloading: 100%",
            "_view_count": null,
            "_view_module_version": "1.5.0",
            "description_tooltip": null,
            "_model_module": "@jupyter-widgets/controls",
            "layout": "IPY_MODEL_334922a9d8884ea2b61994e4ba66aaad"
          }
        },
        "7481311034bc4ad593465e9381beff68": {
          "model_module": "@jupyter-widgets/controls",
          "model_name": "FloatProgressModel",
          "model_module_version": "1.5.0",
          "state": {
            "_view_name": "ProgressView",
            "style": "IPY_MODEL_4d1ed1fb29824b84b2540180e97909b6",
            "_dom_classes": [],
            "description": "",
            "_model_name": "FloatProgressModel",
            "bar_style": "success",
            "max": 2,
            "_view_module": "@jupyter-widgets/controls",
            "_model_module_version": "1.5.0",
            "value": 2,
            "_view_count": null,
            "_view_module_version": "1.5.0",
            "orientation": "horizontal",
            "min": 0,
            "description_tooltip": null,
            "_model_module": "@jupyter-widgets/controls",
            "layout": "IPY_MODEL_60cb739a92ea4f17972749f095f59b60"
          }
        },
        "455abfdc57584c4a8d1e3e6a4000ace6": {
          "model_module": "@jupyter-widgets/controls",
          "model_name": "HTMLModel",
          "model_module_version": "1.5.0",
          "state": {
            "_view_name": "HTMLView",
            "style": "IPY_MODEL_c5249a49fd7d4ad39afe8af18672ef42",
            "_dom_classes": [],
            "description": "",
            "_model_name": "HTMLModel",
            "placeholder": "​",
            "_view_module": "@jupyter-widgets/controls",
            "_model_module_version": "1.5.0",
            "value": " 2.00/2.00 [00:00&lt;00:00, 54.5B/s]",
            "_view_count": null,
            "_view_module_version": "1.5.0",
            "description_tooltip": null,
            "_model_module": "@jupyter-widgets/controls",
            "layout": "IPY_MODEL_017f4dd81a3942f497cc73b0d28d70f3"
          }
        },
        "b7de40e72f324a2481a1d2d0e37f445b": {
          "model_module": "@jupyter-widgets/controls",
          "model_name": "DescriptionStyleModel",
          "model_module_version": "1.5.0",
          "state": {
            "_view_name": "StyleView",
            "_model_name": "DescriptionStyleModel",
            "description_width": "",
            "_view_module": "@jupyter-widgets/base",
            "_model_module_version": "1.5.0",
            "_view_count": null,
            "_view_module_version": "1.2.0",
            "_model_module": "@jupyter-widgets/controls"
          }
        },
        "334922a9d8884ea2b61994e4ba66aaad": {
          "model_module": "@jupyter-widgets/base",
          "model_name": "LayoutModel",
          "model_module_version": "1.2.0",
          "state": {
            "_view_name": "LayoutView",
            "grid_template_rows": null,
            "right": null,
            "justify_content": null,
            "_view_module": "@jupyter-widgets/base",
            "overflow": null,
            "_model_module_version": "1.2.0",
            "_view_count": null,
            "flex_flow": null,
            "width": null,
            "min_width": null,
            "border": null,
            "align_items": null,
            "bottom": null,
            "_model_module": "@jupyter-widgets/base",
            "top": null,
            "grid_column": null,
            "overflow_y": null,
            "overflow_x": null,
            "grid_auto_flow": null,
            "grid_area": null,
            "grid_template_columns": null,
            "flex": null,
            "_model_name": "LayoutModel",
            "justify_items": null,
            "grid_row": null,
            "max_height": null,
            "align_content": null,
            "visibility": null,
            "align_self": null,
            "height": null,
            "min_height": null,
            "padding": null,
            "grid_auto_rows": null,
            "grid_gap": null,
            "max_width": null,
            "order": null,
            "_view_module_version": "1.2.0",
            "grid_template_areas": null,
            "object_position": null,
            "object_fit": null,
            "grid_auto_columns": null,
            "margin": null,
            "display": null,
            "left": null
          }
        },
        "4d1ed1fb29824b84b2540180e97909b6": {
          "model_module": "@jupyter-widgets/controls",
          "model_name": "ProgressStyleModel",
          "model_module_version": "1.5.0",
          "state": {
            "_view_name": "StyleView",
            "_model_name": "ProgressStyleModel",
            "description_width": "",
            "_view_module": "@jupyter-widgets/base",
            "_model_module_version": "1.5.0",
            "_view_count": null,
            "_view_module_version": "1.2.0",
            "bar_color": null,
            "_model_module": "@jupyter-widgets/controls"
          }
        },
        "60cb739a92ea4f17972749f095f59b60": {
          "model_module": "@jupyter-widgets/base",
          "model_name": "LayoutModel",
          "model_module_version": "1.2.0",
          "state": {
            "_view_name": "LayoutView",
            "grid_template_rows": null,
            "right": null,
            "justify_content": null,
            "_view_module": "@jupyter-widgets/base",
            "overflow": null,
            "_model_module_version": "1.2.0",
            "_view_count": null,
            "flex_flow": null,
            "width": null,
            "min_width": null,
            "border": null,
            "align_items": null,
            "bottom": null,
            "_model_module": "@jupyter-widgets/base",
            "top": null,
            "grid_column": null,
            "overflow_y": null,
            "overflow_x": null,
            "grid_auto_flow": null,
            "grid_area": null,
            "grid_template_columns": null,
            "flex": null,
            "_model_name": "LayoutModel",
            "justify_items": null,
            "grid_row": null,
            "max_height": null,
            "align_content": null,
            "visibility": null,
            "align_self": null,
            "height": null,
            "min_height": null,
            "padding": null,
            "grid_auto_rows": null,
            "grid_gap": null,
            "max_width": null,
            "order": null,
            "_view_module_version": "1.2.0",
            "grid_template_areas": null,
            "object_position": null,
            "object_fit": null,
            "grid_auto_columns": null,
            "margin": null,
            "display": null,
            "left": null
          }
        },
        "c5249a49fd7d4ad39afe8af18672ef42": {
          "model_module": "@jupyter-widgets/controls",
          "model_name": "DescriptionStyleModel",
          "model_module_version": "1.5.0",
          "state": {
            "_view_name": "StyleView",
            "_model_name": "DescriptionStyleModel",
            "description_width": "",
            "_view_module": "@jupyter-widgets/base",
            "_model_module_version": "1.5.0",
            "_view_count": null,
            "_view_module_version": "1.2.0",
            "_model_module": "@jupyter-widgets/controls"
          }
        },
        "017f4dd81a3942f497cc73b0d28d70f3": {
          "model_module": "@jupyter-widgets/base",
          "model_name": "LayoutModel",
          "model_module_version": "1.2.0",
          "state": {
            "_view_name": "LayoutView",
            "grid_template_rows": null,
            "right": null,
            "justify_content": null,
            "_view_module": "@jupyter-widgets/base",
            "overflow": null,
            "_model_module_version": "1.2.0",
            "_view_count": null,
            "flex_flow": null,
            "width": null,
            "min_width": null,
            "border": null,
            "align_items": null,
            "bottom": null,
            "_model_module": "@jupyter-widgets/base",
            "top": null,
            "grid_column": null,
            "overflow_y": null,
            "overflow_x": null,
            "grid_auto_flow": null,
            "grid_area": null,
            "grid_template_columns": null,
            "flex": null,
            "_model_name": "LayoutModel",
            "justify_items": null,
            "grid_row": null,
            "max_height": null,
            "align_content": null,
            "visibility": null,
            "align_self": null,
            "height": null,
            "min_height": null,
            "padding": null,
            "grid_auto_rows": null,
            "grid_gap": null,
            "max_width": null,
            "order": null,
            "_view_module_version": "1.2.0",
            "grid_template_areas": null,
            "object_position": null,
            "object_fit": null,
            "grid_auto_columns": null,
            "margin": null,
            "display": null,
            "left": null
          }
        },
        "320cb610a8bd4630af6fad5cd05a32dd": {
          "model_module": "@jupyter-widgets/controls",
          "model_name": "HBoxModel",
          "model_module_version": "1.5.0",
          "state": {
            "_view_name": "HBoxView",
            "_dom_classes": [],
            "_model_name": "HBoxModel",
            "_view_module": "@jupyter-widgets/controls",
            "_model_module_version": "1.5.0",
            "_view_count": null,
            "_view_module_version": "1.5.0",
            "box_style": "",
            "layout": "IPY_MODEL_f9bd433ccb7a48b4bb2e0cf1aaedac33",
            "_model_module": "@jupyter-widgets/controls",
            "children": [
              "IPY_MODEL_ab09bbb2b77d49139dd524eaaff67c94",
              "IPY_MODEL_ca6824dc41d6496eba46e0e705ded1ec",
              "IPY_MODEL_fa5e66c7342e442c9657277bb3a77e92"
            ]
          }
        },
        "f9bd433ccb7a48b4bb2e0cf1aaedac33": {
          "model_module": "@jupyter-widgets/base",
          "model_name": "LayoutModel",
          "model_module_version": "1.2.0",
          "state": {
            "_view_name": "LayoutView",
            "grid_template_rows": null,
            "right": null,
            "justify_content": null,
            "_view_module": "@jupyter-widgets/base",
            "overflow": null,
            "_model_module_version": "1.2.0",
            "_view_count": null,
            "flex_flow": null,
            "width": null,
            "min_width": null,
            "border": null,
            "align_items": null,
            "bottom": null,
            "_model_module": "@jupyter-widgets/base",
            "top": null,
            "grid_column": null,
            "overflow_y": null,
            "overflow_x": null,
            "grid_auto_flow": null,
            "grid_area": null,
            "grid_template_columns": null,
            "flex": null,
            "_model_name": "LayoutModel",
            "justify_items": null,
            "grid_row": null,
            "max_height": null,
            "align_content": null,
            "visibility": null,
            "align_self": null,
            "height": null,
            "min_height": null,
            "padding": null,
            "grid_auto_rows": null,
            "grid_gap": null,
            "max_width": null,
            "order": null,
            "_view_module_version": "1.2.0",
            "grid_template_areas": null,
            "object_position": null,
            "object_fit": null,
            "grid_auto_columns": null,
            "margin": null,
            "display": null,
            "left": null
          }
        },
        "ab09bbb2b77d49139dd524eaaff67c94": {
          "model_module": "@jupyter-widgets/controls",
          "model_name": "HTMLModel",
          "model_module_version": "1.5.0",
          "state": {
            "_view_name": "HTMLView",
            "style": "IPY_MODEL_dc0a008ee91849aeade3c048d6c3db76",
            "_dom_classes": [],
            "description": "",
            "_model_name": "HTMLModel",
            "placeholder": "​",
            "_view_module": "@jupyter-widgets/controls",
            "_model_module_version": "1.5.0",
            "value": "Downloading: 100%",
            "_view_count": null,
            "_view_module_version": "1.5.0",
            "description_tooltip": null,
            "_model_module": "@jupyter-widgets/controls",
            "layout": "IPY_MODEL_4b6da895c6e24e279e8f4c5b428a8743"
          }
        },
        "ca6824dc41d6496eba46e0e705ded1ec": {
          "model_module": "@jupyter-widgets/controls",
          "model_name": "FloatProgressModel",
          "model_module_version": "1.5.0",
          "state": {
            "_view_name": "ProgressView",
            "style": "IPY_MODEL_6a619a4ce2274435a41fb6b1c61fdb8f",
            "_dom_classes": [],
            "description": "",
            "_model_name": "FloatProgressModel",
            "bar_style": "success",
            "max": 112,
            "_view_module": "@jupyter-widgets/controls",
            "_model_module_version": "1.5.0",
            "value": 112,
            "_view_count": null,
            "_view_module_version": "1.5.0",
            "orientation": "horizontal",
            "min": 0,
            "description_tooltip": null,
            "_model_module": "@jupyter-widgets/controls",
            "layout": "IPY_MODEL_fd448b642a564b4f940573210c007146"
          }
        },
        "fa5e66c7342e442c9657277bb3a77e92": {
          "model_module": "@jupyter-widgets/controls",
          "model_name": "HTMLModel",
          "model_module_version": "1.5.0",
          "state": {
            "_view_name": "HTMLView",
            "style": "IPY_MODEL_a1ae3409f7b84ed0a62c686d8f1edebc",
            "_dom_classes": [],
            "description": "",
            "_model_name": "HTMLModel",
            "placeholder": "​",
            "_view_module": "@jupyter-widgets/controls",
            "_model_module_version": "1.5.0",
            "value": " 112/112 [00:00&lt;00:00, 4.04kB/s]",
            "_view_count": null,
            "_view_module_version": "1.5.0",
            "description_tooltip": null,
            "_model_module": "@jupyter-widgets/controls",
            "layout": "IPY_MODEL_bf9ff2b9cb744493b00cf4aaa654f96a"
          }
        },
        "dc0a008ee91849aeade3c048d6c3db76": {
          "model_module": "@jupyter-widgets/controls",
          "model_name": "DescriptionStyleModel",
          "model_module_version": "1.5.0",
          "state": {
            "_view_name": "StyleView",
            "_model_name": "DescriptionStyleModel",
            "description_width": "",
            "_view_module": "@jupyter-widgets/base",
            "_model_module_version": "1.5.0",
            "_view_count": null,
            "_view_module_version": "1.2.0",
            "_model_module": "@jupyter-widgets/controls"
          }
        },
        "4b6da895c6e24e279e8f4c5b428a8743": {
          "model_module": "@jupyter-widgets/base",
          "model_name": "LayoutModel",
          "model_module_version": "1.2.0",
          "state": {
            "_view_name": "LayoutView",
            "grid_template_rows": null,
            "right": null,
            "justify_content": null,
            "_view_module": "@jupyter-widgets/base",
            "overflow": null,
            "_model_module_version": "1.2.0",
            "_view_count": null,
            "flex_flow": null,
            "width": null,
            "min_width": null,
            "border": null,
            "align_items": null,
            "bottom": null,
            "_model_module": "@jupyter-widgets/base",
            "top": null,
            "grid_column": null,
            "overflow_y": null,
            "overflow_x": null,
            "grid_auto_flow": null,
            "grid_area": null,
            "grid_template_columns": null,
            "flex": null,
            "_model_name": "LayoutModel",
            "justify_items": null,
            "grid_row": null,
            "max_height": null,
            "align_content": null,
            "visibility": null,
            "align_self": null,
            "height": null,
            "min_height": null,
            "padding": null,
            "grid_auto_rows": null,
            "grid_gap": null,
            "max_width": null,
            "order": null,
            "_view_module_version": "1.2.0",
            "grid_template_areas": null,
            "object_position": null,
            "object_fit": null,
            "grid_auto_columns": null,
            "margin": null,
            "display": null,
            "left": null
          }
        },
        "6a619a4ce2274435a41fb6b1c61fdb8f": {
          "model_module": "@jupyter-widgets/controls",
          "model_name": "ProgressStyleModel",
          "model_module_version": "1.5.0",
          "state": {
            "_view_name": "StyleView",
            "_model_name": "ProgressStyleModel",
            "description_width": "",
            "_view_module": "@jupyter-widgets/base",
            "_model_module_version": "1.5.0",
            "_view_count": null,
            "_view_module_version": "1.2.0",
            "bar_color": null,
            "_model_module": "@jupyter-widgets/controls"
          }
        },
        "fd448b642a564b4f940573210c007146": {
          "model_module": "@jupyter-widgets/base",
          "model_name": "LayoutModel",
          "model_module_version": "1.2.0",
          "state": {
            "_view_name": "LayoutView",
            "grid_template_rows": null,
            "right": null,
            "justify_content": null,
            "_view_module": "@jupyter-widgets/base",
            "overflow": null,
            "_model_module_version": "1.2.0",
            "_view_count": null,
            "flex_flow": null,
            "width": null,
            "min_width": null,
            "border": null,
            "align_items": null,
            "bottom": null,
            "_model_module": "@jupyter-widgets/base",
            "top": null,
            "grid_column": null,
            "overflow_y": null,
            "overflow_x": null,
            "grid_auto_flow": null,
            "grid_area": null,
            "grid_template_columns": null,
            "flex": null,
            "_model_name": "LayoutModel",
            "justify_items": null,
            "grid_row": null,
            "max_height": null,
            "align_content": null,
            "visibility": null,
            "align_self": null,
            "height": null,
            "min_height": null,
            "padding": null,
            "grid_auto_rows": null,
            "grid_gap": null,
            "max_width": null,
            "order": null,
            "_view_module_version": "1.2.0",
            "grid_template_areas": null,
            "object_position": null,
            "object_fit": null,
            "grid_auto_columns": null,
            "margin": null,
            "display": null,
            "left": null
          }
        },
        "a1ae3409f7b84ed0a62c686d8f1edebc": {
          "model_module": "@jupyter-widgets/controls",
          "model_name": "DescriptionStyleModel",
          "model_module_version": "1.5.0",
          "state": {
            "_view_name": "StyleView",
            "_model_name": "DescriptionStyleModel",
            "description_width": "",
            "_view_module": "@jupyter-widgets/base",
            "_model_module_version": "1.5.0",
            "_view_count": null,
            "_view_module_version": "1.2.0",
            "_model_module": "@jupyter-widgets/controls"
          }
        },
        "bf9ff2b9cb744493b00cf4aaa654f96a": {
          "model_module": "@jupyter-widgets/base",
          "model_name": "LayoutModel",
          "model_module_version": "1.2.0",
          "state": {
            "_view_name": "LayoutView",
            "grid_template_rows": null,
            "right": null,
            "justify_content": null,
            "_view_module": "@jupyter-widgets/base",
            "overflow": null,
            "_model_module_version": "1.2.0",
            "_view_count": null,
            "flex_flow": null,
            "width": null,
            "min_width": null,
            "border": null,
            "align_items": null,
            "bottom": null,
            "_model_module": "@jupyter-widgets/base",
            "top": null,
            "grid_column": null,
            "overflow_y": null,
            "overflow_x": null,
            "grid_auto_flow": null,
            "grid_area": null,
            "grid_template_columns": null,
            "flex": null,
            "_model_name": "LayoutModel",
            "justify_items": null,
            "grid_row": null,
            "max_height": null,
            "align_content": null,
            "visibility": null,
            "align_self": null,
            "height": null,
            "min_height": null,
            "padding": null,
            "grid_auto_rows": null,
            "grid_gap": null,
            "max_width": null,
            "order": null,
            "_view_module_version": "1.2.0",
            "grid_template_areas": null,
            "object_position": null,
            "object_fit": null,
            "grid_auto_columns": null,
            "margin": null,
            "display": null,
            "left": null
          }
        },
        "8cd9acc4012b4c81a5a10aa4cc256d5e": {
          "model_module": "@jupyter-widgets/controls",
          "model_name": "HBoxModel",
          "model_module_version": "1.5.0",
          "state": {
            "_view_name": "HBoxView",
            "_dom_classes": [],
            "_model_name": "HBoxModel",
            "_view_module": "@jupyter-widgets/controls",
            "_model_module_version": "1.5.0",
            "_view_count": null,
            "_view_module_version": "1.5.0",
            "box_style": "",
            "layout": "IPY_MODEL_f42566a5da574aea99d35d6b2f4c775b",
            "_model_module": "@jupyter-widgets/controls",
            "children": [
              "IPY_MODEL_cad1483cbe824796bc5fdf231b7d2128",
              "IPY_MODEL_1f0404f2cfdc46e2a748b24a8f074fa4",
              "IPY_MODEL_80a002f5d2fc4f81b21b779c5aac98a0"
            ]
          }
        },
        "f42566a5da574aea99d35d6b2f4c775b": {
          "model_module": "@jupyter-widgets/base",
          "model_name": "LayoutModel",
          "model_module_version": "1.2.0",
          "state": {
            "_view_name": "LayoutView",
            "grid_template_rows": null,
            "right": null,
            "justify_content": null,
            "_view_module": "@jupyter-widgets/base",
            "overflow": null,
            "_model_module_version": "1.2.0",
            "_view_count": null,
            "flex_flow": null,
            "width": null,
            "min_width": null,
            "border": null,
            "align_items": null,
            "bottom": null,
            "_model_module": "@jupyter-widgets/base",
            "top": null,
            "grid_column": null,
            "overflow_y": null,
            "overflow_x": null,
            "grid_auto_flow": null,
            "grid_area": null,
            "grid_template_columns": null,
            "flex": null,
            "_model_name": "LayoutModel",
            "justify_items": null,
            "grid_row": null,
            "max_height": null,
            "align_content": null,
            "visibility": null,
            "align_self": null,
            "height": null,
            "min_height": null,
            "padding": null,
            "grid_auto_rows": null,
            "grid_gap": null,
            "max_width": null,
            "order": null,
            "_view_module_version": "1.2.0",
            "grid_template_areas": null,
            "object_position": null,
            "object_fit": null,
            "grid_auto_columns": null,
            "margin": null,
            "display": null,
            "left": null
          }
        },
        "cad1483cbe824796bc5fdf231b7d2128": {
          "model_module": "@jupyter-widgets/controls",
          "model_name": "HTMLModel",
          "model_module_version": "1.5.0",
          "state": {
            "_view_name": "HTMLView",
            "style": "IPY_MODEL_00467c4c1e15470ab2af80ee5fc7200f",
            "_dom_classes": [],
            "description": "",
            "_model_name": "HTMLModel",
            "placeholder": "​",
            "_view_module": "@jupyter-widgets/controls",
            "_model_module_version": "1.5.0",
            "value": "Downloading: 100%",
            "_view_count": null,
            "_view_module_version": "1.5.0",
            "description_tooltip": null,
            "_model_module": "@jupyter-widgets/controls",
            "layout": "IPY_MODEL_ded3cc7e60df4d01add08d8b2fc9be91"
          }
        },
        "1f0404f2cfdc46e2a748b24a8f074fa4": {
          "model_module": "@jupyter-widgets/controls",
          "model_name": "FloatProgressModel",
          "model_module_version": "1.5.0",
          "state": {
            "_view_name": "ProgressView",
            "style": "IPY_MODEL_cc0bc1927df8418c9d2dfed44fb5d0f6",
            "_dom_classes": [],
            "description": "",
            "_model_name": "FloatProgressModel",
            "bar_style": "success",
            "max": 438235074,
            "_view_module": "@jupyter-widgets/controls",
            "_model_module_version": "1.5.0",
            "value": 438235074,
            "_view_count": null,
            "_view_module_version": "1.5.0",
            "orientation": "horizontal",
            "min": 0,
            "description_tooltip": null,
            "_model_module": "@jupyter-widgets/controls",
            "layout": "IPY_MODEL_fe6b10024e7840cd83f818db36a8e1fe"
          }
        },
        "80a002f5d2fc4f81b21b779c5aac98a0": {
          "model_module": "@jupyter-widgets/controls",
          "model_name": "HTMLModel",
          "model_module_version": "1.5.0",
          "state": {
            "_view_name": "HTMLView",
            "style": "IPY_MODEL_c691aeed614b48c8baa63d77df98113e",
            "_dom_classes": [],
            "description": "",
            "_model_name": "HTMLModel",
            "placeholder": "​",
            "_view_module": "@jupyter-widgets/controls",
            "_model_module_version": "1.5.0",
            "value": " 438M/438M [00:09&lt;00:00, 44.0MB/s]",
            "_view_count": null,
            "_view_module_version": "1.5.0",
            "description_tooltip": null,
            "_model_module": "@jupyter-widgets/controls",
            "layout": "IPY_MODEL_d3c211b9509d420f99a72ac48c449c1b"
          }
        },
        "00467c4c1e15470ab2af80ee5fc7200f": {
          "model_module": "@jupyter-widgets/controls",
          "model_name": "DescriptionStyleModel",
          "model_module_version": "1.5.0",
          "state": {
            "_view_name": "StyleView",
            "_model_name": "DescriptionStyleModel",
            "description_width": "",
            "_view_module": "@jupyter-widgets/base",
            "_model_module_version": "1.5.0",
            "_view_count": null,
            "_view_module_version": "1.2.0",
            "_model_module": "@jupyter-widgets/controls"
          }
        },
        "ded3cc7e60df4d01add08d8b2fc9be91": {
          "model_module": "@jupyter-widgets/base",
          "model_name": "LayoutModel",
          "model_module_version": "1.2.0",
          "state": {
            "_view_name": "LayoutView",
            "grid_template_rows": null,
            "right": null,
            "justify_content": null,
            "_view_module": "@jupyter-widgets/base",
            "overflow": null,
            "_model_module_version": "1.2.0",
            "_view_count": null,
            "flex_flow": null,
            "width": null,
            "min_width": null,
            "border": null,
            "align_items": null,
            "bottom": null,
            "_model_module": "@jupyter-widgets/base",
            "top": null,
            "grid_column": null,
            "overflow_y": null,
            "overflow_x": null,
            "grid_auto_flow": null,
            "grid_area": null,
            "grid_template_columns": null,
            "flex": null,
            "_model_name": "LayoutModel",
            "justify_items": null,
            "grid_row": null,
            "max_height": null,
            "align_content": null,
            "visibility": null,
            "align_self": null,
            "height": null,
            "min_height": null,
            "padding": null,
            "grid_auto_rows": null,
            "grid_gap": null,
            "max_width": null,
            "order": null,
            "_view_module_version": "1.2.0",
            "grid_template_areas": null,
            "object_position": null,
            "object_fit": null,
            "grid_auto_columns": null,
            "margin": null,
            "display": null,
            "left": null
          }
        },
        "cc0bc1927df8418c9d2dfed44fb5d0f6": {
          "model_module": "@jupyter-widgets/controls",
          "model_name": "ProgressStyleModel",
          "model_module_version": "1.5.0",
          "state": {
            "_view_name": "StyleView",
            "_model_name": "ProgressStyleModel",
            "description_width": "",
            "_view_module": "@jupyter-widgets/base",
            "_model_module_version": "1.5.0",
            "_view_count": null,
            "_view_module_version": "1.2.0",
            "bar_color": null,
            "_model_module": "@jupyter-widgets/controls"
          }
        },
        "fe6b10024e7840cd83f818db36a8e1fe": {
          "model_module": "@jupyter-widgets/base",
          "model_name": "LayoutModel",
          "model_module_version": "1.2.0",
          "state": {
            "_view_name": "LayoutView",
            "grid_template_rows": null,
            "right": null,
            "justify_content": null,
            "_view_module": "@jupyter-widgets/base",
            "overflow": null,
            "_model_module_version": "1.2.0",
            "_view_count": null,
            "flex_flow": null,
            "width": null,
            "min_width": null,
            "border": null,
            "align_items": null,
            "bottom": null,
            "_model_module": "@jupyter-widgets/base",
            "top": null,
            "grid_column": null,
            "overflow_y": null,
            "overflow_x": null,
            "grid_auto_flow": null,
            "grid_area": null,
            "grid_template_columns": null,
            "flex": null,
            "_model_name": "LayoutModel",
            "justify_items": null,
            "grid_row": null,
            "max_height": null,
            "align_content": null,
            "visibility": null,
            "align_self": null,
            "height": null,
            "min_height": null,
            "padding": null,
            "grid_auto_rows": null,
            "grid_gap": null,
            "max_width": null,
            "order": null,
            "_view_module_version": "1.2.0",
            "grid_template_areas": null,
            "object_position": null,
            "object_fit": null,
            "grid_auto_columns": null,
            "margin": null,
            "display": null,
            "left": null
          }
        },
        "c691aeed614b48c8baa63d77df98113e": {
          "model_module": "@jupyter-widgets/controls",
          "model_name": "DescriptionStyleModel",
          "model_module_version": "1.5.0",
          "state": {
            "_view_name": "StyleView",
            "_model_name": "DescriptionStyleModel",
            "description_width": "",
            "_view_module": "@jupyter-widgets/base",
            "_model_module_version": "1.5.0",
            "_view_count": null,
            "_view_module_version": "1.2.0",
            "_model_module": "@jupyter-widgets/controls"
          }
        },
        "d3c211b9509d420f99a72ac48c449c1b": {
          "model_module": "@jupyter-widgets/base",
          "model_name": "LayoutModel",
          "model_module_version": "1.2.0",
          "state": {
            "_view_name": "LayoutView",
            "grid_template_rows": null,
            "right": null,
            "justify_content": null,
            "_view_module": "@jupyter-widgets/base",
            "overflow": null,
            "_model_module_version": "1.2.0",
            "_view_count": null,
            "flex_flow": null,
            "width": null,
            "min_width": null,
            "border": null,
            "align_items": null,
            "bottom": null,
            "_model_module": "@jupyter-widgets/base",
            "top": null,
            "grid_column": null,
            "overflow_y": null,
            "overflow_x": null,
            "grid_auto_flow": null,
            "grid_area": null,
            "grid_template_columns": null,
            "flex": null,
            "_model_name": "LayoutModel",
            "justify_items": null,
            "grid_row": null,
            "max_height": null,
            "align_content": null,
            "visibility": null,
            "align_self": null,
            "height": null,
            "min_height": null,
            "padding": null,
            "grid_auto_rows": null,
            "grid_gap": null,
            "max_width": null,
            "order": null,
            "_view_module_version": "1.2.0",
            "grid_template_areas": null,
            "object_position": null,
            "object_fit": null,
            "grid_auto_columns": null,
            "margin": null,
            "display": null,
            "left": null
          }
        }
      }
    }
  },
  "cells": [
    {
      "cell_type": "markdown",
      "metadata": {
        "id": "view-in-github",
        "colab_type": "text"
      },
      "source": [
        "<a href=\"https://colab.research.google.com/github/HedersonSantos/Noticias/blob/main/BERT/BERTimbau_com_amostras.ipynb\" target=\"_parent\"><img src=\"https://colab.research.google.com/assets/colab-badge.svg\" alt=\"Open In Colab\"/></a>"
      ]
    },
    {
      "cell_type": "code",
      "metadata": {
        "colab": {
          "base_uri": "https://localhost:8080/"
        },
        "id": "SKMj5WG6lxGP",
        "outputId": "c43d2c6b-e989-4f08-d25c-0240c92b959e"
      },
      "source": [
        "! pip install transformers"
      ],
      "execution_count": 1,
      "outputs": [
        {
          "output_type": "stream",
          "text": [
            "Collecting transformers\n",
            "  Downloading transformers-4.9.2-py3-none-any.whl (2.6 MB)\n",
            "\u001b[?25l\r\u001b[K     |▏                               | 10 kB 27.6 MB/s eta 0:00:01\r\u001b[K     |▎                               | 20 kB 31.5 MB/s eta 0:00:01\r\u001b[K     |▍                               | 30 kB 18.8 MB/s eta 0:00:01\r\u001b[K     |▌                               | 40 kB 15.6 MB/s eta 0:00:01\r\u001b[K     |▋                               | 51 kB 8.7 MB/s eta 0:00:01\r\u001b[K     |▊                               | 61 kB 8.7 MB/s eta 0:00:01\r\u001b[K     |▉                               | 71 kB 8.9 MB/s eta 0:00:01\r\u001b[K     |█                               | 81 kB 9.9 MB/s eta 0:00:01\r\u001b[K     |█▏                              | 92 kB 10.2 MB/s eta 0:00:01\r\u001b[K     |█▎                              | 102 kB 8.3 MB/s eta 0:00:01\r\u001b[K     |█▍                              | 112 kB 8.3 MB/s eta 0:00:01\r\u001b[K     |█▌                              | 122 kB 8.3 MB/s eta 0:00:01\r\u001b[K     |█▋                              | 133 kB 8.3 MB/s eta 0:00:01\r\u001b[K     |█▊                              | 143 kB 8.3 MB/s eta 0:00:01\r\u001b[K     |██                              | 153 kB 8.3 MB/s eta 0:00:01\r\u001b[K     |██                              | 163 kB 8.3 MB/s eta 0:00:01\r\u001b[K     |██▏                             | 174 kB 8.3 MB/s eta 0:00:01\r\u001b[K     |██▎                             | 184 kB 8.3 MB/s eta 0:00:01\r\u001b[K     |██▍                             | 194 kB 8.3 MB/s eta 0:00:01\r\u001b[K     |██▌                             | 204 kB 8.3 MB/s eta 0:00:01\r\u001b[K     |██▋                             | 215 kB 8.3 MB/s eta 0:00:01\r\u001b[K     |██▉                             | 225 kB 8.3 MB/s eta 0:00:01\r\u001b[K     |███                             | 235 kB 8.3 MB/s eta 0:00:01\r\u001b[K     |███                             | 245 kB 8.3 MB/s eta 0:00:01\r\u001b[K     |███▏                            | 256 kB 8.3 MB/s eta 0:00:01\r\u001b[K     |███▎                            | 266 kB 8.3 MB/s eta 0:00:01\r\u001b[K     |███▍                            | 276 kB 8.3 MB/s eta 0:00:01\r\u001b[K     |███▌                            | 286 kB 8.3 MB/s eta 0:00:01\r\u001b[K     |███▊                            | 296 kB 8.3 MB/s eta 0:00:01\r\u001b[K     |███▉                            | 307 kB 8.3 MB/s eta 0:00:01\r\u001b[K     |████                            | 317 kB 8.3 MB/s eta 0:00:01\r\u001b[K     |████                            | 327 kB 8.3 MB/s eta 0:00:01\r\u001b[K     |████▏                           | 337 kB 8.3 MB/s eta 0:00:01\r\u001b[K     |████▎                           | 348 kB 8.3 MB/s eta 0:00:01\r\u001b[K     |████▍                           | 358 kB 8.3 MB/s eta 0:00:01\r\u001b[K     |████▌                           | 368 kB 8.3 MB/s eta 0:00:01\r\u001b[K     |████▊                           | 378 kB 8.3 MB/s eta 0:00:01\r\u001b[K     |████▉                           | 389 kB 8.3 MB/s eta 0:00:01\r\u001b[K     |█████                           | 399 kB 8.3 MB/s eta 0:00:01\r\u001b[K     |█████                           | 409 kB 8.3 MB/s eta 0:00:01\r\u001b[K     |█████▏                          | 419 kB 8.3 MB/s eta 0:00:01\r\u001b[K     |█████▎                          | 430 kB 8.3 MB/s eta 0:00:01\r\u001b[K     |█████▍                          | 440 kB 8.3 MB/s eta 0:00:01\r\u001b[K     |█████▋                          | 450 kB 8.3 MB/s eta 0:00:01\r\u001b[K     |█████▊                          | 460 kB 8.3 MB/s eta 0:00:01\r\u001b[K     |█████▉                          | 471 kB 8.3 MB/s eta 0:00:01\r\u001b[K     |██████                          | 481 kB 8.3 MB/s eta 0:00:01\r\u001b[K     |██████                          | 491 kB 8.3 MB/s eta 0:00:01\r\u001b[K     |██████▏                         | 501 kB 8.3 MB/s eta 0:00:01\r\u001b[K     |██████▎                         | 512 kB 8.3 MB/s eta 0:00:01\r\u001b[K     |██████▌                         | 522 kB 8.3 MB/s eta 0:00:01\r\u001b[K     |██████▋                         | 532 kB 8.3 MB/s eta 0:00:01\r\u001b[K     |██████▊                         | 542 kB 8.3 MB/s eta 0:00:01\r\u001b[K     |██████▉                         | 552 kB 8.3 MB/s eta 0:00:01\r\u001b[K     |███████                         | 563 kB 8.3 MB/s eta 0:00:01\r\u001b[K     |███████                         | 573 kB 8.3 MB/s eta 0:00:01\r\u001b[K     |███████▏                        | 583 kB 8.3 MB/s eta 0:00:01\r\u001b[K     |███████▍                        | 593 kB 8.3 MB/s eta 0:00:01\r\u001b[K     |███████▌                        | 604 kB 8.3 MB/s eta 0:00:01\r\u001b[K     |███████▋                        | 614 kB 8.3 MB/s eta 0:00:01\r\u001b[K     |███████▊                        | 624 kB 8.3 MB/s eta 0:00:01\r\u001b[K     |███████▉                        | 634 kB 8.3 MB/s eta 0:00:01\r\u001b[K     |████████                        | 645 kB 8.3 MB/s eta 0:00:01\r\u001b[K     |████████                        | 655 kB 8.3 MB/s eta 0:00:01\r\u001b[K     |████████▏                       | 665 kB 8.3 MB/s eta 0:00:01\r\u001b[K     |████████▍                       | 675 kB 8.3 MB/s eta 0:00:01\r\u001b[K     |████████▌                       | 686 kB 8.3 MB/s eta 0:00:01\r\u001b[K     |████████▋                       | 696 kB 8.3 MB/s eta 0:00:01\r\u001b[K     |████████▊                       | 706 kB 8.3 MB/s eta 0:00:01\r\u001b[K     |████████▉                       | 716 kB 8.3 MB/s eta 0:00:01\r\u001b[K     |█████████                       | 727 kB 8.3 MB/s eta 0:00:01\r\u001b[K     |█████████                       | 737 kB 8.3 MB/s eta 0:00:01\r\u001b[K     |█████████▎                      | 747 kB 8.3 MB/s eta 0:00:01\r\u001b[K     |█████████▍                      | 757 kB 8.3 MB/s eta 0:00:01\r\u001b[K     |█████████▌                      | 768 kB 8.3 MB/s eta 0:00:01\r\u001b[K     |█████████▋                      | 778 kB 8.3 MB/s eta 0:00:01\r\u001b[K     |█████████▊                      | 788 kB 8.3 MB/s eta 0:00:01\r\u001b[K     |█████████▉                      | 798 kB 8.3 MB/s eta 0:00:01\r\u001b[K     |██████████                      | 808 kB 8.3 MB/s eta 0:00:01\r\u001b[K     |██████████▏                     | 819 kB 8.3 MB/s eta 0:00:01\r\u001b[K     |██████████▎                     | 829 kB 8.3 MB/s eta 0:00:01\r\u001b[K     |██████████▍                     | 839 kB 8.3 MB/s eta 0:00:01\r\u001b[K     |██████████▌                     | 849 kB 8.3 MB/s eta 0:00:01\r\u001b[K     |██████████▋                     | 860 kB 8.3 MB/s eta 0:00:01\r\u001b[K     |██████████▊                     | 870 kB 8.3 MB/s eta 0:00:01\r\u001b[K     |██████████▉                     | 880 kB 8.3 MB/s eta 0:00:01\r\u001b[K     |███████████                     | 890 kB 8.3 MB/s eta 0:00:01\r\u001b[K     |███████████▏                    | 901 kB 8.3 MB/s eta 0:00:01\r\u001b[K     |███████████▎                    | 911 kB 8.3 MB/s eta 0:00:01\r\u001b[K     |███████████▍                    | 921 kB 8.3 MB/s eta 0:00:01\r\u001b[K     |███████████▌                    | 931 kB 8.3 MB/s eta 0:00:01\r\u001b[K     |███████████▋                    | 942 kB 8.3 MB/s eta 0:00:01\r\u001b[K     |███████████▊                    | 952 kB 8.3 MB/s eta 0:00:01\r\u001b[K     |███████████▉                    | 962 kB 8.3 MB/s eta 0:00:01\r\u001b[K     |████████████                    | 972 kB 8.3 MB/s eta 0:00:01\r\u001b[K     |████████████▏                   | 983 kB 8.3 MB/s eta 0:00:01\r\u001b[K     |████████████▎                   | 993 kB 8.3 MB/s eta 0:00:01\r\u001b[K     |████████████▍                   | 1.0 MB 8.3 MB/s eta 0:00:01\r\u001b[K     |████████████▌                   | 1.0 MB 8.3 MB/s eta 0:00:01\r\u001b[K     |████████████▋                   | 1.0 MB 8.3 MB/s eta 0:00:01\r\u001b[K     |████████████▊                   | 1.0 MB 8.3 MB/s eta 0:00:01\r\u001b[K     |█████████████                   | 1.0 MB 8.3 MB/s eta 0:00:01\r\u001b[K     |█████████████                   | 1.1 MB 8.3 MB/s eta 0:00:01\r\u001b[K     |█████████████▏                  | 1.1 MB 8.3 MB/s eta 0:00:01\r\u001b[K     |█████████████▎                  | 1.1 MB 8.3 MB/s eta 0:00:01\r\u001b[K     |█████████████▍                  | 1.1 MB 8.3 MB/s eta 0:00:01\r\u001b[K     |█████████████▌                  | 1.1 MB 8.3 MB/s eta 0:00:01\r\u001b[K     |█████████████▋                  | 1.1 MB 8.3 MB/s eta 0:00:01\r\u001b[K     |█████████████▉                  | 1.1 MB 8.3 MB/s eta 0:00:01\r\u001b[K     |██████████████                  | 1.1 MB 8.3 MB/s eta 0:00:01\r\u001b[K     |██████████████                  | 1.1 MB 8.3 MB/s eta 0:00:01\r\u001b[K     |██████████████▏                 | 1.1 MB 8.3 MB/s eta 0:00:01\r\u001b[K     |██████████████▎                 | 1.2 MB 8.3 MB/s eta 0:00:01\r\u001b[K     |██████████████▍                 | 1.2 MB 8.3 MB/s eta 0:00:01\r\u001b[K     |██████████████▌                 | 1.2 MB 8.3 MB/s eta 0:00:01\r\u001b[K     |██████████████▊                 | 1.2 MB 8.3 MB/s eta 0:00:01\r\u001b[K     |██████████████▉                 | 1.2 MB 8.3 MB/s eta 0:00:01\r\u001b[K     |███████████████                 | 1.2 MB 8.3 MB/s eta 0:00:01\r\u001b[K     |███████████████                 | 1.2 MB 8.3 MB/s eta 0:00:01\r\u001b[K     |███████████████▏                | 1.2 MB 8.3 MB/s eta 0:00:01\r\u001b[K     |███████████████▎                | 1.2 MB 8.3 MB/s eta 0:00:01\r\u001b[K     |███████████████▍                | 1.2 MB 8.3 MB/s eta 0:00:01\r\u001b[K     |███████████████▌                | 1.3 MB 8.3 MB/s eta 0:00:01\r\u001b[K     |███████████████▊                | 1.3 MB 8.3 MB/s eta 0:00:01\r\u001b[K     |███████████████▉                | 1.3 MB 8.3 MB/s eta 0:00:01\r\u001b[K     |████████████████                | 1.3 MB 8.3 MB/s eta 0:00:01\r\u001b[K     |████████████████                | 1.3 MB 8.3 MB/s eta 0:00:01\r\u001b[K     |████████████████▏               | 1.3 MB 8.3 MB/s eta 0:00:01\r\u001b[K     |████████████████▎               | 1.3 MB 8.3 MB/s eta 0:00:01\r\u001b[K     |████████████████▍               | 1.3 MB 8.3 MB/s eta 0:00:01\r\u001b[K     |████████████████▋               | 1.3 MB 8.3 MB/s eta 0:00:01\r\u001b[K     |████████████████▊               | 1.4 MB 8.3 MB/s eta 0:00:01\r\u001b[K     |████████████████▉               | 1.4 MB 8.3 MB/s eta 0:00:01\r\u001b[K     |█████████████████               | 1.4 MB 8.3 MB/s eta 0:00:01\r\u001b[K     |█████████████████               | 1.4 MB 8.3 MB/s eta 0:00:01\r\u001b[K     |█████████████████▏              | 1.4 MB 8.3 MB/s eta 0:00:01\r\u001b[K     |█████████████████▎              | 1.4 MB 8.3 MB/s eta 0:00:01\r\u001b[K     |█████████████████▌              | 1.4 MB 8.3 MB/s eta 0:00:01\r\u001b[K     |█████████████████▋              | 1.4 MB 8.3 MB/s eta 0:00:01\r\u001b[K     |█████████████████▊              | 1.4 MB 8.3 MB/s eta 0:00:01\r\u001b[K     |█████████████████▉              | 1.4 MB 8.3 MB/s eta 0:00:01\r\u001b[K     |██████████████████              | 1.5 MB 8.3 MB/s eta 0:00:01\r\u001b[K     |██████████████████              | 1.5 MB 8.3 MB/s eta 0:00:01\r\u001b[K     |██████████████████▏             | 1.5 MB 8.3 MB/s eta 0:00:01\r\u001b[K     |██████████████████▍             | 1.5 MB 8.3 MB/s eta 0:00:01\r\u001b[K     |██████████████████▌             | 1.5 MB 8.3 MB/s eta 0:00:01\r\u001b[K     |██████████████████▋             | 1.5 MB 8.3 MB/s eta 0:00:01\r\u001b[K     |██████████████████▊             | 1.5 MB 8.3 MB/s eta 0:00:01\r\u001b[K     |██████████████████▉             | 1.5 MB 8.3 MB/s eta 0:00:01\r\u001b[K     |███████████████████             | 1.5 MB 8.3 MB/s eta 0:00:01\r\u001b[K     |███████████████████             | 1.5 MB 8.3 MB/s eta 0:00:01\r\u001b[K     |███████████████████▏            | 1.6 MB 8.3 MB/s eta 0:00:01\r\u001b[K     |███████████████████▍            | 1.6 MB 8.3 MB/s eta 0:00:01\r\u001b[K     |███████████████████▌            | 1.6 MB 8.3 MB/s eta 0:00:01\r\u001b[K     |███████████████████▋            | 1.6 MB 8.3 MB/s eta 0:00:01\r\u001b[K     |███████████████████▊            | 1.6 MB 8.3 MB/s eta 0:00:01\r\u001b[K     |███████████████████▉            | 1.6 MB 8.3 MB/s eta 0:00:01\r\u001b[K     |████████████████████            | 1.6 MB 8.3 MB/s eta 0:00:01\r\u001b[K     |████████████████████            | 1.6 MB 8.3 MB/s eta 0:00:01\r\u001b[K     |████████████████████▎           | 1.6 MB 8.3 MB/s eta 0:00:01\r\u001b[K     |████████████████████▍           | 1.6 MB 8.3 MB/s eta 0:00:01\r\u001b[K     |████████████████████▌           | 1.7 MB 8.3 MB/s eta 0:00:01\r\u001b[K     |████████████████████▋           | 1.7 MB 8.3 MB/s eta 0:00:01\r\u001b[K     |████████████████████▊           | 1.7 MB 8.3 MB/s eta 0:00:01\r\u001b[K     |████████████████████▉           | 1.7 MB 8.3 MB/s eta 0:00:01\r\u001b[K     |█████████████████████           | 1.7 MB 8.3 MB/s eta 0:00:01\r\u001b[K     |█████████████████████▏          | 1.7 MB 8.3 MB/s eta 0:00:01\r\u001b[K     |█████████████████████▎          | 1.7 MB 8.3 MB/s eta 0:00:01\r\u001b[K     |█████████████████████▍          | 1.7 MB 8.3 MB/s eta 0:00:01\r\u001b[K     |█████████████████████▌          | 1.7 MB 8.3 MB/s eta 0:00:01\r\u001b[K     |█████████████████████▋          | 1.8 MB 8.3 MB/s eta 0:00:01\r\u001b[K     |█████████████████████▊          | 1.8 MB 8.3 MB/s eta 0:00:01\r\u001b[K     |█████████████████████▉          | 1.8 MB 8.3 MB/s eta 0:00:01\r\u001b[K     |██████████████████████          | 1.8 MB 8.3 MB/s eta 0:00:01\r\u001b[K     |██████████████████████▏         | 1.8 MB 8.3 MB/s eta 0:00:01\r\u001b[K     |██████████████████████▎         | 1.8 MB 8.3 MB/s eta 0:00:01\r\u001b[K     |██████████████████████▍         | 1.8 MB 8.3 MB/s eta 0:00:01\r\u001b[K     |██████████████████████▌         | 1.8 MB 8.3 MB/s eta 0:00:01\r\u001b[K     |██████████████████████▋         | 1.8 MB 8.3 MB/s eta 0:00:01\r\u001b[K     |██████████████████████▊         | 1.8 MB 8.3 MB/s eta 0:00:01\r\u001b[K     |██████████████████████▉         | 1.9 MB 8.3 MB/s eta 0:00:01\r\u001b[K     |███████████████████████         | 1.9 MB 8.3 MB/s eta 0:00:01\r\u001b[K     |███████████████████████▏        | 1.9 MB 8.3 MB/s eta 0:00:01\r\u001b[K     |███████████████████████▎        | 1.9 MB 8.3 MB/s eta 0:00:01\r\u001b[K     |███████████████████████▍        | 1.9 MB 8.3 MB/s eta 0:00:01\r\u001b[K     |███████████████████████▌        | 1.9 MB 8.3 MB/s eta 0:00:01\r\u001b[K     |███████████████████████▋        | 1.9 MB 8.3 MB/s eta 0:00:01\r\u001b[K     |███████████████████████▊        | 1.9 MB 8.3 MB/s eta 0:00:01\r\u001b[K     |████████████████████████        | 1.9 MB 8.3 MB/s eta 0:00:01\r\u001b[K     |████████████████████████        | 1.9 MB 8.3 MB/s eta 0:00:01\r\u001b[K     |████████████████████████▏       | 2.0 MB 8.3 MB/s eta 0:00:01\r\u001b[K     |████████████████████████▎       | 2.0 MB 8.3 MB/s eta 0:00:01\r\u001b[K     |████████████████████████▍       | 2.0 MB 8.3 MB/s eta 0:00:01\r\u001b[K     |████████████████████████▌       | 2.0 MB 8.3 MB/s eta 0:00:01\r\u001b[K     |████████████████████████▋       | 2.0 MB 8.3 MB/s eta 0:00:01\r\u001b[K     |████████████████████████▉       | 2.0 MB 8.3 MB/s eta 0:00:01\r\u001b[K     |█████████████████████████       | 2.0 MB 8.3 MB/s eta 0:00:01\r\u001b[K     |█████████████████████████       | 2.0 MB 8.3 MB/s eta 0:00:01\r\u001b[K     |█████████████████████████▏      | 2.0 MB 8.3 MB/s eta 0:00:01\r\u001b[K     |█████████████████████████▎      | 2.0 MB 8.3 MB/s eta 0:00:01\r\u001b[K     |█████████████████████████▍      | 2.1 MB 8.3 MB/s eta 0:00:01\r\u001b[K     |█████████████████████████▌      | 2.1 MB 8.3 MB/s eta 0:00:01\r\u001b[K     |█████████████████████████▊      | 2.1 MB 8.3 MB/s eta 0:00:01\r\u001b[K     |█████████████████████████▉      | 2.1 MB 8.3 MB/s eta 0:00:01\r\u001b[K     |██████████████████████████      | 2.1 MB 8.3 MB/s eta 0:00:01\r\u001b[K     |██████████████████████████      | 2.1 MB 8.3 MB/s eta 0:00:01\r\u001b[K     |██████████████████████████▏     | 2.1 MB 8.3 MB/s eta 0:00:01\r\u001b[K     |██████████████████████████▎     | 2.1 MB 8.3 MB/s eta 0:00:01\r\u001b[K     |██████████████████████████▍     | 2.1 MB 8.3 MB/s eta 0:00:01\r\u001b[K     |██████████████████████████▌     | 2.2 MB 8.3 MB/s eta 0:00:01\r\u001b[K     |██████████████████████████▊     | 2.2 MB 8.3 MB/s eta 0:00:01\r\u001b[K     |██████████████████████████▉     | 2.2 MB 8.3 MB/s eta 0:00:01\r\u001b[K     |███████████████████████████     | 2.2 MB 8.3 MB/s eta 0:00:01\r\u001b[K     |███████████████████████████     | 2.2 MB 8.3 MB/s eta 0:00:01\r\u001b[K     |███████████████████████████▏    | 2.2 MB 8.3 MB/s eta 0:00:01\r\u001b[K     |███████████████████████████▎    | 2.2 MB 8.3 MB/s eta 0:00:01\r\u001b[K     |███████████████████████████▍    | 2.2 MB 8.3 MB/s eta 0:00:01\r\u001b[K     |███████████████████████████▋    | 2.2 MB 8.3 MB/s eta 0:00:01\r\u001b[K     |███████████████████████████▊    | 2.2 MB 8.3 MB/s eta 0:00:01\r\u001b[K     |███████████████████████████▉    | 2.3 MB 8.3 MB/s eta 0:00:01\r\u001b[K     |████████████████████████████    | 2.3 MB 8.3 MB/s eta 0:00:01\r\u001b[K     |████████████████████████████    | 2.3 MB 8.3 MB/s eta 0:00:01\r\u001b[K     |████████████████████████████▏   | 2.3 MB 8.3 MB/s eta 0:00:01\r\u001b[K     |████████████████████████████▎   | 2.3 MB 8.3 MB/s eta 0:00:01\r\u001b[K     |████████████████████████████▌   | 2.3 MB 8.3 MB/s eta 0:00:01\r\u001b[K     |████████████████████████████▋   | 2.3 MB 8.3 MB/s eta 0:00:01\r\u001b[K     |████████████████████████████▊   | 2.3 MB 8.3 MB/s eta 0:00:01\r\u001b[K     |████████████████████████████▉   | 2.3 MB 8.3 MB/s eta 0:00:01\r\u001b[K     |█████████████████████████████   | 2.3 MB 8.3 MB/s eta 0:00:01\r\u001b[K     |█████████████████████████████   | 2.4 MB 8.3 MB/s eta 0:00:01\r\u001b[K     |█████████████████████████████▏  | 2.4 MB 8.3 MB/s eta 0:00:01\r\u001b[K     |█████████████████████████████▍  | 2.4 MB 8.3 MB/s eta 0:00:01\r\u001b[K     |█████████████████████████████▌  | 2.4 MB 8.3 MB/s eta 0:00:01\r\u001b[K     |█████████████████████████████▋  | 2.4 MB 8.3 MB/s eta 0:00:01\r\u001b[K     |█████████████████████████████▊  | 2.4 MB 8.3 MB/s eta 0:00:01\r\u001b[K     |█████████████████████████████▉  | 2.4 MB 8.3 MB/s eta 0:00:01\r\u001b[K     |██████████████████████████████  | 2.4 MB 8.3 MB/s eta 0:00:01\r\u001b[K     |██████████████████████████████  | 2.4 MB 8.3 MB/s eta 0:00:01\r\u001b[K     |██████████████████████████████▏ | 2.4 MB 8.3 MB/s eta 0:00:01\r\u001b[K     |██████████████████████████████▍ | 2.5 MB 8.3 MB/s eta 0:00:01\r\u001b[K     |██████████████████████████████▌ | 2.5 MB 8.3 MB/s eta 0:00:01\r\u001b[K     |██████████████████████████████▋ | 2.5 MB 8.3 MB/s eta 0:00:01\r\u001b[K     |██████████████████████████████▊ | 2.5 MB 8.3 MB/s eta 0:00:01\r\u001b[K     |██████████████████████████████▉ | 2.5 MB 8.3 MB/s eta 0:00:01\r\u001b[K     |███████████████████████████████ | 2.5 MB 8.3 MB/s eta 0:00:01\r\u001b[K     |███████████████████████████████ | 2.5 MB 8.3 MB/s eta 0:00:01\r\u001b[K     |███████████████████████████████▎| 2.5 MB 8.3 MB/s eta 0:00:01\r\u001b[K     |███████████████████████████████▍| 2.5 MB 8.3 MB/s eta 0:00:01\r\u001b[K     |███████████████████████████████▌| 2.5 MB 8.3 MB/s eta 0:00:01\r\u001b[K     |███████████████████████████████▋| 2.6 MB 8.3 MB/s eta 0:00:01\r\u001b[K     |███████████████████████████████▊| 2.6 MB 8.3 MB/s eta 0:00:01\r\u001b[K     |███████████████████████████████▉| 2.6 MB 8.3 MB/s eta 0:00:01\r\u001b[K     |████████████████████████████████| 2.6 MB 8.3 MB/s eta 0:00:01\r\u001b[K     |████████████████████████████████| 2.6 MB 8.3 MB/s \n",
            "\u001b[?25hRequirement already satisfied: regex!=2019.12.17 in /usr/local/lib/python3.7/dist-packages (from transformers) (2019.12.20)\n",
            "Collecting huggingface-hub==0.0.12\n",
            "  Downloading huggingface_hub-0.0.12-py3-none-any.whl (37 kB)\n",
            "Collecting tokenizers<0.11,>=0.10.1\n",
            "  Downloading tokenizers-0.10.3-cp37-cp37m-manylinux_2_5_x86_64.manylinux1_x86_64.manylinux_2_12_x86_64.manylinux2010_x86_64.whl (3.3 MB)\n",
            "\u001b[K     |████████████████████████████████| 3.3 MB 57.0 MB/s \n",
            "\u001b[?25hRequirement already satisfied: tqdm>=4.27 in /usr/local/lib/python3.7/dist-packages (from transformers) (4.62.0)\n",
            "Requirement already satisfied: requests in /usr/local/lib/python3.7/dist-packages (from transformers) (2.23.0)\n",
            "Requirement already satisfied: filelock in /usr/local/lib/python3.7/dist-packages (from transformers) (3.0.12)\n",
            "Requirement already satisfied: importlib-metadata in /usr/local/lib/python3.7/dist-packages (from transformers) (4.6.3)\n",
            "Collecting sacremoses\n",
            "  Downloading sacremoses-0.0.45-py3-none-any.whl (895 kB)\n",
            "\u001b[K     |████████████████████████████████| 895 kB 48.7 MB/s \n",
            "\u001b[?25hRequirement already satisfied: numpy>=1.17 in /usr/local/lib/python3.7/dist-packages (from transformers) (1.19.5)\n",
            "Requirement already satisfied: packaging in /usr/local/lib/python3.7/dist-packages (from transformers) (21.0)\n",
            "Collecting pyyaml>=5.1\n",
            "  Downloading PyYAML-5.4.1-cp37-cp37m-manylinux1_x86_64.whl (636 kB)\n",
            "\u001b[K     |████████████████████████████████| 636 kB 65.9 MB/s \n",
            "\u001b[?25hRequirement already satisfied: typing-extensions in /usr/local/lib/python3.7/dist-packages (from huggingface-hub==0.0.12->transformers) (3.7.4.3)\n",
            "Requirement already satisfied: pyparsing>=2.0.2 in /usr/local/lib/python3.7/dist-packages (from packaging->transformers) (2.4.7)\n",
            "Requirement already satisfied: zipp>=0.5 in /usr/local/lib/python3.7/dist-packages (from importlib-metadata->transformers) (3.5.0)\n",
            "Requirement already satisfied: urllib3!=1.25.0,!=1.25.1,<1.26,>=1.21.1 in /usr/local/lib/python3.7/dist-packages (from requests->transformers) (1.24.3)\n",
            "Requirement already satisfied: certifi>=2017.4.17 in /usr/local/lib/python3.7/dist-packages (from requests->transformers) (2021.5.30)\n",
            "Requirement already satisfied: chardet<4,>=3.0.2 in /usr/local/lib/python3.7/dist-packages (from requests->transformers) (3.0.4)\n",
            "Requirement already satisfied: idna<3,>=2.5 in /usr/local/lib/python3.7/dist-packages (from requests->transformers) (2.10)\n",
            "Requirement already satisfied: six in /usr/local/lib/python3.7/dist-packages (from sacremoses->transformers) (1.15.0)\n",
            "Requirement already satisfied: click in /usr/local/lib/python3.7/dist-packages (from sacremoses->transformers) (7.1.2)\n",
            "Requirement already satisfied: joblib in /usr/local/lib/python3.7/dist-packages (from sacremoses->transformers) (1.0.1)\n",
            "Installing collected packages: tokenizers, sacremoses, pyyaml, huggingface-hub, transformers\n",
            "  Attempting uninstall: pyyaml\n",
            "    Found existing installation: PyYAML 3.13\n",
            "    Uninstalling PyYAML-3.13:\n",
            "      Successfully uninstalled PyYAML-3.13\n",
            "Successfully installed huggingface-hub-0.0.12 pyyaml-5.4.1 sacremoses-0.0.45 tokenizers-0.10.3 transformers-4.9.2\n"
          ],
          "name": "stdout"
        }
      ]
    },
    {
      "cell_type": "code",
      "metadata": {
        "id": "fIlZbdsGo_vR",
        "colab": {
          "base_uri": "https://localhost:8080/"
        },
        "outputId": "e40b6e30-41bb-49b5-9249-c2f864d8d9c5"
      },
      "source": [
        "\n",
        "!pip install torch==1.8.1 torchvision==0.9.1 torchaudio==0.8.\n"
      ],
      "execution_count": 2,
      "outputs": [
        {
          "output_type": "stream",
          "text": [
            "Collecting torch==1.8.1\n",
            "  Downloading torch-1.8.1-cp37-cp37m-manylinux1_x86_64.whl (804.1 MB)\n",
            "\u001b[K     |████████████████████████████████| 804.1 MB 2.8 kB/s \n",
            "\u001b[?25hCollecting torchvision==0.9.1\n",
            "  Downloading torchvision-0.9.1-cp37-cp37m-manylinux1_x86_64.whl (17.4 MB)\n",
            "\u001b[K     |████████████████████████████████| 17.4 MB 118 kB/s \n",
            "\u001b[?25hCollecting torchaudio==0.8.\n",
            "  Downloading torchaudio-0.8.0-cp37-cp37m-manylinux1_x86_64.whl (1.9 MB)\n",
            "\u001b[K     |████████████████████████████████| 1.9 MB 61.5 MB/s \n",
            "\u001b[?25hRequirement already satisfied: numpy in /usr/local/lib/python3.7/dist-packages (from torch==1.8.1) (1.19.5)\n",
            "Requirement already satisfied: typing-extensions in /usr/local/lib/python3.7/dist-packages (from torch==1.8.1) (3.7.4.3)\n",
            "Requirement already satisfied: pillow>=4.1.1 in /usr/local/lib/python3.7/dist-packages (from torchvision==0.9.1) (7.1.2)\n",
            "INFO: pip is looking at multiple versions of torchvision to determine which version is compatible with other requirements. This could take a while.\n",
            "INFO: pip is looking at multiple versions of <Python from Requires-Python> to determine which version is compatible with other requirements. This could take a while.\n",
            "INFO: pip is looking at multiple versions of torch to determine which version is compatible with other requirements. This could take a while.\n",
            "\u001b[31mERROR: Cannot install torch==1.8.1, torchaudio==0.8.0 and torchvision==0.9.1 because these package versions have conflicting dependencies.\u001b[0m\n",
            "\n",
            "The conflict is caused by:\n",
            "    The user requested torch==1.8.1\n",
            "    torchvision 0.9.1 depends on torch==1.8.1\n",
            "    torchaudio 0.8.0 depends on torch==1.8.0\n",
            "\n",
            "To fix this you could try to:\n",
            "1. loosen the range of package versions you've specified\n",
            "2. remove package versions to allow pip attempt to solve the dependency conflict\n",
            "\n",
            "\u001b[31mERROR: ResolutionImpossible: for help visit https://pip.pypa.io/en/latest/user_guide/#fixing-conflicting-dependencies\u001b[0m\n"
          ],
          "name": "stdout"
        }
      ]
    },
    {
      "cell_type": "code",
      "metadata": {
        "id": "ky7aWx6DyYU4",
        "colab": {
          "base_uri": "https://localhost:8080/"
        },
        "outputId": "b82579af-ef9a-4a4c-d73b-b296f36a8923"
      },
      "source": [
        "!nvidia-smi"
      ],
      "execution_count": 3,
      "outputs": [
        {
          "output_type": "stream",
          "text": [
            "Sun Aug 15 13:37:35 2021       \n",
            "+-----------------------------------------------------------------------------+\n",
            "| NVIDIA-SMI 470.42.01    Driver Version: 460.32.03    CUDA Version: 11.2     |\n",
            "|-------------------------------+----------------------+----------------------+\n",
            "| GPU  Name        Persistence-M| Bus-Id        Disp.A | Volatile Uncorr. ECC |\n",
            "| Fan  Temp  Perf  Pwr:Usage/Cap|         Memory-Usage | GPU-Util  Compute M. |\n",
            "|                               |                      |               MIG M. |\n",
            "|===============================+======================+======================|\n",
            "|   0  Tesla T4            Off  | 00000000:00:04.0 Off |                    0 |\n",
            "| N/A   53C    P8    10W /  70W |      0MiB / 15109MiB |      0%      Default |\n",
            "|                               |                      |                  N/A |\n",
            "+-------------------------------+----------------------+----------------------+\n",
            "                                                                               \n",
            "+-----------------------------------------------------------------------------+\n",
            "| Processes:                                                                  |\n",
            "|  GPU   GI   CI        PID   Type   Process name                  GPU Memory |\n",
            "|        ID   ID                                                   Usage      |\n",
            "|=============================================================================|\n",
            "|  No running processes found                                                 |\n",
            "+-----------------------------------------------------------------------------+\n"
          ],
          "name": "stdout"
        }
      ]
    },
    {
      "cell_type": "code",
      "metadata": {
        "id": "Hts6ewoYvUYn"
      },
      "source": [
        "# Libraries\n",
        "\n",
        "import matplotlib.pyplot as plt\n",
        "import pandas as pd\n",
        "import numpy as np\n",
        "import torch\n",
        "from datetime import datetime\n",
        "from google.colab import files, drive\n",
        "import io, os\n",
        "\n",
        "# Preliminaries\n",
        "\n",
        "from torchtext.legacy.data import Field, TabularDataset, BucketIterator, Iterator\n",
        "\n",
        "# Models\n",
        "\n",
        "import torch.nn as nn\n",
        "from transformers import BertTokenizer, BertForSequenceClassification, BertConfig\n",
        "from transformers import AutoTokenizer  # Or BertTokenizer\n",
        "from transformers import AutoModelForPreTraining  # Or BertForPreTraining for loading pretraining heads\n",
        "from transformers import AutoModel  # or BertModel, for BERT without pretraining heads\n",
        "\n",
        "# Training\n",
        "\n",
        "import torch.optim as optim\n",
        "\n",
        "# Evaluation\n",
        "\n",
        "from sklearn.metrics import accuracy_score, precision_score, \\\n",
        "                            recall_score, confusion_matrix, \\\n",
        "                            plot_confusion_matrix, classification_report, \\\n",
        "                            balanced_accuracy_score\n",
        "import seaborn as sns"
      ],
      "execution_count": 23,
      "outputs": []
    },
    {
      "cell_type": "markdown",
      "metadata": {
        "id": "cPOdGbGitPHS"
      },
      "source": [
        "### Carregando tokens e vocabulário do BERTimbau"
      ]
    },
    {
      "cell_type": "code",
      "metadata": {
        "colab": {
          "base_uri": "https://localhost:8080/",
          "height": 280,
          "referenced_widgets": [
            "551c9e29b742411ba3c4b1aabe4d60fa",
            "5968ba5a45644354844b4a84614daa69",
            "60ed1fa31ef446009db9e38786f7d31a",
            "75b6d27d284940838e0764be330f88da",
            "602cecceacc54dd191a4f9a64e0a4160",
            "d7cb53b8ec4c472a807e23ddebb3450a",
            "da53d76603fd4219be1603cb23783a46",
            "7f5983e1896842d8a814969caca29a76",
            "5ff052c43734427a8c6ff3aa98c19320",
            "0a8c58071e6d4cf5824b106d52aa5d61",
            "3d1eff07384f41c3978d912095544bc6",
            "8d1ab1add053433aa7b54b74e5d11c90",
            "bc5d7bef0bbb4283b8bd8b817eb232b9",
            "3fb0f98be71e4ab8a9bed2f46602d4a8",
            "af5f227260d14b31bb15713eadc05ab1",
            "e924ccefec624910a31f62cb5502c29e",
            "9e9817e2e7f040d2a4dc4a49d827eb63",
            "7b089fdffe3d435098fa2a0ed2095a38",
            "6b50e771d90f481fb9d5a6da592a9031",
            "affb8e1ac7db42068eb08c19f6b4ffa4",
            "50e35b040fc94460aa6db39c032b3486",
            "3bd128f851e6434ab5613e6637cb6050",
            "afaf5fe0b5744020b40494848622df15",
            "6412f7aed06e483c84d0c9e6076b6807",
            "934a49cd34cc4127b7d4f2d7573523e6",
            "51e33e4853084f2b8bf0717acebc7805",
            "31bc77fd78d949e38b93ca803e2d3db0",
            "aea65b581613469cb2bd63989c3e3ed1",
            "901d262b480644a987c4a8493dda8374",
            "6cdb9d474e2c471eb6089adbfeec6108",
            "9b67fa9ca14b4f5a9fd359d0796233cf",
            "26032a98d15640adba98fc62e87337bc",
            "a3ee8de6f2d442afb85f2590fe9437d9",
            "09cd84dc18a846dba6fc3eb59954b97a",
            "269f914a01474b6586f00ca77444a062",
            "a96b425f126a4f178c3ef99144d27f64",
            "7481311034bc4ad593465e9381beff68",
            "455abfdc57584c4a8d1e3e6a4000ace6",
            "b7de40e72f324a2481a1d2d0e37f445b",
            "334922a9d8884ea2b61994e4ba66aaad",
            "4d1ed1fb29824b84b2540180e97909b6",
            "60cb739a92ea4f17972749f095f59b60",
            "c5249a49fd7d4ad39afe8af18672ef42",
            "017f4dd81a3942f497cc73b0d28d70f3",
            "320cb610a8bd4630af6fad5cd05a32dd",
            "f9bd433ccb7a48b4bb2e0cf1aaedac33",
            "ab09bbb2b77d49139dd524eaaff67c94",
            "ca6824dc41d6496eba46e0e705ded1ec",
            "fa5e66c7342e442c9657277bb3a77e92",
            "dc0a008ee91849aeade3c048d6c3db76",
            "4b6da895c6e24e279e8f4c5b428a8743",
            "6a619a4ce2274435a41fb6b1c61fdb8f",
            "fd448b642a564b4f940573210c007146",
            "a1ae3409f7b84ed0a62c686d8f1edebc",
            "bf9ff2b9cb744493b00cf4aaa654f96a",
            "8cd9acc4012b4c81a5a10aa4cc256d5e",
            "f42566a5da574aea99d35d6b2f4c775b",
            "cad1483cbe824796bc5fdf231b7d2128",
            "1f0404f2cfdc46e2a748b24a8f074fa4",
            "80a002f5d2fc4f81b21b779c5aac98a0",
            "00467c4c1e15470ab2af80ee5fc7200f",
            "ded3cc7e60df4d01add08d8b2fc9be91",
            "cc0bc1927df8418c9d2dfed44fb5d0f6",
            "fe6b10024e7840cd83f818db36a8e1fe",
            "c691aeed614b48c8baa63d77df98113e",
            "d3c211b9509d420f99a72ac48c449c1b"
          ]
        },
        "id": "MLcgDJZSpmfD",
        "outputId": "22cb6ee7-9324-49e2-add1-5f070e8fb268"
      },
      "source": [
        "tokenizer = AutoTokenizer.from_pretrained('neuralmind/bert-base-portuguese-cased')\n",
        "model = AutoModel.from_pretrained('neuralmind/bert-base-portuguese-cased')"
      ],
      "execution_count": 5,
      "outputs": [
        {
          "output_type": "display_data",
          "data": {
            "application/vnd.jupyter.widget-view+json": {
              "model_id": "551c9e29b742411ba3c4b1aabe4d60fa",
              "version_minor": 0,
              "version_major": 2
            },
            "text/plain": [
              "Downloading:   0%|          | 0.00/43.0 [00:00<?, ?B/s]"
            ]
          },
          "metadata": {
            "tags": []
          }
        },
        {
          "output_type": "display_data",
          "data": {
            "application/vnd.jupyter.widget-view+json": {
              "model_id": "8d1ab1add053433aa7b54b74e5d11c90",
              "version_minor": 0,
              "version_major": 2
            },
            "text/plain": [
              "Downloading:   0%|          | 0.00/647 [00:00<?, ?B/s]"
            ]
          },
          "metadata": {
            "tags": []
          }
        },
        {
          "output_type": "display_data",
          "data": {
            "application/vnd.jupyter.widget-view+json": {
              "model_id": "afaf5fe0b5744020b40494848622df15",
              "version_minor": 0,
              "version_major": 2
            },
            "text/plain": [
              "Downloading:   0%|          | 0.00/210k [00:00<?, ?B/s]"
            ]
          },
          "metadata": {
            "tags": []
          }
        },
        {
          "output_type": "display_data",
          "data": {
            "application/vnd.jupyter.widget-view+json": {
              "model_id": "09cd84dc18a846dba6fc3eb59954b97a",
              "version_minor": 0,
              "version_major": 2
            },
            "text/plain": [
              "Downloading:   0%|          | 0.00/2.00 [00:00<?, ?B/s]"
            ]
          },
          "metadata": {
            "tags": []
          }
        },
        {
          "output_type": "display_data",
          "data": {
            "application/vnd.jupyter.widget-view+json": {
              "model_id": "320cb610a8bd4630af6fad5cd05a32dd",
              "version_minor": 0,
              "version_major": 2
            },
            "text/plain": [
              "Downloading:   0%|          | 0.00/112 [00:00<?, ?B/s]"
            ]
          },
          "metadata": {
            "tags": []
          }
        },
        {
          "output_type": "display_data",
          "data": {
            "application/vnd.jupyter.widget-view+json": {
              "model_id": "8cd9acc4012b4c81a5a10aa4cc256d5e",
              "version_minor": 0,
              "version_major": 2
            },
            "text/plain": [
              "Downloading:   0%|          | 0.00/438M [00:00<?, ?B/s]"
            ]
          },
          "metadata": {
            "tags": []
          }
        },
        {
          "output_type": "stream",
          "text": [
            "Some weights of the model checkpoint at neuralmind/bert-base-portuguese-cased were not used when initializing BertModel: ['cls.seq_relationship.weight', 'cls.predictions.decoder.weight', 'cls.predictions.bias', 'cls.seq_relationship.bias', 'cls.predictions.transform.dense.weight', 'cls.predictions.transform.dense.bias', 'cls.predictions.transform.LayerNorm.weight', 'cls.predictions.transform.LayerNorm.bias']\n",
            "- This IS expected if you are initializing BertModel from the checkpoint of a model trained on another task or with another architecture (e.g. initializing a BertForSequenceClassification model from a BertForPreTraining model).\n",
            "- This IS NOT expected if you are initializing BertModel from the checkpoint of a model that you expect to be exactly identical (initializing a BertForSequenceClassification model from a BertForSequenceClassification model).\n"
          ],
          "name": "stderr"
        }
      ]
    },
    {
      "cell_type": "code",
      "metadata": {
        "id": "joJqFofvtKcp",
        "colab": {
          "base_uri": "https://localhost:8080/"
        },
        "outputId": "302193b7-9f0b-443d-bda1-4a09b7bbf6d4"
      },
      "source": [
        "tokenizer"
      ],
      "execution_count": null,
      "outputs": [
        {
          "output_type": "execute_result",
          "data": {
            "text/plain": [
              "PreTrainedTokenizerFast(name_or_path='neuralmind/bert-base-portuguese-cased', vocab_size=29794, model_max_len=1000000000000000019884624838656, is_fast=True, padding_side='right', special_tokens={'unk_token': '[UNK]', 'sep_token': '[SEP]', 'pad_token': '[PAD]', 'cls_token': '[CLS]', 'mask_token': '[MASK]'})"
            ]
          },
          "metadata": {
            "tags": []
          },
          "execution_count": 6
        }
      ]
    },
    {
      "cell_type": "markdown",
      "metadata": {
        "id": "KZOL2o_ltyzz"
      },
      "source": [
        "### Preparando DataSet\n",
        "https://towardsdatascience.com/bert-text-classification-using-pytorch-723dfb8b6b5b"
      ]
    },
    {
      "cell_type": "code",
      "metadata": {
        "id": "WFtrA_dtunW-",
        "colab": {
          "base_uri": "https://localhost:8080/"
        },
        "outputId": "4332ad91-fb2d-464e-9fab-5d494d2238b9"
      },
      "source": [
        "#!rm *.csv\n",
        "#!!wget https://raw.githubusercontent.com/HedersonSantos/Noticias/main/train.csv\n",
        "#!wget https://raw.githubusercontent.com/HedersonSantos/Noticias/main/valid.csv\n",
        "#!wget https://raw.githubusercontent.com/HedersonSantos/Noticias/main/test.csv\n",
        "#!wget https://raw.githubusercontent.com/HedersonSantos/Noticias/main/miscelanea.csv\n",
        "drive.mount('/gdrive')\n",
        "%cd /gdrive/My\\ Drive/Colab\\ Notebooks\n",
        "path = '/gdrive/My Drive/Colab Notebooks'\n",
        "KEY='4/1AX4XfWjFfXOpQF_Lhhwz8Sp5DTauJAEXNDQjx66Khyme5ASsCvDLtcqsBX0'"
      ],
      "execution_count": 6,
      "outputs": [
        {
          "output_type": "stream",
          "text": [
            "Mounted at /gdrive\n",
            "/gdrive/My Drive/Colab Notebooks\n"
          ],
          "name": "stdout"
        }
      ]
    },
    {
      "cell_type": "code",
      "metadata": {
        "id": "CFFldLWvV6Mg"
      },
      "source": [
        "#%cd amostra_news_integrada\n",
        "#!unzip drive-download-20210731T211249Z-001.zip\n",
        "#!ls -lh\n",
        "\n",
        "#!mkdir bertimbau_all_categ\n"
      ],
      "execution_count": null,
      "outputs": []
    },
    {
      "cell_type": "code",
      "metadata": {
        "id": "kfj3koMmWsZ9"
      },
      "source": [
        "#!mkdir ./bertimbau_all_categ/amostra_4\n"
      ],
      "execution_count": null,
      "outputs": []
    },
    {
      "cell_type": "code",
      "metadata": {
        "colab": {
          "base_uri": "https://localhost:8080/"
        },
        "id": "iV8T4nMYXqdR",
        "outputId": "6a592c0e-6737-49ac-bd80-2d1a0a4a5368"
      },
      "source": [
        "device = torch.device('cuda:0' if torch.cuda.is_available() else 'cpu')\n",
        "print(device)"
      ],
      "execution_count": 7,
      "outputs": [
        {
          "output_type": "stream",
          "text": [
            "cuda:0\n"
          ],
          "name": "stdout"
        }
      ]
    },
    {
      "cell_type": "code",
      "metadata": {
        "id": "3sjrTvfBLGCL"
      },
      "source": [
        "source_folder = './amostra_news_integrada/amostra_' #'/content'\n",
        "destination_folder = './bertimbau_resp' #'/content'\n"
      ],
      "execution_count": 8,
      "outputs": []
    },
    {
      "cell_type": "code",
      "metadata": {
        "colab": {
          "base_uri": "https://localhost:8080/"
        },
        "id": "90WJxOxcxgAQ",
        "outputId": "43ce67fc-6676-4bef-ca83-9db6fe205f87"
      },
      "source": [
        "!ls "
      ],
      "execution_count": 9,
      "outputs": [
        {
          "output_type": "stream",
          "text": [
            " amostra_news_integrada\t\t       'Cópia de BERTimbau_Testes (3).ipynb'\n",
            " artigosWikibr.ipynb\t\t       'Cópia de BERTimbau_Testes.ipynb'\n",
            " BERTimbau_com_amostras.ipynb\t        news_integradas.csv\n",
            " bertimbau_resp\t\t\t        Untitled\n",
            "'Cópia de BERTimbau_Testes (1).ipynb'   Untitled1.ipynb\n",
            "'Cópia de BERTimbau_Testes (2).ipynb'\n"
          ],
          "name": "stdout"
        }
      ]
    },
    {
      "cell_type": "code",
      "metadata": {
        "id": "PyoK7ac8t4HF"
      },
      "source": [
        "#https://towardsdatascience.com/multi-class-text-classification-with-deep-learning-using-bert-b59ca2f5c613\n",
        "#Model hyper-parameter\n",
        "MAX_SEQ_LEN = 128 #limita os artigos em 128 tokens. BERTimbau base é limitado em 512 tokens por texto.\n",
        "PAD_INDEX = tokenizer.convert_tokens_to_ids(tokenizer.pad_token)\n",
        "UNK_INDEX = tokenizer.convert_tokens_to_ids(tokenizer.unk_token)\n",
        "bs = 16\n",
        "lr = 1e-5\n",
        "\n",
        "\n",
        "\n",
        "# Fields - use_vocab=False  e tokenizer.encode permite que utilizemos os tokens do BERTimbau.\n",
        "label_field = Field(sequential=False, use_vocab=False, batch_first=True, dtype=torch.float)\n",
        "text_field = Field(use_vocab=False, tokenize=tokenizer.encode, lower=False, include_lengths=False, batch_first=True,\n",
        "                   fix_length=MAX_SEQ_LEN, pad_token=PAD_INDEX, unk_token=UNK_INDEX)\n",
        "fields = [('text', text_field),('label', label_field)]\n",
        "\n",
        "\n",
        "\n"
      ],
      "execution_count": 10,
      "outputs": []
    },
    {
      "cell_type": "code",
      "metadata": {
        "id": "VqRpEtW1OuqC"
      },
      "source": [
        "def tokenizaAmostra(source_folder, fields=fields):\n",
        "  # TabularDataset\n",
        "  train, valid, test = TabularDataset.splits(path=source_folder, train='train.csv', validation='valid.csv',\n",
        "                                            test='test.csv', format='CSV', fields=fields, skip_header=True)\n",
        "  # Iterators\n",
        "\n",
        "  train_iter = BucketIterator(train, batch_size=bs, sort_key=lambda x: len(x.text),\n",
        "                              device=device, train=True, sort=True, sort_within_batch=True)\n",
        "  valid_iter = BucketIterator(valid, batch_size=bs, sort_key=lambda x: len(x.text),\n",
        "                              device=device, train=True, sort=True, sort_within_batch=True)\n",
        "  test_iter = Iterator(test, batch_size=bs, device=device, train=False, shuffle=False, sort=False)\n",
        "  return [train_iter, valid_iter, test_iter]\n",
        "\n"
      ],
      "execution_count": 11,
      "outputs": []
    },
    {
      "cell_type": "code",
      "metadata": {
        "id": "8maI4HcbPukL"
      },
      "source": [
        ""
      ],
      "execution_count": null,
      "outputs": []
    },
    {
      "cell_type": "code",
      "metadata": {
        "id": "rcTHSXSluKkt"
      },
      "source": [
        "#print(vars(train[0]))\n",
        "#print(vars(valid[0]))\n",
        "#print(vars(test[0]))"
      ],
      "execution_count": null,
      "outputs": []
    },
    {
      "cell_type": "markdown",
      "metadata": {
        "id": "sPypCNPuHaRz"
      },
      "source": [
        "## Modelo"
      ]
    },
    {
      "cell_type": "code",
      "metadata": {
        "id": "Yvy3rgrdHj_x"
      },
      "source": [
        "'''É preciso informar o número de labels '''\n",
        "class BERT(nn.Module):\n",
        "\n",
        "    def __init__(self, qtd_categories):\n",
        "        super(BERT, self).__init__()\n",
        "\n",
        "        options_name = \"bert-base-portuguese-cased\"\n",
        "        self.encoder = BertForSequenceClassification.from_pretrained('neuralmind/bert-base-portuguese-cased',num_labels=qtd_categories )\n",
        "\n",
        "    def forward(self, text, label):\n",
        "        loss, text_fea = self.encoder(text, labels=label)[:2]\n",
        "\n",
        "        return loss, text_fea\n",
        "\n"
      ],
      "execution_count": 12,
      "outputs": []
    },
    {
      "cell_type": "markdown",
      "metadata": {
        "id": "3pYKbHICIus0"
      },
      "source": [
        "## Treinamento"
      ]
    },
    {
      "cell_type": "code",
      "metadata": {
        "id": "hJFwyl7DIoxQ"
      },
      "source": [
        "# Save and Load Functions\n",
        "\n",
        "def save_checkpoint(save_path, model, valid_loss):\n",
        "\n",
        "    if save_path == None:\n",
        "        return\n",
        "    \n",
        "    state_dict = {'model_state_dict': model.state_dict(),\n",
        "                  'valid_loss': valid_loss}\n",
        "    \n",
        "    torch.save(state_dict, save_path)\n",
        "    print(f'Model saved to ==> {save_path}')\n",
        "\n",
        "def load_checkpoint(load_path, model):\n",
        "    \n",
        "    if load_path==None:\n",
        "        return\n",
        "    \n",
        "    state_dict = torch.load(load_path, map_location=device)\n",
        "    print(f'Model loaded from <== {load_path}')\n",
        "    \n",
        "    model.load_state_dict(state_dict['model_state_dict'])\n",
        "    return state_dict['valid_loss']\n",
        "\n",
        "\n",
        "def save_metrics(save_path, train_loss_list, valid_loss_list, global_steps_list):\n",
        "\n",
        "    if save_path == None:\n",
        "        return\n",
        "    \n",
        "    state_dict = {'train_loss_list': train_loss_list,\n",
        "                  'valid_loss_list': valid_loss_list,\n",
        "                  'global_steps_list': global_steps_list}\n",
        "    \n",
        "    torch.save(state_dict, save_path)\n",
        "    print(f'Model saved to ==> {save_path}')\n",
        "\n",
        "\n",
        "def load_metrics(load_path):\n",
        "\n",
        "    if load_path==None:\n",
        "        return\n",
        "    \n",
        "    state_dict = torch.load(load_path, map_location=device)\n",
        "    print(f'Model loaded from <== {load_path}')\n",
        "    \n",
        "    return state_dict['train_loss_list'], state_dict['valid_loss_list'], state_dict['global_steps_list']\n",
        "\n",
        "def create_directory(path, directory):\n",
        "  try:\n",
        "    os.makedirs(path + '/' + directory)\n",
        "  except FileExistsError:\n",
        "    # directory already exists\n",
        "    pass"
      ],
      "execution_count": 13,
      "outputs": []
    },
    {
      "cell_type": "code",
      "metadata": {
        "id": "fiueExF5Jb8V"
      },
      "source": [
        "# Training Function\n",
        "'''criterion = nn.BCELoss() é BinaryCrossEntropy é a função de perda para targets binarios. Como o nosso alvo possui\n",
        "muitas classes troque a função de perda para nn.CrossEntropyLoss() '''\n",
        "\n",
        "def train(model,\n",
        "          optimizer,\n",
        "          train_loader ,\n",
        "          valid_loader ,\n",
        "          eval_every ,\n",
        "          file_path ,\n",
        "          criterion = nn.CrossEntropyLoss(), #nn.BCELoss(),\n",
        "          num_epochs = 5,\n",
        "          best_valid_loss = float(\"Inf\")):\n",
        "    \n",
        "    \n",
        "    print('1 - inicializando variávies')\n",
        "    # initialize running values\n",
        "    running_loss = 0.0\n",
        "    valid_running_loss = 0.0\n",
        "    global_step = 0\n",
        "    train_loss_list = []\n",
        "    valid_loss_list = []\n",
        "    global_steps_list = []\n",
        "\n",
        "    # training loop\n",
        "    print('1 - inicializando treinamento')\n",
        "    model.train()\n",
        "    for epoch in range(num_epochs):\n",
        "        for (text, labels), _ in train_loader:\n",
        "            labels = labels.type(torch.LongTensor)           \n",
        "            #print('label size:', labels.size())\n",
        "            #print('label:', labels)\n",
        "            labels = labels.to(device)\n",
        "            text = text.type(torch.LongTensor) \n",
        "            #print('text:', text.size())\n",
        "            text = text.to(device)\n",
        "            #print('treina...')\n",
        "            output = model(text, labels)\n",
        "            #print('fim treino...')\n",
        "            loss, _ = output\n",
        "\n",
        "            optimizer.zero_grad()\n",
        "            loss.backward()\n",
        "            optimizer.step()\n",
        "\n",
        "            # update running values\n",
        "            running_loss += loss.item()\n",
        "            global_step += 1\n",
        "\n",
        "            # evaluation step\n",
        "            if global_step % eval_every == 0:\n",
        "                model.eval()\n",
        "                with torch.no_grad():                    \n",
        "\n",
        "                    # validation loop\n",
        "                    for (text,labels), _ in valid_loader:\n",
        "                        text = text.type(torch.LongTensor)  \n",
        "                        text = text.to(device)\n",
        "                        labels = labels.type(torch.LongTensor)           \n",
        "                        labels = labels.to(device)\n",
        "                        \n",
        "                        output = model(text, labels)\n",
        "                        loss, _ = output\n",
        "                        \n",
        "                        valid_running_loss += loss.item()\n",
        "\n",
        "                # evaluation\n",
        "                average_train_loss = running_loss / eval_every\n",
        "                average_valid_loss = valid_running_loss / len(valid_loader)\n",
        "                train_loss_list.append(average_train_loss)\n",
        "                valid_loss_list.append(average_valid_loss)\n",
        "                global_steps_list.append(global_step)\n",
        "\n",
        "                # resetting running values\n",
        "                running_loss = 0.0                \n",
        "                valid_running_loss = 0.0\n",
        "                model.train()\n",
        "\n",
        "                # print progress\n",
        "                print('Epoch [{}/{}], Step [{}/{}], Train Loss: {:.4f}, Valid Loss: {:.4f}'\n",
        "                      .format(epoch+1, num_epochs, global_step, num_epochs*len(train_loader),\n",
        "                              average_train_loss, average_valid_loss))\n",
        "                \n",
        "                # checkpoint\n",
        "                if best_valid_loss > average_valid_loss:\n",
        "                    best_valid_loss = average_valid_loss\n",
        "                    save_checkpoint(file_path + '/' + 'model.pt', model, best_valid_loss)\n",
        "                    save_metrics(file_path + '/' + 'metrics.pt', train_loss_list, valid_loss_list, global_steps_list)\n",
        "    \n",
        "    save_metrics(file_path + '/' + 'metrics.pt', train_loss_list, valid_loss_list, global_steps_list)\n",
        "    print('Finished Training!')\n",
        "    "
      ],
      "execution_count": 14,
      "outputs": []
    },
    {
      "cell_type": "code",
      "metadata": {
        "colab": {
          "base_uri": "https://localhost:8080/"
        },
        "id": "JQcJQ5kaMPa4",
        "outputId": "278e291c-c476-4f79-d03a-e76d17feb344"
      },
      "source": [
        "device"
      ],
      "execution_count": null,
      "outputs": [
        {
          "output_type": "execute_result",
          "data": {
            "text/plain": [
              "device(type='cuda', index=0)"
            ]
          },
          "metadata": {
            "tags": []
          },
          "execution_count": 55
        }
      ]
    },
    {
      "cell_type": "code",
      "metadata": {
        "colab": {
          "base_uri": "https://localhost:8080/"
        },
        "id": "RrkvwE2VL1qY",
        "outputId": "bacec9cb-a57f-4d28-8d8b-7d7fec4759b8"
      },
      "source": [
        "%%time\n",
        "qtd_categories=[32]\n",
        "#token_train, token_valid, token_test = [],[],[]\n",
        "id_planilha = [7]\n",
        "dataset = [1]\n",
        "for idx, (id_, amostra) in enumerate(zip(id_planilha,dataset)):\n",
        "  create_directory(destination_folder,str(id_))\n",
        "  file_path = destination_folder + \"/\"+str(id_)\n",
        "  print(file_path)\n",
        "  model = BERT(qtd_categories=qtd_categories[idx]).to(device)\n",
        "  optimizer = optim.Adam(model.parameters(), lr=lr)\n",
        "  inicio = datetime.now()\n",
        "  print('Treinando amostra:', amostra, 'inicio:', inicio)\n",
        "  tokens = tokenizaAmostra(source_folder+str(amostra))\n",
        "  #token_train.append(tokens[0])\n",
        "  #token_valid.append(tokens[1])\n",
        "  #token_test.append(tokens[2])\n",
        "  train(model=model, \n",
        "      optimizer=optimizer,\n",
        "      num_epochs=10,\n",
        "      train_loader=tokens[0],\n",
        "      valid_loader=tokens[1],\n",
        "      eval_every=len(tokens[0]) // 2,\n",
        "      file_path=file_path)\n",
        "  print('Duracao:', datetime.now()-inicio)"
      ],
      "execution_count": null,
      "outputs": [
        {
          "output_type": "stream",
          "text": [
            "./bertimbau_resp/7\n"
          ],
          "name": "stdout"
        },
        {
          "output_type": "stream",
          "text": [
            "Some weights of the model checkpoint at neuralmind/bert-base-portuguese-cased were not used when initializing BertForSequenceClassification: ['cls.predictions.transform.LayerNorm.weight', 'cls.seq_relationship.weight', 'cls.seq_relationship.bias', 'cls.predictions.transform.LayerNorm.bias', 'cls.predictions.bias', 'cls.predictions.transform.dense.bias', 'cls.predictions.transform.dense.weight', 'cls.predictions.decoder.weight']\n",
            "- This IS expected if you are initializing BertForSequenceClassification from the checkpoint of a model trained on another task or with another architecture (e.g. initializing a BertForSequenceClassification model from a BertForPreTraining model).\n",
            "- This IS NOT expected if you are initializing BertForSequenceClassification from the checkpoint of a model that you expect to be exactly identical (initializing a BertForSequenceClassification model from a BertForSequenceClassification model).\n",
            "Some weights of BertForSequenceClassification were not initialized from the model checkpoint at neuralmind/bert-base-portuguese-cased and are newly initialized: ['classifier.weight', 'classifier.bias']\n",
            "You should probably TRAIN this model on a down-stream task to be able to use it for predictions and inference.\n"
          ],
          "name": "stderr"
        },
        {
          "output_type": "stream",
          "text": [
            "Treinando amostra: 1 inicio: 2021-08-12 23:36:28.066038\n",
            "1 - inicializando variávies\n",
            "1 - inicializando treinamento\n",
            "Epoch [1/10], Step [80/1600], Train Loss: 3.3831, Valid Loss: 3.3216\n",
            "Model saved to ==> ./bertimbau_resp/7/model.pt\n",
            "Model saved to ==> ./bertimbau_resp/7/metrics.pt\n",
            "Epoch [1/10], Step [160/1600], Train Loss: 3.2339, Valid Loss: 3.0489\n",
            "Model saved to ==> ./bertimbau_resp/7/model.pt\n",
            "Model saved to ==> ./bertimbau_resp/7/metrics.pt\n",
            "Epoch [2/10], Step [240/1600], Train Loss: 2.8240, Valid Loss: 2.7383\n",
            "Model saved to ==> ./bertimbau_resp/7/model.pt\n",
            "Model saved to ==> ./bertimbau_resp/7/metrics.pt\n",
            "Epoch [2/10], Step [320/1600], Train Loss: 2.6128, Valid Loss: 2.4791\n",
            "Model saved to ==> ./bertimbau_resp/7/model.pt\n",
            "Model saved to ==> ./bertimbau_resp/7/metrics.pt\n",
            "Epoch [3/10], Step [400/1600], Train Loss: 2.1848, Valid Loss: 2.2689\n",
            "Model saved to ==> ./bertimbau_resp/7/model.pt\n",
            "Model saved to ==> ./bertimbau_resp/7/metrics.pt\n",
            "Epoch [3/10], Step [480/1600], Train Loss: 2.0983, Valid Loss: 2.0906\n",
            "Model saved to ==> ./bertimbau_resp/7/model.pt\n",
            "Model saved to ==> ./bertimbau_resp/7/metrics.pt\n"
          ],
          "name": "stdout"
        }
      ]
    },
    {
      "cell_type": "code",
      "metadata": {
        "id": "WOCF9IBS-vXS"
      },
      "source": [
        ""
      ],
      "execution_count": null,
      "outputs": []
    },
    {
      "cell_type": "code",
      "metadata": {
        "id": "hOLXjoQAhKWE",
        "colab": {
          "base_uri": "https://localhost:8080/"
        },
        "outputId": "6b92575b-dac5-4079-d23c-3b16621e503a"
      },
      "source": [
        "#!ls ./amostra_news_integrada/\n",
        "\n",
        "#!rm  ./bertimbau_all_categ/amostra_4/*.*\n",
        "\n",
        "!du -sh"
      ],
      "execution_count": null,
      "outputs": [
        {
          "output_type": "stream",
          "text": [
            "3.4G\t.\n"
          ],
          "name": "stdout"
        }
      ]
    },
    {
      "cell_type": "markdown",
      "metadata": {
        "id": "JbLMFDrarFbW"
      },
      "source": [
        "## Valor da função LOSS na descida do gradiente \n",
        "por id de experimento registrado na planilha de controle"
      ]
    },
    {
      "cell_type": "code",
      "metadata": {
        "id": "AHdfTUs0ALnZ",
        "colab": {
          "base_uri": "https://localhost:8080/",
          "height": 578
        },
        "outputId": "24ffd2be-99d9-4823-ec61-6bd429bfdcfc"
      },
      "source": [
        "id_planilha = [1,7]\n",
        "for id_ in id_planilha:\n",
        "  file_path = destination_folder + \"/\"+str(id_)\n",
        "  train_loss_list, valid_loss_list, global_steps_list = load_metrics(file_path + '/metrics.pt')\n",
        "  plt.plot(global_steps_list, train_loss_list, label='Train')\n",
        "  plt.plot(global_steps_list, valid_loss_list, label='Valid')\n",
        "  plt.xlabel('Global Steps')\n",
        "  plt.ylabel('Loss')\n",
        "  plt.title = 'Resultado do Treino id ' + str(id_)\n",
        "  plt.legend()\n",
        "  plt.show() "
      ],
      "execution_count": 15,
      "outputs": [
        {
          "output_type": "stream",
          "text": [
            "Model loaded from <== ./bertimbau_resp/1/metrics.pt\n"
          ],
          "name": "stdout"
        },
        {
          "output_type": "display_data",
          "data": {
            "image/png": "[encoded data removed]",
            "text/plain": [
              "<Figure size 432x288 with 1 Axes>"
            ]
          },
          "metadata": {
            "tags": [],
            "needs_background": "light"
          }
        },
        {
          "output_type": "stream",
          "text": [
            "Model loaded from <== ./bertimbau_resp/7/metrics.pt\n"
          ],
          "name": "stdout"
        },
        {
          "output_type": "display_data",
          "data": {
            "image/png": "[encoded data removed]",
            "text/plain": [
              "<Figure size 432x288 with 1 Axes>"
            ]
          },
          "metadata": {
            "tags": [],
            "needs_background": "light"
          }
        }
      ]
    },
    {
      "cell_type": "markdown",
      "metadata": {
        "id": "bAI0EpQOAgM1"
      },
      "source": [
        "### Avaliação\n",
        "* https://towardsdatascience.com/evaluating-categorical-models-e667e17987fd\n",
        "* https://towardsdatascience.com/evaluating-categorical-models-ii-sensitivity-and-specificity-e181e573cff8\n",
        "* https://towardsdatascience.com/metrics-for-imbalanced-classification-41c71549bbb5\n",
        "* https://towardsdatascience.com/multi-class-classification-extracting-performance-metrics-from-the-confusion-matrix-b379b427a872\n",
        "* Material de aula do Professor André\n",
        "* Material do curso MicroSoft\n",
        "* Predictive Accuracy: A Misleading Performance Measure for Highly Imbalanced Data (sas_metrics.pdf) Paper 942-2017 (Josephine S Akosa, Oklahoma State University)\n",
        "\n",
        "\n",
        "VP = VERDADEIRO POSITIVO<br>\n",
        "VN = VERDADEIRO NEGATIVO<br>\n",
        "FP = FALSO POSITIVO<br>\n",
        "FN = FALSON NEGATIVO<br>\n",
        "TVP = TAXA DE VERDADEIRO POSITIVO<br>\n",
        "TVN = TAXA DE VERDADEIRO NEGATIVO<br>\n",
        "TFP = TAXA DE FALSO POSITIVO<br>\n",
        "TFN = TAXA DE FALSO NEGATIVO<br>\n",
        "\n",
        "Métricas utilizadas:<br>\n",
        "\n",
        "* **Acurácia:** proporção de classificações corretas feitas pelo modelo.<br>\n",
        "        Acurácia = (VP + VN)/(VP+VN+VP+VN)<br>\n",
        "\n",
        "* **Precisão:** proporção correta de classificação feita para uma determinada classe.<br>\n",
        "        Precisão = (VP)/(VP + FP)\n",
        "\n",
        "* **Revocação ou Sensibilidade:** proporção de classificações corretas de VP feitas para uma determinada classe considerando todas as instâncias do dataset de testes.<br>\n",
        "      Revocação = TVP = (VP)/(VP+FN)\n",
        "\n",
        "* **Especificidade:** proporção de classificações corretas de VN feitas para uma determinada classe considerando todas as instâncias do dataset de testes.\n",
        "      Especificidade = TVN = (VN)/(VN + FP)\n",
        "\n",
        "* **Suporte:** quantidade de instâncias de uma determinada classe no dataset de testes.\n",
        "\n",
        "**Para o DataSet 3 - dados desbalanceados**\n",
        "\n",
        "* **F1 é a média harmônica da precisão e da revocação.<br>\n",
        "\n",
        "      F1 = (2 * VP) / (2 * VP + FP + FN)\n",
        "* **MCC:** é o coeficiente de correlação Matthews que é utilizado para classes com tamanhos diferentes. Possui escala entre -1 e 1, sendo que 1 indica uma perfeita predição, 0 representa uma predição aleatória e -1 indica discordância total dos valores preditos e os valores verdadeiros.  \n",
        "\n",
        "      MCC = (VP*VN - FP*FN) / (SQRT(VP+FP)*(VP+FN)*(VN+FP)*(VN+FN)\n",
        "\n",
        "* **Média Geométrica (G-mean)** é uma métrica que mede o equilíbrio entre o desempenho de classificação tanto na classe majoritária quanto na minoritária. Um índice baixo é uma indicação de mau desempenho na classificação dos casos positivos, mesmo que os casos negativos sejam corretamente classificados como tal. Ela é importante para prever o sobreajustamento da classe negativa e o subajustamento da classe positiva. Como nosso dataset não possui classes binárias, a fórmula de cálculo será como se segue (material de aula do Prof. André):\n",
        "\n",
        "      G-mean = $(\\pi_{i=1}^{c}Revocacao_{i})^{1/c}$ \n",
        "\n",
        "\n",
        "\n",
        "\n",
        "  \n",
        "\n"
      ]
    },
    {
      "cell_type": "code",
      "metadata": {
        "id": "qTRdzPfNUmW4"
      },
      "source": [
        "def calcula_especificidade_porClasse(matriz_confusao):\n",
        "  FP = matriz_confusao.sum(axis=0) - np.diag(matriz_confusao) \n",
        "  FN = matriz_confusao.sum(axis=1) - np.diag(matriz_confusao)\n",
        "  VP = np.diag(matriz_confusao)\n",
        "  VN = matriz_confusao.sum() - (FP + FN + VP)\n",
        "  FP = FP.astype(float)\n",
        "  FN = FN.astype(float)\n",
        "  VP = VP.astype(float)\n",
        "  VN = VN.astype(float)\n",
        "  TVN = (VN)/(VN + FP)\n",
        "  return TVN"
      ],
      "execution_count": null,
      "outputs": []
    },
    {
      "cell_type": "code",
      "metadata": {
        "id": "6sGfCMMB9ewJ"
      },
      "source": [
        "def evaluate(model, test_loader):\n",
        "    y_pred = []\n",
        "    y_true = []\n",
        "\n",
        "    model.eval()\n",
        "    with torch.no_grad():\n",
        "        for (text, labels), _ in test_loader:\n",
        "                labels = labels.type(torch.LongTensor)           \n",
        "                labels = labels.to(device)\n",
        "                text = text.type(torch.LongTensor)  \n",
        "                text = text.to(device)\n",
        "                output = model(text, labels)\n",
        "\n",
        "                _, output = output\n",
        "                y_pred.extend(torch.argmax(output, 1).tolist())\n",
        "                y_true.extend(labels.tolist())\n",
        "    \n",
        "    print('Classification Report:')\n",
        "    n_classe = np.max(y_true)+1\n",
        "    report = classification_report(y_true, y_pred, labels=np.arange(0,n_classe), digits=4)\n",
        "    print('Acurácia balanceada:',balanced_accuracy_score(y_true, y_pred))\n",
        "    \n",
        "    cm = confusion_matrix(y_true, y_pred, labels=np.arange(0,n_classe))\n",
        "    print(cm)\n",
        "    #ax= plt.subplot()\n",
        "    #sns.heatmap(cm, annot=True, ax = ax, cmap='Blues', fmt=\"d\")\n",
        "    #ax.set_title('Confusion Matrix')\n",
        "    #ax.set_xlabel('Predicted Labels')\n",
        "    #ax.set_ylabel('True Labels')\n",
        "    return report\n"
      ],
      "execution_count": 32,
      "outputs": []
    },
    {
      "cell_type": "code",
      "metadata": {
        "id": "1z-to8fgResY"
      },
      "source": [
        ""
      ],
      "execution_count": 45,
      "outputs": []
    },
    {
      "cell_type": "code",
      "metadata": {
        "id": "NzGVxtN7Kao_",
        "outputId": "86da920c-0f7a-424e-f191-888e5de31740",
        "colab": {
          "base_uri": "https://localhost:8080/"
        }
      },
      "source": [
        "cm = evaluate(best_model, tokens[2])\n",
        "calcula_especificidade_porClasse(cm)"
      ],
      "execution_count": 46,
      "outputs": [
        {
          "output_type": "stream",
          "text": [
            "Classification Report:\n",
            "              precision    recall  f1-score   support\n",
            "\n",
            "           0     0.7879    0.7959    0.7919        98\n",
            "           1     0.5185    0.4719    0.4941        89\n",
            "           2     0.7170    0.8000    0.7562        95\n",
            "           3     0.9052    0.9545    0.9292       110\n",
            "           4     0.7600    0.7917    0.7755        96\n",
            "           5     0.7742    0.7423    0.7579        97\n",
            "           6     0.7879    0.6964    0.7393       112\n",
            "           7     0.7876    0.8558    0.8203       104\n",
            "           8     0.8451    0.6593    0.7407        91\n",
            "           9     0.7262    0.6421    0.6816        95\n",
            "          10     0.9625    0.7549    0.8462       102\n",
            "          11     0.8409    0.8506    0.8457        87\n",
            "          12     0.9115    0.9035    0.9075       114\n",
            "          13     0.7313    0.8673    0.7935       113\n",
            "          14     0.8817    0.8542    0.8677        96\n",
            "          15     0.6066    0.8315    0.7014        89\n",
            "          16     0.8283    0.8119    0.8200       101\n",
            "          17     0.9358    0.9189    0.9273       111\n",
            "\n",
            "    accuracy                         0.7939      1800\n",
            "   macro avg     0.7949    0.7890    0.7887      1800\n",
            "weighted avg     0.7995    0.7939    0.7935      1800\n",
            "\n",
            "Acurácia balanceada: 0.7890345498466522\n",
            "[[ 78   6   5   1   0   2   0   2   0   2   0   0   0   1   1   0   0   0]\n",
            " [  3  42  14   2   2   2   2   0   1  14   0   0   0   1   0   4   2   0]\n",
            " [  5   0  76   0   1   2   0   0   0   2   0   7   0   0   1   1   0   0]\n",
            " [  0   0   0 105   0   0   1   3   1   0   0   0   0   0   0   0   0   0]\n",
            " [  0   1   0   0  76   0   4   1   0   0   0   1   1   6   2   4   0   0]\n",
            " [  3   0   1   1   1  72   1   1   2   0   0   0   4   6   3   2   0   0]\n",
            " [  0   1   0   0   1   0  78   0   5   0   1   2   0   0   0  24   0   0]\n",
            " [  1   0   1   0   0   1   0  89   0   0   0   0   2   3   0   0   0   7]\n",
            " [  5   2   2   4   2   3   4   0  60   0   1   1   1   1   2   1   2   0]\n",
            " [  2  10   2   1   6   4   0   1   0  61   0   0   1   3   0   4   0   0]\n",
            " [  2  16   0   0   0   0   0   0   0   3  77   0   0   0   1   3   0   0]\n",
            " [  0   0   1   0   5   1   1   0   1   0   0  74   0   1   1   0   2   0]\n",
            " [  0   0   3   0   0   0   0   1   0   0   1   0 103   2   0   0   4   0]\n",
            " [  0   0   1   1   0   3   0   3   0   1   0   0   0  98   0   0   6   0]\n",
            " [  0   0   0   0   4   1   1   3   0   0   0   1   0   0  82   4   0   0]\n",
            " [  0   3   0   1   2   0   7   0   0   1   0   0   0   0   0  74   1   0]\n",
            " [  0   0   0   0   0   2   0   0   1   0   0   2   1  12   0   1  82   0]\n",
            " [  0   0   0   0   0   0   0   9   0   0   0   0   0   0   0   0   0 102]]\n"
          ],
          "name": "stdout"
        },
        {
          "output_type": "execute_result",
          "data": {
            "text/plain": [
              "array([0.98766157, 0.97720631, 0.98240469, 0.99349112, 0.98591549,\n",
              "       0.98766882, 0.98755924, 0.98584906, 0.99356349, 0.98651026,\n",
              "       0.99823322, 0.9918272 , 0.9940688 , 0.97866034, 0.9935446 ,\n",
              "       0.97194623, 0.98999411, 0.99585554])"
            ]
          },
          "metadata": {
            "tags": []
          },
          "execution_count": 46
        }
      ]
    },
    {
      "cell_type": "code",
      "metadata": {
        "id": "ET2NGLMLP6QU",
        "outputId": "60a48dee-c663-4d49-c1ba-fee7888ab97a",
        "colab": {
          "base_uri": "https://localhost:8080/"
        }
      },
      "source": [
        "cm"
      ],
      "execution_count": 35,
      "outputs": [
        {
          "output_type": "execute_result",
          "data": {
            "text/plain": [
              "array([[ 78,   6,   5,   1,   0,   2,   0,   2,   0,   2,   0,   0,   0,\n",
              "          1,   1,   0,   0,   0],\n",
              "       [  3,  42,  14,   2,   2,   2,   2,   0,   1,  14,   0,   0,   0,\n",
              "          1,   0,   4,   2,   0],\n",
              "       [  5,   0,  76,   0,   1,   2,   0,   0,   0,   2,   0,   7,   0,\n",
              "          0,   1,   1,   0,   0],\n",
              "       [  0,   0,   0, 105,   0,   0,   1,   3,   1,   0,   0,   0,   0,\n",
              "          0,   0,   0,   0,   0],\n",
              "       [  0,   1,   0,   0,  76,   0,   4,   1,   0,   0,   0,   1,   1,\n",
              "          6,   2,   4,   0,   0],\n",
              "       [  3,   0,   1,   1,   1,  72,   1,   1,   2,   0,   0,   0,   4,\n",
              "          6,   3,   2,   0,   0],\n",
              "       [  0,   1,   0,   0,   1,   0,  78,   0,   5,   0,   1,   2,   0,\n",
              "          0,   0,  24,   0,   0],\n",
              "       [  1,   0,   1,   0,   0,   1,   0,  89,   0,   0,   0,   0,   2,\n",
              "          3,   0,   0,   0,   7],\n",
              "       [  5,   2,   2,   4,   2,   3,   4,   0,  60,   0,   1,   1,   1,\n",
              "          1,   2,   1,   2,   0],\n",
              "       [  2,  10,   2,   1,   6,   4,   0,   1,   0,  61,   0,   0,   1,\n",
              "          3,   0,   4,   0,   0],\n",
              "       [  2,  16,   0,   0,   0,   0,   0,   0,   0,   3,  77,   0,   0,\n",
              "          0,   1,   3,   0,   0],\n",
              "       [  0,   0,   1,   0,   5,   1,   1,   0,   1,   0,   0,  74,   0,\n",
              "          1,   1,   0,   2,   0],\n",
              "       [  0,   0,   3,   0,   0,   0,   0,   1,   0,   0,   1,   0, 103,\n",
              "          2,   0,   0,   4,   0],\n",
              "       [  0,   0,   1,   1,   0,   3,   0,   3,   0,   1,   0,   0,   0,\n",
              "         98,   0,   0,   6,   0],\n",
              "       [  0,   0,   0,   0,   4,   1,   1,   3,   0,   0,   0,   1,   0,\n",
              "          0,  82,   4,   0,   0],\n",
              "       [  0,   3,   0,   1,   2,   0,   7,   0,   0,   1,   0,   0,   0,\n",
              "          0,   0,  74,   1,   0],\n",
              "       [  0,   0,   0,   0,   0,   2,   0,   0,   1,   0,   0,   2,   1,\n",
              "         12,   0,   1,  82,   0],\n",
              "       [  0,   0,   0,   0,   0,   0,   0,   9,   0,   0,   0,   0,   0,\n",
              "          0,   0,   0,   0, 102]])"
            ]
          },
          "metadata": {
            "tags": []
          },
          "execution_count": 35
        }
      ]
    },
    {
      "cell_type": "code",
      "metadata": {
        "colab": {
          "base_uri": "https://localhost:8080/",
          "height": 897
        },
        "id": "k5g9qV-7OZ5X",
        "outputId": "2c460a25-56c1-4ed3-b768-039884addd66"
      },
      "source": [
        "#%%time    \n",
        "qtd_categories=[18]\n",
        "id_planilha = [6]\n",
        "dataset = [2]\n",
        "for idx, (id_, amostra) in enumerate(zip(id_planilha,dataset)):\n",
        "      print('id_planilha:', id_)\n",
        "      tokens = tokenizaAmostra(source_folder+str(amostra))\n",
        "      best_model =BERT(qtd_categories=qtd_categories[idx]).to(device)\n",
        "      load_checkpoint(destination_folder+\"/\"+str(id_) + '/model.pt', best_model)\n",
        "      evaluate(best_model, tokens[2])"
      ],
      "execution_count": 20,
      "outputs": [
        {
          "output_type": "stream",
          "text": [
            "id_planilha: 6\n"
          ],
          "name": "stdout"
        },
        {
          "output_type": "stream",
          "text": [
            "Some weights of the model checkpoint at neuralmind/bert-base-portuguese-cased were not used when initializing BertForSequenceClassification: ['cls.seq_relationship.weight', 'cls.predictions.decoder.weight', 'cls.predictions.bias', 'cls.seq_relationship.bias', 'cls.predictions.transform.dense.weight', 'cls.predictions.transform.dense.bias', 'cls.predictions.transform.LayerNorm.weight', 'cls.predictions.transform.LayerNorm.bias']\n",
            "- This IS expected if you are initializing BertForSequenceClassification from the checkpoint of a model trained on another task or with another architecture (e.g. initializing a BertForSequenceClassification model from a BertForPreTraining model).\n",
            "- This IS NOT expected if you are initializing BertForSequenceClassification from the checkpoint of a model that you expect to be exactly identical (initializing a BertForSequenceClassification model from a BertForSequenceClassification model).\n",
            "Some weights of BertForSequenceClassification were not initialized from the model checkpoint at neuralmind/bert-base-portuguese-cased and are newly initialized: ['classifier.bias', 'classifier.weight']\n",
            "You should probably TRAIN this model on a down-stream task to be able to use it for predictions and inference.\n"
          ],
          "name": "stderr"
        },
        {
          "output_type": "stream",
          "text": [
            "Model loaded from <== ./bertimbau_resp/6/model.pt\n",
            "Classification Report:\n",
            "              precision    recall  f1-score   support\n",
            "\n",
            "           0     0.7879    0.7959    0.7919        98\n",
            "           1     0.5185    0.4719    0.4941        89\n",
            "           2     0.7170    0.8000    0.7562        95\n",
            "           3     0.9052    0.9545    0.9292       110\n",
            "           4     0.7600    0.7917    0.7755        96\n",
            "           5     0.7742    0.7423    0.7579        97\n",
            "           6     0.7879    0.6964    0.7393       112\n",
            "           7     0.7876    0.8558    0.8203       104\n",
            "           8     0.8451    0.6593    0.7407        91\n",
            "           9     0.7262    0.6421    0.6816        95\n",
            "          10     0.9625    0.7549    0.8462       102\n",
            "          11     0.8409    0.8506    0.8457        87\n",
            "          12     0.9115    0.9035    0.9075       114\n",
            "          13     0.7313    0.8673    0.7935       113\n",
            "          14     0.8817    0.8542    0.8677        96\n",
            "          15     0.6066    0.8315    0.7014        89\n",
            "          16     0.8283    0.8119    0.8200       101\n",
            "          17     0.9358    0.9189    0.9273       111\n",
            "\n",
            "    accuracy                         0.7939      1800\n",
            "   macro avg     0.7949    0.7890    0.7887      1800\n",
            "weighted avg     0.7995    0.7939    0.7935      1800\n",
            "\n"
          ],
          "name": "stdout"
        },
        {
          "output_type": "error",
          "ename": "NameError",
          "evalue": "ignored",
          "traceback": [
            "\u001b[0;31m---------------------------------------------------------------------------\u001b[0m",
            "\u001b[0;31mNameError\u001b[0m                                 Traceback (most recent call last)",
            "\u001b[0;32m<ipython-input-20-828957591f6e>\u001b[0m in \u001b[0;36m<module>\u001b[0;34m()\u001b[0m\n\u001b[1;32m      8\u001b[0m       \u001b[0mbest_model\u001b[0m \u001b[0;34m=\u001b[0m\u001b[0mBERT\u001b[0m\u001b[0;34m(\u001b[0m\u001b[0mqtd_categories\u001b[0m\u001b[0;34m=\u001b[0m\u001b[0mqtd_categories\u001b[0m\u001b[0;34m[\u001b[0m\u001b[0midx\u001b[0m\u001b[0;34m]\u001b[0m\u001b[0;34m)\u001b[0m\u001b[0;34m.\u001b[0m\u001b[0mto\u001b[0m\u001b[0;34m(\u001b[0m\u001b[0mdevice\u001b[0m\u001b[0;34m)\u001b[0m\u001b[0;34m\u001b[0m\u001b[0;34m\u001b[0m\u001b[0m\n\u001b[1;32m      9\u001b[0m       \u001b[0mload_checkpoint\u001b[0m\u001b[0;34m(\u001b[0m\u001b[0mdestination_folder\u001b[0m\u001b[0;34m+\u001b[0m\u001b[0;34m\"/\"\u001b[0m\u001b[0;34m+\u001b[0m\u001b[0mstr\u001b[0m\u001b[0;34m(\u001b[0m\u001b[0mid_\u001b[0m\u001b[0;34m)\u001b[0m \u001b[0;34m+\u001b[0m \u001b[0;34m'/model.pt'\u001b[0m\u001b[0;34m,\u001b[0m \u001b[0mbest_model\u001b[0m\u001b[0;34m)\u001b[0m\u001b[0;34m\u001b[0m\u001b[0;34m\u001b[0m\u001b[0m\n\u001b[0;32m---> 10\u001b[0;31m       \u001b[0mevaluate\u001b[0m\u001b[0;34m(\u001b[0m\u001b[0mbest_model\u001b[0m\u001b[0;34m,\u001b[0m \u001b[0mtokens\u001b[0m\u001b[0;34m[\u001b[0m\u001b[0;36m2\u001b[0m\u001b[0;34m]\u001b[0m\u001b[0;34m)\u001b[0m\u001b[0;34m\u001b[0m\u001b[0;34m\u001b[0m\u001b[0m\n\u001b[0m",
            "\u001b[0;32m<ipython-input-19-b622260ca9cf>\u001b[0m in \u001b[0;36mevaluate\u001b[0;34m(model, test_loader)\u001b[0m\n\u001b[1;32m     19\u001b[0m     \u001b[0mn_classe\u001b[0m \u001b[0;34m=\u001b[0m \u001b[0mnp\u001b[0m\u001b[0;34m.\u001b[0m\u001b[0mmax\u001b[0m\u001b[0;34m(\u001b[0m\u001b[0my_true\u001b[0m\u001b[0;34m)\u001b[0m\u001b[0;34m+\u001b[0m\u001b[0;36m1\u001b[0m\u001b[0;34m\u001b[0m\u001b[0;34m\u001b[0m\u001b[0m\n\u001b[1;32m     20\u001b[0m     \u001b[0mprint\u001b[0m\u001b[0;34m(\u001b[0m\u001b[0mclassification_report\u001b[0m\u001b[0;34m(\u001b[0m\u001b[0my_true\u001b[0m\u001b[0;34m,\u001b[0m \u001b[0my_pred\u001b[0m\u001b[0;34m,\u001b[0m \u001b[0mlabels\u001b[0m\u001b[0;34m=\u001b[0m\u001b[0mnp\u001b[0m\u001b[0;34m.\u001b[0m\u001b[0marange\u001b[0m\u001b[0;34m(\u001b[0m\u001b[0;36m0\u001b[0m\u001b[0;34m,\u001b[0m\u001b[0mn_classe\u001b[0m\u001b[0;34m)\u001b[0m\u001b[0;34m,\u001b[0m \u001b[0mdigits\u001b[0m\u001b[0;34m=\u001b[0m\u001b[0;36m4\u001b[0m\u001b[0;34m)\u001b[0m\u001b[0;34m)\u001b[0m\u001b[0;34m\u001b[0m\u001b[0;34m\u001b[0m\u001b[0m\n\u001b[0;32m---> 21\u001b[0;31m     \u001b[0mprint\u001b[0m\u001b[0;34m(\u001b[0m\u001b[0;34m'Acurácia balanceada:'\u001b[0m\u001b[0;34m,\u001b[0m\u001b[0mbalanced_accuracy_score\u001b[0m\u001b[0;34m(\u001b[0m\u001b[0my_true\u001b[0m\u001b[0;34m,\u001b[0m \u001b[0my_pred\u001b[0m\u001b[0;34m)\u001b[0m\u001b[0;34m)\u001b[0m\u001b[0;34m\u001b[0m\u001b[0;34m\u001b[0m\u001b[0m\n\u001b[0m\u001b[1;32m     22\u001b[0m \u001b[0;34m\u001b[0m\u001b[0m\n\u001b[1;32m     23\u001b[0m     \u001b[0mcm\u001b[0m \u001b[0;34m=\u001b[0m \u001b[0mconfusion_matrix\u001b[0m\u001b[0;34m(\u001b[0m\u001b[0my_true\u001b[0m\u001b[0;34m,\u001b[0m \u001b[0my_pred\u001b[0m\u001b[0;34m,\u001b[0m \u001b[0mlabels\u001b[0m\u001b[0;34m=\u001b[0m\u001b[0mnp\u001b[0m\u001b[0;34m.\u001b[0m\u001b[0marange\u001b[0m\u001b[0;34m(\u001b[0m\u001b[0;36m0\u001b[0m\u001b[0;34m,\u001b[0m\u001b[0mn_classe\u001b[0m\u001b[0;34m)\u001b[0m\u001b[0;34m)\u001b[0m\u001b[0;34m\u001b[0m\u001b[0;34m\u001b[0m\u001b[0m\n",
            "\u001b[0;31mNameError\u001b[0m: name 'balanced_accuracy_score' is not defined"
          ]
        }
      ]
    },
    {
      "cell_type": "code",
      "metadata": {
        "id": "aw_5CO5hzN9C"
      },
      "source": [
        ""
      ],
      "execution_count": null,
      "outputs": []
    },
    {
      "cell_type": "code",
      "metadata": {
        "id": "V1koq2k7jrIj"
      },
      "source": [
        "#!rm ./bertimbau_all_categ/amostra_4/*.*\n",
        "#!du -sh\n"
      ],
      "execution_count": null,
      "outputs": []
    },
    {
      "cell_type": "markdown",
      "metadata": {
        "id": "TJrH6W-UEXCK"
      },
      "source": [
        ""
      ]
    }
  ]
}