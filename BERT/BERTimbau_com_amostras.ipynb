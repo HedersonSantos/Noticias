{
  "nbformat": 4,
  "nbformat_minor": 0,
  "metadata": {
    "colab": {
      "name": "BERTimbau_Testes.ipynb",
      "provenance": [],
      "collapsed_sections": [],
      "include_colab_link": true
    },
    "kernelspec": {
      "name": "python3",
      "display_name": "Python 3"
    },
    "language_info": {
      "name": "python"
    },
    "accelerator": "GPU",
    "widgets": {
      "application/vnd.jupyter.widget-state+json": {
        "d0db4bcf42224df79ff1cc8493a8a016": {
          "model_module": "@jupyter-widgets/controls",
          "model_name": "HBoxModel",
          "state": {
            "_view_name": "HBoxView",
            "_dom_classes": [],
            "_model_name": "HBoxModel",
            "_view_module": "@jupyter-widgets/controls",
            "_model_module_version": "1.5.0",
            "_view_count": null,
            "_view_module_version": "1.5.0",
            "box_style": "",
            "layout": "IPY_MODEL_c7ef243b76794e23a4df4fcb63688124",
            "_model_module": "@jupyter-widgets/controls",
            "children": [
              "IPY_MODEL_bf30b3f8704b43f596ae8494d652e900",
              "IPY_MODEL_d6fa8c3c5ed945fd95ea7999bd3b0133"
            ]
          }
        },
        "c7ef243b76794e23a4df4fcb63688124": {
          "model_module": "@jupyter-widgets/base",
          "model_name": "LayoutModel",
          "state": {
            "_view_name": "LayoutView",
            "grid_template_rows": null,
            "right": null,
            "justify_content": null,
            "_view_module": "@jupyter-widgets/base",
            "overflow": null,
            "_model_module_version": "1.2.0",
            "_view_count": null,
            "flex_flow": null,
            "width": null,
            "min_width": null,
            "border": null,
            "align_items": null,
            "bottom": null,
            "_model_module": "@jupyter-widgets/base",
            "top": null,
            "grid_column": null,
            "overflow_y": null,
            "overflow_x": null,
            "grid_auto_flow": null,
            "grid_area": null,
            "grid_template_columns": null,
            "flex": null,
            "_model_name": "LayoutModel",
            "justify_items": null,
            "grid_row": null,
            "max_height": null,
            "align_content": null,
            "visibility": null,
            "align_self": null,
            "height": null,
            "min_height": null,
            "padding": null,
            "grid_auto_rows": null,
            "grid_gap": null,
            "max_width": null,
            "order": null,
            "_view_module_version": "1.2.0",
            "grid_template_areas": null,
            "object_position": null,
            "object_fit": null,
            "grid_auto_columns": null,
            "margin": null,
            "display": null,
            "left": null
          }
        },
        "bf30b3f8704b43f596ae8494d652e900": {
          "model_module": "@jupyter-widgets/controls",
          "model_name": "FloatProgressModel",
          "state": {
            "_view_name": "ProgressView",
            "style": "IPY_MODEL_ac9119c409dc4effaf8ac32439dd458c",
            "_dom_classes": [],
            "description": "Downloading: 100%",
            "_model_name": "FloatProgressModel",
            "bar_style": "success",
            "max": 43,
            "_view_module": "@jupyter-widgets/controls",
            "_model_module_version": "1.5.0",
            "value": 43,
            "_view_count": null,
            "_view_module_version": "1.5.0",
            "orientation": "horizontal",
            "min": 0,
            "description_tooltip": null,
            "_model_module": "@jupyter-widgets/controls",
            "layout": "IPY_MODEL_d2d90ce30995403a9214ce992403b5bd"
          }
        },
        "d6fa8c3c5ed945fd95ea7999bd3b0133": {
          "model_module": "@jupyter-widgets/controls",
          "model_name": "HTMLModel",
          "state": {
            "_view_name": "HTMLView",
            "style": "IPY_MODEL_914c141585d34f9dbd2e3cd9b2605020",
            "_dom_classes": [],
            "description": "",
            "_model_name": "HTMLModel",
            "placeholder": "​",
            "_view_module": "@jupyter-widgets/controls",
            "_model_module_version": "1.5.0",
            "value": " 43.0/43.0 [00:00&lt;00:00, 93.5B/s]",
            "_view_count": null,
            "_view_module_version": "1.5.0",
            "description_tooltip": null,
            "_model_module": "@jupyter-widgets/controls",
            "layout": "IPY_MODEL_e2d05235cb52464ebc97160b751a2dad"
          }
        },
        "ac9119c409dc4effaf8ac32439dd458c": {
          "model_module": "@jupyter-widgets/controls",
          "model_name": "ProgressStyleModel",
          "state": {
            "_view_name": "StyleView",
            "_model_name": "ProgressStyleModel",
            "description_width": "initial",
            "_view_module": "@jupyter-widgets/base",
            "_model_module_version": "1.5.0",
            "_view_count": null,
            "_view_module_version": "1.2.0",
            "bar_color": null,
            "_model_module": "@jupyter-widgets/controls"
          }
        },
        "d2d90ce30995403a9214ce992403b5bd": {
          "model_module": "@jupyter-widgets/base",
          "model_name": "LayoutModel",
          "state": {
            "_view_name": "LayoutView",
            "grid_template_rows": null,
            "right": null,
            "justify_content": null,
            "_view_module": "@jupyter-widgets/base",
            "overflow": null,
            "_model_module_version": "1.2.0",
            "_view_count": null,
            "flex_flow": null,
            "width": null,
            "min_width": null,
            "border": null,
            "align_items": null,
            "bottom": null,
            "_model_module": "@jupyter-widgets/base",
            "top": null,
            "grid_column": null,
            "overflow_y": null,
            "overflow_x": null,
            "grid_auto_flow": null,
            "grid_area": null,
            "grid_template_columns": null,
            "flex": null,
            "_model_name": "LayoutModel",
            "justify_items": null,
            "grid_row": null,
            "max_height": null,
            "align_content": null,
            "visibility": null,
            "align_self": null,
            "height": null,
            "min_height": null,
            "padding": null,
            "grid_auto_rows": null,
            "grid_gap": null,
            "max_width": null,
            "order": null,
            "_view_module_version": "1.2.0",
            "grid_template_areas": null,
            "object_position": null,
            "object_fit": null,
            "grid_auto_columns": null,
            "margin": null,
            "display": null,
            "left": null
          }
        },
        "914c141585d34f9dbd2e3cd9b2605020": {
          "model_module": "@jupyter-widgets/controls",
          "model_name": "DescriptionStyleModel",
          "state": {
            "_view_name": "StyleView",
            "_model_name": "DescriptionStyleModel",
            "description_width": "",
            "_view_module": "@jupyter-widgets/base",
            "_model_module_version": "1.5.0",
            "_view_count": null,
            "_view_module_version": "1.2.0",
            "_model_module": "@jupyter-widgets/controls"
          }
        },
        "e2d05235cb52464ebc97160b751a2dad": {
          "model_module": "@jupyter-widgets/base",
          "model_name": "LayoutModel",
          "state": {
            "_view_name": "LayoutView",
            "grid_template_rows": null,
            "right": null,
            "justify_content": null,
            "_view_module": "@jupyter-widgets/base",
            "overflow": null,
            "_model_module_version": "1.2.0",
            "_view_count": null,
            "flex_flow": null,
            "width": null,
            "min_width": null,
            "border": null,
            "align_items": null,
            "bottom": null,
            "_model_module": "@jupyter-widgets/base",
            "top": null,
            "grid_column": null,
            "overflow_y": null,
            "overflow_x": null,
            "grid_auto_flow": null,
            "grid_area": null,
            "grid_template_columns": null,
            "flex": null,
            "_model_name": "LayoutModel",
            "justify_items": null,
            "grid_row": null,
            "max_height": null,
            "align_content": null,
            "visibility": null,
            "align_self": null,
            "height": null,
            "min_height": null,
            "padding": null,
            "grid_auto_rows": null,
            "grid_gap": null,
            "max_width": null,
            "order": null,
            "_view_module_version": "1.2.0",
            "grid_template_areas": null,
            "object_position": null,
            "object_fit": null,
            "grid_auto_columns": null,
            "margin": null,
            "display": null,
            "left": null
          }
        },
        "2466e961b1d54c458da98f8dd43b679d": {
          "model_module": "@jupyter-widgets/controls",
          "model_name": "HBoxModel",
          "state": {
            "_view_name": "HBoxView",
            "_dom_classes": [],
            "_model_name": "HBoxModel",
            "_view_module": "@jupyter-widgets/controls",
            "_model_module_version": "1.5.0",
            "_view_count": null,
            "_view_module_version": "1.5.0",
            "box_style": "",
            "layout": "IPY_MODEL_aa805950bb7b447bb74c5e024a757577",
            "_model_module": "@jupyter-widgets/controls",
            "children": [
              "IPY_MODEL_3403c6e7bb4b4aa48b10b41536d3b5a9",
              "IPY_MODEL_5c388a3f7d0640589d6c32a1e01da971"
            ]
          }
        },
        "aa805950bb7b447bb74c5e024a757577": {
          "model_module": "@jupyter-widgets/base",
          "model_name": "LayoutModel",
          "state": {
            "_view_name": "LayoutView",
            "grid_template_rows": null,
            "right": null,
            "justify_content": null,
            "_view_module": "@jupyter-widgets/base",
            "overflow": null,
            "_model_module_version": "1.2.0",
            "_view_count": null,
            "flex_flow": null,
            "width": null,
            "min_width": null,
            "border": null,
            "align_items": null,
            "bottom": null,
            "_model_module": "@jupyter-widgets/base",
            "top": null,
            "grid_column": null,
            "overflow_y": null,
            "overflow_x": null,
            "grid_auto_flow": null,
            "grid_area": null,
            "grid_template_columns": null,
            "flex": null,
            "_model_name": "LayoutModel",
            "justify_items": null,
            "grid_row": null,
            "max_height": null,
            "align_content": null,
            "visibility": null,
            "align_self": null,
            "height": null,
            "min_height": null,
            "padding": null,
            "grid_auto_rows": null,
            "grid_gap": null,
            "max_width": null,
            "order": null,
            "_view_module_version": "1.2.0",
            "grid_template_areas": null,
            "object_position": null,
            "object_fit": null,
            "grid_auto_columns": null,
            "margin": null,
            "display": null,
            "left": null
          }
        },
        "3403c6e7bb4b4aa48b10b41536d3b5a9": {
          "model_module": "@jupyter-widgets/controls",
          "model_name": "FloatProgressModel",
          "state": {
            "_view_name": "ProgressView",
            "style": "IPY_MODEL_21ec8d469be945469ebed5c1a39e3b98",
            "_dom_classes": [],
            "description": "Downloading: 100%",
            "_model_name": "FloatProgressModel",
            "bar_style": "success",
            "max": 647,
            "_view_module": "@jupyter-widgets/controls",
            "_model_module_version": "1.5.0",
            "value": 647,
            "_view_count": null,
            "_view_module_version": "1.5.0",
            "orientation": "horizontal",
            "min": 0,
            "description_tooltip": null,
            "_model_module": "@jupyter-widgets/controls",
            "layout": "IPY_MODEL_39d618dacac64de7bf1a0c15e940170e"
          }
        },
        "5c388a3f7d0640589d6c32a1e01da971": {
          "model_module": "@jupyter-widgets/controls",
          "model_name": "HTMLModel",
          "state": {
            "_view_name": "HTMLView",
            "style": "IPY_MODEL_9b8871dc9ead470e9b788d44db8a57ce",
            "_dom_classes": [],
            "description": "",
            "_model_name": "HTMLModel",
            "placeholder": "​",
            "_view_module": "@jupyter-widgets/controls",
            "_model_module_version": "1.5.0",
            "value": " 647/647 [00:02&lt;00:00, 313B/s]",
            "_view_count": null,
            "_view_module_version": "1.5.0",
            "description_tooltip": null,
            "_model_module": "@jupyter-widgets/controls",
            "layout": "IPY_MODEL_11d688be58f242bd975a43e8cbbcee01"
          }
        },
        "21ec8d469be945469ebed5c1a39e3b98": {
          "model_module": "@jupyter-widgets/controls",
          "model_name": "ProgressStyleModel",
          "state": {
            "_view_name": "StyleView",
            "_model_name": "ProgressStyleModel",
            "description_width": "initial",
            "_view_module": "@jupyter-widgets/base",
            "_model_module_version": "1.5.0",
            "_view_count": null,
            "_view_module_version": "1.2.0",
            "bar_color": null,
            "_model_module": "@jupyter-widgets/controls"
          }
        },
        "39d618dacac64de7bf1a0c15e940170e": {
          "model_module": "@jupyter-widgets/base",
          "model_name": "LayoutModel",
          "state": {
            "_view_name": "LayoutView",
            "grid_template_rows": null,
            "right": null,
            "justify_content": null,
            "_view_module": "@jupyter-widgets/base",
            "overflow": null,
            "_model_module_version": "1.2.0",
            "_view_count": null,
            "flex_flow": null,
            "width": null,
            "min_width": null,
            "border": null,
            "align_items": null,
            "bottom": null,
            "_model_module": "@jupyter-widgets/base",
            "top": null,
            "grid_column": null,
            "overflow_y": null,
            "overflow_x": null,
            "grid_auto_flow": null,
            "grid_area": null,
            "grid_template_columns": null,
            "flex": null,
            "_model_name": "LayoutModel",
            "justify_items": null,
            "grid_row": null,
            "max_height": null,
            "align_content": null,
            "visibility": null,
            "align_self": null,
            "height": null,
            "min_height": null,
            "padding": null,
            "grid_auto_rows": null,
            "grid_gap": null,
            "max_width": null,
            "order": null,
            "_view_module_version": "1.2.0",
            "grid_template_areas": null,
            "object_position": null,
            "object_fit": null,
            "grid_auto_columns": null,
            "margin": null,
            "display": null,
            "left": null
          }
        },
        "9b8871dc9ead470e9b788d44db8a57ce": {
          "model_module": "@jupyter-widgets/controls",
          "model_name": "DescriptionStyleModel",
          "state": {
            "_view_name": "StyleView",
            "_model_name": "DescriptionStyleModel",
            "description_width": "",
            "_view_module": "@jupyter-widgets/base",
            "_model_module_version": "1.5.0",
            "_view_count": null,
            "_view_module_version": "1.2.0",
            "_model_module": "@jupyter-widgets/controls"
          }
        },
        "11d688be58f242bd975a43e8cbbcee01": {
          "model_module": "@jupyter-widgets/base",
          "model_name": "LayoutModel",
          "state": {
            "_view_name": "LayoutView",
            "grid_template_rows": null,
            "right": null,
            "justify_content": null,
            "_view_module": "@jupyter-widgets/base",
            "overflow": null,
            "_model_module_version": "1.2.0",
            "_view_count": null,
            "flex_flow": null,
            "width": null,
            "min_width": null,
            "border": null,
            "align_items": null,
            "bottom": null,
            "_model_module": "@jupyter-widgets/base",
            "top": null,
            "grid_column": null,
            "overflow_y": null,
            "overflow_x": null,
            "grid_auto_flow": null,
            "grid_area": null,
            "grid_template_columns": null,
            "flex": null,
            "_model_name": "LayoutModel",
            "justify_items": null,
            "grid_row": null,
            "max_height": null,
            "align_content": null,
            "visibility": null,
            "align_self": null,
            "height": null,
            "min_height": null,
            "padding": null,
            "grid_auto_rows": null,
            "grid_gap": null,
            "max_width": null,
            "order": null,
            "_view_module_version": "1.2.0",
            "grid_template_areas": null,
            "object_position": null,
            "object_fit": null,
            "grid_auto_columns": null,
            "margin": null,
            "display": null,
            "left": null
          }
        },
        "6bfc16bf07a54f479bcbd421e43ff70a": {
          "model_module": "@jupyter-widgets/controls",
          "model_name": "HBoxModel",
          "state": {
            "_view_name": "HBoxView",
            "_dom_classes": [],
            "_model_name": "HBoxModel",
            "_view_module": "@jupyter-widgets/controls",
            "_model_module_version": "1.5.0",
            "_view_count": null,
            "_view_module_version": "1.5.0",
            "box_style": "",
            "layout": "IPY_MODEL_1e6ee32da35b4a5ba10f6e658b04825a",
            "_model_module": "@jupyter-widgets/controls",
            "children": [
              "IPY_MODEL_8c4aeba611c44496949ed5663017011c",
              "IPY_MODEL_1a465b6b84a040dba747beb301c89cf9"
            ]
          }
        },
        "1e6ee32da35b4a5ba10f6e658b04825a": {
          "model_module": "@jupyter-widgets/base",
          "model_name": "LayoutModel",
          "state": {
            "_view_name": "LayoutView",
            "grid_template_rows": null,
            "right": null,
            "justify_content": null,
            "_view_module": "@jupyter-widgets/base",
            "overflow": null,
            "_model_module_version": "1.2.0",
            "_view_count": null,
            "flex_flow": null,
            "width": null,
            "min_width": null,
            "border": null,
            "align_items": null,
            "bottom": null,
            "_model_module": "@jupyter-widgets/base",
            "top": null,
            "grid_column": null,
            "overflow_y": null,
            "overflow_x": null,
            "grid_auto_flow": null,
            "grid_area": null,
            "grid_template_columns": null,
            "flex": null,
            "_model_name": "LayoutModel",
            "justify_items": null,
            "grid_row": null,
            "max_height": null,
            "align_content": null,
            "visibility": null,
            "align_self": null,
            "height": null,
            "min_height": null,
            "padding": null,
            "grid_auto_rows": null,
            "grid_gap": null,
            "max_width": null,
            "order": null,
            "_view_module_version": "1.2.0",
            "grid_template_areas": null,
            "object_position": null,
            "object_fit": null,
            "grid_auto_columns": null,
            "margin": null,
            "display": null,
            "left": null
          }
        },
        "8c4aeba611c44496949ed5663017011c": {
          "model_module": "@jupyter-widgets/controls",
          "model_name": "FloatProgressModel",
          "state": {
            "_view_name": "ProgressView",
            "style": "IPY_MODEL_43837f9ec1b44c00b752aafba69e7b40",
            "_dom_classes": [],
            "description": "Downloading: 100%",
            "_model_name": "FloatProgressModel",
            "bar_style": "success",
            "max": 209528,
            "_view_module": "@jupyter-widgets/controls",
            "_model_module_version": "1.5.0",
            "value": 209528,
            "_view_count": null,
            "_view_module_version": "1.5.0",
            "orientation": "horizontal",
            "min": 0,
            "description_tooltip": null,
            "_model_module": "@jupyter-widgets/controls",
            "layout": "IPY_MODEL_bcf5965856ca45d588f57c78b99777e8"
          }
        },
        "1a465b6b84a040dba747beb301c89cf9": {
          "model_module": "@jupyter-widgets/controls",
          "model_name": "HTMLModel",
          "state": {
            "_view_name": "HTMLView",
            "style": "IPY_MODEL_7ce5af8ad6164496900972f1e981bd9a",
            "_dom_classes": [],
            "description": "",
            "_model_name": "HTMLModel",
            "placeholder": "​",
            "_view_module": "@jupyter-widgets/controls",
            "_model_module_version": "1.5.0",
            "value": " 210k/210k [00:01&lt;00:00, 194kB/s]",
            "_view_count": null,
            "_view_module_version": "1.5.0",
            "description_tooltip": null,
            "_model_module": "@jupyter-widgets/controls",
            "layout": "IPY_MODEL_0fe572bd9f4c4d96bf73ab3d4beb36a1"
          }
        },
        "43837f9ec1b44c00b752aafba69e7b40": {
          "model_module": "@jupyter-widgets/controls",
          "model_name": "ProgressStyleModel",
          "state": {
            "_view_name": "StyleView",
            "_model_name": "ProgressStyleModel",
            "description_width": "initial",
            "_view_module": "@jupyter-widgets/base",
            "_model_module_version": "1.5.0",
            "_view_count": null,
            "_view_module_version": "1.2.0",
            "bar_color": null,
            "_model_module": "@jupyter-widgets/controls"
          }
        },
        "bcf5965856ca45d588f57c78b99777e8": {
          "model_module": "@jupyter-widgets/base",
          "model_name": "LayoutModel",
          "state": {
            "_view_name": "LayoutView",
            "grid_template_rows": null,
            "right": null,
            "justify_content": null,
            "_view_module": "@jupyter-widgets/base",
            "overflow": null,
            "_model_module_version": "1.2.0",
            "_view_count": null,
            "flex_flow": null,
            "width": null,
            "min_width": null,
            "border": null,
            "align_items": null,
            "bottom": null,
            "_model_module": "@jupyter-widgets/base",
            "top": null,
            "grid_column": null,
            "overflow_y": null,
            "overflow_x": null,
            "grid_auto_flow": null,
            "grid_area": null,
            "grid_template_columns": null,
            "flex": null,
            "_model_name": "LayoutModel",
            "justify_items": null,
            "grid_row": null,
            "max_height": null,
            "align_content": null,
            "visibility": null,
            "align_self": null,
            "height": null,
            "min_height": null,
            "padding": null,
            "grid_auto_rows": null,
            "grid_gap": null,
            "max_width": null,
            "order": null,
            "_view_module_version": "1.2.0",
            "grid_template_areas": null,
            "object_position": null,
            "object_fit": null,
            "grid_auto_columns": null,
            "margin": null,
            "display": null,
            "left": null
          }
        },
        "7ce5af8ad6164496900972f1e981bd9a": {
          "model_module": "@jupyter-widgets/controls",
          "model_name": "DescriptionStyleModel",
          "state": {
            "_view_name": "StyleView",
            "_model_name": "DescriptionStyleModel",
            "description_width": "",
            "_view_module": "@jupyter-widgets/base",
            "_model_module_version": "1.5.0",
            "_view_count": null,
            "_view_module_version": "1.2.0",
            "_model_module": "@jupyter-widgets/controls"
          }
        },
        "0fe572bd9f4c4d96bf73ab3d4beb36a1": {
          "model_module": "@jupyter-widgets/base",
          "model_name": "LayoutModel",
          "state": {
            "_view_name": "LayoutView",
            "grid_template_rows": null,
            "right": null,
            "justify_content": null,
            "_view_module": "@jupyter-widgets/base",
            "overflow": null,
            "_model_module_version": "1.2.0",
            "_view_count": null,
            "flex_flow": null,
            "width": null,
            "min_width": null,
            "border": null,
            "align_items": null,
            "bottom": null,
            "_model_module": "@jupyter-widgets/base",
            "top": null,
            "grid_column": null,
            "overflow_y": null,
            "overflow_x": null,
            "grid_auto_flow": null,
            "grid_area": null,
            "grid_template_columns": null,
            "flex": null,
            "_model_name": "LayoutModel",
            "justify_items": null,
            "grid_row": null,
            "max_height": null,
            "align_content": null,
            "visibility": null,
            "align_self": null,
            "height": null,
            "min_height": null,
            "padding": null,
            "grid_auto_rows": null,
            "grid_gap": null,
            "max_width": null,
            "order": null,
            "_view_module_version": "1.2.0",
            "grid_template_areas": null,
            "object_position": null,
            "object_fit": null,
            "grid_auto_columns": null,
            "margin": null,
            "display": null,
            "left": null
          }
        },
        "d5b9105b35c04382994d3cd6b820c137": {
          "model_module": "@jupyter-widgets/controls",
          "model_name": "HBoxModel",
          "state": {
            "_view_name": "HBoxView",
            "_dom_classes": [],
            "_model_name": "HBoxModel",
            "_view_module": "@jupyter-widgets/controls",
            "_model_module_version": "1.5.0",
            "_view_count": null,
            "_view_module_version": "1.5.0",
            "box_style": "",
            "layout": "IPY_MODEL_ba11a0bdc9f74394a2cb407c89a17499",
            "_model_module": "@jupyter-widgets/controls",
            "children": [
              "IPY_MODEL_f38f13e9d2ad4d9c82dd090e49981a0d",
              "IPY_MODEL_f5449383285f4baca76fa34d76e5cd76"
            ]
          }
        },
        "ba11a0bdc9f74394a2cb407c89a17499": {
          "model_module": "@jupyter-widgets/base",
          "model_name": "LayoutModel",
          "state": {
            "_view_name": "LayoutView",
            "grid_template_rows": null,
            "right": null,
            "justify_content": null,
            "_view_module": "@jupyter-widgets/base",
            "overflow": null,
            "_model_module_version": "1.2.0",
            "_view_count": null,
            "flex_flow": null,
            "width": null,
            "min_width": null,
            "border": null,
            "align_items": null,
            "bottom": null,
            "_model_module": "@jupyter-widgets/base",
            "top": null,
            "grid_column": null,
            "overflow_y": null,
            "overflow_x": null,
            "grid_auto_flow": null,
            "grid_area": null,
            "grid_template_columns": null,
            "flex": null,
            "_model_name": "LayoutModel",
            "justify_items": null,
            "grid_row": null,
            "max_height": null,
            "align_content": null,
            "visibility": null,
            "align_self": null,
            "height": null,
            "min_height": null,
            "padding": null,
            "grid_auto_rows": null,
            "grid_gap": null,
            "max_width": null,
            "order": null,
            "_view_module_version": "1.2.0",
            "grid_template_areas": null,
            "object_position": null,
            "object_fit": null,
            "grid_auto_columns": null,
            "margin": null,
            "display": null,
            "left": null
          }
        },
        "f38f13e9d2ad4d9c82dd090e49981a0d": {
          "model_module": "@jupyter-widgets/controls",
          "model_name": "FloatProgressModel",
          "state": {
            "_view_name": "ProgressView",
            "style": "IPY_MODEL_0f55953799cd4eb0919ab7d7dfa3a54d",
            "_dom_classes": [],
            "description": "Downloading: 100%",
            "_model_name": "FloatProgressModel",
            "bar_style": "success",
            "max": 2,
            "_view_module": "@jupyter-widgets/controls",
            "_model_module_version": "1.5.0",
            "value": 2,
            "_view_count": null,
            "_view_module_version": "1.5.0",
            "orientation": "horizontal",
            "min": 0,
            "description_tooltip": null,
            "_model_module": "@jupyter-widgets/controls",
            "layout": "IPY_MODEL_7e5e3533c2b445de901432b151b77ee2"
          }
        },
        "f5449383285f4baca76fa34d76e5cd76": {
          "model_module": "@jupyter-widgets/controls",
          "model_name": "HTMLModel",
          "state": {
            "_view_name": "HTMLView",
            "style": "IPY_MODEL_b126027fc1734311bd720048cc3032a1",
            "_dom_classes": [],
            "description": "",
            "_model_name": "HTMLModel",
            "placeholder": "​",
            "_view_module": "@jupyter-widgets/controls",
            "_model_module_version": "1.5.0",
            "value": " 2.00/2.00 [00:01&lt;00:00, 1.47B/s]",
            "_view_count": null,
            "_view_module_version": "1.5.0",
            "description_tooltip": null,
            "_model_module": "@jupyter-widgets/controls",
            "layout": "IPY_MODEL_fba7bcb81e3d4c1eb4a3570c75c088fe"
          }
        },
        "0f55953799cd4eb0919ab7d7dfa3a54d": {
          "model_module": "@jupyter-widgets/controls",
          "model_name": "ProgressStyleModel",
          "state": {
            "_view_name": "StyleView",
            "_model_name": "ProgressStyleModel",
            "description_width": "initial",
            "_view_module": "@jupyter-widgets/base",
            "_model_module_version": "1.5.0",
            "_view_count": null,
            "_view_module_version": "1.2.0",
            "bar_color": null,
            "_model_module": "@jupyter-widgets/controls"
          }
        },
        "7e5e3533c2b445de901432b151b77ee2": {
          "model_module": "@jupyter-widgets/base",
          "model_name": "LayoutModel",
          "state": {
            "_view_name": "LayoutView",
            "grid_template_rows": null,
            "right": null,
            "justify_content": null,
            "_view_module": "@jupyter-widgets/base",
            "overflow": null,
            "_model_module_version": "1.2.0",
            "_view_count": null,
            "flex_flow": null,
            "width": null,
            "min_width": null,
            "border": null,
            "align_items": null,
            "bottom": null,
            "_model_module": "@jupyter-widgets/base",
            "top": null,
            "grid_column": null,
            "overflow_y": null,
            "overflow_x": null,
            "grid_auto_flow": null,
            "grid_area": null,
            "grid_template_columns": null,
            "flex": null,
            "_model_name": "LayoutModel",
            "justify_items": null,
            "grid_row": null,
            "max_height": null,
            "align_content": null,
            "visibility": null,
            "align_self": null,
            "height": null,
            "min_height": null,
            "padding": null,
            "grid_auto_rows": null,
            "grid_gap": null,
            "max_width": null,
            "order": null,
            "_view_module_version": "1.2.0",
            "grid_template_areas": null,
            "object_position": null,
            "object_fit": null,
            "grid_auto_columns": null,
            "margin": null,
            "display": null,
            "left": null
          }
        },
        "b126027fc1734311bd720048cc3032a1": {
          "model_module": "@jupyter-widgets/controls",
          "model_name": "DescriptionStyleModel",
          "state": {
            "_view_name": "StyleView",
            "_model_name": "DescriptionStyleModel",
            "description_width": "",
            "_view_module": "@jupyter-widgets/base",
            "_model_module_version": "1.5.0",
            "_view_count": null,
            "_view_module_version": "1.2.0",
            "_model_module": "@jupyter-widgets/controls"
          }
        },
        "fba7bcb81e3d4c1eb4a3570c75c088fe": {
          "model_module": "@jupyter-widgets/base",
          "model_name": "LayoutModel",
          "state": {
            "_view_name": "LayoutView",
            "grid_template_rows": null,
            "right": null,
            "justify_content": null,
            "_view_module": "@jupyter-widgets/base",
            "overflow": null,
            "_model_module_version": "1.2.0",
            "_view_count": null,
            "flex_flow": null,
            "width": null,
            "min_width": null,
            "border": null,
            "align_items": null,
            "bottom": null,
            "_model_module": "@jupyter-widgets/base",
            "top": null,
            "grid_column": null,
            "overflow_y": null,
            "overflow_x": null,
            "grid_auto_flow": null,
            "grid_area": null,
            "grid_template_columns": null,
            "flex": null,
            "_model_name": "LayoutModel",
            "justify_items": null,
            "grid_row": null,
            "max_height": null,
            "align_content": null,
            "visibility": null,
            "align_self": null,
            "height": null,
            "min_height": null,
            "padding": null,
            "grid_auto_rows": null,
            "grid_gap": null,
            "max_width": null,
            "order": null,
            "_view_module_version": "1.2.0",
            "grid_template_areas": null,
            "object_position": null,
            "object_fit": null,
            "grid_auto_columns": null,
            "margin": null,
            "display": null,
            "left": null
          }
        },
        "57f037942cb7421fa18b616ee80084b1": {
          "model_module": "@jupyter-widgets/controls",
          "model_name": "HBoxModel",
          "state": {
            "_view_name": "HBoxView",
            "_dom_classes": [],
            "_model_name": "HBoxModel",
            "_view_module": "@jupyter-widgets/controls",
            "_model_module_version": "1.5.0",
            "_view_count": null,
            "_view_module_version": "1.5.0",
            "box_style": "",
            "layout": "IPY_MODEL_172c54c9f2994a1f930ef6c14f97e172",
            "_model_module": "@jupyter-widgets/controls",
            "children": [
              "IPY_MODEL_1d571a40335e4548b905e30379c3ab0e",
              "IPY_MODEL_532eea0df82c46af9ac21273ae366f2d"
            ]
          }
        },
        "172c54c9f2994a1f930ef6c14f97e172": {
          "model_module": "@jupyter-widgets/base",
          "model_name": "LayoutModel",
          "state": {
            "_view_name": "LayoutView",
            "grid_template_rows": null,
            "right": null,
            "justify_content": null,
            "_view_module": "@jupyter-widgets/base",
            "overflow": null,
            "_model_module_version": "1.2.0",
            "_view_count": null,
            "flex_flow": null,
            "width": null,
            "min_width": null,
            "border": null,
            "align_items": null,
            "bottom": null,
            "_model_module": "@jupyter-widgets/base",
            "top": null,
            "grid_column": null,
            "overflow_y": null,
            "overflow_x": null,
            "grid_auto_flow": null,
            "grid_area": null,
            "grid_template_columns": null,
            "flex": null,
            "_model_name": "LayoutModel",
            "justify_items": null,
            "grid_row": null,
            "max_height": null,
            "align_content": null,
            "visibility": null,
            "align_self": null,
            "height": null,
            "min_height": null,
            "padding": null,
            "grid_auto_rows": null,
            "grid_gap": null,
            "max_width": null,
            "order": null,
            "_view_module_version": "1.2.0",
            "grid_template_areas": null,
            "object_position": null,
            "object_fit": null,
            "grid_auto_columns": null,
            "margin": null,
            "display": null,
            "left": null
          }
        },
        "1d571a40335e4548b905e30379c3ab0e": {
          "model_module": "@jupyter-widgets/controls",
          "model_name": "FloatProgressModel",
          "state": {
            "_view_name": "ProgressView",
            "style": "IPY_MODEL_c52deb3140d14d1b906d8aab9cf7f8ec",
            "_dom_classes": [],
            "description": "Downloading: 100%",
            "_model_name": "FloatProgressModel",
            "bar_style": "success",
            "max": 112,
            "_view_module": "@jupyter-widgets/controls",
            "_model_module_version": "1.5.0",
            "value": 112,
            "_view_count": null,
            "_view_module_version": "1.5.0",
            "orientation": "horizontal",
            "min": 0,
            "description_tooltip": null,
            "_model_module": "@jupyter-widgets/controls",
            "layout": "IPY_MODEL_193e92ccd273460faa99dde40c544daa"
          }
        },
        "532eea0df82c46af9ac21273ae366f2d": {
          "model_module": "@jupyter-widgets/controls",
          "model_name": "HTMLModel",
          "state": {
            "_view_name": "HTMLView",
            "style": "IPY_MODEL_f1f9a1cc3bec4465b929b62607ba74d2",
            "_dom_classes": [],
            "description": "",
            "_model_name": "HTMLModel",
            "placeholder": "​",
            "_view_module": "@jupyter-widgets/controls",
            "_model_module_version": "1.5.0",
            "value": " 112/112 [00:00&lt;00:00, 165B/s]",
            "_view_count": null,
            "_view_module_version": "1.5.0",
            "description_tooltip": null,
            "_model_module": "@jupyter-widgets/controls",
            "layout": "IPY_MODEL_7fd5b02d158a436b9764c743860f24f5"
          }
        },
        "c52deb3140d14d1b906d8aab9cf7f8ec": {
          "model_module": "@jupyter-widgets/controls",
          "model_name": "ProgressStyleModel",
          "state": {
            "_view_name": "StyleView",
            "_model_name": "ProgressStyleModel",
            "description_width": "initial",
            "_view_module": "@jupyter-widgets/base",
            "_model_module_version": "1.5.0",
            "_view_count": null,
            "_view_module_version": "1.2.0",
            "bar_color": null,
            "_model_module": "@jupyter-widgets/controls"
          }
        },
        "193e92ccd273460faa99dde40c544daa": {
          "model_module": "@jupyter-widgets/base",
          "model_name": "LayoutModel",
          "state": {
            "_view_name": "LayoutView",
            "grid_template_rows": null,
            "right": null,
            "justify_content": null,
            "_view_module": "@jupyter-widgets/base",
            "overflow": null,
            "_model_module_version": "1.2.0",
            "_view_count": null,
            "flex_flow": null,
            "width": null,
            "min_width": null,
            "border": null,
            "align_items": null,
            "bottom": null,
            "_model_module": "@jupyter-widgets/base",
            "top": null,
            "grid_column": null,
            "overflow_y": null,
            "overflow_x": null,
            "grid_auto_flow": null,
            "grid_area": null,
            "grid_template_columns": null,
            "flex": null,
            "_model_name": "LayoutModel",
            "justify_items": null,
            "grid_row": null,
            "max_height": null,
            "align_content": null,
            "visibility": null,
            "align_self": null,
            "height": null,
            "min_height": null,
            "padding": null,
            "grid_auto_rows": null,
            "grid_gap": null,
            "max_width": null,
            "order": null,
            "_view_module_version": "1.2.0",
            "grid_template_areas": null,
            "object_position": null,
            "object_fit": null,
            "grid_auto_columns": null,
            "margin": null,
            "display": null,
            "left": null
          }
        },
        "f1f9a1cc3bec4465b929b62607ba74d2": {
          "model_module": "@jupyter-widgets/controls",
          "model_name": "DescriptionStyleModel",
          "state": {
            "_view_name": "StyleView",
            "_model_name": "DescriptionStyleModel",
            "description_width": "",
            "_view_module": "@jupyter-widgets/base",
            "_model_module_version": "1.5.0",
            "_view_count": null,
            "_view_module_version": "1.2.0",
            "_model_module": "@jupyter-widgets/controls"
          }
        },
        "7fd5b02d158a436b9764c743860f24f5": {
          "model_module": "@jupyter-widgets/base",
          "model_name": "LayoutModel",
          "state": {
            "_view_name": "LayoutView",
            "grid_template_rows": null,
            "right": null,
            "justify_content": null,
            "_view_module": "@jupyter-widgets/base",
            "overflow": null,
            "_model_module_version": "1.2.0",
            "_view_count": null,
            "flex_flow": null,
            "width": null,
            "min_width": null,
            "border": null,
            "align_items": null,
            "bottom": null,
            "_model_module": "@jupyter-widgets/base",
            "top": null,
            "grid_column": null,
            "overflow_y": null,
            "overflow_x": null,
            "grid_auto_flow": null,
            "grid_area": null,
            "grid_template_columns": null,
            "flex": null,
            "_model_name": "LayoutModel",
            "justify_items": null,
            "grid_row": null,
            "max_height": null,
            "align_content": null,
            "visibility": null,
            "align_self": null,
            "height": null,
            "min_height": null,
            "padding": null,
            "grid_auto_rows": null,
            "grid_gap": null,
            "max_width": null,
            "order": null,
            "_view_module_version": "1.2.0",
            "grid_template_areas": null,
            "object_position": null,
            "object_fit": null,
            "grid_auto_columns": null,
            "margin": null,
            "display": null,
            "left": null
          }
        },
        "d11d0b4d2697492e8452a22586d79ee1": {
          "model_module": "@jupyter-widgets/controls",
          "model_name": "HBoxModel",
          "state": {
            "_view_name": "HBoxView",
            "_dom_classes": [],
            "_model_name": "HBoxModel",
            "_view_module": "@jupyter-widgets/controls",
            "_model_module_version": "1.5.0",
            "_view_count": null,
            "_view_module_version": "1.5.0",
            "box_style": "",
            "layout": "IPY_MODEL_5faa9deac2b34389acf55f9ec6277192",
            "_model_module": "@jupyter-widgets/controls",
            "children": [
              "IPY_MODEL_451354aa3e5a4faf948ae69cd237e93e",
              "IPY_MODEL_4839a50b26024efdb2a5b7ea2fdb3caa"
            ]
          }
        },
        "5faa9deac2b34389acf55f9ec6277192": {
          "model_module": "@jupyter-widgets/base",
          "model_name": "LayoutModel",
          "state": {
            "_view_name": "LayoutView",
            "grid_template_rows": null,
            "right": null,
            "justify_content": null,
            "_view_module": "@jupyter-widgets/base",
            "overflow": null,
            "_model_module_version": "1.2.0",
            "_view_count": null,
            "flex_flow": null,
            "width": null,
            "min_width": null,
            "border": null,
            "align_items": null,
            "bottom": null,
            "_model_module": "@jupyter-widgets/base",
            "top": null,
            "grid_column": null,
            "overflow_y": null,
            "overflow_x": null,
            "grid_auto_flow": null,
            "grid_area": null,
            "grid_template_columns": null,
            "flex": null,
            "_model_name": "LayoutModel",
            "justify_items": null,
            "grid_row": null,
            "max_height": null,
            "align_content": null,
            "visibility": null,
            "align_self": null,
            "height": null,
            "min_height": null,
            "padding": null,
            "grid_auto_rows": null,
            "grid_gap": null,
            "max_width": null,
            "order": null,
            "_view_module_version": "1.2.0",
            "grid_template_areas": null,
            "object_position": null,
            "object_fit": null,
            "grid_auto_columns": null,
            "margin": null,
            "display": null,
            "left": null
          }
        },
        "451354aa3e5a4faf948ae69cd237e93e": {
          "model_module": "@jupyter-widgets/controls",
          "model_name": "FloatProgressModel",
          "state": {
            "_view_name": "ProgressView",
            "style": "IPY_MODEL_371d633fd7114f19bd6996d299dae30f",
            "_dom_classes": [],
            "description": "Downloading: 100%",
            "_model_name": "FloatProgressModel",
            "bar_style": "success",
            "max": 438235074,
            "_view_module": "@jupyter-widgets/controls",
            "_model_module_version": "1.5.0",
            "value": 438235074,
            "_view_count": null,
            "_view_module_version": "1.5.0",
            "orientation": "horizontal",
            "min": 0,
            "description_tooltip": null,
            "_model_module": "@jupyter-widgets/controls",
            "layout": "IPY_MODEL_a4f98f0556b64f1ebcfe9af1fbb6b029"
          }
        },
        "4839a50b26024efdb2a5b7ea2fdb3caa": {
          "model_module": "@jupyter-widgets/controls",
          "model_name": "HTMLModel",
          "state": {
            "_view_name": "HTMLView",
            "style": "IPY_MODEL_214f94c60ce849ebb202e45b5568cc6d",
            "_dom_classes": [],
            "description": "",
            "_model_name": "HTMLModel",
            "placeholder": "​",
            "_view_module": "@jupyter-widgets/controls",
            "_model_module_version": "1.5.0",
            "value": " 438M/438M [00:09&lt;00:00, 44.4MB/s]",
            "_view_count": null,
            "_view_module_version": "1.5.0",
            "description_tooltip": null,
            "_model_module": "@jupyter-widgets/controls",
            "layout": "IPY_MODEL_f3fb183ee3714380ad8e280840781c2d"
          }
        },
        "371d633fd7114f19bd6996d299dae30f": {
          "model_module": "@jupyter-widgets/controls",
          "model_name": "ProgressStyleModel",
          "state": {
            "_view_name": "StyleView",
            "_model_name": "ProgressStyleModel",
            "description_width": "initial",
            "_view_module": "@jupyter-widgets/base",
            "_model_module_version": "1.5.0",
            "_view_count": null,
            "_view_module_version": "1.2.0",
            "bar_color": null,
            "_model_module": "@jupyter-widgets/controls"
          }
        },
        "a4f98f0556b64f1ebcfe9af1fbb6b029": {
          "model_module": "@jupyter-widgets/base",
          "model_name": "LayoutModel",
          "state": {
            "_view_name": "LayoutView",
            "grid_template_rows": null,
            "right": null,
            "justify_content": null,
            "_view_module": "@jupyter-widgets/base",
            "overflow": null,
            "_model_module_version": "1.2.0",
            "_view_count": null,
            "flex_flow": null,
            "width": null,
            "min_width": null,
            "border": null,
            "align_items": null,
            "bottom": null,
            "_model_module": "@jupyter-widgets/base",
            "top": null,
            "grid_column": null,
            "overflow_y": null,
            "overflow_x": null,
            "grid_auto_flow": null,
            "grid_area": null,
            "grid_template_columns": null,
            "flex": null,
            "_model_name": "LayoutModel",
            "justify_items": null,
            "grid_row": null,
            "max_height": null,
            "align_content": null,
            "visibility": null,
            "align_self": null,
            "height": null,
            "min_height": null,
            "padding": null,
            "grid_auto_rows": null,
            "grid_gap": null,
            "max_width": null,
            "order": null,
            "_view_module_version": "1.2.0",
            "grid_template_areas": null,
            "object_position": null,
            "object_fit": null,
            "grid_auto_columns": null,
            "margin": null,
            "display": null,
            "left": null
          }
        },
        "214f94c60ce849ebb202e45b5568cc6d": {
          "model_module": "@jupyter-widgets/controls",
          "model_name": "DescriptionStyleModel",
          "state": {
            "_view_name": "StyleView",
            "_model_name": "DescriptionStyleModel",
            "description_width": "",
            "_view_module": "@jupyter-widgets/base",
            "_model_module_version": "1.5.0",
            "_view_count": null,
            "_view_module_version": "1.2.0",
            "_model_module": "@jupyter-widgets/controls"
          }
        },
        "f3fb183ee3714380ad8e280840781c2d": {
          "model_module": "@jupyter-widgets/base",
          "model_name": "LayoutModel",
          "state": {
            "_view_name": "LayoutView",
            "grid_template_rows": null,
            "right": null,
            "justify_content": null,
            "_view_module": "@jupyter-widgets/base",
            "overflow": null,
            "_model_module_version": "1.2.0",
            "_view_count": null,
            "flex_flow": null,
            "width": null,
            "min_width": null,
            "border": null,
            "align_items": null,
            "bottom": null,
            "_model_module": "@jupyter-widgets/base",
            "top": null,
            "grid_column": null,
            "overflow_y": null,
            "overflow_x": null,
            "grid_auto_flow": null,
            "grid_area": null,
            "grid_template_columns": null,
            "flex": null,
            "_model_name": "LayoutModel",
            "justify_items": null,
            "grid_row": null,
            "max_height": null,
            "align_content": null,
            "visibility": null,
            "align_self": null,
            "height": null,
            "min_height": null,
            "padding": null,
            "grid_auto_rows": null,
            "grid_gap": null,
            "max_width": null,
            "order": null,
            "_view_module_version": "1.2.0",
            "grid_template_areas": null,
            "object_position": null,
            "object_fit": null,
            "grid_auto_columns": null,
            "margin": null,
            "display": null,
            "left": null
          }
        }
      }
    }
  },
  "cells": [
    {
      "cell_type": "markdown",
      "metadata": {
        "id": "view-in-github",
        "colab_type": "text"
      },
      "source": [
        "<a href=\"https://colab.research.google.com/github/HedersonSantos/Noticias/blob/main/BERT/BERTimbau_com_amostras.ipynb\" target=\"_parent\"><img src=\"https://colab.research.google.com/assets/colab-badge.svg\" alt=\"Open In Colab\"/></a>"
      ]
    },
    {
      "cell_type": "code",
      "metadata": {
        "colab": {
          "base_uri": "https://localhost:8080/"
        },
        "id": "SKMj5WG6lxGP",
        "outputId": "40005e17-e19e-429c-c7db-78c1d55ad1b9"
      },
      "source": [
        "! pip install transformers"
      ],
      "execution_count": 2,
      "outputs": [
        {
          "output_type": "stream",
          "text": [
            "Collecting transformers\n",
            "  Downloading transformers-4.9.1-py3-none-any.whl (2.6 MB)\n",
            "\u001b[?25l\r\u001b[K     |▏                               | 10 kB 37.1 MB/s eta 0:00:01\r\u001b[K     |▎                               | 20 kB 32.4 MB/s eta 0:00:01\r\u001b[K     |▍                               | 30 kB 18.5 MB/s eta 0:00:01\r\u001b[K     |▌                               | 40 kB 16.3 MB/s eta 0:00:01\r\u001b[K     |▋                               | 51 kB 7.0 MB/s eta 0:00:01\r\u001b[K     |▊                               | 61 kB 7.4 MB/s eta 0:00:01\r\u001b[K     |▉                               | 71 kB 6.7 MB/s eta 0:00:01\r\u001b[K     |█                               | 81 kB 7.5 MB/s eta 0:00:01\r\u001b[K     |█▏                              | 92 kB 7.5 MB/s eta 0:00:01\r\u001b[K     |█▎                              | 102 kB 6.7 MB/s eta 0:00:01\r\u001b[K     |█▍                              | 112 kB 6.7 MB/s eta 0:00:01\r\u001b[K     |█▌                              | 122 kB 6.7 MB/s eta 0:00:01\r\u001b[K     |█▋                              | 133 kB 6.7 MB/s eta 0:00:01\r\u001b[K     |█▊                              | 143 kB 6.7 MB/s eta 0:00:01\r\u001b[K     |██                              | 153 kB 6.7 MB/s eta 0:00:01\r\u001b[K     |██                              | 163 kB 6.7 MB/s eta 0:00:01\r\u001b[K     |██▏                             | 174 kB 6.7 MB/s eta 0:00:01\r\u001b[K     |██▎                             | 184 kB 6.7 MB/s eta 0:00:01\r\u001b[K     |██▍                             | 194 kB 6.7 MB/s eta 0:00:01\r\u001b[K     |██▌                             | 204 kB 6.7 MB/s eta 0:00:01\r\u001b[K     |██▋                             | 215 kB 6.7 MB/s eta 0:00:01\r\u001b[K     |██▉                             | 225 kB 6.7 MB/s eta 0:00:01\r\u001b[K     |███                             | 235 kB 6.7 MB/s eta 0:00:01\r\u001b[K     |███                             | 245 kB 6.7 MB/s eta 0:00:01\r\u001b[K     |███▏                            | 256 kB 6.7 MB/s eta 0:00:01\r\u001b[K     |███▎                            | 266 kB 6.7 MB/s eta 0:00:01\r\u001b[K     |███▍                            | 276 kB 6.7 MB/s eta 0:00:01\r\u001b[K     |███▌                            | 286 kB 6.7 MB/s eta 0:00:01\r\u001b[K     |███▊                            | 296 kB 6.7 MB/s eta 0:00:01\r\u001b[K     |███▉                            | 307 kB 6.7 MB/s eta 0:00:01\r\u001b[K     |████                            | 317 kB 6.7 MB/s eta 0:00:01\r\u001b[K     |████                            | 327 kB 6.7 MB/s eta 0:00:01\r\u001b[K     |████▏                           | 337 kB 6.7 MB/s eta 0:00:01\r\u001b[K     |████▎                           | 348 kB 6.7 MB/s eta 0:00:01\r\u001b[K     |████▍                           | 358 kB 6.7 MB/s eta 0:00:01\r\u001b[K     |████▋                           | 368 kB 6.7 MB/s eta 0:00:01\r\u001b[K     |████▊                           | 378 kB 6.7 MB/s eta 0:00:01\r\u001b[K     |████▉                           | 389 kB 6.7 MB/s eta 0:00:01\r\u001b[K     |█████                           | 399 kB 6.7 MB/s eta 0:00:01\r\u001b[K     |█████                           | 409 kB 6.7 MB/s eta 0:00:01\r\u001b[K     |█████▏                          | 419 kB 6.7 MB/s eta 0:00:01\r\u001b[K     |█████▎                          | 430 kB 6.7 MB/s eta 0:00:01\r\u001b[K     |█████▌                          | 440 kB 6.7 MB/s eta 0:00:01\r\u001b[K     |█████▋                          | 450 kB 6.7 MB/s eta 0:00:01\r\u001b[K     |█████▊                          | 460 kB 6.7 MB/s eta 0:00:01\r\u001b[K     |█████▉                          | 471 kB 6.7 MB/s eta 0:00:01\r\u001b[K     |██████                          | 481 kB 6.7 MB/s eta 0:00:01\r\u001b[K     |██████                          | 491 kB 6.7 MB/s eta 0:00:01\r\u001b[K     |██████▏                         | 501 kB 6.7 MB/s eta 0:00:01\r\u001b[K     |██████▍                         | 512 kB 6.7 MB/s eta 0:00:01\r\u001b[K     |██████▌                         | 522 kB 6.7 MB/s eta 0:00:01\r\u001b[K     |██████▋                         | 532 kB 6.7 MB/s eta 0:00:01\r\u001b[K     |██████▊                         | 542 kB 6.7 MB/s eta 0:00:01\r\u001b[K     |██████▉                         | 552 kB 6.7 MB/s eta 0:00:01\r\u001b[K     |███████                         | 563 kB 6.7 MB/s eta 0:00:01\r\u001b[K     |███████                         | 573 kB 6.7 MB/s eta 0:00:01\r\u001b[K     |███████▏                        | 583 kB 6.7 MB/s eta 0:00:01\r\u001b[K     |███████▍                        | 593 kB 6.7 MB/s eta 0:00:01\r\u001b[K     |███████▌                        | 604 kB 6.7 MB/s eta 0:00:01\r\u001b[K     |███████▋                        | 614 kB 6.7 MB/s eta 0:00:01\r\u001b[K     |███████▊                        | 624 kB 6.7 MB/s eta 0:00:01\r\u001b[K     |███████▉                        | 634 kB 6.7 MB/s eta 0:00:01\r\u001b[K     |████████                        | 645 kB 6.7 MB/s eta 0:00:01\r\u001b[K     |████████                        | 655 kB 6.7 MB/s eta 0:00:01\r\u001b[K     |████████▎                       | 665 kB 6.7 MB/s eta 0:00:01\r\u001b[K     |████████▍                       | 675 kB 6.7 MB/s eta 0:00:01\r\u001b[K     |████████▌                       | 686 kB 6.7 MB/s eta 0:00:01\r\u001b[K     |████████▋                       | 696 kB 6.7 MB/s eta 0:00:01\r\u001b[K     |████████▊                       | 706 kB 6.7 MB/s eta 0:00:01\r\u001b[K     |████████▉                       | 716 kB 6.7 MB/s eta 0:00:01\r\u001b[K     |█████████                       | 727 kB 6.7 MB/s eta 0:00:01\r\u001b[K     |█████████▏                      | 737 kB 6.7 MB/s eta 0:00:01\r\u001b[K     |█████████▎                      | 747 kB 6.7 MB/s eta 0:00:01\r\u001b[K     |█████████▍                      | 757 kB 6.7 MB/s eta 0:00:01\r\u001b[K     |█████████▌                      | 768 kB 6.7 MB/s eta 0:00:01\r\u001b[K     |█████████▋                      | 778 kB 6.7 MB/s eta 0:00:01\r\u001b[K     |█████████▊                      | 788 kB 6.7 MB/s eta 0:00:01\r\u001b[K     |█████████▉                      | 798 kB 6.7 MB/s eta 0:00:01\r\u001b[K     |██████████                      | 808 kB 6.7 MB/s eta 0:00:01\r\u001b[K     |██████████▏                     | 819 kB 6.7 MB/s eta 0:00:01\r\u001b[K     |██████████▎                     | 829 kB 6.7 MB/s eta 0:00:01\r\u001b[K     |██████████▍                     | 839 kB 6.7 MB/s eta 0:00:01\r\u001b[K     |██████████▌                     | 849 kB 6.7 MB/s eta 0:00:01\r\u001b[K     |██████████▋                     | 860 kB 6.7 MB/s eta 0:00:01\r\u001b[K     |██████████▊                     | 870 kB 6.7 MB/s eta 0:00:01\r\u001b[K     |███████████                     | 880 kB 6.7 MB/s eta 0:00:01\r\u001b[K     |███████████                     | 890 kB 6.7 MB/s eta 0:00:01\r\u001b[K     |███████████▏                    | 901 kB 6.7 MB/s eta 0:00:01\r\u001b[K     |███████████▎                    | 911 kB 6.7 MB/s eta 0:00:01\r\u001b[K     |███████████▍                    | 921 kB 6.7 MB/s eta 0:00:01\r\u001b[K     |███████████▌                    | 931 kB 6.7 MB/s eta 0:00:01\r\u001b[K     |███████████▋                    | 942 kB 6.7 MB/s eta 0:00:01\r\u001b[K     |███████████▉                    | 952 kB 6.7 MB/s eta 0:00:01\r\u001b[K     |████████████                    | 962 kB 6.7 MB/s eta 0:00:01\r\u001b[K     |████████████                    | 972 kB 6.7 MB/s eta 0:00:01\r\u001b[K     |████████████▏                   | 983 kB 6.7 MB/s eta 0:00:01\r\u001b[K     |████████████▎                   | 993 kB 6.7 MB/s eta 0:00:01\r\u001b[K     |████████████▍                   | 1.0 MB 6.7 MB/s eta 0:00:01\r\u001b[K     |████████████▌                   | 1.0 MB 6.7 MB/s eta 0:00:01\r\u001b[K     |████████████▊                   | 1.0 MB 6.7 MB/s eta 0:00:01\r\u001b[K     |████████████▉                   | 1.0 MB 6.7 MB/s eta 0:00:01\r\u001b[K     |█████████████                   | 1.0 MB 6.7 MB/s eta 0:00:01\r\u001b[K     |█████████████                   | 1.1 MB 6.7 MB/s eta 0:00:01\r\u001b[K     |█████████████▏                  | 1.1 MB 6.7 MB/s eta 0:00:01\r\u001b[K     |█████████████▎                  | 1.1 MB 6.7 MB/s eta 0:00:01\r\u001b[K     |█████████████▍                  | 1.1 MB 6.7 MB/s eta 0:00:01\r\u001b[K     |█████████████▌                  | 1.1 MB 6.7 MB/s eta 0:00:01\r\u001b[K     |█████████████▊                  | 1.1 MB 6.7 MB/s eta 0:00:01\r\u001b[K     |█████████████▉                  | 1.1 MB 6.7 MB/s eta 0:00:01\r\u001b[K     |██████████████                  | 1.1 MB 6.7 MB/s eta 0:00:01\r\u001b[K     |██████████████                  | 1.1 MB 6.7 MB/s eta 0:00:01\r\u001b[K     |██████████████▏                 | 1.1 MB 6.7 MB/s eta 0:00:01\r\u001b[K     |██████████████▎                 | 1.2 MB 6.7 MB/s eta 0:00:01\r\u001b[K     |██████████████▍                 | 1.2 MB 6.7 MB/s eta 0:00:01\r\u001b[K     |██████████████▋                 | 1.2 MB 6.7 MB/s eta 0:00:01\r\u001b[K     |██████████████▊                 | 1.2 MB 6.7 MB/s eta 0:00:01\r\u001b[K     |██████████████▉                 | 1.2 MB 6.7 MB/s eta 0:00:01\r\u001b[K     |███████████████                 | 1.2 MB 6.7 MB/s eta 0:00:01\r\u001b[K     |███████████████                 | 1.2 MB 6.7 MB/s eta 0:00:01\r\u001b[K     |███████████████▏                | 1.2 MB 6.7 MB/s eta 0:00:01\r\u001b[K     |███████████████▎                | 1.2 MB 6.7 MB/s eta 0:00:01\r\u001b[K     |███████████████▌                | 1.2 MB 6.7 MB/s eta 0:00:01\r\u001b[K     |███████████████▋                | 1.3 MB 6.7 MB/s eta 0:00:01\r\u001b[K     |███████████████▊                | 1.3 MB 6.7 MB/s eta 0:00:01\r\u001b[K     |███████████████▉                | 1.3 MB 6.7 MB/s eta 0:00:01\r\u001b[K     |████████████████                | 1.3 MB 6.7 MB/s eta 0:00:01\r\u001b[K     |████████████████                | 1.3 MB 6.7 MB/s eta 0:00:01\r\u001b[K     |████████████████▏               | 1.3 MB 6.7 MB/s eta 0:00:01\r\u001b[K     |████████████████▍               | 1.3 MB 6.7 MB/s eta 0:00:01\r\u001b[K     |████████████████▌               | 1.3 MB 6.7 MB/s eta 0:00:01\r\u001b[K     |████████████████▋               | 1.3 MB 6.7 MB/s eta 0:00:01\r\u001b[K     |████████████████▊               | 1.4 MB 6.7 MB/s eta 0:00:01\r\u001b[K     |████████████████▉               | 1.4 MB 6.7 MB/s eta 0:00:01\r\u001b[K     |█████████████████               | 1.4 MB 6.7 MB/s eta 0:00:01\r\u001b[K     |█████████████████               | 1.4 MB 6.7 MB/s eta 0:00:01\r\u001b[K     |█████████████████▎              | 1.4 MB 6.7 MB/s eta 0:00:01\r\u001b[K     |█████████████████▍              | 1.4 MB 6.7 MB/s eta 0:00:01\r\u001b[K     |█████████████████▌              | 1.4 MB 6.7 MB/s eta 0:00:01\r\u001b[K     |█████████████████▋              | 1.4 MB 6.7 MB/s eta 0:00:01\r\u001b[K     |█████████████████▊              | 1.4 MB 6.7 MB/s eta 0:00:01\r\u001b[K     |█████████████████▉              | 1.4 MB 6.7 MB/s eta 0:00:01\r\u001b[K     |██████████████████              | 1.5 MB 6.7 MB/s eta 0:00:01\r\u001b[K     |██████████████████▏             | 1.5 MB 6.7 MB/s eta 0:00:01\r\u001b[K     |██████████████████▎             | 1.5 MB 6.7 MB/s eta 0:00:01\r\u001b[K     |██████████████████▍             | 1.5 MB 6.7 MB/s eta 0:00:01\r\u001b[K     |██████████████████▌             | 1.5 MB 6.7 MB/s eta 0:00:01\r\u001b[K     |██████████████████▋             | 1.5 MB 6.7 MB/s eta 0:00:01\r\u001b[K     |██████████████████▊             | 1.5 MB 6.7 MB/s eta 0:00:01\r\u001b[K     |██████████████████▉             | 1.5 MB 6.7 MB/s eta 0:00:01\r\u001b[K     |███████████████████             | 1.5 MB 6.7 MB/s eta 0:00:01\r\u001b[K     |███████████████████▏            | 1.5 MB 6.7 MB/s eta 0:00:01\r\u001b[K     |███████████████████▎            | 1.6 MB 6.7 MB/s eta 0:00:01\r\u001b[K     |███████████████████▍            | 1.6 MB 6.7 MB/s eta 0:00:01\r\u001b[K     |███████████████████▌            | 1.6 MB 6.7 MB/s eta 0:00:01\r\u001b[K     |███████████████████▋            | 1.6 MB 6.7 MB/s eta 0:00:01\r\u001b[K     |███████████████████▊            | 1.6 MB 6.7 MB/s eta 0:00:01\r\u001b[K     |███████████████████▉            | 1.6 MB 6.7 MB/s eta 0:00:01\r\u001b[K     |████████████████████            | 1.6 MB 6.7 MB/s eta 0:00:01\r\u001b[K     |████████████████████▏           | 1.6 MB 6.7 MB/s eta 0:00:01\r\u001b[K     |████████████████████▎           | 1.6 MB 6.7 MB/s eta 0:00:01\r\u001b[K     |████████████████████▍           | 1.6 MB 6.7 MB/s eta 0:00:01\r\u001b[K     |████████████████████▌           | 1.7 MB 6.7 MB/s eta 0:00:01\r\u001b[K     |████████████████████▋           | 1.7 MB 6.7 MB/s eta 0:00:01\r\u001b[K     |████████████████████▊           | 1.7 MB 6.7 MB/s eta 0:00:01\r\u001b[K     |█████████████████████           | 1.7 MB 6.7 MB/s eta 0:00:01\r\u001b[K     |█████████████████████           | 1.7 MB 6.7 MB/s eta 0:00:01\r\u001b[K     |█████████████████████▏          | 1.7 MB 6.7 MB/s eta 0:00:01\r\u001b[K     |█████████████████████▎          | 1.7 MB 6.7 MB/s eta 0:00:01\r\u001b[K     |█████████████████████▍          | 1.7 MB 6.7 MB/s eta 0:00:01\r\u001b[K     |█████████████████████▌          | 1.7 MB 6.7 MB/s eta 0:00:01\r\u001b[K     |█████████████████████▋          | 1.8 MB 6.7 MB/s eta 0:00:01\r\u001b[K     |█████████████████████▉          | 1.8 MB 6.7 MB/s eta 0:00:01\r\u001b[K     |██████████████████████          | 1.8 MB 6.7 MB/s eta 0:00:01\r\u001b[K     |██████████████████████          | 1.8 MB 6.7 MB/s eta 0:00:01\r\u001b[K     |██████████████████████▏         | 1.8 MB 6.7 MB/s eta 0:00:01\r\u001b[K     |██████████████████████▎         | 1.8 MB 6.7 MB/s eta 0:00:01\r\u001b[K     |██████████████████████▍         | 1.8 MB 6.7 MB/s eta 0:00:01\r\u001b[K     |██████████████████████▌         | 1.8 MB 6.7 MB/s eta 0:00:01\r\u001b[K     |██████████████████████▊         | 1.8 MB 6.7 MB/s eta 0:00:01\r\u001b[K     |██████████████████████▉         | 1.8 MB 6.7 MB/s eta 0:00:01\r\u001b[K     |███████████████████████         | 1.9 MB 6.7 MB/s eta 0:00:01\r\u001b[K     |███████████████████████         | 1.9 MB 6.7 MB/s eta 0:00:01\r\u001b[K     |███████████████████████▏        | 1.9 MB 6.7 MB/s eta 0:00:01\r\u001b[K     |███████████████████████▎        | 1.9 MB 6.7 MB/s eta 0:00:01\r\u001b[K     |███████████████████████▍        | 1.9 MB 6.7 MB/s eta 0:00:01\r\u001b[K     |███████████████████████▋        | 1.9 MB 6.7 MB/s eta 0:00:01\r\u001b[K     |███████████████████████▊        | 1.9 MB 6.7 MB/s eta 0:00:01\r\u001b[K     |███████████████████████▉        | 1.9 MB 6.7 MB/s eta 0:00:01\r\u001b[K     |████████████████████████        | 1.9 MB 6.7 MB/s eta 0:00:01\r\u001b[K     |████████████████████████        | 1.9 MB 6.7 MB/s eta 0:00:01\r\u001b[K     |████████████████████████▏       | 2.0 MB 6.7 MB/s eta 0:00:01\r\u001b[K     |████████████████████████▎       | 2.0 MB 6.7 MB/s eta 0:00:01\r\u001b[K     |████████████████████████▌       | 2.0 MB 6.7 MB/s eta 0:00:01\r\u001b[K     |████████████████████████▋       | 2.0 MB 6.7 MB/s eta 0:00:01\r\u001b[K     |████████████████████████▊       | 2.0 MB 6.7 MB/s eta 0:00:01\r\u001b[K     |████████████████████████▉       | 2.0 MB 6.7 MB/s eta 0:00:01\r\u001b[K     |█████████████████████████       | 2.0 MB 6.7 MB/s eta 0:00:01\r\u001b[K     |█████████████████████████       | 2.0 MB 6.7 MB/s eta 0:00:01\r\u001b[K     |█████████████████████████▏      | 2.0 MB 6.7 MB/s eta 0:00:01\r\u001b[K     |█████████████████████████▍      | 2.0 MB 6.7 MB/s eta 0:00:01\r\u001b[K     |█████████████████████████▌      | 2.1 MB 6.7 MB/s eta 0:00:01\r\u001b[K     |█████████████████████████▋      | 2.1 MB 6.7 MB/s eta 0:00:01\r\u001b[K     |█████████████████████████▊      | 2.1 MB 6.7 MB/s eta 0:00:01\r\u001b[K     |█████████████████████████▉      | 2.1 MB 6.7 MB/s eta 0:00:01\r\u001b[K     |██████████████████████████      | 2.1 MB 6.7 MB/s eta 0:00:01\r\u001b[K     |██████████████████████████      | 2.1 MB 6.7 MB/s eta 0:00:01\r\u001b[K     |██████████████████████████▏     | 2.1 MB 6.7 MB/s eta 0:00:01\r\u001b[K     |██████████████████████████▍     | 2.1 MB 6.7 MB/s eta 0:00:01\r\u001b[K     |██████████████████████████▌     | 2.1 MB 6.7 MB/s eta 0:00:01\r\u001b[K     |██████████████████████████▋     | 2.2 MB 6.7 MB/s eta 0:00:01\r\u001b[K     |██████████████████████████▊     | 2.2 MB 6.7 MB/s eta 0:00:01\r\u001b[K     |██████████████████████████▉     | 2.2 MB 6.7 MB/s eta 0:00:01\r\u001b[K     |███████████████████████████     | 2.2 MB 6.7 MB/s eta 0:00:01\r\u001b[K     |███████████████████████████     | 2.2 MB 6.7 MB/s eta 0:00:01\r\u001b[K     |███████████████████████████▎    | 2.2 MB 6.7 MB/s eta 0:00:01\r\u001b[K     |███████████████████████████▍    | 2.2 MB 6.7 MB/s eta 0:00:01\r\u001b[K     |███████████████████████████▌    | 2.2 MB 6.7 MB/s eta 0:00:01\r\u001b[K     |███████████████████████████▋    | 2.2 MB 6.7 MB/s eta 0:00:01\r\u001b[K     |███████████████████████████▊    | 2.2 MB 6.7 MB/s eta 0:00:01\r\u001b[K     |███████████████████████████▉    | 2.3 MB 6.7 MB/s eta 0:00:01\r\u001b[K     |████████████████████████████    | 2.3 MB 6.7 MB/s eta 0:00:01\r\u001b[K     |████████████████████████████▏   | 2.3 MB 6.7 MB/s eta 0:00:01\r\u001b[K     |████████████████████████████▎   | 2.3 MB 6.7 MB/s eta 0:00:01\r\u001b[K     |████████████████████████████▍   | 2.3 MB 6.7 MB/s eta 0:00:01\r\u001b[K     |████████████████████████████▌   | 2.3 MB 6.7 MB/s eta 0:00:01\r\u001b[K     |████████████████████████████▋   | 2.3 MB 6.7 MB/s eta 0:00:01\r\u001b[K     |████████████████████████████▊   | 2.3 MB 6.7 MB/s eta 0:00:01\r\u001b[K     |████████████████████████████▉   | 2.3 MB 6.7 MB/s eta 0:00:01\r\u001b[K     |█████████████████████████████   | 2.3 MB 6.7 MB/s eta 0:00:01\r\u001b[K     |█████████████████████████████▏  | 2.4 MB 6.7 MB/s eta 0:00:01\r\u001b[K     |█████████████████████████████▎  | 2.4 MB 6.7 MB/s eta 0:00:01\r\u001b[K     |█████████████████████████████▍  | 2.4 MB 6.7 MB/s eta 0:00:01\r\u001b[K     |█████████████████████████████▌  | 2.4 MB 6.7 MB/s eta 0:00:01\r\u001b[K     |█████████████████████████████▋  | 2.4 MB 6.7 MB/s eta 0:00:01\r\u001b[K     |█████████████████████████████▊  | 2.4 MB 6.7 MB/s eta 0:00:01\r\u001b[K     |██████████████████████████████  | 2.4 MB 6.7 MB/s eta 0:00:01\r\u001b[K     |██████████████████████████████  | 2.4 MB 6.7 MB/s eta 0:00:01\r\u001b[K     |██████████████████████████████▏ | 2.4 MB 6.7 MB/s eta 0:00:01\r\u001b[K     |██████████████████████████████▎ | 2.4 MB 6.7 MB/s eta 0:00:01\r\u001b[K     |██████████████████████████████▍ | 2.5 MB 6.7 MB/s eta 0:00:01\r\u001b[K     |██████████████████████████████▌ | 2.5 MB 6.7 MB/s eta 0:00:01\r\u001b[K     |██████████████████████████████▋ | 2.5 MB 6.7 MB/s eta 0:00:01\r\u001b[K     |██████████████████████████████▉ | 2.5 MB 6.7 MB/s eta 0:00:01\r\u001b[K     |███████████████████████████████ | 2.5 MB 6.7 MB/s eta 0:00:01\r\u001b[K     |███████████████████████████████ | 2.5 MB 6.7 MB/s eta 0:00:01\r\u001b[K     |███████████████████████████████▏| 2.5 MB 6.7 MB/s eta 0:00:01\r\u001b[K     |███████████████████████████████▎| 2.5 MB 6.7 MB/s eta 0:00:01\r\u001b[K     |███████████████████████████████▍| 2.5 MB 6.7 MB/s eta 0:00:01\r\u001b[K     |███████████████████████████████▌| 2.5 MB 6.7 MB/s eta 0:00:01\r\u001b[K     |███████████████████████████████▊| 2.6 MB 6.7 MB/s eta 0:00:01\r\u001b[K     |███████████████████████████████▉| 2.6 MB 6.7 MB/s eta 0:00:01\r\u001b[K     |████████████████████████████████| 2.6 MB 6.7 MB/s eta 0:00:01\r\u001b[K     |████████████████████████████████| 2.6 MB 6.7 MB/s \n",
            "\u001b[?25hCollecting huggingface-hub==0.0.12\n",
            "  Downloading huggingface_hub-0.0.12-py3-none-any.whl (37 kB)\n",
            "Requirement already satisfied: packaging in /usr/local/lib/python3.7/dist-packages (from transformers) (21.0)\n",
            "Collecting tokenizers<0.11,>=0.10.1\n",
            "  Downloading tokenizers-0.10.3-cp37-cp37m-manylinux_2_5_x86_64.manylinux1_x86_64.manylinux_2_12_x86_64.manylinux2010_x86_64.whl (3.3 MB)\n",
            "\u001b[K     |████████████████████████████████| 3.3 MB 54.9 MB/s \n",
            "\u001b[?25hCollecting pyyaml>=5.1\n",
            "  Downloading PyYAML-5.4.1-cp37-cp37m-manylinux1_x86_64.whl (636 kB)\n",
            "\u001b[K     |████████████████████████████████| 636 kB 61.2 MB/s \n",
            "\u001b[?25hRequirement already satisfied: regex!=2019.12.17 in /usr/local/lib/python3.7/dist-packages (from transformers) (2019.12.20)\n",
            "Requirement already satisfied: requests in /usr/local/lib/python3.7/dist-packages (from transformers) (2.23.0)\n",
            "Collecting sacremoses\n",
            "  Downloading sacremoses-0.0.45-py3-none-any.whl (895 kB)\n",
            "\u001b[K     |████████████████████████████████| 895 kB 76.1 MB/s \n",
            "\u001b[?25hRequirement already satisfied: numpy>=1.17 in /usr/local/lib/python3.7/dist-packages (from transformers) (1.19.5)\n",
            "Requirement already satisfied: filelock in /usr/local/lib/python3.7/dist-packages (from transformers) (3.0.12)\n",
            "Requirement already satisfied: tqdm>=4.27 in /usr/local/lib/python3.7/dist-packages (from transformers) (4.41.1)\n",
            "Requirement already satisfied: importlib-metadata in /usr/local/lib/python3.7/dist-packages (from transformers) (4.6.1)\n",
            "Requirement already satisfied: typing-extensions in /usr/local/lib/python3.7/dist-packages (from huggingface-hub==0.0.12->transformers) (3.7.4.3)\n",
            "Requirement already satisfied: pyparsing>=2.0.2 in /usr/local/lib/python3.7/dist-packages (from packaging->transformers) (2.4.7)\n",
            "Requirement already satisfied: zipp>=0.5 in /usr/local/lib/python3.7/dist-packages (from importlib-metadata->transformers) (3.5.0)\n",
            "Requirement already satisfied: certifi>=2017.4.17 in /usr/local/lib/python3.7/dist-packages (from requests->transformers) (2021.5.30)\n",
            "Requirement already satisfied: idna<3,>=2.5 in /usr/local/lib/python3.7/dist-packages (from requests->transformers) (2.10)\n",
            "Requirement already satisfied: chardet<4,>=3.0.2 in /usr/local/lib/python3.7/dist-packages (from requests->transformers) (3.0.4)\n",
            "Requirement already satisfied: urllib3!=1.25.0,!=1.25.1,<1.26,>=1.21.1 in /usr/local/lib/python3.7/dist-packages (from requests->transformers) (1.24.3)\n",
            "Requirement already satisfied: joblib in /usr/local/lib/python3.7/dist-packages (from sacremoses->transformers) (1.0.1)\n",
            "Requirement already satisfied: six in /usr/local/lib/python3.7/dist-packages (from sacremoses->transformers) (1.15.0)\n",
            "Requirement already satisfied: click in /usr/local/lib/python3.7/dist-packages (from sacremoses->transformers) (7.1.2)\n",
            "Installing collected packages: tokenizers, sacremoses, pyyaml, huggingface-hub, transformers\n",
            "  Attempting uninstall: pyyaml\n",
            "    Found existing installation: PyYAML 3.13\n",
            "    Uninstalling PyYAML-3.13:\n",
            "      Successfully uninstalled PyYAML-3.13\n",
            "Successfully installed huggingface-hub-0.0.12 pyyaml-5.4.1 sacremoses-0.0.45 tokenizers-0.10.3 transformers-4.9.1\n"
          ],
          "name": "stdout"
        }
      ]
    },
    {
      "cell_type": "code",
      "metadata": {
        "id": "fIlZbdsGo_vR",
        "colab": {
          "base_uri": "https://localhost:8080/"
        },
        "outputId": "55dd2d39-374c-48bb-99b1-162b792723fc"
      },
      "source": [
        "\n",
        "!pip install torch==1.8.1 torchvision==0.9.1 torchaudio==0.8.\n"
      ],
      "execution_count": 3,
      "outputs": [
        {
          "output_type": "stream",
          "text": [
            "Collecting torch==1.8.1\n",
            "  Downloading torch-1.8.1-cp37-cp37m-manylinux1_x86_64.whl (804.1 MB)\n",
            "\u001b[K     |████████████████████████████████| 804.1 MB 2.7 kB/s \n",
            "\u001b[?25hCollecting torchvision==0.9.1\n",
            "  Downloading torchvision-0.9.1-cp37-cp37m-manylinux1_x86_64.whl (17.4 MB)\n",
            "\u001b[K     |████████████████████████████████| 17.4 MB 118 kB/s \n",
            "\u001b[?25hCollecting torchaudio==0.8.\n",
            "  Downloading torchaudio-0.8.0-cp37-cp37m-manylinux1_x86_64.whl (1.9 MB)\n",
            "\u001b[K     |████████████████████████████████| 1.9 MB 54.3 MB/s \n",
            "\u001b[?25hRequirement already satisfied: numpy in /usr/local/lib/python3.7/dist-packages (from torch==1.8.1) (1.19.5)\n",
            "Requirement already satisfied: typing-extensions in /usr/local/lib/python3.7/dist-packages (from torch==1.8.1) (3.7.4.3)\n",
            "Requirement already satisfied: pillow>=4.1.1 in /usr/local/lib/python3.7/dist-packages (from torchvision==0.9.1) (7.1.2)\n",
            "INFO: pip is looking at multiple versions of torchvision to determine which version is compatible with other requirements. This could take a while.\n",
            "INFO: pip is looking at multiple versions of <Python from Requires-Python> to determine which version is compatible with other requirements. This could take a while.\n",
            "INFO: pip is looking at multiple versions of torch to determine which version is compatible with other requirements. This could take a while.\n",
            "\u001b[31mERROR: Cannot install torch==1.8.1, torchaudio==0.8.0 and torchvision==0.9.1 because these package versions have conflicting dependencies.\u001b[0m\n",
            "\n",
            "The conflict is caused by:\n",
            "    The user requested torch==1.8.1\n",
            "    torchvision 0.9.1 depends on torch==1.8.1\n",
            "    torchaudio 0.8.0 depends on torch==1.8.0\n",
            "\n",
            "To fix this you could try to:\n",
            "1. loosen the range of package versions you've specified\n",
            "2. remove package versions to allow pip attempt to solve the dependency conflict\n",
            "\n",
            "\u001b[31mERROR: ResolutionImpossible: for help visit https://pip.pypa.io/en/latest/user_guide/#fixing-conflicting-dependencies\u001b[0m\n"
          ],
          "name": "stdout"
        }
      ]
    },
    {
      "cell_type": "code",
      "metadata": {
        "id": "ky7aWx6DyYU4",
        "colab": {
          "base_uri": "https://localhost:8080/"
        },
        "outputId": "b539de03-db2b-4235-c0d2-f8bc1f92443b"
      },
      "source": [
        "!nvidia-smi"
      ],
      "execution_count": 11,
      "outputs": [
        {
          "output_type": "stream",
          "text": [
            "Sat Aug  7 14:15:02 2021       \n",
            "+-----------------------------------------------------------------------------+\n",
            "| NVIDIA-SMI 470.42.01    Driver Version: 460.32.03    CUDA Version: 11.2     |\n",
            "|-------------------------------+----------------------+----------------------+\n",
            "| GPU  Name        Persistence-M| Bus-Id        Disp.A | Volatile Uncorr. ECC |\n",
            "| Fan  Temp  Perf  Pwr:Usage/Cap|         Memory-Usage | GPU-Util  Compute M. |\n",
            "|                               |                      |               MIG M. |\n",
            "|===============================+======================+======================|\n",
            "|   0  Tesla T4            Off  | 00000000:00:04.0 Off |                    0 |\n",
            "| N/A   41C    P8     9W /  70W |      0MiB / 15109MiB |      0%      Default |\n",
            "|                               |                      |                  N/A |\n",
            "+-------------------------------+----------------------+----------------------+\n",
            "                                                                               \n",
            "+-----------------------------------------------------------------------------+\n",
            "| Processes:                                                                  |\n",
            "|  GPU   GI   CI        PID   Type   Process name                  GPU Memory |\n",
            "|        ID   ID                                                   Usage      |\n",
            "|=============================================================================|\n",
            "|  No running processes found                                                 |\n",
            "+-----------------------------------------------------------------------------+\n"
          ],
          "name": "stdout"
        }
      ]
    },
    {
      "cell_type": "code",
      "metadata": {
        "id": "Hts6ewoYvUYn"
      },
      "source": [
        "# Libraries\n",
        "\n",
        "import matplotlib.pyplot as plt\n",
        "import pandas as pd\n",
        "import numpy as np\n",
        "import torch\n",
        "from datetime import datetime\n",
        "from google.colab import files, drive\n",
        "import io, os\n",
        "\n",
        "# Preliminaries\n",
        "\n",
        "from torchtext.legacy.data import Field, TabularDataset, BucketIterator, Iterator\n",
        "\n",
        "# Models\n",
        "\n",
        "import torch.nn as nn\n",
        "from transformers import BertTokenizer, BertForSequenceClassification, BertConfig\n",
        "from transformers import AutoTokenizer  # Or BertTokenizer\n",
        "from transformers import AutoModelForPreTraining  # Or BertForPreTraining for loading pretraining heads\n",
        "from transformers import AutoModel  # or BertModel, for BERT without pretraining heads\n",
        "\n",
        "# Training\n",
        "\n",
        "import torch.optim as optim\n",
        "\n",
        "# Evaluation\n",
        "\n",
        "from sklearn.metrics import accuracy_score, classification_report, confusion_matrix\n",
        "import seaborn as sns"
      ],
      "execution_count": 12,
      "outputs": []
    },
    {
      "cell_type": "markdown",
      "metadata": {
        "id": "cPOdGbGitPHS"
      },
      "source": [
        "### Carregando tokens e vocabulário do BERTimbau"
      ]
    },
    {
      "cell_type": "code",
      "metadata": {
        "colab": {
          "base_uri": "https://localhost:8080/",
          "height": 382,
          "referenced_widgets": [
            "d0db4bcf42224df79ff1cc8493a8a016",
            "c7ef243b76794e23a4df4fcb63688124",
            "bf30b3f8704b43f596ae8494d652e900",
            "d6fa8c3c5ed945fd95ea7999bd3b0133",
            "ac9119c409dc4effaf8ac32439dd458c",
            "d2d90ce30995403a9214ce992403b5bd",
            "914c141585d34f9dbd2e3cd9b2605020",
            "e2d05235cb52464ebc97160b751a2dad",
            "2466e961b1d54c458da98f8dd43b679d",
            "aa805950bb7b447bb74c5e024a757577",
            "3403c6e7bb4b4aa48b10b41536d3b5a9",
            "5c388a3f7d0640589d6c32a1e01da971",
            "21ec8d469be945469ebed5c1a39e3b98",
            "39d618dacac64de7bf1a0c15e940170e",
            "9b8871dc9ead470e9b788d44db8a57ce",
            "11d688be58f242bd975a43e8cbbcee01",
            "6bfc16bf07a54f479bcbd421e43ff70a",
            "1e6ee32da35b4a5ba10f6e658b04825a",
            "8c4aeba611c44496949ed5663017011c",
            "1a465b6b84a040dba747beb301c89cf9",
            "43837f9ec1b44c00b752aafba69e7b40",
            "bcf5965856ca45d588f57c78b99777e8",
            "7ce5af8ad6164496900972f1e981bd9a",
            "0fe572bd9f4c4d96bf73ab3d4beb36a1",
            "d5b9105b35c04382994d3cd6b820c137",
            "ba11a0bdc9f74394a2cb407c89a17499",
            "f38f13e9d2ad4d9c82dd090e49981a0d",
            "f5449383285f4baca76fa34d76e5cd76",
            "0f55953799cd4eb0919ab7d7dfa3a54d",
            "7e5e3533c2b445de901432b151b77ee2",
            "b126027fc1734311bd720048cc3032a1",
            "fba7bcb81e3d4c1eb4a3570c75c088fe",
            "57f037942cb7421fa18b616ee80084b1",
            "172c54c9f2994a1f930ef6c14f97e172",
            "1d571a40335e4548b905e30379c3ab0e",
            "532eea0df82c46af9ac21273ae366f2d",
            "c52deb3140d14d1b906d8aab9cf7f8ec",
            "193e92ccd273460faa99dde40c544daa",
            "f1f9a1cc3bec4465b929b62607ba74d2",
            "7fd5b02d158a436b9764c743860f24f5",
            "d11d0b4d2697492e8452a22586d79ee1",
            "5faa9deac2b34389acf55f9ec6277192",
            "451354aa3e5a4faf948ae69cd237e93e",
            "4839a50b26024efdb2a5b7ea2fdb3caa",
            "371d633fd7114f19bd6996d299dae30f",
            "a4f98f0556b64f1ebcfe9af1fbb6b029",
            "214f94c60ce849ebb202e45b5568cc6d",
            "f3fb183ee3714380ad8e280840781c2d"
          ]
        },
        "id": "MLcgDJZSpmfD",
        "outputId": "3c24c1ae-e92c-46c5-b01d-a10b226281c6"
      },
      "source": [
        "tokenizer = AutoTokenizer.from_pretrained('neuralmind/bert-base-portuguese-cased')\n",
        "model = AutoModel.from_pretrained('neuralmind/bert-base-portuguese-cased')"
      ],
      "execution_count": 6,
      "outputs": [
        {
          "output_type": "display_data",
          "data": {
            "application/vnd.jupyter.widget-view+json": {
              "model_id": "d0db4bcf42224df79ff1cc8493a8a016",
              "version_minor": 0,
              "version_major": 2
            },
            "text/plain": [
              "HBox(children=(FloatProgress(value=0.0, description='Downloading', max=43.0, style=ProgressStyle(description_w…"
            ]
          },
          "metadata": {
            "tags": []
          }
        },
        {
          "output_type": "stream",
          "text": [
            "\n"
          ],
          "name": "stdout"
        },
        {
          "output_type": "display_data",
          "data": {
            "application/vnd.jupyter.widget-view+json": {
              "model_id": "2466e961b1d54c458da98f8dd43b679d",
              "version_minor": 0,
              "version_major": 2
            },
            "text/plain": [
              "HBox(children=(FloatProgress(value=0.0, description='Downloading', max=647.0, style=ProgressStyle(description_…"
            ]
          },
          "metadata": {
            "tags": []
          }
        },
        {
          "output_type": "stream",
          "text": [
            "\n"
          ],
          "name": "stdout"
        },
        {
          "output_type": "display_data",
          "data": {
            "application/vnd.jupyter.widget-view+json": {
              "model_id": "6bfc16bf07a54f479bcbd421e43ff70a",
              "version_minor": 0,
              "version_major": 2
            },
            "text/plain": [
              "HBox(children=(FloatProgress(value=0.0, description='Downloading', max=209528.0, style=ProgressStyle(descripti…"
            ]
          },
          "metadata": {
            "tags": []
          }
        },
        {
          "output_type": "stream",
          "text": [
            "\n"
          ],
          "name": "stdout"
        },
        {
          "output_type": "display_data",
          "data": {
            "application/vnd.jupyter.widget-view+json": {
              "model_id": "d5b9105b35c04382994d3cd6b820c137",
              "version_minor": 0,
              "version_major": 2
            },
            "text/plain": [
              "HBox(children=(FloatProgress(value=0.0, description='Downloading', max=2.0, style=ProgressStyle(description_wi…"
            ]
          },
          "metadata": {
            "tags": []
          }
        },
        {
          "output_type": "stream",
          "text": [
            "\n"
          ],
          "name": "stdout"
        },
        {
          "output_type": "display_data",
          "data": {
            "application/vnd.jupyter.widget-view+json": {
              "model_id": "57f037942cb7421fa18b616ee80084b1",
              "version_minor": 0,
              "version_major": 2
            },
            "text/plain": [
              "HBox(children=(FloatProgress(value=0.0, description='Downloading', max=112.0, style=ProgressStyle(description_…"
            ]
          },
          "metadata": {
            "tags": []
          }
        },
        {
          "output_type": "stream",
          "text": [
            "\n"
          ],
          "name": "stdout"
        },
        {
          "output_type": "display_data",
          "data": {
            "application/vnd.jupyter.widget-view+json": {
              "model_id": "d11d0b4d2697492e8452a22586d79ee1",
              "version_minor": 0,
              "version_major": 2
            },
            "text/plain": [
              "HBox(children=(FloatProgress(value=0.0, description='Downloading', max=438235074.0, style=ProgressStyle(descri…"
            ]
          },
          "metadata": {
            "tags": []
          }
        },
        {
          "output_type": "stream",
          "text": [
            "\n"
          ],
          "name": "stdout"
        },
        {
          "output_type": "stream",
          "text": [
            "Some weights of the model checkpoint at neuralmind/bert-base-portuguese-cased were not used when initializing BertModel: ['cls.seq_relationship.weight', 'cls.predictions.bias', 'cls.predictions.transform.LayerNorm.weight', 'cls.predictions.decoder.weight', 'cls.predictions.transform.LayerNorm.bias', 'cls.predictions.transform.dense.bias', 'cls.seq_relationship.bias', 'cls.predictions.transform.dense.weight']\n",
            "- This IS expected if you are initializing BertModel from the checkpoint of a model trained on another task or with another architecture (e.g. initializing a BertForSequenceClassification model from a BertForPreTraining model).\n",
            "- This IS NOT expected if you are initializing BertModel from the checkpoint of a model that you expect to be exactly identical (initializing a BertForSequenceClassification model from a BertForSequenceClassification model).\n"
          ],
          "name": "stderr"
        }
      ]
    },
    {
      "cell_type": "code",
      "metadata": {
        "id": "joJqFofvtKcp",
        "colab": {
          "base_uri": "https://localhost:8080/"
        },
        "outputId": "43bbd42c-a053-4c3f-ffe9-e07967d1749f"
      },
      "source": [
        "tokenizer"
      ],
      "execution_count": null,
      "outputs": [
        {
          "output_type": "execute_result",
          "data": {
            "text/plain": [
              "PreTrainedTokenizerFast(name_or_path='neuralmind/bert-base-portuguese-cased', vocab_size=29794, model_max_len=1000000000000000019884624838656, is_fast=True, padding_side='right', special_tokens={'unk_token': '[UNK]', 'sep_token': '[SEP]', 'pad_token': '[PAD]', 'cls_token': '[CLS]', 'mask_token': '[MASK]'})"
            ]
          },
          "metadata": {
            "tags": []
          },
          "execution_count": 139
        }
      ]
    },
    {
      "cell_type": "markdown",
      "metadata": {
        "id": "KZOL2o_ltyzz"
      },
      "source": [
        "### Preparando DataSet\n",
        "https://towardsdatascience.com/bert-text-classification-using-pytorch-723dfb8b6b5b"
      ]
    },
    {
      "cell_type": "code",
      "metadata": {
        "id": "WFtrA_dtunW-",
        "colab": {
          "base_uri": "https://localhost:8080/"
        },
        "outputId": "1f7083d4-9df7-4ecd-c8d9-0e11b2e41e99"
      },
      "source": [
        "#!rm *.csv\n",
        "#!!wget https://raw.githubusercontent.com/HedersonSantos/Noticias/main/train.csv\n",
        "#!wget https://raw.githubusercontent.com/HedersonSantos/Noticias/main/valid.csv\n",
        "#!wget https://raw.githubusercontent.com/HedersonSantos/Noticias/main/test.csv\n",
        "#!wget https://raw.githubusercontent.com/HedersonSantos/Noticias/main/miscelanea.csv\n",
        "drive.mount('/gdrive')\n",
        "%cd /gdrive/My\\ Drive/Colab\\ Notebooks\n",
        "path = '/gdrive/My Drive/Colab Notebooks'\n",
        "KEY='4/1AX4XfWjFfXOpQF_Lhhwz8Sp5DTauJAEXNDQjx66Khyme5ASsCvDLtcqsBX0'"
      ],
      "execution_count": 7,
      "outputs": [
        {
          "output_type": "stream",
          "text": [
            "Mounted at /gdrive\n",
            "/gdrive/My Drive/Colab Notebooks\n"
          ],
          "name": "stdout"
        }
      ]
    },
    {
      "cell_type": "code",
      "metadata": {
        "id": "CFFldLWvV6Mg"
      },
      "source": [
        "#%cd amostra_news_integrada\n",
        "#!unzip drive-download-20210731T211249Z-001.zip\n",
        "#!ls -lh\n",
        "\n",
        "#!mkdir bertimbau_all_categ\n"
      ],
      "execution_count": null,
      "outputs": []
    },
    {
      "cell_type": "code",
      "metadata": {
        "id": "kfj3koMmWsZ9"
      },
      "source": [
        "#!mkdir ./bertimbau_all_categ/amostra_4\n"
      ],
      "execution_count": null,
      "outputs": []
    },
    {
      "cell_type": "code",
      "metadata": {
        "colab": {
          "base_uri": "https://localhost:8080/"
        },
        "id": "iV8T4nMYXqdR",
        "outputId": "8b9b3232-468a-4c5f-cc17-86eda2f33ab6"
      },
      "source": [
        "device = torch.device('cuda:0' if torch.cuda.is_available() else 'cpu')\n",
        "print(device)"
      ],
      "execution_count": 13,
      "outputs": [
        {
          "output_type": "stream",
          "text": [
            "cuda:0\n"
          ],
          "name": "stdout"
        }
      ]
    },
    {
      "cell_type": "code",
      "metadata": {
        "id": "3sjrTvfBLGCL"
      },
      "source": [
        "source_folder = './amostra_news_integrada/amostra_' #'/content'\n",
        "destination_folder = './bertimbau_resp' #'/content'\n"
      ],
      "execution_count": 14,
      "outputs": []
    },
    {
      "cell_type": "code",
      "metadata": {
        "colab": {
          "base_uri": "https://localhost:8080/"
        },
        "id": "90WJxOxcxgAQ",
        "outputId": "58e5b623-6403-4968-92dc-33cc20f4ed92"
      },
      "source": [
        "!ls "
      ],
      "execution_count": 8,
      "outputs": [
        {
          "output_type": "stream",
          "text": [
            " amostra_news_integrada\t\t       'Cópia de BERTimbau_Testes.ipynb'\n",
            " artigosWikibr.ipynb\t\t        news_integradas.csv\n",
            " BERTimbau_com_amostras.ipynb\t        Untitled\n",
            " bertimbau_resp\t\t\t        Untitled1.ipynb\n",
            "'Cópia de BERTimbau_Testes (1).ipynb'\n"
          ],
          "name": "stdout"
        }
      ]
    },
    {
      "cell_type": "code",
      "metadata": {
        "id": "PyoK7ac8t4HF"
      },
      "source": [
        "#https://towardsdatascience.com/multi-class-text-classification-with-deep-learning-using-bert-b59ca2f5c613\n",
        "#Model hyper-parameter\n",
        "MAX_SEQ_LEN = 128 #limita os artigos em 128 tokens. Bert é limitado em 512 tokens por texto (checar isto e aplicar limpeza nos textos).\n",
        "PAD_INDEX = tokenizer.convert_tokens_to_ids(tokenizer.pad_token)\n",
        "UNK_INDEX = tokenizer.convert_tokens_to_ids(tokenizer.unk_token)\n",
        "bs = 16\n",
        "lr = 1e-5\n",
        "\n",
        "\n",
        "\n",
        "# Fields - use_vocab=False  e tokenizer.encode permite que utilizemos os tokens do BERTimbau.\n",
        "label_field = Field(sequential=False, use_vocab=False, batch_first=True, dtype=torch.float)\n",
        "text_field = Field(use_vocab=False, tokenize=tokenizer.encode, lower=False, include_lengths=False, batch_first=True,\n",
        "                   fix_length=MAX_SEQ_LEN, pad_token=PAD_INDEX, unk_token=UNK_INDEX)\n",
        "fields = [('text', text_field),('label', label_field)]\n",
        "\n",
        "\n",
        "\n"
      ],
      "execution_count": 15,
      "outputs": []
    },
    {
      "cell_type": "code",
      "metadata": {
        "id": "VqRpEtW1OuqC"
      },
      "source": [
        "def tokenizaAmostra(source_folder, fields=fields):\n",
        "  # TabularDataset\n",
        "  train, valid, test = TabularDataset.splits(path=source_folder, train='train.csv', validation='valid.csv',\n",
        "                                            test='test.csv', format='CSV', fields=fields, skip_header=True)\n",
        "  # Iterators\n",
        "\n",
        "  train_iter = BucketIterator(train, batch_size=bs, sort_key=lambda x: len(x.text),\n",
        "                              device=device, train=True, sort=True, sort_within_batch=True)\n",
        "  valid_iter = BucketIterator(valid, batch_size=bs, sort_key=lambda x: len(x.text),\n",
        "                              device=device, train=True, sort=True, sort_within_batch=True)\n",
        "  test_iter = Iterator(test, batch_size=bs, device=device, train=False, shuffle=False, sort=False)\n",
        "  return [train_iter, valid_iter, test_iter]\n",
        "\n"
      ],
      "execution_count": 16,
      "outputs": []
    },
    {
      "cell_type": "code",
      "metadata": {
        "id": "8maI4HcbPukL"
      },
      "source": [
        ""
      ],
      "execution_count": null,
      "outputs": []
    },
    {
      "cell_type": "code",
      "metadata": {
        "id": "rcTHSXSluKkt"
      },
      "source": [
        "#print(vars(train[0]))\n",
        "#print(vars(valid[0]))\n",
        "#print(vars(test[0]))"
      ],
      "execution_count": null,
      "outputs": []
    },
    {
      "cell_type": "markdown",
      "metadata": {
        "id": "sPypCNPuHaRz"
      },
      "source": [
        "## Modelo"
      ]
    },
    {
      "cell_type": "code",
      "metadata": {
        "id": "Yvy3rgrdHj_x"
      },
      "source": [
        "'''É preciso informar o número de labels '''\n",
        "class BERT(nn.Module):\n",
        "\n",
        "    def __init__(self, qtd_categories):\n",
        "        super(BERT, self).__init__()\n",
        "\n",
        "        options_name = \"bert-base-portuguese-cased\"\n",
        "        self.encoder = BertForSequenceClassification.from_pretrained('neuralmind/bert-base-portuguese-cased',num_labels=qtd_categories )\n",
        "\n",
        "    def forward(self, text, label):\n",
        "        loss, text_fea = self.encoder(text, labels=label)[:2]\n",
        "\n",
        "        return loss, text_fea\n",
        "\n"
      ],
      "execution_count": 17,
      "outputs": []
    },
    {
      "cell_type": "markdown",
      "metadata": {
        "id": "3pYKbHICIus0"
      },
      "source": [
        "## Treinamento"
      ]
    },
    {
      "cell_type": "code",
      "metadata": {
        "id": "hJFwyl7DIoxQ"
      },
      "source": [
        "# Save and Load Functions\n",
        "\n",
        "def save_checkpoint(save_path, model, valid_loss):\n",
        "\n",
        "    if save_path == None:\n",
        "        return\n",
        "    \n",
        "    state_dict = {'model_state_dict': model.state_dict(),\n",
        "                  'valid_loss': valid_loss}\n",
        "    \n",
        "    torch.save(state_dict, save_path)\n",
        "    print(f'Model saved to ==> {save_path}')\n",
        "\n",
        "def load_checkpoint(load_path, model):\n",
        "    \n",
        "    if load_path==None:\n",
        "        return\n",
        "    \n",
        "    state_dict = torch.load(load_path, map_location=device)\n",
        "    print(f'Model loaded from <== {load_path}')\n",
        "    \n",
        "    model.load_state_dict(state_dict['model_state_dict'])\n",
        "    return state_dict['valid_loss']\n",
        "\n",
        "\n",
        "def save_metrics(save_path, train_loss_list, valid_loss_list, global_steps_list):\n",
        "\n",
        "    if save_path == None:\n",
        "        return\n",
        "    \n",
        "    state_dict = {'train_loss_list': train_loss_list,\n",
        "                  'valid_loss_list': valid_loss_list,\n",
        "                  'global_steps_list': global_steps_list}\n",
        "    \n",
        "    torch.save(state_dict, save_path)\n",
        "    print(f'Model saved to ==> {save_path}')\n",
        "\n",
        "\n",
        "def load_metrics(load_path):\n",
        "\n",
        "    if load_path==None:\n",
        "        return\n",
        "    \n",
        "    state_dict = torch.load(load_path, map_location=device)\n",
        "    print(f'Model loaded from <== {load_path}')\n",
        "    \n",
        "    return state_dict['train_loss_list'], state_dict['valid_loss_list'], state_dict['global_steps_list']\n",
        "\n",
        "def create_directory(path, directory):\n",
        "  try:\n",
        "    os.makedirs(path + '/' + directory)\n",
        "  except FileExistsError:\n",
        "    # directory already exists\n",
        "    pass"
      ],
      "execution_count": 18,
      "outputs": []
    },
    {
      "cell_type": "code",
      "metadata": {
        "id": "fiueExF5Jb8V"
      },
      "source": [
        "# Training Function\n",
        "'''criterion = nn.BCELoss() é BinaryCrossEntropy é a função de perda para targets binarios. Como o nosso alvo possui\n",
        "muitas classes troque a função de perda para nn.CrossEntropyLoss() '''\n",
        "\n",
        "def train(model,\n",
        "          optimizer,\n",
        "          train_loader ,\n",
        "          valid_loader ,\n",
        "          eval_every ,\n",
        "          file_path ,\n",
        "          criterion = nn.CrossEntropyLoss(), #nn.BCELoss(),\n",
        "          num_epochs = 5,\n",
        "          best_valid_loss = float(\"Inf\")):\n",
        "    \n",
        "    \n",
        "    print('1 - inicializando variávies')\n",
        "    # initialize running values\n",
        "    running_loss = 0.0\n",
        "    valid_running_loss = 0.0\n",
        "    global_step = 0\n",
        "    train_loss_list = []\n",
        "    valid_loss_list = []\n",
        "    global_steps_list = []\n",
        "\n",
        "    # training loop\n",
        "    print('1 - inicializando treinamento')\n",
        "    model.train()\n",
        "    for epoch in range(num_epochs):\n",
        "        for (text, labels), _ in train_loader:\n",
        "            labels = labels.type(torch.LongTensor)           \n",
        "            #print('label size:', labels.size())\n",
        "            #print('label:', labels)\n",
        "            labels = labels.to(device)\n",
        "            text = text.type(torch.LongTensor) \n",
        "            #print('text:', text.size())\n",
        "            text = text.to(device)\n",
        "            #print('treina...')\n",
        "            output = model(text, labels)\n",
        "            #print('fim treino...')\n",
        "            loss, _ = output\n",
        "\n",
        "            optimizer.zero_grad()\n",
        "            loss.backward()\n",
        "            optimizer.step()\n",
        "\n",
        "            # update running values\n",
        "            running_loss += loss.item()\n",
        "            global_step += 1\n",
        "\n",
        "            # evaluation step\n",
        "            if global_step % eval_every == 0:\n",
        "                model.eval()\n",
        "                with torch.no_grad():                    \n",
        "\n",
        "                    # validation loop\n",
        "                    for (text,labels), _ in valid_loader:\n",
        "                        text = text.type(torch.LongTensor)  \n",
        "                        text = text.to(device)\n",
        "                        labels = labels.type(torch.LongTensor)           \n",
        "                        labels = labels.to(device)\n",
        "                        \n",
        "                        output = model(text, labels)\n",
        "                        loss, _ = output\n",
        "                        \n",
        "                        valid_running_loss += loss.item()\n",
        "\n",
        "                # evaluation\n",
        "                average_train_loss = running_loss / eval_every\n",
        "                average_valid_loss = valid_running_loss / len(valid_loader)\n",
        "                train_loss_list.append(average_train_loss)\n",
        "                valid_loss_list.append(average_valid_loss)\n",
        "                global_steps_list.append(global_step)\n",
        "\n",
        "                # resetting running values\n",
        "                running_loss = 0.0                \n",
        "                valid_running_loss = 0.0\n",
        "                model.train()\n",
        "\n",
        "                # print progress\n",
        "                print('Epoch [{}/{}], Step [{}/{}], Train Loss: {:.4f}, Valid Loss: {:.4f}'\n",
        "                      .format(epoch+1, num_epochs, global_step, num_epochs*len(train_loader),\n",
        "                              average_train_loss, average_valid_loss))\n",
        "                \n",
        "                # checkpoint\n",
        "                if best_valid_loss > average_valid_loss:\n",
        "                    best_valid_loss = average_valid_loss\n",
        "                    save_checkpoint(file_path + '/' + 'model.pt', model, best_valid_loss)\n",
        "                    save_metrics(file_path + '/' + 'metrics.pt', train_loss_list, valid_loss_list, global_steps_list)\n",
        "    \n",
        "    save_metrics(file_path + '/' + 'metrics.pt', train_loss_list, valid_loss_list, global_steps_list)\n",
        "    print('Finished Training!')\n",
        "    "
      ],
      "execution_count": 30,
      "outputs": []
    },
    {
      "cell_type": "code",
      "metadata": {
        "colab": {
          "base_uri": "https://localhost:8080/"
        },
        "id": "JQcJQ5kaMPa4",
        "outputId": "a146b8a7-44dd-44e9-a75f-550ccf7bb1b7"
      },
      "source": [
        "device"
      ],
      "execution_count": 20,
      "outputs": [
        {
          "output_type": "execute_result",
          "data": {
            "text/plain": [
              "device(type='cuda', index=0)"
            ]
          },
          "metadata": {
            "tags": []
          },
          "execution_count": 20
        }
      ]
    },
    {
      "cell_type": "code",
      "metadata": {
        "colab": {
          "base_uri": "https://localhost:8080/",
          "height": 615
        },
        "id": "RrkvwE2VL1qY",
        "outputId": "a9c23c5c-2c2c-4fa7-e554-71b936a2fd7b"
      },
      "source": [
        "%%time\n",
        "qtd_categories=[32,18]\n",
        "token_train, token_valid, token_test = [],[],[]\n",
        "id_planilha = [1,2]\n",
        "dataset = [1,2]\n",
        "for idx, (id_, amostra) in enumerate(zip(id_planilha,dataset)):\n",
        "  create_directory(destination_folder,str(id_))\n",
        "  file_path = destination_folder + \"/\"+str(id_)\n",
        "  print(file_path)\n",
        "  model = BERT(qtd_categories=qtd_categories[idx]).to(device)\n",
        "  optimizer = optim.Adam(model.parameters(), lr=lr)\n",
        "  inicio = datetime.now()\n",
        "  print('Treinando amostra:', amostra, 'inicio:', inicio)\n",
        "  tokens = tokenizaAmostra(source_folder+str(amostra))\n",
        "  token_train.append(tokens[0])\n",
        "  token_valid.append(tokens[1])\n",
        "  token_test.append(tokens[2])\n",
        "  train(model=model, \n",
        "      optimizer=optimizer,\n",
        "      train_loader=tokens[0],\n",
        "      valid_loader=tokens[1],\n",
        "      eval_every=len(tokens[0]) // 2,\n",
        "      file_path=destination_folder + str(id_))\n",
        "  print('Duracao:', datetime.now()-inicio)"
      ],
      "execution_count": 31,
      "outputs": [
        {
          "output_type": "stream",
          "text": [
            "./bertimbau_resp/1\n"
          ],
          "name": "stdout"
        },
        {
          "output_type": "stream",
          "text": [
            "Some weights of the model checkpoint at neuralmind/bert-base-portuguese-cased were not used when initializing BertForSequenceClassification: ['cls.seq_relationship.weight', 'cls.predictions.bias', 'cls.predictions.transform.LayerNorm.weight', 'cls.predictions.decoder.weight', 'cls.predictions.transform.LayerNorm.bias', 'cls.predictions.transform.dense.bias', 'cls.seq_relationship.bias', 'cls.predictions.transform.dense.weight']\n",
            "- This IS expected if you are initializing BertForSequenceClassification from the checkpoint of a model trained on another task or with another architecture (e.g. initializing a BertForSequenceClassification model from a BertForPreTraining model).\n",
            "- This IS NOT expected if you are initializing BertForSequenceClassification from the checkpoint of a model that you expect to be exactly identical (initializing a BertForSequenceClassification model from a BertForSequenceClassification model).\n",
            "Some weights of BertForSequenceClassification were not initialized from the model checkpoint at neuralmind/bert-base-portuguese-cased and are newly initialized: ['classifier.weight', 'classifier.bias']\n",
            "You should probably TRAIN this model on a down-stream task to be able to use it for predictions and inference.\n"
          ],
          "name": "stderr"
        },
        {
          "output_type": "stream",
          "text": [
            "Treinando amostra: 1 inicio: 2021-08-07 15:03:59.528940\n"
          ],
          "name": "stdout"
        },
        {
          "output_type": "error",
          "ename": "IndexError",
          "evalue": "ignored",
          "traceback": [
            "\u001b[0;31m---------------------------------------------------------------------------\u001b[0m",
            "\u001b[0;31mIndexError\u001b[0m                                Traceback (most recent call last)",
            "\u001b[0;32m<ipython-input-31-e56400975fe6>\u001b[0m in \u001b[0;36m<module>\u001b[0;34m()\u001b[0m\n\u001b[0;32m----> 1\u001b[0;31m \u001b[0mget_ipython\u001b[0m\u001b[0;34m(\u001b[0m\u001b[0;34m)\u001b[0m\u001b[0;34m.\u001b[0m\u001b[0mrun_cell_magic\u001b[0m\u001b[0;34m(\u001b[0m\u001b[0;34m'time'\u001b[0m\u001b[0;34m,\u001b[0m \u001b[0;34m''\u001b[0m\u001b[0;34m,\u001b[0m \u001b[0;34m'qtd_categories=[32,18]\\ntoken_train, token_valid, token_test = [],[],[]\\nid_planilha = [1,2]\\ndataset = [1,2]\\nfor idx, (id_, amostra) in enumerate(zip(id_planilha,dataset)):\\n  create_directory(destination_folder,str(id_))\\n  file_path = destination_folder + \"/\"+str(id_)\\n  print(file_path)\\n  model = BERT(qtd_categories=qtd_categories[idx]).to(device)\\n  optimizer = optim.Adam(model.parameters(), lr=lr)\\n  inicio = datetime.now()\\n  print(\\'Treinando amostra:\\', amostra, \\'inicio:\\', inicio)\\n  tokens = tokenizaAmostra(source_folder+str(amostra))\\n  token_train.append(tokens[0])\\n  token_valid.append(tokens[1])\\n  token_test.append(tokens[2])\\n  train(model=model, \\n      optimizer=optimizer,\\n      train_loader=tokens[0],\\n      valid_loader=tokens[1],\\n      eval_every=len(token_train[amostra]) // 2,\\n      file_path=destination_folder + str(id_))\\n  print(\\'Duracao:\\', datetime.now()-inicio)'\u001b[0m\u001b[0;34m)\u001b[0m\u001b[0;34m\u001b[0m\u001b[0;34m\u001b[0m\u001b[0m\n\u001b[0m",
            "\u001b[0;32m/usr/local/lib/python3.7/dist-packages/IPython/core/interactiveshell.py\u001b[0m in \u001b[0;36mrun_cell_magic\u001b[0;34m(self, magic_name, line, cell)\u001b[0m\n\u001b[1;32m   2115\u001b[0m             \u001b[0mmagic_arg_s\u001b[0m \u001b[0;34m=\u001b[0m \u001b[0mself\u001b[0m\u001b[0;34m.\u001b[0m\u001b[0mvar_expand\u001b[0m\u001b[0;34m(\u001b[0m\u001b[0mline\u001b[0m\u001b[0;34m,\u001b[0m \u001b[0mstack_depth\u001b[0m\u001b[0;34m)\u001b[0m\u001b[0;34m\u001b[0m\u001b[0;34m\u001b[0m\u001b[0m\n\u001b[1;32m   2116\u001b[0m             \u001b[0;32mwith\u001b[0m \u001b[0mself\u001b[0m\u001b[0;34m.\u001b[0m\u001b[0mbuiltin_trap\u001b[0m\u001b[0;34m:\u001b[0m\u001b[0;34m\u001b[0m\u001b[0;34m\u001b[0m\u001b[0m\n\u001b[0;32m-> 2117\u001b[0;31m                 \u001b[0mresult\u001b[0m \u001b[0;34m=\u001b[0m \u001b[0mfn\u001b[0m\u001b[0;34m(\u001b[0m\u001b[0mmagic_arg_s\u001b[0m\u001b[0;34m,\u001b[0m \u001b[0mcell\u001b[0m\u001b[0;34m)\u001b[0m\u001b[0;34m\u001b[0m\u001b[0;34m\u001b[0m\u001b[0m\n\u001b[0m\u001b[1;32m   2118\u001b[0m             \u001b[0;32mreturn\u001b[0m \u001b[0mresult\u001b[0m\u001b[0;34m\u001b[0m\u001b[0;34m\u001b[0m\u001b[0m\n\u001b[1;32m   2119\u001b[0m \u001b[0;34m\u001b[0m\u001b[0m\n",
            "\u001b[0;32m<decorator-gen-53>\u001b[0m in \u001b[0;36mtime\u001b[0;34m(self, line, cell, local_ns)\u001b[0m\n",
            "\u001b[0;32m/usr/local/lib/python3.7/dist-packages/IPython/core/magic.py\u001b[0m in \u001b[0;36m<lambda>\u001b[0;34m(f, *a, **k)\u001b[0m\n\u001b[1;32m    186\u001b[0m     \u001b[0;31m# but it's overkill for just that one bit of state.\u001b[0m\u001b[0;34m\u001b[0m\u001b[0;34m\u001b[0m\u001b[0;34m\u001b[0m\u001b[0m\n\u001b[1;32m    187\u001b[0m     \u001b[0;32mdef\u001b[0m \u001b[0mmagic_deco\u001b[0m\u001b[0;34m(\u001b[0m\u001b[0marg\u001b[0m\u001b[0;34m)\u001b[0m\u001b[0;34m:\u001b[0m\u001b[0;34m\u001b[0m\u001b[0;34m\u001b[0m\u001b[0m\n\u001b[0;32m--> 188\u001b[0;31m         \u001b[0mcall\u001b[0m \u001b[0;34m=\u001b[0m \u001b[0;32mlambda\u001b[0m \u001b[0mf\u001b[0m\u001b[0;34m,\u001b[0m \u001b[0;34m*\u001b[0m\u001b[0ma\u001b[0m\u001b[0;34m,\u001b[0m \u001b[0;34m**\u001b[0m\u001b[0mk\u001b[0m\u001b[0;34m:\u001b[0m \u001b[0mf\u001b[0m\u001b[0;34m(\u001b[0m\u001b[0;34m*\u001b[0m\u001b[0ma\u001b[0m\u001b[0;34m,\u001b[0m \u001b[0;34m**\u001b[0m\u001b[0mk\u001b[0m\u001b[0;34m)\u001b[0m\u001b[0;34m\u001b[0m\u001b[0;34m\u001b[0m\u001b[0m\n\u001b[0m\u001b[1;32m    189\u001b[0m \u001b[0;34m\u001b[0m\u001b[0m\n\u001b[1;32m    190\u001b[0m         \u001b[0;32mif\u001b[0m \u001b[0mcallable\u001b[0m\u001b[0;34m(\u001b[0m\u001b[0marg\u001b[0m\u001b[0;34m)\u001b[0m\u001b[0;34m:\u001b[0m\u001b[0;34m\u001b[0m\u001b[0;34m\u001b[0m\u001b[0m\n",
            "\u001b[0;32m/usr/local/lib/python3.7/dist-packages/IPython/core/magics/execution.py\u001b[0m in \u001b[0;36mtime\u001b[0;34m(self, line, cell, local_ns)\u001b[0m\n\u001b[1;32m   1191\u001b[0m         \u001b[0;32melse\u001b[0m\u001b[0;34m:\u001b[0m\u001b[0;34m\u001b[0m\u001b[0;34m\u001b[0m\u001b[0m\n\u001b[1;32m   1192\u001b[0m             \u001b[0mst\u001b[0m \u001b[0;34m=\u001b[0m \u001b[0mclock2\u001b[0m\u001b[0;34m(\u001b[0m\u001b[0;34m)\u001b[0m\u001b[0;34m\u001b[0m\u001b[0;34m\u001b[0m\u001b[0m\n\u001b[0;32m-> 1193\u001b[0;31m             \u001b[0mexec\u001b[0m\u001b[0;34m(\u001b[0m\u001b[0mcode\u001b[0m\u001b[0;34m,\u001b[0m \u001b[0mglob\u001b[0m\u001b[0;34m,\u001b[0m \u001b[0mlocal_ns\u001b[0m\u001b[0;34m)\u001b[0m\u001b[0;34m\u001b[0m\u001b[0;34m\u001b[0m\u001b[0m\n\u001b[0m\u001b[1;32m   1194\u001b[0m             \u001b[0mend\u001b[0m \u001b[0;34m=\u001b[0m \u001b[0mclock2\u001b[0m\u001b[0;34m(\u001b[0m\u001b[0;34m)\u001b[0m\u001b[0;34m\u001b[0m\u001b[0;34m\u001b[0m\u001b[0m\n\u001b[1;32m   1195\u001b[0m             \u001b[0mout\u001b[0m \u001b[0;34m=\u001b[0m \u001b[0;32mNone\u001b[0m\u001b[0;34m\u001b[0m\u001b[0;34m\u001b[0m\u001b[0m\n",
            "\u001b[0;32m<timed exec>\u001b[0m in \u001b[0;36m<module>\u001b[0;34m()\u001b[0m\n",
            "\u001b[0;31mIndexError\u001b[0m: list index out of range"
          ]
        }
      ]
    },
    {
      "cell_type": "code",
      "metadata": {
        "id": "hOLXjoQAhKWE"
      },
      "source": [
        "#!ls ./amostra_news_integrada/\n",
        "\n",
        "#!rm  ./bertimbau_all_categ/amostra_4/*.*\n",
        "\n",
        "!du -sh"
      ],
      "execution_count": null,
      "outputs": []
    },
    {
      "cell_type": "code",
      "metadata": {
        "id": "AHdfTUs0ALnZ"
      },
      "source": [
        "id_planilha = [1,2,3]\n",
        "for id in id_planilha:\n",
        "  create_directory(destination_folder,str(id))\n",
        "  resultado_dir = destination_folder + \n",
        "  train_loss_list, valid_loss_list, global_steps_list = load_metrics(destination_folder+str(amostra) + '/metrics.pt')\n",
        "  plt.plot(global_steps_list, train_loss_list, label='Train')\n",
        "  plt.plot(global_steps_list, valid_loss_list, label='Valid')\n",
        "  plt.xlabel('Global Steps')\n",
        "  plt.ylabel('Loss')\n",
        "  plt.title = 'Resultado do Treino da amostra ' + str(amostra)\n",
        "  plt.legend()\n",
        "  plt.show() "
      ],
      "execution_count": null,
      "outputs": []
    },
    {
      "cell_type": "markdown",
      "metadata": {
        "id": "bAI0EpQOAgM1"
      },
      "source": [
        "### Avaliação"
      ]
    },
    {
      "cell_type": "code",
      "metadata": {
        "id": "6sGfCMMB9ewJ"
      },
      "source": [
        "def evaluate(model, test_loader):\n",
        "    y_pred = []\n",
        "    y_true = []\n",
        "\n",
        "    model.eval()\n",
        "    with torch.no_grad():\n",
        "        for (text, labels), _ in test_loader:\n",
        "                labels = labels.type(torch.LongTensor)           \n",
        "                labels = labels.to(device)\n",
        "                text = text.type(torch.LongTensor)  \n",
        "                text = text.to(device)\n",
        "                output = model(text, labels)\n",
        "\n",
        "                _, output = output\n",
        "                y_pred.extend(torch.argmax(output, 1).tolist())\n",
        "                y_true.extend(labels.tolist())\n",
        "    \n",
        "    print('Classification Report:')\n",
        "    n_classe = np.max(y_true)+1\n",
        "    print(classification_report(y_true, y_pred, labels=np.arange(0,n_classe), digits=4))\n",
        "    \n",
        "    cm = confusion_matrix(y_true, y_pred, labels=np.arange(0,n_classe))\n",
        "    ax= plt.subplot()\n",
        "    sns.heatmap(cm, annot=True, ax = ax, cmap='Blues', fmt=\"d\")\n",
        "\n",
        "    ax.set_title('Confusion Matrix')\n",
        "\n",
        "    ax.set_xlabel('Predicted Labels')\n",
        "    ax.set_ylabel('True Labels')\n",
        "\n",
        "%%time    \n",
        "for amostra in range(1,qtd_amostra+1):    \n",
        "  best_model = BERT().to(device)\n",
        "\n",
        "  load_checkpoint(destination_folder+str(amostra) + '/model.pt', best_model)\n",
        "\n",
        "  evaluate(best_model, token_test[amostra-1])"
      ],
      "execution_count": null,
      "outputs": []
    },
    {
      "cell_type": "code",
      "metadata": {
        "id": "V1koq2k7jrIj"
      },
      "source": [
        "#!rm ./bertimbau_all_categ/amostra_4/*.*\n",
        "#!du -sh\n"
      ],
      "execution_count": null,
      "outputs": []
    },
    {
      "cell_type": "markdown",
      "metadata": {
        "id": "TJrH6W-UEXCK"
      },
      "source": [
        ""
      ]
    }
  ]
}