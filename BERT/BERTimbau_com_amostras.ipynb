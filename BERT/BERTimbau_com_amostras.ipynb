{
  "nbformat": 4,
  "nbformat_minor": 0,
  "metadata": {
    "colab": {
      "name": "BERTimbau_Testes.ipynb",
      "provenance": [],
      "collapsed_sections": [],
      "include_colab_link": true
    },
    "kernelspec": {
      "name": "python3",
      "display_name": "Python 3"
    },
    "language_info": {
      "name": "python"
    },
    "accelerator": "GPU",
    "widgets": {
      "application/vnd.jupyter.widget-state+json": {
        "0d7d502466e04561ae8eb4551e024b63": {
          "model_module": "@jupyter-widgets/controls",
          "model_name": "HBoxModel",
          "model_module_version": "1.5.0",
          "state": {
            "_view_name": "HBoxView",
            "_dom_classes": [],
            "_model_name": "HBoxModel",
            "_view_module": "@jupyter-widgets/controls",
            "_model_module_version": "1.5.0",
            "_view_count": null,
            "_view_module_version": "1.5.0",
            "box_style": "",
            "layout": "IPY_MODEL_7f94dc0d1d834d0b83021c29c5f4e530",
            "_model_module": "@jupyter-widgets/controls",
            "children": [
              "IPY_MODEL_7872fb39f4364aa29ea4ff8c5fcba65d",
              "IPY_MODEL_e4bb8aee31cc47939505cad378893f4a",
              "IPY_MODEL_ecbc07ac5bba4a6994a59b6233b1d886"
            ]
          }
        },
        "7f94dc0d1d834d0b83021c29c5f4e530": {
          "model_module": "@jupyter-widgets/base",
          "model_name": "LayoutModel",
          "model_module_version": "1.2.0",
          "state": {
            "_view_name": "LayoutView",
            "grid_template_rows": null,
            "right": null,
            "justify_content": null,
            "_view_module": "@jupyter-widgets/base",
            "overflow": null,
            "_model_module_version": "1.2.0",
            "_view_count": null,
            "flex_flow": null,
            "width": null,
            "min_width": null,
            "border": null,
            "align_items": null,
            "bottom": null,
            "_model_module": "@jupyter-widgets/base",
            "top": null,
            "grid_column": null,
            "overflow_y": null,
            "overflow_x": null,
            "grid_auto_flow": null,
            "grid_area": null,
            "grid_template_columns": null,
            "flex": null,
            "_model_name": "LayoutModel",
            "justify_items": null,
            "grid_row": null,
            "max_height": null,
            "align_content": null,
            "visibility": null,
            "align_self": null,
            "height": null,
            "min_height": null,
            "padding": null,
            "grid_auto_rows": null,
            "grid_gap": null,
            "max_width": null,
            "order": null,
            "_view_module_version": "1.2.0",
            "grid_template_areas": null,
            "object_position": null,
            "object_fit": null,
            "grid_auto_columns": null,
            "margin": null,
            "display": null,
            "left": null
          }
        },
        "7872fb39f4364aa29ea4ff8c5fcba65d": {
          "model_module": "@jupyter-widgets/controls",
          "model_name": "HTMLModel",
          "model_module_version": "1.5.0",
          "state": {
            "_view_name": "HTMLView",
            "style": "IPY_MODEL_50d6be27d0414958be5364d30b1133de",
            "_dom_classes": [],
            "description": "",
            "_model_name": "HTMLModel",
            "placeholder": "​",
            "_view_module": "@jupyter-widgets/controls",
            "_model_module_version": "1.5.0",
            "value": "Downloading: 100%",
            "_view_count": null,
            "_view_module_version": "1.5.0",
            "description_tooltip": null,
            "_model_module": "@jupyter-widgets/controls",
            "layout": "IPY_MODEL_55aed009ccdb45a2b3e9632a45db7255"
          }
        },
        "e4bb8aee31cc47939505cad378893f4a": {
          "model_module": "@jupyter-widgets/controls",
          "model_name": "FloatProgressModel",
          "model_module_version": "1.5.0",
          "state": {
            "_view_name": "ProgressView",
            "style": "IPY_MODEL_fe17c55a6969465595ec39192c3982ed",
            "_dom_classes": [],
            "description": "",
            "_model_name": "FloatProgressModel",
            "bar_style": "success",
            "max": 43,
            "_view_module": "@jupyter-widgets/controls",
            "_model_module_version": "1.5.0",
            "value": 43,
            "_view_count": null,
            "_view_module_version": "1.5.0",
            "orientation": "horizontal",
            "min": 0,
            "description_tooltip": null,
            "_model_module": "@jupyter-widgets/controls",
            "layout": "IPY_MODEL_65b596876fc44226a6f9d969a3515b65"
          }
        },
        "ecbc07ac5bba4a6994a59b6233b1d886": {
          "model_module": "@jupyter-widgets/controls",
          "model_name": "HTMLModel",
          "model_module_version": "1.5.0",
          "state": {
            "_view_name": "HTMLView",
            "style": "IPY_MODEL_eb528ab26a234a33a92b31d9608d892a",
            "_dom_classes": [],
            "description": "",
            "_model_name": "HTMLModel",
            "placeholder": "​",
            "_view_module": "@jupyter-widgets/controls",
            "_model_module_version": "1.5.0",
            "value": " 43.0/43.0 [00:00&lt;00:00, 225B/s]",
            "_view_count": null,
            "_view_module_version": "1.5.0",
            "description_tooltip": null,
            "_model_module": "@jupyter-widgets/controls",
            "layout": "IPY_MODEL_afe7eca60b7948c190262494c122315e"
          }
        },
        "50d6be27d0414958be5364d30b1133de": {
          "model_module": "@jupyter-widgets/controls",
          "model_name": "DescriptionStyleModel",
          "model_module_version": "1.5.0",
          "state": {
            "_view_name": "StyleView",
            "_model_name": "DescriptionStyleModel",
            "description_width": "",
            "_view_module": "@jupyter-widgets/base",
            "_model_module_version": "1.5.0",
            "_view_count": null,
            "_view_module_version": "1.2.0",
            "_model_module": "@jupyter-widgets/controls"
          }
        },
        "55aed009ccdb45a2b3e9632a45db7255": {
          "model_module": "@jupyter-widgets/base",
          "model_name": "LayoutModel",
          "model_module_version": "1.2.0",
          "state": {
            "_view_name": "LayoutView",
            "grid_template_rows": null,
            "right": null,
            "justify_content": null,
            "_view_module": "@jupyter-widgets/base",
            "overflow": null,
            "_model_module_version": "1.2.0",
            "_view_count": null,
            "flex_flow": null,
            "width": null,
            "min_width": null,
            "border": null,
            "align_items": null,
            "bottom": null,
            "_model_module": "@jupyter-widgets/base",
            "top": null,
            "grid_column": null,
            "overflow_y": null,
            "overflow_x": null,
            "grid_auto_flow": null,
            "grid_area": null,
            "grid_template_columns": null,
            "flex": null,
            "_model_name": "LayoutModel",
            "justify_items": null,
            "grid_row": null,
            "max_height": null,
            "align_content": null,
            "visibility": null,
            "align_self": null,
            "height": null,
            "min_height": null,
            "padding": null,
            "grid_auto_rows": null,
            "grid_gap": null,
            "max_width": null,
            "order": null,
            "_view_module_version": "1.2.0",
            "grid_template_areas": null,
            "object_position": null,
            "object_fit": null,
            "grid_auto_columns": null,
            "margin": null,
            "display": null,
            "left": null
          }
        },
        "fe17c55a6969465595ec39192c3982ed": {
          "model_module": "@jupyter-widgets/controls",
          "model_name": "ProgressStyleModel",
          "model_module_version": "1.5.0",
          "state": {
            "_view_name": "StyleView",
            "_model_name": "ProgressStyleModel",
            "description_width": "",
            "_view_module": "@jupyter-widgets/base",
            "_model_module_version": "1.5.0",
            "_view_count": null,
            "_view_module_version": "1.2.0",
            "bar_color": null,
            "_model_module": "@jupyter-widgets/controls"
          }
        },
        "65b596876fc44226a6f9d969a3515b65": {
          "model_module": "@jupyter-widgets/base",
          "model_name": "LayoutModel",
          "model_module_version": "1.2.0",
          "state": {
            "_view_name": "LayoutView",
            "grid_template_rows": null,
            "right": null,
            "justify_content": null,
            "_view_module": "@jupyter-widgets/base",
            "overflow": null,
            "_model_module_version": "1.2.0",
            "_view_count": null,
            "flex_flow": null,
            "width": null,
            "min_width": null,
            "border": null,
            "align_items": null,
            "bottom": null,
            "_model_module": "@jupyter-widgets/base",
            "top": null,
            "grid_column": null,
            "overflow_y": null,
            "overflow_x": null,
            "grid_auto_flow": null,
            "grid_area": null,
            "grid_template_columns": null,
            "flex": null,
            "_model_name": "LayoutModel",
            "justify_items": null,
            "grid_row": null,
            "max_height": null,
            "align_content": null,
            "visibility": null,
            "align_self": null,
            "height": null,
            "min_height": null,
            "padding": null,
            "grid_auto_rows": null,
            "grid_gap": null,
            "max_width": null,
            "order": null,
            "_view_module_version": "1.2.0",
            "grid_template_areas": null,
            "object_position": null,
            "object_fit": null,
            "grid_auto_columns": null,
            "margin": null,
            "display": null,
            "left": null
          }
        },
        "eb528ab26a234a33a92b31d9608d892a": {
          "model_module": "@jupyter-widgets/controls",
          "model_name": "DescriptionStyleModel",
          "model_module_version": "1.5.0",
          "state": {
            "_view_name": "StyleView",
            "_model_name": "DescriptionStyleModel",
            "description_width": "",
            "_view_module": "@jupyter-widgets/base",
            "_model_module_version": "1.5.0",
            "_view_count": null,
            "_view_module_version": "1.2.0",
            "_model_module": "@jupyter-widgets/controls"
          }
        },
        "afe7eca60b7948c190262494c122315e": {
          "model_module": "@jupyter-widgets/base",
          "model_name": "LayoutModel",
          "model_module_version": "1.2.0",
          "state": {
            "_view_name": "LayoutView",
            "grid_template_rows": null,
            "right": null,
            "justify_content": null,
            "_view_module": "@jupyter-widgets/base",
            "overflow": null,
            "_model_module_version": "1.2.0",
            "_view_count": null,
            "flex_flow": null,
            "width": null,
            "min_width": null,
            "border": null,
            "align_items": null,
            "bottom": null,
            "_model_module": "@jupyter-widgets/base",
            "top": null,
            "grid_column": null,
            "overflow_y": null,
            "overflow_x": null,
            "grid_auto_flow": null,
            "grid_area": null,
            "grid_template_columns": null,
            "flex": null,
            "_model_name": "LayoutModel",
            "justify_items": null,
            "grid_row": null,
            "max_height": null,
            "align_content": null,
            "visibility": null,
            "align_self": null,
            "height": null,
            "min_height": null,
            "padding": null,
            "grid_auto_rows": null,
            "grid_gap": null,
            "max_width": null,
            "order": null,
            "_view_module_version": "1.2.0",
            "grid_template_areas": null,
            "object_position": null,
            "object_fit": null,
            "grid_auto_columns": null,
            "margin": null,
            "display": null,
            "left": null
          }
        },
        "d07c6ac8b219497489e6a1a2ecedd549": {
          "model_module": "@jupyter-widgets/controls",
          "model_name": "HBoxModel",
          "model_module_version": "1.5.0",
          "state": {
            "_view_name": "HBoxView",
            "_dom_classes": [],
            "_model_name": "HBoxModel",
            "_view_module": "@jupyter-widgets/controls",
            "_model_module_version": "1.5.0",
            "_view_count": null,
            "_view_module_version": "1.5.0",
            "box_style": "",
            "layout": "IPY_MODEL_e8ef267843e042dea63ab9de513315ae",
            "_model_module": "@jupyter-widgets/controls",
            "children": [
              "IPY_MODEL_b7cdd8be12d54ab781725a4a3582c35a",
              "IPY_MODEL_245537b4d18b48ed951aa4f4f996d491",
              "IPY_MODEL_53c29057119f4b389219c34f2ca666bc"
            ]
          }
        },
        "e8ef267843e042dea63ab9de513315ae": {
          "model_module": "@jupyter-widgets/base",
          "model_name": "LayoutModel",
          "model_module_version": "1.2.0",
          "state": {
            "_view_name": "LayoutView",
            "grid_template_rows": null,
            "right": null,
            "justify_content": null,
            "_view_module": "@jupyter-widgets/base",
            "overflow": null,
            "_model_module_version": "1.2.0",
            "_view_count": null,
            "flex_flow": null,
            "width": null,
            "min_width": null,
            "border": null,
            "align_items": null,
            "bottom": null,
            "_model_module": "@jupyter-widgets/base",
            "top": null,
            "grid_column": null,
            "overflow_y": null,
            "overflow_x": null,
            "grid_auto_flow": null,
            "grid_area": null,
            "grid_template_columns": null,
            "flex": null,
            "_model_name": "LayoutModel",
            "justify_items": null,
            "grid_row": null,
            "max_height": null,
            "align_content": null,
            "visibility": null,
            "align_self": null,
            "height": null,
            "min_height": null,
            "padding": null,
            "grid_auto_rows": null,
            "grid_gap": null,
            "max_width": null,
            "order": null,
            "_view_module_version": "1.2.0",
            "grid_template_areas": null,
            "object_position": null,
            "object_fit": null,
            "grid_auto_columns": null,
            "margin": null,
            "display": null,
            "left": null
          }
        },
        "b7cdd8be12d54ab781725a4a3582c35a": {
          "model_module": "@jupyter-widgets/controls",
          "model_name": "HTMLModel",
          "model_module_version": "1.5.0",
          "state": {
            "_view_name": "HTMLView",
            "style": "IPY_MODEL_81bd2f9dc6144d518e5675bc4103789d",
            "_dom_classes": [],
            "description": "",
            "_model_name": "HTMLModel",
            "placeholder": "​",
            "_view_module": "@jupyter-widgets/controls",
            "_model_module_version": "1.5.0",
            "value": "Downloading: 100%",
            "_view_count": null,
            "_view_module_version": "1.5.0",
            "description_tooltip": null,
            "_model_module": "@jupyter-widgets/controls",
            "layout": "IPY_MODEL_e659a7f59b5d478bbd7c7967f1f2b37c"
          }
        },
        "245537b4d18b48ed951aa4f4f996d491": {
          "model_module": "@jupyter-widgets/controls",
          "model_name": "FloatProgressModel",
          "model_module_version": "1.5.0",
          "state": {
            "_view_name": "ProgressView",
            "style": "IPY_MODEL_a4a72a9fbf104940a3532e03d318ed79",
            "_dom_classes": [],
            "description": "",
            "_model_name": "FloatProgressModel",
            "bar_style": "success",
            "max": 647,
            "_view_module": "@jupyter-widgets/controls",
            "_model_module_version": "1.5.0",
            "value": 647,
            "_view_count": null,
            "_view_module_version": "1.5.0",
            "orientation": "horizontal",
            "min": 0,
            "description_tooltip": null,
            "_model_module": "@jupyter-widgets/controls",
            "layout": "IPY_MODEL_416ac095320a43b090024fe0555b7467"
          }
        },
        "53c29057119f4b389219c34f2ca666bc": {
          "model_module": "@jupyter-widgets/controls",
          "model_name": "HTMLModel",
          "model_module_version": "1.5.0",
          "state": {
            "_view_name": "HTMLView",
            "style": "IPY_MODEL_7b98dff7aad34e919a2e1c1cea9e3bb1",
            "_dom_classes": [],
            "description": "",
            "_model_name": "HTMLModel",
            "placeholder": "​",
            "_view_module": "@jupyter-widgets/controls",
            "_model_module_version": "1.5.0",
            "value": " 647/647 [00:00&lt;00:00, 14.1kB/s]",
            "_view_count": null,
            "_view_module_version": "1.5.0",
            "description_tooltip": null,
            "_model_module": "@jupyter-widgets/controls",
            "layout": "IPY_MODEL_77af88904b0b4f649739cbc847e91911"
          }
        },
        "81bd2f9dc6144d518e5675bc4103789d": {
          "model_module": "@jupyter-widgets/controls",
          "model_name": "DescriptionStyleModel",
          "model_module_version": "1.5.0",
          "state": {
            "_view_name": "StyleView",
            "_model_name": "DescriptionStyleModel",
            "description_width": "",
            "_view_module": "@jupyter-widgets/base",
            "_model_module_version": "1.5.0",
            "_view_count": null,
            "_view_module_version": "1.2.0",
            "_model_module": "@jupyter-widgets/controls"
          }
        },
        "e659a7f59b5d478bbd7c7967f1f2b37c": {
          "model_module": "@jupyter-widgets/base",
          "model_name": "LayoutModel",
          "model_module_version": "1.2.0",
          "state": {
            "_view_name": "LayoutView",
            "grid_template_rows": null,
            "right": null,
            "justify_content": null,
            "_view_module": "@jupyter-widgets/base",
            "overflow": null,
            "_model_module_version": "1.2.0",
            "_view_count": null,
            "flex_flow": null,
            "width": null,
            "min_width": null,
            "border": null,
            "align_items": null,
            "bottom": null,
            "_model_module": "@jupyter-widgets/base",
            "top": null,
            "grid_column": null,
            "overflow_y": null,
            "overflow_x": null,
            "grid_auto_flow": null,
            "grid_area": null,
            "grid_template_columns": null,
            "flex": null,
            "_model_name": "LayoutModel",
            "justify_items": null,
            "grid_row": null,
            "max_height": null,
            "align_content": null,
            "visibility": null,
            "align_self": null,
            "height": null,
            "min_height": null,
            "padding": null,
            "grid_auto_rows": null,
            "grid_gap": null,
            "max_width": null,
            "order": null,
            "_view_module_version": "1.2.0",
            "grid_template_areas": null,
            "object_position": null,
            "object_fit": null,
            "grid_auto_columns": null,
            "margin": null,
            "display": null,
            "left": null
          }
        },
        "a4a72a9fbf104940a3532e03d318ed79": {
          "model_module": "@jupyter-widgets/controls",
          "model_name": "ProgressStyleModel",
          "model_module_version": "1.5.0",
          "state": {
            "_view_name": "StyleView",
            "_model_name": "ProgressStyleModel",
            "description_width": "",
            "_view_module": "@jupyter-widgets/base",
            "_model_module_version": "1.5.0",
            "_view_count": null,
            "_view_module_version": "1.2.0",
            "bar_color": null,
            "_model_module": "@jupyter-widgets/controls"
          }
        },
        "416ac095320a43b090024fe0555b7467": {
          "model_module": "@jupyter-widgets/base",
          "model_name": "LayoutModel",
          "model_module_version": "1.2.0",
          "state": {
            "_view_name": "LayoutView",
            "grid_template_rows": null,
            "right": null,
            "justify_content": null,
            "_view_module": "@jupyter-widgets/base",
            "overflow": null,
            "_model_module_version": "1.2.0",
            "_view_count": null,
            "flex_flow": null,
            "width": null,
            "min_width": null,
            "border": null,
            "align_items": null,
            "bottom": null,
            "_model_module": "@jupyter-widgets/base",
            "top": null,
            "grid_column": null,
            "overflow_y": null,
            "overflow_x": null,
            "grid_auto_flow": null,
            "grid_area": null,
            "grid_template_columns": null,
            "flex": null,
            "_model_name": "LayoutModel",
            "justify_items": null,
            "grid_row": null,
            "max_height": null,
            "align_content": null,
            "visibility": null,
            "align_self": null,
            "height": null,
            "min_height": null,
            "padding": null,
            "grid_auto_rows": null,
            "grid_gap": null,
            "max_width": null,
            "order": null,
            "_view_module_version": "1.2.0",
            "grid_template_areas": null,
            "object_position": null,
            "object_fit": null,
            "grid_auto_columns": null,
            "margin": null,
            "display": null,
            "left": null
          }
        },
        "7b98dff7aad34e919a2e1c1cea9e3bb1": {
          "model_module": "@jupyter-widgets/controls",
          "model_name": "DescriptionStyleModel",
          "model_module_version": "1.5.0",
          "state": {
            "_view_name": "StyleView",
            "_model_name": "DescriptionStyleModel",
            "description_width": "",
            "_view_module": "@jupyter-widgets/base",
            "_model_module_version": "1.5.0",
            "_view_count": null,
            "_view_module_version": "1.2.0",
            "_model_module": "@jupyter-widgets/controls"
          }
        },
        "77af88904b0b4f649739cbc847e91911": {
          "model_module": "@jupyter-widgets/base",
          "model_name": "LayoutModel",
          "model_module_version": "1.2.0",
          "state": {
            "_view_name": "LayoutView",
            "grid_template_rows": null,
            "right": null,
            "justify_content": null,
            "_view_module": "@jupyter-widgets/base",
            "overflow": null,
            "_model_module_version": "1.2.0",
            "_view_count": null,
            "flex_flow": null,
            "width": null,
            "min_width": null,
            "border": null,
            "align_items": null,
            "bottom": null,
            "_model_module": "@jupyter-widgets/base",
            "top": null,
            "grid_column": null,
            "overflow_y": null,
            "overflow_x": null,
            "grid_auto_flow": null,
            "grid_area": null,
            "grid_template_columns": null,
            "flex": null,
            "_model_name": "LayoutModel",
            "justify_items": null,
            "grid_row": null,
            "max_height": null,
            "align_content": null,
            "visibility": null,
            "align_self": null,
            "height": null,
            "min_height": null,
            "padding": null,
            "grid_auto_rows": null,
            "grid_gap": null,
            "max_width": null,
            "order": null,
            "_view_module_version": "1.2.0",
            "grid_template_areas": null,
            "object_position": null,
            "object_fit": null,
            "grid_auto_columns": null,
            "margin": null,
            "display": null,
            "left": null
          }
        },
        "5e96bb6fa6ba40c6aeb16c5344de8010": {
          "model_module": "@jupyter-widgets/controls",
          "model_name": "HBoxModel",
          "model_module_version": "1.5.0",
          "state": {
            "_view_name": "HBoxView",
            "_dom_classes": [],
            "_model_name": "HBoxModel",
            "_view_module": "@jupyter-widgets/controls",
            "_model_module_version": "1.5.0",
            "_view_count": null,
            "_view_module_version": "1.5.0",
            "box_style": "",
            "layout": "IPY_MODEL_8863b08751644b26bf859b093c4ba939",
            "_model_module": "@jupyter-widgets/controls",
            "children": [
              "IPY_MODEL_6891dd09e3664dc9a012fcfa95f52d0a",
              "IPY_MODEL_ee794d3ef9b644cf9e61438455cdfa38",
              "IPY_MODEL_b9e57796a3c84ea6ac58def09ad8471d"
            ]
          }
        },
        "8863b08751644b26bf859b093c4ba939": {
          "model_module": "@jupyter-widgets/base",
          "model_name": "LayoutModel",
          "model_module_version": "1.2.0",
          "state": {
            "_view_name": "LayoutView",
            "grid_template_rows": null,
            "right": null,
            "justify_content": null,
            "_view_module": "@jupyter-widgets/base",
            "overflow": null,
            "_model_module_version": "1.2.0",
            "_view_count": null,
            "flex_flow": null,
            "width": null,
            "min_width": null,
            "border": null,
            "align_items": null,
            "bottom": null,
            "_model_module": "@jupyter-widgets/base",
            "top": null,
            "grid_column": null,
            "overflow_y": null,
            "overflow_x": null,
            "grid_auto_flow": null,
            "grid_area": null,
            "grid_template_columns": null,
            "flex": null,
            "_model_name": "LayoutModel",
            "justify_items": null,
            "grid_row": null,
            "max_height": null,
            "align_content": null,
            "visibility": null,
            "align_self": null,
            "height": null,
            "min_height": null,
            "padding": null,
            "grid_auto_rows": null,
            "grid_gap": null,
            "max_width": null,
            "order": null,
            "_view_module_version": "1.2.0",
            "grid_template_areas": null,
            "object_position": null,
            "object_fit": null,
            "grid_auto_columns": null,
            "margin": null,
            "display": null,
            "left": null
          }
        },
        "6891dd09e3664dc9a012fcfa95f52d0a": {
          "model_module": "@jupyter-widgets/controls",
          "model_name": "HTMLModel",
          "model_module_version": "1.5.0",
          "state": {
            "_view_name": "HTMLView",
            "style": "IPY_MODEL_02637bae9ad440af8c4fc8ac9e8bc5c2",
            "_dom_classes": [],
            "description": "",
            "_model_name": "HTMLModel",
            "placeholder": "​",
            "_view_module": "@jupyter-widgets/controls",
            "_model_module_version": "1.5.0",
            "value": "Downloading: 100%",
            "_view_count": null,
            "_view_module_version": "1.5.0",
            "description_tooltip": null,
            "_model_module": "@jupyter-widgets/controls",
            "layout": "IPY_MODEL_1882e6b0852f484592b2c53e078e1182"
          }
        },
        "ee794d3ef9b644cf9e61438455cdfa38": {
          "model_module": "@jupyter-widgets/controls",
          "model_name": "FloatProgressModel",
          "model_module_version": "1.5.0",
          "state": {
            "_view_name": "ProgressView",
            "style": "IPY_MODEL_fcd3a710a0d945e0bd5987c6ffd8bdd0",
            "_dom_classes": [],
            "description": "",
            "_model_name": "FloatProgressModel",
            "bar_style": "success",
            "max": 209528,
            "_view_module": "@jupyter-widgets/controls",
            "_model_module_version": "1.5.0",
            "value": 209528,
            "_view_count": null,
            "_view_module_version": "1.5.0",
            "orientation": "horizontal",
            "min": 0,
            "description_tooltip": null,
            "_model_module": "@jupyter-widgets/controls",
            "layout": "IPY_MODEL_4d3c5f3a73cf45de8fc073f547c83afb"
          }
        },
        "b9e57796a3c84ea6ac58def09ad8471d": {
          "model_module": "@jupyter-widgets/controls",
          "model_name": "HTMLModel",
          "model_module_version": "1.5.0",
          "state": {
            "_view_name": "HTMLView",
            "style": "IPY_MODEL_d0661a9ccc7f49bb9c888763810e86af",
            "_dom_classes": [],
            "description": "",
            "_model_name": "HTMLModel",
            "placeholder": "​",
            "_view_module": "@jupyter-widgets/controls",
            "_model_module_version": "1.5.0",
            "value": " 210k/210k [00:00&lt;00:00, 1.05MB/s]",
            "_view_count": null,
            "_view_module_version": "1.5.0",
            "description_tooltip": null,
            "_model_module": "@jupyter-widgets/controls",
            "layout": "IPY_MODEL_473f15cf10ee420693b87b2ab613f479"
          }
        },
        "02637bae9ad440af8c4fc8ac9e8bc5c2": {
          "model_module": "@jupyter-widgets/controls",
          "model_name": "DescriptionStyleModel",
          "model_module_version": "1.5.0",
          "state": {
            "_view_name": "StyleView",
            "_model_name": "DescriptionStyleModel",
            "description_width": "",
            "_view_module": "@jupyter-widgets/base",
            "_model_module_version": "1.5.0",
            "_view_count": null,
            "_view_module_version": "1.2.0",
            "_model_module": "@jupyter-widgets/controls"
          }
        },
        "1882e6b0852f484592b2c53e078e1182": {
          "model_module": "@jupyter-widgets/base",
          "model_name": "LayoutModel",
          "model_module_version": "1.2.0",
          "state": {
            "_view_name": "LayoutView",
            "grid_template_rows": null,
            "right": null,
            "justify_content": null,
            "_view_module": "@jupyter-widgets/base",
            "overflow": null,
            "_model_module_version": "1.2.0",
            "_view_count": null,
            "flex_flow": null,
            "width": null,
            "min_width": null,
            "border": null,
            "align_items": null,
            "bottom": null,
            "_model_module": "@jupyter-widgets/base",
            "top": null,
            "grid_column": null,
            "overflow_y": null,
            "overflow_x": null,
            "grid_auto_flow": null,
            "grid_area": null,
            "grid_template_columns": null,
            "flex": null,
            "_model_name": "LayoutModel",
            "justify_items": null,
            "grid_row": null,
            "max_height": null,
            "align_content": null,
            "visibility": null,
            "align_self": null,
            "height": null,
            "min_height": null,
            "padding": null,
            "grid_auto_rows": null,
            "grid_gap": null,
            "max_width": null,
            "order": null,
            "_view_module_version": "1.2.0",
            "grid_template_areas": null,
            "object_position": null,
            "object_fit": null,
            "grid_auto_columns": null,
            "margin": null,
            "display": null,
            "left": null
          }
        },
        "fcd3a710a0d945e0bd5987c6ffd8bdd0": {
          "model_module": "@jupyter-widgets/controls",
          "model_name": "ProgressStyleModel",
          "model_module_version": "1.5.0",
          "state": {
            "_view_name": "StyleView",
            "_model_name": "ProgressStyleModel",
            "description_width": "",
            "_view_module": "@jupyter-widgets/base",
            "_model_module_version": "1.5.0",
            "_view_count": null,
            "_view_module_version": "1.2.0",
            "bar_color": null,
            "_model_module": "@jupyter-widgets/controls"
          }
        },
        "4d3c5f3a73cf45de8fc073f547c83afb": {
          "model_module": "@jupyter-widgets/base",
          "model_name": "LayoutModel",
          "model_module_version": "1.2.0",
          "state": {
            "_view_name": "LayoutView",
            "grid_template_rows": null,
            "right": null,
            "justify_content": null,
            "_view_module": "@jupyter-widgets/base",
            "overflow": null,
            "_model_module_version": "1.2.0",
            "_view_count": null,
            "flex_flow": null,
            "width": null,
            "min_width": null,
            "border": null,
            "align_items": null,
            "bottom": null,
            "_model_module": "@jupyter-widgets/base",
            "top": null,
            "grid_column": null,
            "overflow_y": null,
            "overflow_x": null,
            "grid_auto_flow": null,
            "grid_area": null,
            "grid_template_columns": null,
            "flex": null,
            "_model_name": "LayoutModel",
            "justify_items": null,
            "grid_row": null,
            "max_height": null,
            "align_content": null,
            "visibility": null,
            "align_self": null,
            "height": null,
            "min_height": null,
            "padding": null,
            "grid_auto_rows": null,
            "grid_gap": null,
            "max_width": null,
            "order": null,
            "_view_module_version": "1.2.0",
            "grid_template_areas": null,
            "object_position": null,
            "object_fit": null,
            "grid_auto_columns": null,
            "margin": null,
            "display": null,
            "left": null
          }
        },
        "d0661a9ccc7f49bb9c888763810e86af": {
          "model_module": "@jupyter-widgets/controls",
          "model_name": "DescriptionStyleModel",
          "model_module_version": "1.5.0",
          "state": {
            "_view_name": "StyleView",
            "_model_name": "DescriptionStyleModel",
            "description_width": "",
            "_view_module": "@jupyter-widgets/base",
            "_model_module_version": "1.5.0",
            "_view_count": null,
            "_view_module_version": "1.2.0",
            "_model_module": "@jupyter-widgets/controls"
          }
        },
        "473f15cf10ee420693b87b2ab613f479": {
          "model_module": "@jupyter-widgets/base",
          "model_name": "LayoutModel",
          "model_module_version": "1.2.0",
          "state": {
            "_view_name": "LayoutView",
            "grid_template_rows": null,
            "right": null,
            "justify_content": null,
            "_view_module": "@jupyter-widgets/base",
            "overflow": null,
            "_model_module_version": "1.2.0",
            "_view_count": null,
            "flex_flow": null,
            "width": null,
            "min_width": null,
            "border": null,
            "align_items": null,
            "bottom": null,
            "_model_module": "@jupyter-widgets/base",
            "top": null,
            "grid_column": null,
            "overflow_y": null,
            "overflow_x": null,
            "grid_auto_flow": null,
            "grid_area": null,
            "grid_template_columns": null,
            "flex": null,
            "_model_name": "LayoutModel",
            "justify_items": null,
            "grid_row": null,
            "max_height": null,
            "align_content": null,
            "visibility": null,
            "align_self": null,
            "height": null,
            "min_height": null,
            "padding": null,
            "grid_auto_rows": null,
            "grid_gap": null,
            "max_width": null,
            "order": null,
            "_view_module_version": "1.2.0",
            "grid_template_areas": null,
            "object_position": null,
            "object_fit": null,
            "grid_auto_columns": null,
            "margin": null,
            "display": null,
            "left": null
          }
        },
        "cc2f50ac55324392973de97a4bf9f900": {
          "model_module": "@jupyter-widgets/controls",
          "model_name": "HBoxModel",
          "model_module_version": "1.5.0",
          "state": {
            "_view_name": "HBoxView",
            "_dom_classes": [],
            "_model_name": "HBoxModel",
            "_view_module": "@jupyter-widgets/controls",
            "_model_module_version": "1.5.0",
            "_view_count": null,
            "_view_module_version": "1.5.0",
            "box_style": "",
            "layout": "IPY_MODEL_dab00cf9945248ea878f18668196f464",
            "_model_module": "@jupyter-widgets/controls",
            "children": [
              "IPY_MODEL_284c3f41b9594ead9c2fba865dec44d7",
              "IPY_MODEL_391b860562154d509bcb0946ce273a07",
              "IPY_MODEL_83415c44cdbd49d9b019d638f6e6821d"
            ]
          }
        },
        "dab00cf9945248ea878f18668196f464": {
          "model_module": "@jupyter-widgets/base",
          "model_name": "LayoutModel",
          "model_module_version": "1.2.0",
          "state": {
            "_view_name": "LayoutView",
            "grid_template_rows": null,
            "right": null,
            "justify_content": null,
            "_view_module": "@jupyter-widgets/base",
            "overflow": null,
            "_model_module_version": "1.2.0",
            "_view_count": null,
            "flex_flow": null,
            "width": null,
            "min_width": null,
            "border": null,
            "align_items": null,
            "bottom": null,
            "_model_module": "@jupyter-widgets/base",
            "top": null,
            "grid_column": null,
            "overflow_y": null,
            "overflow_x": null,
            "grid_auto_flow": null,
            "grid_area": null,
            "grid_template_columns": null,
            "flex": null,
            "_model_name": "LayoutModel",
            "justify_items": null,
            "grid_row": null,
            "max_height": null,
            "align_content": null,
            "visibility": null,
            "align_self": null,
            "height": null,
            "min_height": null,
            "padding": null,
            "grid_auto_rows": null,
            "grid_gap": null,
            "max_width": null,
            "order": null,
            "_view_module_version": "1.2.0",
            "grid_template_areas": null,
            "object_position": null,
            "object_fit": null,
            "grid_auto_columns": null,
            "margin": null,
            "display": null,
            "left": null
          }
        },
        "284c3f41b9594ead9c2fba865dec44d7": {
          "model_module": "@jupyter-widgets/controls",
          "model_name": "HTMLModel",
          "model_module_version": "1.5.0",
          "state": {
            "_view_name": "HTMLView",
            "style": "IPY_MODEL_f574e60270a74b64a6ff4231a62e4848",
            "_dom_classes": [],
            "description": "",
            "_model_name": "HTMLModel",
            "placeholder": "​",
            "_view_module": "@jupyter-widgets/controls",
            "_model_module_version": "1.5.0",
            "value": "Downloading: 100%",
            "_view_count": null,
            "_view_module_version": "1.5.0",
            "description_tooltip": null,
            "_model_module": "@jupyter-widgets/controls",
            "layout": "IPY_MODEL_ee2ebd85c44f4d4bb1d64fad1256ff36"
          }
        },
        "391b860562154d509bcb0946ce273a07": {
          "model_module": "@jupyter-widgets/controls",
          "model_name": "FloatProgressModel",
          "model_module_version": "1.5.0",
          "state": {
            "_view_name": "ProgressView",
            "style": "IPY_MODEL_68c565f5db254c52909348bd78695353",
            "_dom_classes": [],
            "description": "",
            "_model_name": "FloatProgressModel",
            "bar_style": "success",
            "max": 2,
            "_view_module": "@jupyter-widgets/controls",
            "_model_module_version": "1.5.0",
            "value": 2,
            "_view_count": null,
            "_view_module_version": "1.5.0",
            "orientation": "horizontal",
            "min": 0,
            "description_tooltip": null,
            "_model_module": "@jupyter-widgets/controls",
            "layout": "IPY_MODEL_2b6b33fc41a4475d92d4fe82f2eab70f"
          }
        },
        "83415c44cdbd49d9b019d638f6e6821d": {
          "model_module": "@jupyter-widgets/controls",
          "model_name": "HTMLModel",
          "model_module_version": "1.5.0",
          "state": {
            "_view_name": "HTMLView",
            "style": "IPY_MODEL_f679bbf23ab5475f8451f65b740df001",
            "_dom_classes": [],
            "description": "",
            "_model_name": "HTMLModel",
            "placeholder": "​",
            "_view_module": "@jupyter-widgets/controls",
            "_model_module_version": "1.5.0",
            "value": " 2.00/2.00 [00:00&lt;00:00, 52.3B/s]",
            "_view_count": null,
            "_view_module_version": "1.5.0",
            "description_tooltip": null,
            "_model_module": "@jupyter-widgets/controls",
            "layout": "IPY_MODEL_4ba41209639f4617b2a7da186983229b"
          }
        },
        "f574e60270a74b64a6ff4231a62e4848": {
          "model_module": "@jupyter-widgets/controls",
          "model_name": "DescriptionStyleModel",
          "model_module_version": "1.5.0",
          "state": {
            "_view_name": "StyleView",
            "_model_name": "DescriptionStyleModel",
            "description_width": "",
            "_view_module": "@jupyter-widgets/base",
            "_model_module_version": "1.5.0",
            "_view_count": null,
            "_view_module_version": "1.2.0",
            "_model_module": "@jupyter-widgets/controls"
          }
        },
        "ee2ebd85c44f4d4bb1d64fad1256ff36": {
          "model_module": "@jupyter-widgets/base",
          "model_name": "LayoutModel",
          "model_module_version": "1.2.0",
          "state": {
            "_view_name": "LayoutView",
            "grid_template_rows": null,
            "right": null,
            "justify_content": null,
            "_view_module": "@jupyter-widgets/base",
            "overflow": null,
            "_model_module_version": "1.2.0",
            "_view_count": null,
            "flex_flow": null,
            "width": null,
            "min_width": null,
            "border": null,
            "align_items": null,
            "bottom": null,
            "_model_module": "@jupyter-widgets/base",
            "top": null,
            "grid_column": null,
            "overflow_y": null,
            "overflow_x": null,
            "grid_auto_flow": null,
            "grid_area": null,
            "grid_template_columns": null,
            "flex": null,
            "_model_name": "LayoutModel",
            "justify_items": null,
            "grid_row": null,
            "max_height": null,
            "align_content": null,
            "visibility": null,
            "align_self": null,
            "height": null,
            "min_height": null,
            "padding": null,
            "grid_auto_rows": null,
            "grid_gap": null,
            "max_width": null,
            "order": null,
            "_view_module_version": "1.2.0",
            "grid_template_areas": null,
            "object_position": null,
            "object_fit": null,
            "grid_auto_columns": null,
            "margin": null,
            "display": null,
            "left": null
          }
        },
        "68c565f5db254c52909348bd78695353": {
          "model_module": "@jupyter-widgets/controls",
          "model_name": "ProgressStyleModel",
          "model_module_version": "1.5.0",
          "state": {
            "_view_name": "StyleView",
            "_model_name": "ProgressStyleModel",
            "description_width": "",
            "_view_module": "@jupyter-widgets/base",
            "_model_module_version": "1.5.0",
            "_view_count": null,
            "_view_module_version": "1.2.0",
            "bar_color": null,
            "_model_module": "@jupyter-widgets/controls"
          }
        },
        "2b6b33fc41a4475d92d4fe82f2eab70f": {
          "model_module": "@jupyter-widgets/base",
          "model_name": "LayoutModel",
          "model_module_version": "1.2.0",
          "state": {
            "_view_name": "LayoutView",
            "grid_template_rows": null,
            "right": null,
            "justify_content": null,
            "_view_module": "@jupyter-widgets/base",
            "overflow": null,
            "_model_module_version": "1.2.0",
            "_view_count": null,
            "flex_flow": null,
            "width": null,
            "min_width": null,
            "border": null,
            "align_items": null,
            "bottom": null,
            "_model_module": "@jupyter-widgets/base",
            "top": null,
            "grid_column": null,
            "overflow_y": null,
            "overflow_x": null,
            "grid_auto_flow": null,
            "grid_area": null,
            "grid_template_columns": null,
            "flex": null,
            "_model_name": "LayoutModel",
            "justify_items": null,
            "grid_row": null,
            "max_height": null,
            "align_content": null,
            "visibility": null,
            "align_self": null,
            "height": null,
            "min_height": null,
            "padding": null,
            "grid_auto_rows": null,
            "grid_gap": null,
            "max_width": null,
            "order": null,
            "_view_module_version": "1.2.0",
            "grid_template_areas": null,
            "object_position": null,
            "object_fit": null,
            "grid_auto_columns": null,
            "margin": null,
            "display": null,
            "left": null
          }
        },
        "f679bbf23ab5475f8451f65b740df001": {
          "model_module": "@jupyter-widgets/controls",
          "model_name": "DescriptionStyleModel",
          "model_module_version": "1.5.0",
          "state": {
            "_view_name": "StyleView",
            "_model_name": "DescriptionStyleModel",
            "description_width": "",
            "_view_module": "@jupyter-widgets/base",
            "_model_module_version": "1.5.0",
            "_view_count": null,
            "_view_module_version": "1.2.0",
            "_model_module": "@jupyter-widgets/controls"
          }
        },
        "4ba41209639f4617b2a7da186983229b": {
          "model_module": "@jupyter-widgets/base",
          "model_name": "LayoutModel",
          "model_module_version": "1.2.0",
          "state": {
            "_view_name": "LayoutView",
            "grid_template_rows": null,
            "right": null,
            "justify_content": null,
            "_view_module": "@jupyter-widgets/base",
            "overflow": null,
            "_model_module_version": "1.2.0",
            "_view_count": null,
            "flex_flow": null,
            "width": null,
            "min_width": null,
            "border": null,
            "align_items": null,
            "bottom": null,
            "_model_module": "@jupyter-widgets/base",
            "top": null,
            "grid_column": null,
            "overflow_y": null,
            "overflow_x": null,
            "grid_auto_flow": null,
            "grid_area": null,
            "grid_template_columns": null,
            "flex": null,
            "_model_name": "LayoutModel",
            "justify_items": null,
            "grid_row": null,
            "max_height": null,
            "align_content": null,
            "visibility": null,
            "align_self": null,
            "height": null,
            "min_height": null,
            "padding": null,
            "grid_auto_rows": null,
            "grid_gap": null,
            "max_width": null,
            "order": null,
            "_view_module_version": "1.2.0",
            "grid_template_areas": null,
            "object_position": null,
            "object_fit": null,
            "grid_auto_columns": null,
            "margin": null,
            "display": null,
            "left": null
          }
        },
        "7855d74e1eaf4f9fb9da9182149d68e8": {
          "model_module": "@jupyter-widgets/controls",
          "model_name": "HBoxModel",
          "model_module_version": "1.5.0",
          "state": {
            "_view_name": "HBoxView",
            "_dom_classes": [],
            "_model_name": "HBoxModel",
            "_view_module": "@jupyter-widgets/controls",
            "_model_module_version": "1.5.0",
            "_view_count": null,
            "_view_module_version": "1.5.0",
            "box_style": "",
            "layout": "IPY_MODEL_494df0036ecf41acbeafecc21af0a806",
            "_model_module": "@jupyter-widgets/controls",
            "children": [
              "IPY_MODEL_9f74252dbd6d4a2eb53a3836c5f641c2",
              "IPY_MODEL_b26b0a3f9b0b4cdeae24a3cf2c02622d",
              "IPY_MODEL_25965d9026aa4775b2384eed1ded0be5"
            ]
          }
        },
        "494df0036ecf41acbeafecc21af0a806": {
          "model_module": "@jupyter-widgets/base",
          "model_name": "LayoutModel",
          "model_module_version": "1.2.0",
          "state": {
            "_view_name": "LayoutView",
            "grid_template_rows": null,
            "right": null,
            "justify_content": null,
            "_view_module": "@jupyter-widgets/base",
            "overflow": null,
            "_model_module_version": "1.2.0",
            "_view_count": null,
            "flex_flow": null,
            "width": null,
            "min_width": null,
            "border": null,
            "align_items": null,
            "bottom": null,
            "_model_module": "@jupyter-widgets/base",
            "top": null,
            "grid_column": null,
            "overflow_y": null,
            "overflow_x": null,
            "grid_auto_flow": null,
            "grid_area": null,
            "grid_template_columns": null,
            "flex": null,
            "_model_name": "LayoutModel",
            "justify_items": null,
            "grid_row": null,
            "max_height": null,
            "align_content": null,
            "visibility": null,
            "align_self": null,
            "height": null,
            "min_height": null,
            "padding": null,
            "grid_auto_rows": null,
            "grid_gap": null,
            "max_width": null,
            "order": null,
            "_view_module_version": "1.2.0",
            "grid_template_areas": null,
            "object_position": null,
            "object_fit": null,
            "grid_auto_columns": null,
            "margin": null,
            "display": null,
            "left": null
          }
        },
        "9f74252dbd6d4a2eb53a3836c5f641c2": {
          "model_module": "@jupyter-widgets/controls",
          "model_name": "HTMLModel",
          "model_module_version": "1.5.0",
          "state": {
            "_view_name": "HTMLView",
            "style": "IPY_MODEL_2e520fffe65745dcbc1cc270767d53c3",
            "_dom_classes": [],
            "description": "",
            "_model_name": "HTMLModel",
            "placeholder": "​",
            "_view_module": "@jupyter-widgets/controls",
            "_model_module_version": "1.5.0",
            "value": "Downloading: 100%",
            "_view_count": null,
            "_view_module_version": "1.5.0",
            "description_tooltip": null,
            "_model_module": "@jupyter-widgets/controls",
            "layout": "IPY_MODEL_aff7faa6a02a4e48ba341c441871c545"
          }
        },
        "b26b0a3f9b0b4cdeae24a3cf2c02622d": {
          "model_module": "@jupyter-widgets/controls",
          "model_name": "FloatProgressModel",
          "model_module_version": "1.5.0",
          "state": {
            "_view_name": "ProgressView",
            "style": "IPY_MODEL_8e38590a29974d5ab06763ef28f0ff06",
            "_dom_classes": [],
            "description": "",
            "_model_name": "FloatProgressModel",
            "bar_style": "success",
            "max": 112,
            "_view_module": "@jupyter-widgets/controls",
            "_model_module_version": "1.5.0",
            "value": 112,
            "_view_count": null,
            "_view_module_version": "1.5.0",
            "orientation": "horizontal",
            "min": 0,
            "description_tooltip": null,
            "_model_module": "@jupyter-widgets/controls",
            "layout": "IPY_MODEL_452870d3e28b43d6bb5387311d01a3fc"
          }
        },
        "25965d9026aa4775b2384eed1ded0be5": {
          "model_module": "@jupyter-widgets/controls",
          "model_name": "HTMLModel",
          "model_module_version": "1.5.0",
          "state": {
            "_view_name": "HTMLView",
            "style": "IPY_MODEL_e5169b33b2d3483f8eb7c15f2b4eb7ba",
            "_dom_classes": [],
            "description": "",
            "_model_name": "HTMLModel",
            "placeholder": "​",
            "_view_module": "@jupyter-widgets/controls",
            "_model_module_version": "1.5.0",
            "value": " 112/112 [00:00&lt;00:00, 2.36kB/s]",
            "_view_count": null,
            "_view_module_version": "1.5.0",
            "description_tooltip": null,
            "_model_module": "@jupyter-widgets/controls",
            "layout": "IPY_MODEL_01bc2648517046fe8947b47afe010868"
          }
        },
        "2e520fffe65745dcbc1cc270767d53c3": {
          "model_module": "@jupyter-widgets/controls",
          "model_name": "DescriptionStyleModel",
          "model_module_version": "1.5.0",
          "state": {
            "_view_name": "StyleView",
            "_model_name": "DescriptionStyleModel",
            "description_width": "",
            "_view_module": "@jupyter-widgets/base",
            "_model_module_version": "1.5.0",
            "_view_count": null,
            "_view_module_version": "1.2.0",
            "_model_module": "@jupyter-widgets/controls"
          }
        },
        "aff7faa6a02a4e48ba341c441871c545": {
          "model_module": "@jupyter-widgets/base",
          "model_name": "LayoutModel",
          "model_module_version": "1.2.0",
          "state": {
            "_view_name": "LayoutView",
            "grid_template_rows": null,
            "right": null,
            "justify_content": null,
            "_view_module": "@jupyter-widgets/base",
            "overflow": null,
            "_model_module_version": "1.2.0",
            "_view_count": null,
            "flex_flow": null,
            "width": null,
            "min_width": null,
            "border": null,
            "align_items": null,
            "bottom": null,
            "_model_module": "@jupyter-widgets/base",
            "top": null,
            "grid_column": null,
            "overflow_y": null,
            "overflow_x": null,
            "grid_auto_flow": null,
            "grid_area": null,
            "grid_template_columns": null,
            "flex": null,
            "_model_name": "LayoutModel",
            "justify_items": null,
            "grid_row": null,
            "max_height": null,
            "align_content": null,
            "visibility": null,
            "align_self": null,
            "height": null,
            "min_height": null,
            "padding": null,
            "grid_auto_rows": null,
            "grid_gap": null,
            "max_width": null,
            "order": null,
            "_view_module_version": "1.2.0",
            "grid_template_areas": null,
            "object_position": null,
            "object_fit": null,
            "grid_auto_columns": null,
            "margin": null,
            "display": null,
            "left": null
          }
        },
        "8e38590a29974d5ab06763ef28f0ff06": {
          "model_module": "@jupyter-widgets/controls",
          "model_name": "ProgressStyleModel",
          "model_module_version": "1.5.0",
          "state": {
            "_view_name": "StyleView",
            "_model_name": "ProgressStyleModel",
            "description_width": "",
            "_view_module": "@jupyter-widgets/base",
            "_model_module_version": "1.5.0",
            "_view_count": null,
            "_view_module_version": "1.2.0",
            "bar_color": null,
            "_model_module": "@jupyter-widgets/controls"
          }
        },
        "452870d3e28b43d6bb5387311d01a3fc": {
          "model_module": "@jupyter-widgets/base",
          "model_name": "LayoutModel",
          "model_module_version": "1.2.0",
          "state": {
            "_view_name": "LayoutView",
            "grid_template_rows": null,
            "right": null,
            "justify_content": null,
            "_view_module": "@jupyter-widgets/base",
            "overflow": null,
            "_model_module_version": "1.2.0",
            "_view_count": null,
            "flex_flow": null,
            "width": null,
            "min_width": null,
            "border": null,
            "align_items": null,
            "bottom": null,
            "_model_module": "@jupyter-widgets/base",
            "top": null,
            "grid_column": null,
            "overflow_y": null,
            "overflow_x": null,
            "grid_auto_flow": null,
            "grid_area": null,
            "grid_template_columns": null,
            "flex": null,
            "_model_name": "LayoutModel",
            "justify_items": null,
            "grid_row": null,
            "max_height": null,
            "align_content": null,
            "visibility": null,
            "align_self": null,
            "height": null,
            "min_height": null,
            "padding": null,
            "grid_auto_rows": null,
            "grid_gap": null,
            "max_width": null,
            "order": null,
            "_view_module_version": "1.2.0",
            "grid_template_areas": null,
            "object_position": null,
            "object_fit": null,
            "grid_auto_columns": null,
            "margin": null,
            "display": null,
            "left": null
          }
        },
        "e5169b33b2d3483f8eb7c15f2b4eb7ba": {
          "model_module": "@jupyter-widgets/controls",
          "model_name": "DescriptionStyleModel",
          "model_module_version": "1.5.0",
          "state": {
            "_view_name": "StyleView",
            "_model_name": "DescriptionStyleModel",
            "description_width": "",
            "_view_module": "@jupyter-widgets/base",
            "_model_module_version": "1.5.0",
            "_view_count": null,
            "_view_module_version": "1.2.0",
            "_model_module": "@jupyter-widgets/controls"
          }
        },
        "01bc2648517046fe8947b47afe010868": {
          "model_module": "@jupyter-widgets/base",
          "model_name": "LayoutModel",
          "model_module_version": "1.2.0",
          "state": {
            "_view_name": "LayoutView",
            "grid_template_rows": null,
            "right": null,
            "justify_content": null,
            "_view_module": "@jupyter-widgets/base",
            "overflow": null,
            "_model_module_version": "1.2.0",
            "_view_count": null,
            "flex_flow": null,
            "width": null,
            "min_width": null,
            "border": null,
            "align_items": null,
            "bottom": null,
            "_model_module": "@jupyter-widgets/base",
            "top": null,
            "grid_column": null,
            "overflow_y": null,
            "overflow_x": null,
            "grid_auto_flow": null,
            "grid_area": null,
            "grid_template_columns": null,
            "flex": null,
            "_model_name": "LayoutModel",
            "justify_items": null,
            "grid_row": null,
            "max_height": null,
            "align_content": null,
            "visibility": null,
            "align_self": null,
            "height": null,
            "min_height": null,
            "padding": null,
            "grid_auto_rows": null,
            "grid_gap": null,
            "max_width": null,
            "order": null,
            "_view_module_version": "1.2.0",
            "grid_template_areas": null,
            "object_position": null,
            "object_fit": null,
            "grid_auto_columns": null,
            "margin": null,
            "display": null,
            "left": null
          }
        },
        "f98b2a378eec430f8bf6767a4cb55b18": {
          "model_module": "@jupyter-widgets/controls",
          "model_name": "HBoxModel",
          "model_module_version": "1.5.0",
          "state": {
            "_view_name": "HBoxView",
            "_dom_classes": [],
            "_model_name": "HBoxModel",
            "_view_module": "@jupyter-widgets/controls",
            "_model_module_version": "1.5.0",
            "_view_count": null,
            "_view_module_version": "1.5.0",
            "box_style": "",
            "layout": "IPY_MODEL_accbe58e8bc54e9c8dfce4b704b7bd41",
            "_model_module": "@jupyter-widgets/controls",
            "children": [
              "IPY_MODEL_0434f1a2be0b456dba85be81fd766077",
              "IPY_MODEL_75db1ec1074f42b3b946879f46d82a15",
              "IPY_MODEL_4f678ee753fc47868894955cbea86d7f"
            ]
          }
        },
        "accbe58e8bc54e9c8dfce4b704b7bd41": {
          "model_module": "@jupyter-widgets/base",
          "model_name": "LayoutModel",
          "model_module_version": "1.2.0",
          "state": {
            "_view_name": "LayoutView",
            "grid_template_rows": null,
            "right": null,
            "justify_content": null,
            "_view_module": "@jupyter-widgets/base",
            "overflow": null,
            "_model_module_version": "1.2.0",
            "_view_count": null,
            "flex_flow": null,
            "width": null,
            "min_width": null,
            "border": null,
            "align_items": null,
            "bottom": null,
            "_model_module": "@jupyter-widgets/base",
            "top": null,
            "grid_column": null,
            "overflow_y": null,
            "overflow_x": null,
            "grid_auto_flow": null,
            "grid_area": null,
            "grid_template_columns": null,
            "flex": null,
            "_model_name": "LayoutModel",
            "justify_items": null,
            "grid_row": null,
            "max_height": null,
            "align_content": null,
            "visibility": null,
            "align_self": null,
            "height": null,
            "min_height": null,
            "padding": null,
            "grid_auto_rows": null,
            "grid_gap": null,
            "max_width": null,
            "order": null,
            "_view_module_version": "1.2.0",
            "grid_template_areas": null,
            "object_position": null,
            "object_fit": null,
            "grid_auto_columns": null,
            "margin": null,
            "display": null,
            "left": null
          }
        },
        "0434f1a2be0b456dba85be81fd766077": {
          "model_module": "@jupyter-widgets/controls",
          "model_name": "HTMLModel",
          "model_module_version": "1.5.0",
          "state": {
            "_view_name": "HTMLView",
            "style": "IPY_MODEL_4703680c94984bf68e146165afaf0d4b",
            "_dom_classes": [],
            "description": "",
            "_model_name": "HTMLModel",
            "placeholder": "​",
            "_view_module": "@jupyter-widgets/controls",
            "_model_module_version": "1.5.0",
            "value": "Downloading: 100%",
            "_view_count": null,
            "_view_module_version": "1.5.0",
            "description_tooltip": null,
            "_model_module": "@jupyter-widgets/controls",
            "layout": "IPY_MODEL_34ed5c4f99d24ff68bb9f53718e873cc"
          }
        },
        "75db1ec1074f42b3b946879f46d82a15": {
          "model_module": "@jupyter-widgets/controls",
          "model_name": "FloatProgressModel",
          "model_module_version": "1.5.0",
          "state": {
            "_view_name": "ProgressView",
            "style": "IPY_MODEL_e0c829f77f4346858cb33716664d9560",
            "_dom_classes": [],
            "description": "",
            "_model_name": "FloatProgressModel",
            "bar_style": "success",
            "max": 438235074,
            "_view_module": "@jupyter-widgets/controls",
            "_model_module_version": "1.5.0",
            "value": 438235074,
            "_view_count": null,
            "_view_module_version": "1.5.0",
            "orientation": "horizontal",
            "min": 0,
            "description_tooltip": null,
            "_model_module": "@jupyter-widgets/controls",
            "layout": "IPY_MODEL_950c849332a044058a0cfcb2403a2bec"
          }
        },
        "4f678ee753fc47868894955cbea86d7f": {
          "model_module": "@jupyter-widgets/controls",
          "model_name": "HTMLModel",
          "model_module_version": "1.5.0",
          "state": {
            "_view_name": "HTMLView",
            "style": "IPY_MODEL_20afd397e70d4ef3b4c1cd97c0d55dff",
            "_dom_classes": [],
            "description": "",
            "_model_name": "HTMLModel",
            "placeholder": "​",
            "_view_module": "@jupyter-widgets/controls",
            "_model_module_version": "1.5.0",
            "value": " 438M/438M [00:16&lt;00:00, 27.9MB/s]",
            "_view_count": null,
            "_view_module_version": "1.5.0",
            "description_tooltip": null,
            "_model_module": "@jupyter-widgets/controls",
            "layout": "IPY_MODEL_02bae2015dd7498d9a4832e238952e6b"
          }
        },
        "4703680c94984bf68e146165afaf0d4b": {
          "model_module": "@jupyter-widgets/controls",
          "model_name": "DescriptionStyleModel",
          "model_module_version": "1.5.0",
          "state": {
            "_view_name": "StyleView",
            "_model_name": "DescriptionStyleModel",
            "description_width": "",
            "_view_module": "@jupyter-widgets/base",
            "_model_module_version": "1.5.0",
            "_view_count": null,
            "_view_module_version": "1.2.0",
            "_model_module": "@jupyter-widgets/controls"
          }
        },
        "34ed5c4f99d24ff68bb9f53718e873cc": {
          "model_module": "@jupyter-widgets/base",
          "model_name": "LayoutModel",
          "model_module_version": "1.2.0",
          "state": {
            "_view_name": "LayoutView",
            "grid_template_rows": null,
            "right": null,
            "justify_content": null,
            "_view_module": "@jupyter-widgets/base",
            "overflow": null,
            "_model_module_version": "1.2.0",
            "_view_count": null,
            "flex_flow": null,
            "width": null,
            "min_width": null,
            "border": null,
            "align_items": null,
            "bottom": null,
            "_model_module": "@jupyter-widgets/base",
            "top": null,
            "grid_column": null,
            "overflow_y": null,
            "overflow_x": null,
            "grid_auto_flow": null,
            "grid_area": null,
            "grid_template_columns": null,
            "flex": null,
            "_model_name": "LayoutModel",
            "justify_items": null,
            "grid_row": null,
            "max_height": null,
            "align_content": null,
            "visibility": null,
            "align_self": null,
            "height": null,
            "min_height": null,
            "padding": null,
            "grid_auto_rows": null,
            "grid_gap": null,
            "max_width": null,
            "order": null,
            "_view_module_version": "1.2.0",
            "grid_template_areas": null,
            "object_position": null,
            "object_fit": null,
            "grid_auto_columns": null,
            "margin": null,
            "display": null,
            "left": null
          }
        },
        "e0c829f77f4346858cb33716664d9560": {
          "model_module": "@jupyter-widgets/controls",
          "model_name": "ProgressStyleModel",
          "model_module_version": "1.5.0",
          "state": {
            "_view_name": "StyleView",
            "_model_name": "ProgressStyleModel",
            "description_width": "",
            "_view_module": "@jupyter-widgets/base",
            "_model_module_version": "1.5.0",
            "_view_count": null,
            "_view_module_version": "1.2.0",
            "bar_color": null,
            "_model_module": "@jupyter-widgets/controls"
          }
        },
        "950c849332a044058a0cfcb2403a2bec": {
          "model_module": "@jupyter-widgets/base",
          "model_name": "LayoutModel",
          "model_module_version": "1.2.0",
          "state": {
            "_view_name": "LayoutView",
            "grid_template_rows": null,
            "right": null,
            "justify_content": null,
            "_view_module": "@jupyter-widgets/base",
            "overflow": null,
            "_model_module_version": "1.2.0",
            "_view_count": null,
            "flex_flow": null,
            "width": null,
            "min_width": null,
            "border": null,
            "align_items": null,
            "bottom": null,
            "_model_module": "@jupyter-widgets/base",
            "top": null,
            "grid_column": null,
            "overflow_y": null,
            "overflow_x": null,
            "grid_auto_flow": null,
            "grid_area": null,
            "grid_template_columns": null,
            "flex": null,
            "_model_name": "LayoutModel",
            "justify_items": null,
            "grid_row": null,
            "max_height": null,
            "align_content": null,
            "visibility": null,
            "align_self": null,
            "height": null,
            "min_height": null,
            "padding": null,
            "grid_auto_rows": null,
            "grid_gap": null,
            "max_width": null,
            "order": null,
            "_view_module_version": "1.2.0",
            "grid_template_areas": null,
            "object_position": null,
            "object_fit": null,
            "grid_auto_columns": null,
            "margin": null,
            "display": null,
            "left": null
          }
        },
        "20afd397e70d4ef3b4c1cd97c0d55dff": {
          "model_module": "@jupyter-widgets/controls",
          "model_name": "DescriptionStyleModel",
          "model_module_version": "1.5.0",
          "state": {
            "_view_name": "StyleView",
            "_model_name": "DescriptionStyleModel",
            "description_width": "",
            "_view_module": "@jupyter-widgets/base",
            "_model_module_version": "1.5.0",
            "_view_count": null,
            "_view_module_version": "1.2.0",
            "_model_module": "@jupyter-widgets/controls"
          }
        },
        "02bae2015dd7498d9a4832e238952e6b": {
          "model_module": "@jupyter-widgets/base",
          "model_name": "LayoutModel",
          "model_module_version": "1.2.0",
          "state": {
            "_view_name": "LayoutView",
            "grid_template_rows": null,
            "right": null,
            "justify_content": null,
            "_view_module": "@jupyter-widgets/base",
            "overflow": null,
            "_model_module_version": "1.2.0",
            "_view_count": null,
            "flex_flow": null,
            "width": null,
            "min_width": null,
            "border": null,
            "align_items": null,
            "bottom": null,
            "_model_module": "@jupyter-widgets/base",
            "top": null,
            "grid_column": null,
            "overflow_y": null,
            "overflow_x": null,
            "grid_auto_flow": null,
            "grid_area": null,
            "grid_template_columns": null,
            "flex": null,
            "_model_name": "LayoutModel",
            "justify_items": null,
            "grid_row": null,
            "max_height": null,
            "align_content": null,
            "visibility": null,
            "align_self": null,
            "height": null,
            "min_height": null,
            "padding": null,
            "grid_auto_rows": null,
            "grid_gap": null,
            "max_width": null,
            "order": null,
            "_view_module_version": "1.2.0",
            "grid_template_areas": null,
            "object_position": null,
            "object_fit": null,
            "grid_auto_columns": null,
            "margin": null,
            "display": null,
            "left": null
          }
        }
      }
    }
  },
  "cells": [
    {
      "cell_type": "markdown",
      "metadata": {
        "id": "view-in-github",
        "colab_type": "text"
      },
      "source": [
        "<a href=\"https://colab.research.google.com/github/HedersonSantos/Noticias/blob/main/BERT/BERTimbau_com_amostras.ipynb\" target=\"_parent\"><img src=\"https://colab.research.google.com/assets/colab-badge.svg\" alt=\"Open In Colab\"/></a>"
      ]
    },
    {
      "cell_type": "code",
      "metadata": {
        "colab": {
          "base_uri": "https://localhost:8080/"
        },
        "id": "SKMj5WG6lxGP",
        "outputId": "c43c5142-c425-4ea7-b37c-510ce00492fb"
      },
      "source": [
        "! pip install transformers"
      ],
      "execution_count": 1,
      "outputs": [
        {
          "output_type": "stream",
          "name": "stdout",
          "text": [
            "Collecting transformers\n",
            "  Downloading transformers-4.10.0-py3-none-any.whl (2.8 MB)\n",
            "\u001b[K     |████████████████████████████████| 2.8 MB 5.1 MB/s \n",
            "\u001b[?25hCollecting sacremoses\n",
            "  Downloading sacremoses-0.0.45-py3-none-any.whl (895 kB)\n",
            "\u001b[K     |████████████████████████████████| 895 kB 34.0 MB/s \n",
            "\u001b[?25hCollecting pyyaml>=5.1\n",
            "  Downloading PyYAML-5.4.1-cp37-cp37m-manylinux1_x86_64.whl (636 kB)\n",
            "\u001b[K     |████████████████████████████████| 636 kB 37.7 MB/s \n",
            "\u001b[?25hRequirement already satisfied: filelock in /usr/local/lib/python3.7/dist-packages (from transformers) (3.0.12)\n",
            "Requirement already satisfied: tqdm>=4.27 in /usr/local/lib/python3.7/dist-packages (from transformers) (4.62.0)\n",
            "Collecting tokenizers<0.11,>=0.10.1\n",
            "  Downloading tokenizers-0.10.3-cp37-cp37m-manylinux_2_5_x86_64.manylinux1_x86_64.manylinux_2_12_x86_64.manylinux2010_x86_64.whl (3.3 MB)\n",
            "\u001b[K     |████████████████████████████████| 3.3 MB 35.9 MB/s \n",
            "\u001b[?25hRequirement already satisfied: packaging in /usr/local/lib/python3.7/dist-packages (from transformers) (21.0)\n",
            "Requirement already satisfied: importlib-metadata in /usr/local/lib/python3.7/dist-packages (from transformers) (4.6.4)\n",
            "Requirement already satisfied: regex!=2019.12.17 in /usr/local/lib/python3.7/dist-packages (from transformers) (2019.12.20)\n",
            "Collecting huggingface-hub>=0.0.12\n",
            "  Downloading huggingface_hub-0.0.16-py3-none-any.whl (50 kB)\n",
            "\u001b[K     |████████████████████████████████| 50 kB 5.5 MB/s \n",
            "\u001b[?25hRequirement already satisfied: requests in /usr/local/lib/python3.7/dist-packages (from transformers) (2.23.0)\n",
            "Requirement already satisfied: numpy>=1.17 in /usr/local/lib/python3.7/dist-packages (from transformers) (1.19.5)\n",
            "Requirement already satisfied: typing-extensions in /usr/local/lib/python3.7/dist-packages (from huggingface-hub>=0.0.12->transformers) (3.7.4.3)\n",
            "Requirement already satisfied: pyparsing>=2.0.2 in /usr/local/lib/python3.7/dist-packages (from packaging->transformers) (2.4.7)\n",
            "Requirement already satisfied: zipp>=0.5 in /usr/local/lib/python3.7/dist-packages (from importlib-metadata->transformers) (3.5.0)\n",
            "Requirement already satisfied: idna<3,>=2.5 in /usr/local/lib/python3.7/dist-packages (from requests->transformers) (2.10)\n",
            "Requirement already satisfied: certifi>=2017.4.17 in /usr/local/lib/python3.7/dist-packages (from requests->transformers) (2021.5.30)\n",
            "Requirement already satisfied: urllib3!=1.25.0,!=1.25.1,<1.26,>=1.21.1 in /usr/local/lib/python3.7/dist-packages (from requests->transformers) (1.24.3)\n",
            "Requirement already satisfied: chardet<4,>=3.0.2 in /usr/local/lib/python3.7/dist-packages (from requests->transformers) (3.0.4)\n",
            "Requirement already satisfied: click in /usr/local/lib/python3.7/dist-packages (from sacremoses->transformers) (7.1.2)\n",
            "Requirement already satisfied: joblib in /usr/local/lib/python3.7/dist-packages (from sacremoses->transformers) (1.0.1)\n",
            "Requirement already satisfied: six in /usr/local/lib/python3.7/dist-packages (from sacremoses->transformers) (1.15.0)\n",
            "Installing collected packages: tokenizers, sacremoses, pyyaml, huggingface-hub, transformers\n",
            "  Attempting uninstall: pyyaml\n",
            "    Found existing installation: PyYAML 3.13\n",
            "    Uninstalling PyYAML-3.13:\n",
            "      Successfully uninstalled PyYAML-3.13\n",
            "Successfully installed huggingface-hub-0.0.16 pyyaml-5.4.1 sacremoses-0.0.45 tokenizers-0.10.3 transformers-4.10.0\n"
          ]
        }
      ]
    },
    {
      "cell_type": "code",
      "metadata": {
        "id": "fIlZbdsGo_vR",
        "colab": {
          "base_uri": "https://localhost:8080/"
        },
        "outputId": "2fa60aeb-5151-4f58-dc4a-40d54390aac9"
      },
      "source": [
        "\n",
        "!pip install torch==1.8.1 torchvision==0.9.1 torchaudio==0.8.\n"
      ],
      "execution_count": 2,
      "outputs": [
        {
          "output_type": "stream",
          "name": "stdout",
          "text": [
            "Collecting torch==1.8.1\n",
            "  Downloading torch-1.8.1-cp37-cp37m-manylinux1_x86_64.whl (804.1 MB)\n",
            "\u001b[K     |████████████████████████████████| 804.1 MB 2.8 kB/s \n",
            "\u001b[?25hCollecting torchvision==0.9.1\n",
            "  Downloading torchvision-0.9.1-cp37-cp37m-manylinux1_x86_64.whl (17.4 MB)\n",
            "\u001b[K     |████████████████████████████████| 17.4 MB 1.4 MB/s \n",
            "\u001b[?25hCollecting torchaudio==0.8.\n",
            "  Downloading torchaudio-0.8.0-cp37-cp37m-manylinux1_x86_64.whl (1.9 MB)\n",
            "\u001b[K     |████████████████████████████████| 1.9 MB 37.7 MB/s \n",
            "\u001b[?25hRequirement already satisfied: typing-extensions in /usr/local/lib/python3.7/dist-packages (from torch==1.8.1) (3.7.4.3)\n",
            "Requirement already satisfied: numpy in /usr/local/lib/python3.7/dist-packages (from torch==1.8.1) (1.19.5)\n",
            "Requirement already satisfied: pillow>=4.1.1 in /usr/local/lib/python3.7/dist-packages (from torchvision==0.9.1) (7.1.2)\n",
            "INFO: pip is looking at multiple versions of torchvision to determine which version is compatible with other requirements. This could take a while.\n",
            "INFO: pip is looking at multiple versions of <Python from Requires-Python> to determine which version is compatible with other requirements. This could take a while.\n",
            "INFO: pip is looking at multiple versions of torch to determine which version is compatible with other requirements. This could take a while.\n",
            "\u001b[31mERROR: Cannot install torch==1.8.1, torchaudio==0.8.0 and torchvision==0.9.1 because these package versions have conflicting dependencies.\u001b[0m\n",
            "\n",
            "The conflict is caused by:\n",
            "    The user requested torch==1.8.1\n",
            "    torchvision 0.9.1 depends on torch==1.8.1\n",
            "    torchaudio 0.8.0 depends on torch==1.8.0\n",
            "\n",
            "To fix this you could try to:\n",
            "1. loosen the range of package versions you've specified\n",
            "2. remove package versions to allow pip attempt to solve the dependency conflict\n",
            "\n",
            "\u001b[31mERROR: ResolutionImpossible: for help visit https://pip.pypa.io/en/latest/user_guide/#fixing-conflicting-dependencies\u001b[0m\n"
          ]
        }
      ]
    },
    {
      "cell_type": "code",
      "metadata": {
        "id": "ky7aWx6DyYU4",
        "colab": {
          "base_uri": "https://localhost:8080/"
        },
        "outputId": "831af379-e1f9-4d49-8a7d-b23324a4c36e"
      },
      "source": [
        "!nvidia-smi"
      ],
      "execution_count": 3,
      "outputs": [
        {
          "output_type": "stream",
          "name": "stdout",
          "text": [
            "Tue Aug 31 17:48:00 2021       \n",
            "+-----------------------------------------------------------------------------+\n",
            "| NVIDIA-SMI 470.57.02    Driver Version: 460.32.03    CUDA Version: 11.2     |\n",
            "|-------------------------------+----------------------+----------------------+\n",
            "| GPU  Name        Persistence-M| Bus-Id        Disp.A | Volatile Uncorr. ECC |\n",
            "| Fan  Temp  Perf  Pwr:Usage/Cap|         Memory-Usage | GPU-Util  Compute M. |\n",
            "|                               |                      |               MIG M. |\n",
            "|===============================+======================+======================|\n",
            "|   0  Tesla K80           Off  | 00000000:00:04.0 Off |                    0 |\n",
            "| N/A   50C    P8    30W / 149W |      0MiB / 11441MiB |      0%      Default |\n",
            "|                               |                      |                  N/A |\n",
            "+-------------------------------+----------------------+----------------------+\n",
            "                                                                               \n",
            "+-----------------------------------------------------------------------------+\n",
            "| Processes:                                                                  |\n",
            "|  GPU   GI   CI        PID   Type   Process name                  GPU Memory |\n",
            "|        ID   ID                                                   Usage      |\n",
            "|=============================================================================|\n",
            "|  No running processes found                                                 |\n",
            "+-----------------------------------------------------------------------------+\n"
          ]
        }
      ]
    },
    {
      "cell_type": "code",
      "metadata": {
        "id": "Hts6ewoYvUYn"
      },
      "source": [
        "# Libraries\n",
        "\n",
        "import matplotlib.pyplot as plt\n",
        "import pandas as pd\n",
        "import numpy as np\n",
        "import torch\n",
        "from datetime import datetime\n",
        "from google.colab import files, drive\n",
        "import io, os\n",
        "\n",
        "# Preliminaries\n",
        "\n",
        "from torchtext.legacy.data import Field, TabularDataset, BucketIterator, Iterator\n",
        "\n",
        "# Models\n",
        "\n",
        "import torch.nn as nn\n",
        "from transformers import BertTokenizer, BertForSequenceClassification, BertConfig\n",
        "from transformers import AutoTokenizer  # Or BertTokenizer\n",
        "from transformers import AutoModelForPreTraining  # Or BertForPreTraining for loading pretraining heads\n",
        "from transformers import AutoModel  # or BertModel, for BERT without pretraining heads\n",
        "\n",
        "# Training\n",
        "\n",
        "import torch.optim as optim\n",
        "\n",
        "# Evaluation\n",
        "\n",
        "from sklearn.metrics import accuracy_score, precision_score, \\\n",
        "                            recall_score, confusion_matrix, \\\n",
        "                            plot_confusion_matrix, classification_report, \\\n",
        "                            balanced_accuracy_score, cohen_kappa_score, matthews_corrcoef\n",
        "import seaborn as sns"
      ],
      "execution_count": 4,
      "outputs": []
    },
    {
      "cell_type": "markdown",
      "metadata": {
        "id": "cPOdGbGitPHS"
      },
      "source": [
        "### Carregando tokens e vocabulário do BERTimbau"
      ]
    },
    {
      "cell_type": "code",
      "metadata": {
        "colab": {
          "base_uri": "https://localhost:8080/",
          "height": 280,
          "referenced_widgets": [
            "0d7d502466e04561ae8eb4551e024b63",
            "7f94dc0d1d834d0b83021c29c5f4e530",
            "7872fb39f4364aa29ea4ff8c5fcba65d",
            "e4bb8aee31cc47939505cad378893f4a",
            "ecbc07ac5bba4a6994a59b6233b1d886",
            "50d6be27d0414958be5364d30b1133de",
            "55aed009ccdb45a2b3e9632a45db7255",
            "fe17c55a6969465595ec39192c3982ed",
            "65b596876fc44226a6f9d969a3515b65",
            "eb528ab26a234a33a92b31d9608d892a",
            "afe7eca60b7948c190262494c122315e",
            "d07c6ac8b219497489e6a1a2ecedd549",
            "e8ef267843e042dea63ab9de513315ae",
            "b7cdd8be12d54ab781725a4a3582c35a",
            "245537b4d18b48ed951aa4f4f996d491",
            "53c29057119f4b389219c34f2ca666bc",
            "81bd2f9dc6144d518e5675bc4103789d",
            "e659a7f59b5d478bbd7c7967f1f2b37c",
            "a4a72a9fbf104940a3532e03d318ed79",
            "416ac095320a43b090024fe0555b7467",
            "7b98dff7aad34e919a2e1c1cea9e3bb1",
            "77af88904b0b4f649739cbc847e91911",
            "5e96bb6fa6ba40c6aeb16c5344de8010",
            "8863b08751644b26bf859b093c4ba939",
            "6891dd09e3664dc9a012fcfa95f52d0a",
            "ee794d3ef9b644cf9e61438455cdfa38",
            "b9e57796a3c84ea6ac58def09ad8471d",
            "02637bae9ad440af8c4fc8ac9e8bc5c2",
            "1882e6b0852f484592b2c53e078e1182",
            "fcd3a710a0d945e0bd5987c6ffd8bdd0",
            "4d3c5f3a73cf45de8fc073f547c83afb",
            "d0661a9ccc7f49bb9c888763810e86af",
            "473f15cf10ee420693b87b2ab613f479",
            "cc2f50ac55324392973de97a4bf9f900",
            "dab00cf9945248ea878f18668196f464",
            "284c3f41b9594ead9c2fba865dec44d7",
            "391b860562154d509bcb0946ce273a07",
            "83415c44cdbd49d9b019d638f6e6821d",
            "f574e60270a74b64a6ff4231a62e4848",
            "ee2ebd85c44f4d4bb1d64fad1256ff36",
            "68c565f5db254c52909348bd78695353",
            "2b6b33fc41a4475d92d4fe82f2eab70f",
            "f679bbf23ab5475f8451f65b740df001",
            "4ba41209639f4617b2a7da186983229b",
            "7855d74e1eaf4f9fb9da9182149d68e8",
            "494df0036ecf41acbeafecc21af0a806",
            "9f74252dbd6d4a2eb53a3836c5f641c2",
            "b26b0a3f9b0b4cdeae24a3cf2c02622d",
            "25965d9026aa4775b2384eed1ded0be5",
            "2e520fffe65745dcbc1cc270767d53c3",
            "aff7faa6a02a4e48ba341c441871c545",
            "8e38590a29974d5ab06763ef28f0ff06",
            "452870d3e28b43d6bb5387311d01a3fc",
            "e5169b33b2d3483f8eb7c15f2b4eb7ba",
            "01bc2648517046fe8947b47afe010868",
            "f98b2a378eec430f8bf6767a4cb55b18",
            "accbe58e8bc54e9c8dfce4b704b7bd41",
            "0434f1a2be0b456dba85be81fd766077",
            "75db1ec1074f42b3b946879f46d82a15",
            "4f678ee753fc47868894955cbea86d7f",
            "4703680c94984bf68e146165afaf0d4b",
            "34ed5c4f99d24ff68bb9f53718e873cc",
            "e0c829f77f4346858cb33716664d9560",
            "950c849332a044058a0cfcb2403a2bec",
            "20afd397e70d4ef3b4c1cd97c0d55dff",
            "02bae2015dd7498d9a4832e238952e6b"
          ]
        },
        "id": "MLcgDJZSpmfD",
        "outputId": "1a81f2bb-407f-4ac5-968c-c9d73c667f32"
      },
      "source": [
        "tokenizer = AutoTokenizer.from_pretrained('neuralmind/bert-base-portuguese-cased')\n",
        "model = AutoModel.from_pretrained('neuralmind/bert-base-portuguese-cased')"
      ],
      "execution_count": 5,
      "outputs": [
        {
          "output_type": "display_data",
          "data": {
            "application/vnd.jupyter.widget-view+json": {
              "model_id": "0d7d502466e04561ae8eb4551e024b63",
              "version_minor": 0,
              "version_major": 2
            },
            "text/plain": [
              "Downloading:   0%|          | 0.00/43.0 [00:00<?, ?B/s]"
            ]
          },
          "metadata": {}
        },
        {
          "output_type": "display_data",
          "data": {
            "application/vnd.jupyter.widget-view+json": {
              "model_id": "d07c6ac8b219497489e6a1a2ecedd549",
              "version_minor": 0,
              "version_major": 2
            },
            "text/plain": [
              "Downloading:   0%|          | 0.00/647 [00:00<?, ?B/s]"
            ]
          },
          "metadata": {}
        },
        {
          "output_type": "display_data",
          "data": {
            "application/vnd.jupyter.widget-view+json": {
              "model_id": "5e96bb6fa6ba40c6aeb16c5344de8010",
              "version_minor": 0,
              "version_major": 2
            },
            "text/plain": [
              "Downloading:   0%|          | 0.00/210k [00:00<?, ?B/s]"
            ]
          },
          "metadata": {}
        },
        {
          "output_type": "display_data",
          "data": {
            "application/vnd.jupyter.widget-view+json": {
              "model_id": "cc2f50ac55324392973de97a4bf9f900",
              "version_minor": 0,
              "version_major": 2
            },
            "text/plain": [
              "Downloading:   0%|          | 0.00/2.00 [00:00<?, ?B/s]"
            ]
          },
          "metadata": {}
        },
        {
          "output_type": "display_data",
          "data": {
            "application/vnd.jupyter.widget-view+json": {
              "model_id": "7855d74e1eaf4f9fb9da9182149d68e8",
              "version_minor": 0,
              "version_major": 2
            },
            "text/plain": [
              "Downloading:   0%|          | 0.00/112 [00:00<?, ?B/s]"
            ]
          },
          "metadata": {}
        },
        {
          "output_type": "display_data",
          "data": {
            "application/vnd.jupyter.widget-view+json": {
              "model_id": "f98b2a378eec430f8bf6767a4cb55b18",
              "version_minor": 0,
              "version_major": 2
            },
            "text/plain": [
              "Downloading:   0%|          | 0.00/438M [00:00<?, ?B/s]"
            ]
          },
          "metadata": {}
        },
        {
          "output_type": "stream",
          "name": "stderr",
          "text": [
            "Some weights of the model checkpoint at neuralmind/bert-base-portuguese-cased were not used when initializing BertModel: ['cls.predictions.transform.LayerNorm.weight', 'cls.seq_relationship.weight', 'cls.predictions.transform.dense.weight', 'cls.predictions.transform.LayerNorm.bias', 'cls.predictions.transform.dense.bias', 'cls.seq_relationship.bias', 'cls.predictions.bias', 'cls.predictions.decoder.weight']\n",
            "- This IS expected if you are initializing BertModel from the checkpoint of a model trained on another task or with another architecture (e.g. initializing a BertForSequenceClassification model from a BertForPreTraining model).\n",
            "- This IS NOT expected if you are initializing BertModel from the checkpoint of a model that you expect to be exactly identical (initializing a BertForSequenceClassification model from a BertForSequenceClassification model).\n"
          ]
        }
      ]
    },
    {
      "cell_type": "code",
      "metadata": {
        "id": "WFtrA_dtunW-",
        "colab": {
          "base_uri": "https://localhost:8080/"
        },
        "outputId": "d17f2258-8396-4a97-ddb5-2f8a6f0a9384"
      },
      "source": [
        "#!rm *.csv\n",
        "#!!wget https://raw.githubusercontent.com/HedersonSantos/Noticias/main/train.csv\n",
        "#!wget https://raw.githubusercontent.com/HedersonSantos/Noticias/main/valid.csv\n",
        "#!wget https://raw.githubusercontent.com/HedersonSantos/Noticias/main/test.csv\n",
        "#!wget https://raw.githubusercontent.com/HedersonSantos/Noticias/main/miscelanea.csv\n",
        "drive.mount('/gdrive')\n",
        "%cd /gdrive/My\\ Drive/Colab\\ Notebooks\n",
        "path = '/gdrive/My Drive/Colab Notebooks'\n",
        "KEY='4/1AX4XfWjFfXOpQF_Lhhwz8Sp5DTauJAEXNDQjx66Khyme5ASsCvDLtcqsBX0'"
      ],
      "execution_count": 6,
      "outputs": [
        {
          "output_type": "stream",
          "name": "stdout",
          "text": [
            "Mounted at /gdrive\n",
            "/gdrive/My Drive/Colab Notebooks\n"
          ]
        }
      ]
    },
    {
      "cell_type": "code",
      "metadata": {
        "id": "EgHctA-zJTMu"
      },
      "source": [
        "#model.save_pretrained('./amostra_news_integrada/bertimbau_base')\n",
        "#tokenizer.save_pretrained('./amostra_news_integrada/bertimbau_base')\n",
        "# .save_vocabulary('./amostra_news_integrada/bertimbau_base')\n",
        "#tokenizer = AutoModel.from_pretrained('./amostra_news_integrada/bertimbau_base')\n",
        "#model = AutoModel.from_pretrained('./amostra_news_integrada/bertimbau_base')"
      ],
      "execution_count": 7,
      "outputs": []
    },
    {
      "cell_type": "markdown",
      "metadata": {
        "id": "KZOL2o_ltyzz"
      },
      "source": [
        "### Preparando DataSet\n",
        "https://towardsdatascience.com/bert-text-classification-using-pytorch-723dfb8b6b5b"
      ]
    },
    {
      "cell_type": "code",
      "metadata": {
        "id": "CFFldLWvV6Mg"
      },
      "source": [
        "#%cd amostra_news_integrada\n",
        "#!unzip amostra_news_integrada-20210815T184936Z-001.zip\n",
        "#!ls -lh\n",
        "#!ls  amostra_news_integrada/amostra_2\n",
        "#!mkdir bertimbau_all_categ\n"
      ],
      "execution_count": 8,
      "outputs": []
    },
    {
      "cell_type": "code",
      "metadata": {
        "id": "kfj3koMmWsZ9"
      },
      "source": [
        "#!mkdir ./bertimbau_all_categ/amostra_4\n"
      ],
      "execution_count": 9,
      "outputs": []
    },
    {
      "cell_type": "code",
      "metadata": {
        "colab": {
          "base_uri": "https://localhost:8080/"
        },
        "id": "iV8T4nMYXqdR",
        "outputId": "80bc14d4-4b5b-46e1-ac95-bb044069f65c"
      },
      "source": [
        "device = torch.device('cuda:0' if torch.cuda.is_available() else 'cpu')\n",
        "print(device)"
      ],
      "execution_count": 10,
      "outputs": [
        {
          "output_type": "stream",
          "name": "stdout",
          "text": [
            "cuda:0\n"
          ]
        }
      ]
    },
    {
      "cell_type": "code",
      "metadata": {
        "id": "3sjrTvfBLGCL"
      },
      "source": [
        "source_folder = './amostra_news_integrada/amostra_' #'/content'\n",
        "destination_folder = './bertimbau_resp' #'/content'\n"
      ],
      "execution_count": 11,
      "outputs": []
    },
    {
      "cell_type": "code",
      "metadata": {
        "colab": {
          "base_uri": "https://localhost:8080/"
        },
        "id": "90WJxOxcxgAQ",
        "outputId": "5635dd46-f1d4-40b4-81cc-f5466506edfe"
      },
      "source": [
        "!ls ./amostra_news_integrada/amostra_5\n",
        "!head ./amostra_news_integrada/amostra_5/train.csv\n"
      ],
      "execution_count": 12,
      "outputs": [
        {
          "output_type": "stream",
          "name": "stdout",
          "text": [
            "amostra.csv  test.csv  train.csv  valid.csv\n",
            "text,category_nro\n",
            "\"Há pouco mais de um ano, Vinicius Lanza não encontrou reação que não fosse o choro depois da prova que resultou em decepção. Então com 19 anos, isolou-se no vestiário e mergulhou numa desolação profunda enquanto lágrimas corriam o rosto.  Por míseros cinco centésimos, estava fora dos Jogos do Rio, dentro do próprio Estádio Aquático Olímpico, que poucos meses depois sediaria o megaevento esportivo. A exemplo da vida, a natação é repleta de viradas, e a partir desta terça (2) Lanza terá chance de promover a sua.  Trezentos e setenta e sete dias após a frustração na seletiva olímpica, ele chega ao Troféu Maria Lenk, primeiro grande evento da natação nacional no ciclo, com o melhor tempo de entrada nos 100 m borboleta -que tem eliminatória e final nesta terça.    O torneio, no Parque Aquático Maria Lenk, dentro do Parque Olímpico, é classificatório para o Mundial de Budapeste, em julho. Ele vai marcar uma passagem de bastão entre gerações.Thiago Pereira, por exemplo, aposentou-se em abril, enquanto o país vê surgir nomes como o de Lanza e outros.  \"\"Não ter ido para os Jogos foi bom para manter o meu fogo, para brigar por vaga na final ou por medalha em Tóquio\"\", diz o mineiro, hoje com 20 anos e que representa o Minas Tênis Clube.  Medalha de prata no Campeonato Mundial júnior de 2015, em Cingapura, nos 100 m borboleta, Lanza adotou os EUA como base no início de 2016. Estabeleceu-se em Bloomington, no Estado de Indiana, onde passou a nadar pela universidade local -e a estudar veterinária também.  Na instituição, passou a ser orientado por Ray Looze, técnico que integrou a seleção norte-americana na Rio-2016 e que é guru de Lilly King, Cody Miller e Blake Pieroni, todos medalhistas nos Jogos.  Nesta temporada, o nadador brasileiro foi eleito capitão do time universitário. \"\"O Ray me disse 'Vini, também queria que você estivesse na Olimpíada, mas agora é olhar pra frente'\"\", contou o nadador.  A vaga em Budapeste deve corroborar o que o técnico lhe disse. \"\"Perder a Olimpíada por cinco centésimos ainda machuca, mas me fez manter o foco. Minha maior mudança foi de atitude\"\", resumiu. Luiz Altamir, 20, viveu experiência diferente em 2016.  Conseguiu a classificação para os Jogos do Rio, nas provas de 400 m livre e no revezamento 4 x 200 m livre.  Se não passou da primeira fase em ambas, o nadador reconhece que o aprendizado pode ser interessante no rumo à Olimpíada de Tóquio.  \"\"O objetivo agora neste ciclo é tentar ficar entre os melhores do mundo, e para isso preciso treinar bastante.\"\"  Natural de Roraima, ele se transferiu do Flamengo para o Pinheiros nesta temporada.  No clube paulistano, divide raia com Gabriel Santos, 20, que foi aos Jogos do Rio e nadou o revezamento 4 x 100 m livre, e Pedro Cardona, 21, que perdeu a Olimpíada por pouco -ficou em terceiro nos 100 m peito, com boa marca.  De 2016 para 2017, o Pinheiros readquiriu Cesar Cielo, o nadador mais vitorioso da história do país, mas mudou sua filosofia. Dispensou medalhões olímpicos como Bruno Fratus e João de Lucca e apostou na nova safra.  \"\"Percebemos que era hora de mudar mentalidade\"\", afirmou o técnico principal do clube, Alberto Pinto da Silva.  Outros bons valores que estarão no Troféu Maria Lenk são Brandonn Almeida, 20, que nadou os 400 m medley e os 1.500 m livre na Rio-2016 e deve se mudar para os EUA depois da competição.  O fundista Guilherme Costa, que em abril bateu o recorde sul-americano dos 1.500 m livre, também espera estabelecer-se como um dos expoentes da geração.  \"\"Eu estou muito confiante para o Maria Lenk. Se conseguir melhorar meu tempo, vou para o Mundial\"\", disse.  CRISE  Se há uma coisa que abala a confiança das promessas, esta é a situação turbulenta por que passa a CBDA (Confederação Brasileira de Desportos Aquáticos). Acusados de corrupção, quatro de seus dirigentes foram presos.  Em meio a isso, a entidade perdeu patrocínio do Bradesco e viu despencar o aporte feito pelos Correios.  \"\"[O investimento] vai diminuir bastante. Isso vai ser uma dificuldade muito grande para a nova geração, que busca novas competições lá fora\"\", afirmou Luiz Altamir.  O nadador disse que espera que a nova gestão tenha uma \"\"transparência melhor\"\".  \"\"A melhor maneira de ter credibilidade de novo é mudar tudo. Pensamento, estratégia, busca por novos patrocinadores. Renovar é a palavra certa\"\", complementou Altamir.  Para Vinícius Lanza, acrise que se abateu sobre a confederação \"\"é muito triste\"\", e vai afetar sua geração. Sobre os dirigentes presos, afirmou que \"\"é a Justiça quem decide\"\".  -  Os eventos do Troféu Maria Lenk  TERÇA-FEIRA (2) Eliminatórias às 9h, finais às 17h30: 100 m borboleta (Feminino e Masculino) 400 m livre (F e M) 100 m peito (F e M) 4x50 m livre (F e M)  QUARTA-FEIRA (3) Eliminatórias às 9h, finais às 17h30: 100 m costas (F e M) 200 m medley (F e M) 1.500 m livre (F) 800 m livre (M)  QUINTA-FEIRA (4) Eliminatórias às 9h, finais às 17h30: 100 m livre (F e M) 50 m peito (FeM) 50 m costas (F e M) 200 m borboleta (F e M)  SEXTA-FEIRA (5) Eliminatórias às 9h, finais às 19h: 400 m medley (F e M) 200 m livre (F e M) 200 m costas (F e M) 50 m borboleta (F e M) 4 x 100 m livre (F e M)  SÁBADO (6) Eliminatórias às 9h, finais às 19h: 200 m peito (F e M) 50 m livre (F e M) 800 m livre (F) 1.500 m livre (M) 4x100 m medley (F e M)\",2\n",
            "\"A situação financeira de São Paulo, apesar das restrições nas despesas e do ligeiro aumento da arrecadação registrado recentemente, é delicada.  O secretário da Fazenda, Luis Arrobas Martins, diz que a arrecadação do ICM (Imposto sobre Circulação de Mercadorias), que no primeiro semestre deveria ser de NCr$ 970 milhões (R$ 9,36 bilhões), ficou em NCr$ 815 milhões (R$ 7,86 bilhões), ou seja, uma queda de 16%.  Além de se distanciar da previsão orçamentária, o governo do Estado não reduziu, como desejava, os orçamentos das Secretarias da Educação e da Segurança Pública.\",6\n",
            "\"Dezenas de milhares de pessoas participaram nesta quarta-feira (9) na França de um dia de protestos convocados por sindicalistas e estudantes contra a reforma na lei trabalhista no país, impulsionada pelo governo.  O ato é uma resposta à intenção do presidente François Hollande de permitir às empresas mudar a jornada de trabalho de seus funcionários além das 35 horas semanais determinadas por lei sem remuneração adicional.    Pelo novo modelo, os trabalhadores poderão trabalhar até 12 horas diárias ou 48 horas semanais sem seguir os pactos com os sindicatos. Em troca, os funcionários passarão a receber mais folgas extras.  Também fazem parte da reforma medidas para reduzir as regras para demissões, trabalho remoto e noturno. A medida é defendida pelo governo como uma forma de reduzir a taxa de desemprego na França.  As manifestações reuniram trabalhadores, desempregados e estudantes, que responderam ao chamado dos sindicatos e do movimento estudantil e protestaram em mais de 200 cidades francesas.  Em Paris, o número de manifestantes chegou a 80 mil. O protesto desta quarta coincidiu com a greve dos funcionários das ferrovias suburbanas e de longa distância francesas, que provocou atrasos nos trens em todo o país.  CRÍTICAS  A reforma trabalhista irritou mais os movimentos sociais especialmente porque foi sugerida pelo Partido Socialista, o mesmo de François Hollande, que há 15 anos havia conseguido aprovar a jornada de trabalho de 35 horas.  Em 2008, o antecessor de Hollande, o conservador Nicolas Sarkozy, havia defendido o aumento da jornada, mas não levou a proposta adiante devido à pressão dos sindicatos franceses.  A ministra do Trabalho, Miriam el-Khomri, defendeu a lei como um avanço e disse que os sindicatos foram ouvidos. O primeiro-ministro, Manuel Valls, afirmou que a proposta não será retirada, embora o diálogo continue.  A intenção do governo era enviar a medida ao Parlamento nesta quarta, mas a resistência dos movimentos sindicais e dentro do Partido Socialista atrasaram a tramitação.\",3\n",
            "\"O Google decidiu voltar atrás em sua decisão de proibir a pornografia em sua plataforma de blogs Blogger, depois de receber muitas críticas de blogueiros, alguns dos quais donos de páginas há mais de uma década. O conteúdo explícito ainda poderá ser postado por meio da ferramenta, desde que o blog seja marcado como adulto.  Jessica Pelegio, gerente de suporte a produtos sociais da companhia, diz que empresa recebeu muitas mensagens sobre a proibição, especialmente sobre a obrigatoriedade de os blogueiros apagarem as imagens eróticas de modo retroativo, desde o início da página, como forma de não sofrerem penalidades –os sites seriam removidos ou marcados como \"\"privados\"\" (disponíveis apenas para os donos e pessoas com as quais eles compartilham o conteúdo, sem aparecer nas buscas).  Também houve reclamações sobre \"\"o impacto negativo em indivíduos que postam conteúdo sexual explícito para expressar suas identidades\"\", disse Pelegio. Por isso, a companhia, que poderia ver uma saída em massa de usuários para plataformas como o Tumblr, decidiu recuar.  Em 2013, o Google já havia alterado os termos de serviço do Blogger para impedir que páginas que exibiam conteúdo pornográfico gerassem dinheiro para os donos: ficou proibido exibir anúncios nessas páginas. O objetivo era impedir a criação de blogs que eram praticamente repositórios de conteúdo explícito e geravam tráfego para outros sites pornôs.\",6\n",
            "\"Convergente com a discussão acerca do bloqueio do Whatsapp, o texto do relatório final aprovado pela CPI dos Crimes Cibernéticos, nesta quarta-feira (4), tenta blindar o aplicativo de mensagens instantâneas.  De última hora, foi adicionado um termo que veda o bloqueio a aplicativos de mensagens pessoais em um dos dois projetos de lei que alteram o Marco Civil da Internet.  Ao todo, foram encaminhados seis projetos de lei pela CPI que versam sobre a ampliação da definição de invasão de computadores e o aumento do rigor da lei, a destinação de 10% do Fistel (Fundo de Fiscalização das Telecomunicações) para órgãos da Polícia Judiciária, e também sobre as mudanças no Marco Civil.  O relatório foi aprovado por 17 a 6. Agora, os projetos de lei presentes no relatório serão encaminhados às comissões da Câmara.  O projeto de lei que prevê o bloqueio de aplicações era um dos pontos de maior discussão Comissão. Originalmente, ele permitia que, por medida judicial, as operadoras de internet bloqueassem o acesso um aplicativo ou um site utilizado para práticas criminosas.    No texto final, ficou delimitado que as aplicações que podem ser bloqueadas são apenas aquelas hospedadas fora do Brasil, sem representação no país, que fossem dedicadas à prática ilícita e que a pena mínima para o crime que estivesse sendo cometido fosse de dois.  Segundo os relatores do projetos, ele complementa o Marco Civil da Internet, que prevê apenas a retirada do ar das aplicações de internet. No entanto, não especifica como se dá esse processo em sites ou aplicativos sem hospedagem ou representação no país.  O texto aprovado pela CPI cria a possibilidade de que juízes determinem que as operadoras façam o bloqueio.  Na sessão de terça (3), os deputados criticaram o texto e afirmaram que a redação banalizaria o bloqueio do aplicativo. Apenas após essas críticas que o parágrafo blindando o Whatsapp foi adicionado.  O debate esquentou na CPI após o aplicativo ser bloqueado, na segunda-feira (2), por uma medida do juiz Marcel Montalvão, da comarca de Lagarto (SE). Na terça, no entanto, o desembargador Ricardo Múcio Santana de Abreu Lima, do Tribunal de Justiça de Sergipe, revogou o bloqueio.  O texto, como foi aprovado, atinge sites piratas que disponibilizam listas de BitTorrents –arquivos de mídia que permitem a usuários compartilhar vídeos e músicas ilegais– e transmissão de mídia. Além disso, os relatores esperam que isso possa impedir o acesso a sites de contrabando e de tráfico de drogas.  No outro projeto de lei que altera o Marco Civil, a CPI tenta permitir a remoção ou o bloqueio de conteúdo por meio de ordens judiciais. Os casos previstos nesse projeto também se baseia na pena mínima de 2 anos para o crime praticado.  Segundo o deputado Alessandro Molon (Rede-RJ), um dos que votou contra o relatório, as mudanças no texto dos projetos de lei não são suficientes para garantir a liberdade de usuários na rede. A principal crítica do relator do Marco Civil da Internet é que há previsões para a retirada de conteúdos por meio de simples decisões judiciais.  \"\"Isso permite o o chilling effect [efeito de resfriamento]. Retira-se o conteúdo até que o judiciário se decida sobre o assunto e, enquanto o conteúdo não volta, mata-se o assunto\"\", diz Molon.  O sub-relator Sandro Alex (PPS-PR) afirma que Molon faz uma interpretação errada da matéria. O deputado explica que foi retirada do texto a possibilidade de bloqueio ou remoção crimes com pena menor que dois anos, retirando a previsão de crimes contra a honra.  \"\"Retiramos para não acharem que estamos tentando blindar os políticos. Além disso, isso não é a aprovação de uma lei. Mas apenas o encaminhamento de uma discussão para as mais diversas comissões\"\", afirma Alex.\",6\n",
            "\"Veja abaixo lista com mais de 140 cursos em 273 instituições com vagas abertas para o segundo semestre de 2016.  A busca pode ser feita por Estado, pelo nome da faculdade ou do curso –entre bacharelados, licenciaturas e tecnológicos–, ou pelo tipo de seleção.  *  Mais de 270 instituições abrem vagas no 2º semestre; veja cursos\",7\n",
            "\"A revolução digital mudou a alma de uma invenção do século 19: a fotografia. É o que veem executivos que trabalham com imagens em diferentes plataformas da internet.  \"\"A essência da fotografia está sendo alterada. Ela foi criada como um meio de capturar a memória. Agora usamos a fotografia como um meio de comunicação\"\", afirma Bernardo Hernández, principal executivo do Flickr, plataforma onde são compartilhadas mais de 1 milhão de imagens por dia. \"\"Aprender a tirar uma fotografia ficou quase tão importante quanto escrever ou falar.\"\"  A concordar com ele está Dan Rubin, fundador da publicação \"\"Photographic Journal\"\". Ele exemplifica essa mudança apontando um dos aplicativos que mais ganharam popularidade nos últimos tempos: \"\"No Snapchat, a comunicação está toda concentrada em imagem\"\".  Samuli Hanninen, especialista no assunto dentro da Microsoft, enxerga a mesma transição: \"\"As imagens antes eram mais de registro. E começamos a ver que ela se tornou parte da comunicação\"\".  O que impulsionou isso, argumenta Hernández, do Flickr, é que a foto se tornou um meio de gratificação imediata. \"\"É difícil conseguir brilhar no Twitter, mas é fácil tirar uma foto e fazer com que elas se destaque.\"\"  ENTRAVES  Mas há obstáculos pelo caminho da evolução da foto. Um deles é técnico.  Como explica John van Derlofske, cientista da 3M, apesar de toda a evolução, as lentes dos celulares atuais ainda têm limites importantes, e alguns deles guardam relação com a capacidade da bateria, um dos mais aspectos em que a indústria mais tem dificuldade em evoluir.  \"\"Quando as pessoas tiram selfies, têm que fazer várias até conseguir a selfie certa. Esse é um exemplo em que o problema da qualidade não está resolvido\"\", diz Hanninen, da Microsoft.  Outros dos obstáculos diz respeito à privacidade –e não só em relação a outras pessoas e aos governos de cada país, mas também no uso das imagens por empresas de tecnologia.  \"\"Estamos acostumados com computadores entendendo textos. Mas computadores agora podem entender fotos\"\", afirma Hernández, do Flickr. \"\"Se veem algo marrom e verde em certa disposição, podem entender que aquilo é uma arvore.\"\"  Da mesma forma, a tecnologia tem conseguido mudar a percepção das fotos. Uma tecnologia mostrada pela Intel no Mobile World Congress, em Barcelona, faz com que seja possível medir a distância entre objetos dentro de uma imagem.    Nessa evolução, a fotografia leva uma vantagem sobre o vídeo. \"\"As pessoas compartilham muito mais foto do que vídeo. Tem a ver com o esforço e tempo requeridos\"\", diz Sokratis Papafloratos, da Toghetera, aplicativo de imagens.  Para Hernández, do Flickr, a explosão da comunicação de imagens ainda está no começo. Ele afirma que volume de fotos enviadas será multiplicado dezenas de vezes nos próximos anos. \"\"O maior fotógrafo da história ainda está por aparecer.\"\"\",6\n",
            "\"Apesar de os líderes das Farc (Forças Armadas Revolucionárias da Colômbia) e o governo colombiano já terem chegado a um texto final do acordo que poderá encerrar os mais de 50 anos de guerra entre as duas partes, ainda faltam alguns passos para que a paz se torne realidade.  Um será a assinatura formal do tratado, prevista para dia 26. O outro, o plebiscito em que o povo colombiano dirá se aprova ou não o acordo, em 2 de outubro.  Antes disso, porém, entre 17 e 23 de setembro, as Farc realizarão uma conferência interna, em San Vicente del Caguán. O objetivo é fazer com que o comando da guerrilha informe seus soldados sobre os detalhes do acordo.  Além disso, pretendem desenhar as linhas do que será o partido político que surgirá ao deixarem a luta armada.  Também será tratado um tema espinhoso: o que fazer com os dissidentes, guerrilheiros que se negam a aceitar o acordo e já buscam outras guerrilhas, como o ELN (Exército de Libertação Nacional).  A Folha conversou, por e-mail, com Carlos Antonio Lozada, um dos membros do Secretariado das Farc.  *  Folha - O que ocorre numa conferência das Farc?  Carlos Antonio Lozada - Trata-se da instância máxima da guerrilha e tem poder para reajustar planos político-militares, escolher líderes do Estado Maior Central [órgão de direção das Farc] e modificar estatutos, regime disciplinar e normas de comando.  Que integrantes podem participar? Apenas o alto comando ou também o baixo escalão?  À conferência assistem os 31 integrantes do Estado Maior Central, além dos delegados de todas as frentes das Farc, escolhidos em assembleias locais. Esses delegados podem ser comandantes ou guerrilheiros de base.  É possível que saiam pedidos de mudança ao texto do acordo ou se trata de um encontro apenas para explicar à militância o que foi acordado?  O tema central será o acordo de paz. E, nesse sentido, a assinatura dele dependerá da aprovação do Estado Maior. Também trataremos de traçar as linhas da proposta política que apresentaremos ao país nessa nova fase, em que as Farc entrarão na política de forma aberta [o acordo prevê que ex-guerrilheiros recebam 10 postos no Congresso nas próximas duas legislaturas].  Vocês já estão se organizando para o deslocamento até as \"\"zonas de segurança\"\" [onde ficarão os guerrilheiros enquanto se montam os tribunais especiais]?  Todas as estruturas das Farc estão dedicadas ao estudo do documento. Só iremos às \"\"zonas de segurança\"\" depois de o acordo ser aprovado no plebiscito pela maioria dos colombianos [a oposição reivindica a remoção antes da votação, para não haver pressão sobre os eleitores].  Já planejam como vão atuar nas \"\"zonas de segurança\"\"?  Teremos três objetivos básicos: garantir que se verifique o cessar-fogo, organizar o início da entrega das armas e o processo de preparação para a reincorporação política, econômica e social das Farc à vida civil.  Haverá orientação aos guerrilheiros que manifestem vontade de atuar na política?  Mais do que um partido, as Farc aspiramos entrar no cenário da política com uma proposta ampla, que aglutine distintos setores sociais e políticos, interessados nas mudanças de que a sociedade colombiana precisa, para que a paz se faça realidade. Estamos empenhados em estruturar as propostas que vamos apresentar para o país.  Será discutido também o tema dos dissidentes?  Há dois meses, um grupo de comandantes de uma das frentes manifestou desacordo com o que foi acordado em Havana. O Estado Maior tomou a decisão de afastá-los. Ao mesmo tempo, pedimos aos guerrilheiros que integravam seus blocos que refletissem sobre a decisão de seus comandantes. Esse fenômeno ocorreu apenas uma vez. Seguramente na conferência analisaremos essa situação.\",3\n",
            "\"Estar acima do peso diminui cerca de um ano da expectativa de vida de um indivíduo, um preço que sobe para cerca de dez anos nos casos de obesidade severa, de acordo com um estudo amplo publicado nesta quinta (14) na revista médica \"\"The Lancet\"\".  A pesquisa refuta estudos anteriores que concluíram que ter alguns quilos extras não traz riscos para a saúde. Em vez disso, o novo estudo revelou evidências de que o risco de morrer antes de seu aniversário de 70 anos aumenta, \"\"de forma gradual e acentuada\"\", conforme a cintura se expande.  \"\"Esse estudo mostra, definitivamente, que o excesso de peso e a obesidade estão associados a um risco de morte prematura\"\", disse a líder da pesquisa, Emanuele Di Angelantonio, da Universidade de Cambridge, no Reino Unido. O risco de doença cardíaca coronária, acidente vascular cerebral, doenças respiratórias e câncer \"\"aumentaram todos\"\", disse a pesquisadora.  Usando dados de quase 4 milhões de adultos de quatro continentes, o estudo descobriu que as pessoas com excesso de peso perdem em média cerca de um ano das suas expectativas de vida, e as pessoas \"\"moderadamente obesas\"\" perdem cerca de três anos. \"\"Pessoas severamente obesas perdem cerca de dez anos da expectativa de vida\"\", afirmou Di Angelantonio.  Uma equipe internacional de pesquisadores selecionou dados a partir de mais de 10,6 milhões de participantes de 239 grandes estudos realizados entre 1970 e 2015 em 32 países na América do Norte, Europa, Austrália, Nova Zelândia e no leste e no sul da Ásia. O trabalho foi considerado o maior conjunto de dados sobre excesso de peso e mortalidade já reunido.  PESQUISA  Para descartar o impacto de outros riscos de mortalidade, a equipe excluiu fumantes e ex-fumantes, portadores de doenças crônicas e pessoas que morreram nos primeiros cinco anos das pesquisas –e ficaram com uma amostra de 3,9 milhões de adultos.  A equipe dividiu a amostra em categorias de acordo com seu Índice de Massa Corporal (IMC) –peso dividido pelo quadrado da altura– e comparou os números e as causas de morte em cada grupo. De acordo com o padrão da OMS (Organização Mundial de Saúde), um IMC de 18,5 a 24,9 é considerado normal, de 25 a 29,9 excesso de peso, de 30 a 34,9 obesidade moderada, de 35 a 39,9 obesidade severa, e acima de 40 obesidade mórbida.  Os pesquisadores descobriram que o risco de morrer antes dos 70 anos aumentou de 19% em homens com peso normal para 29,5% em homens moderadamente obesos. Entre as mulheres, esse risco aumentou de 11% para 14,6%. \"\"Isso corresponde a um aumento absoluto de 10,5%, para os homens, e 3,6%, para as mulheres\"\", disse um comunicado da revista \"\"The Lancet\"\".  Se todas as pessoas com sobrepeso e obesidade tivessem níveis normais de IMC, isso evitaria uma em cada cinco mortes prematuras na América do Norte, uma em cada seis na Austrália e na Nova Zelândia, uma em cada sete na Europa e uma em cada 20 no leste da Ásia, concluiu o estudo.  Em 2014, de acordo com a OMS, mais de 1,9 milhão de adultos em todo o mundo estavam acima do peso. Desses, mais de 600 milhões eram obesos. O excesso de peso é associado a doenças cardíacas, derrame e a alguns tipos de câncer.\",8\n"
          ]
        }
      ]
    },
    {
      "cell_type": "code",
      "metadata": {
        "id": "PyoK7ac8t4HF"
      },
      "source": [
        "#https://towardsdatascience.com/multi-class-text-classification-with-deep-learning-using-bert-b59ca2f5c613\n",
        "#Model hyper-parameter\n",
        "MAX_SEQ_LEN = 128 #limita os artigos em 128 tokens. BERTimbau base é limitado em 512 tokens por texto.\n",
        "PAD_INDEX = tokenizer.convert_tokens_to_ids(tokenizer.pad_token)\n",
        "UNK_INDEX = tokenizer.convert_tokens_to_ids(tokenizer.unk_token)\n",
        "bs = 8\n",
        "lr = 1e-6\n",
        "\n",
        "\n",
        "\n",
        "# Fields - use_vocab=False  e tokenizer.encode permite que utilizemos os tokens do BERTimbau.\n",
        "label_field = Field(sequential=False, use_vocab=False, batch_first=True, dtype=torch.float)\n",
        "text_field = Field(use_vocab=False, tokenize=tokenizer.encode, lower=False, include_lengths=False, batch_first=True,\n",
        "                   fix_length=MAX_SEQ_LEN, pad_token=PAD_INDEX, unk_token=UNK_INDEX)\n",
        "fields = [('text', text_field),('label', label_field)]\n",
        "\n",
        "\n",
        "\n"
      ],
      "execution_count": 13,
      "outputs": []
    },
    {
      "cell_type": "code",
      "metadata": {
        "id": "VqRpEtW1OuqC"
      },
      "source": [
        "def tokenizaAmostra(source_folder, fields=fields):\n",
        "  # TabularDataset\n",
        "  train, valid, test = TabularDataset.splits(path=source_folder, train='train.csv', validation='valid.csv',\n",
        "                                            test='test.csv', format='CSV', fields=fields, skip_header=True)\n",
        "  # Iterators\n",
        "\n",
        "  train_iter = BucketIterator(train, batch_size=bs, sort_key=lambda x: len(x.text),\n",
        "                              device=device, train=True, sort=True, sort_within_batch=True)\n",
        "  valid_iter = BucketIterator(valid, batch_size=bs, sort_key=lambda x: len(x.text),\n",
        "                              device=device, train=True, sort=True, sort_within_batch=True)\n",
        "  test_iter = Iterator(test, batch_size=bs, device=device, train=False, shuffle=False, sort=False)\n",
        "  return [train_iter, valid_iter, test_iter]\n",
        "\n"
      ],
      "execution_count": 14,
      "outputs": []
    },
    {
      "cell_type": "code",
      "metadata": {
        "id": "8maI4HcbPukL"
      },
      "source": [
        ""
      ],
      "execution_count": 14,
      "outputs": []
    },
    {
      "cell_type": "code",
      "metadata": {
        "id": "rcTHSXSluKkt"
      },
      "source": [
        "#print(vars(train[0]))\n",
        "#print(vars(valid[0]))\n",
        "#print(vars(test[0]))"
      ],
      "execution_count": 15,
      "outputs": []
    },
    {
      "cell_type": "markdown",
      "metadata": {
        "id": "sPypCNPuHaRz"
      },
      "source": [
        "## Modelo"
      ]
    },
    {
      "cell_type": "code",
      "metadata": {
        "id": "Yvy3rgrdHj_x"
      },
      "source": [
        "'''É preciso informar o número de labels '''\n",
        "class BERT(nn.Module):\n",
        "\n",
        "    def __init__(self, qtd_categories):\n",
        "        super(BERT, self).__init__()\n",
        "\n",
        "        options_name = \"bert-base-portuguese-cased\"\n",
        "        self.encoder = BertForSequenceClassification.from_pretrained('neuralmind/bert-base-portuguese-cased',num_labels=qtd_categories )\n",
        "\n",
        "    def forward(self, text, label):\n",
        "        loss, text_fea = self.encoder(text, labels=label)[:2]\n",
        "\n",
        "        return loss, text_fea\n",
        "\n"
      ],
      "execution_count": 16,
      "outputs": []
    },
    {
      "cell_type": "markdown",
      "metadata": {
        "id": "3pYKbHICIus0"
      },
      "source": [
        "## Treinamento"
      ]
    },
    {
      "cell_type": "code",
      "metadata": {
        "id": "hJFwyl7DIoxQ"
      },
      "source": [
        "# Save and Load Functions\n",
        "\n",
        "def save_checkpoint(save_path, model, valid_loss):\n",
        "\n",
        "    if save_path == None:\n",
        "        return\n",
        "    \n",
        "    state_dict = {'model_state_dict': model.state_dict(),\n",
        "                  'valid_loss': valid_loss}\n",
        "    \n",
        "    torch.save(state_dict, save_path)\n",
        "    print(f'Model saved to ==> {save_path}')\n",
        "\n",
        "def load_checkpoint(load_path, model):\n",
        "    \n",
        "    if load_path==None:\n",
        "        return\n",
        "    \n",
        "    state_dict = torch.load(load_path, map_location=device)\n",
        "    print(f'Model loaded from <== {load_path}')\n",
        "    \n",
        "    model.load_state_dict(state_dict['model_state_dict'])\n",
        "    return state_dict['valid_loss']\n",
        "\n",
        "\n",
        "def save_metrics(save_path, train_loss_list, valid_loss_list, global_steps_list):\n",
        "\n",
        "    if save_path == None:\n",
        "        return\n",
        "    \n",
        "    state_dict = {'train_loss_list': train_loss_list,\n",
        "                  'valid_loss_list': valid_loss_list,\n",
        "                  'global_steps_list': global_steps_list}\n",
        "    \n",
        "    torch.save(state_dict, save_path)\n",
        "    print(f'Model saved to ==> {save_path}')\n",
        "\n",
        "\n",
        "def load_metrics(load_path):\n",
        "\n",
        "    if load_path==None:\n",
        "        return\n",
        "    \n",
        "    state_dict = torch.load(load_path, map_location=device)\n",
        "    print(f'Model loaded from <== {load_path}')\n",
        "    \n",
        "    return state_dict['train_loss_list'], state_dict['valid_loss_list'], state_dict['global_steps_list']\n",
        "\n",
        "def create_directory(path, directory):\n",
        "  try:\n",
        "    os.makedirs(path + '/' + directory)\n",
        "  except FileExistsError:\n",
        "    # directory already exists\n",
        "    pass"
      ],
      "execution_count": 17,
      "outputs": []
    },
    {
      "cell_type": "code",
      "metadata": {
        "id": "fiueExF5Jb8V"
      },
      "source": [
        "# Training Function\n",
        "'''criterion = nn.BCELoss() é BinaryCrossEntropy é a função de perda para targets binarios. Como o nosso alvo possui\n",
        "muitas classes troque a função de perda para nn.CrossEntropyLoss() '''\n",
        "\n",
        "def train(model,\n",
        "          optimizer,\n",
        "          train_loader ,\n",
        "          valid_loader ,\n",
        "          eval_every ,\n",
        "          file_path ,\n",
        "          criterion = nn.CrossEntropyLoss(), #nn.BCELoss(),\n",
        "          num_epochs = 5,\n",
        "          best_valid_loss = float(\"Inf\")):\n",
        "    \n",
        "    \n",
        "    print('1 - inicializando variávies')\n",
        "    # initialize running values\n",
        "    running_loss = 0.0\n",
        "    valid_running_loss = 0.0\n",
        "    global_step = 0\n",
        "    train_loss_list = []\n",
        "    valid_loss_list = []\n",
        "    global_steps_list = []\n",
        "\n",
        "    # training loop\n",
        "    print('1 - inicializando treinamento')\n",
        "    model.train()\n",
        "    for epoch in range(num_epochs):\n",
        "        for (text, labels), _ in train_loader:\n",
        "            labels = labels.type(torch.LongTensor)           \n",
        "            #print('label size:', labels.size())\n",
        "            #print('label:', labels)\n",
        "            labels = labels.to(device)\n",
        "            text = text.type(torch.LongTensor) \n",
        "            #print('text:', text.size())\n",
        "            text = text.to(device)\n",
        "            #print('treina...')\n",
        "            output = model(text, labels)\n",
        "            #print('fim treino...')\n",
        "            loss, _ = output\n",
        "\n",
        "            optimizer.zero_grad()\n",
        "            loss.backward()\n",
        "            optimizer.step()\n",
        "\n",
        "            # update running values\n",
        "            running_loss += loss.item()\n",
        "            global_step += 1\n",
        "\n",
        "            # evaluation step\n",
        "            if global_step % eval_every == 0:\n",
        "                model.eval()\n",
        "                with torch.no_grad():                    \n",
        "\n",
        "                    # validation loop\n",
        "                    for (text,labels), _ in valid_loader:\n",
        "                        text = text.type(torch.LongTensor)  \n",
        "                        text = text.to(device)\n",
        "                        labels = labels.type(torch.LongTensor)           \n",
        "                        labels = labels.to(device)\n",
        "                        \n",
        "                        output = model(text, labels)\n",
        "                        loss, _ = output\n",
        "                        \n",
        "                        valid_running_loss += loss.item()\n",
        "\n",
        "                # evaluation\n",
        "                average_train_loss = running_loss / eval_every\n",
        "                average_valid_loss = valid_running_loss / len(valid_loader)\n",
        "                train_loss_list.append(average_train_loss)\n",
        "                valid_loss_list.append(average_valid_loss)\n",
        "                global_steps_list.append(global_step)\n",
        "\n",
        "                # resetting running values\n",
        "                running_loss = 0.0                \n",
        "                valid_running_loss = 0.0\n",
        "                model.train()\n",
        "\n",
        "                # print progress\n",
        "                print('Epoch [{}/{}], Step [{}/{}], Train Loss: {:.4f}, Valid Loss: {:.4f}'\n",
        "                      .format(epoch+1, num_epochs, global_step, num_epochs*len(train_loader),\n",
        "                              average_train_loss, average_valid_loss))\n",
        "                \n",
        "                # checkpoint\n",
        "                if best_valid_loss > average_valid_loss:\n",
        "                    best_valid_loss = average_valid_loss\n",
        "                    save_checkpoint(file_path + '/' + 'model.pt', model, best_valid_loss)\n",
        "                    save_metrics(file_path + '/' + 'metrics.pt', train_loss_list, valid_loss_list, global_steps_list)\n",
        "    \n",
        "    save_metrics(file_path + '/' + 'metrics.pt', train_loss_list, valid_loss_list, global_steps_list)\n",
        "    print('Finished Training!')\n",
        "    "
      ],
      "execution_count": 18,
      "outputs": []
    },
    {
      "cell_type": "code",
      "metadata": {
        "colab": {
          "base_uri": "https://localhost:8080/"
        },
        "id": "JQcJQ5kaMPa4",
        "outputId": "a900a187-248d-41b2-8cac-24570f71b10f"
      },
      "source": [
        "device"
      ],
      "execution_count": 19,
      "outputs": [
        {
          "output_type": "execute_result",
          "data": {
            "text/plain": [
              "device(type='cuda', index=0)"
            ]
          },
          "metadata": {},
          "execution_count": 19
        }
      ]
    },
    {
      "cell_type": "code",
      "metadata": {
        "colab": {
          "base_uri": "https://localhost:8080/"
        },
        "id": "RrkvwE2VL1qY",
        "outputId": "79995f8d-bb85-4b0e-8ce8-d1694c62e597"
      },
      "source": [
        "%%time\n",
        "qtd_categories=[10]\n",
        "#token_train, token_valid, token_test = [],[],[]\n",
        "id_planilha = [9]\n",
        "dataset = [5]\n",
        "for idx, (id_, amostra) in enumerate(zip(id_planilha,dataset)):\n",
        "  create_directory(destination_folder,str(id_))\n",
        "  file_path = destination_folder + \"/\"+str(id_)\n",
        "  print(file_path)\n",
        "  model = BERT(qtd_categories=qtd_categories[idx]).to(device)\n",
        "  optimizer = optim.Adam(model.parameters(), lr=lr)\n",
        "  inicio = datetime.now()\n",
        "  print('Treinando amostra:', amostra, 'inicio:', inicio)\n",
        "  tokens = tokenizaAmostra(source_folder+str(amostra))\n",
        "  #token_train.append(tokens[0])\n",
        "  #token_valid.append(tokens[1])\n",
        "  #token_test.append(tokens[2])\n",
        "  train(model=model, \n",
        "      optimizer=optimizer,\n",
        "      num_epochs=10,\n",
        "      train_loader=tokens[0],\n",
        "      valid_loader=tokens[1],\n",
        "      eval_every=len(tokens[0]) // 2,\n",
        "      file_path=file_path)\n",
        "  print('Duracao:', datetime.now()-inicio)"
      ],
      "execution_count": null,
      "outputs": [
        {
          "output_type": "stream",
          "name": "stdout",
          "text": [
            "./bertimbau_resp/9\n"
          ]
        },
        {
          "output_type": "stream",
          "name": "stderr",
          "text": [
            "Some weights of the model checkpoint at neuralmind/bert-base-portuguese-cased were not used when initializing BertForSequenceClassification: ['cls.predictions.transform.LayerNorm.weight', 'cls.seq_relationship.weight', 'cls.predictions.transform.dense.weight', 'cls.predictions.transform.LayerNorm.bias', 'cls.predictions.transform.dense.bias', 'cls.seq_relationship.bias', 'cls.predictions.bias', 'cls.predictions.decoder.weight']\n",
            "- This IS expected if you are initializing BertForSequenceClassification from the checkpoint of a model trained on another task or with another architecture (e.g. initializing a BertForSequenceClassification model from a BertForPreTraining model).\n",
            "- This IS NOT expected if you are initializing BertForSequenceClassification from the checkpoint of a model that you expect to be exactly identical (initializing a BertForSequenceClassification model from a BertForSequenceClassification model).\n",
            "Some weights of BertForSequenceClassification were not initialized from the model checkpoint at neuralmind/bert-base-portuguese-cased and are newly initialized: ['classifier.bias', 'classifier.weight']\n",
            "You should probably TRAIN this model on a down-stream task to be able to use it for predictions and inference.\n"
          ]
        },
        {
          "output_type": "stream",
          "name": "stdout",
          "text": [
            "Treinando amostra: 5 inicio: 2021-08-31 17:51:49.898580\n",
            "1 - inicializando variávies\n",
            "1 - inicializando treinamento\n"
          ]
        }
      ]
    },
    {
      "cell_type": "code",
      "metadata": {
        "id": "WOCF9IBS-vXS"
      },
      "source": [
        ""
      ],
      "execution_count": null,
      "outputs": []
    },
    {
      "cell_type": "code",
      "metadata": {
        "id": "hOLXjoQAhKWE"
      },
      "source": [
        "#!ls ./amostra_news_integrada/\n",
        "\n",
        "#!rm  ./bertimbau_all_categ/amostra_4/*.*\n",
        "\n",
        "!du -sh"
      ],
      "execution_count": null,
      "outputs": []
    },
    {
      "cell_type": "markdown",
      "metadata": {
        "id": "JbLMFDrarFbW"
      },
      "source": [
        "## Valor da função LOSS na descida do gradiente \n",
        "por id de experimento registrado na planilha de controle"
      ]
    },
    {
      "cell_type": "code",
      "metadata": {
        "id": "AHdfTUs0ALnZ"
      },
      "source": [
        "id_planilha = [1,7,71,72]\n",
        "for id_ in id_planilha:\n",
        "  file_path = destination_folder + \"/\"+str(id_)\n",
        "  train_loss_list, valid_loss_list, global_steps_list = load_metrics(file_path + '/metrics.pt')\n",
        "  plt.plot(global_steps_list, train_loss_list, label='Train')\n",
        "  plt.plot(global_steps_list, valid_loss_list, label='Valid')\n",
        "  plt.xlabel('Global Steps')\n",
        "  plt.ylabel('Loss')\n",
        "  plt.title = 'Resultado do Treino id ' + str(id_)\n",
        "  plt.legend()\n",
        "  plt.show() "
      ],
      "execution_count": null,
      "outputs": []
    },
    {
      "cell_type": "markdown",
      "metadata": {
        "id": "bAI0EpQOAgM1"
      },
      "source": [
        "### Avaliação\n",
        "* https://towardsdatascience.com/evaluating-categorical-models-e667e17987fd\n",
        "* https://towardsdatascience.com/evaluating-categorical-models-ii-sensitivity-and-specificity-e181e573cff8\n",
        "* https://towardsdatascience.com/metrics-for-imbalanced-classification-41c71549bbb5\n",
        "* https://towardsdatascience.com/multi-class-classification-extracting-performance-metrics-from-the-confusion-matrix-b379b427a872\n",
        "* https://towardsdatascience.com/matthews-correlation-coefficient-when-to-use-it-and-when-to-avoid-it-310b3c923f7e\n",
        "* https://towardsdatascience.com/multi-class-metrics-made-simple-part-i-precision-and-recall-9250280bddc2 \n",
        "*https://towardsdatascience.com/multi-class-metrics-made-simple-part-ii-the-f1-score-ebe8b2c2ca1\n",
        "* https://towardsdatascience.com/multi-class-metrics-made-simple-the-kappa-score-aka-cohens-kappa-coefficient-bdea137af09c\n",
        "* https://thedatascientist.com/performance-measures-cohens-kappa-statistic/\n",
        "* Material de aula do Professor André\n",
        "* Material do curso MicroSoft\n",
        "* Predictive Accuracy: A Misleading Performance Measure for Highly Imbalanced Data (sas_metrics.pdf) Paper 942-2017 (Josephine S Akosa, Oklahoma State University)\n",
        "\n",
        "\n",
        "VP = VERDADEIRO POSITIVO<br>\n",
        "VN = VERDADEIRO NEGATIVO<br>\n",
        "FP = FALSO POSITIVO<br>\n",
        "FN = FALSON NEGATIVO<br>\n",
        "TVP = TAXA DE VERDADEIRO POSITIVO<br>\n",
        "TVN = TAXA DE VERDADEIRO NEGATIVO<br>\n",
        "TFP = TAXA DE FALSO POSITIVO<br>\n",
        "TFN = TAXA DE FALSO NEGATIVO<br>\n",
        "\n",
        "Métricas utilizadas:<br>\n",
        "\n",
        "* **Acurácia:** proporção de classificações corretas feitas pelo modelo.<br>\n",
        "        Acurácia = (VP + VN)/(VP+VN+VP+VN)<br>\n",
        "\n",
        "* **Precisão:** proporção correta de classificação feita para uma determinada classe.<br>\n",
        "        Precisão = (VP)/(VP + FP)\n",
        "\n",
        "* **Revocação ou Sensibilidade:** proporção de classificações corretas de VP feitas para uma determinada classe considerando todas as instâncias do dataset de testes.<br>\n",
        "      Revocação = TVP = (VP)/(VP+FN)\n",
        "\n",
        "* **Especificidade:** proporção de classificações corretas de VN feitas para uma determinada classe considerando todas as instâncias do dataset de testes.\n",
        "      Especificidade = TVN = (VN)/(VN + FP)\n",
        "\n",
        "* **Suporte:** quantidade de instâncias de uma determinada classe no dataset de testes.\n",
        "\n",
        "**Para o DataSet 3 - dados desbalanceados**\n",
        "\n",
        "* **F1 é a média harmônica da precisão e da revocação.<br>\n",
        "\n",
        "      F1 = (2 * VP) / (2 * VP + FP + FN)\n",
        "* **MCC:** é o coeficiente de correlação Matthews que é utilizado para classes com tamanhos diferentes. Possui escala entre -1 e 1, sendo que 1 indica uma perfeita predição, 0 representa uma predição aleatória e -1 indica discordância total dos valores preditos e os valores verdadeiros.  \n",
        "\n",
        "      MCC = (VP*VN - FP*FN) / (SQRT(VP+FP)*(VP+FN)*(VN+FP)*(VN+FN)\n",
        "      \n",
        "\n",
        "* **Kappa Score - Cohen's Kappa Coefficient** informa quão melhor o classificador está se saindo em relação ao desempenho de um classificador que simplesmente adivinha aleatoriamente de acordo com a frequência de cada classe:\n",
        "\n",
        "      k = (Po - Pe)/(1-Pe) = 1 - (1 - Po)/(1 - Pe)\n",
        "\n",
        "Po é a concordancia observada e Pe é a concordância esperada. O Kappa de Cohen é sempre menor ou igual a 1, sendo que valores menores ou iguais a zero indicam que o classificador é inútil. Quanto mais próximo de 1, indica que o classificador gera uma concordância quase perfeita.\n",
        "\n",
        "* **Média Geométrica (G-mean)** é uma métrica que mede o equilíbrio entre o desempenho de classificação tanto na classe majoritária quanto na minoritária. Um índice baixo é uma indicação de mau desempenho na classificação dos casos positivos, mesmo que os casos negativos sejam corretamente classificados como tal. Ela é importante para prever o sobreajustamento da classe negativa e o subajustamento da classe positiva. Como nosso dataset não possui classes binárias, a fórmula de cálculo será como se segue (material de aula do Prof. André):\n",
        "\n",
        "      G-mean = $(\\pi_{i=1}^{c}Revocacao_{i})^{1/c}$ \n",
        "\n",
        "\n",
        "\n",
        "\n",
        "  \n",
        "\n"
      ]
    },
    {
      "cell_type": "code",
      "metadata": {
        "id": "ygXxE2fnYlY9"
      },
      "source": [
        "def calcula_especificidade(matriz_confusao):\n",
        "  FP = matriz_confusao.sum(axis=0) - np.diag(matriz_confusao) \n",
        "  FN = matriz_confusao.sum(axis=1) - np.diag(matriz_confusao)\n",
        "  VP = np.diag(matriz_confusao)\n",
        "  VN = matriz_confusao.sum() - (FP + FN + VP)\n",
        "  FP = FP.astype(float)\n",
        "  FN = FN.astype(float)\n",
        "  VP = VP.astype(float)\n",
        "  VN = VN.astype(float)\n",
        "  TVN = np.sum(VN)/(np.sum(VN) + np.sum(FP))\n",
        "  return TVN"
      ],
      "execution_count": null,
      "outputs": []
    },
    {
      "cell_type": "code",
      "metadata": {
        "id": "qTRdzPfNUmW4"
      },
      "source": [
        "def calcula_especificidade_porClasse(matriz_confusao):\n",
        "  FP = matriz_confusao.sum(axis=0) - np.diag(matriz_confusao) \n",
        "  FN = matriz_confusao.sum(axis=1) - np.diag(matriz_confusao)\n",
        "  VP = np.diag(matriz_confusao)\n",
        "  VN = matriz_confusao.sum() - (FP + FN + VP)\n",
        "  FP = FP.astype(float)\n",
        "  FN = FN.astype(float)\n",
        "  VP = VP.astype(float)\n",
        "  VN = VN.astype(float)\n",
        "  TVN = (VN)/(VN + FP)\n",
        "  return TVN"
      ],
      "execution_count": null,
      "outputs": []
    },
    {
      "cell_type": "code",
      "metadata": {
        "id": "nNfF5dTGibJe"
      },
      "source": [
        "def calcula_GMean_multiclass(revocacao):\n",
        "   revoc = np.array(revocacao)\n",
        "   GMean = revoc.prod()**(1.0/len(revoc))\n",
        "   return GMean  \n",
        "   "
      ],
      "execution_count": null,
      "outputs": []
    },
    {
      "cell_type": "code",
      "metadata": {
        "id": "fZR9epC7bOAj"
      },
      "source": [
        "def elabora_relatorio_metricas(report, matriz_confusao):\n",
        "  espec = calcula_especificidade_porClasse(matriz_confusao) # calcula o valor da especificidade para cada classe\n",
        "  dfrep = pd.DataFrame(report).transpose() #transforma o conteúdo do classification_report em um dataframe pandas\n",
        "  dfrep_a = dfrep[:-3].copy() # separa as métricas de cada classe do valor da acurácia geral do modelo\n",
        "  dfrep_a['specificity'] = espec # inclui no dataframe o valor da especificidade\n",
        "  dfrep_b  = dfrep[dfrep.index=='accuracy'].copy() #obtem do dataframe somente o valor da acurácia\n",
        "  dfrep_b['specificity']=calcula_especificidade(matriz_confusao) # inclui o valor da especificidade geral de todas as classes\n",
        "  metricas = ['precision', 'recall', 'specificity', 'f1-score', 'support'] #organiza as métricas na ordem desejada\n",
        "  df = pd.concat([dfrep_a[metricas],dfrep_b[metricas]],sort=False) #concatena todos os valores em um único dataframe\n",
        "  df['support'] = df['support'].astype('int')\n",
        "  return df\n",
        "\n"
      ],
      "execution_count": null,
      "outputs": []
    },
    {
      "cell_type": "code",
      "metadata": {
        "id": "6sGfCMMB9ewJ"
      },
      "source": [
        "def evaluate(model, test_loader):\n",
        "    y_pred = []\n",
        "    y_true = []\n",
        "\n",
        "\n",
        "    #obtem os valores preditos e os valores de teste\n",
        "    model.eval()\n",
        "    with torch.no_grad():\n",
        "        for (text, labels), _ in test_loader:\n",
        "                labels = labels.type(torch.LongTensor)  #carrega as classes para uma estrutura pytorch         \n",
        "                labels = labels.to(device)  #carrega a estrutura pytorch para GPU (se houver, foi testado anteriormente)\n",
        "                text = text.type(torch.LongTensor)    #carrega o texto para uma estrutura pytorch\n",
        "                text = text.to(device)          #carrega a estrutura pytorch para GPU (se houver, foi testado anteriormente)\n",
        "                output = model(text, labels)   #submete o texto e a label da classe ao modelo\n",
        "\n",
        "                _, output = output\n",
        "                y_pred.extend(torch.argmax(output, 1).tolist())  #obtem do pytorch de saída do modelo o valor predito.\n",
        "                y_true.extend(labels.tolist()) #obtem do pytorch de teste  valor real.\n",
        "    \n",
        "    print('Classification Report:')\n",
        "    n_classe = np.max(y_true)+1 #obtem o número de classes\n",
        "    report = classification_report(y_true, y_pred, labels=np.arange(0,n_classe), digits=4, output_dict=True) #gera o relatório de métricas\n",
        "    cm = confusion_matrix(y_true, y_pred, labels=np.arange(0,n_classe)) #gera a matriz de confusao\n",
        "    report = elabora_relatorio_metricas(report, cm) #inclui no relatorio a especificidade\n",
        "    print(report)\n",
        "\n",
        "    cohen_kappa = cohen_kappa_score(y_true, y_pred,labels=np.arange(0,n_classe))\n",
        "    ccmatheus = matthews_corrcoef(y_true, y_pred)\n",
        "    \n",
        "    print(\"Acurácia:\",accuracy_score(y_true, y_pred))\n",
        "    print('Acurácia balanceada:',balanced_accuracy_score(y_true, y_pred))\n",
        "    print('GMean:', calcula_GMean_multiclass(report['recall']))\n",
        "    print('Cohen Kappa Score:', cohen_kappa)\n",
        "    print('Coef. Correlacao Matheus:', ccmatheus)\n",
        "    \n",
        "    \n",
        "    \n",
        "    #ax= plt.subplot()\n",
        "    #sns.heatmap(cm, annot=True, ax = ax, cmap='Blues', fmt=\"d\")\n",
        "    #ax.set_title('Confusion Matrix')\n",
        "    #ax.set_xlabel('Predicted Labels')\n",
        "    #ax.set_ylabel('True Labels')\n",
        "    return report\n"
      ],
      "execution_count": null,
      "outputs": []
    },
    {
      "cell_type": "code",
      "metadata": {
        "id": "6pc0NIvYbLsm"
      },
      "source": [
        ""
      ],
      "execution_count": null,
      "outputs": []
    },
    {
      "cell_type": "code",
      "metadata": {
        "id": "k5g9qV-7OZ5X"
      },
      "source": [
        "#%%time    \n",
        "qtd_categories=[32]\n",
        "id_planilha = [72]\n",
        "dataset = [1]\n",
        "for idx, (id_, amostra) in enumerate(zip(id_planilha,dataset)):\n",
        "      print('id_planilha:', id_)\n",
        "      tokens = tokenizaAmostra(source_folder+str(amostra))\n",
        "      best_model =BERT(qtd_categories=qtd_categories[idx]).to(device)\n",
        "      load_checkpoint(destination_folder+\"/\"+str(id_) + '/model.pt', best_model)\n",
        "      evaluate(best_model, tokens[2])"
      ],
      "execution_count": null,
      "outputs": []
    },
    {
      "cell_type": "code",
      "metadata": {
        "id": "V1koq2k7jrIj"
      },
      "source": [
        "#!rm ./bertimbau_all_categ/amostra_4/*.*\n",
        "#!du -sh\n"
      ],
      "execution_count": null,
      "outputs": []
    },
    {
      "cell_type": "markdown",
      "metadata": {
        "id": "TJrH6W-UEXCK"
      },
      "source": [
        ""
      ]
    }
  ]
}