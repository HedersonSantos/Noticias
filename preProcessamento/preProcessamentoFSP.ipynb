{
  "nbformat": 4,
  "nbformat_minor": 0,
  "metadata": {
    "colab": {
      "name": "preProcessamentoFSP.ipynb",
      "provenance": [],
      "collapsed_sections": [],
      "authorship_tag": "ABX9TyNBTpk7UtwCCQNAcmNphAaG",
      "include_colab_link": true
    },
    "kernelspec": {
      "name": "python3",
      "display_name": "Python 3"
    },
    "language_info": {
      "name": "python"
    }
  },
  "cells": [
    {
      "cell_type": "markdown",
      "metadata": {
        "id": "view-in-github",
        "colab_type": "text"
      },
      "source": [
        "<a href=\"https://colab.research.google.com/github/HedersonSantos/Noticias/blob/main/preProcessamento/preProcessamentoFSP.ipynb\" target=\"_parent\"><img src=\"https://colab.research.google.com/assets/colab-badge.svg\" alt=\"Open In Colab\"/></a>"
      ]
    },
    {
      "cell_type": "code",
      "metadata": {
        "id": "Q07HsC2GS8NZ"
      },
      "source": [
        "import pandas as pd\n",
        "import numpy as np\n",
        "from google.colab import files, drive\n",
        "from pathlib import Path\n",
        "from sklearn.model_selection import train_test_split\n",
        "import io, re\n",
        "pd.set_option('display.max_columns', None)\n",
        "pd.set_option('display.max_rows', None)\n",
        "pd.set_option('max_colwidth', None)"
      ],
      "execution_count": null,
      "outputs": []
    },
    {
      "cell_type": "markdown",
      "metadata": {
        "id": "ht1KhOAqTcz6"
      },
      "source": [
        "### Montando Google Driver e abrindo arquivos de noticias"
      ]
    },
    {
      "cell_type": "markdown",
      "metadata": {
        "id": "EMhQp7LQfU1q"
      },
      "source": [
        "o arquivo articles.csv contém 167053 noticias da Folha de São Paulo. Este dataset está disponível em .... <br>\n",
        "O arquivo news.csv contém xxx noticias extraídos dos sites UOL, G1, GoogleNews, Poder360 através de web scrapping cujo algoritmo foi montado por nós."
      ]
    },
    {
      "cell_type": "code",
      "metadata": {
        "colab": {
          "base_uri": "https://localhost:8080/"
        },
        "id": "SA5KAl6MTN5z",
        "outputId": "97b1111a-40a6-4afa-ee12-32163c232c73"
      },
      "source": [
        "drive.mount('/gdrive')\n",
        "%cd /gdrive/My\\ Drive/Colab\\ Notebooks/nlp_tcc\n",
        "path = '/gdrive/My Drive/Colab Notebooks/nlp_tcc'\n",
        "KEY='4/1AX4XfWjO8LFULyUVA2hr76Ekj281Rn58ieVYw_BkgE4HYvy9Lf8PJ1W3aOQ'"
      ],
      "execution_count": null,
      "outputs": [
        {
          "output_type": "stream",
          "text": [
            "Drive already mounted at /gdrive; to attempt to forcibly remount, call drive.mount(\"/gdrive\", force_remount=True).\n",
            "/gdrive/My Drive/Colab Notebooks/nlp_tcc\n"
          ],
          "name": "stdout"
        }
      ]
    },
    {
      "cell_type": "code",
      "metadata": {
        "colab": {
          "base_uri": "https://localhost:8080/"
        },
        "id": "1wCE1tzZB0pR",
        "outputId": "bb1a8898-0b5e-45a3-dc44-676286afd0ff"
      },
      "source": [
        "!rm *.zip\n",
        "!ls"
      ],
      "execution_count": null,
      "outputs": [
        {
          "output_type": "stream",
          "text": [
            "rm: cannot remove '*.zip': No such file or directory\n",
            "articles.csv  news.csv\tnews_integradas.csv  noticia_tratada.csv\n"
          ],
          "name": "stdout"
        }
      ]
    },
    {
      "cell_type": "code",
      "metadata": {
        "id": "7MNdNYYYTybp"
      },
      "source": [
        "#!unzip noticiasFSP.zip\n",
        "#!ls *.csv\n"
      ],
      "execution_count": null,
      "outputs": []
    },
    {
      "cell_type": "code",
      "metadata": {
        "colab": {
          "base_uri": "https://localhost:8080/"
        },
        "id": "z7s92YzMepOX",
        "outputId": "a4868d2f-2be9-4cde-9584-fa596cf5a053"
      },
      "source": [
        "!ls *.csv -lh"
      ],
      "execution_count": null,
      "outputs": [
        {
          "output_type": "stream",
          "text": [
            "-rw------- 1 root root 481M Jul 24 17:03 articles.csv\n",
            "-rw------- 1 root root  93M Jul 24 15:58 news.csv\n",
            "-rw------- 1 root root 521M Jul 25 21:25 news_integradas.csv\n",
            "-rw------- 1 root root  93M Jul 24 15:42 noticia_tratada.csv\n"
          ],
          "name": "stdout"
        }
      ]
    },
    {
      "cell_type": "markdown",
      "metadata": {
        "id": "tOGwdFrQhbNe"
      },
      "source": [
        "**Conjunto de Notícias da Folha de São Paulo**"
      ]
    },
    {
      "cell_type": "code",
      "metadata": {
        "colab": {
          "base_uri": "https://localhost:8080/"
        },
        "id": "5uxjH-YneHXp",
        "outputId": "1bd9c85f-1c81-4de7-bb4d-db7f53abf23f"
      },
      "source": [
        "dfFSP = pd.read_csv('articles.csv', header=0)\n",
        "print(dfFSP.columns)\n",
        "dfFSP.shape"
      ],
      "execution_count": null,
      "outputs": [
        {
          "output_type": "stream",
          "text": [
            "Index(['title', 'text', 'date', 'category', 'subcategory', 'link'], dtype='object')\n"
          ],
          "name": "stdout"
        },
        {
          "output_type": "execute_result",
          "data": {
            "text/plain": [
              "(167053, 6)"
            ]
          },
          "metadata": {
            "tags": []
          },
          "execution_count": 258
        }
      ]
    },
    {
      "cell_type": "code",
      "metadata": {
        "colab": {
          "base_uri": "https://localhost:8080/",
          "height": 436
        },
        "id": "Q1PdhjppebTH",
        "outputId": "c57780ee-f725-4b9c-a0e3-38642830905f"
      },
      "source": [
        "dfFSP.head(1)"
      ],
      "execution_count": null,
      "outputs": [
        {
          "output_type": "execute_result",
          "data": {
            "text/html": [
              "<div>\n",
              "<style scoped>\n",
              "    .dataframe tbody tr th:only-of-type {\n",
              "        vertical-align: middle;\n",
              "    }\n",
              "\n",
              "    .dataframe tbody tr th {\n",
              "        vertical-align: top;\n",
              "    }\n",
              "\n",
              "    .dataframe thead th {\n",
              "        text-align: right;\n",
              "    }\n",
              "</style>\n",
              "<table border=\"1\" class=\"dataframe\">\n",
              "  <thead>\n",
              "    <tr style=\"text-align: right;\">\n",
              "      <th></th>\n",
              "      <th>title</th>\n",
              "      <th>text</th>\n",
              "      <th>date</th>\n",
              "      <th>category</th>\n",
              "      <th>subcategory</th>\n",
              "      <th>link</th>\n",
              "    </tr>\n",
              "  </thead>\n",
              "  <tbody>\n",
              "    <tr>\n",
              "      <th>0</th>\n",
              "      <td>Lula diz que está 'lascado', mas que ainda tem força como cabo eleitoral</td>\n",
              "      <td>Com a possibilidade de uma condenação impedir sua candidatura em 2018, o ex-presidente Luiz Inácio Lula da Silva fez, nesta segunda (9), um discurso inflamado contra a Lava Jato, no qual disse saber que está \"lascado\", exigiu um pedido de desculpas do juiz Sergio Moro e afirmou que, mesmo fora da disputa pelo Planalto, será um cabo eleitoral expressivo para a sucessão de Michel Temer.  Segundo o petista, réu em sete ações penais, o objetivo de Moro é impedir sua candidatura no ano que vem, desidratando-o, inclusive, no apoio a um nome alternativo, como o do ex-prefeito de São Paulo Fernando Haddad (PT), caso ele não possa concorrer à Presidência.  \"Eu sei que tô lascado, todo dia tem um processo. Eu não quero nem que Moro me absolva, eu só quero que ele peça desculpas\", disse Lula durante um seminário sobre educação em Brasília. \"Eles [investigadores] chegam a dizer: 'Ah, se o Lula não for candidato, ele não vai ter força como cabo eleitoral'. Testem\", completou o petista.  Para o ex-presidente, Moro usou \"mentiras contadas pela Polícia Federal e pelo Ministério Público\" para julgá-lo e condená-lo a nove anos e seis meses de prisão pelo caso do tríplex em Guarujá (SP).  O ex-presidente disse ainda não ter \"medo\" dos investigadores que, de acordo com ele, estão acostumados a \"mexer com deputados e senadores\" que temem as apurações.  \"Eu quero que eles saibam o seguinte: se eles estão acostumados a lidar com deputado que tem medo deles, a mexer com senadores que têm medo deles, quero dizer que tenho respeito profundo por quem me respeita, pelas leis que nós ajudamos a criar, mas não tenho respeito por quem não me respeita e eles não me respeitaram\", afirmou o petista.    De acordo com aliados, Lula não gosta de discutir, mesmo que nos bastidores, a chance de não ser candidato ao Planalto e a projeção do nome de Haddad como plano B do PT tem incomodado os mais próximos ao ex-presidente. O ex-prefeito, que estava no evento nesta segunda, fez um discurso rápido, de menos de dez minutos, em que encerrou dizendo esperar que Lula assuma a Presidência em 2019.  \"Espero que dia 1º de janeiro de 2019 esse pesadelo chamado Temer acabe e o senhor assuma a Presidência da República\", disse Haddad.  'DEMÔNIO DO MERCADO'  Lula voltou a fazer um discurso mais agressivo em relação ao mercado e disse que \"não tem cara de demônio\", mas quer que o respeitem \"como se fosse\".  \"Não tenho cara de demônio, mas quero que eles me respeitem como se eu fosse, porque eles sabem que a economia não vai ficar subordinada ao elitismo da sociedade brasileira\", disse o ex-presidente.  O petista rivalizou ainda com o deputado Jair Bolsonaro (PSC-RJ), segundo colocado nas últimas pesquisas empatado com Marina Silva, e disse que se ele \"agrada ao mercado\", o PT tem que \"desagradar\".  A Folha publicou nesta segunda (9) reportagem em que mostrou que o deputado ensaia movimento ao centro no debate econômico, adotando um discurso simpático aos investidores do mercado financeiro.</td>\n",
              "      <td>2017-09-10</td>\n",
              "      <td>poder</td>\n",
              "      <td>NaN</td>\n",
              "      <td>http://www1.folha.uol.com.br/poder/2017/10/1925743-lula-diz-que-esta-lascado-mas-que-ainda-tem-forca-como-cabo-eleitoral.shtml</td>\n",
              "    </tr>\n",
              "  </tbody>\n",
              "</table>\n",
              "</div>"
            ],
            "text/plain": [
              "                                                                      title  \\\n",
              "0  Lula diz que está 'lascado', mas que ainda tem força como cabo eleitoral   \n",
              "\n",
              "                                                                                                                                                                                                                                                                                                                                                                                                                                                                                                                                                                                                                                                                                                                                                                                                                                                                                                                                                                                                                                                                                                                                                                                                                                                                                                                                                                                                                                                                                                                                                                                                                                                                                                                                                                                                                                                                                                                                                                                                                                                                                                                                                                                                                                                                                                                                                                                                                                                                                                                                                                                                                                                                                                                                                                                                                                                                                                                                                                                                                                                                                                            text  \\\n",
              "0  Com a possibilidade de uma condenação impedir sua candidatura em 2018, o ex-presidente Luiz Inácio Lula da Silva fez, nesta segunda (9), um discurso inflamado contra a Lava Jato, no qual disse saber que está \"lascado\", exigiu um pedido de desculpas do juiz Sergio Moro e afirmou que, mesmo fora da disputa pelo Planalto, será um cabo eleitoral expressivo para a sucessão de Michel Temer.  Segundo o petista, réu em sete ações penais, o objetivo de Moro é impedir sua candidatura no ano que vem, desidratando-o, inclusive, no apoio a um nome alternativo, como o do ex-prefeito de São Paulo Fernando Haddad (PT), caso ele não possa concorrer à Presidência.  \"Eu sei que tô lascado, todo dia tem um processo. Eu não quero nem que Moro me absolva, eu só quero que ele peça desculpas\", disse Lula durante um seminário sobre educação em Brasília. \"Eles [investigadores] chegam a dizer: 'Ah, se o Lula não for candidato, ele não vai ter força como cabo eleitoral'. Testem\", completou o petista.  Para o ex-presidente, Moro usou \"mentiras contadas pela Polícia Federal e pelo Ministério Público\" para julgá-lo e condená-lo a nove anos e seis meses de prisão pelo caso do tríplex em Guarujá (SP).  O ex-presidente disse ainda não ter \"medo\" dos investigadores que, de acordo com ele, estão acostumados a \"mexer com deputados e senadores\" que temem as apurações.  \"Eu quero que eles saibam o seguinte: se eles estão acostumados a lidar com deputado que tem medo deles, a mexer com senadores que têm medo deles, quero dizer que tenho respeito profundo por quem me respeita, pelas leis que nós ajudamos a criar, mas não tenho respeito por quem não me respeita e eles não me respeitaram\", afirmou o petista.    De acordo com aliados, Lula não gosta de discutir, mesmo que nos bastidores, a chance de não ser candidato ao Planalto e a projeção do nome de Haddad como plano B do PT tem incomodado os mais próximos ao ex-presidente. O ex-prefeito, que estava no evento nesta segunda, fez um discurso rápido, de menos de dez minutos, em que encerrou dizendo esperar que Lula assuma a Presidência em 2019.  \"Espero que dia 1º de janeiro de 2019 esse pesadelo chamado Temer acabe e o senhor assuma a Presidência da República\", disse Haddad.  'DEMÔNIO DO MERCADO'  Lula voltou a fazer um discurso mais agressivo em relação ao mercado e disse que \"não tem cara de demônio\", mas quer que o respeitem \"como se fosse\".  \"Não tenho cara de demônio, mas quero que eles me respeitem como se eu fosse, porque eles sabem que a economia não vai ficar subordinada ao elitismo da sociedade brasileira\", disse o ex-presidente.  O petista rivalizou ainda com o deputado Jair Bolsonaro (PSC-RJ), segundo colocado nas últimas pesquisas empatado com Marina Silva, e disse que se ele \"agrada ao mercado\", o PT tem que \"desagradar\".  A Folha publicou nesta segunda (9) reportagem em que mostrou que o deputado ensaia movimento ao centro no debate econômico, adotando um discurso simpático aos investidores do mercado financeiro.   \n",
              "\n",
              "         date category subcategory  \\\n",
              "0  2017-09-10    poder         NaN   \n",
              "\n",
              "                                                                                                                             link  \n",
              "0  http://www1.folha.uol.com.br/poder/2017/10/1925743-lula-diz-que-esta-lascado-mas-que-ainda-tem-forca-como-cabo-eleitoral.shtml  "
            ]
          },
          "metadata": {
            "tags": []
          },
          "execution_count": 259
        }
      ]
    },
    {
      "cell_type": "markdown",
      "metadata": {
        "id": "Rg0ifeCNhrHu"
      },
      "source": [
        "**Quantidade de noticias por categoria**"
      ]
    },
    {
      "cell_type": "code",
      "metadata": {
        "id": "I4AFC0MSfGzP",
        "colab": {
          "base_uri": "https://localhost:8080/",
          "height": 1000
        },
        "outputId": "7577de3e-442d-4579-d72e-b71e54e0bd5c"
      },
      "source": [
        "#['title', 'text', 'date', 'category', 'subcategory', 'link'\n",
        "categoriaFSP = dfFSP.groupby(['category'])['link'].count().reset_index().sort_values(by = 'link', ascending=False)\n",
        "categoriaFSP"
      ],
      "execution_count": null,
      "outputs": [
        {
          "output_type": "execute_result",
          "data": {
            "text/html": [
              "<div>\n",
              "<style scoped>\n",
              "    .dataframe tbody tr th:only-of-type {\n",
              "        vertical-align: middle;\n",
              "    }\n",
              "\n",
              "    .dataframe tbody tr th {\n",
              "        vertical-align: top;\n",
              "    }\n",
              "\n",
              "    .dataframe thead th {\n",
              "        text-align: right;\n",
              "    }\n",
              "</style>\n",
              "<table border=\"1\" class=\"dataframe\">\n",
              "  <thead>\n",
              "    <tr style=\"text-align: right;\">\n",
              "      <th></th>\n",
              "      <th>category</th>\n",
              "      <th>link</th>\n",
              "    </tr>\n",
              "  </thead>\n",
              "  <tbody>\n",
              "    <tr>\n",
              "      <th>35</th>\n",
              "      <td>poder</td>\n",
              "      <td>22022</td>\n",
              "    </tr>\n",
              "    <tr>\n",
              "      <th>9</th>\n",
              "      <td>colunas</td>\n",
              "      <td>21622</td>\n",
              "    </tr>\n",
              "    <tr>\n",
              "      <th>26</th>\n",
              "      <td>mercado</td>\n",
              "      <td>20970</td>\n",
              "    </tr>\n",
              "    <tr>\n",
              "      <th>18</th>\n",
              "      <td>esporte</td>\n",
              "      <td>19730</td>\n",
              "    </tr>\n",
              "    <tr>\n",
              "      <th>29</th>\n",
              "      <td>mundo</td>\n",
              "      <td>17130</td>\n",
              "    </tr>\n",
              "    <tr>\n",
              "      <th>12</th>\n",
              "      <td>cotidiano</td>\n",
              "      <td>16967</td>\n",
              "    </tr>\n",
              "    <tr>\n",
              "      <th>23</th>\n",
              "      <td>ilustrada</td>\n",
              "      <td>16345</td>\n",
              "    </tr>\n",
              "    <tr>\n",
              "      <th>33</th>\n",
              "      <td>opiniao</td>\n",
              "      <td>4525</td>\n",
              "    </tr>\n",
              "    <tr>\n",
              "      <th>34</th>\n",
              "      <td>paineldoleitor</td>\n",
              "      <td>4011</td>\n",
              "    </tr>\n",
              "    <tr>\n",
              "      <th>37</th>\n",
              "      <td>saopaulo</td>\n",
              "      <td>3955</td>\n",
              "    </tr>\n",
              "    <tr>\n",
              "      <th>41</th>\n",
              "      <td>tec</td>\n",
              "      <td>2260</td>\n",
              "    </tr>\n",
              "    <tr>\n",
              "      <th>46</th>\n",
              "      <td>tv</td>\n",
              "      <td>2142</td>\n",
              "    </tr>\n",
              "    <tr>\n",
              "      <th>14</th>\n",
              "      <td>educacao</td>\n",
              "      <td>2118</td>\n",
              "    </tr>\n",
              "    <tr>\n",
              "      <th>45</th>\n",
              "      <td>turismo</td>\n",
              "      <td>1903</td>\n",
              "    </tr>\n",
              "    <tr>\n",
              "      <th>24</th>\n",
              "      <td>ilustrissima</td>\n",
              "      <td>1411</td>\n",
              "    </tr>\n",
              "    <tr>\n",
              "      <th>8</th>\n",
              "      <td>ciencia</td>\n",
              "      <td>1335</td>\n",
              "    </tr>\n",
              "    <tr>\n",
              "      <th>16</th>\n",
              "      <td>equilibrioesaude</td>\n",
              "      <td>1312</td>\n",
              "    </tr>\n",
              "    <tr>\n",
              "      <th>40</th>\n",
              "      <td>sobretudo</td>\n",
              "      <td>1057</td>\n",
              "    </tr>\n",
              "    <tr>\n",
              "      <th>5</th>\n",
              "      <td>bbc</td>\n",
              "      <td>980</td>\n",
              "    </tr>\n",
              "    <tr>\n",
              "      <th>20</th>\n",
              "      <td>folhinha</td>\n",
              "      <td>876</td>\n",
              "    </tr>\n",
              "    <tr>\n",
              "      <th>15</th>\n",
              "      <td>empreendedorsocial</td>\n",
              "      <td>841</td>\n",
              "    </tr>\n",
              "    <tr>\n",
              "      <th>10</th>\n",
              "      <td>comida</td>\n",
              "      <td>828</td>\n",
              "    </tr>\n",
              "    <tr>\n",
              "      <th>3</th>\n",
              "      <td>asmais</td>\n",
              "      <td>548</td>\n",
              "    </tr>\n",
              "    <tr>\n",
              "      <th>2</th>\n",
              "      <td>ambiente</td>\n",
              "      <td>491</td>\n",
              "    </tr>\n",
              "    <tr>\n",
              "      <th>38</th>\n",
              "      <td>seminariosfolha</td>\n",
              "      <td>379</td>\n",
              "    </tr>\n",
              "    <tr>\n",
              "      <th>39</th>\n",
              "      <td>serafina</td>\n",
              "      <td>334</td>\n",
              "    </tr>\n",
              "    <tr>\n",
              "      <th>31</th>\n",
              "      <td>o-melhor-de-sao-paulo</td>\n",
              "      <td>189</td>\n",
              "    </tr>\n",
              "    <tr>\n",
              "      <th>47</th>\n",
              "      <td>vice</td>\n",
              "      <td>146</td>\n",
              "    </tr>\n",
              "    <tr>\n",
              "      <th>21</th>\n",
              "      <td>guia-de-livros-discos-filmes</td>\n",
              "      <td>143</td>\n",
              "    </tr>\n",
              "    <tr>\n",
              "      <th>42</th>\n",
              "      <td>topofmind</td>\n",
              "      <td>86</td>\n",
              "    </tr>\n",
              "    <tr>\n",
              "      <th>4</th>\n",
              "      <td>banco-de-dados</td>\n",
              "      <td>64</td>\n",
              "    </tr>\n",
              "    <tr>\n",
              "      <th>13</th>\n",
              "      <td>dw</td>\n",
              "      <td>48</td>\n",
              "    </tr>\n",
              "    <tr>\n",
              "      <th>17</th>\n",
              "      <td>especial</td>\n",
              "      <td>43</td>\n",
              "    </tr>\n",
              "    <tr>\n",
              "      <th>25</th>\n",
              "      <td>infograficos</td>\n",
              "      <td>43</td>\n",
              "    </tr>\n",
              "    <tr>\n",
              "      <th>7</th>\n",
              "      <td>cenarios-2017</td>\n",
              "      <td>43</td>\n",
              "    </tr>\n",
              "    <tr>\n",
              "      <th>36</th>\n",
              "      <td>rfi</td>\n",
              "      <td>29</td>\n",
              "    </tr>\n",
              "    <tr>\n",
              "      <th>22</th>\n",
              "      <td>guia-de-livros-filmes-discos</td>\n",
              "      <td>28</td>\n",
              "    </tr>\n",
              "    <tr>\n",
              "      <th>28</th>\n",
              "      <td>multimidia</td>\n",
              "      <td>27</td>\n",
              "    </tr>\n",
              "    <tr>\n",
              "      <th>43</th>\n",
              "      <td>treinamento</td>\n",
              "      <td>21</td>\n",
              "    </tr>\n",
              "    <tr>\n",
              "      <th>44</th>\n",
              "      <td>treinamentocienciaesaude</td>\n",
              "      <td>18</td>\n",
              "    </tr>\n",
              "    <tr>\n",
              "      <th>27</th>\n",
              "      <td>mulher</td>\n",
              "      <td>16</td>\n",
              "    </tr>\n",
              "    <tr>\n",
              "      <th>19</th>\n",
              "      <td>euronews</td>\n",
              "      <td>8</td>\n",
              "    </tr>\n",
              "    <tr>\n",
              "      <th>32</th>\n",
              "      <td>ombudsman</td>\n",
              "      <td>3</td>\n",
              "    </tr>\n",
              "    <tr>\n",
              "      <th>11</th>\n",
              "      <td>contas-de-casa</td>\n",
              "      <td>2</td>\n",
              "    </tr>\n",
              "    <tr>\n",
              "      <th>1</th>\n",
              "      <td>2016</td>\n",
              "      <td>1</td>\n",
              "    </tr>\n",
              "    <tr>\n",
              "      <th>6</th>\n",
              "      <td>bichos</td>\n",
              "      <td>1</td>\n",
              "    </tr>\n",
              "    <tr>\n",
              "      <th>30</th>\n",
              "      <td>musica</td>\n",
              "      <td>1</td>\n",
              "    </tr>\n",
              "    <tr>\n",
              "      <th>0</th>\n",
              "      <td>2015</td>\n",
              "      <td>1</td>\n",
              "    </tr>\n",
              "  </tbody>\n",
              "</table>\n",
              "</div>"
            ],
            "text/plain": [
              "                        category   link\n",
              "35                         poder  22022\n",
              "9                        colunas  21622\n",
              "26                       mercado  20970\n",
              "18                       esporte  19730\n",
              "29                         mundo  17130\n",
              "12                     cotidiano  16967\n",
              "23                     ilustrada  16345\n",
              "33                       opiniao   4525\n",
              "34                paineldoleitor   4011\n",
              "37                      saopaulo   3955\n",
              "41                           tec   2260\n",
              "46                            tv   2142\n",
              "14                      educacao   2118\n",
              "45                       turismo   1903\n",
              "24                  ilustrissima   1411\n",
              "8                        ciencia   1335\n",
              "16              equilibrioesaude   1312\n",
              "40                     sobretudo   1057\n",
              "5                            bbc    980\n",
              "20                      folhinha    876\n",
              "15            empreendedorsocial    841\n",
              "10                        comida    828\n",
              "3                         asmais    548\n",
              "2                       ambiente    491\n",
              "38               seminariosfolha    379\n",
              "39                      serafina    334\n",
              "31         o-melhor-de-sao-paulo    189\n",
              "47                          vice    146\n",
              "21  guia-de-livros-discos-filmes    143\n",
              "42                     topofmind     86\n",
              "4                 banco-de-dados     64\n",
              "13                            dw     48\n",
              "17                      especial     43\n",
              "25                  infograficos     43\n",
              "7                  cenarios-2017     43\n",
              "36                           rfi     29\n",
              "22  guia-de-livros-filmes-discos     28\n",
              "28                    multimidia     27\n",
              "43                   treinamento     21\n",
              "44      treinamentocienciaesaude     18\n",
              "27                        mulher     16\n",
              "19                      euronews      8\n",
              "32                     ombudsman      3\n",
              "11                contas-de-casa      2\n",
              "1                           2016      1\n",
              "6                         bichos      1\n",
              "30                        musica      1\n",
              "0                           2015      1"
            ]
          },
          "metadata": {
            "tags": []
          },
          "execution_count": 260
        }
      ]
    },
    {
      "cell_type": "markdown",
      "metadata": {
        "id": "urz3dmz2iKOz"
      },
      "source": [
        "**Conjunto de Notícias da nossa base de dados**"
      ]
    },
    {
      "cell_type": "code",
      "metadata": {
        "colab": {
          "base_uri": "https://localhost:8080/"
        },
        "id": "_43R0jQBiESU",
        "outputId": "e4df7464-c356-4643-f9ab-0954a6e715ce"
      },
      "source": [
        "dfNews = pd.read_csv('news.csv', header=0)\n",
        "print(dfNews.columns)\n",
        "dfNews.shape"
      ],
      "execution_count": null,
      "outputs": [
        {
          "output_type": "stream",
          "text": [
            "Index(['FONTE', 'CATEGORIA', 'TEXTO', 'URL', 'PUBLISHEDAT', 'TITLE', 'AUTHOR',\n",
            "       'DT_REGISTRO', 'TEXT_TRATADO'],\n",
            "      dtype='object')\n"
          ],
          "name": "stdout"
        },
        {
          "output_type": "execute_result",
          "data": {
            "text/plain": [
              "(11176, 9)"
            ]
          },
          "metadata": {
            "tags": []
          },
          "execution_count": 261
        }
      ]
    },
    {
      "cell_type": "code",
      "metadata": {
        "id": "G3fgFvzpi7CR"
      },
      "source": [
        "'''tornando o nome das colunas dos dois datasets iguais '''\n",
        "dfNews = dfNews.rename(columns={'CATEGORIA':'category',\n",
        "                       'URL':'link',\n",
        "                       'PUBLISHEDAT':'date',\n",
        "                       'TITLE':'title',\n",
        "                       'TEXT_TRATADO':'text',\n",
        "                       'FONTE':'fonte'}).copy()\n",
        "dfNews = dfNews[['title', 'text', 'date', 'category', 'link','fonte']]\n",
        "\n",
        "\n",
        "    "
      ],
      "execution_count": null,
      "outputs": []
    },
    {
      "cell_type": "code",
      "metadata": {
        "colab": {
          "base_uri": "https://localhost:8080/",
          "height": 273
        },
        "id": "SBxDFO9NlAUd",
        "outputId": "7a3bd728-28ae-4e24-d6c8-db8fe1ef03c5"
      },
      "source": [
        "dfNews.head(1)"
      ],
      "execution_count": null,
      "outputs": [
        {
          "output_type": "execute_result",
          "data": {
            "text/html": [
              "<div>\n",
              "<style scoped>\n",
              "    .dataframe tbody tr th:only-of-type {\n",
              "        vertical-align: middle;\n",
              "    }\n",
              "\n",
              "    .dataframe tbody tr th {\n",
              "        vertical-align: top;\n",
              "    }\n",
              "\n",
              "    .dataframe thead th {\n",
              "        text-align: right;\n",
              "    }\n",
              "</style>\n",
              "<table border=\"1\" class=\"dataframe\">\n",
              "  <thead>\n",
              "    <tr style=\"text-align: right;\">\n",
              "      <th></th>\n",
              "      <th>title</th>\n",
              "      <th>text</th>\n",
              "      <th>date</th>\n",
              "      <th>category</th>\n",
              "      <th>link</th>\n",
              "      <th>fonte</th>\n",
              "    </tr>\n",
              "  </thead>\n",
              "  <tbody>\n",
              "    <tr>\n",
              "      <th>0</th>\n",
              "      <td>Putin não espera \"grandes avanços\" em cúpula com Biden</td>\n",
              "      <td>Em entrevista para as principais agências de notícias internacionais, incluindo a Efe, Putin enfatizou que os dois países, apesar das discordâncias, têm interesses em comum e que ele está confiante que a cúpula com Biden será construtiva.\\nEntre as áreas de interesse comum, o chefe do Kremlin citou a solução de problemas ambientais, segurança estratégica e a dissolução de uma série de crises regionais.\\n\"Isso é muito importante, porque tem a ver com a segurança de nossos países\", afirmou Putin, além de destacar, por exemplo, que a crise no Oriente Médio \"leva ao crescimento do terrorismo\".\\n\"(Isso é) muito perigoso para todos, para os Estados Unidos, para a Rússia, para a Europa, para outras regiões do mundo\", acrescentou.\\nPutin enfatizou a importância da segurança estratégica e garantiu que a Rússia não quer \"assustar ninguém\" com seus novos armamentos.\\n\"Sim, estamos desenvolvendo esses armamentos e conseguimos certos resultados\", disse o mandatário, para quem a Rússia está um passo \"à frente\" de outros países.\\nEle também admitiu que os Estados Unidos e outras potências logo alcançarão resultados semelhantes, e portanto \"é melhor pensar em como vamos viver juntos\".\\n\\nO Conselho Tutelar de\\nIvaiporã foi acionado por volta das 12h30 de sexta-feira (4) para acompanhar\\nalgumas...\\nO sábado (5) começa com tempo estável nas regiões paranaenses. Ao amanhecer, Apucarana e Arapongas registraram...\\nO Senado vai analisar a Medida Provisória 1.034/2021, que aumenta a tributação de instituições financeiras O texto \\nEm meio à pandemia da Covid-19, especialistas apontam que a menor frequência nos parques públicos pode estar...\\nA Empresa de Limpeza Urbana de Salvador (Limpurb) fará uma série de ações até 11 de junho como parte da campanha...\\nOs ministros das Finanças do G7 esperam anunciar um acordo neste sábado (5) sobre um imposto mínimo global e uma...</td>\n",
              "      <td>2021-06-05T03:00:00Z</td>\n",
              "      <td>mundo</td>\n",
              "      <td>https://noticias.uol.com.br/ultimas-noticias/efe/2021/06/05/putin-nao-espera-grandes-avancos-em-cupula-com-biden.htm</td>\n",
              "      <td>UOL</td>\n",
              "    </tr>\n",
              "  </tbody>\n",
              "</table>\n",
              "</div>"
            ],
            "text/plain": [
              "                                                    title  \\\n",
              "0  Putin não espera \"grandes avanços\" em cúpula com Biden   \n",
              "\n",
              "                                                                                                                                                                                                                                                                                                                                                                                                                                                                                                                                                                                                                                                                                                                                                                                                                                                                                                                                                                                                                                                                                                                                                                                                                                                                                                                                                                                                                                                                                                                                                                                                                                                                                                                                                                                                                                                                                                                                                        text  \\\n",
              "0  Em entrevista para as principais agências de notícias internacionais, incluindo a Efe, Putin enfatizou que os dois países, apesar das discordâncias, têm interesses em comum e que ele está confiante que a cúpula com Biden será construtiva.\\nEntre as áreas de interesse comum, o chefe do Kremlin citou a solução de problemas ambientais, segurança estratégica e a dissolução de uma série de crises regionais.\\n\"Isso é muito importante, porque tem a ver com a segurança de nossos países\", afirmou Putin, além de destacar, por exemplo, que a crise no Oriente Médio \"leva ao crescimento do terrorismo\".\\n\"(Isso é) muito perigoso para todos, para os Estados Unidos, para a Rússia, para a Europa, para outras regiões do mundo\", acrescentou.\\nPutin enfatizou a importância da segurança estratégica e garantiu que a Rússia não quer \"assustar ninguém\" com seus novos armamentos.\\n\"Sim, estamos desenvolvendo esses armamentos e conseguimos certos resultados\", disse o mandatário, para quem a Rússia está um passo \"à frente\" de outros países.\\nEle também admitiu que os Estados Unidos e outras potências logo alcançarão resultados semelhantes, e portanto \"é melhor pensar em como vamos viver juntos\".\\n\\nO Conselho Tutelar de\\nIvaiporã foi acionado por volta das 12h30 de sexta-feira (4) para acompanhar\\nalgumas...\\nO sábado (5) começa com tempo estável nas regiões paranaenses. Ao amanhecer, Apucarana e Arapongas registraram...\\nO Senado vai analisar a Medida Provisória 1.034/2021, que aumenta a tributação de instituições financeiras O texto \\nEm meio à pandemia da Covid-19, especialistas apontam que a menor frequência nos parques públicos pode estar...\\nA Empresa de Limpeza Urbana de Salvador (Limpurb) fará uma série de ações até 11 de junho como parte da campanha...\\nOs ministros das Finanças do G7 esperam anunciar um acordo neste sábado (5) sobre um imposto mínimo global e uma...   \n",
              "\n",
              "                   date category  \\\n",
              "0  2021-06-05T03:00:00Z    mundo   \n",
              "\n",
              "                                                                                                                   link  \\\n",
              "0  https://noticias.uol.com.br/ultimas-noticias/efe/2021/06/05/putin-nao-espera-grandes-avancos-em-cupula-com-biden.htm   \n",
              "\n",
              "  fonte  \n",
              "0   UOL  "
            ]
          },
          "metadata": {
            "tags": []
          },
          "execution_count": 263
        }
      ]
    },
    {
      "cell_type": "code",
      "metadata": {
        "id": "WxvvbTjBivKl"
      },
      "source": [
        "categoriaNossa = dfNews.groupby(['category'])['link'].count().reset_index().sort_values(by = 'link', ascending=False)"
      ],
      "execution_count": null,
      "outputs": []
    },
    {
      "cell_type": "markdown",
      "metadata": {
        "id": "Ni1IVHngnuu5"
      },
      "source": [
        "### Integrando as duas bases de dados de noticias"
      ]
    },
    {
      "cell_type": "code",
      "metadata": {
        "colab": {
          "base_uri": "https://localhost:8080/"
        },
        "id": "DB_DKkiOst49",
        "outputId": "dff0900b-a535-4ccc-95e0-e481b51241f2"
      },
      "source": [
        "dfFSP['fonte']='FolhaSP'\n",
        "dfnoticias = pd.concat([dfFSP,dfNews],sort=False)\n",
        "dfnoticias.shape"
      ],
      "execution_count": null,
      "outputs": [
        {
          "output_type": "execute_result",
          "data": {
            "text/plain": [
              "(178229, 7)"
            ]
          },
          "metadata": {
            "tags": []
          },
          "execution_count": 265
        }
      ]
    },
    {
      "cell_type": "code",
      "metadata": {
        "colab": {
          "base_uri": "https://localhost:8080/"
        },
        "id": "F4UY4Qi4uzSM",
        "outputId": "60279643-171e-4247-a656-1f40e065d328"
      },
      "source": [
        "dfnoticias['fonte'].value_counts()"
      ],
      "execution_count": null,
      "outputs": [
        {
          "output_type": "execute_result",
          "data": {
            "text/plain": [
              "FolhaSP           167053\n",
              "UOL                 4034\n",
              "google-news-br      2089\n",
              "Poder360            1448\n",
              "Notícias da TV      1262\n",
              "Name: fonte, dtype: int64"
            ]
          },
          "metadata": {
            "tags": []
          },
          "execution_count": 266
        }
      ]
    },
    {
      "cell_type": "code",
      "metadata": {
        "id": "kosIxvRXnq6o"
      },
      "source": [
        "deParaCategorias = pd.merge(categoriaFSP[['category','link']], categoriaNossa, on=['category'], how='outer')"
      ],
      "execution_count": null,
      "outputs": []
    },
    {
      "cell_type": "markdown",
      "metadata": {
        "id": "cTLODU2psI8H"
      },
      "source": [
        "**Categorias com mesmo nome nos dois conjunto de dados**"
      ]
    },
    {
      "cell_type": "code",
      "metadata": {
        "colab": {
          "base_uri": "https://localhost:8080/",
          "height": 200
        },
        "id": "2s3P9H1doxO4",
        "outputId": "c3e85d37-405b-4d00-e10e-8bf5a5b76e95"
      },
      "source": [
        "deParaCategorias[(~deParaCategorias['link_x'].isnull()) & (~deParaCategorias['link_y'].isnull()) ]"
      ],
      "execution_count": null,
      "outputs": [
        {
          "output_type": "execute_result",
          "data": {
            "text/html": [
              "<div>\n",
              "<style scoped>\n",
              "    .dataframe tbody tr th:only-of-type {\n",
              "        vertical-align: middle;\n",
              "    }\n",
              "\n",
              "    .dataframe tbody tr th {\n",
              "        vertical-align: top;\n",
              "    }\n",
              "\n",
              "    .dataframe thead th {\n",
              "        text-align: right;\n",
              "    }\n",
              "</style>\n",
              "<table border=\"1\" class=\"dataframe\">\n",
              "  <thead>\n",
              "    <tr style=\"text-align: right;\">\n",
              "      <th></th>\n",
              "      <th>category</th>\n",
              "      <th>link_x</th>\n",
              "      <th>link_y</th>\n",
              "    </tr>\n",
              "  </thead>\n",
              "  <tbody>\n",
              "    <tr>\n",
              "      <th>1</th>\n",
              "      <td>colunas</td>\n",
              "      <td>21622.0</td>\n",
              "      <td>263.0</td>\n",
              "    </tr>\n",
              "    <tr>\n",
              "      <th>3</th>\n",
              "      <td>esporte</td>\n",
              "      <td>19730.0</td>\n",
              "      <td>590.0</td>\n",
              "    </tr>\n",
              "    <tr>\n",
              "      <th>4</th>\n",
              "      <td>mundo</td>\n",
              "      <td>17130.0</td>\n",
              "      <td>1251.0</td>\n",
              "    </tr>\n",
              "    <tr>\n",
              "      <th>5</th>\n",
              "      <td>cotidiano</td>\n",
              "      <td>16967.0</td>\n",
              "      <td>77.0</td>\n",
              "    </tr>\n",
              "    <tr>\n",
              "      <th>12</th>\n",
              "      <td>educacao</td>\n",
              "      <td>2118.0</td>\n",
              "      <td>27.0</td>\n",
              "    </tr>\n",
              "  </tbody>\n",
              "</table>\n",
              "</div>"
            ],
            "text/plain": [
              "     category   link_x  link_y\n",
              "1     colunas  21622.0   263.0\n",
              "3     esporte  19730.0   590.0\n",
              "4       mundo  17130.0  1251.0\n",
              "5   cotidiano  16967.0    77.0\n",
              "12   educacao   2118.0    27.0"
            ]
          },
          "metadata": {
            "tags": []
          },
          "execution_count": 268
        }
      ]
    },
    {
      "cell_type": "markdown",
      "metadata": {
        "id": "vTBdwIcDsYxr"
      },
      "source": [
        "**Categorias que estão no nosso dataset e não estão no dataset da FSP**"
      ]
    },
    {
      "cell_type": "code",
      "metadata": {
        "colab": {
          "base_uri": "https://localhost:8080/",
          "height": 100
        },
        "id": "IdHC0OQXskeL",
        "outputId": "dab59c7f-0886-446f-ab7d-ae9208edc6fd"
      },
      "source": [
        "str(deParaCategorias[(deParaCategorias['link_x'].isnull()) ]['category'].tolist())"
      ],
      "execution_count": null,
      "outputs": [
        {
          "output_type": "execute_result",
          "data": {
            "application/vnd.google.colaboratory.intrinsic+json": {
              "type": "string"
            },
            "text/plain": [
              "\"['midia', 'local', 'politica', 'novelas', 'miscelanea', 'saude', 'economia', 'brasil', 'coronavirus', 'justica', 'celebridades', 'tecnologia', 'fantastico', 'meio-ambiente', 'podcast', 'eleicoes', 'loterias', 'casos-de-policia', 'olimpiadas', 'pesquisas', 'confere', 'enem', 'carros', 'agronegocios', 'pme', 'mais', 'tilt, reuters', 'portuguese', 'legislacao', 'atitude', 'internet', 'coluna', 'especiais', 'start', 'sociedade, educacao', 'realities', 'programas, 3-em-1', 'comprova', 'pix', 'combate', 'transito', 'nieman', 'motor', 'inovacao', 'historia', 'nossa', 'carros, colunas', 'boxe', 'tilt, estado', 'brics', 'mais, levante', 'sociedade, epoca', 'saude, estado', 'eurocopa', 'rio, rio', 'golfe', 'programas', 'carros, colunas, infomoto', 'justica, 3-dos-ex-pms-levados-por-salles-para-ministerio-foram-afastados-pelo-stf', 'exercito', 'diplomacia', 'redacao']\""
            ]
          },
          "metadata": {
            "tags": []
          },
          "execution_count": 269
        }
      ]
    },
    {
      "cell_type": "code",
      "metadata": {
        "colab": {
          "base_uri": "https://localhost:8080/",
          "height": 83
        },
        "id": "CAprcExsudGq",
        "outputId": "c9c206dc-c539-424c-fc99-bd9d00caac61"
      },
      "source": [
        "str(categoriaFSP['category'].tolist())"
      ],
      "execution_count": null,
      "outputs": [
        {
          "output_type": "execute_result",
          "data": {
            "application/vnd.google.colaboratory.intrinsic+json": {
              "type": "string"
            },
            "text/plain": [
              "\"['poder', 'colunas', 'mercado', 'esporte', 'mundo', 'cotidiano', 'ilustrada', 'opiniao', 'paineldoleitor', 'saopaulo', 'tec', 'tv', 'educacao', 'turismo', 'ilustrissima', 'ciencia', 'equilibrioesaude', 'sobretudo', 'bbc', 'folhinha', 'empreendedorsocial', 'comida', 'asmais', 'ambiente', 'seminariosfolha', 'serafina', 'o-melhor-de-sao-paulo', 'vice', 'guia-de-livros-discos-filmes', 'topofmind', 'banco-de-dados', 'dw', 'especial', 'infograficos', 'cenarios-2017', 'rfi', 'guia-de-livros-filmes-discos', 'multimidia', 'treinamento', 'treinamentocienciaesaude', 'mulher', 'euronews', 'ombudsman', 'contas-de-casa', '2016', 'bichos', 'musica', '2015']\""
            ]
          },
          "metadata": {
            "tags": []
          },
          "execution_count": 270
        }
      ]
    },
    {
      "cell_type": "markdown",
      "metadata": {
        "id": "O0Z2A5HGvDqU"
      },
      "source": [
        "DE/PARA de categorias.\n",
        "\n",
        "nossa             FSP<br>\n",
        "midia      <--    tv, multimidia, novelas, celebridades   <br>\n",
        "local      <--    'saopaulo', 'o-melhor-de-sao-paulo' <br>\n",
        "politica      <--    poder <br>\n",
        "miscelanea -->     <br>\n",
        "saude      <--   equilibrioesaude <br>\n",
        "economia   <--   mercado <br>\n",
        "brasil                   <br>\n",
        "olimpiadas -->  esporte <br>\n",
        "tecnologia  <-- tec,'banco-de-dados', 'dw'  <br>\n",
        "meio-ambiente <-- ambiente <br>\n",
        "enem --> educacao\n",
        "\n",
        "\n",
        "\n",
        "\n",
        "\n",
        "\n"
      ]
    },
    {
      "cell_type": "code",
      "metadata": {
        "id": "oPwyitA387tp"
      },
      "source": [
        "dfnoticias['category'] = dfnoticias.loc[:,['category']].apply(lambda x: 'midia' if x['category'] in ['tv', 'multimidia', 'novelas', 'celebridades'] else \n",
        "                                                                        'local' if x['category'] in [ 'saopaulo', 'o-melhor-de-sao-paulo'] else \n",
        "                                                                        'politica' if x['category'] in ['poder'] else\n",
        "                                                                        'saude' if x['category'] in ['equilibrioesaude'] else \n",
        "                                                                        'economia' if x['category'] in ['mercado'] else\n",
        "                                                                        'esporte' if x['category'] in ['olimpiadas'] else\n",
        "                                                                        'tecnologia' if x['category'] in [ 'tec','banco-de-dados', 'dw'] else\n",
        "                                                                        'meio-ambiente' if x['category'] in [ 'ambiente'] else \n",
        "                                                                        'educacao' if x['category'] in ['enem'] else\n",
        "                                                                        x['category'], axis=1)\n"
      ],
      "execution_count": null,
      "outputs": []
    },
    {
      "cell_type": "markdown",
      "metadata": {
        "id": "vGVPiswwAfGg"
      },
      "source": [
        "**Quantitativo de noticias por categoria**"
      ]
    },
    {
      "cell_type": "code",
      "metadata": {
        "colab": {
          "base_uri": "https://localhost:8080/"
        },
        "id": "MRiD9tmGACgL",
        "outputId": "0d9fb24d-7848-4f22-c00b-29afbe9526d7"
      },
      "source": [
        "dfnoticias['category'].value_counts()"
      ],
      "execution_count": null,
      "outputs": [
        {
          "output_type": "execute_result",
          "data": {
            "text/plain": [
              "politica                                                                             23499\n",
              "colunas                                                                              21885\n",
              "economia                                                                             21476\n",
              "esporte                                                                              20331\n",
              "mundo                                                                                18381\n",
              "cotidiano                                                                            17044\n",
              "ilustrada                                                                            16345\n",
              "local                                                                                 5628\n",
              "midia                                                                                 4817\n",
              "opiniao                                                                               4525\n",
              "paineldoleitor                                                                        4011\n",
              "tecnologia                                                                            2458\n",
              "educacao                                                                              2150\n",
              "saude                                                                                 1910\n",
              "turismo                                                                               1903\n",
              "ilustrissima                                                                          1411\n",
              "ciencia                                                                               1335\n",
              "sobretudo                                                                             1057\n",
              "bbc                                                                                    980\n",
              "folhinha                                                                               876\n",
              "empreendedorsocial                                                                     841\n",
              "comida                                                                                 828\n",
              "miscelanea                                                                             768\n",
              "meio-ambiente                                                                          563\n",
              "asmais                                                                                 548\n",
              "brasil                                                                                 444\n",
              "seminariosfolha                                                                        379\n",
              "coronavirus                                                                            348\n",
              "serafina                                                                               334\n",
              "justica                                                                                205\n",
              "vice                                                                                   146\n",
              "guia-de-livros-discos-filmes                                                           143\n",
              "topofmind                                                                               86\n",
              "fantastico                                                                              79\n",
              "podcast                                                                                 51\n",
              "eleicoes                                                                                47\n",
              "especial                                                                                43\n",
              "infograficos                                                                            43\n",
              "cenarios-2017                                                                           43\n",
              "rfi                                                                                     29\n",
              "loterias                                                                                29\n",
              "guia-de-livros-filmes-discos                                                            28\n",
              "treinamento                                                                             21\n",
              "treinamentocienciaesaude                                                                18\n",
              "mulher                                                                                  16\n",
              "casos-de-policia                                                                        14\n",
              "pesquisas                                                                                8\n",
              "euronews                                                                                 8\n",
              "confere                                                                                  7\n",
              "carros                                                                                   5\n",
              "agronegocios                                                                             5\n",
              "tilt, reuters                                                                            4\n",
              "pme                                                                                      4\n",
              "mais                                                                                     4\n",
              "atitude                                                                                  3\n",
              "internet                                                                                 3\n",
              "coluna                                                                                   3\n",
              "portuguese                                                                               3\n",
              "ombudsman                                                                                3\n",
              "legislacao                                                                               3\n",
              "nieman                                                                                   2\n",
              "combate                                                                                  2\n",
              "motor                                                                                    2\n",
              "start                                                                                    2\n",
              "sociedade, educacao                                                                      2\n",
              "comprova                                                                                 2\n",
              "realities                                                                                2\n",
              "contas-de-casa                                                                           2\n",
              "especiais                                                                                2\n",
              "historia                                                                                 2\n",
              "pix                                                                                      2\n",
              "inovacao                                                                                 2\n",
              "nossa                                                                                    2\n",
              "programas, 3-em-1                                                                        2\n",
              "transito                                                                                 2\n",
              "eurocopa                                                                                 1\n",
              "2016                                                                                     1\n",
              "sociedade, epoca                                                                         1\n",
              "diplomacia                                                                               1\n",
              "mais, levante                                                                            1\n",
              "boxe                                                                                     1\n",
              "brics                                                                                    1\n",
              "carros, colunas, infomoto                                                                1\n",
              "bichos                                                                                   1\n",
              "musica                                                                                   1\n",
              "redacao                                                                                  1\n",
              "saude, estado                                                                            1\n",
              "carros, colunas                                                                          1\n",
              "tilt, estado                                                                             1\n",
              "programas                                                                                1\n",
              "golfe                                                                                    1\n",
              "justica, 3-dos-ex-pms-levados-por-salles-para-ministerio-foram-afastados-pelo-stf        1\n",
              "exercito                                                                                 1\n",
              "rio, rio                                                                                 1\n",
              "2015                                                                                     1\n",
              "Name: category, dtype: int64"
            ]
          },
          "metadata": {
            "tags": []
          },
          "execution_count": 272
        }
      ]
    },
    {
      "cell_type": "code",
      "metadata": {
        "id": "aTXLKF_NhUf2"
      },
      "source": [
        ""
      ],
      "execution_count": null,
      "outputs": []
    },
    {
      "cell_type": "markdown",
      "metadata": {
        "id": "nTeEu3ehhW3d"
      },
      "source": [
        "Limpeza em Textos extraídos pela nossa rotina de Web Scrapping\n",
        "Foram retirados primeiros paragráfos duplicados - ocorrência referente à fonte google-news-br -, textos de chamadas a outras noticias e chamadas a vídeos de outras reportagens no Youtube - ocorrências referentes à fonte UOL.   "
      ]
    },
    {
      "cell_type": "code",
      "metadata": {
        "id": "aVLwbPCeanzO"
      },
      "source": [
        "class preprocessamento():\n",
        "  def limpaReferenciaOutrasNoticiasApos2enters(self,dfnews,fonte):\n",
        "    '''extrai links de outras noticias no texto da noticial principal do uol. Considera quando inicia com dois enters'''\n",
        "    for index, row in dfnews[dfnews['fonte']==fonte][['fonte','category','text','link']].iterrows():\n",
        "      if '...' in str(row['text']):\n",
        "        for match in re.finditer(r'(?s)((?:[^\\n][\\n]?)+)', row['text']):\n",
        "          if not ('...' in str(row['text'])[match.start(): match.end()]):\n",
        "            dfnews.loc[dfnews['link']==row['link'],['text']]=row['text'][match.start(): match.end()]\n",
        "    return dfnews\n",
        "  def limpaReferenciaOutrasNoticiasApos1enter(self,dfnews,fonte):\n",
        "    '''extraindo links de outras noticias no texto da noticial principal do uol. obtem paragrafo por paragrafo e verifica se nele tem ...'''\n",
        "    for index, row in dfnews[dfnews['fonte']==fonte].iterrows():\n",
        "      if '...' in str(row['text']):\n",
        "        texto=''\n",
        "        for match in re.finditer(r'((?:[^\\n][\\.]?)+)', row['text']):\n",
        "          if not ('...' in str(row['text'])[match.start(): match.end()]):\n",
        "            texto+=str(row['text'])[match.start(): match.end()] + '\\n'\n",
        "          else:  \n",
        "            break\n",
        "        dfnews.loc[dfnews['link']==row['link'],['text']]=texto\n",
        "    return dfnews\n",
        "\n",
        "  def limpaReferenciaVideosYoutubeSemContexto(self,dfnews,fonte):\n",
        "    '''retira do final do texto referências a Youtube '''\n",
        "    for index, row in dfnews[(dfnews['fonte']=='UOL')&(dfnews['text'].str.contains('Já assistiu aos nossos novos vídeos no YouTube'))].iterrows():\n",
        "      for match in re.finditer(r'(Leia outras reportagens da série aqui)|(Já assistiu aos nossos novos vídeos no YouTube)', row['text']):\n",
        "        dfnews.loc[dfnews['link']==row['link'],['text']]=str(row['text'])[0: match.start()]\n",
        "        break\n",
        "    return dfnews\n",
        "  def limpaParagrafosDuplicados(self,dfnews,fonte):\n",
        "    '''excluindo primeiro paragráfo duplicado '''\n",
        "    for index, row in dfnews[dfnews['fonte']==fonte].iterrows():\n",
        "      texto=''\n",
        "      texto_anterior=''\n",
        "      for match in re.finditer(r'((?:[^\\n][\\.]?)+)', row['text']):\n",
        "        if (row['text'][match.start():match.end()])!=(texto_anterior):\n",
        "          texto+=row['text'][match.start():match.end()]+'\\n'\n",
        "          texto_anterior=row['text'][match.start():match.end()]\n",
        "      dfnews.loc[dfnews['link']==row['link'],['text']]=texto\n",
        "      return dfnews\n",
        "  def numerandoCategorias(self,dfnews):\n",
        "    dfNewsGrupo = dfnews.groupby(['category'])['link'].count().reset_index().sort_values('link',ascending=False)\n",
        "    dictCategoriaNumero = dict(zip(dfNewsGrupo['category'],range(0,dfNewsGrupo.shape[0])))\n",
        "    dfnews['category_nro'] = dfnews['category'].map(dictCategoriaNumero)\n",
        "    return dfnews\n",
        "\n",
        "\n",
        "\n",
        "\n",
        "\n",
        "\n"
      ],
      "execution_count": null,
      "outputs": []
    },
    {
      "cell_type": "code",
      "metadata": {
        "id": "DstKxEA6SjHP"
      },
      "source": [
        "pp=preprocessamento()\n",
        "dfnews_tratadas = dfnoticias.copy()\n",
        "dfnews_tratadas=pp.limpaReferenciaOutrasNoticiasApos2enters(dfnews_tratadas,'UOL')\n",
        "dfnews_tratadas=pp.limpaReferenciaOutrasNoticiasApos1enter(dfnews_tratadas,'UOL')  \n",
        "dfnews_tratadas=pp.limpaReferenciaVideosYoutubeSemContexto(dfnews_tratadas,'UOL')\n",
        "dfnews_tratadas=pp.limpaParagrafosDuplicados(dfnews_tratadas,'google-news-br')\n",
        "dfnews_tratadas=pp.numerandoCategorias(dfnews_tratadas)"
      ],
      "execution_count": null,
      "outputs": []
    },
    {
      "cell_type": "code",
      "metadata": {
        "colab": {
          "base_uri": "https://localhost:8080/"
        },
        "id": "PvVMsp8VhKnI",
        "outputId": "577c7ff1-617f-48d9-e8db-4f2fd8774baf"
      },
      "source": [
        "dfnews_tratadas.to_csv(\"news_integradas.csv\",header=True,doublequote=True, index=False, quotechar='\"', encoding='utf-8')\n",
        "!ls"
      ],
      "execution_count": null,
      "outputs": [
        {
          "output_type": "stream",
          "text": [
            "articles.csv  news.csv\tnews_integradas.csv  noticia_tratada.csv\n"
          ],
          "name": "stdout"
        }
      ]
    },
    {
      "cell_type": "code",
      "metadata": {
        "id": "OaVqM2C0yhYo",
        "colab": {
          "base_uri": "https://localhost:8080/",
          "height": 1000
        },
        "outputId": "9b0a3f06-f312-42f7-b037-f1bb5d0aa06f"
      },
      "source": [
        "dfnews_tratadas.head(10)"
      ],
      "execution_count": null,
      "outputs": [
        {
          "output_type": "execute_result",
          "data": {
            "text/html": [
              "<div>\n",
              "<style scoped>\n",
              "    .dataframe tbody tr th:only-of-type {\n",
              "        vertical-align: middle;\n",
              "    }\n",
              "\n",
              "    .dataframe tbody tr th {\n",
              "        vertical-align: top;\n",
              "    }\n",
              "\n",
              "    .dataframe thead th {\n",
              "        text-align: right;\n",
              "    }\n",
              "</style>\n",
              "<table border=\"1\" class=\"dataframe\">\n",
              "  <thead>\n",
              "    <tr style=\"text-align: right;\">\n",
              "      <th></th>\n",
              "      <th>title</th>\n",
              "      <th>text</th>\n",
              "      <th>date</th>\n",
              "      <th>category</th>\n",
              "      <th>subcategory</th>\n",
              "      <th>link</th>\n",
              "      <th>fonte</th>\n",
              "      <th>category_nro</th>\n",
              "    </tr>\n",
              "  </thead>\n",
              "  <tbody>\n",
              "    <tr>\n",
              "      <th>0</th>\n",
              "      <td>Lula diz que está 'lascado', mas que ainda tem força como cabo eleitoral</td>\n",
              "      <td>Com a possibilidade de uma condenação impedir sua candidatura em 2018, o ex-presidente Luiz Inácio Lula da Silva fez, nesta segunda (9), um discurso inflamado contra a Lava Jato, no qual disse saber que está \"lascado\", exigiu um pedido de desculpas do juiz Sergio Moro e afirmou que, mesmo fora da disputa pelo Planalto, será um cabo eleitoral expressivo para a sucessão de Michel Temer.  Segundo o petista, réu em sete ações penais, o objetivo de Moro é impedir sua candidatura no ano que vem, desidratando-o, inclusive, no apoio a um nome alternativo, como o do ex-prefeito de São Paulo Fernando Haddad (PT), caso ele não possa concorrer à Presidência.  \"Eu sei que tô lascado, todo dia tem um processo. Eu não quero nem que Moro me absolva, eu só quero que ele peça desculpas\", disse Lula durante um seminário sobre educação em Brasília. \"Eles [investigadores] chegam a dizer: 'Ah, se o Lula não for candidato, ele não vai ter força como cabo eleitoral'. Testem\", completou o petista.  Para o ex-presidente, Moro usou \"mentiras contadas pela Polícia Federal e pelo Ministério Público\" para julgá-lo e condená-lo a nove anos e seis meses de prisão pelo caso do tríplex em Guarujá (SP).  O ex-presidente disse ainda não ter \"medo\" dos investigadores que, de acordo com ele, estão acostumados a \"mexer com deputados e senadores\" que temem as apurações.  \"Eu quero que eles saibam o seguinte: se eles estão acostumados a lidar com deputado que tem medo deles, a mexer com senadores que têm medo deles, quero dizer que tenho respeito profundo por quem me respeita, pelas leis que nós ajudamos a criar, mas não tenho respeito por quem não me respeita e eles não me respeitaram\", afirmou o petista.    De acordo com aliados, Lula não gosta de discutir, mesmo que nos bastidores, a chance de não ser candidato ao Planalto e a projeção do nome de Haddad como plano B do PT tem incomodado os mais próximos ao ex-presidente. O ex-prefeito, que estava no evento nesta segunda, fez um discurso rápido, de menos de dez minutos, em que encerrou dizendo esperar que Lula assuma a Presidência em 2019.  \"Espero que dia 1º de janeiro de 2019 esse pesadelo chamado Temer acabe e o senhor assuma a Presidência da República\", disse Haddad.  'DEMÔNIO DO MERCADO'  Lula voltou a fazer um discurso mais agressivo em relação ao mercado e disse que \"não tem cara de demônio\", mas quer que o respeitem \"como se fosse\".  \"Não tenho cara de demônio, mas quero que eles me respeitem como se eu fosse, porque eles sabem que a economia não vai ficar subordinada ao elitismo da sociedade brasileira\", disse o ex-presidente.  O petista rivalizou ainda com o deputado Jair Bolsonaro (PSC-RJ), segundo colocado nas últimas pesquisas empatado com Marina Silva, e disse que se ele \"agrada ao mercado\", o PT tem que \"desagradar\".  A Folha publicou nesta segunda (9) reportagem em que mostrou que o deputado ensaia movimento ao centro no debate econômico, adotando um discurso simpático aos investidores do mercado financeiro.</td>\n",
              "      <td>2017-09-10</td>\n",
              "      <td>politica</td>\n",
              "      <td>NaN</td>\n",
              "      <td>http://www1.folha.uol.com.br/poder/2017/10/1925743-lula-diz-que-esta-lascado-mas-que-ainda-tem-forca-como-cabo-eleitoral.shtml</td>\n",
              "      <td>FolhaSP</td>\n",
              "      <td>0</td>\n",
              "    </tr>\n",
              "    <tr>\n",
              "      <th>1</th>\n",
              "      <td>'Decidi ser escrava das mulheres que sofrem', diz cantora Oumou Sangaré</td>\n",
              "      <td>Para Oumou Sangaré, cantora e ativista malinesa, o sofrimento da mulher é universal. \"Canto com todas as minhas forças e vejo mulheres chorando ao meu redor\", disse durante um encontro na Casa da Cultura de Paraty, no Rio de Janeiro, neste domingo (8).  Herdeira da tradição musical de sua família –sua avó foi uma \"grande estrela\" do país africano–, ela conta que começou a cantar na rua para ajudar nas finanças de casa após o divórcio dos pais, que deixou seis filhos dependentes de sua mãe, também cantora.  \"Eu vi uma mulher que sofria para se defender sozinha e alimentar os filhos e às vezes isso era muito duro, tinha dias em que ela se retirava no quarto para chorar\", recorda.  Ela conta que o desejo de fazer a mãe feliz a incentivou, inclusive, a abandonar os estudos para se dedicar à música. Ainda que seu canto fosse as dores da matriarca, Sangaré conta ter percebido que as mulheres que a ouviam também se viam decifradas nele.  \"Quando uma mulher dá à luz, ela está entre a vida e a morte, mas ela o faz para que o mundo engrandeça, por que esse mesmo mundo não pode encarar os problemas dela?\", questiona. \"É por isso que decidi ser escrava de todas as mulheres que sofrem.\"  Sangaré, que se diz uma \"muçulmana relax\", tornou-se uma notória ativista na luta pela igualdade de gêneros, batalhando contra a circuncisão feminina e o casamento e a poligamia compulsórios –sem contar seu trabalho com a ONU pela erradicação da fome em países africanos.  Com o discurso de empoderamento pelo trabalho –\"desenvolvam-se e sejam úteis para sua família e seu país\", ela repete com frequência–, resolveu dar o exemplo, criando uma rede hoteleira e uma concessionária de carros e plantando milho, cebola e laranja.  Os aspectos que moldaram a história de Sangaré estão impressos nos títulos de seus álbuns. Além do que leva o seu nome, \"Moussolou\", o de estreia, significa \"mulher\"; \"Ko Sira\", \"o casamento de hoje\"; \"Worotan\", \"preço por uma noiva\"; \"Seya\", \"alegria\"; \"Kounadia\", \"a boa estrela\".  TRADIÇÃO SONORA  Foi o mais recente, \"Mogoya\" (as pessoas da atualidade), que a cantora apresentou em Paraty, neste sábado (7), como parte da programação do Mimo Festival –o evento, gratuito, reuniu cerca de 25 mil pessoas com suas atrações gratuitas durante o fim de semana.  Com letras em bambara, um dos diversos idiomas de Mali, Sangaré se consagrou como ícone do wassoulou, estilo musical derivado do folclore de uma região homônima da África Ocidental.  No repertório que trouxe para cá, ela mistura o ritmo com batidas eletrônicas e conta que a atualização tinha como intuito atingir novas gerações e público do mercado global.  A cantora mostrou a potência de sua voz, amparada por uma banda parte africana e parte europeia que incluía um kamale ngoni –instrumento típico do wassoulou semelhante a um berimbau e moldado com uma cabaça– e uma dupla de backing vocals hipnotizantes.</td>\n",
              "      <td>2017-09-10</td>\n",
              "      <td>ilustrada</td>\n",
              "      <td>NaN</td>\n",
              "      <td>http://www1.folha.uol.com.br/ilustrada/2017/10/1925745-decidi-ser-escrava-das-mulheres-que-sofrem-diz-cantora-oumou-sangare.shtml</td>\n",
              "      <td>FolhaSP</td>\n",
              "      <td>6</td>\n",
              "    </tr>\n",
              "    <tr>\n",
              "      <th>2</th>\n",
              "      <td>Três reportagens da Folha ganham Prêmio Petrobras de Jornalismo</td>\n",
              "      <td>Três reportagens da Folha foram vencedoras do Prêmio Petrobras de Jornalismo, anunciado na noite desta segunda-feira (9).  O jornal ganhou a premiação nas categorias Economia, com a criação do REM-F (Ranking de Eficiência dos Municípios-Folha), Regional SP-Sul, com uma série de reportagens sobre dados sigilosos do governo Geraldo Alckmin (PSDB), e Ciência e Tecnologia, com o especial \"Tudo sobre o mosquito\".  A vencedora do Grande Prêmio foi a reportagem \"Terra bruta - Pistolagem, devastação e morte no coração do Brasil\", do jornal \"O Estado de S. Paulo\".  Criado em 2013, o Prêmio Petrobras de Jornalismo está em sua quarta edição. Ele teve neste ano 11 categorias nacionais e regionais, além de dois prêmios especiais. Nenhuma das categorias é voltada especificamente às reportagens sobre política.  DOCUMENTOS SECRETOS DE ALCKMIN  Vencedora na categoria Regional SP-Sul, a série de investigações publicadas pela Folha em outubro de 2015 revelou que a gestão Alckmin havia tornado sigilosas centenas de informações do transporte público metropolitano. O trabalho é de autoria dos repórteres Artur Rodrigues, André Monteiro e Fabricio Lobel.  A classificação das informações impossibilitava a consulta pública de 157 documentos num prazo de 25 anos. A população não poderia ter acesso a relatórios que explicassem, por exemplo, os motivos exatos de atrasos em obras de linhas e estações. À época, como atualmente, todas as linhas em expansão do Metrô de São Paulo e da CPTM estavam atrasadas.  A reportagem motivou a abertura de uma investigação pelo Ministério Público e o pedido de explicações pelo Tribunal de Contas do Estado. Dois dias após a publicação do material pelo jornal, o governo paulista revogou os decretos de sigilo e se comprometeu a revisar todos os termos semelhantes impostos até então.  Após a decisão, as reportagens identificaram outras áreas da gestão Alckmin em que também havia sido imposto o sigilo de informação. Entre elas estavam dados sobre procedimentos e projetos técnicos e operacionais do abastecimento de água de São Paulo, além de dados da Polícia Militar e da Administração Penitenciária.  RANKING DE EFICIÊNCIA DOS MUNICÍPIOS  O Ranking de Eficiência dos Municípios-Folha (REM-F), projeto publicado em agosto de 2016, antes das eleições municipais, trouxe uma ferramenta virtual, criada em conjunto com o Datafolha, que mostra quais prefeituras entregam mais serviços básicos à população usando menor volume de recursos financeiros.  O ranking, com participação de Alessandro Janoni, Fernando Canzian, Marcelo Soares, Mario Kanno e Renata Nunes, leva em conta indicadores de saúde, educação e saneamento para calcular a eficiência da gestão em relação à sua receita disponível. Foram avaliados 5.281 municípios, ou 95% do total de 5.569 existentes no Brasil.  Além do índice, o projeto também incluiu visitas a 16 cidades brasileiras, de diferentes regiões e níveis de eficiência apurados pelo ranking.  O MOSQUITO  Coordenado pelos jornalistas Marcelo Leite e Mariana Versolato, o pacote de reportagens sobre o mosquito Aedes aegypti foi publicado em dezembro de 2016, em meio à crise do vírus da zika. Com participação de uma equipe de 21 profissionais, tem também entre seus autores os jornalistas Cláudia Collucci, Lalo de Almeida, Patricia Campos Mello, Reinaldo José Lopes e Gabriel Alves.  O material contém textos sobre diferentes aspectos da questão que comoveu o Brasil e o mundo, chegando a ser declarada como uma emergência internacional pela Organização Mundial da Saúde.  O primeiro capítulo \"O vírus da zika\" é o resultado de uma viagem ao berço da doença, o continente africano, com visitas ao Senegal e a Uganda, onde fica a floresta Zika, que deu nome ao vírus.  Em seguida, o material traz relatos sobre mães e seus filhos e filhas, que nasceram com microcefalia. A reportagem explicita os percalços de quem não tinha muita informação do que fazer naquele momento tão crítico.  O especial ainda discute o impacto da doença nos EUA e as novidades no combate ao mosquito Aedes aegypti e à doença propriamente dita.</td>\n",
              "      <td>2017-09-10</td>\n",
              "      <td>politica</td>\n",
              "      <td>NaN</td>\n",
              "      <td>http://www1.folha.uol.com.br/poder/2017/10/1925789-tres-reportagens-da-folha-ganham-premio-petrobras-de-jornalismo.shtml</td>\n",
              "      <td>FolhaSP</td>\n",
              "      <td>0</td>\n",
              "    </tr>\n",
              "    <tr>\n",
              "      <th>3</th>\n",
              "      <td>Filme 'Star Wars: Os Últimos Jedi' ganha trailer definitivo; assista</td>\n",
              "      <td>A Disney divulgou na noite desta segunda-feira (9) o novo trailer de \"Star Wars: Os Últimos Jedi\", oitavo episódio da saga.  O trailer era aguardado pelos fãs e se tornou um dos tópicos mais comentados no Twitter no horário de seu lançamento.  Assista ao trailer de 'Os Últimos Jedi'  Assista ao trailer de 'Os Últimos Jedi'  Em \"O Despertar da Força\" (2015), episódio mais recente, a personagem Rey (Daisy Ridley) descobre que tem a Força e procura por Luke Skywalker (Mark Hamill) para começar seu treinamento Jedi.  A história do novo episódio continua desse ponto, e cenas do trailer mostram a relação entre Rey e Skywalker.  Com direção de Rian Johnson, o filme será lançado em 14 de dezembro no Brasil. O nono episódio, ainda sem título, encerra a nova trilogia em 20 de dezembro de 2019.  O estúdio também divulgou novo poster do filme.  Poster</td>\n",
              "      <td>2017-09-10</td>\n",
              "      <td>ilustrada</td>\n",
              "      <td>NaN</td>\n",
              "      <td>http://www1.folha.uol.com.br/ilustrada/2017/10/1925733-filme-star-wars-os-ultimos-jedi-ganha-trailer-definitivo-assista.shtml</td>\n",
              "      <td>FolhaSP</td>\n",
              "      <td>6</td>\n",
              "    </tr>\n",
              "    <tr>\n",
              "      <th>4</th>\n",
              "      <td>CBSS inicia acordos com fintechs e quer 30% do crédito digital em 2018</td>\n",
              "      <td>O CBSS, banco da holding Elopar dos sócios Bradesco e Banco do Brasil, está fazendo parcerias com fintechs, prevendo em 2018 alcançar 30% de um mercado de rápido crescimento e que já empresta mais de R$ 1 bilhão por ano.  Inicialmente, os acordos usarão o modelo mais praticado no mercado, com fintechs captando pedidos de empréstimos e filtrando o perfil de risco dos tomadores, operação conhecida no jargão do mercado como \"lead\" e pela qual as fintechs são remuneradas, quase sempre por bancos de médio porte e cooperativas de crédito, que de fato concedem os financiamentos.  \"Nós temos funding competitivo e em boa quantidade e as fintechs conseguem originar crédito com um custo muito menor do que faríamos por meios físicos\", disse à Reuters o presidente do Banco CBSS, Carlos Giovane.  A primeira parceria é com a Bom Pra Crédito, marketplace no qual cerca de 500 mil interessados em tomar empréstimo pessoal submetem todo mês pedidos que são distribuídos para cerca de 25 bancos oferecerem propostas.  Além desse acordo, já em andamento, negociações estão em curso com outras quatro fintechs especializadas em crédito: Guia Bolso, Lendico, Finanzero e Wecash, previstas para estarem operacionais ainda em 2017.  O movimento marca a primeira aproximação operacional, mesmo que de forma indireta, de grandes bancos com fintechs, que nos últimos dois anos emergiram como potenciais rivais no crédito pessoal, ao oferecerem taxas de juros muito menores do que as praticadas no sistema financeiro.  Segundo o presidente da Bom Pra Crédito, Ricardo Kalichsztein, ser parceiro é melhor.  O CBSS, no caso, oferecerá empréstimos pessoais sem garantia com taxas a partir de 3,9% ao mês. A taxa média do sistema financeiro foi de 7,2% ao mês, segundo dados do Banco Central referentes a agosto.  A iniciativa acontece em meio a uma audiência pública aberta pelo Banco Central para regulamentar a atuação das plataformas digitais de crédito. A proposta do BC é classificar essas fintechs em duas categorias, a que empresta com capital dos próprios acionistas e a que conecta investidores a tomadores de recursos, prática conhecida como peer to peer lending.  Na avaliação de especialistas do setor, dependendo da forma como vier a regulação, o modelo atual de parcerias pode ser esvaziado, uma vez que bancos podem preferir ter plataformas digitais próprias, enquanto algumas fintechs poderiam ter um braço financeiro para operar de ponta a ponta.  \"As fintechs começarão a se perguntar se vale a pena virar banco\", disse Rubens Vidigal Neto, sócio do PVG Advogados.  Atento a esse movimento, o CBSS já visualiza aprofundar a aproximação com as fintechs. Num primeiro momento, as conversas envolvem proposta de remuneração mais atrativa, na qual o banco pode repassar às parceiras mais do que apenas um valor pela originação de negócios.  Mas com pelo menos uma delas as conversas já evoluíram para participação societária.  \"Estamos em negociações finais para sermos sócios de uma delas (fintech)\", disse Giovane, sem dar mais detalhes.  A entrada do CBSS no crédito digital é motivada, dentre outros fatores, pelo interesse dos sócios em acelerar a rentabilização do negócio, disse o executivo.  Após ter obtido as aprovações do Banco Central no ano passado para atuar como banco, o CBSS vem deslanchando uma série de iniciativas para vender produtos financeiros, incluindo por meio da financeira Ibi, de parcerias com redes varejistas e o lançamento de um plataforma digital própria de cartão de crédito, a Digio.  Essa plataforma começa a operar ainda este mês um marketplace, inclusive com produtos como os da Apple Store. A partir de novembro, a Digio incluirá oferta de crédito pessoal.  Todas essas frentes consumiram investimentos que levam mais tempo para dar retorno. O banco, que tinha patrimônio de R$ 410 milhões em junho, já opera no azul desde o mês passado, mas o plano é começar a ter lucro.  \"As parcerias com as fintechs no crédito são um negócio que permite retorno quase imediato\", disse Giovane.</td>\n",
              "      <td>2017-09-10</td>\n",
              "      <td>economia</td>\n",
              "      <td>NaN</td>\n",
              "      <td>http://www1.folha.uol.com.br/mercado/2017/10/1925723-cbss-inicia-acordos-com-fintechs-e-quer-30-do-credito-digital-em-2018.shtml</td>\n",
              "      <td>FolhaSP</td>\n",
              "      <td>2</td>\n",
              "    </tr>\n",
              "    <tr>\n",
              "      <th>5</th>\n",
              "      <td>Em encontro, Bono pergunta a Macri sobre argentino desaparecido</td>\n",
              "      <td>O vocalista da banda irlandesa U2, Bono, fez uma pergunta espinhosa ao presidente argentino, Mauricio Macri, em encontro que ambos mantiveram na Casa Rosada, sede do governo argentino, nesta segunda-feira (9).  O músico, que se apresenta com seu grupo nesta terça (10) e quarta (11) no país, quis saber como estão as investigações do desaparecimento do artesão Santiago Maldonado, ocorrida dia 1º de agosto deste ano na Patagônia.  O sumiço de Maldonado se transformou em um dos temas da campanha para as eleições legislativas que ocorrem no próximo dia 22.  Marchas e protestos vêm ocorrendo em várias cidades desde então, e há cartazes pedindo o \"reaparecimento com vida\" do ativista.  Maldonado havia se juntado a um protesto de indígenas mapuche que reivindicam um território na Província de Chubut, no sul do país, hoje sob posse da companhia italiana Benetton.  Na ocasião, houve enfrentamento da Gendarmeria (polícia de fronteiras argentina) com os manifestantes, e testemunhas alegam que Maldonado foi levado pelos agentes.  O governo, por meio da Secretaria de Segurança Pública, à qual a Gendarmeria responde, alega que essa afirmação é falsa e, desde então, tem realizado intensas buscas pela região para encontrar Maldonado.  A ex-presidente Cristina Kirchner, candidata ao Senado pela oposição, tem usado a imagem de Maldonado em campanha, dizendo ser o \"primeiro desaparecido político do governo Macri\".  Apesar da pergunta, Bono e Macri se trataram de forma cordial.  Após o encontro, o cantor disse que havia \"sentido que o presidente está comprometido na missão de encontrar Maldonado\". E acrescentou que vinha ao país \"reforçar o pedido para que o caso seja esclarecido, em nome da Anistia Internacional\".  Além disso, Bono afirmou que ambos trataram de alguns temas da pauta da próxima reunião do G-20, que ocorrerá na Argentina no ano que vem. O país assume em dezembro a presidência rotativa do grupo que congrega as 20 maiores economias.  \"As pessoas pensam que esses eventos são apenas encontros com jantares luxuosos. Mas, neste caso, haverá um grande espaço dedicado ao debate da necessidade de se ajudar as mulheres que estão em situação de pobreza e às mais de 130 milhões de meninas em todo o mundo que não vão à escola\", afirmou Bono.</td>\n",
              "      <td>2017-09-10</td>\n",
              "      <td>mundo</td>\n",
              "      <td>NaN</td>\n",
              "      <td>http://www1.folha.uol.com.br/mundo/2017/10/1925729-em-encontro-bono-pergunta-a-macri-sobre-argentino-desaparecido.shtml</td>\n",
              "      <td>FolhaSP</td>\n",
              "      <td>4</td>\n",
              "    </tr>\n",
              "    <tr>\n",
              "      <th>6</th>\n",
              "      <td>Posso sair do Brasil quando e como quiser, diz Cesare Battisti</td>\n",
              "      <td>O italiano Cesare Battisti disse nesta segunda-feira (9) que tem liberdade para sair do Brasil quando quiser.  \"Eu não tenho refúgio político. Eu sou um imigrante, com visto permanente no país. Eu posso sair desse país quando e como quero. Não tenho nenhuma restrição\", afirmou ele em entrevista à TV Tribuna, afiliada da TV Globo.  Battisti foi detido na semana passada acusado de evasão de divisas ao tentar atravessar a fronteira com a Bolívia portando dólares e euros no valor equivalente a pouco mais de R$ 23 mil.  Na sexta-feira (6), o desembargador José Marcos Lunardelli, do TRF-3 (Tribunal Regional Federal da 3ª Região), concedeu um habeas corpus ao italiano, preso em Mato Grosso do Sul. Ele chegou a São Paulo no sábado (7).  A entrevista à emissora foi gravada em Cananeia (SP), cidade onde Battisti está morando.  \"Ia estar fugindo de quê? O país onde estou protegido é aqui\", afirmou ele, negando que tivesse a intenção de fugir do país. \"Não é verdade o que se fala, que eu não tinha o direito de sair do país.\"  A defesa do italiano já vinha afirmando que não há impedimento para que ele, na condição de refugiado, realize viagem, mesmo que seja para o exterior. Segundo os advogados, sua situação jurídica no Brasil está plenamente legalizada há quase dez anos.  \"Eu tenho todo o direito de cidadão brasileiro\", disse Battisti à TV. \"O decreto do Lula não pode ser revogado. Depois de cinco anos acabou o prazo.\"    Battisti fugiu da Itália e, em 2004, veio para o Brasil. Foi preso em 2007 e, em 2009, o STF (Supremo Tribunal Federal) autorizou a extradição, que foi negada pelo ex-presidente Luiz Inácio Lula da Silva em 2010, no último dia de seu governo.  Antes da prisão na semana passada, o Ministério da Justiça já havia encaminhado ao presidente Michel Temer um parecer no qual tratava sobre a extradição de Battisti.  Agora a Subchefia para Assuntos Jurídicos (SAJ) do Planalto está elaborando uma avaliação que deve ficar pronta na quarta-feira (11). A partir daí, cabe a Temer tomar uma decisão sobre o caso. A expectativa é que ele delibere sobre isso logo após a entrega da análise jurídica, mas oficialmente não há prazo.  A pasta da Justiça enviou na sexta-feira (6) um parecer próprio ao Planalto, em que afirmava não haver nenhum obstáculo jurídico que impeça a extradição. É a partir desse texto que o documento da SAJ deve ser redigido.  *  CRONOLOGIA O caso Battisti  Década de 1970 Envolve-se com grupos de luta armada de extrema-esquerda  Década de 1980 Foge da Itália e passa a maior parte do tempo no México. É condenado à prisão perpétua pela Justiça italiana, acusado de quatro homicídios  Década de 1990 Se exila em Paris (França), protegido por legislação do governo Mitterrand  2004 Sem Miterrand, França aprova extradição para Itália; foge em direção ao Brasil, onde vive clandestino  2007 É preso no Rio  2009 Ministério da Justiça dá a ele status de refugiado político, mas STF aprova extradição  2010 Lula, então presidente, decide pela permanência de Battisti no Brasil  2011 STF valida decisão de Lula, e Battisti é solto. Governo concede visto de permanência a ele  2015 Juíza da 20ª Vara Federal de Brasília atende a pedido do Ministério Público e determina a deportação de Battisti. A defesa recorre da decisão  2017 Na quarta (4.out), é detido em Corumbá (MS). Consegue habeas corpus na sexta (6.out)</td>\n",
              "      <td>2017-09-10</td>\n",
              "      <td>politica</td>\n",
              "      <td>NaN</td>\n",
              "      <td>http://www1.folha.uol.com.br/poder/2017/10/1925722-posso-sair-do-brasil-quando-e-como-quiser-diz-cesare-battisti.shtml</td>\n",
              "      <td>FolhaSP</td>\n",
              "      <td>0</td>\n",
              "    </tr>\n",
              "    <tr>\n",
              "      <th>7</th>\n",
              "      <td>Tite diz querer seguir na seleção após o Mundial da Rússia</td>\n",
              "      <td>Pela primeira vez desde que assumiu o comando da seleção brasileira há quase 16 meses, o técnico Tite afirmou que já pensou em continuar no cargo após a Copa.  Ele assumiu o posto em junho de 2016 após a demissão de Dunga.  O treinador iniciou o seu trabalho fora da zona de classificação para a Copa do Mundo, mas com uma arrancada surpreendente conseguiu nove vitórias consecutivas e dois empates e obteve a vaga no Mundial com antecipação. O treinador ainda coleciona mais duas vitórias e uma derrota em jogos amistosos.  \"Pensar eu pensei [seguir após Mundial], mas ainda é utopia, temos que crescer muito a mentalidade para esse tipo de coisa acontecer. Temos que evoluir como técnicos, como dirigentes e como formadores de opinião. Eu cobiço o que a Alemanha tem, que consegue deixar tanto tempo um treinador para trabalhar\", afirmou Tite.  Na entrevista, o treinador falou sobre o o duelo contra o Chile, marcado para esta terça-feira (10), às 20h30, no Allianz Parque, pela última rodada das eliminatórias para a Copa do Mundo.  Uma vitória da seleção brasileira pode ajudar a Argentina a se classificar sem a repescagem ao Mundial. O time dirigido por Sampaoli enfrenta o eliminado Equador em Quito.  Atualmente, o Chile ocupa a terceira posição com 26 pontos. Já a Argentina está na sexta posição com 25 pontos. Entre os dois times estão Colômbia, quarta colocada (26 pontos), e o Peru, quinto colocado (25 pontos).  \"Vamos fazer o que é mais importante para nós, para a dignidade de um povo, da imprensa. Não é nada de extraordinário, que é fazer o melhor. Os outros vão colher o fruto do trabalho que fizeram\", disse o treinador.  \"A classificação será determinada com o trabalho feito nos 18 jogos. Não será merecimento por apenas um jogo e sim pela sequência\", completou. .  Tite fará apenas duas mudanças em relação ao time que empatou com a Bolívia. O goleiro Ederson, que terá a primeira oportunidade como titular, entra no lugar de Alisson, enquanto Marquinhos ocupa a vaga de Thiago Silva. Na lateral esquerda, Alex Sandro será mantido.  \"Não posso desestruturar a equipe em demasia. Mexo no goleiro, na lateral [mantém o Alex Sandro] Normalmente são duas mudanças. Se mexer demais, perde a organização, a coordenação e a preparação para o Mundial. Quando começa a mexer nos três setores, essa oportunidade se perde em função da falta de estrutura. Por isso que tomei o cuidado de não mexer excessivamente. Porque aí você vira ''Professor Pardal'', completou.</td>\n",
              "      <td>2017-09-10</td>\n",
              "      <td>esporte</td>\n",
              "      <td>NaN</td>\n",
              "      <td>http://www1.folha.uol.com.br/esporte/2017/10/1925734-tite-diz-querer-seguir-na-selecao-apos-o-mundial-da-russia.shtml</td>\n",
              "      <td>FolhaSP</td>\n",
              "      <td>3</td>\n",
              "    </tr>\n",
              "    <tr>\n",
              "      <th>8</th>\n",
              "      <td>Supremo nega pedido para Senado analisar impeachment de Gilmar</td>\n",
              "      <td>O STF (Supremo Tribunal Federal) negou na quinta-feira (5) um recurso para analisar um pedido de impeachment contra o ministro Gilmar Mendes.  O caso foi levado ao Supremo em janeiro por um grupo de juristas, que entrou com um mandado de segurança contestando decisão do então presidente do Senado, Renan Calheiros (PMDB-AL), que, em setembro de 2016, arquivou um pedido de impeachment contra Gilmar.  Para os juristas, Renan não poderia \"arquivar sumariamente o pedido de impeachment: A) por não ter competência legal para tanto, eis que tal competência é da Mesa do Senado; B) por estar legalmente impedido (por suspeição) de praticar o ato hostilizado\". Segundo eles, o ato deveria ser anulado e reavaliado.  O documento é assinado por Celso Antonio Bandeira de Mello, Fabio Konder Comparato, Sérgio Sérvulo da Cunha, Eny Raimundo Moreira, Roberto Átila Amaral e Alvaro Augusto Ribeiro Costa.  Relator do caso, Edson Fachin negou o pedido do grupo, que recorreu.  Para Fachin, \"embora os impetrantes discordem das conclusões a que chegou o então presidente do Senado, não cabe a esta corte rever seu mérito, apenas verificar a legalidade dos atos e dos procedimentos por ele praticados, no exercício legítimo de sua função constitucional\".  O caso foi julgado no plenário virtual do STF entre os dias 29 de setembro e 5 de outubro.  Gilmar não participou e nem o ministro Marco Aurélio, que se declarou suspeito. Os outros ministros votaram contra o prosseguimento da ação.</td>\n",
              "      <td>2017-09-10</td>\n",
              "      <td>politica</td>\n",
              "      <td>NaN</td>\n",
              "      <td>http://www1.folha.uol.com.br/poder/2017/10/1925731-stf-nega-pedido-para-senado-analisar-impeachment-de-gilmar-mendes.shtml</td>\n",
              "      <td>FolhaSP</td>\n",
              "      <td>0</td>\n",
              "    </tr>\n",
              "    <tr>\n",
              "      <th>9</th>\n",
              "      <td>Em teste, WhatsApp Business permite que empresas façam cadastro com fixo</td>\n",
              "      <td>O aplicativo de mensagens instantâneas WhatsApp disponibilizou para download sua versão para negócios anunciada em setembro. Em fase de testes, o serviço está sendo usado por algumas empresas selecionadas por meio de um pré-cadastro no site da empresa.  Com o WhatsApp Business, as companhias podem registrar suas contas com telefones fixos e configurar um perfil público, com verificação semelhante à que já é usada nas redes sociais e informações mais detalhadas do que as previstas hoje no serviço tradicional, como endereço, descrição e site do negócio.  Também é possível estabelecer horários específicos em que o Whatsapp estará ativo e definir uma resposta automática para os clientes.  A ideia é separar os perfis pessoais dos corporativos, que hoje funcionam de maneira \"bastante rudimentar\", como definiu a empresa quando comunicou sobre o lançamento do novo serviço.  Para as grandes companhias, segundo a mesma nota, o WhatsApp quer fazer do aplicativo uma solução para operar em escala - para fornecer notificações sobre horários de voo, no caso das companhias aéreas, por exemplo, confirmações de entrega e outras atualizações.  Em entrevista ao jornal americano The Wall Street Journal logo após o anúncio do novo serviço, o chefe de operações do WhatsApp Matt Idema confirmou que há intenção de cobrar das empresas pelo serviço futuramente, sem dar mais detalhes sobre como isso funcionaria ou quanto custaria.  Executivos da companhia já haviam afirmado que o lançamento de um serviço para empresas fazia parte da estratégia para monetizar o aplicativo.  No Brasil, estão testando o WhatsApp Business companhias como o banco Itaú, que integrou o aplicativo à sua plataforma de atendimento aos clientes do serviço Personalitté Digital, e a companhia aérea holandesa KLM, que disponibilizou o serviço para aqueles que, no momento da reserva ou do check-in feito no site da empresa, selecionarem a opção para receber informações via WhatsApp.  Em julho, o aplicativo, lançado em 2009 e adquirido por US$ 19 milhões pelo Facebook em 2014, comemorou a marca de um bilhão de usuários ativos por dia. Pouco mais de 10% desse total, 120 milhões, estão no Brasil.</td>\n",
              "      <td>2017-09-10</td>\n",
              "      <td>tecnologia</td>\n",
              "      <td>NaN</td>\n",
              "      <td>http://www1.folha.uol.com.br/tec/2017/10/1925724-em-teste-whatsapp-business-permite-que-empresas-facam-cadastro-com-fixo.shtml</td>\n",
              "      <td>FolhaSP</td>\n",
              "      <td>11</td>\n",
              "    </tr>\n",
              "  </tbody>\n",
              "</table>\n",
              "</div>"
            ],
            "text/plain": [
              "                                                                      title  \\\n",
              "0  Lula diz que está 'lascado', mas que ainda tem força como cabo eleitoral   \n",
              "1   'Decidi ser escrava das mulheres que sofrem', diz cantora Oumou Sangaré   \n",
              "2           Três reportagens da Folha ganham Prêmio Petrobras de Jornalismo   \n",
              "3      Filme 'Star Wars: Os Últimos Jedi' ganha trailer definitivo; assista   \n",
              "4    CBSS inicia acordos com fintechs e quer 30% do crédito digital em 2018   \n",
              "5           Em encontro, Bono pergunta a Macri sobre argentino desaparecido   \n",
              "6            Posso sair do Brasil quando e como quiser, diz Cesare Battisti   \n",
              "7                Tite diz querer seguir na seleção após o Mundial da Rússia   \n",
              "8            Supremo nega pedido para Senado analisar impeachment de Gilmar   \n",
              "9  Em teste, WhatsApp Business permite que empresas façam cadastro com fixo   \n",
              "\n",
              "                                                                                                                                                                                                                                                                                                                                                                                                                                                                                                                                                                                                                                                                                                                                                                                                                                                                                                                                                                                                                                                                                                                                                                                                                                                                                                                                                                                                                                                                                                                                                                                                                                                                                                                                                                                                                                                                                                                                                                                                                                                                                                                                                                                                                                                                                                                                                                                                                                                                                                                                                                                                                                                                                                                                                                                                                                                                                                                                                                                                                                                                                                                                                                                                                                                                                                                                                                                                                                                                                                                                                                                                                                                                                                                                                                                                                                                                                                                                                                                                                                                                                                                                                                                                                                             text  \\\n",
              "0                                                                                                                                                                                                                                                                                                                                                                                                                                                                                                                                                                                                                                                                                                                                                                                                                                                                                                                                                                                                                                                                                                                                   Com a possibilidade de uma condenação impedir sua candidatura em 2018, o ex-presidente Luiz Inácio Lula da Silva fez, nesta segunda (9), um discurso inflamado contra a Lava Jato, no qual disse saber que está \"lascado\", exigiu um pedido de desculpas do juiz Sergio Moro e afirmou que, mesmo fora da disputa pelo Planalto, será um cabo eleitoral expressivo para a sucessão de Michel Temer.  Segundo o petista, réu em sete ações penais, o objetivo de Moro é impedir sua candidatura no ano que vem, desidratando-o, inclusive, no apoio a um nome alternativo, como o do ex-prefeito de São Paulo Fernando Haddad (PT), caso ele não possa concorrer à Presidência.  \"Eu sei que tô lascado, todo dia tem um processo. Eu não quero nem que Moro me absolva, eu só quero que ele peça desculpas\", disse Lula durante um seminário sobre educação em Brasília. \"Eles [investigadores] chegam a dizer: 'Ah, se o Lula não for candidato, ele não vai ter força como cabo eleitoral'. Testem\", completou o petista.  Para o ex-presidente, Moro usou \"mentiras contadas pela Polícia Federal e pelo Ministério Público\" para julgá-lo e condená-lo a nove anos e seis meses de prisão pelo caso do tríplex em Guarujá (SP).  O ex-presidente disse ainda não ter \"medo\" dos investigadores que, de acordo com ele, estão acostumados a \"mexer com deputados e senadores\" que temem as apurações.  \"Eu quero que eles saibam o seguinte: se eles estão acostumados a lidar com deputado que tem medo deles, a mexer com senadores que têm medo deles, quero dizer que tenho respeito profundo por quem me respeita, pelas leis que nós ajudamos a criar, mas não tenho respeito por quem não me respeita e eles não me respeitaram\", afirmou o petista.    De acordo com aliados, Lula não gosta de discutir, mesmo que nos bastidores, a chance de não ser candidato ao Planalto e a projeção do nome de Haddad como plano B do PT tem incomodado os mais próximos ao ex-presidente. O ex-prefeito, que estava no evento nesta segunda, fez um discurso rápido, de menos de dez minutos, em que encerrou dizendo esperar que Lula assuma a Presidência em 2019.  \"Espero que dia 1º de janeiro de 2019 esse pesadelo chamado Temer acabe e o senhor assuma a Presidência da República\", disse Haddad.  'DEMÔNIO DO MERCADO'  Lula voltou a fazer um discurso mais agressivo em relação ao mercado e disse que \"não tem cara de demônio\", mas quer que o respeitem \"como se fosse\".  \"Não tenho cara de demônio, mas quero que eles me respeitem como se eu fosse, porque eles sabem que a economia não vai ficar subordinada ao elitismo da sociedade brasileira\", disse o ex-presidente.  O petista rivalizou ainda com o deputado Jair Bolsonaro (PSC-RJ), segundo colocado nas últimas pesquisas empatado com Marina Silva, e disse que se ele \"agrada ao mercado\", o PT tem que \"desagradar\".  A Folha publicou nesta segunda (9) reportagem em que mostrou que o deputado ensaia movimento ao centro no debate econômico, adotando um discurso simpático aos investidores do mercado financeiro.   \n",
              "1                                                                                                                                                                                                                                                                                                                                                                                                                                                                                                                                                                                                                                                                                                                                                                                                                                                                                                                                                                                                                                                                                                                                                                                                                                  Para Oumou Sangaré, cantora e ativista malinesa, o sofrimento da mulher é universal. \"Canto com todas as minhas forças e vejo mulheres chorando ao meu redor\", disse durante um encontro na Casa da Cultura de Paraty, no Rio de Janeiro, neste domingo (8).  Herdeira da tradição musical de sua família –sua avó foi uma \"grande estrela\" do país africano–, ela conta que começou a cantar na rua para ajudar nas finanças de casa após o divórcio dos pais, que deixou seis filhos dependentes de sua mãe, também cantora.  \"Eu vi uma mulher que sofria para se defender sozinha e alimentar os filhos e às vezes isso era muito duro, tinha dias em que ela se retirava no quarto para chorar\", recorda.  Ela conta que o desejo de fazer a mãe feliz a incentivou, inclusive, a abandonar os estudos para se dedicar à música. Ainda que seu canto fosse as dores da matriarca, Sangaré conta ter percebido que as mulheres que a ouviam também se viam decifradas nele.  \"Quando uma mulher dá à luz, ela está entre a vida e a morte, mas ela o faz para que o mundo engrandeça, por que esse mesmo mundo não pode encarar os problemas dela?\", questiona. \"É por isso que decidi ser escrava de todas as mulheres que sofrem.\"  Sangaré, que se diz uma \"muçulmana relax\", tornou-se uma notória ativista na luta pela igualdade de gêneros, batalhando contra a circuncisão feminina e o casamento e a poligamia compulsórios –sem contar seu trabalho com a ONU pela erradicação da fome em países africanos.  Com o discurso de empoderamento pelo trabalho –\"desenvolvam-se e sejam úteis para sua família e seu país\", ela repete com frequência–, resolveu dar o exemplo, criando uma rede hoteleira e uma concessionária de carros e plantando milho, cebola e laranja.  Os aspectos que moldaram a história de Sangaré estão impressos nos títulos de seus álbuns. Além do que leva o seu nome, \"Moussolou\", o de estreia, significa \"mulher\"; \"Ko Sira\", \"o casamento de hoje\"; \"Worotan\", \"preço por uma noiva\"; \"Seya\", \"alegria\"; \"Kounadia\", \"a boa estrela\".  TRADIÇÃO SONORA  Foi o mais recente, \"Mogoya\" (as pessoas da atualidade), que a cantora apresentou em Paraty, neste sábado (7), como parte da programação do Mimo Festival –o evento, gratuito, reuniu cerca de 25 mil pessoas com suas atrações gratuitas durante o fim de semana.  Com letras em bambara, um dos diversos idiomas de Mali, Sangaré se consagrou como ícone do wassoulou, estilo musical derivado do folclore de uma região homônima da África Ocidental.  No repertório que trouxe para cá, ela mistura o ritmo com batidas eletrônicas e conta que a atualização tinha como intuito atingir novas gerações e público do mercado global.  A cantora mostrou a potência de sua voz, amparada por uma banda parte africana e parte europeia que incluía um kamale ngoni –instrumento típico do wassoulou semelhante a um berimbau e moldado com uma cabaça– e uma dupla de backing vocals hipnotizantes.   \n",
              "2  Três reportagens da Folha foram vencedoras do Prêmio Petrobras de Jornalismo, anunciado na noite desta segunda-feira (9).  O jornal ganhou a premiação nas categorias Economia, com a criação do REM-F (Ranking de Eficiência dos Municípios-Folha), Regional SP-Sul, com uma série de reportagens sobre dados sigilosos do governo Geraldo Alckmin (PSDB), e Ciência e Tecnologia, com o especial \"Tudo sobre o mosquito\".  A vencedora do Grande Prêmio foi a reportagem \"Terra bruta - Pistolagem, devastação e morte no coração do Brasil\", do jornal \"O Estado de S. Paulo\".  Criado em 2013, o Prêmio Petrobras de Jornalismo está em sua quarta edição. Ele teve neste ano 11 categorias nacionais e regionais, além de dois prêmios especiais. Nenhuma das categorias é voltada especificamente às reportagens sobre política.  DOCUMENTOS SECRETOS DE ALCKMIN  Vencedora na categoria Regional SP-Sul, a série de investigações publicadas pela Folha em outubro de 2015 revelou que a gestão Alckmin havia tornado sigilosas centenas de informações do transporte público metropolitano. O trabalho é de autoria dos repórteres Artur Rodrigues, André Monteiro e Fabricio Lobel.  A classificação das informações impossibilitava a consulta pública de 157 documentos num prazo de 25 anos. A população não poderia ter acesso a relatórios que explicassem, por exemplo, os motivos exatos de atrasos em obras de linhas e estações. À época, como atualmente, todas as linhas em expansão do Metrô de São Paulo e da CPTM estavam atrasadas.  A reportagem motivou a abertura de uma investigação pelo Ministério Público e o pedido de explicações pelo Tribunal de Contas do Estado. Dois dias após a publicação do material pelo jornal, o governo paulista revogou os decretos de sigilo e se comprometeu a revisar todos os termos semelhantes impostos até então.  Após a decisão, as reportagens identificaram outras áreas da gestão Alckmin em que também havia sido imposto o sigilo de informação. Entre elas estavam dados sobre procedimentos e projetos técnicos e operacionais do abastecimento de água de São Paulo, além de dados da Polícia Militar e da Administração Penitenciária.  RANKING DE EFICIÊNCIA DOS MUNICÍPIOS  O Ranking de Eficiência dos Municípios-Folha (REM-F), projeto publicado em agosto de 2016, antes das eleições municipais, trouxe uma ferramenta virtual, criada em conjunto com o Datafolha, que mostra quais prefeituras entregam mais serviços básicos à população usando menor volume de recursos financeiros.  O ranking, com participação de Alessandro Janoni, Fernando Canzian, Marcelo Soares, Mario Kanno e Renata Nunes, leva em conta indicadores de saúde, educação e saneamento para calcular a eficiência da gestão em relação à sua receita disponível. Foram avaliados 5.281 municípios, ou 95% do total de 5.569 existentes no Brasil.  Além do índice, o projeto também incluiu visitas a 16 cidades brasileiras, de diferentes regiões e níveis de eficiência apurados pelo ranking.  O MOSQUITO  Coordenado pelos jornalistas Marcelo Leite e Mariana Versolato, o pacote de reportagens sobre o mosquito Aedes aegypti foi publicado em dezembro de 2016, em meio à crise do vírus da zika. Com participação de uma equipe de 21 profissionais, tem também entre seus autores os jornalistas Cláudia Collucci, Lalo de Almeida, Patricia Campos Mello, Reinaldo José Lopes e Gabriel Alves.  O material contém textos sobre diferentes aspectos da questão que comoveu o Brasil e o mundo, chegando a ser declarada como uma emergência internacional pela Organização Mundial da Saúde.  O primeiro capítulo \"O vírus da zika\" é o resultado de uma viagem ao berço da doença, o continente africano, com visitas ao Senegal e a Uganda, onde fica a floresta Zika, que deu nome ao vírus.  Em seguida, o material traz relatos sobre mães e seus filhos e filhas, que nasceram com microcefalia. A reportagem explicita os percalços de quem não tinha muita informação do que fazer naquele momento tão crítico.  O especial ainda discute o impacto da doença nos EUA e as novidades no combate ao mosquito Aedes aegypti e à doença propriamente dita.   \n",
              "3                                                                                                                                                                                                                                                                                                                                                                                                                                                                                                                                                                                                                                                                                                                                                                                                                                                                                                                                                                                                                                                                                                                                                                                                                                                                                                                                                                                                                                                                                                                                                                                                                                                                                                                                                                                                                                                                                                                                                                                                                                                                                                                                                                                                                                                                                                                                                                                                                                                                                                                                                                                                                                                                                                                                                                                                                                                                                                                                                                                                                                                                                                                                                                                                                                                                                                                                                             A Disney divulgou na noite desta segunda-feira (9) o novo trailer de \"Star Wars: Os Últimos Jedi\", oitavo episódio da saga.  O trailer era aguardado pelos fãs e se tornou um dos tópicos mais comentados no Twitter no horário de seu lançamento.  Assista ao trailer de 'Os Últimos Jedi'  Assista ao trailer de 'Os Últimos Jedi'  Em \"O Despertar da Força\" (2015), episódio mais recente, a personagem Rey (Daisy Ridley) descobre que tem a Força e procura por Luke Skywalker (Mark Hamill) para começar seu treinamento Jedi.  A história do novo episódio continua desse ponto, e cenas do trailer mostram a relação entre Rey e Skywalker.  Com direção de Rian Johnson, o filme será lançado em 14 de dezembro no Brasil. O nono episódio, ainda sem título, encerra a nova trilogia em 20 de dezembro de 2019.  O estúdio também divulgou novo poster do filme.  Poster   \n",
              "4                                                                 O CBSS, banco da holding Elopar dos sócios Bradesco e Banco do Brasil, está fazendo parcerias com fintechs, prevendo em 2018 alcançar 30% de um mercado de rápido crescimento e que já empresta mais de R$ 1 bilhão por ano.  Inicialmente, os acordos usarão o modelo mais praticado no mercado, com fintechs captando pedidos de empréstimos e filtrando o perfil de risco dos tomadores, operação conhecida no jargão do mercado como \"lead\" e pela qual as fintechs são remuneradas, quase sempre por bancos de médio porte e cooperativas de crédito, que de fato concedem os financiamentos.  \"Nós temos funding competitivo e em boa quantidade e as fintechs conseguem originar crédito com um custo muito menor do que faríamos por meios físicos\", disse à Reuters o presidente do Banco CBSS, Carlos Giovane.  A primeira parceria é com a Bom Pra Crédito, marketplace no qual cerca de 500 mil interessados em tomar empréstimo pessoal submetem todo mês pedidos que são distribuídos para cerca de 25 bancos oferecerem propostas.  Além desse acordo, já em andamento, negociações estão em curso com outras quatro fintechs especializadas em crédito: Guia Bolso, Lendico, Finanzero e Wecash, previstas para estarem operacionais ainda em 2017.  O movimento marca a primeira aproximação operacional, mesmo que de forma indireta, de grandes bancos com fintechs, que nos últimos dois anos emergiram como potenciais rivais no crédito pessoal, ao oferecerem taxas de juros muito menores do que as praticadas no sistema financeiro.  Segundo o presidente da Bom Pra Crédito, Ricardo Kalichsztein, ser parceiro é melhor.  O CBSS, no caso, oferecerá empréstimos pessoais sem garantia com taxas a partir de 3,9% ao mês. A taxa média do sistema financeiro foi de 7,2% ao mês, segundo dados do Banco Central referentes a agosto.  A iniciativa acontece em meio a uma audiência pública aberta pelo Banco Central para regulamentar a atuação das plataformas digitais de crédito. A proposta do BC é classificar essas fintechs em duas categorias, a que empresta com capital dos próprios acionistas e a que conecta investidores a tomadores de recursos, prática conhecida como peer to peer lending.  Na avaliação de especialistas do setor, dependendo da forma como vier a regulação, o modelo atual de parcerias pode ser esvaziado, uma vez que bancos podem preferir ter plataformas digitais próprias, enquanto algumas fintechs poderiam ter um braço financeiro para operar de ponta a ponta.  \"As fintechs começarão a se perguntar se vale a pena virar banco\", disse Rubens Vidigal Neto, sócio do PVG Advogados.  Atento a esse movimento, o CBSS já visualiza aprofundar a aproximação com as fintechs. Num primeiro momento, as conversas envolvem proposta de remuneração mais atrativa, na qual o banco pode repassar às parceiras mais do que apenas um valor pela originação de negócios.  Mas com pelo menos uma delas as conversas já evoluíram para participação societária.  \"Estamos em negociações finais para sermos sócios de uma delas (fintech)\", disse Giovane, sem dar mais detalhes.  A entrada do CBSS no crédito digital é motivada, dentre outros fatores, pelo interesse dos sócios em acelerar a rentabilização do negócio, disse o executivo.  Após ter obtido as aprovações do Banco Central no ano passado para atuar como banco, o CBSS vem deslanchando uma série de iniciativas para vender produtos financeiros, incluindo por meio da financeira Ibi, de parcerias com redes varejistas e o lançamento de um plataforma digital própria de cartão de crédito, a Digio.  Essa plataforma começa a operar ainda este mês um marketplace, inclusive com produtos como os da Apple Store. A partir de novembro, a Digio incluirá oferta de crédito pessoal.  Todas essas frentes consumiram investimentos que levam mais tempo para dar retorno. O banco, que tinha patrimônio de R$ 410 milhões em junho, já opera no azul desde o mês passado, mas o plano é começar a ter lucro.  \"As parcerias com as fintechs no crédito são um negócio que permite retorno quase imediato\", disse Giovane.   \n",
              "5                                                                                                                                                                                                                                                                                                                                                                                                                                                                                                                                                                                                                                                                                                                                                                                                                                                                                                                                                                                                                                                                                                                                                                                                                                                                                                                                                                                                                                                                                                                                                                                                                                                                                                                                                                                                                                                                                         O vocalista da banda irlandesa U2, Bono, fez uma pergunta espinhosa ao presidente argentino, Mauricio Macri, em encontro que ambos mantiveram na Casa Rosada, sede do governo argentino, nesta segunda-feira (9).  O músico, que se apresenta com seu grupo nesta terça (10) e quarta (11) no país, quis saber como estão as investigações do desaparecimento do artesão Santiago Maldonado, ocorrida dia 1º de agosto deste ano na Patagônia.  O sumiço de Maldonado se transformou em um dos temas da campanha para as eleições legislativas que ocorrem no próximo dia 22.  Marchas e protestos vêm ocorrendo em várias cidades desde então, e há cartazes pedindo o \"reaparecimento com vida\" do ativista.  Maldonado havia se juntado a um protesto de indígenas mapuche que reivindicam um território na Província de Chubut, no sul do país, hoje sob posse da companhia italiana Benetton.  Na ocasião, houve enfrentamento da Gendarmeria (polícia de fronteiras argentina) com os manifestantes, e testemunhas alegam que Maldonado foi levado pelos agentes.  O governo, por meio da Secretaria de Segurança Pública, à qual a Gendarmeria responde, alega que essa afirmação é falsa e, desde então, tem realizado intensas buscas pela região para encontrar Maldonado.  A ex-presidente Cristina Kirchner, candidata ao Senado pela oposição, tem usado a imagem de Maldonado em campanha, dizendo ser o \"primeiro desaparecido político do governo Macri\".  Apesar da pergunta, Bono e Macri se trataram de forma cordial.  Após o encontro, o cantor disse que havia \"sentido que o presidente está comprometido na missão de encontrar Maldonado\". E acrescentou que vinha ao país \"reforçar o pedido para que o caso seja esclarecido, em nome da Anistia Internacional\".  Além disso, Bono afirmou que ambos trataram de alguns temas da pauta da próxima reunião do G-20, que ocorrerá na Argentina no ano que vem. O país assume em dezembro a presidência rotativa do grupo que congrega as 20 maiores economias.  \"As pessoas pensam que esses eventos são apenas encontros com jantares luxuosos. Mas, neste caso, haverá um grande espaço dedicado ao debate da necessidade de se ajudar as mulheres que estão em situação de pobreza e às mais de 130 milhões de meninas em todo o mundo que não vão à escola\", afirmou Bono.   \n",
              "6                                                                                                                                                                                                                                                                                                                                                                                                                                                                                                                                                                                                                                                                                                                                                  O italiano Cesare Battisti disse nesta segunda-feira (9) que tem liberdade para sair do Brasil quando quiser.  \"Eu não tenho refúgio político. Eu sou um imigrante, com visto permanente no país. Eu posso sair desse país quando e como quero. Não tenho nenhuma restrição\", afirmou ele em entrevista à TV Tribuna, afiliada da TV Globo.  Battisti foi detido na semana passada acusado de evasão de divisas ao tentar atravessar a fronteira com a Bolívia portando dólares e euros no valor equivalente a pouco mais de R$ 23 mil.  Na sexta-feira (6), o desembargador José Marcos Lunardelli, do TRF-3 (Tribunal Regional Federal da 3ª Região), concedeu um habeas corpus ao italiano, preso em Mato Grosso do Sul. Ele chegou a São Paulo no sábado (7).  A entrevista à emissora foi gravada em Cananeia (SP), cidade onde Battisti está morando.  \"Ia estar fugindo de quê? O país onde estou protegido é aqui\", afirmou ele, negando que tivesse a intenção de fugir do país. \"Não é verdade o que se fala, que eu não tinha o direito de sair do país.\"  A defesa do italiano já vinha afirmando que não há impedimento para que ele, na condição de refugiado, realize viagem, mesmo que seja para o exterior. Segundo os advogados, sua situação jurídica no Brasil está plenamente legalizada há quase dez anos.  \"Eu tenho todo o direito de cidadão brasileiro\", disse Battisti à TV. \"O decreto do Lula não pode ser revogado. Depois de cinco anos acabou o prazo.\"    Battisti fugiu da Itália e, em 2004, veio para o Brasil. Foi preso em 2007 e, em 2009, o STF (Supremo Tribunal Federal) autorizou a extradição, que foi negada pelo ex-presidente Luiz Inácio Lula da Silva em 2010, no último dia de seu governo.  Antes da prisão na semana passada, o Ministério da Justiça já havia encaminhado ao presidente Michel Temer um parecer no qual tratava sobre a extradição de Battisti.  Agora a Subchefia para Assuntos Jurídicos (SAJ) do Planalto está elaborando uma avaliação que deve ficar pronta na quarta-feira (11). A partir daí, cabe a Temer tomar uma decisão sobre o caso. A expectativa é que ele delibere sobre isso logo após a entrega da análise jurídica, mas oficialmente não há prazo.  A pasta da Justiça enviou na sexta-feira (6) um parecer próprio ao Planalto, em que afirmava não haver nenhum obstáculo jurídico que impeça a extradição. É a partir desse texto que o documento da SAJ deve ser redigido.  *  CRONOLOGIA O caso Battisti  Década de 1970 Envolve-se com grupos de luta armada de extrema-esquerda  Década de 1980 Foge da Itália e passa a maior parte do tempo no México. É condenado à prisão perpétua pela Justiça italiana, acusado de quatro homicídios  Década de 1990 Se exila em Paris (França), protegido por legislação do governo Mitterrand  2004 Sem Miterrand, França aprova extradição para Itália; foge em direção ao Brasil, onde vive clandestino  2007 É preso no Rio  2009 Ministério da Justiça dá a ele status de refugiado político, mas STF aprova extradição  2010 Lula, então presidente, decide pela permanência de Battisti no Brasil  2011 STF valida decisão de Lula, e Battisti é solto. Governo concede visto de permanência a ele  2015 Juíza da 20ª Vara Federal de Brasília atende a pedido do Ministério Público e determina a deportação de Battisti. A defesa recorre da decisão  2017 Na quarta (4.out), é detido em Corumbá (MS). Consegue habeas corpus na sexta (6.out)   \n",
              "7                                                                                                                                                                                                                                                                                                                                                                                                                                                                                                                                                                                                                                                                                                                                                                                                                                                                                                                                                                                                                                                                                                                                                                                                                                                                                                                                                                                                                                                                                                                                                                                                                                                                  Pela primeira vez desde que assumiu o comando da seleção brasileira há quase 16 meses, o técnico Tite afirmou que já pensou em continuar no cargo após a Copa.  Ele assumiu o posto em junho de 2016 após a demissão de Dunga.  O treinador iniciou o seu trabalho fora da zona de classificação para a Copa do Mundo, mas com uma arrancada surpreendente conseguiu nove vitórias consecutivas e dois empates e obteve a vaga no Mundial com antecipação. O treinador ainda coleciona mais duas vitórias e uma derrota em jogos amistosos.  \"Pensar eu pensei [seguir após Mundial], mas ainda é utopia, temos que crescer muito a mentalidade para esse tipo de coisa acontecer. Temos que evoluir como técnicos, como dirigentes e como formadores de opinião. Eu cobiço o que a Alemanha tem, que consegue deixar tanto tempo um treinador para trabalhar\", afirmou Tite.  Na entrevista, o treinador falou sobre o o duelo contra o Chile, marcado para esta terça-feira (10), às 20h30, no Allianz Parque, pela última rodada das eliminatórias para a Copa do Mundo.  Uma vitória da seleção brasileira pode ajudar a Argentina a se classificar sem a repescagem ao Mundial. O time dirigido por Sampaoli enfrenta o eliminado Equador em Quito.  Atualmente, o Chile ocupa a terceira posição com 26 pontos. Já a Argentina está na sexta posição com 25 pontos. Entre os dois times estão Colômbia, quarta colocada (26 pontos), e o Peru, quinto colocado (25 pontos).  \"Vamos fazer o que é mais importante para nós, para a dignidade de um povo, da imprensa. Não é nada de extraordinário, que é fazer o melhor. Os outros vão colher o fruto do trabalho que fizeram\", disse o treinador.  \"A classificação será determinada com o trabalho feito nos 18 jogos. Não será merecimento por apenas um jogo e sim pela sequência\", completou. .  Tite fará apenas duas mudanças em relação ao time que empatou com a Bolívia. O goleiro Ederson, que terá a primeira oportunidade como titular, entra no lugar de Alisson, enquanto Marquinhos ocupa a vaga de Thiago Silva. Na lateral esquerda, Alex Sandro será mantido.  \"Não posso desestruturar a equipe em demasia. Mexo no goleiro, na lateral [mantém o Alex Sandro] Normalmente são duas mudanças. Se mexer demais, perde a organização, a coordenação e a preparação para o Mundial. Quando começa a mexer nos três setores, essa oportunidade se perde em função da falta de estrutura. Por isso que tomei o cuidado de não mexer excessivamente. Porque aí você vira ''Professor Pardal'', completou.   \n",
              "8                                                                                                                                                                                                                                                                                                                                                                                                                                                                                                                                                                                                                                                                                                                                                                                                                                                                                                                                                                                                                                                                                                                                                                                                                                                                                                                                                                                                                                                                                                                                                                                                                                                                                                                                                                                                                                                                                                                                                                                                                                                                                                                                                                                                                                                                                                                                                                                                                                                                                                                                                                                                                                                                                                            O STF (Supremo Tribunal Federal) negou na quinta-feira (5) um recurso para analisar um pedido de impeachment contra o ministro Gilmar Mendes.  O caso foi levado ao Supremo em janeiro por um grupo de juristas, que entrou com um mandado de segurança contestando decisão do então presidente do Senado, Renan Calheiros (PMDB-AL), que, em setembro de 2016, arquivou um pedido de impeachment contra Gilmar.  Para os juristas, Renan não poderia \"arquivar sumariamente o pedido de impeachment: A) por não ter competência legal para tanto, eis que tal competência é da Mesa do Senado; B) por estar legalmente impedido (por suspeição) de praticar o ato hostilizado\". Segundo eles, o ato deveria ser anulado e reavaliado.  O documento é assinado por Celso Antonio Bandeira de Mello, Fabio Konder Comparato, Sérgio Sérvulo da Cunha, Eny Raimundo Moreira, Roberto Átila Amaral e Alvaro Augusto Ribeiro Costa.  Relator do caso, Edson Fachin negou o pedido do grupo, que recorreu.  Para Fachin, \"embora os impetrantes discordem das conclusões a que chegou o então presidente do Senado, não cabe a esta corte rever seu mérito, apenas verificar a legalidade dos atos e dos procedimentos por ele praticados, no exercício legítimo de sua função constitucional\".  O caso foi julgado no plenário virtual do STF entre os dias 29 de setembro e 5 de outubro.  Gilmar não participou e nem o ministro Marco Aurélio, que se declarou suspeito. Os outros ministros votaram contra o prosseguimento da ação.   \n",
              "9                                                                                                                                                                                                                                                                                                                                                                                                                                                                                                                                                                                                                                                                                                                                                                                                                                                                                                                                                                                                                                                                                                                                                                                                                                                                                                                                                                                                                                                                                                                                                                                                                                                                                                                                                                                                                                                                                                                                                                                     O aplicativo de mensagens instantâneas WhatsApp disponibilizou para download sua versão para negócios anunciada em setembro. Em fase de testes, o serviço está sendo usado por algumas empresas selecionadas por meio de um pré-cadastro no site da empresa.  Com o WhatsApp Business, as companhias podem registrar suas contas com telefones fixos e configurar um perfil público, com verificação semelhante à que já é usada nas redes sociais e informações mais detalhadas do que as previstas hoje no serviço tradicional, como endereço, descrição e site do negócio.  Também é possível estabelecer horários específicos em que o Whatsapp estará ativo e definir uma resposta automática para os clientes.  A ideia é separar os perfis pessoais dos corporativos, que hoje funcionam de maneira \"bastante rudimentar\", como definiu a empresa quando comunicou sobre o lançamento do novo serviço.  Para as grandes companhias, segundo a mesma nota, o WhatsApp quer fazer do aplicativo uma solução para operar em escala - para fornecer notificações sobre horários de voo, no caso das companhias aéreas, por exemplo, confirmações de entrega e outras atualizações.  Em entrevista ao jornal americano The Wall Street Journal logo após o anúncio do novo serviço, o chefe de operações do WhatsApp Matt Idema confirmou que há intenção de cobrar das empresas pelo serviço futuramente, sem dar mais detalhes sobre como isso funcionaria ou quanto custaria.  Executivos da companhia já haviam afirmado que o lançamento de um serviço para empresas fazia parte da estratégia para monetizar o aplicativo.  No Brasil, estão testando o WhatsApp Business companhias como o banco Itaú, que integrou o aplicativo à sua plataforma de atendimento aos clientes do serviço Personalitté Digital, e a companhia aérea holandesa KLM, que disponibilizou o serviço para aqueles que, no momento da reserva ou do check-in feito no site da empresa, selecionarem a opção para receber informações via WhatsApp.  Em julho, o aplicativo, lançado em 2009 e adquirido por US$ 19 milhões pelo Facebook em 2014, comemorou a marca de um bilhão de usuários ativos por dia. Pouco mais de 10% desse total, 120 milhões, estão no Brasil.   \n",
              "\n",
              "         date    category subcategory  \\\n",
              "0  2017-09-10    politica         NaN   \n",
              "1  2017-09-10   ilustrada         NaN   \n",
              "2  2017-09-10    politica         NaN   \n",
              "3  2017-09-10   ilustrada         NaN   \n",
              "4  2017-09-10    economia         NaN   \n",
              "5  2017-09-10       mundo         NaN   \n",
              "6  2017-09-10    politica         NaN   \n",
              "7  2017-09-10     esporte         NaN   \n",
              "8  2017-09-10    politica         NaN   \n",
              "9  2017-09-10  tecnologia         NaN   \n",
              "\n",
              "                                                                                                                                link  \\\n",
              "0     http://www1.folha.uol.com.br/poder/2017/10/1925743-lula-diz-que-esta-lascado-mas-que-ainda-tem-forca-como-cabo-eleitoral.shtml   \n",
              "1  http://www1.folha.uol.com.br/ilustrada/2017/10/1925745-decidi-ser-escrava-das-mulheres-que-sofrem-diz-cantora-oumou-sangare.shtml   \n",
              "2           http://www1.folha.uol.com.br/poder/2017/10/1925789-tres-reportagens-da-folha-ganham-premio-petrobras-de-jornalismo.shtml   \n",
              "3      http://www1.folha.uol.com.br/ilustrada/2017/10/1925733-filme-star-wars-os-ultimos-jedi-ganha-trailer-definitivo-assista.shtml   \n",
              "4   http://www1.folha.uol.com.br/mercado/2017/10/1925723-cbss-inicia-acordos-com-fintechs-e-quer-30-do-credito-digital-em-2018.shtml   \n",
              "5            http://www1.folha.uol.com.br/mundo/2017/10/1925729-em-encontro-bono-pergunta-a-macri-sobre-argentino-desaparecido.shtml   \n",
              "6             http://www1.folha.uol.com.br/poder/2017/10/1925722-posso-sair-do-brasil-quando-e-como-quiser-diz-cesare-battisti.shtml   \n",
              "7              http://www1.folha.uol.com.br/esporte/2017/10/1925734-tite-diz-querer-seguir-na-selecao-apos-o-mundial-da-russia.shtml   \n",
              "8         http://www1.folha.uol.com.br/poder/2017/10/1925731-stf-nega-pedido-para-senado-analisar-impeachment-de-gilmar-mendes.shtml   \n",
              "9     http://www1.folha.uol.com.br/tec/2017/10/1925724-em-teste-whatsapp-business-permite-que-empresas-facam-cadastro-com-fixo.shtml   \n",
              "\n",
              "     fonte  category_nro  \n",
              "0  FolhaSP             0  \n",
              "1  FolhaSP             6  \n",
              "2  FolhaSP             0  \n",
              "3  FolhaSP             6  \n",
              "4  FolhaSP             2  \n",
              "5  FolhaSP             4  \n",
              "6  FolhaSP             0  \n",
              "7  FolhaSP             3  \n",
              "8  FolhaSP             0  \n",
              "9  FolhaSP            11  "
            ]
          },
          "metadata": {
            "tags": []
          },
          "execution_count": 277
        }
      ]
    },
    {
      "cell_type": "code",
      "metadata": {
        "id": "FLcWoQSNkDoI",
        "colab": {
          "base_uri": "https://localhost:8080/"
        },
        "outputId": "25c43b46-d207-4352-ecb0-f006e8379176"
      },
      "source": [
        "df_train, df_test_valid = train_test_split(dfnews_tratadas, train_size = 0.8, random_state = 10)\n",
        "df_valid, df_test = train_test_split(df_test_valid, train_size = 0.5, random_state = 10)\n",
        "print('Treinamento:',df_train.shape)\n",
        "print('Teste:', df_test.shape)\n",
        "print('Valid:', df_valid.shape)"
      ],
      "execution_count": null,
      "outputs": [
        {
          "output_type": "stream",
          "text": [
            "Treinamento: (142583, 8)\n",
            "Teste: (17823, 8)\n",
            "Valid: (17823, 8)\n"
          ],
          "name": "stdout"
        }
      ]
    },
    {
      "cell_type": "code",
      "metadata": {
        "id": "fJbRTSc5zB6m",
        "colab": {
          "base_uri": "https://localhost:8080/"
        },
        "outputId": "890cabd3-3fb7-4bbe-cbb5-107d35df5487"
      },
      "source": [
        "!mkdir amostra_news_integrada\n",
        "df_train.to_csv(path + \"/amostra_news_integrada/train.csv\",header=True,doublequote=True, index=False, quotechar='\"', encoding='utf-8')\n",
        "df_test.to_csv(path + \"/amostra_news_integrada/test.csv\",header=True,doublequote=True, index=False, quotechar='\"', encoding='utf-8')\n",
        "df_valid.to_csv(path + \"/amostra_news_integrada/valid.csv\",header=True,doublequote=True, index=False, quotechar='\"', encoding='utf-8')"
      ],
      "execution_count": null,
      "outputs": [
        {
          "output_type": "stream",
          "text": [
            "mkdir: cannot create directory ‘amostra_news_integrada’: File exists\n"
          ],
          "name": "stdout"
        }
      ]
    },
    {
      "cell_type": "code",
      "metadata": {
        "colab": {
          "base_uri": "https://localhost:8080/"
        },
        "id": "73oENnXURVXR",
        "outputId": "3b27ff70-97c5-490f-ac75-11dd4a22275f"
      },
      "source": [
        "!ls amostra_news_integrada/*.* -lh"
      ],
      "execution_count": null,
      "outputs": [
        {
          "output_type": "stream",
          "text": [
            "-rw------- 1 root root  53M Jul 25 22:33 amostra_news_integrada/test.csv\n",
            "-rw------- 1 root root 416M Jul 25 22:33 amostra_news_integrada/train.csv\n",
            "-rw------- 1 root root  53M Jul 25 22:33 amostra_news_integrada/valid.csv\n"
          ],
          "name": "stdout"
        }
      ]
    }
  ]
}