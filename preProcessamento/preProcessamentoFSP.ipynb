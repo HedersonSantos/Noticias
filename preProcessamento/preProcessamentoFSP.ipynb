{
  "nbformat": 4,
  "nbformat_minor": 0,
  "metadata": {
    "colab": {
      "name": "preProcessamentoFSP.ipynb",
      "provenance": [],
      "collapsed_sections": [],
      "authorship_tag": "ABX9TyOauGlB3F9rhMpemPG9TapD",
      "include_colab_link": true
    },
    "kernelspec": {
      "name": "python3",
      "display_name": "Python 3"
    },
    "language_info": {
      "name": "python"
    }
  },
  "cells": [
    {
      "cell_type": "markdown",
      "metadata": {
        "id": "view-in-github",
        "colab_type": "text"
      },
      "source": [
        "<a href=\"https://colab.research.google.com/github/HedersonSantos/Noticias/blob/main/preProcessamento/preProcessamentoFSP.ipynb\" target=\"_parent\"><img src=\"https://colab.research.google.com/assets/colab-badge.svg\" alt=\"Open In Colab\"/></a>"
      ]
    },
    {
      "cell_type": "code",
      "metadata": {
        "id": "Q07HsC2GS8NZ"
      },
      "source": [
        "import pandas as pd\n",
        "import numpy as np\n",
        "from google.colab import files, drive\n",
        "from pathlib import Path\n",
        "from sklearn.model_selection import train_test_split\n",
        "import io, re\n",
        "pd.set_option('display.max_columns', None)\n",
        "pd.set_option('display.max_rows', None)\n",
        "pd.set_option('max_colwidth', None)"
      ],
      "execution_count": 50,
      "outputs": []
    },
    {
      "cell_type": "markdown",
      "metadata": {
        "id": "ht1KhOAqTcz6"
      },
      "source": [
        "### Montando Google Driver e abrindo arquivos de noticias"
      ]
    },
    {
      "cell_type": "markdown",
      "metadata": {
        "id": "EMhQp7LQfU1q"
      },
      "source": [
        "o arquivo articles.csv contém 167053 noticias da Folha de São Paulo. Este dataset está disponível em .... <br>\n",
        "O arquivo news.csv contém xxx noticias extraídos dos sites UOL, G1, GoogleNews, Poder360 através de web scrapping cujo algoritmo foi montado por nós."
      ]
    },
    {
      "cell_type": "code",
      "metadata": {
        "colab": {
          "base_uri": "https://localhost:8080/"
        },
        "id": "SA5KAl6MTN5z",
        "outputId": "3d26b904-d6b9-4b10-f3a4-eb5a4947cbcb"
      },
      "source": [
        "drive.mount('/gdrive')\n",
        "%cd /gdrive/My\\ Drive/Colab\\ Notebooks/nlp_tcc\n",
        "path = '/gdrive/My Drive/Colab Notebooks/nlp_tcc'\n",
        "KEY='4/1AX4XfWjO8LFULyUVA2hr76Ekj281Rn58ieVYw_BkgE4HYvy9Lf8PJ1W3aOQ'"
      ],
      "execution_count": 51,
      "outputs": [
        {
          "output_type": "stream",
          "text": [
            "Drive already mounted at /gdrive; to attempt to forcibly remount, call drive.mount(\"/gdrive\", force_remount=True).\n",
            "/gdrive/My Drive/Colab Notebooks/nlp_tcc\n"
          ],
          "name": "stdout"
        }
      ]
    },
    {
      "cell_type": "code",
      "metadata": {
        "colab": {
          "base_uri": "https://localhost:8080/"
        },
        "id": "1wCE1tzZB0pR",
        "outputId": "7252541f-020b-4d43-a1a2-fd764a4bcefb"
      },
      "source": [
        "!rm *.zip\n",
        "!ls"
      ],
      "execution_count": 52,
      "outputs": [
        {
          "output_type": "stream",
          "text": [
            "rm: cannot remove '*.zip': No such file or directory\n",
            "articles.csv  news.csv\tnoticia_tratada.csv\n"
          ],
          "name": "stdout"
        }
      ]
    },
    {
      "cell_type": "code",
      "metadata": {
        "id": "7MNdNYYYTybp"
      },
      "source": [
        "#!unzip noticiasFSP.zip\n",
        "#!ls *.csv\n"
      ],
      "execution_count": 53,
      "outputs": []
    },
    {
      "cell_type": "code",
      "metadata": {
        "colab": {
          "base_uri": "https://localhost:8080/"
        },
        "id": "z7s92YzMepOX",
        "outputId": "c9af7ff2-0971-4433-edd6-515668248d9b"
      },
      "source": [
        "!ls *.csv -lh"
      ],
      "execution_count": 54,
      "outputs": [
        {
          "output_type": "stream",
          "text": [
            "-rw------- 1 root root 481M Jul 24 17:03 articles.csv\n",
            "-rw------- 1 root root  93M Jul 24 15:58 news.csv\n",
            "-rw------- 1 root root  93M Jul 24 15:42 noticia_tratada.csv\n"
          ],
          "name": "stdout"
        }
      ]
    },
    {
      "cell_type": "markdown",
      "metadata": {
        "id": "tOGwdFrQhbNe"
      },
      "source": [
        "**Conjunto de Notícias da Folha de São Paulo**"
      ]
    },
    {
      "cell_type": "code",
      "metadata": {
        "colab": {
          "base_uri": "https://localhost:8080/"
        },
        "id": "5uxjH-YneHXp",
        "outputId": "070e3835-d40d-4bf8-a2df-ee250b835f03"
      },
      "source": [
        "dfFSP = pd.read_csv('articles.csv', header=0)\n",
        "print(dfFSP.columns)\n",
        "dfFSP.shape"
      ],
      "execution_count": 55,
      "outputs": [
        {
          "output_type": "stream",
          "text": [
            "Index(['title', 'text', 'date', 'category', 'subcategory', 'link'], dtype='object')\n"
          ],
          "name": "stdout"
        },
        {
          "output_type": "execute_result",
          "data": {
            "text/plain": [
              "(167053, 6)"
            ]
          },
          "metadata": {
            "tags": []
          },
          "execution_count": 55
        }
      ]
    },
    {
      "cell_type": "code",
      "metadata": {
        "colab": {
          "base_uri": "https://localhost:8080/",
          "height": 436
        },
        "id": "Q1PdhjppebTH",
        "outputId": "8f5252ab-93d5-4a48-b0f0-fadd61c37f94"
      },
      "source": [
        "dfFSP.head(1)"
      ],
      "execution_count": 56,
      "outputs": [
        {
          "output_type": "execute_result",
          "data": {
            "text/html": [
              "<div>\n",
              "<style scoped>\n",
              "    .dataframe tbody tr th:only-of-type {\n",
              "        vertical-align: middle;\n",
              "    }\n",
              "\n",
              "    .dataframe tbody tr th {\n",
              "        vertical-align: top;\n",
              "    }\n",
              "\n",
              "    .dataframe thead th {\n",
              "        text-align: right;\n",
              "    }\n",
              "</style>\n",
              "<table border=\"1\" class=\"dataframe\">\n",
              "  <thead>\n",
              "    <tr style=\"text-align: right;\">\n",
              "      <th></th>\n",
              "      <th>title</th>\n",
              "      <th>text</th>\n",
              "      <th>date</th>\n",
              "      <th>category</th>\n",
              "      <th>subcategory</th>\n",
              "      <th>link</th>\n",
              "    </tr>\n",
              "  </thead>\n",
              "  <tbody>\n",
              "    <tr>\n",
              "      <th>0</th>\n",
              "      <td>Lula diz que está 'lascado', mas que ainda tem força como cabo eleitoral</td>\n",
              "      <td>Com a possibilidade de uma condenação impedir sua candidatura em 2018, o ex-presidente Luiz Inácio Lula da Silva fez, nesta segunda (9), um discurso inflamado contra a Lava Jato, no qual disse saber que está \"lascado\", exigiu um pedido de desculpas do juiz Sergio Moro e afirmou que, mesmo fora da disputa pelo Planalto, será um cabo eleitoral expressivo para a sucessão de Michel Temer.  Segundo o petista, réu em sete ações penais, o objetivo de Moro é impedir sua candidatura no ano que vem, desidratando-o, inclusive, no apoio a um nome alternativo, como o do ex-prefeito de São Paulo Fernando Haddad (PT), caso ele não possa concorrer à Presidência.  \"Eu sei que tô lascado, todo dia tem um processo. Eu não quero nem que Moro me absolva, eu só quero que ele peça desculpas\", disse Lula durante um seminário sobre educação em Brasília. \"Eles [investigadores] chegam a dizer: 'Ah, se o Lula não for candidato, ele não vai ter força como cabo eleitoral'. Testem\", completou o petista.  Para o ex-presidente, Moro usou \"mentiras contadas pela Polícia Federal e pelo Ministério Público\" para julgá-lo e condená-lo a nove anos e seis meses de prisão pelo caso do tríplex em Guarujá (SP).  O ex-presidente disse ainda não ter \"medo\" dos investigadores que, de acordo com ele, estão acostumados a \"mexer com deputados e senadores\" que temem as apurações.  \"Eu quero que eles saibam o seguinte: se eles estão acostumados a lidar com deputado que tem medo deles, a mexer com senadores que têm medo deles, quero dizer que tenho respeito profundo por quem me respeita, pelas leis que nós ajudamos a criar, mas não tenho respeito por quem não me respeita e eles não me respeitaram\", afirmou o petista.    De acordo com aliados, Lula não gosta de discutir, mesmo que nos bastidores, a chance de não ser candidato ao Planalto e a projeção do nome de Haddad como plano B do PT tem incomodado os mais próximos ao ex-presidente. O ex-prefeito, que estava no evento nesta segunda, fez um discurso rápido, de menos de dez minutos, em que encerrou dizendo esperar que Lula assuma a Presidência em 2019.  \"Espero que dia 1º de janeiro de 2019 esse pesadelo chamado Temer acabe e o senhor assuma a Presidência da República\", disse Haddad.  'DEMÔNIO DO MERCADO'  Lula voltou a fazer um discurso mais agressivo em relação ao mercado e disse que \"não tem cara de demônio\", mas quer que o respeitem \"como se fosse\".  \"Não tenho cara de demônio, mas quero que eles me respeitem como se eu fosse, porque eles sabem que a economia não vai ficar subordinada ao elitismo da sociedade brasileira\", disse o ex-presidente.  O petista rivalizou ainda com o deputado Jair Bolsonaro (PSC-RJ), segundo colocado nas últimas pesquisas empatado com Marina Silva, e disse que se ele \"agrada ao mercado\", o PT tem que \"desagradar\".  A Folha publicou nesta segunda (9) reportagem em que mostrou que o deputado ensaia movimento ao centro no debate econômico, adotando um discurso simpático aos investidores do mercado financeiro.</td>\n",
              "      <td>2017-09-10</td>\n",
              "      <td>poder</td>\n",
              "      <td>NaN</td>\n",
              "      <td>http://www1.folha.uol.com.br/poder/2017/10/1925743-lula-diz-que-esta-lascado-mas-que-ainda-tem-forca-como-cabo-eleitoral.shtml</td>\n",
              "    </tr>\n",
              "  </tbody>\n",
              "</table>\n",
              "</div>"
            ],
            "text/plain": [
              "                                                                      title  \\\n",
              "0  Lula diz que está 'lascado', mas que ainda tem força como cabo eleitoral   \n",
              "\n",
              "                                                                                                                                                                                                                                                                                                                                                                                                                                                                                                                                                                                                                                                                                                                                                                                                                                                                                                                                                                                                                                                                                                                                                                                                                                                                                                                                                                                                                                                                                                                                                                                                                                                                                                                                                                                                                                                                                                                                                                                                                                                                                                                                                                                                                                                                                                                                                                                                                                                                                                                                                                                                                                                                                                                                                                                                                                                                                                                                                                                                                                                                                                            text  \\\n",
              "0  Com a possibilidade de uma condenação impedir sua candidatura em 2018, o ex-presidente Luiz Inácio Lula da Silva fez, nesta segunda (9), um discurso inflamado contra a Lava Jato, no qual disse saber que está \"lascado\", exigiu um pedido de desculpas do juiz Sergio Moro e afirmou que, mesmo fora da disputa pelo Planalto, será um cabo eleitoral expressivo para a sucessão de Michel Temer.  Segundo o petista, réu em sete ações penais, o objetivo de Moro é impedir sua candidatura no ano que vem, desidratando-o, inclusive, no apoio a um nome alternativo, como o do ex-prefeito de São Paulo Fernando Haddad (PT), caso ele não possa concorrer à Presidência.  \"Eu sei que tô lascado, todo dia tem um processo. Eu não quero nem que Moro me absolva, eu só quero que ele peça desculpas\", disse Lula durante um seminário sobre educação em Brasília. \"Eles [investigadores] chegam a dizer: 'Ah, se o Lula não for candidato, ele não vai ter força como cabo eleitoral'. Testem\", completou o petista.  Para o ex-presidente, Moro usou \"mentiras contadas pela Polícia Federal e pelo Ministério Público\" para julgá-lo e condená-lo a nove anos e seis meses de prisão pelo caso do tríplex em Guarujá (SP).  O ex-presidente disse ainda não ter \"medo\" dos investigadores que, de acordo com ele, estão acostumados a \"mexer com deputados e senadores\" que temem as apurações.  \"Eu quero que eles saibam o seguinte: se eles estão acostumados a lidar com deputado que tem medo deles, a mexer com senadores que têm medo deles, quero dizer que tenho respeito profundo por quem me respeita, pelas leis que nós ajudamos a criar, mas não tenho respeito por quem não me respeita e eles não me respeitaram\", afirmou o petista.    De acordo com aliados, Lula não gosta de discutir, mesmo que nos bastidores, a chance de não ser candidato ao Planalto e a projeção do nome de Haddad como plano B do PT tem incomodado os mais próximos ao ex-presidente. O ex-prefeito, que estava no evento nesta segunda, fez um discurso rápido, de menos de dez minutos, em que encerrou dizendo esperar que Lula assuma a Presidência em 2019.  \"Espero que dia 1º de janeiro de 2019 esse pesadelo chamado Temer acabe e o senhor assuma a Presidência da República\", disse Haddad.  'DEMÔNIO DO MERCADO'  Lula voltou a fazer um discurso mais agressivo em relação ao mercado e disse que \"não tem cara de demônio\", mas quer que o respeitem \"como se fosse\".  \"Não tenho cara de demônio, mas quero que eles me respeitem como se eu fosse, porque eles sabem que a economia não vai ficar subordinada ao elitismo da sociedade brasileira\", disse o ex-presidente.  O petista rivalizou ainda com o deputado Jair Bolsonaro (PSC-RJ), segundo colocado nas últimas pesquisas empatado com Marina Silva, e disse que se ele \"agrada ao mercado\", o PT tem que \"desagradar\".  A Folha publicou nesta segunda (9) reportagem em que mostrou que o deputado ensaia movimento ao centro no debate econômico, adotando um discurso simpático aos investidores do mercado financeiro.   \n",
              "\n",
              "         date category subcategory  \\\n",
              "0  2017-09-10    poder         NaN   \n",
              "\n",
              "                                                                                                                             link  \n",
              "0  http://www1.folha.uol.com.br/poder/2017/10/1925743-lula-diz-que-esta-lascado-mas-que-ainda-tem-forca-como-cabo-eleitoral.shtml  "
            ]
          },
          "metadata": {
            "tags": []
          },
          "execution_count": 56
        }
      ]
    },
    {
      "cell_type": "markdown",
      "metadata": {
        "id": "Rg0ifeCNhrHu"
      },
      "source": [
        "**Quantidade de noticias por categoria**"
      ]
    },
    {
      "cell_type": "code",
      "metadata": {
        "id": "I4AFC0MSfGzP"
      },
      "source": [
        "#['title', 'text', 'date', 'category', 'subcategory', 'link'\n",
        "categoriaFSP = dfFSP.groupby(['category'])['link'].count().reset_index().sort_values(by = 'link', ascending=False)"
      ],
      "execution_count": 57,
      "outputs": []
    },
    {
      "cell_type": "markdown",
      "metadata": {
        "id": "urz3dmz2iKOz"
      },
      "source": [
        "**Conjunto de Notícias da nossa base de dados**"
      ]
    },
    {
      "cell_type": "code",
      "metadata": {
        "colab": {
          "base_uri": "https://localhost:8080/"
        },
        "id": "_43R0jQBiESU",
        "outputId": "fa7d11d0-aafe-4d23-a9d2-7bd5df10b066"
      },
      "source": [
        "dfNews = pd.read_csv('news.csv', header=0)\n",
        "print(dfNews.columns)\n",
        "dfNews.shape"
      ],
      "execution_count": 58,
      "outputs": [
        {
          "output_type": "stream",
          "text": [
            "Index(['FONTE', 'CATEGORIA', 'TEXTO', 'URL', 'PUBLISHEDAT', 'TITLE', 'AUTHOR',\n",
            "       'DT_REGISTRO', 'TEXT_TRATADO'],\n",
            "      dtype='object')\n"
          ],
          "name": "stdout"
        },
        {
          "output_type": "execute_result",
          "data": {
            "text/plain": [
              "(11176, 9)"
            ]
          },
          "metadata": {
            "tags": []
          },
          "execution_count": 58
        }
      ]
    },
    {
      "cell_type": "code",
      "metadata": {
        "id": "G3fgFvzpi7CR"
      },
      "source": [
        "'''tornando o nome das colunas dos dois datasets iguais '''\n",
        "dfNews = dfNews.rename(columns={'CATEGORIA':'category',\n",
        "                       'URL':'link',\n",
        "                       'PUBLISHEDAT':'date',\n",
        "                       'TITLE':'title',\n",
        "                       'TEXT_TRATADO':'text',\n",
        "                       'FONTE':'fonte'}).copy()\n",
        "dfNews = dfNews[['title', 'text', 'date', 'category', 'link','fonte']]\n",
        "\n",
        "\n",
        "    "
      ],
      "execution_count": 59,
      "outputs": []
    },
    {
      "cell_type": "code",
      "metadata": {
        "colab": {
          "base_uri": "https://localhost:8080/",
          "height": 273
        },
        "id": "SBxDFO9NlAUd",
        "outputId": "a79e26db-e454-4f2c-9345-edc932adcf2d"
      },
      "source": [
        "dfNews.head(1)"
      ],
      "execution_count": 60,
      "outputs": [
        {
          "output_type": "execute_result",
          "data": {
            "text/html": [
              "<div>\n",
              "<style scoped>\n",
              "    .dataframe tbody tr th:only-of-type {\n",
              "        vertical-align: middle;\n",
              "    }\n",
              "\n",
              "    .dataframe tbody tr th {\n",
              "        vertical-align: top;\n",
              "    }\n",
              "\n",
              "    .dataframe thead th {\n",
              "        text-align: right;\n",
              "    }\n",
              "</style>\n",
              "<table border=\"1\" class=\"dataframe\">\n",
              "  <thead>\n",
              "    <tr style=\"text-align: right;\">\n",
              "      <th></th>\n",
              "      <th>title</th>\n",
              "      <th>text</th>\n",
              "      <th>date</th>\n",
              "      <th>category</th>\n",
              "      <th>link</th>\n",
              "      <th>fonte</th>\n",
              "    </tr>\n",
              "  </thead>\n",
              "  <tbody>\n",
              "    <tr>\n",
              "      <th>0</th>\n",
              "      <td>Putin não espera \"grandes avanços\" em cúpula com Biden</td>\n",
              "      <td>Em entrevista para as principais agências de notícias internacionais, incluindo a Efe, Putin enfatizou que os dois países, apesar das discordâncias, têm interesses em comum e que ele está confiante que a cúpula com Biden será construtiva.\\nEntre as áreas de interesse comum, o chefe do Kremlin citou a solução de problemas ambientais, segurança estratégica e a dissolução de uma série de crises regionais.\\n\"Isso é muito importante, porque tem a ver com a segurança de nossos países\", afirmou Putin, além de destacar, por exemplo, que a crise no Oriente Médio \"leva ao crescimento do terrorismo\".\\n\"(Isso é) muito perigoso para todos, para os Estados Unidos, para a Rússia, para a Europa, para outras regiões do mundo\", acrescentou.\\nPutin enfatizou a importância da segurança estratégica e garantiu que a Rússia não quer \"assustar ninguém\" com seus novos armamentos.\\n\"Sim, estamos desenvolvendo esses armamentos e conseguimos certos resultados\", disse o mandatário, para quem a Rússia está um passo \"à frente\" de outros países.\\nEle também admitiu que os Estados Unidos e outras potências logo alcançarão resultados semelhantes, e portanto \"é melhor pensar em como vamos viver juntos\".\\n\\nO Conselho Tutelar de\\nIvaiporã foi acionado por volta das 12h30 de sexta-feira (4) para acompanhar\\nalgumas...\\nO sábado (5) começa com tempo estável nas regiões paranaenses. Ao amanhecer, Apucarana e Arapongas registraram...\\nO Senado vai analisar a Medida Provisória 1.034/2021, que aumenta a tributação de instituições financeiras O texto \\nEm meio à pandemia da Covid-19, especialistas apontam que a menor frequência nos parques públicos pode estar...\\nA Empresa de Limpeza Urbana de Salvador (Limpurb) fará uma série de ações até 11 de junho como parte da campanha...\\nOs ministros das Finanças do G7 esperam anunciar um acordo neste sábado (5) sobre um imposto mínimo global e uma...</td>\n",
              "      <td>2021-06-05T03:00:00Z</td>\n",
              "      <td>mundo</td>\n",
              "      <td>https://noticias.uol.com.br/ultimas-noticias/efe/2021/06/05/putin-nao-espera-grandes-avancos-em-cupula-com-biden.htm</td>\n",
              "      <td>UOL</td>\n",
              "    </tr>\n",
              "  </tbody>\n",
              "</table>\n",
              "</div>"
            ],
            "text/plain": [
              "                                                    title  \\\n",
              "0  Putin não espera \"grandes avanços\" em cúpula com Biden   \n",
              "\n",
              "                                                                                                                                                                                                                                                                                                                                                                                                                                                                                                                                                                                                                                                                                                                                                                                                                                                                                                                                                                                                                                                                                                                                                                                                                                                                                                                                                                                                                                                                                                                                                                                                                                                                                                                                                                                                                                                                                                                                                        text  \\\n",
              "0  Em entrevista para as principais agências de notícias internacionais, incluindo a Efe, Putin enfatizou que os dois países, apesar das discordâncias, têm interesses em comum e que ele está confiante que a cúpula com Biden será construtiva.\\nEntre as áreas de interesse comum, o chefe do Kremlin citou a solução de problemas ambientais, segurança estratégica e a dissolução de uma série de crises regionais.\\n\"Isso é muito importante, porque tem a ver com a segurança de nossos países\", afirmou Putin, além de destacar, por exemplo, que a crise no Oriente Médio \"leva ao crescimento do terrorismo\".\\n\"(Isso é) muito perigoso para todos, para os Estados Unidos, para a Rússia, para a Europa, para outras regiões do mundo\", acrescentou.\\nPutin enfatizou a importância da segurança estratégica e garantiu que a Rússia não quer \"assustar ninguém\" com seus novos armamentos.\\n\"Sim, estamos desenvolvendo esses armamentos e conseguimos certos resultados\", disse o mandatário, para quem a Rússia está um passo \"à frente\" de outros países.\\nEle também admitiu que os Estados Unidos e outras potências logo alcançarão resultados semelhantes, e portanto \"é melhor pensar em como vamos viver juntos\".\\n\\nO Conselho Tutelar de\\nIvaiporã foi acionado por volta das 12h30 de sexta-feira (4) para acompanhar\\nalgumas...\\nO sábado (5) começa com tempo estável nas regiões paranaenses. Ao amanhecer, Apucarana e Arapongas registraram...\\nO Senado vai analisar a Medida Provisória 1.034/2021, que aumenta a tributação de instituições financeiras O texto \\nEm meio à pandemia da Covid-19, especialistas apontam que a menor frequência nos parques públicos pode estar...\\nA Empresa de Limpeza Urbana de Salvador (Limpurb) fará uma série de ações até 11 de junho como parte da campanha...\\nOs ministros das Finanças do G7 esperam anunciar um acordo neste sábado (5) sobre um imposto mínimo global e uma...   \n",
              "\n",
              "                   date category  \\\n",
              "0  2021-06-05T03:00:00Z    mundo   \n",
              "\n",
              "                                                                                                                   link  \\\n",
              "0  https://noticias.uol.com.br/ultimas-noticias/efe/2021/06/05/putin-nao-espera-grandes-avancos-em-cupula-com-biden.htm   \n",
              "\n",
              "  fonte  \n",
              "0   UOL  "
            ]
          },
          "metadata": {
            "tags": []
          },
          "execution_count": 60
        }
      ]
    },
    {
      "cell_type": "code",
      "metadata": {
        "id": "WxvvbTjBivKl"
      },
      "source": [
        "categoriaNossa = dfNews.groupby(['category'])['link'].count().reset_index().sort_values(by = 'link', ascending=False)"
      ],
      "execution_count": 61,
      "outputs": []
    },
    {
      "cell_type": "markdown",
      "metadata": {
        "id": "Ni1IVHngnuu5"
      },
      "source": [
        "### Integrando as duas bases de dados de noticias"
      ]
    },
    {
      "cell_type": "code",
      "metadata": {
        "colab": {
          "base_uri": "https://localhost:8080/"
        },
        "id": "DB_DKkiOst49",
        "outputId": "b56f0865-01b3-4383-f7a5-617a01661aa3"
      },
      "source": [
        "dfFSP['fonte']='FolhaSP'\n",
        "dfnoticias = pd.concat([dfFSP,dfNews],sort=False)\n",
        "dfnoticias.shape"
      ],
      "execution_count": 62,
      "outputs": [
        {
          "output_type": "execute_result",
          "data": {
            "text/plain": [
              "(178229, 7)"
            ]
          },
          "metadata": {
            "tags": []
          },
          "execution_count": 62
        }
      ]
    },
    {
      "cell_type": "code",
      "metadata": {
        "colab": {
          "base_uri": "https://localhost:8080/"
        },
        "id": "F4UY4Qi4uzSM",
        "outputId": "50c462f2-b4ec-429a-c48d-72e30f9fc25b"
      },
      "source": [
        "dfnoticias['fonte'].value_counts()"
      ],
      "execution_count": 63,
      "outputs": [
        {
          "output_type": "execute_result",
          "data": {
            "text/plain": [
              "FolhaSP           167053\n",
              "UOL                 4034\n",
              "google-news-br      2089\n",
              "Poder360            1448\n",
              "Notícias da TV      1262\n",
              "Name: fonte, dtype: int64"
            ]
          },
          "metadata": {
            "tags": []
          },
          "execution_count": 63
        }
      ]
    },
    {
      "cell_type": "code",
      "metadata": {
        "id": "kosIxvRXnq6o"
      },
      "source": [
        "deParaCategorias = pd.merge(categoriaFSP[['category','link']], categoriaNossa, on=['category'], how='outer')"
      ],
      "execution_count": 64,
      "outputs": []
    },
    {
      "cell_type": "markdown",
      "metadata": {
        "id": "cTLODU2psI8H"
      },
      "source": [
        "**Categorias com mesmo nome nos dois conjunto de dados**"
      ]
    },
    {
      "cell_type": "code",
      "metadata": {
        "colab": {
          "base_uri": "https://localhost:8080/",
          "height": 200
        },
        "id": "2s3P9H1doxO4",
        "outputId": "b0182e02-8260-4024-ec55-16227658a2f3"
      },
      "source": [
        "deParaCategorias[(~deParaCategorias['link_x'].isnull()) & (~deParaCategorias['link_y'].isnull()) ]"
      ],
      "execution_count": 65,
      "outputs": [
        {
          "output_type": "execute_result",
          "data": {
            "text/html": [
              "<div>\n",
              "<style scoped>\n",
              "    .dataframe tbody tr th:only-of-type {\n",
              "        vertical-align: middle;\n",
              "    }\n",
              "\n",
              "    .dataframe tbody tr th {\n",
              "        vertical-align: top;\n",
              "    }\n",
              "\n",
              "    .dataframe thead th {\n",
              "        text-align: right;\n",
              "    }\n",
              "</style>\n",
              "<table border=\"1\" class=\"dataframe\">\n",
              "  <thead>\n",
              "    <tr style=\"text-align: right;\">\n",
              "      <th></th>\n",
              "      <th>category</th>\n",
              "      <th>link_x</th>\n",
              "      <th>link_y</th>\n",
              "    </tr>\n",
              "  </thead>\n",
              "  <tbody>\n",
              "    <tr>\n",
              "      <th>1</th>\n",
              "      <td>colunas</td>\n",
              "      <td>21622.0</td>\n",
              "      <td>263.0</td>\n",
              "    </tr>\n",
              "    <tr>\n",
              "      <th>3</th>\n",
              "      <td>esporte</td>\n",
              "      <td>19730.0</td>\n",
              "      <td>590.0</td>\n",
              "    </tr>\n",
              "    <tr>\n",
              "      <th>4</th>\n",
              "      <td>mundo</td>\n",
              "      <td>17130.0</td>\n",
              "      <td>1251.0</td>\n",
              "    </tr>\n",
              "    <tr>\n",
              "      <th>5</th>\n",
              "      <td>cotidiano</td>\n",
              "      <td>16967.0</td>\n",
              "      <td>77.0</td>\n",
              "    </tr>\n",
              "    <tr>\n",
              "      <th>12</th>\n",
              "      <td>educacao</td>\n",
              "      <td>2118.0</td>\n",
              "      <td>27.0</td>\n",
              "    </tr>\n",
              "  </tbody>\n",
              "</table>\n",
              "</div>"
            ],
            "text/plain": [
              "     category   link_x  link_y\n",
              "1     colunas  21622.0   263.0\n",
              "3     esporte  19730.0   590.0\n",
              "4       mundo  17130.0  1251.0\n",
              "5   cotidiano  16967.0    77.0\n",
              "12   educacao   2118.0    27.0"
            ]
          },
          "metadata": {
            "tags": []
          },
          "execution_count": 65
        }
      ]
    },
    {
      "cell_type": "markdown",
      "metadata": {
        "id": "vTBdwIcDsYxr"
      },
      "source": [
        "**Categorias que estão no nosso dataset e não estão no dataset da FSP**"
      ]
    },
    {
      "cell_type": "code",
      "metadata": {
        "colab": {
          "base_uri": "https://localhost:8080/",
          "height": 100
        },
        "id": "IdHC0OQXskeL",
        "outputId": "f27d8b10-8758-4f5a-e321-0d01f48960b8"
      },
      "source": [
        "str(deParaCategorias[(deParaCategorias['link_x'].isnull()) ]['category'].tolist())"
      ],
      "execution_count": 66,
      "outputs": [
        {
          "output_type": "execute_result",
          "data": {
            "application/vnd.google.colaboratory.intrinsic+json": {
              "type": "string"
            },
            "text/plain": [
              "\"['midia', 'local', 'politica', 'novelas', 'miscelanea', 'saude', 'economia', 'brasil', 'coronavirus', 'justica', 'celebridades', 'tecnologia', 'fantastico', 'meio-ambiente', 'podcast', 'eleicoes', 'loterias', 'casos-de-policia', 'olimpiadas', 'pesquisas', 'confere', 'enem', 'carros', 'agronegocios', 'pme', 'mais', 'tilt, reuters', 'portuguese', 'legislacao', 'atitude', 'internet', 'coluna', 'especiais', 'start', 'sociedade, educacao', 'realities', 'programas, 3-em-1', 'comprova', 'pix', 'combate', 'transito', 'nieman', 'motor', 'inovacao', 'historia', 'nossa', 'carros, colunas', 'boxe', 'tilt, estado', 'brics', 'mais, levante', 'sociedade, epoca', 'saude, estado', 'eurocopa', 'rio, rio', 'golfe', 'programas', 'carros, colunas, infomoto', 'justica, 3-dos-ex-pms-levados-por-salles-para-ministerio-foram-afastados-pelo-stf', 'exercito', 'diplomacia', 'redacao']\""
            ]
          },
          "metadata": {
            "tags": []
          },
          "execution_count": 66
        }
      ]
    },
    {
      "cell_type": "code",
      "metadata": {
        "colab": {
          "base_uri": "https://localhost:8080/",
          "height": 83
        },
        "id": "CAprcExsudGq",
        "outputId": "244e9091-5986-4ba5-c4c4-c030c863fe09"
      },
      "source": [
        "str(categoriaFSP['category'].tolist())"
      ],
      "execution_count": 67,
      "outputs": [
        {
          "output_type": "execute_result",
          "data": {
            "application/vnd.google.colaboratory.intrinsic+json": {
              "type": "string"
            },
            "text/plain": [
              "\"['poder', 'colunas', 'mercado', 'esporte', 'mundo', 'cotidiano', 'ilustrada', 'opiniao', 'paineldoleitor', 'saopaulo', 'tec', 'tv', 'educacao', 'turismo', 'ilustrissima', 'ciencia', 'equilibrioesaude', 'sobretudo', 'bbc', 'folhinha', 'empreendedorsocial', 'comida', 'asmais', 'ambiente', 'seminariosfolha', 'serafina', 'o-melhor-de-sao-paulo', 'vice', 'guia-de-livros-discos-filmes', 'topofmind', 'banco-de-dados', 'dw', 'especial', 'infograficos', 'cenarios-2017', 'rfi', 'guia-de-livros-filmes-discos', 'multimidia', 'treinamento', 'treinamentocienciaesaude', 'mulher', 'euronews', 'ombudsman', 'contas-de-casa', '2016', 'bichos', 'musica', '2015']\""
            ]
          },
          "metadata": {
            "tags": []
          },
          "execution_count": 67
        }
      ]
    },
    {
      "cell_type": "markdown",
      "metadata": {
        "id": "O0Z2A5HGvDqU"
      },
      "source": [
        "DE/PARA de categorias.\n",
        "\n",
        "nossa             FSP<br>\n",
        "midia      <--    tv, multimidia, novelas, celebridades   <br>\n",
        "local      <--    'saopaulo', 'o-melhor-de-sao-paulo' <br>\n",
        "politica      <--    poder <br>\n",
        "miscelanea -->     <br>\n",
        "saude      <--   equilibrioesaude <br>\n",
        "economia   <--   mercado <br>\n",
        "brasil                   <br>\n",
        "olimpiadas -->  esporte <br>\n",
        "tecnologia  <-- tec,'banco-de-dados', 'dw'  <br>\n",
        "meio-ambiente <-- ambiente <br>\n",
        "enem --> educacao\n",
        "\n",
        "\n",
        "\n",
        "\n",
        "\n",
        "\n"
      ]
    },
    {
      "cell_type": "code",
      "metadata": {
        "id": "oPwyitA387tp"
      },
      "source": [
        "dfnoticias['category'] = dfnoticias.loc[:,['category']].apply(lambda x: 'midia' if x['category'] in ['tv', 'multimidia', 'novelas', 'celebridades'] else \n",
        "                                                                        'local' if x['category'] in [ 'saopaulo', 'o-melhor-de-sao-paulo'] else \n",
        "                                                                        'politica' if x['category'] in ['poder'] else\n",
        "                                                                        'saude' if x['category'] in ['equilibrioesaude'] else \n",
        "                                                                        'economia' if x['category'] in ['mercado'] else\n",
        "                                                                        'esporte' if x['category'] in ['olimpiadas'] else\n",
        "                                                                        'tecnologia' if x['category'] in [ 'tec','banco-de-dados', 'dw'] else\n",
        "                                                                        'meio-ambiente' if x['category'] in [ 'ambiente'] else \n",
        "                                                                        'educacao' if x['category'] in ['enem'] else\n",
        "                                                                        x['category'], axis=1)\n"
      ],
      "execution_count": 68,
      "outputs": []
    },
    {
      "cell_type": "markdown",
      "metadata": {
        "id": "vGVPiswwAfGg"
      },
      "source": [
        "**Quantitativo de noticias por categoria**"
      ]
    },
    {
      "cell_type": "code",
      "metadata": {
        "colab": {
          "base_uri": "https://localhost:8080/"
        },
        "id": "MRiD9tmGACgL",
        "outputId": "3342b4af-9272-4e84-8a9c-cb83cc7fa8a4"
      },
      "source": [
        "dfnoticias['category'].value_counts()"
      ],
      "execution_count": 69,
      "outputs": [
        {
          "output_type": "execute_result",
          "data": {
            "text/plain": [
              "politica                                                                             23499\n",
              "colunas                                                                              21885\n",
              "economia                                                                             21476\n",
              "esporte                                                                              20331\n",
              "mundo                                                                                18381\n",
              "cotidiano                                                                            17044\n",
              "ilustrada                                                                            16345\n",
              "local                                                                                 5628\n",
              "midia                                                                                 4817\n",
              "opiniao                                                                               4525\n",
              "paineldoleitor                                                                        4011\n",
              "tecnologia                                                                            2458\n",
              "educacao                                                                              2150\n",
              "saude                                                                                 1910\n",
              "turismo                                                                               1903\n",
              "ilustrissima                                                                          1411\n",
              "ciencia                                                                               1335\n",
              "sobretudo                                                                             1057\n",
              "bbc                                                                                    980\n",
              "folhinha                                                                               876\n",
              "empreendedorsocial                                                                     841\n",
              "comida                                                                                 828\n",
              "miscelanea                                                                             768\n",
              "meio-ambiente                                                                          563\n",
              "asmais                                                                                 548\n",
              "brasil                                                                                 444\n",
              "seminariosfolha                                                                        379\n",
              "coronavirus                                                                            348\n",
              "serafina                                                                               334\n",
              "justica                                                                                205\n",
              "vice                                                                                   146\n",
              "guia-de-livros-discos-filmes                                                           143\n",
              "topofmind                                                                               86\n",
              "fantastico                                                                              79\n",
              "podcast                                                                                 51\n",
              "eleicoes                                                                                47\n",
              "especial                                                                                43\n",
              "infograficos                                                                            43\n",
              "cenarios-2017                                                                           43\n",
              "rfi                                                                                     29\n",
              "loterias                                                                                29\n",
              "guia-de-livros-filmes-discos                                                            28\n",
              "treinamento                                                                             21\n",
              "treinamentocienciaesaude                                                                18\n",
              "mulher                                                                                  16\n",
              "casos-de-policia                                                                        14\n",
              "pesquisas                                                                                8\n",
              "euronews                                                                                 8\n",
              "confere                                                                                  7\n",
              "carros                                                                                   5\n",
              "agronegocios                                                                             5\n",
              "tilt, reuters                                                                            4\n",
              "pme                                                                                      4\n",
              "mais                                                                                     4\n",
              "atitude                                                                                  3\n",
              "internet                                                                                 3\n",
              "coluna                                                                                   3\n",
              "portuguese                                                                               3\n",
              "ombudsman                                                                                3\n",
              "legislacao                                                                               3\n",
              "nieman                                                                                   2\n",
              "combate                                                                                  2\n",
              "motor                                                                                    2\n",
              "start                                                                                    2\n",
              "sociedade, educacao                                                                      2\n",
              "comprova                                                                                 2\n",
              "realities                                                                                2\n",
              "contas-de-casa                                                                           2\n",
              "especiais                                                                                2\n",
              "historia                                                                                 2\n",
              "pix                                                                                      2\n",
              "inovacao                                                                                 2\n",
              "nossa                                                                                    2\n",
              "programas, 3-em-1                                                                        2\n",
              "transito                                                                                 2\n",
              "eurocopa                                                                                 1\n",
              "2016                                                                                     1\n",
              "sociedade, epoca                                                                         1\n",
              "diplomacia                                                                               1\n",
              "mais, levante                                                                            1\n",
              "boxe                                                                                     1\n",
              "brics                                                                                    1\n",
              "carros, colunas, infomoto                                                                1\n",
              "bichos                                                                                   1\n",
              "musica                                                                                   1\n",
              "redacao                                                                                  1\n",
              "saude, estado                                                                            1\n",
              "carros, colunas                                                                          1\n",
              "tilt, estado                                                                             1\n",
              "programas                                                                                1\n",
              "golfe                                                                                    1\n",
              "justica, 3-dos-ex-pms-levados-por-salles-para-ministerio-foram-afastados-pelo-stf        1\n",
              "exercito                                                                                 1\n",
              "rio, rio                                                                                 1\n",
              "2015                                                                                     1\n",
              "Name: category, dtype: int64"
            ]
          },
          "metadata": {
            "tags": []
          },
          "execution_count": 69
        }
      ]
    },
    {
      "cell_type": "code",
      "metadata": {
        "id": "IF4xWrdoErcI"
      },
      "source": [
        "##extraindo links de outras noticias no texto da noticial principal do uol\n",
        "dfnews_tratadas = dfnoticias.copy()\n",
        "for index, row in dfnews_tratadas[dfnews_tratadas['fonte']=='UOL'][['fonte','category','text','link']].iterrows():\n",
        "  if '...' in str(row['text']):\n",
        "    for match in re.finditer(r'(?s)((?:[^\\n][\\n]?)+)', row['text']):\n",
        "      if not ('...' in str(row['text'])[match.start(): match.end()]):\n",
        "        dfnews_tratadas.loc[dfnews_tratadas['link']==row['link'],['text']]=row['text'][match.start(): match.end()]\n"
      ],
      "execution_count": 128,
      "outputs": []
    },
    {
      "cell_type": "code",
      "metadata": {
        "id": "V2L6RActzC4A"
      },
      "source": [
        "#dfnews_tratadas = dfnoticias.copy()\n",
        "for index, row in dfnews_tratadas[dfnews_tratadas['fonte']=='UOL'].iterrows():\n",
        "  #dfnews_tratadas[dfnews_tratadas['link']=='https://noticias.uol.com.br/ultimas-noticias/agencia-brasil/2021/05/31/agencia-brasil-explica-o-que-sao-commodities.htm'].iterrows():\n",
        "  if '...' in str(row['text']):\n",
        "    texto=''\n",
        "    for match in re.finditer(r'((?:[^\\n][\\.]?)+)', row['text']):\n",
        "      if not ('...' in str(row['text'])[match.start(): match.end()]):\n",
        "        texto+=str(row['text'])[match.start(): match.end()] + '\\n'\n",
        "      else:  \n",
        "        break\n",
        "    dfnews_tratadas.loc[dfnews_tratadas['link']==row['link'],['text']]=texto\n",
        "\n"
      ],
      "execution_count": 129,
      "outputs": []
    },
    {
      "cell_type": "code",
      "metadata": {
        "id": "NEbOvXh6EChh"
      },
      "source": [
        "for index, row in dfnews_tratadas[(dfnews_tratadas['fonte']=='UOL')&(dfnews_tratadas['text'].str.contains('Já assistiu aos nossos novos vídeos no YouTube'))].iterrows():\n",
        "  for match in re.finditer(r'(Leia outras reportagens da série aqui)|(Já assistiu aos nossos novos vídeos no YouTube)', row['text']):\n",
        "    dfnews_tratadas.loc[dfnews_tratadas['link']==row['link'],['text']]=str(row['text'])[0: match.start()]\n",
        "    break\n",
        "  \n",
        "  \n",
        "  \n"
      ],
      "execution_count": 196,
      "outputs": []
    },
    {
      "cell_type": "code",
      "metadata": {
        "colab": {
          "base_uri": "https://localhost:8080/"
        },
        "id": "sSG5NwdDQwzq",
        "outputId": "4cd3feaa-08b3-4892-fdda-8be959fafd79"
      },
      "source": [
        " for i, r in dfnews_tratadas[dfnews_tratadas['fonte']=='UOL'].iterrows():\n",
        "   if i>=0:\n",
        "    #dfnews_tratadas[dfnews_tratadas['link']=='https://noticias.uol.com.br/ultimas-noticias/agencia-brasil/2021/05/25/selecao-feminina-pega-o-canada-na-estreia-da-liga-das-nacoes.htm'].iterrows():\n",
        "    #dfnews_tratadas[dfnews_tratadas['fonte']=='UOL'].iterrows():\n",
        "    print(r['link'])\n",
        "    print(r['text'])\n",
        "   \n",
        "   if i >20:\n",
        "     break\n"
      ],
      "execution_count": 197,
      "outputs": [
        {
          "output_type": "stream",
          "text": [
            "https://noticias.uol.com.br/ultimas-noticias/efe/2021/06/05/putin-nao-espera-grandes-avancos-em-cupula-com-biden.htm\n",
            "Em entrevista para as principais agências de notícias internacionais, incluindo a Efe, Putin enfatizou que os dois países, apesar das discordâncias, têm interesses em comum e que ele está confiante que a cúpula com Biden será construtiva.\n",
            "Entre as áreas de interesse comum, o chefe do Kremlin citou a solução de problemas ambientais, segurança estratégica e a dissolução de uma série de crises regionais.\n",
            "\"Isso é muito importante, porque tem a ver com a segurança de nossos países\", afirmou Putin, além de destacar, por exemplo, que a crise no Oriente Médio \"leva ao crescimento do terrorismo\".\n",
            "\"(Isso é) muito perigoso para todos, para os Estados Unidos, para a Rússia, para a Europa, para outras regiões do mundo\", acrescentou.\n",
            "Putin enfatizou a importância da segurança estratégica e garantiu que a Rússia não quer \"assustar ninguém\" com seus novos armamentos.\n",
            "\"Sim, estamos desenvolvendo esses armamentos e conseguimos certos resultados\", disse o mandatário, para quem a Rússia está um passo \"à frente\" de outros países.\n",
            "Ele também admitiu que os Estados Unidos e outras potências logo alcançarão resultados semelhantes, e portanto \"é melhor pensar em como vamos viver juntos\".\n",
            "\n",
            "https://noticias.uol.com.br/cotidiano/ultimas-noticias/2021/06/06/lgbtqia-mes-do-orgulho.htm\n",
            "No país que mais mata pessoas transexuais e travestis no mundo e onde ser LGBTQIA+ é um risco diário de violência, celebrar o orgulho é comemorar a sobrevivência. Essa é a mensagem de quem o celebra este ano. \"Orgulho sim, para chegar até aqui tive que sobreviver\", escreve um internauta.\n",
            "Sem poder sair às ruas para celebrar na maior parada do orgulho LGBTQIA+ do mundo, as redes viraram o espaço para comemorar e compartilhar as histórias de orgulho e também de luta. Seja com fotos, mensagens ou montagens de look, internautas repetem o feito do ano passado de tornar a parada o assunto mais comentado da internet.\n",
            "Celebrada todos os anos na Avenida Paulista, a Parada LGBT de São Paulo acontece on-line pelo segundo ano seguido devido à pandemia da covid-19. Embora já seja um motivo para comemoração em si mesma, a parada desse ano é especial: são 25 anos lembrando que há diversas cores no arco-íris e todas exigem respeito.\n",
            "Entre os assuntos mais comentados hoje no Twitter, a hashtag \"OrgulhoLGBT\" reúne histórias de casais que se casaram graças à luta pelo reconhecimento da união de casais do mesmo sexo no Brasil, ocorrido apenas em 2011. Convida às pessoas a terem orgulho de sua identidade de gênero e sexualidade e chama atenção para os assuntos que ainda precisam avançar no país, como combate à homofobia e estigmatização.\n",
            "Uma vez alguém me disse: \"não diga que tem orgulho de ser gay\". Eu bati no peito e falei: \"orgulho sim, pra chegar até aqui tive que sobreviver.\" E sobrevivi!Os intolerantes que aguentem, jamais deixarei de dizer: ORGULHO!#ParadaSPaoVivo #orgulholgbt\n",
            "O arco-íris se forma entre a chuva e o sol e eu noto que sou meio isso, um gradiente colorido em meio a uma tormenta social. Sou livre para ser quem sou e quero mais gente livre: para amar e ser amado (por quem vale a pena!).#ParadaSPaoVivo #orgulholgbt #LGBTQIA pic.twitter.com/WPXJpDUhBr\n",
            "ja faz 1 ano que \"me assumi\" e ate hoje não me sinto confortável em minha família saber disso.#OrgulhoLGBT\n",
            "As vezes menino as vezes menina depende do diaViva o #OrgulhoLGBT#ParadaSPaoVivo pic.twitter.com/PjCXlOWu5X\n",
            "Uma maquiagem bem Lgbt, bem diversidade #ParadaSPaoVivo pic.twitter.com/e6Wy3GClQt\n",
            "\n",
            "https://noticias.uol.com.br/ultimas-noticias/agencia-brasil/2021/05/25/selecao-feminina-pega-o-canada-na-estreia-da-liga-das-nacoes.htm\n",
            "Nesta terça-feira (25), a partir das 16h (horário de Brasília), a seleção brasileira feminina de vôlei estreará na Liga das Nações 2021. A competição acontece em sistema de bolha na cidade de Rimini, na Itália. O adversário será o Canadá. Na quarta (26), o Brasil pega a República Dominicana, às 13h. E, fechando a primeira rodada, na quinta (27), o duelo será contra os Estados Unidos, às 16h. \n",
            "Essa será a primeira competição oficial desde a Copa do Mundo de setembro de 2019. Entre os dias 25 de maio e 27 de junho, os times disputarão 15 partidas na fase classificatória. Na sequência, os quatro melhores avançam à fase decisiva do torneio.\n",
            "\"Acreditamos que precisamos jogar e colocar as nossas jogadoras em ação para irmos moldando o time e ver quais são as jogadoras que vão representar o Brasil nos Jogos de Tóquio. Temos que aproveitar ao máximo esse tempo na Itália para chegarmos bem em Tóquio que é o nosso principal objetivo\", disse o técnico José Roberto Guimarães à equipe da Confederação Brasileira de Vôlei.\n",
            "A atacante Sheilla, que vai disputar a competição pela primeira vez, também chamou a atenção para relevância da competição.\n",
            "\"A Liga das Nações é uma competição muito importante ainda mais em ano olímpico. Vai ser o momento para o Zé Roberto definir o grupo para Tóquio. Tenho evoluído fisicamente a cada dia e estou muito motivada para disputar essa competição pela primeira vez\", afirmou Sheilla.\n",
            "Na última edição do evento, em 2019, o Brasil ficou com a medalha de prata.\n",
            "Jerusalém, 25 Mai 2021 (AFP) - O secretário de Estado americano, Antony Blinken, garantiu, nesta terça-feira (25), \n",
            "\n",
            "https://noticias.uol.com.br/ultimas-noticias/deutschewelle/2021/04/25/corte-de-verba-reforca-desmonte-da-fiscalizacao-ambiental-no-brasil.htm\n",
            "Com menos dinheiro que o necessário para cobrir as mais de mil operações planejadas por ano, o setor de fiscalização ambiental está perto de se tornar inviável.\n",
            "O corte no orçamento total do Ministério do Meio Ambiente para 2021, que foi de 35,4%, atinge em cheio justamente a área que Jair Bolsonaro (sem partido), diante da desconfiança internacional, prometeu fortalecer durante seu discurso na Cúpula dos Líderes sobre o Clima.\n",
            "\"É absolutamente insuficiente\", diz Suely Araujo, especialista em políticas públicas do Observatório do Clima e ex-presidente do Ibama.\n",
            "Somente para as ações de fiscalização, os R$ 83 milhões destinados estão abaixo dos mínimos R$ 110 milhões essenciais, garante Araujo, que comandou o órgão que planeja e executa as operações do tipo pelo país.\n",
            "Além do combate ao desmatamento ilegal na Amazônia, o trabalho inclui inspeções de níveis de poluição, agrotóxico, mineração ilegal e tráfico de animais, entre outros.\n",
            "Aprovado ainda no governo Michel Temer (MDB), o orçamento destinado à fiscalização em 2019 foi de R$ 112 milhões. No ano seguinte, sob Bolsonaro, esse montante caiu para R$ 80,3 milhões.\n",
            "Para 2021, dos R$ 94 milhões inicialmente autorizados pelo Congresso, as mesmas atividades sofreram uma redução de R$ 11 milhões após o veto do presidente. Ao todo, a pasta comandada por Ricardo Salles teve um corte de R$ 240 milhões. Ao fim, para cobrir todas as suas atividades e pagamento de pessoal, o ministério contará com R$ 2 bilhões neste ano.\n",
            "\"Tudo isso só mostra que a promessa de Bolsonaro é falsa\", diz Elisabeth Uema, secretária-executiva da Ascema (Associação Nacional dos Servidores da Carreira de Especialista em Meio Ambiente) sobre o discurso do presidente na reunião internacional organizada por Joe Biden.\n",
            "No ICMbio (Instituto Chico Mendes de Conservação da Biodiversidade), o desfalque também é avaliado como grave. O órgão, que gerencia 9,3% do território nacional e 20% das águas brasileiras, sofreu um corte de R$ 7 milhões.\n",
            "\"Para gerenciar direito tudo o que é de responsabilidade do ICMbio, seria necessário três vezes mais do que o orçamento previu\", diz Araujo sobre R$ 101 milhões atualmente direcionados à autarquia.\n",
            "A ex-chefe do Ibama diz ainda que o programa \"Adote um Parque\" criado por Salles não resolveria o problema. A proposta da iniciativa lançada pelo ministério em fevereiro último é atrair recursos privados para a preservação das unidades.\n",
            "\"O ministro acha que colocando esses projetos, fazendo concessão, resolve o orçamento, mas não é verdade. Uma empresa pode adotar uma reserva num determinado ano, mas e as outras unidades? E nos próximos anos?\", questiona Araujo.\n",
            "Das mais de 2.000 unidades de conservação federais, estaduais e municipais, o ICMbio é responsável por 334. Além da verba do orçamento, dinheiro internacional costumava financiar projetos de conservação do órgão, mas a situação mudou sob Bolsonaro.\n",
            "\"Em governos anteriores, a gente contava com recursos externos que chegavam ao Brasil como fundo perdido. E esse recurso viabilizava o trabalho dos órgãos ambientais na medida em que viabilizava a estrutura para fiscalização\", afirma Elisabeth Uema.\n",
            "Fundos que contam com doações internacionais têm regras rígidas. Eles exigem, por exemplo, compromissos, critérios de monitoramento dos gastos e acompanhamento dos projetos.\n",
            "\"Bolsonaro, ao acabar ou enfraquecer os conselhos que acompanham os projetos ligados a esses fundos, de certa forma inviabilizou o uso desses recursos\", diz Uema. \"Ninguém é bobo de dar dinheiro para o Brasil e não poder acompanhar como ele é gasto\", adiciona.\n",
            "Numa sequência de anúncios contraditórios do atual governo, iniciada com a promessa de gastar mais com fiscalização e seguida na prática pelo corte de dinheiro, um pedido Ricardo Salles por mais verba foi recebido com cautela.\n",
            "Numa carta ao Ministério da Economia enviada na noite desta sexta-feira (23), Salles solicita R$ 270 milhões extras que seriam destinados aos órgãos ambientais. A liberação, no entanto, não seria automática, mas dependeria da aprovação de um projeto de lei especifico pelo Congresso.\n",
            "\"É completamente incoerente. Como o governo veta para depois pedir dinheiro?\", critica Araujo. \"É uma resposta política, só para gerar essa manchete\". Salles, assim como Bolsonaro, viu a pressão internacional aumentar devido ao mau desempenho da política ambiental do país.\n",
            "O problema, pontua Araujo, não estaria só relacionada ao dinheiro. Uma carta divulgada há poucos dias por mais de 600 servidores do Ibama acusa Salles de provocar a paralisia do órgão. Mudanças nas regras tiraram a autonomia dos fiscais e criou prazos considerados impossíveis de serem cumpridos.\n",
            "Em casos de flagrante, por exemplo, o fiscal não poderá lavrar a multa antes de emitir um relatório, que teria que ser aprovado por um \"superior hierárquico\".\n",
            "\"Todos os servidores que assinam a presente carta declaram que estão com suas atividades paralisadas pelas próprias autarquias, Ibama e ICMBio, que não providenciaram os meios necessários junto aos sistemas e equipamentos de trabalho disponíveis para o exercício da atividade de fiscalização ambiental federal, análise e preparação para julgamento de processos de apuração de infrações ambientais\", alegam.\n",
            "Para Elisabeth Uema, a atual administração federal está cumprindo a promessa de campanha: acabar com os órgãos ambientais.\n",
            "\"São ataques por todos os lados, por meio de assédio, de perseguições. Pessoas têm sido removidas de um lugar para outro de uma hora para outra. Pessoas que estão querendo trabalhar são alijadas, pessoas que se manifestam são afastadas, punidas\", afirma.\n",
            "Com meses de atraso em sua aprovação, o orçamento de 2021 foi liberado tarde segundo o calendário do desmatamento na Amazônia. Abril é quando as chuvas param na região, e o corte ilegal das árvores ganha impulso.\n",
            "\"A fiscalização tinha que estar ocorrendo a todo vapor, é o começo da época seca. Desmatamento está correndo solto, assim como o garimpo ilegal, invasão de terras. Os sinais de campo estão muito ruins\", avalia Araujo, lembrando que março último teve o pior registro de devastação na Amazônia na série histórica.\n",
            "Se comparado aos R$ 240 milhões do orçamento do ministério que foram cortados por Bolsonaro, o valor guardado no Fundo Amazônia que aguarda um destino parece uma fortuna: R$ 2,9 bilhões.\n",
            "\"No Ibama, por exemplo, cerca de R$ 47 milhões anuais do Fundo Amazônia custeavam helicópteros e caminhonetes usados nas operações de fiscalização\", exemplifica Araujo.\n",
            "Depois que Salles assumiu o ministério e dissolveu o conselho que escolhia os projetos a serem financiados, o fundo, que recebia doações da Noruega e Alemanha, nunca mais funcionou.\n",
            "Outros 96 milhões de dólares que seriam aplicados pelo Programa Floresta Mais também aguardam um uso. A iniciativa foi criada na época de Dilma Rousseff (PT), negociada por Temer e assinada durante o governo Bolsonaro.\n",
            "Apesar de ser divulgada pelo atual ministério como o maior pagamento por serviço ambiental do mundo, o dinheiro está há dois anos sem passar por ninguém.\n",
            "O motivo, dizem fontes ouvidas pela DW, é que Salles não aceitaria as regras estipuladas: não seria de interesse da pasta que pequenos produtores rurais e comunidades tradicionais sejam compensadas financeiramente por preservarem florestas.\n",
            "\n",
            "https://noticias.uol.com.br/ultimas-noticias/efe/2021/05/21/pandemia-faz-disparar-casos-de-mortalidade-materna-na-republica-dominicana.htm\n",
            "As principais causas foram hipertensão induzida pela gravidez, sangramento, sepse e aborto, que é totalmente proibido no país.\n",
            "Todas essas causas de morte materna são \"altamente evitáveis\", disse a representante nacional do Fundo das Nações Unidas para a Infância (Unicef), Rosa Elcarte, em evento com diretores de hospitais onde nascem aproximadamente 80% dos bebês atendidos no sistema de saúde pública do país.\n",
            "A República Dominicana registrou 208 mortes maternas no ano passado, em comparação com 173 em 2019, segundo dados do boletim epidemiológico do Ministério da Saúde Pública.\n",
            "Os dados fornecidos hoje por Rosa Elcarte indicam que a República Dominicana é um país de renda média alta e com alta cobertura de controle pré-natal (98,9%) e parto institucional (97,5%). \"Os números da mortalidade materna e neonatal não correspondem a essa realidade e estão muito acima das médias da região da América Latina e do Caribe\", afirmou.\n",
            "Os últimos dados disponíveis para mortalidade neonatal, correspondentes a 2019, eram de 19,4 por 1 mil nascidos vivos, em contraste com a mortalidade neonatal na América Latina, que naquele mesmo ano era de 9 por 1 mil nascidos vivos.\n",
            "As causas dessas mortes no país correspondem a problemas respiratórios e sepse, que também são evitáveis.\n",
            "Em seu discurso aos diretores dos hospitais, a representante do Unicef pediu que \"redobrassem os esforços para reverter esse quadro negativo e conduzir, de forma propositiva e comprometida, seus planos de melhorias para que os cuidados obstétricos e neonatal em seus serviços de saúde seja aderida aos protocolos do Ministério da Saúde\".\n",
            "Também participou do evento o diretor do Serviço Nacional de Saúde, Mario Lama, que frisou que a mortalidade materna e infantil é um \"grande problema\" para a República Dominicana, que em tempos de pandemia se torna \"um duplo problema\", portanto melhorar os indicadores \"é um grande desafio\".\n",
            "\n",
            "https://noticias.uol.com.br/ultimas-noticias/efe/2021/05/21/paraguai-anuncia-chegada-de-doses-de-vacina-para-retomar-imunizacao-suspensa.htm\n",
            "O carregamento que chegará dos Emirados Árabes Unidos, esperado no domingo, vai se somar a outras 100 mil doses do lote de 400 mil doadas pelo Catar, de acordo com a mesma fonte.\n",
            "O Paraguai recebeu seu primeiro lote de vacinas em fevereiro, com 4 mil doses da Sputnik V adquiridas da Rússia, e desde então continuou recebendo poucas doses, muitas delas sob forma de doações.\n",
            "Essa situação dificultou inicialmente o início da campanha de vacinação e resultou agora em uma suspensão temporária da imunização nos departamentos de San Pedro, Guairá, Caazapá, Presidente Hayes, Paraguarí e Ñeembucú.\n",
            "Isso porque, até ontem à noite, havia apenas 26.665 doses disponíveis para dar continuidade ao plano de vacinação, com doses garantidas para quem já havia recebido a primeira.\n",
            "Uma vez recebida as novas doses, a vacinação será retomada nessas regiões, garantiu o Ministério da Saúde.\n",
            "Além das 350 mil doses que devem chegar até o final do mês, entre as remessas do Catar e dos Emirados Árabes Unidos, o Ministério das Relações Exteriores também garantiu que há o compromisso de receber 400 mil doses das 2 milhões compradas da Índia.\n",
            "Também estão pendentes outras 134 mil doses prometidas pelo mecanismo Covax, das quais o governo paraguaio adquiriu 4,3 milhões, e que até agora foram obtidas apenas 170,4 mil doses.\n",
            "A Chancelaria destacou que os atrasos nas entregas também respondem ao próprio funcionamento do comércio internacional, pois alguns lotes estão em outros países aguardando embarque para o Paraguai.\n",
            "O Paraguai já vacinou 230.750 pessoas, segundo dados do Ministério da Saúde, com cerca de 43 mil pessoas que receberam as duas doses.\n",
            "E enquanto a vacinação está estagnada, as mortes diárias continuam aumentando, com um novo recorde ontem, quando 112 óbitos foram confirmados.\n",
            "O Paraguai acumula 7.914 mortes por Covid-19 desde o início da pandemia, com 321.032 casos e 266.328 pacientes recuperados.\n",
            "\n",
            "https://noticias.uol.com.br/ultimas-noticias/deutschewelle/2021/07/03/ha-70-anos-brasil-ganhava-primeira-lei-contra-racismo.htm\n",
            "Há 70 anos, o Brasil ganhava sua primeira lei contra o racismo. Em 3 de julho de 1951, o então presidente Getúlio Vargas (1882-1954) promulgou a Lei 1390, mais conhecida como Lei Afonso Arinos — em referência ao autor do texto, o então deputado federal Afonso Arinos de Melo Franco (1905-1990), jurista e historiador.\n",
            "Não foi por acaso que a discussão foi levantada e chegou ao ponto de se tornar lei. Um ano antes, a dançarina e coreógrafa americana Katherine Dunham (1909-2006) havia feito uma denúncia a repórteres que cobriam sua estreia no Teatro Municipal de São Paulo: o gerente do Hotel Esplanada, cinco-estrelas luxuoso que funcionava próximo à casa de espetáculos paulistana, havia se negado a hospedá-la depois de constatar que ela era \"uma mulher de cor\".A repercussão não se restringiu à imprensa brasileira, mas repercutiu também em outros países. No dia 17 de julho de 1950, o deputado Arinos apresentou seu projeto de lei -- que, depois de todos os trâmites, foi aprovado, há exatos 70 anos.\n",
            "\n",
            "https://noticias.uol.com.br/ultimas-noticias/afp/2021/05/30/dois-mortos-e-20-feridos-em-tiroteio-em-miami.htm\n",
            "Miami, 30 Mai 2021 (AFP) - Duas pessoas morreram e pelo menos 20 ficaram feridas neste domingo (30) quando três homens \"atiraram contra a multidão\" reunida diante de uma área comercial em Miami, informou a polícia da cidade da costa leste dos Estados Unidos. \n",
            "O tiroteio aconteceu durante a madrugada em um salão de bilhar em um centro comercial perto de Miami Gardens.\n",
            "De acordo com os investigadores, \"o local estava organizando um evento programado e vários clientes estavam do lado de fora\" afirmou a polícia em um comunicado. \n",
            "Quando um Nissan Pathfinder SUV se aproximou do local, \"três indivíduos saíram do veículo e começaram a atirar indiscriminadamente contra a multidão\", completa a nota.\n",
            "As três pessoas retornaram para o veículo e conseguiram fugir. \n",
            "As equipes de emergência enviadas ao local encontraram dois mortos, segundo o comunicado. \n",
            "Ao menos 20 feridos foram levados para o hospital e um deles estava em condição crítica. \n",
            "Em uma mensagem no Twitter, o chefe do departamento de polícia do condado de Miami-Dade, Alfredo \"Freddy\" Ramírez III, classificou o ato de \"covarde\".\n",
            "\"São assassinos a sangue frio que atiraram indiscriminadamente contra uma multidão e buscaremos justiça\", destacou. \n",
            "A polícia pediu ajuda da comunidade para identificar e deter os atiradores\n",
            "- 43.000 mortes por armas de fogo -A Flórida continua marcada pelo tiroteio de 2016 na discoteca Pulse de Orlando, quando um homem armado matou 49 pessoas e deixou 68 feridos.\n",
            "Os Estados Unidos têm uma longa e dolorosa história de violência com armas de fogo, com um número constante de tiroteios diários, assim como assassinatos que têm como alvos escolas, locais de trabalho e centros comerciais. \n",
            "Na quarta-feira, um trabalhador do transporte público matou a tiros nove pessoas em uma estação ferroviária da Califórnia antes de cometer suicídio.\n",
            "Em uma operação na casa do atirador - que foi incendiada pouco antes do ataque - foram encontradas 12 armas, quase 22.000 munições e supostas bombas incendiárias.\n",
            "A pandemia de coronavírus provocou uma pausa na crescente espiral de violência, mas a reabertura de muitas empresas teve como consequência o retorno dos tiroteios.\n",
            "Nos últimos meses aconteceram tiroteios em uma instalação da FedEx em Indianápolis, um edifício comercial na Califórnia, um mercado no Colorado e em vários spas de Atlanta. \n",
            "O presidente americano, Joe Biden, chamou no mês passado a violência com armas de fogo no país de \"epidemia\" e \"vergonha internacional\". \n",
            "No ano passado aconteceram mais de 43.000 mortes relacionadas com armas nos Estados Unidos, incluindo suicídios, segundo o Gun Violence Archive. \n",
            "bur-leg/lpt/gma/fp\n",
            "\n",
            "https://noticias.uol.com.br/ultimas-noticias/agencia-brasil/2021/05/31/agencia-brasil-explica-o-que-sao-commodities.htm\n",
            "As commodities movimentam o comércio e o mercado financeiro em países agrícolas e minerais. Nas últimas semanas, o Brasil tem surfado na mais nova onda delas e registrado queda do dólar, alta na bolsa e superávits recordes na balança comercial. Produtos importantes na pauta de exportação, elas estão presentes de forma significativa no dia a dia do brasileiro. \n",
            "O conceito de commodity mudou ao longo do tempo, ganhando elementos. No sentido original, a palavra tem a raiz common (comum em português), que designa produtos com características semelhantes em qualquer lugar do planeta. Essa acepção engloba produtos agropecuários e minerais.\n",
            "Com a evolução do comércio internacional e do mercado financeiro, a definição ganhou sentidos adicionais. Além de padrões mundiais similares, as commodities precisam ter produção em larga escala, capacidade de estocagem, baixa industrialização e alto nível de comercialização.\n",
            "Essas características diferenciam, por exemplo, alimentos perecíveis, que não podem ser estocados, de safras de grãos que podem ser embarcadas para outro lado do planeta. As exportações precisam atingir um volume considerável para que o produto seja comercializado em larga escala. Dessa forma, as commodities podem ser definidas como bens primários com cotação internacional, como petróleo, soja, minério de ferro e café.\n",
            "Os preços internacionais são definidos nas bolsas de mercadorias e futuros. A maior bolsa do planeta desse tipo fica em Chicago, nos Estados Unidos, onde são definidas as cotações dos contratos futuros e de opções da maioria das commodities. No Brasil, a antiga Bolsa de Mercadorias e Futuros (BM&F) se fundiu com a Bolsa de Valores de São Paulo (Bovespa) em 2008. Em 2017, a BM&FBovespa mudou de nome e passou a chamar-se B3.\n",
            "Nos contratos futuros, produtores buscam se proteger de variações bruscas de preços, e especuladores querem comprar barato para vender caro. No mercado de opções, os contratos perdem a validade (\"viram pó\", no jargão financeiro) em algumas situações\n",
            "\n",
            "https://noticias.uol.com.br/ultimas-noticias/bbc/2021/06/02/o-poder-por-tras-do-aprendizado-de-uma-nova-habilidade.htm\n",
            "Desafiar seu cérebro com algo que você nunca fez antes pode trazer inúmeros benefícios para seu bem-estar.\n",
            "Uma coisa que a pandemia nos ensinou é que nunca é tarde para aprender uma nova habilidade. \n",
            "Da costura ao aprendizado de um idioma, muitos de nós temos usado nosso tempo para experimentar algo novo - e esse tem sido um tempo bem gasto.\n",
            "Quais são os benefícios de tentar algo novo?\n",
            "Não há dúvida de que todos Temos uma vida muito agitada. Por isso, encontrar tempo para aprender uma nova habilidade pode exigir algum esforço, mas os benefícios para nosso cérebro valem a pena. \n",
            "Além de melhorar nossa concentração e instigar a autorreflexão, também pode remodelar sutilmente e de maneira muito importante nosso cérebro.\n",
            "Em outras palavras, aprender uma nova habilidade é como um treino para o nosso cérebro. \n",
            "Se você está desafiando seu cérebro com algo que nunca fez antes, você pode reduzir o estresse, criar novas conexões cerebrais, liberar dopamina, ficar mais feliz, melhorar no malabarismo de tarefas e potencialmente se tornar mais inteligente também.\n",
            "Pode parecer contra-intuitivo adicionar mais coisas à sua lista de tarefas quando você está estressado, mas há evidências de que aprender algo novo pode ser uma das maneiras mais eficazes de reduzir o estresse e acalmar o corpo. \n",
            "Em um estudo, participantes tiveram que \"fazer algo novo\" ou \"fazer algo relaxante\". E foram os participantes que fizeram algo novo que tiveram os níveis de estresse reduzidos.\n",
            "Além disso, quando você está se concentrando na tarefa em questão, pode entrar em um estado descrito como \"fluxo\", em que fica completamente submerso no momento, \"pausando\" o mundo exterior. É um estado semelhante ao da meditação. \n",
            "E quando fazemos um hobby de que gostamos, nosso cérebro libera dopamina, um antidepressivo natural.\n",
            "Além disso, uma nova tarefa acalma a parte frontal do cérebro, o que geralmente ajuda você a analisar e questionar seu próprio comportamento, para que você se torne menos crítico em relação às suas ações.\n",
            "Além disso, quanto mais engajado na tarefa você estiver, mais benefícios cognitivos terá.\n",
            "Aprender uma nova habilidade não apenas ajuda a sua saúde mental, mas também pode mudar a maneira como seu cérebro é conectado - ajudando a estimular o crescimento de novas células cerebrais e novas conexões.\n",
            "Muitas vezes temos a impressão de que aprender algo novo ou adquirir novos hobbies, como aprender a tocar piano ou um novo idioma, é algo que só podemos fazer quando crianças, quando nosso cérebro pode se adaptar melhor a coisas novas. \n",
            "Mas uma pesquisa recente está mostrando que a plasticidade do nosso cérebro perdura até a velhice - muito mais tarde do que se pensava - e aceitar o desafio de aprender coisas novas em qualquer idade traz uma série de benefícios.\n",
            "O professor Alan Gow, da Heriot-Watt University (Escócia), tem pesquisado o impacto de novas atividades em nossos cérebros. Especificamente, se começar uma nova atividade pode ajudar nossas habilidades de pensamento e memória à medida que envelhecemos.\n",
            "Em suas pesquisas, Gow pede que participantes comecem a praticar novas tarefas: um novo idioma, habilidades computacionais ou algo mais criativo ou artístico.\n",
            "Gow menciona que as novas atividades podem melhorar a velocidade de pensamento ou do \"processamento\" do cérebro, além da memória - dois elementos que experimentam um declínio na velhice.\n",
            "São as atividades que envolvem uma combinação de elementos físicos, mentais e sociais que parecem ser particularmente benéficas - e a chave é encontrar uma que seja adequada para você. \n",
            "\"O que pode mudar minhas habilidades de pensamento pode não mudar as suas\", diz Gow. \n",
            "Portanto, se você está tentando algo novo, tente incorporar elementos que o tornem social, ativo e mentalmente desafiador.\n",
            "Há muitos benefícios em experimentar algo novo, mesmo na velhice - desde melhorar o número de células cerebrais a mais benefícios psicológicos que têm efeitos surpreendentemente amplos sobre como você se vê e interage com os outros.\n",
            "A BBC lista abaixo algumas sugestões de habilidades que podem beneficiar seu cérebro. \n",
            "- Desenho: o desenho envolve coordenação motora, mapeamento 3D e orientação espacial. \n",
            "Pode parecer uma atividade agradável, fácil e relaxante, mas você realmente está fazendo algo bom para o seu cérebro, principalmente se não desenhar a mesma coisa todas as vezes. \n",
            "Cada nova configuração e tema representará um novo desafio e trabalhará seu cérebro de novas maneiras, desde melhorar sua consciência espacial até sua coordenação física. \n",
            "Pode também diminuir sua resposta ao estresse. E você não precisa ser bom nisso para obter os benefícios!\n",
            "- Aprenda um idioma: Outra ótima atividade é aprender um idioma. Não é apenas uma emoção poder se comunicar com pessoas de todo o mundo, mesmo que seja apenas para dizer olá, mas é realmente um treino fabuloso para o seu cérebro. \n",
            "Os cientistas sugerem que pode ter muito mais benefícios cognitivos do que tarefas de treinamento do cérebro, como fazer sudoku ou palavras cruzadas, porque requer que você faça malabarismos com novos conceitos e codifique novas informações em seu cérebro. \n",
            "Estudos têm mostrado que pode literalmente mudar seu cérebro. Uma pesquisa recente mostra que os adultos podem ser quase tão bons no aprendizado de uma língua quanto as crianças. \n",
            "Enquanto as crianças são melhores em aprender línguas inatamente, os adultos se destacam em outras coisas. Está provado que seu jeito com as palavras só fica melhor com a idade - e pode ter muitos benefícios para aprender um novo idioma.\n",
            "Aprender um novo um idioma pode até melhorar sua inteligência - contanto que você pratique cinco horas por semana.\n",
            "Na série Just One Thing (Uma Única Coisa), da Rádio 4 da BBC, o médico Michael Mosley aborda em diferentes episódios o que você poderia fazer por sua saúde se tivesse apenas uma escolha.\n",
            "\n",
            "https://noticias.uol.com.br/ultimas-noticias/afp/2021/06/07/acidente-ferroviario-deixa-34-mortos-no-sul-do-paquistao.htm\n",
            "Atualizada em  \n",
            "Karachi, 7 Jun 2021 (AFP) - Ao menos 40 pessoas morreram e dezenas ficaram feridas em um choque de dois trens de passageiros após um descarrilamento nesta segunda-feira (7) no sul do Paquistão.\n",
            "Vários passageiros permaneciam presos nos vagões destruídos pelo acidente, perto da cidade de Daharki, na província de Sindh, onde as equipes de resgate demoraram horas para chegar.\n",
            "O acidente aconteceu às 3h30 locais (19h30 de ontem no horário de Brasília). Um trem procedente de Karachi descarrilou e foi atingido por outro, procedente de Rawalpindi, que circulava no sentido contrário, afirmou à AFP um porta-voz da empresa 'Pakistan Railways'.\n",
            "\"Caímos uns sobre os outros, mas isso não foi tão fatal\", declarou à AFP Akhtar Rajput, um passageiro do comboio que descarrilou.\n",
            "\"Depois outro trem nos atingiu do nada, muito forte. Quando recuperei a consciência, vi os passageiros ao meu redor, alguns tentavam sair do vagão\", completou.\n",
            "O ministro da Informação, Fawad Chaudhry, disse que os incidentes aconteceram com minutos de intervalo.\n",
            "O policial Umar Tufail confirmou o balanço de pelo menos 40 mortos.\n",
            "Uma multidão seguiu para o local da tragédia para tentar socorrer os sobreviventes, informou a imprensa local. Imagens gravadas por telefones celulares mostram uma pilha de ferros retorcidos e vários vagões tombados.\n",
            "Os corpos das vítimas foram colocados no chão e cobertos com lenços tradicionais. As equipes de resgate pediram o apoio urgente de especialistas para conseguir chegar às pessoas presas nas ferragens.\n",
            "\"O local é afastado e por isso enfrentamos problemas com as tarefas de resgate\", disse o porta-voz da Pakistan Railways, que relatou a destruição de pelo menos seis vagões na colisão.\n",
            "O acidente aconteceu em uma área remota da província, em um trecho da ferrovia que atravessa plantações.\n",
            "Soldados do Exército do Paquistão e unidades da Guarda Florestal seguiram para o local para ajudar nas operações de resgate, anunciou o tenente-general Akhtar Nawaz Satti, presidente da Autoridade Nacional de Gestão de Desastres.\n",
            "O primeiro-ministro paquistanês, Imran Khan, afirmou que estava \"comovido\" e prometeu uma investigação completa sobre o acidente.\n",
            "\"Estou ordenando uma ampla investigação sobre as falhas na segurança ferroviária\", anunciou em sua conta no Twitter.\n",
            "Os acidentes ferroviários são frequentes no Paquistão, que herdou milhares de quilômetros e ferrovias e trens do período em que o território era uma colônia do Império Britânico.\n",
            "Mas a rede ferroviária está em decadência há várias décadas devido à corrupção, má gestão e falta de investimentos.\n",
            "Mais de 300 pessoas morreram e 700 ficaram feridas em 1990 quando um trem de 16 vagões com excesso de peso bateu em um trem de cargas que estava estacionado perto da cidade de Sukur in Sindh.\n",
            "Em outubro de 2019, ao menos 75 pessoas morreram em um incêndio no trem em que viajavam de Karachi a Rawalpindi.\n",
            "https://noticias.uol.com.br/colunas/carolina-brigido/2021/05/04/oab-advogado-briga-toffoli.htm\n",
            "A OAB (Ordem dos Advogados do Brasil) abriu um procedimento interno para analisar um bate boca protagonizado pelo ministro Dias Toffoli e o advogado Otto Banho Licks no plenário do STF (Supremo Tribunal Federal) na última quarta-feira (28).\n",
            "No próximo dia 19, a Comissão de Prerrogativas da OAB, formada por 20 integrantes, deve votar se fará desagravo ao advogado. O clima interno na entidade é de indignação contra o ministro. A tendência é que seja aprovada a moção a favor de Licks.\n",
            "Consultados pela coluna, nem Toffoli, nem o advogado quiseram se manifestar. Segundo o presidente da Comissão de Prerrogativas da OAB, Alexandre Ogusuku, autoridades que ofendem advogados violam a Constituição Federal e o Estatuto da Advocacia, que tem força de lei.\n",
            "\"Não cabe a juiz ou ministro efetuar censura do advogado. Juiz foi feito para decidir. Essa censura me parece descabida e viola o livre exercício da advocacia que a Constituição assegura. O advogado tem liberdade para fazer os pedidos que considerar devidos. Esse tipo de censura de advogado é inconstitucional, ofende o Estatuto da Advocacia\", disse Ogusuku.\n",
            "Na sessão da semana passada, Toffoli criticou Licks pela publicação de reportagens pagas em jornais defendendo um artigo da Lei de Patentes. Pelo dispositivo, se o Instituto Nacional da Propriedade Industrial (INPI) demorar para analisar pedidos de patente, ela pode ter seu prazo prorrogado. As reportagens criticaram a decisão tomada por Toffoli no mês passado de suspender esse artigo.\n",
            "Na sustentação oral, o advogado chamou a decisão de Toffoli de \"alfaiararia\". Com o tom de voz alterado, o ministro rebateu: \"É um desrespeito usar a tribuna do Supremo para tratamentos desleais com a mais alta corte do país\". Toffoli disse que iria oficiar os jornais sobre o episódio - que, para ele, configuram infração disciplinar de \"fazer publicar na imprensa, desnecessária e habitualmente, alegações forenses ou relativas a causas pendentes\", prevista no Estatuto da Advocacia.\n",
            "\"Se isso vira moda, daqui a pouco vão colocar ataques a decisões no jornal, no rádio, na televisão. Isso é deslealdade com outros advogados e outras partes, pois manifestações têm que ocorrer nos autos. Por isso seria importante a publicação de matéria de página inteira pedindo desculpas\", opinou o ministro.\n",
            "\"Críticas são normais e importantes para o avanço da hermenêutica e da jurisprudência. Mas o que não se pode tolerar é matéria paga em meios de comunicação por partes ou advogados da causa. Isso é má-fé processual, é deslealdade processual\", concluiu Toffoli.\n",
            "\n",
            "https://noticias.uol.com.br/colunas/carolina-brigido/2021/05/27/bolsonaro-cpi-covid.htm\n",
            "A decisão do senador Randolfe Rodrigues (Rede-AP) de apresentar requerimento para que o presidente Jair Bolsonaro (sem partido) preste depoimento à CPI da Covid foi vista como represália à ala governista da comissão. Seria uma resposta aos pedidos para ouvir a explicação de governadores sobre medidas adotadas na pandemia. O governo federal não deve aceitar a provocação passivamente.\n",
            "Caso o requerimento contra Bolsonaro seja aprovado, a AGU (Advocacia-Geral da União) deve recorrer ao STF (Supremo Tribunal Federal). Para aliados de Bolsonaro, não cabe à CPI convocar o presidente da República. Seria um desrespeito ao princípio constitucional da separação dos Poderes submeter o chefe do Executivo a um interrogatório conduzido por parlamentares.\n",
            "Se o caso for parar no STF, há dois cenários possíveis. Um deles é a simples aplicação do artigo 221 do CPP (Código de Processo Penal), segundo o qual o presidente da República deve comparecer perante o juiz, se convocado para prestar esclarecimentos como testemunha. O mandatário tem a prerrogativa de escolher o dia e o horário do interrogatório. E também pode prestar depoimento por escrito, se quiser. As normas penais são aplicadas à CPI por analogia.\n",
            "Outro cenário seria o STF considerar que a CPI não tem poderes para convocar presidente da República, se a maioria dos ministros concordar com o ponto de vista da AGU sobre separação de Poderes. Não há na jurisprudência do tribunal nenhum precedente parecido, porque não há histórico de convocação de presidente da República por CPI. Portanto, não se pode prever qual seria a decisão do Supremo.\n",
            "Mas existe um precedente importante sobre governadores. Em 2012, o ministro Marco Aurélio Mello, do STF, concedeu liminar ao então governador de Goiás, Marconi Perillo, para não ser obrigado a comparecer à CPI do Cachoeira. O ministro explicou que a uma CPI não poderia obrigar um chefe do Poder Executivo a prestar depoimento no Congresso Nacional.\n",
            "Até agora, ninguém foi convocado pela CPI como investigado. É uma estratégia para emparedar os depoentes. Isso porque, quando alguém presta depoimento como testemunha, é obrigado a prestar juramento de dizer apenas a verdade. Já os investigados têm o direito de se calar diante das perguntas.\n",
            "Se Bolsonaro for convocado como investigado, o nó jurídico tende a ser ainda maior. Isso porque a legislação penal não especifica se o presidente da República é obrigado a prestar depoimento como investigado. O próprio Bolsonaro é alvo dessa polêmica, no inquérito que investiga se ele interferiu indevidamente nas atividades da Polícia Federal.\n",
            "No ano passado, o relator do inquérito no STF, ministro Alexandre de Moraes, decidiu que o presidente não poderia simplesmente não prestar depoimento, como queria a AGU. E acrescentou que o plenário do tribunal decidiria qual a forma do interrogatório - se presencial, ou por escrito.\n",
            "Existe no tribunal um precedente: em 2017, o ministro Luís Roberto Barroso concedeu ao então presidente Michel Temer o direito de prestar depoimento por escrito no inquérito aberto a partir da delação de executivos da JBS. Apesar de Temer ser investigado, Barroso aplicou por analogia a regra do Código de Processo Penal para presidentes que se manifestam como testemunha.\n",
            "Há ministros do STF que consideram uma subversão da ordem permitir que um presidente da República seja interrogado por um delegado de polícia. Se o mesmo raciocínio for aplicado a integrantes da CPI, a oposição pode encontrar um caminho tortuoso no tribunal para conseguir aprovar eventual requerimento de convocação de Bolsonaro.\n",
            "\n",
            "https://noticias.uol.com.br/colunas/josias-de-souza/2021/05/06/cpi-da-covid-organiza-o-cerco-a-jair-bolsonaro.htm\n",
            "Arma-se na CPI da Covid algo muito parecido com um cerco a Bolsonaro. Depois de ouvir os depoimentos de dois ex-ministros da Saúde —Henrique Mandetta e Nelson Teich— que contaram detalhes sobre a obsessão do presidente pela cloroquina e sua resistência às decisões técnicas tomadas pela Saúde na gestão da Pandemia, a comissão aprovou a convocação de depoimentos que sinalizam a intenção de investigar as causas da escassez de vacinas no Brasil. \n",
            "A CPI ouvirá na próxima semana o ex-secretário de comunicação da Presidência Fábio Wajngarten, representantes da farmacêutica Pfizer, diretores do Instituto Butantan e da Fiocruz, além do ex-chanceler Ernesto Araújo. Wajngarten disse em entrevista que o governo demorou a comprar vacinas da Pfizer por \"incompetência\" e \"ineficiência\" do Ministério da Saúde na gestão do general Eduardo Pazuello. O Butantan e Fiocruz ralam para obter na China o insumo para a fabricação de vacinas. E Ernesto Araújo, que se orgulhava da condição de \"pária\" do Brasil, é apontado como responsável por envenenar as relações do país com Pequim. \n",
            "Está muito clara a intenção do G7, o bloco majoritário da CPI. Seguindo um rastro de provas que Bolsonaro produziu contra si mesmo durante a crise sanitária, os senadores desejam responsabilizar o presidente por uma gestão cujo insucesso está materializado no excesso de cloroquina e na escassez de vacinas. Bolsonaro considera-se mal defendido na CPI. Promove ajustes na sua estratégia política. Mas reage ao cerco mais com o fígado do que com o cérebro.\n",
            "Contrário às medidas restritivas adotadas por governadores e prefeitos, Bolsonaro ameaça novamente baixar um decreto para \"garantir o direito de ir e vir\". Insinua que o coronavírus é parte de uma \"guerra química, bacteriológica\" deflagrada de propósito pela China. E chama de \"canalhas\" as pessoas que se opõem ao tratamento precoce com o kit que inclui a ineficaz hidroxicloroquina.\n",
            "Bolsonaro fala dez vezes antes de pensar. Ele se orgulha do seu passado de paraquedista no Exército. Mas, no exercício da Presidência da República, demora a perceber que o cérebro é como um paraquedas. Funciona melhor quando está aberto para a realidade.\n",
            "\n",
            "https://noticias.uol.com.br/ultimas-noticias/efe/2021/07/01/vacina-alema-curevac-mostra-eficacia-de-48.htm\n",
            "Anteriormente, a empresa havia revelado em sua segunda análise preliminar que, até então, a eficácia de sua vacina chegava a 47% para prevenir o coronavírus.\n",
            "A CureVac detalhou que o imunizante criou \"proteção significativa\" entre os participantes na faixa etária entre 18 e 60 anos, atingindo um total de 53% contra casos da doença de qualquer gravidade e em todas as 15 cepas identificadas.\n",
            "Essa porcentagem, ainda segundo a nota da farmacêutica, subiu para 77% em casos de doença moderada a grave e proporcionou 100% de proteção aos participantes nessa faixa etária contra internação e morte.\n",
            "O laboratório, que colabora com o grupo químico e farmacêutico alemão Bayer para o desenvolvimento e distribuição da vacina, disse que os dados foram comunicados à Agência Europeia de Medicamentos (EMA).\n",
            "O estudo envolveu cerca de 40 mil pessoas de dez países da América Latina e Europa, 9% das quais tinham mais de 60 anos de idade.\n",
            "Entre os 228 casos de Covid contados durante os testes, 83 foram em pessoas que foram vacinadas e 145 em participantes que receberam placebo, de acordo com os dados da análise final.\n",
            "\n",
            "https://noticias.uol.com.br/ultimas-noticias/efe/2021/07/13/oea-pede-fim-de-repressao-e-perseguicao-em-cuba.htm\n",
            "Almagro citou um tweet do Movimento San Isidro, formado por dissidentes do governo cubano, que divulgou uma lista de 45 pessoas que estariam detidas ou desaparecidas na ilha, entre as quais cinco conseguiram a liberdade.\n",
            "Neste domingo, milhares de cubanos saíram às ruas para protestar contra o governo ao grito de \"liberdade\", em um dia sem precedentes que resultou em centenas de detentos e confrontos depois que o presidente Miguel Díaz-Canel convocou os seus apoiadores para saírem às ruas para enfrentar os manifestantes.\n",
            "Em seu relato no Twitter, Almagro já expressou no domingo sua condenação ao \"regime ditatorial\" de Cuba por \"chamar os civis para reprimir\" e por impulsionar o confronto contra aqueles que lideram protestos.\n",
            "O governo dos EUA negou nesta segunda-feira estar por trás dos protestos sem precedentes em Cuba, como alegado pelas autoridades da ilha, e apelou para evitar a violência contra os manifestantes, que receberam o apoio de todos os atores políticos americanos.\n",
            "As manifestações são as mais fortes em território cubano desde o chamado 'Maleconazo' de agosto de 1994, acontecem com o país mergulhado em uma grave crise econômica e sanitária, com a pandemia fora de controle e uma grave escassez de alimentos, medicamentos e outros produtos básicos, além de longas quedas de energia.\n",
            "\n",
            "https://noticias.uol.com.br/ultimas-noticias/efe/2021/06/19/mexico-felicita-antonio-guterres-por-sua-reeleicao-na-onu.htm\n",
            "Por sua vez, a Missão Permanente do México na ONU também publicou uma mensagem nas redes na qual felicitou Guterres por sua reeleição para um segundo mandato como secretário-geral da ONU.\n",
            "A Assembleia Geral da ONU confirmou nesta sexta-feira que Guterres permanecerá no comando das Nações Unidas por mais cinco anos, após ter recebido o respaldo dos membros do Conselho de Segurança no último dia 8 de junho.\n",
            "Guterres, contra quem nenhum país propôs outra alternativa, assumiu a secretaria-geral em janeiro de 2017, após vencer um grande número de candidatos, entre eles a atual diretora-gerente do Fundo Monetário Internacional (FMI), Kristalina Georgieva.\n",
            "Sua reeleição, longe de ser uma surpresa, foi considerada o passo lógico dentro do órgão, já que há décadas todos os chefes das Nações Unidas somam dois mandatos, com exceção do egípcio Boutros Ghali, cuja reeleição foi vetada em 1996 pelos Estados Unidos.\n",
            "\n",
            "https://noticias.uol.com.br/ultimas-noticias/afp/2021/06/25/grupo-neonazista-vandaliza-estatua-de-george-floyd-em-nova-york.htm\n",
            "Nova York, 25 Jun 2021 (AFP) - O nome de um pequeno grupo de extrema direita foi pichado na quinta-feira (24) em uma estátua em homenagem ao afro-americano George Floyd, inaugurada dias atrás em Nova York - informou a polícia. \n",
            "A estátua, um busto de Floyd, amanheceu ontem coberta de tinta preta com a inscrição \"Patriot Front\" (Frente Patriota), um grupo neonazista dos EUA, disse a polícia de Nova York, que está investigando um possível crime racista.\n",
            "\n",
            "https://noticias.uol.com.br/ultimas-noticias/agencia-estado/2021/06/26/presidentes-de-11-partidos-fecham-posicao-contra-voto-impresso.htm\n",
            "Presidentes de 11 partidos se reuniram na manhã deste sábado (26) e fecharam um posicionamento contra o voto impresso nas eleições de 2022. Os caciques das legendas, incluindo os da base do presidente Jair Bolsonaro no Congresso, decidiram derrubar a proposta discutida na Câmara e patrocinada pelo chefe do Planalto. O texto propõe a implantação de um sistema auditável de papel nas urnas eletrônicas.\n",
            "\n",
            "\n",
            "Conforme revelou reportagem no início do mês, a Proposta de Emenda à Constituição (PEC) do voto impresso tinha votos suficientes para avançar na comissão especial da Câmara. A articulação, porém, enfrentou resistência e agora os partidos prometem articular a rejeição da PEC com os deputados, ou até mesmo engavetá-la. Os 11 partidos que mobilizaram o encontro virtual representam 326 deputados entre os 513 integrantes da Câmara, número suficiente para derrubar a medida.\n",
            "\n",
            "A reportagem apurou que os ministros Luís Roberto Barroso, Alexandre de Moraes e Gilmar Mendes, do Supremo Tribunal Federal (STF), atuaram para demover os partidos da ideia de aprovar o voto impresso. Moraes assumirá a presidência do Tribunal Superior Eleitoral (TSE) no período das eleições presidenciais e Barroso é o atual chefe da Corte eleitoral. A reviravolta ocorre no momento em que o presidente Jair Bolsonaro é alvo da Comissão Parlamentar de Inquérito (CPI) da Covid e o ex-presidente Luiz Inácio Lula da Silva lidera pesquisas de intenção de voto para o próximo ano.\n",
            "\n",
            "O principal argumento dos partidos para a decisão é evitar o risco de uma onda de questionamentos dos resultados eleitorais a partir do ano que vem, travando o Judiciário e as comarcas locais. \"O pessoal se preocupa de que isso vai criar um tumulto dentro do nosso vasto Brasil tendo uma infinidade de juízes de primeira instância que podem amanhã, por pressões ou outras questões, questionar\", disse o presidente do PSL, deputado Luciano Bivar (PE), ao Broadcast Político. O PSL tem a maior bancada da Câmara, ao lado do PT, com 53 deputados. Para Bivar, a PEC deve ser engavetada. \"Acho que nem vai votar.\"\n",
            "\n",
            "Participaram da reunião os presidentes do PSL, Progressistas, PL, PSD, MDB, PSDB, Republicanos, DEM, Solidariedade, Avante e Cidadania. O presidente do Progressistas, Ciro Nogueira (PP-PI), aliado de Bolsonaro, foi o primeiro a falar e \"puxou\" a decisão do bloco. \"A única coisa que nos uniu é manter o sistema atual\", disse o presidente do Solidariedade, deputado Paulinho da Força (SP), em tom de brincadeira. \"Tem vários argumentos, mas talvez o mais forte seja o de que teria uma eleição muito judicializada no Brasil\", afirmou. Ele ainda disse que, para derrubar a PEC, os partidos estão dispostos a substituir os membros da comissão especial na Câmara. \"Se for o caso, troca.\"\n",
            "\n",
            "O presidente Jair Bolsonaro defende o voto impresso e disse diversas vezes que houve fraude na própria eleição que o elegeu em 2018. Ele sustenta a ideia de que teria vencido no primeiro turno. Questionado formalmente pelo TSE, o chefe do Planalto não apresentou nenhuma prova de irregularidade. Em tom de ameaça, ele já disse que não haverá eleição no Brasil sem o voto impresso. Neste sábado, 26, em Chapecó (SC), o presidente discursou a um grupo de apoiadores e voltou a defender a tese, novamente citando possibilidade de fraude e criticando Lula. \"Tiraram um vagabundo da cadeia, tornaram esse vagabundo elegível e querem agora tornar o presidente pela fraude. Não conseguirão.\"\n",
            "\n",
            "A postura de Bolsonaro é vista por dirigentes partidários como reação eleitoral. Além disso, lideranças enxergam um derretimento da imagem do presidente em parcela do eleitorado, o que diminui a influência do presidente entre os parlamentares. \"Para não ter eleição, tem que dar um golpe. Para dar um golpe, precisa ter sustentação política, especialmente fora do País\", afirmou Paulinho da Força. Ex-aliado de Bolsonaro e presidente do partido que o elegeu em 2018, Luciano Bivar afirmou que a força do sistema em vigor no País supera a tentativa do atual chefe do Executivo. \"São bravatas. Estou no Estado de Direito. Ninguém tem esse poder onipotente de dizer que, se não for como ele quer, não vai existir isso e aquilo. Isso quem fala é a sociedade, é o sistema.\"\n",
            "\n",
            "O presidente do TSE, ministro Luís Roberto Barroso, avaliou que o Congresso deve recuar de aprovar a medida. O risco para a segurança das eleições é o principal motivo para a mudança de ideia, afirmou durante entrevista ao Grupo Prerrogativas transmitida nas redes sociais. \"Acho que não vai prevalecer essa história do voto impresso. O voto impresso vai ser uma volta no túnel do tempo a um país de fraudes e de eleições contestadas\", disse. \"Não é por outra razão que eu acho que os partidos políticos e mesmo as pessoas de boa-fé que acreditaram nessa ideia estão voltando atrás.\"\n",
            "\n",
            "Em tramitação na Câmara, a PEC não acaba com a urna eletrônica, mas inclui na Constituição um artigo que torna obrigatória a impressão de comprovantes físicos de votação, que devem ser depositados automaticamente em uma caixa de acrílico acoplada ao equipamento. Com isso, o eleitor poderia conferir se o recibo em papel coincide com o que digitou. Para que seja válida nas eleições de 2022, a medida precisa ser aprovada pela Câmara e pelo Senado até outubro deste ano. Barroso disse que tem tentado desfazer uma posição de partidos de esquerda que admitiram apoiar a proposta por \"não custar nada\" implantar mais um sistema de checagem. \"Custa, porque nós vamos criar um mecanismo de auditagem, que é o voto impresso, menos seguro que o objeto da auditagem, que é a urna eletrônica.\"\n",
            "https://noticias.uol.com.br/ultimas-noticias/bbc/2021/07/17/a-revolta-causada-pela-seca-que-enfraqueceu-um-dos-imperios-mais-poderosos-do-mundo.htm\n",
            "Assim como no caso do Império Otomano, mudanças climáticas agem como 'multiplicador de ameaças' ? quando agitação social coincide com condições meteorológicas extremas, pode haver consequências devastadoras.\n",
            "            \n",
            "No fim do século 16, centenas de bandidos invadiram os campos rurais da Anatólia a cavalo, saqueando vilas, incitando a violência e desestabilizando o poder do sultão.\n",
            "Quatrocentos anos depois e a algumas centenas de quilômetros de distância, onde hoje é a Síria, uma série de protestos generalizados se transformou em 2011 em uma sangrenta guerra civil que perdura até hoje.\n",
            "\n"
          ],
          "name": "stdout"
        }
      ]
    }
  ]
}