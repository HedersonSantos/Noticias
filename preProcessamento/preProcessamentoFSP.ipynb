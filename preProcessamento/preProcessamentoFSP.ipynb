{
  "nbformat": 4,
  "nbformat_minor": 0,
  "metadata": {
    "colab": {
      "name": "preProcessamentoFSP.ipynb",
      "provenance": [],
      "collapsed_sections": [],
      "authorship_tag": "ABX9TyModokQKk//rQKxkRab+aUJ",
      "include_colab_link": true
    },
    "kernelspec": {
      "name": "python3",
      "display_name": "Python 3"
    },
    "language_info": {
      "name": "python"
    }
  },
  "cells": [
    {
      "cell_type": "markdown",
      "metadata": {
        "id": "view-in-github",
        "colab_type": "text"
      },
      "source": [
        "<a href=\"https://colab.research.google.com/github/HedersonSantos/Noticias/blob/main/preProcessamento/preProcessamentoFSP.ipynb\" target=\"_parent\"><img src=\"https://colab.research.google.com/assets/colab-badge.svg\" alt=\"Open In Colab\"/></a>"
      ]
    },
    {
      "cell_type": "code",
      "metadata": {
        "id": "Q07HsC2GS8NZ"
      },
      "source": [
        "import pandas as pd\n",
        "import numpy as np\n",
        "from google.colab import files, drive\n",
        "from pathlib import Path\n",
        "from sklearn.model_selection import train_test_split\n",
        "import io, re\n",
        "pd.set_option('display.max_columns', None)\n",
        "pd.set_option('display.max_rows', None)\n",
        "pd.set_option('max_colwidth', None)"
      ],
      "execution_count": 50,
      "outputs": []
    },
    {
      "cell_type": "markdown",
      "metadata": {
        "id": "ht1KhOAqTcz6"
      },
      "source": [
        "### Montando Google Driver e abrindo arquivos de noticias"
      ]
    },
    {
      "cell_type": "markdown",
      "metadata": {
        "id": "EMhQp7LQfU1q"
      },
      "source": [
        "o arquivo articles.csv contém 167053 noticias da Folha de São Paulo. Este dataset está disponível em .... <br>\n",
        "O arquivo news.csv contém xxx noticias extraídos dos sites UOL, G1, GoogleNews, Poder360 através de web scrapping cujo algoritmo foi montado por nós."
      ]
    },
    {
      "cell_type": "code",
      "metadata": {
        "colab": {
          "base_uri": "https://localhost:8080/"
        },
        "id": "SA5KAl6MTN5z",
        "outputId": "3d26b904-d6b9-4b10-f3a4-eb5a4947cbcb"
      },
      "source": [
        "drive.mount('/gdrive')\n",
        "%cd /gdrive/My\\ Drive/Colab\\ Notebooks/nlp_tcc\n",
        "path = '/gdrive/My Drive/Colab Notebooks/nlp_tcc'\n",
        "KEY='4/1AX4XfWjO8LFULyUVA2hr76Ekj281Rn58ieVYw_BkgE4HYvy9Lf8PJ1W3aOQ'"
      ],
      "execution_count": 51,
      "outputs": [
        {
          "output_type": "stream",
          "text": [
            "Drive already mounted at /gdrive; to attempt to forcibly remount, call drive.mount(\"/gdrive\", force_remount=True).\n",
            "/gdrive/My Drive/Colab Notebooks/nlp_tcc\n"
          ],
          "name": "stdout"
        }
      ]
    },
    {
      "cell_type": "code",
      "metadata": {
        "colab": {
          "base_uri": "https://localhost:8080/"
        },
        "id": "1wCE1tzZB0pR",
        "outputId": "7252541f-020b-4d43-a1a2-fd764a4bcefb"
      },
      "source": [
        "!rm *.zip\n",
        "!ls"
      ],
      "execution_count": 52,
      "outputs": [
        {
          "output_type": "stream",
          "text": [
            "rm: cannot remove '*.zip': No such file or directory\n",
            "articles.csv  news.csv\tnoticia_tratada.csv\n"
          ],
          "name": "stdout"
        }
      ]
    },
    {
      "cell_type": "code",
      "metadata": {
        "id": "7MNdNYYYTybp"
      },
      "source": [
        "#!unzip noticiasFSP.zip\n",
        "#!ls *.csv\n"
      ],
      "execution_count": 53,
      "outputs": []
    },
    {
      "cell_type": "code",
      "metadata": {
        "colab": {
          "base_uri": "https://localhost:8080/"
        },
        "id": "z7s92YzMepOX",
        "outputId": "c9af7ff2-0971-4433-edd6-515668248d9b"
      },
      "source": [
        "!ls *.csv -lh"
      ],
      "execution_count": 54,
      "outputs": [
        {
          "output_type": "stream",
          "text": [
            "-rw------- 1 root root 481M Jul 24 17:03 articles.csv\n",
            "-rw------- 1 root root  93M Jul 24 15:58 news.csv\n",
            "-rw------- 1 root root  93M Jul 24 15:42 noticia_tratada.csv\n"
          ],
          "name": "stdout"
        }
      ]
    },
    {
      "cell_type": "markdown",
      "metadata": {
        "id": "tOGwdFrQhbNe"
      },
      "source": [
        "**Conjunto de Notícias da Folha de São Paulo**"
      ]
    },
    {
      "cell_type": "code",
      "metadata": {
        "colab": {
          "base_uri": "https://localhost:8080/"
        },
        "id": "5uxjH-YneHXp",
        "outputId": "070e3835-d40d-4bf8-a2df-ee250b835f03"
      },
      "source": [
        "dfFSP = pd.read_csv('articles.csv', header=0)\n",
        "print(dfFSP.columns)\n",
        "dfFSP.shape"
      ],
      "execution_count": 55,
      "outputs": [
        {
          "output_type": "stream",
          "text": [
            "Index(['title', 'text', 'date', 'category', 'subcategory', 'link'], dtype='object')\n"
          ],
          "name": "stdout"
        },
        {
          "output_type": "execute_result",
          "data": {
            "text/plain": [
              "(167053, 6)"
            ]
          },
          "metadata": {
            "tags": []
          },
          "execution_count": 55
        }
      ]
    },
    {
      "cell_type": "code",
      "metadata": {
        "colab": {
          "base_uri": "https://localhost:8080/",
          "height": 436
        },
        "id": "Q1PdhjppebTH",
        "outputId": "8f5252ab-93d5-4a48-b0f0-fadd61c37f94"
      },
      "source": [
        "dfFSP.head(1)"
      ],
      "execution_count": 56,
      "outputs": [
        {
          "output_type": "execute_result",
          "data": {
            "text/html": [
              "<div>\n",
              "<style scoped>\n",
              "    .dataframe tbody tr th:only-of-type {\n",
              "        vertical-align: middle;\n",
              "    }\n",
              "\n",
              "    .dataframe tbody tr th {\n",
              "        vertical-align: top;\n",
              "    }\n",
              "\n",
              "    .dataframe thead th {\n",
              "        text-align: right;\n",
              "    }\n",
              "</style>\n",
              "<table border=\"1\" class=\"dataframe\">\n",
              "  <thead>\n",
              "    <tr style=\"text-align: right;\">\n",
              "      <th></th>\n",
              "      <th>title</th>\n",
              "      <th>text</th>\n",
              "      <th>date</th>\n",
              "      <th>category</th>\n",
              "      <th>subcategory</th>\n",
              "      <th>link</th>\n",
              "    </tr>\n",
              "  </thead>\n",
              "  <tbody>\n",
              "    <tr>\n",
              "      <th>0</th>\n",
              "      <td>Lula diz que está 'lascado', mas que ainda tem força como cabo eleitoral</td>\n",
              "      <td>Com a possibilidade de uma condenação impedir sua candidatura em 2018, o ex-presidente Luiz Inácio Lula da Silva fez, nesta segunda (9), um discurso inflamado contra a Lava Jato, no qual disse saber que está \"lascado\", exigiu um pedido de desculpas do juiz Sergio Moro e afirmou que, mesmo fora da disputa pelo Planalto, será um cabo eleitoral expressivo para a sucessão de Michel Temer.  Segundo o petista, réu em sete ações penais, o objetivo de Moro é impedir sua candidatura no ano que vem, desidratando-o, inclusive, no apoio a um nome alternativo, como o do ex-prefeito de São Paulo Fernando Haddad (PT), caso ele não possa concorrer à Presidência.  \"Eu sei que tô lascado, todo dia tem um processo. Eu não quero nem que Moro me absolva, eu só quero que ele peça desculpas\", disse Lula durante um seminário sobre educação em Brasília. \"Eles [investigadores] chegam a dizer: 'Ah, se o Lula não for candidato, ele não vai ter força como cabo eleitoral'. Testem\", completou o petista.  Para o ex-presidente, Moro usou \"mentiras contadas pela Polícia Federal e pelo Ministério Público\" para julgá-lo e condená-lo a nove anos e seis meses de prisão pelo caso do tríplex em Guarujá (SP).  O ex-presidente disse ainda não ter \"medo\" dos investigadores que, de acordo com ele, estão acostumados a \"mexer com deputados e senadores\" que temem as apurações.  \"Eu quero que eles saibam o seguinte: se eles estão acostumados a lidar com deputado que tem medo deles, a mexer com senadores que têm medo deles, quero dizer que tenho respeito profundo por quem me respeita, pelas leis que nós ajudamos a criar, mas não tenho respeito por quem não me respeita e eles não me respeitaram\", afirmou o petista.    De acordo com aliados, Lula não gosta de discutir, mesmo que nos bastidores, a chance de não ser candidato ao Planalto e a projeção do nome de Haddad como plano B do PT tem incomodado os mais próximos ao ex-presidente. O ex-prefeito, que estava no evento nesta segunda, fez um discurso rápido, de menos de dez minutos, em que encerrou dizendo esperar que Lula assuma a Presidência em 2019.  \"Espero que dia 1º de janeiro de 2019 esse pesadelo chamado Temer acabe e o senhor assuma a Presidência da República\", disse Haddad.  'DEMÔNIO DO MERCADO'  Lula voltou a fazer um discurso mais agressivo em relação ao mercado e disse que \"não tem cara de demônio\", mas quer que o respeitem \"como se fosse\".  \"Não tenho cara de demônio, mas quero que eles me respeitem como se eu fosse, porque eles sabem que a economia não vai ficar subordinada ao elitismo da sociedade brasileira\", disse o ex-presidente.  O petista rivalizou ainda com o deputado Jair Bolsonaro (PSC-RJ), segundo colocado nas últimas pesquisas empatado com Marina Silva, e disse que se ele \"agrada ao mercado\", o PT tem que \"desagradar\".  A Folha publicou nesta segunda (9) reportagem em que mostrou que o deputado ensaia movimento ao centro no debate econômico, adotando um discurso simpático aos investidores do mercado financeiro.</td>\n",
              "      <td>2017-09-10</td>\n",
              "      <td>poder</td>\n",
              "      <td>NaN</td>\n",
              "      <td>http://www1.folha.uol.com.br/poder/2017/10/1925743-lula-diz-que-esta-lascado-mas-que-ainda-tem-forca-como-cabo-eleitoral.shtml</td>\n",
              "    </tr>\n",
              "  </tbody>\n",
              "</table>\n",
              "</div>"
            ],
            "text/plain": [
              "                                                                      title  \\\n",
              "0  Lula diz que está 'lascado', mas que ainda tem força como cabo eleitoral   \n",
              "\n",
              "                                                                                                                                                                                                                                                                                                                                                                                                                                                                                                                                                                                                                                                                                                                                                                                                                                                                                                                                                                                                                                                                                                                                                                                                                                                                                                                                                                                                                                                                                                                                                                                                                                                                                                                                                                                                                                                                                                                                                                                                                                                                                                                                                                                                                                                                                                                                                                                                                                                                                                                                                                                                                                                                                                                                                                                                                                                                                                                                                                                                                                                                                                            text  \\\n",
              "0  Com a possibilidade de uma condenação impedir sua candidatura em 2018, o ex-presidente Luiz Inácio Lula da Silva fez, nesta segunda (9), um discurso inflamado contra a Lava Jato, no qual disse saber que está \"lascado\", exigiu um pedido de desculpas do juiz Sergio Moro e afirmou que, mesmo fora da disputa pelo Planalto, será um cabo eleitoral expressivo para a sucessão de Michel Temer.  Segundo o petista, réu em sete ações penais, o objetivo de Moro é impedir sua candidatura no ano que vem, desidratando-o, inclusive, no apoio a um nome alternativo, como o do ex-prefeito de São Paulo Fernando Haddad (PT), caso ele não possa concorrer à Presidência.  \"Eu sei que tô lascado, todo dia tem um processo. Eu não quero nem que Moro me absolva, eu só quero que ele peça desculpas\", disse Lula durante um seminário sobre educação em Brasília. \"Eles [investigadores] chegam a dizer: 'Ah, se o Lula não for candidato, ele não vai ter força como cabo eleitoral'. Testem\", completou o petista.  Para o ex-presidente, Moro usou \"mentiras contadas pela Polícia Federal e pelo Ministério Público\" para julgá-lo e condená-lo a nove anos e seis meses de prisão pelo caso do tríplex em Guarujá (SP).  O ex-presidente disse ainda não ter \"medo\" dos investigadores que, de acordo com ele, estão acostumados a \"mexer com deputados e senadores\" que temem as apurações.  \"Eu quero que eles saibam o seguinte: se eles estão acostumados a lidar com deputado que tem medo deles, a mexer com senadores que têm medo deles, quero dizer que tenho respeito profundo por quem me respeita, pelas leis que nós ajudamos a criar, mas não tenho respeito por quem não me respeita e eles não me respeitaram\", afirmou o petista.    De acordo com aliados, Lula não gosta de discutir, mesmo que nos bastidores, a chance de não ser candidato ao Planalto e a projeção do nome de Haddad como plano B do PT tem incomodado os mais próximos ao ex-presidente. O ex-prefeito, que estava no evento nesta segunda, fez um discurso rápido, de menos de dez minutos, em que encerrou dizendo esperar que Lula assuma a Presidência em 2019.  \"Espero que dia 1º de janeiro de 2019 esse pesadelo chamado Temer acabe e o senhor assuma a Presidência da República\", disse Haddad.  'DEMÔNIO DO MERCADO'  Lula voltou a fazer um discurso mais agressivo em relação ao mercado e disse que \"não tem cara de demônio\", mas quer que o respeitem \"como se fosse\".  \"Não tenho cara de demônio, mas quero que eles me respeitem como se eu fosse, porque eles sabem que a economia não vai ficar subordinada ao elitismo da sociedade brasileira\", disse o ex-presidente.  O petista rivalizou ainda com o deputado Jair Bolsonaro (PSC-RJ), segundo colocado nas últimas pesquisas empatado com Marina Silva, e disse que se ele \"agrada ao mercado\", o PT tem que \"desagradar\".  A Folha publicou nesta segunda (9) reportagem em que mostrou que o deputado ensaia movimento ao centro no debate econômico, adotando um discurso simpático aos investidores do mercado financeiro.   \n",
              "\n",
              "         date category subcategory  \\\n",
              "0  2017-09-10    poder         NaN   \n",
              "\n",
              "                                                                                                                             link  \n",
              "0  http://www1.folha.uol.com.br/poder/2017/10/1925743-lula-diz-que-esta-lascado-mas-que-ainda-tem-forca-como-cabo-eleitoral.shtml  "
            ]
          },
          "metadata": {
            "tags": []
          },
          "execution_count": 56
        }
      ]
    },
    {
      "cell_type": "markdown",
      "metadata": {
        "id": "Rg0ifeCNhrHu"
      },
      "source": [
        "**Quantidade de noticias por categoria**"
      ]
    },
    {
      "cell_type": "code",
      "metadata": {
        "id": "I4AFC0MSfGzP"
      },
      "source": [
        "#['title', 'text', 'date', 'category', 'subcategory', 'link'\n",
        "categoriaFSP = dfFSP.groupby(['category'])['link'].count().reset_index().sort_values(by = 'link', ascending=False)"
      ],
      "execution_count": 57,
      "outputs": []
    },
    {
      "cell_type": "markdown",
      "metadata": {
        "id": "urz3dmz2iKOz"
      },
      "source": [
        "**Conjunto de Notícias da nossa base de dados**"
      ]
    },
    {
      "cell_type": "code",
      "metadata": {
        "colab": {
          "base_uri": "https://localhost:8080/"
        },
        "id": "_43R0jQBiESU",
        "outputId": "fa7d11d0-aafe-4d23-a9d2-7bd5df10b066"
      },
      "source": [
        "dfNews = pd.read_csv('news.csv', header=0)\n",
        "print(dfNews.columns)\n",
        "dfNews.shape"
      ],
      "execution_count": 58,
      "outputs": [
        {
          "output_type": "stream",
          "text": [
            "Index(['FONTE', 'CATEGORIA', 'TEXTO', 'URL', 'PUBLISHEDAT', 'TITLE', 'AUTHOR',\n",
            "       'DT_REGISTRO', 'TEXT_TRATADO'],\n",
            "      dtype='object')\n"
          ],
          "name": "stdout"
        },
        {
          "output_type": "execute_result",
          "data": {
            "text/plain": [
              "(11176, 9)"
            ]
          },
          "metadata": {
            "tags": []
          },
          "execution_count": 58
        }
      ]
    },
    {
      "cell_type": "code",
      "metadata": {
        "id": "G3fgFvzpi7CR"
      },
      "source": [
        "'''tornando o nome das colunas dos dois datasets iguais '''\n",
        "dfNews = dfNews.rename(columns={'CATEGORIA':'category',\n",
        "                       'URL':'link',\n",
        "                       'PUBLISHEDAT':'date',\n",
        "                       'TITLE':'title',\n",
        "                       'TEXT_TRATADO':'text',\n",
        "                       'FONTE':'fonte'}).copy()\n",
        "dfNews = dfNews[['title', 'text', 'date', 'category', 'link','fonte']]\n",
        "\n",
        "\n",
        "    "
      ],
      "execution_count": 59,
      "outputs": []
    },
    {
      "cell_type": "code",
      "metadata": {
        "colab": {
          "base_uri": "https://localhost:8080/",
          "height": 273
        },
        "id": "SBxDFO9NlAUd",
        "outputId": "a79e26db-e454-4f2c-9345-edc932adcf2d"
      },
      "source": [
        "dfNews.head(1)"
      ],
      "execution_count": 60,
      "outputs": [
        {
          "output_type": "execute_result",
          "data": {
            "text/html": [
              "<div>\n",
              "<style scoped>\n",
              "    .dataframe tbody tr th:only-of-type {\n",
              "        vertical-align: middle;\n",
              "    }\n",
              "\n",
              "    .dataframe tbody tr th {\n",
              "        vertical-align: top;\n",
              "    }\n",
              "\n",
              "    .dataframe thead th {\n",
              "        text-align: right;\n",
              "    }\n",
              "</style>\n",
              "<table border=\"1\" class=\"dataframe\">\n",
              "  <thead>\n",
              "    <tr style=\"text-align: right;\">\n",
              "      <th></th>\n",
              "      <th>title</th>\n",
              "      <th>text</th>\n",
              "      <th>date</th>\n",
              "      <th>category</th>\n",
              "      <th>link</th>\n",
              "      <th>fonte</th>\n",
              "    </tr>\n",
              "  </thead>\n",
              "  <tbody>\n",
              "    <tr>\n",
              "      <th>0</th>\n",
              "      <td>Putin não espera \"grandes avanços\" em cúpula com Biden</td>\n",
              "      <td>Em entrevista para as principais agências de notícias internacionais, incluindo a Efe, Putin enfatizou que os dois países, apesar das discordâncias, têm interesses em comum e que ele está confiante que a cúpula com Biden será construtiva.\\nEntre as áreas de interesse comum, o chefe do Kremlin citou a solução de problemas ambientais, segurança estratégica e a dissolução de uma série de crises regionais.\\n\"Isso é muito importante, porque tem a ver com a segurança de nossos países\", afirmou Putin, além de destacar, por exemplo, que a crise no Oriente Médio \"leva ao crescimento do terrorismo\".\\n\"(Isso é) muito perigoso para todos, para os Estados Unidos, para a Rússia, para a Europa, para outras regiões do mundo\", acrescentou.\\nPutin enfatizou a importância da segurança estratégica e garantiu que a Rússia não quer \"assustar ninguém\" com seus novos armamentos.\\n\"Sim, estamos desenvolvendo esses armamentos e conseguimos certos resultados\", disse o mandatário, para quem a Rússia está um passo \"à frente\" de outros países.\\nEle também admitiu que os Estados Unidos e outras potências logo alcançarão resultados semelhantes, e portanto \"é melhor pensar em como vamos viver juntos\".\\n\\nO Conselho Tutelar de\\nIvaiporã foi acionado por volta das 12h30 de sexta-feira (4) para acompanhar\\nalgumas...\\nO sábado (5) começa com tempo estável nas regiões paranaenses. Ao amanhecer, Apucarana e Arapongas registraram...\\nO Senado vai analisar a Medida Provisória 1.034/2021, que aumenta a tributação de instituições financeiras O texto \\nEm meio à pandemia da Covid-19, especialistas apontam que a menor frequência nos parques públicos pode estar...\\nA Empresa de Limpeza Urbana de Salvador (Limpurb) fará uma série de ações até 11 de junho como parte da campanha...\\nOs ministros das Finanças do G7 esperam anunciar um acordo neste sábado (5) sobre um imposto mínimo global e uma...</td>\n",
              "      <td>2021-06-05T03:00:00Z</td>\n",
              "      <td>mundo</td>\n",
              "      <td>https://noticias.uol.com.br/ultimas-noticias/efe/2021/06/05/putin-nao-espera-grandes-avancos-em-cupula-com-biden.htm</td>\n",
              "      <td>UOL</td>\n",
              "    </tr>\n",
              "  </tbody>\n",
              "</table>\n",
              "</div>"
            ],
            "text/plain": [
              "                                                    title  \\\n",
              "0  Putin não espera \"grandes avanços\" em cúpula com Biden   \n",
              "\n",
              "                                                                                                                                                                                                                                                                                                                                                                                                                                                                                                                                                                                                                                                                                                                                                                                                                                                                                                                                                                                                                                                                                                                                                                                                                                                                                                                                                                                                                                                                                                                                                                                                                                                                                                                                                                                                                                                                                                                                                        text  \\\n",
              "0  Em entrevista para as principais agências de notícias internacionais, incluindo a Efe, Putin enfatizou que os dois países, apesar das discordâncias, têm interesses em comum e que ele está confiante que a cúpula com Biden será construtiva.\\nEntre as áreas de interesse comum, o chefe do Kremlin citou a solução de problemas ambientais, segurança estratégica e a dissolução de uma série de crises regionais.\\n\"Isso é muito importante, porque tem a ver com a segurança de nossos países\", afirmou Putin, além de destacar, por exemplo, que a crise no Oriente Médio \"leva ao crescimento do terrorismo\".\\n\"(Isso é) muito perigoso para todos, para os Estados Unidos, para a Rússia, para a Europa, para outras regiões do mundo\", acrescentou.\\nPutin enfatizou a importância da segurança estratégica e garantiu que a Rússia não quer \"assustar ninguém\" com seus novos armamentos.\\n\"Sim, estamos desenvolvendo esses armamentos e conseguimos certos resultados\", disse o mandatário, para quem a Rússia está um passo \"à frente\" de outros países.\\nEle também admitiu que os Estados Unidos e outras potências logo alcançarão resultados semelhantes, e portanto \"é melhor pensar em como vamos viver juntos\".\\n\\nO Conselho Tutelar de\\nIvaiporã foi acionado por volta das 12h30 de sexta-feira (4) para acompanhar\\nalgumas...\\nO sábado (5) começa com tempo estável nas regiões paranaenses. Ao amanhecer, Apucarana e Arapongas registraram...\\nO Senado vai analisar a Medida Provisória 1.034/2021, que aumenta a tributação de instituições financeiras O texto \\nEm meio à pandemia da Covid-19, especialistas apontam que a menor frequência nos parques públicos pode estar...\\nA Empresa de Limpeza Urbana de Salvador (Limpurb) fará uma série de ações até 11 de junho como parte da campanha...\\nOs ministros das Finanças do G7 esperam anunciar um acordo neste sábado (5) sobre um imposto mínimo global e uma...   \n",
              "\n",
              "                   date category  \\\n",
              "0  2021-06-05T03:00:00Z    mundo   \n",
              "\n",
              "                                                                                                                   link  \\\n",
              "0  https://noticias.uol.com.br/ultimas-noticias/efe/2021/06/05/putin-nao-espera-grandes-avancos-em-cupula-com-biden.htm   \n",
              "\n",
              "  fonte  \n",
              "0   UOL  "
            ]
          },
          "metadata": {
            "tags": []
          },
          "execution_count": 60
        }
      ]
    },
    {
      "cell_type": "code",
      "metadata": {
        "id": "WxvvbTjBivKl"
      },
      "source": [
        "categoriaNossa = dfNews.groupby(['category'])['link'].count().reset_index().sort_values(by = 'link', ascending=False)"
      ],
      "execution_count": 61,
      "outputs": []
    },
    {
      "cell_type": "markdown",
      "metadata": {
        "id": "Ni1IVHngnuu5"
      },
      "source": [
        "### Integrando as duas bases de dados de noticias"
      ]
    },
    {
      "cell_type": "code",
      "metadata": {
        "colab": {
          "base_uri": "https://localhost:8080/"
        },
        "id": "DB_DKkiOst49",
        "outputId": "b56f0865-01b3-4383-f7a5-617a01661aa3"
      },
      "source": [
        "dfFSP['fonte']='FolhaSP'\n",
        "dfnoticias = pd.concat([dfFSP,dfNews],sort=False)\n",
        "dfnoticias.shape"
      ],
      "execution_count": 62,
      "outputs": [
        {
          "output_type": "execute_result",
          "data": {
            "text/plain": [
              "(178229, 7)"
            ]
          },
          "metadata": {
            "tags": []
          },
          "execution_count": 62
        }
      ]
    },
    {
      "cell_type": "code",
      "metadata": {
        "colab": {
          "base_uri": "https://localhost:8080/"
        },
        "id": "F4UY4Qi4uzSM",
        "outputId": "50c462f2-b4ec-429a-c48d-72e30f9fc25b"
      },
      "source": [
        "dfnoticias['fonte'].value_counts()"
      ],
      "execution_count": 63,
      "outputs": [
        {
          "output_type": "execute_result",
          "data": {
            "text/plain": [
              "FolhaSP           167053\n",
              "UOL                 4034\n",
              "google-news-br      2089\n",
              "Poder360            1448\n",
              "Notícias da TV      1262\n",
              "Name: fonte, dtype: int64"
            ]
          },
          "metadata": {
            "tags": []
          },
          "execution_count": 63
        }
      ]
    },
    {
      "cell_type": "code",
      "metadata": {
        "id": "kosIxvRXnq6o"
      },
      "source": [
        "deParaCategorias = pd.merge(categoriaFSP[['category','link']], categoriaNossa, on=['category'], how='outer')"
      ],
      "execution_count": 64,
      "outputs": []
    },
    {
      "cell_type": "markdown",
      "metadata": {
        "id": "cTLODU2psI8H"
      },
      "source": [
        "**Categorias com mesmo nome nos dois conjunto de dados**"
      ]
    },
    {
      "cell_type": "code",
      "metadata": {
        "colab": {
          "base_uri": "https://localhost:8080/",
          "height": 200
        },
        "id": "2s3P9H1doxO4",
        "outputId": "b0182e02-8260-4024-ec55-16227658a2f3"
      },
      "source": [
        "deParaCategorias[(~deParaCategorias['link_x'].isnull()) & (~deParaCategorias['link_y'].isnull()) ]"
      ],
      "execution_count": 65,
      "outputs": [
        {
          "output_type": "execute_result",
          "data": {
            "text/html": [
              "<div>\n",
              "<style scoped>\n",
              "    .dataframe tbody tr th:only-of-type {\n",
              "        vertical-align: middle;\n",
              "    }\n",
              "\n",
              "    .dataframe tbody tr th {\n",
              "        vertical-align: top;\n",
              "    }\n",
              "\n",
              "    .dataframe thead th {\n",
              "        text-align: right;\n",
              "    }\n",
              "</style>\n",
              "<table border=\"1\" class=\"dataframe\">\n",
              "  <thead>\n",
              "    <tr style=\"text-align: right;\">\n",
              "      <th></th>\n",
              "      <th>category</th>\n",
              "      <th>link_x</th>\n",
              "      <th>link_y</th>\n",
              "    </tr>\n",
              "  </thead>\n",
              "  <tbody>\n",
              "    <tr>\n",
              "      <th>1</th>\n",
              "      <td>colunas</td>\n",
              "      <td>21622.0</td>\n",
              "      <td>263.0</td>\n",
              "    </tr>\n",
              "    <tr>\n",
              "      <th>3</th>\n",
              "      <td>esporte</td>\n",
              "      <td>19730.0</td>\n",
              "      <td>590.0</td>\n",
              "    </tr>\n",
              "    <tr>\n",
              "      <th>4</th>\n",
              "      <td>mundo</td>\n",
              "      <td>17130.0</td>\n",
              "      <td>1251.0</td>\n",
              "    </tr>\n",
              "    <tr>\n",
              "      <th>5</th>\n",
              "      <td>cotidiano</td>\n",
              "      <td>16967.0</td>\n",
              "      <td>77.0</td>\n",
              "    </tr>\n",
              "    <tr>\n",
              "      <th>12</th>\n",
              "      <td>educacao</td>\n",
              "      <td>2118.0</td>\n",
              "      <td>27.0</td>\n",
              "    </tr>\n",
              "  </tbody>\n",
              "</table>\n",
              "</div>"
            ],
            "text/plain": [
              "     category   link_x  link_y\n",
              "1     colunas  21622.0   263.0\n",
              "3     esporte  19730.0   590.0\n",
              "4       mundo  17130.0  1251.0\n",
              "5   cotidiano  16967.0    77.0\n",
              "12   educacao   2118.0    27.0"
            ]
          },
          "metadata": {
            "tags": []
          },
          "execution_count": 65
        }
      ]
    },
    {
      "cell_type": "markdown",
      "metadata": {
        "id": "vTBdwIcDsYxr"
      },
      "source": [
        "**Categorias que estão no nosso dataset e não estão no dataset da FSP**"
      ]
    },
    {
      "cell_type": "code",
      "metadata": {
        "colab": {
          "base_uri": "https://localhost:8080/",
          "height": 100
        },
        "id": "IdHC0OQXskeL",
        "outputId": "f27d8b10-8758-4f5a-e321-0d01f48960b8"
      },
      "source": [
        "str(deParaCategorias[(deParaCategorias['link_x'].isnull()) ]['category'].tolist())"
      ],
      "execution_count": 66,
      "outputs": [
        {
          "output_type": "execute_result",
          "data": {
            "application/vnd.google.colaboratory.intrinsic+json": {
              "type": "string"
            },
            "text/plain": [
              "\"['midia', 'local', 'politica', 'novelas', 'miscelanea', 'saude', 'economia', 'brasil', 'coronavirus', 'justica', 'celebridades', 'tecnologia', 'fantastico', 'meio-ambiente', 'podcast', 'eleicoes', 'loterias', 'casos-de-policia', 'olimpiadas', 'pesquisas', 'confere', 'enem', 'carros', 'agronegocios', 'pme', 'mais', 'tilt, reuters', 'portuguese', 'legislacao', 'atitude', 'internet', 'coluna', 'especiais', 'start', 'sociedade, educacao', 'realities', 'programas, 3-em-1', 'comprova', 'pix', 'combate', 'transito', 'nieman', 'motor', 'inovacao', 'historia', 'nossa', 'carros, colunas', 'boxe', 'tilt, estado', 'brics', 'mais, levante', 'sociedade, epoca', 'saude, estado', 'eurocopa', 'rio, rio', 'golfe', 'programas', 'carros, colunas, infomoto', 'justica, 3-dos-ex-pms-levados-por-salles-para-ministerio-foram-afastados-pelo-stf', 'exercito', 'diplomacia', 'redacao']\""
            ]
          },
          "metadata": {
            "tags": []
          },
          "execution_count": 66
        }
      ]
    },
    {
      "cell_type": "code",
      "metadata": {
        "colab": {
          "base_uri": "https://localhost:8080/",
          "height": 83
        },
        "id": "CAprcExsudGq",
        "outputId": "244e9091-5986-4ba5-c4c4-c030c863fe09"
      },
      "source": [
        "str(categoriaFSP['category'].tolist())"
      ],
      "execution_count": 67,
      "outputs": [
        {
          "output_type": "execute_result",
          "data": {
            "application/vnd.google.colaboratory.intrinsic+json": {
              "type": "string"
            },
            "text/plain": [
              "\"['poder', 'colunas', 'mercado', 'esporte', 'mundo', 'cotidiano', 'ilustrada', 'opiniao', 'paineldoleitor', 'saopaulo', 'tec', 'tv', 'educacao', 'turismo', 'ilustrissima', 'ciencia', 'equilibrioesaude', 'sobretudo', 'bbc', 'folhinha', 'empreendedorsocial', 'comida', 'asmais', 'ambiente', 'seminariosfolha', 'serafina', 'o-melhor-de-sao-paulo', 'vice', 'guia-de-livros-discos-filmes', 'topofmind', 'banco-de-dados', 'dw', 'especial', 'infograficos', 'cenarios-2017', 'rfi', 'guia-de-livros-filmes-discos', 'multimidia', 'treinamento', 'treinamentocienciaesaude', 'mulher', 'euronews', 'ombudsman', 'contas-de-casa', '2016', 'bichos', 'musica', '2015']\""
            ]
          },
          "metadata": {
            "tags": []
          },
          "execution_count": 67
        }
      ]
    },
    {
      "cell_type": "markdown",
      "metadata": {
        "id": "O0Z2A5HGvDqU"
      },
      "source": [
        "DE/PARA de categorias.\n",
        "\n",
        "nossa             FSP<br>\n",
        "midia      <--    tv, multimidia, novelas, celebridades   <br>\n",
        "local      <--    'saopaulo', 'o-melhor-de-sao-paulo' <br>\n",
        "politica      <--    poder <br>\n",
        "miscelanea -->     <br>\n",
        "saude      <--   equilibrioesaude <br>\n",
        "economia   <--   mercado <br>\n",
        "brasil                   <br>\n",
        "olimpiadas -->  esporte <br>\n",
        "tecnologia  <-- tec,'banco-de-dados', 'dw'  <br>\n",
        "meio-ambiente <-- ambiente <br>\n",
        "enem --> educacao\n",
        "\n",
        "\n",
        "\n",
        "\n",
        "\n",
        "\n"
      ]
    },
    {
      "cell_type": "code",
      "metadata": {
        "id": "oPwyitA387tp"
      },
      "source": [
        "dfnoticias['category'] = dfnoticias.loc[:,['category']].apply(lambda x: 'midia' if x['category'] in ['tv', 'multimidia', 'novelas', 'celebridades'] else \n",
        "                                                                        'local' if x['category'] in [ 'saopaulo', 'o-melhor-de-sao-paulo'] else \n",
        "                                                                        'politica' if x['category'] in ['poder'] else\n",
        "                                                                        'saude' if x['category'] in ['equilibrioesaude'] else \n",
        "                                                                        'economia' if x['category'] in ['mercado'] else\n",
        "                                                                        'esporte' if x['category'] in ['olimpiadas'] else\n",
        "                                                                        'tecnologia' if x['category'] in [ 'tec','banco-de-dados', 'dw'] else\n",
        "                                                                        'meio-ambiente' if x['category'] in [ 'ambiente'] else \n",
        "                                                                        'educacao' if x['category'] in ['enem'] else\n",
        "                                                                        x['category'], axis=1)\n"
      ],
      "execution_count": 68,
      "outputs": []
    },
    {
      "cell_type": "markdown",
      "metadata": {
        "id": "vGVPiswwAfGg"
      },
      "source": [
        "**Quantitativo de noticias por categoria**"
      ]
    },
    {
      "cell_type": "code",
      "metadata": {
        "colab": {
          "base_uri": "https://localhost:8080/"
        },
        "id": "MRiD9tmGACgL",
        "outputId": "3342b4af-9272-4e84-8a9c-cb83cc7fa8a4"
      },
      "source": [
        "dfnoticias['category'].value_counts()"
      ],
      "execution_count": 69,
      "outputs": [
        {
          "output_type": "execute_result",
          "data": {
            "text/plain": [
              "politica                                                                             23499\n",
              "colunas                                                                              21885\n",
              "economia                                                                             21476\n",
              "esporte                                                                              20331\n",
              "mundo                                                                                18381\n",
              "cotidiano                                                                            17044\n",
              "ilustrada                                                                            16345\n",
              "local                                                                                 5628\n",
              "midia                                                                                 4817\n",
              "opiniao                                                                               4525\n",
              "paineldoleitor                                                                        4011\n",
              "tecnologia                                                                            2458\n",
              "educacao                                                                              2150\n",
              "saude                                                                                 1910\n",
              "turismo                                                                               1903\n",
              "ilustrissima                                                                          1411\n",
              "ciencia                                                                               1335\n",
              "sobretudo                                                                             1057\n",
              "bbc                                                                                    980\n",
              "folhinha                                                                               876\n",
              "empreendedorsocial                                                                     841\n",
              "comida                                                                                 828\n",
              "miscelanea                                                                             768\n",
              "meio-ambiente                                                                          563\n",
              "asmais                                                                                 548\n",
              "brasil                                                                                 444\n",
              "seminariosfolha                                                                        379\n",
              "coronavirus                                                                            348\n",
              "serafina                                                                               334\n",
              "justica                                                                                205\n",
              "vice                                                                                   146\n",
              "guia-de-livros-discos-filmes                                                           143\n",
              "topofmind                                                                               86\n",
              "fantastico                                                                              79\n",
              "podcast                                                                                 51\n",
              "eleicoes                                                                                47\n",
              "especial                                                                                43\n",
              "infograficos                                                                            43\n",
              "cenarios-2017                                                                           43\n",
              "rfi                                                                                     29\n",
              "loterias                                                                                29\n",
              "guia-de-livros-filmes-discos                                                            28\n",
              "treinamento                                                                             21\n",
              "treinamentocienciaesaude                                                                18\n",
              "mulher                                                                                  16\n",
              "casos-de-policia                                                                        14\n",
              "pesquisas                                                                                8\n",
              "euronews                                                                                 8\n",
              "confere                                                                                  7\n",
              "carros                                                                                   5\n",
              "agronegocios                                                                             5\n",
              "tilt, reuters                                                                            4\n",
              "pme                                                                                      4\n",
              "mais                                                                                     4\n",
              "atitude                                                                                  3\n",
              "internet                                                                                 3\n",
              "coluna                                                                                   3\n",
              "portuguese                                                                               3\n",
              "ombudsman                                                                                3\n",
              "legislacao                                                                               3\n",
              "nieman                                                                                   2\n",
              "combate                                                                                  2\n",
              "motor                                                                                    2\n",
              "start                                                                                    2\n",
              "sociedade, educacao                                                                      2\n",
              "comprova                                                                                 2\n",
              "realities                                                                                2\n",
              "contas-de-casa                                                                           2\n",
              "especiais                                                                                2\n",
              "historia                                                                                 2\n",
              "pix                                                                                      2\n",
              "inovacao                                                                                 2\n",
              "nossa                                                                                    2\n",
              "programas, 3-em-1                                                                        2\n",
              "transito                                                                                 2\n",
              "eurocopa                                                                                 1\n",
              "2016                                                                                     1\n",
              "sociedade, epoca                                                                         1\n",
              "diplomacia                                                                               1\n",
              "mais, levante                                                                            1\n",
              "boxe                                                                                     1\n",
              "brics                                                                                    1\n",
              "carros, colunas, infomoto                                                                1\n",
              "bichos                                                                                   1\n",
              "musica                                                                                   1\n",
              "redacao                                                                                  1\n",
              "saude, estado                                                                            1\n",
              "carros, colunas                                                                          1\n",
              "tilt, estado                                                                             1\n",
              "programas                                                                                1\n",
              "golfe                                                                                    1\n",
              "justica, 3-dos-ex-pms-levados-por-salles-para-ministerio-foram-afastados-pelo-stf        1\n",
              "exercito                                                                                 1\n",
              "rio, rio                                                                                 1\n",
              "2015                                                                                     1\n",
              "Name: category, dtype: int64"
            ]
          },
          "metadata": {
            "tags": []
          },
          "execution_count": 69
        }
      ]
    },
    {
      "cell_type": "code",
      "metadata": {
        "id": "IF4xWrdoErcI"
      },
      "source": [
        "##extraindo links de outras noticias no texto da noticial principal.\n",
        "dfnews_tratadas = dfnoticias.copy()\n",
        "for index, row in dfnews_tratadas[dfnews_tratadas['fonte']=='UOL'][['fonte','category','text','link']].iterrows():\n",
        "  for match in re.finditer(r'(?s)((?:[^\\n][\\n]?)+)', row['text']):\n",
        "   if not ('...' in str(row['text'])[match.start(): match.end()]):\n",
        "     dfnews_tratadas.loc[dfnews_tratadas['link']==row['link'],['text']]=row['text'][match.start(): match.end()]\n"
      ],
      "execution_count": null,
      "outputs": []
    },
    {
      "cell_type": "code",
      "metadata": {
        "id": "V2L6RActzC4A",
        "outputId": "2c32f68a-48c7-40f4-8cba-a9407dd183b9",
        "colab": {
          "base_uri": "https://localhost:8080/"
        }
      },
      "source": [
        "dfnews_tratadas = dfnoticias.copy()\n",
        "for index, row in dfnews_tratadas[dfnews_tratadas['link']=='https://noticias.uol.com.br/ultimas-noticias/agencia-brasil/2021/05/25/selecao-feminina-pega-o-canada-na-estreia-da-liga-das-nacoes.htm'].iterrows():\n",
        "  print(row['text'])\n",
        "  print('***********************************')\n",
        "  texto=''\n",
        "  for match in re.finditer(r'((?:[^\\n][\\.]?)+)', row['text']):\n",
        "    print(match.start(), ':',  match.end())\n",
        "    #print(str(row['text'])[match.start(): match.end()])\n",
        "    if not ('...' in str(row['text'])[match.start(): match.end()]):\n",
        "      texto+=str(row['text'])[match.start(): match.end()] + '\\n'\n",
        "    else:  \n",
        "      if finalAnterior != '.':\n",
        "        texto=texto[:posicaoAnterior[0]]\n",
        "      break\n",
        "    finalAnterior = texto[-1:]\n",
        "    posicaoAnterior=[match.start(),match.end()]\n",
        "  #dfnews_tratadas.loc[dfnews_tratadas['link']==row['link'],['text']]=row['text'][match.start(): match.end()]\n",
        "print(texto)\n"
      ],
      "execution_count": 114,
      "outputs": [
        {
          "output_type": "stream",
          "text": [
            "Nesta terça-feira (25), a partir das 16h (horário de Brasília), a seleção brasileira feminina de vôlei estreará na Liga das Nações 2021. A competição acontece em sistema de bolha na cidade de Rimini, na Itália. O adversário será o Canadá. Na quarta (26), o Brasil pega a República Dominicana, às 13h. E, fechando a primeira rodada, na quinta (27), o duelo será contra os Estados Unidos, às 16h. \n",
            "Essa será a primeira competição oficial desde a Copa do Mundo de setembro de 2019. Entre os dias 25 de maio e 27 de junho, os times disputarão 15 partidas na fase classificatória. Na sequência, os quatro melhores avançam à fase decisiva do torneio.\n",
            "\"Acreditamos que precisamos jogar e colocar as nossas jogadoras em ação para irmos moldando o time e ver quais são as jogadoras que vão representar o Brasil nos Jogos de Tóquio. Temos que aproveitar ao máximo esse tempo na Itália para chegarmos bem em Tóquio que é o nosso principal objetivo\", disse o técnico José Roberto Guimarães à equipe da Confederação Brasileira de Vôlei.\n",
            "A atacante Sheilla, que vai disputar a competição pela primeira vez, também chamou a atenção para relevância da competição.\n",
            "\"A Liga das Nações é uma competição muito importante ainda mais em ano olímpico. Vai ser o momento para o Zé Roberto definir o grupo para Tóquio. Tenho evoluído fisicamente a cada dia e estou muito motivada para disputar essa competição pela primeira vez\", afirmou Sheilla.\n",
            "Na última edição do evento, em 2019, o Brasil ficou com a medalha de prata.\n",
            "Jerusalém, 25 Mai 2021 (AFP) - O secretário de Estado americano, Antony Blinken, garantiu, nesta terça-feira (25), \n",
            "Reunidos em Bruxelas, os líderes europeus endurecram mais uma vez as sanções contra o governo da Belarus. Desta...\n",
            "A rodada de segunda-feira dos playoffs da NBA teve a realização de duas partidas pelas séries melhor de sete de...\n",
            "A 36ª Vara Criminal do Rio de Janeiro decidiu manter ação penal contra oito dos 11 denunciados pelo incêndio no...\n",
            "Um motorista que estava dirigindo bêbado uma camionete F\n",
            "1000 foi preso no início da noite de segunda-feira (24),...\n",
            "Kinshasa, 25 Mai 2021 (AFP) - O presidente em exercício da União Africana (UA), o chefe de Estado da República...\n",
            "O Índice de Preços ao Consumidor (IPC), que mede a inflação na cidade de São Paulo, subiu 0,33% na terceira...\n",
            "***********************************\n",
            "0 : 395\n",
            "396 : 644\n",
            "645 : 1023\n",
            "1024 : 1147\n",
            "1148 : 1421\n",
            "1422 : 1497\n",
            "1498 : 1613\n",
            "1614 : 1728\n",
            "Nesta terça-feira (25), a partir das 16h (horário de Brasília), a seleção brasileira feminina de vôlei estreará na Liga das Nações 2021. A competição acontece em sistema de bolha na cidade de Rimini, na Itália. O adversário será o Canadá. Na quarta (26), o Brasil pega a República Dominicana, às 13h. E, fechando a primeira rodada, na quinta (27), o duelo será contra os Estados Unidos, às 16h. \n",
            "Essa será a primeira competição oficial desde a Copa do Mundo de setembro de 2019. Entre os dias 25 de maio e 27 de junho, os times disputarão 15 partidas na fase classificatória. Na sequência, os quatro melhores avançam à fase decisiva do torneio.\n",
            "\"Acreditamos que precisamos jogar e colocar as nossas jogadoras em ação para irmos moldando o time e ver quais são as jogadoras que vão representar o Brasil nos Jogos de Tóquio. Temos que aproveitar ao máximo esse tempo na Itália para chegarmos bem em Tóquio que é o nosso principal objetivo\", disse o técnico José Roberto Guimarães à equipe da Confederação Brasileira de Vôlei.\n",
            "A atacante Sheilla, que vai disputar a competição pela primeira vez, também chamou a atenção para relevância da competição.\n",
            "\"A Liga das Nações é uma competição muito importante ainda mais em ano olímpico. Vai ser o momento para o Zé Roberto definir o grupo para Tóquio. Tenho evoluído fisicamente a cada dia e estou muito motivada para disputar essa competição pela primeira vez\", afirmou Sheilla.\n",
            "Na última edição do evento, em 2019, o Brasil ficou com a medalha de prata.\n",
            "\n"
          ],
          "name": "stdout"
        }
      ]
    },
    {
      "cell_type": "code",
      "metadata": {
        "colab": {
          "base_uri": "https://localhost:8080/"
        },
        "id": "sSG5NwdDQwzq",
        "outputId": "7feeea11-9b7b-4fdf-8531-04bf2f8e1e03"
      },
      "source": [
        " for i, r in dfnews_tratadas[dfnews_tratadas['link']=='https://noticias.uol.com.br/ultimas-noticias/agencia-brasil/2021/05/25/selecao-feminina-pega-o-canada-na-estreia-da-liga-das-nacoes.htm'].iterrows():\n",
        "   #dfnews_tratadas[dfnews_tratadas['fonte']=='UOL'].iterrows():\n",
        "   print(r['link'])\n",
        "   print(r['text'])\n",
        "   \n",
        "   if i >10:\n",
        "     break\n"
      ],
      "execution_count": 89,
      "outputs": [
        {
          "output_type": "stream",
          "text": [
            "https://noticias.uol.com.br/ultimas-noticias/agencia-brasil/2021/05/25/selecao-feminina-pega-o-canada-na-estreia-da-liga-das-nacoes.htm\n",
            "\n"
          ],
          "name": "stdout"
        }
      ]
    }
  ]
}