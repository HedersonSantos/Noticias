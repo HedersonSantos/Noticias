{
  "nbformat": 4,
  "nbformat_minor": 0,
  "metadata": {
    "colab": {
      "name": "preProcessamentoFSP.ipynb",
      "provenance": [],
      "collapsed_sections": [],
      "include_colab_link": true
    },
    "kernelspec": {
      "name": "python3",
      "display_name": "Python 3"
    },
    "language_info": {
      "name": "python"
    }
  },
  "cells": [
    {
      "cell_type": "markdown",
      "metadata": {
        "id": "view-in-github",
        "colab_type": "text"
      },
      "source": [
        "<a href=\"https://colab.research.google.com/github/HedersonSantos/Noticias/blob/main/preProcessamento/preProcessamentoFSP.ipynb\" target=\"_parent\"><img src=\"https://colab.research.google.com/assets/colab-badge.svg\" alt=\"Open In Colab\"/></a>"
      ]
    },
    {
      "cell_type": "code",
      "metadata": {
        "id": "Q07HsC2GS8NZ"
      },
      "source": [
        "import pandas as pd\n",
        "import numpy as np\n",
        "from google.colab import files, drive\n",
        "from pathlib import Path\n",
        "from sklearn.model_selection import train_test_split\n",
        "import io, re, os\n",
        "import matplotlib.pyplot as plt\n",
        "import seaborn as sns\n",
        "sns.set(rc={'figure.figsize':(11.7,8.27)})\n",
        "palette = sns.color_palette(\"bright\", 10)\n",
        "\n",
        "\n",
        "pd.set_option('display.max_columns', None)\n",
        "pd.set_option('display.max_rows', None)\n",
        "pd.set_option('max_colwidth', None)"
      ],
      "execution_count": 9,
      "outputs": []
    },
    {
      "cell_type": "code",
      "metadata": {
        "id": "WYd3TUAr2fAf"
      },
      "source": [
        ""
      ],
      "execution_count": null,
      "outputs": []
    },
    {
      "cell_type": "markdown",
      "metadata": {
        "id": "ht1KhOAqTcz6"
      },
      "source": [
        "### Montando Google Driver e abrindo arquivos de noticias"
      ]
    },
    {
      "cell_type": "markdown",
      "metadata": {
        "id": "EMhQp7LQfU1q"
      },
      "source": [
        "o arquivo articles.csv contém 167053 noticias da Folha de São Paulo. Este dataset está disponível em .... <br>\n",
        "O arquivo news.csv contém xxx noticias extraídos dos sites UOL, G1, GoogleNews, Poder360 através de web scrapping cujo algoritmo foi montado por nós."
      ]
    },
    {
      "cell_type": "code",
      "metadata": {
        "colab": {
          "base_uri": "https://localhost:8080/"
        },
        "id": "SA5KAl6MTN5z",
        "outputId": "5644da72-74cb-4858-f46c-0391485733bb"
      },
      "source": [
        "drive.mount('/gdrive')\n",
        "%cd /gdrive/My\\ Drive/Colab\\ Notebooks/nlp_tcc\n",
        "path = '/gdrive/My Drive/Colab Notebooks'\n",
        "KEY='4/1AX4XfWjO8LFULyUVA2hr76Ekj281Rn58ieVYw_BkgE4HYvy9Lf8PJ1W3aOQ'"
      ],
      "execution_count": 4,
      "outputs": [
        {
          "output_type": "stream",
          "name": "stdout",
          "text": [
            "Mounted at /gdrive\n",
            "/gdrive/My Drive/Colab Notebooks/nlp_tcc\n"
          ]
        }
      ]
    },
    {
      "cell_type": "code",
      "metadata": {
        "id": "1wCE1tzZB0pR"
      },
      "source": [
        "\n",
        "#!rm -R amostra_news_integrada\n"
      ],
      "execution_count": null,
      "outputs": []
    },
    {
      "cell_type": "code",
      "metadata": {
        "id": "7MNdNYYYTybp",
        "colab": {
          "base_uri": "https://localhost:8080/"
        },
        "outputId": "d90ab633-069e-4744-d0e0-f03a666c897b"
      },
      "source": [
        "#!unzip noticiasFSP.zip\n",
        "!ls "
      ],
      "execution_count": null,
      "outputs": [
        {
          "output_type": "stream",
          "name": "stdout",
          "text": [
            "amostra_news_integrada\tbertimbau_test\t     noticia_tratada.csv\n",
            "articles.csv\t\tnews.csv\n",
            "bertimbau_base_results\tnews_integradas.csv\n"
          ]
        }
      ]
    },
    {
      "cell_type": "code",
      "metadata": {
        "colab": {
          "base_uri": "https://localhost:8080/"
        },
        "id": "z7s92YzMepOX",
        "outputId": "e49d92c8-09c8-46b1-e975-62fa520c36bc"
      },
      "source": [
        "!ls  -lh"
      ],
      "execution_count": null,
      "outputs": [
        {
          "output_type": "stream",
          "name": "stdout",
          "text": [
            "total 1.2G\n",
            "drwx------ 2 root root 4.0K Jul 31 20:13 amostra_news_integrada\n",
            "-rw------- 1 root root 481M Jul 24 17:03 articles.csv\n",
            "drwx------ 2 root root 4.0K Jul 31 17:49 bertimbau_base_results\n",
            "drwx------ 2 root root 4.0K Jul 31 19:09 bertimbau_test\n",
            "-rw------- 1 root root  900 Sep  3 00:20 mlp_v1.csv\n",
            "-rw------- 1 root root  193 Sep  3 00:20 mlp_v1.scr\n",
            "-rw------- 1 root root  93M Jul 24 15:58 news.csv\n",
            "-rw------- 1 root root 521M Jul 25 22:30 news_integradas.csv\n",
            "-rw------- 1 root root  93M Jul 24 15:42 noticia_tratada.csv\n"
          ]
        }
      ]
    },
    {
      "cell_type": "markdown",
      "metadata": {
        "id": "tOGwdFrQhbNe"
      },
      "source": [
        "**Conjunto de Notícias da Folha de São Paulo**"
      ]
    },
    {
      "cell_type": "code",
      "metadata": {
        "colab": {
          "base_uri": "https://localhost:8080/"
        },
        "id": "5uxjH-YneHXp",
        "outputId": "1bd9c85f-1c81-4de7-bb4d-db7f53abf23f"
      },
      "source": [
        "dfFSP = pd.read_csv('articles.csv', header=0)\n",
        "print(dfFSP.columns)\n",
        "dfFSP.shape"
      ],
      "execution_count": null,
      "outputs": [
        {
          "output_type": "stream",
          "text": [
            "Index(['title', 'text', 'date', 'category', 'subcategory', 'link'], dtype='object')\n"
          ],
          "name": "stdout"
        },
        {
          "output_type": "execute_result",
          "data": {
            "text/plain": [
              "(167053, 6)"
            ]
          },
          "metadata": {
            "tags": []
          },
          "execution_count": 258
        }
      ]
    },
    {
      "cell_type": "code",
      "metadata": {
        "colab": {
          "base_uri": "https://localhost:8080/",
          "height": 436
        },
        "id": "Q1PdhjppebTH",
        "outputId": "c57780ee-f725-4b9c-a0e3-38642830905f"
      },
      "source": [
        "dfFSP.head(1)"
      ],
      "execution_count": null,
      "outputs": [
        {
          "output_type": "execute_result",
          "data": {
            "text/html": [
              "<div>\n",
              "<style scoped>\n",
              "    .dataframe tbody tr th:only-of-type {\n",
              "        vertical-align: middle;\n",
              "    }\n",
              "\n",
              "    .dataframe tbody tr th {\n",
              "        vertical-align: top;\n",
              "    }\n",
              "\n",
              "    .dataframe thead th {\n",
              "        text-align: right;\n",
              "    }\n",
              "</style>\n",
              "<table border=\"1\" class=\"dataframe\">\n",
              "  <thead>\n",
              "    <tr style=\"text-align: right;\">\n",
              "      <th></th>\n",
              "      <th>title</th>\n",
              "      <th>text</th>\n",
              "      <th>date</th>\n",
              "      <th>category</th>\n",
              "      <th>subcategory</th>\n",
              "      <th>link</th>\n",
              "    </tr>\n",
              "  </thead>\n",
              "  <tbody>\n",
              "    <tr>\n",
              "      <th>0</th>\n",
              "      <td>Lula diz que está 'lascado', mas que ainda tem força como cabo eleitoral</td>\n",
              "      <td>Com a possibilidade de uma condenação impedir sua candidatura em 2018, o ex-presidente Luiz Inácio Lula da Silva fez, nesta segunda (9), um discurso inflamado contra a Lava Jato, no qual disse saber que está \"lascado\", exigiu um pedido de desculpas do juiz Sergio Moro e afirmou que, mesmo fora da disputa pelo Planalto, será um cabo eleitoral expressivo para a sucessão de Michel Temer.  Segundo o petista, réu em sete ações penais, o objetivo de Moro é impedir sua candidatura no ano que vem, desidratando-o, inclusive, no apoio a um nome alternativo, como o do ex-prefeito de São Paulo Fernando Haddad (PT), caso ele não possa concorrer à Presidência.  \"Eu sei que tô lascado, todo dia tem um processo. Eu não quero nem que Moro me absolva, eu só quero que ele peça desculpas\", disse Lula durante um seminário sobre educação em Brasília. \"Eles [investigadores] chegam a dizer: 'Ah, se o Lula não for candidato, ele não vai ter força como cabo eleitoral'. Testem\", completou o petista.  Para o ex-presidente, Moro usou \"mentiras contadas pela Polícia Federal e pelo Ministério Público\" para julgá-lo e condená-lo a nove anos e seis meses de prisão pelo caso do tríplex em Guarujá (SP).  O ex-presidente disse ainda não ter \"medo\" dos investigadores que, de acordo com ele, estão acostumados a \"mexer com deputados e senadores\" que temem as apurações.  \"Eu quero que eles saibam o seguinte: se eles estão acostumados a lidar com deputado que tem medo deles, a mexer com senadores que têm medo deles, quero dizer que tenho respeito profundo por quem me respeita, pelas leis que nós ajudamos a criar, mas não tenho respeito por quem não me respeita e eles não me respeitaram\", afirmou o petista.    De acordo com aliados, Lula não gosta de discutir, mesmo que nos bastidores, a chance de não ser candidato ao Planalto e a projeção do nome de Haddad como plano B do PT tem incomodado os mais próximos ao ex-presidente. O ex-prefeito, que estava no evento nesta segunda, fez um discurso rápido, de menos de dez minutos, em que encerrou dizendo esperar que Lula assuma a Presidência em 2019.  \"Espero que dia 1º de janeiro de 2019 esse pesadelo chamado Temer acabe e o senhor assuma a Presidência da República\", disse Haddad.  'DEMÔNIO DO MERCADO'  Lula voltou a fazer um discurso mais agressivo em relação ao mercado e disse que \"não tem cara de demônio\", mas quer que o respeitem \"como se fosse\".  \"Não tenho cara de demônio, mas quero que eles me respeitem como se eu fosse, porque eles sabem que a economia não vai ficar subordinada ao elitismo da sociedade brasileira\", disse o ex-presidente.  O petista rivalizou ainda com o deputado Jair Bolsonaro (PSC-RJ), segundo colocado nas últimas pesquisas empatado com Marina Silva, e disse que se ele \"agrada ao mercado\", o PT tem que \"desagradar\".  A Folha publicou nesta segunda (9) reportagem em que mostrou que o deputado ensaia movimento ao centro no debate econômico, adotando um discurso simpático aos investidores do mercado financeiro.</td>\n",
              "      <td>2017-09-10</td>\n",
              "      <td>poder</td>\n",
              "      <td>NaN</td>\n",
              "      <td>http://www1.folha.uol.com.br/poder/2017/10/1925743-lula-diz-que-esta-lascado-mas-que-ainda-tem-forca-como-cabo-eleitoral.shtml</td>\n",
              "    </tr>\n",
              "  </tbody>\n",
              "</table>\n",
              "</div>"
            ],
            "text/plain": [
              "                                                                      title  \\\n",
              "0  Lula diz que está 'lascado', mas que ainda tem força como cabo eleitoral   \n",
              "\n",
              "                                                                                                                                                                                                                                                                                                                                                                                                                                                                                                                                                                                                                                                                                                                                                                                                                                                                                                                                                                                                                                                                                                                                                                                                                                                                                                                                                                                                                                                                                                                                                                                                                                                                                                                                                                                                                                                                                                                                                                                                                                                                                                                                                                                                                                                                                                                                                                                                                                                                                                                                                                                                                                                                                                                                                                                                                                                                                                                                                                                                                                                                                                            text  \\\n",
              "0  Com a possibilidade de uma condenação impedir sua candidatura em 2018, o ex-presidente Luiz Inácio Lula da Silva fez, nesta segunda (9), um discurso inflamado contra a Lava Jato, no qual disse saber que está \"lascado\", exigiu um pedido de desculpas do juiz Sergio Moro e afirmou que, mesmo fora da disputa pelo Planalto, será um cabo eleitoral expressivo para a sucessão de Michel Temer.  Segundo o petista, réu em sete ações penais, o objetivo de Moro é impedir sua candidatura no ano que vem, desidratando-o, inclusive, no apoio a um nome alternativo, como o do ex-prefeito de São Paulo Fernando Haddad (PT), caso ele não possa concorrer à Presidência.  \"Eu sei que tô lascado, todo dia tem um processo. Eu não quero nem que Moro me absolva, eu só quero que ele peça desculpas\", disse Lula durante um seminário sobre educação em Brasília. \"Eles [investigadores] chegam a dizer: 'Ah, se o Lula não for candidato, ele não vai ter força como cabo eleitoral'. Testem\", completou o petista.  Para o ex-presidente, Moro usou \"mentiras contadas pela Polícia Federal e pelo Ministério Público\" para julgá-lo e condená-lo a nove anos e seis meses de prisão pelo caso do tríplex em Guarujá (SP).  O ex-presidente disse ainda não ter \"medo\" dos investigadores que, de acordo com ele, estão acostumados a \"mexer com deputados e senadores\" que temem as apurações.  \"Eu quero que eles saibam o seguinte: se eles estão acostumados a lidar com deputado que tem medo deles, a mexer com senadores que têm medo deles, quero dizer que tenho respeito profundo por quem me respeita, pelas leis que nós ajudamos a criar, mas não tenho respeito por quem não me respeita e eles não me respeitaram\", afirmou o petista.    De acordo com aliados, Lula não gosta de discutir, mesmo que nos bastidores, a chance de não ser candidato ao Planalto e a projeção do nome de Haddad como plano B do PT tem incomodado os mais próximos ao ex-presidente. O ex-prefeito, que estava no evento nesta segunda, fez um discurso rápido, de menos de dez minutos, em que encerrou dizendo esperar que Lula assuma a Presidência em 2019.  \"Espero que dia 1º de janeiro de 2019 esse pesadelo chamado Temer acabe e o senhor assuma a Presidência da República\", disse Haddad.  'DEMÔNIO DO MERCADO'  Lula voltou a fazer um discurso mais agressivo em relação ao mercado e disse que \"não tem cara de demônio\", mas quer que o respeitem \"como se fosse\".  \"Não tenho cara de demônio, mas quero que eles me respeitem como se eu fosse, porque eles sabem que a economia não vai ficar subordinada ao elitismo da sociedade brasileira\", disse o ex-presidente.  O petista rivalizou ainda com o deputado Jair Bolsonaro (PSC-RJ), segundo colocado nas últimas pesquisas empatado com Marina Silva, e disse que se ele \"agrada ao mercado\", o PT tem que \"desagradar\".  A Folha publicou nesta segunda (9) reportagem em que mostrou que o deputado ensaia movimento ao centro no debate econômico, adotando um discurso simpático aos investidores do mercado financeiro.   \n",
              "\n",
              "         date category subcategory  \\\n",
              "0  2017-09-10    poder         NaN   \n",
              "\n",
              "                                                                                                                             link  \n",
              "0  http://www1.folha.uol.com.br/poder/2017/10/1925743-lula-diz-que-esta-lascado-mas-que-ainda-tem-forca-como-cabo-eleitoral.shtml  "
            ]
          },
          "metadata": {
            "tags": []
          },
          "execution_count": 259
        }
      ]
    },
    {
      "cell_type": "markdown",
      "metadata": {
        "id": "Rg0ifeCNhrHu"
      },
      "source": [
        "**Quantidade de noticias por categoria**"
      ]
    },
    {
      "cell_type": "code",
      "metadata": {
        "id": "I4AFC0MSfGzP",
        "colab": {
          "base_uri": "https://localhost:8080/",
          "height": 1000
        },
        "outputId": "7577de3e-442d-4579-d72e-b71e54e0bd5c"
      },
      "source": [
        "#['title', 'text', 'date', 'category', 'subcategory', 'link'\n",
        "categoriaFSP = dfFSP.groupby(['category'])['link'].count().reset_index().sort_values(by = 'link', ascending=False)\n",
        "categoriaFSP"
      ],
      "execution_count": null,
      "outputs": [
        {
          "output_type": "execute_result",
          "data": {
            "text/html": [
              "<div>\n",
              "<style scoped>\n",
              "    .dataframe tbody tr th:only-of-type {\n",
              "        vertical-align: middle;\n",
              "    }\n",
              "\n",
              "    .dataframe tbody tr th {\n",
              "        vertical-align: top;\n",
              "    }\n",
              "\n",
              "    .dataframe thead th {\n",
              "        text-align: right;\n",
              "    }\n",
              "</style>\n",
              "<table border=\"1\" class=\"dataframe\">\n",
              "  <thead>\n",
              "    <tr style=\"text-align: right;\">\n",
              "      <th></th>\n",
              "      <th>category</th>\n",
              "      <th>link</th>\n",
              "    </tr>\n",
              "  </thead>\n",
              "  <tbody>\n",
              "    <tr>\n",
              "      <th>35</th>\n",
              "      <td>poder</td>\n",
              "      <td>22022</td>\n",
              "    </tr>\n",
              "    <tr>\n",
              "      <th>9</th>\n",
              "      <td>colunas</td>\n",
              "      <td>21622</td>\n",
              "    </tr>\n",
              "    <tr>\n",
              "      <th>26</th>\n",
              "      <td>mercado</td>\n",
              "      <td>20970</td>\n",
              "    </tr>\n",
              "    <tr>\n",
              "      <th>18</th>\n",
              "      <td>esporte</td>\n",
              "      <td>19730</td>\n",
              "    </tr>\n",
              "    <tr>\n",
              "      <th>29</th>\n",
              "      <td>mundo</td>\n",
              "      <td>17130</td>\n",
              "    </tr>\n",
              "    <tr>\n",
              "      <th>12</th>\n",
              "      <td>cotidiano</td>\n",
              "      <td>16967</td>\n",
              "    </tr>\n",
              "    <tr>\n",
              "      <th>23</th>\n",
              "      <td>ilustrada</td>\n",
              "      <td>16345</td>\n",
              "    </tr>\n",
              "    <tr>\n",
              "      <th>33</th>\n",
              "      <td>opiniao</td>\n",
              "      <td>4525</td>\n",
              "    </tr>\n",
              "    <tr>\n",
              "      <th>34</th>\n",
              "      <td>paineldoleitor</td>\n",
              "      <td>4011</td>\n",
              "    </tr>\n",
              "    <tr>\n",
              "      <th>37</th>\n",
              "      <td>saopaulo</td>\n",
              "      <td>3955</td>\n",
              "    </tr>\n",
              "    <tr>\n",
              "      <th>41</th>\n",
              "      <td>tec</td>\n",
              "      <td>2260</td>\n",
              "    </tr>\n",
              "    <tr>\n",
              "      <th>46</th>\n",
              "      <td>tv</td>\n",
              "      <td>2142</td>\n",
              "    </tr>\n",
              "    <tr>\n",
              "      <th>14</th>\n",
              "      <td>educacao</td>\n",
              "      <td>2118</td>\n",
              "    </tr>\n",
              "    <tr>\n",
              "      <th>45</th>\n",
              "      <td>turismo</td>\n",
              "      <td>1903</td>\n",
              "    </tr>\n",
              "    <tr>\n",
              "      <th>24</th>\n",
              "      <td>ilustrissima</td>\n",
              "      <td>1411</td>\n",
              "    </tr>\n",
              "    <tr>\n",
              "      <th>8</th>\n",
              "      <td>ciencia</td>\n",
              "      <td>1335</td>\n",
              "    </tr>\n",
              "    <tr>\n",
              "      <th>16</th>\n",
              "      <td>equilibrioesaude</td>\n",
              "      <td>1312</td>\n",
              "    </tr>\n",
              "    <tr>\n",
              "      <th>40</th>\n",
              "      <td>sobretudo</td>\n",
              "      <td>1057</td>\n",
              "    </tr>\n",
              "    <tr>\n",
              "      <th>5</th>\n",
              "      <td>bbc</td>\n",
              "      <td>980</td>\n",
              "    </tr>\n",
              "    <tr>\n",
              "      <th>20</th>\n",
              "      <td>folhinha</td>\n",
              "      <td>876</td>\n",
              "    </tr>\n",
              "    <tr>\n",
              "      <th>15</th>\n",
              "      <td>empreendedorsocial</td>\n",
              "      <td>841</td>\n",
              "    </tr>\n",
              "    <tr>\n",
              "      <th>10</th>\n",
              "      <td>comida</td>\n",
              "      <td>828</td>\n",
              "    </tr>\n",
              "    <tr>\n",
              "      <th>3</th>\n",
              "      <td>asmais</td>\n",
              "      <td>548</td>\n",
              "    </tr>\n",
              "    <tr>\n",
              "      <th>2</th>\n",
              "      <td>ambiente</td>\n",
              "      <td>491</td>\n",
              "    </tr>\n",
              "    <tr>\n",
              "      <th>38</th>\n",
              "      <td>seminariosfolha</td>\n",
              "      <td>379</td>\n",
              "    </tr>\n",
              "    <tr>\n",
              "      <th>39</th>\n",
              "      <td>serafina</td>\n",
              "      <td>334</td>\n",
              "    </tr>\n",
              "    <tr>\n",
              "      <th>31</th>\n",
              "      <td>o-melhor-de-sao-paulo</td>\n",
              "      <td>189</td>\n",
              "    </tr>\n",
              "    <tr>\n",
              "      <th>47</th>\n",
              "      <td>vice</td>\n",
              "      <td>146</td>\n",
              "    </tr>\n",
              "    <tr>\n",
              "      <th>21</th>\n",
              "      <td>guia-de-livros-discos-filmes</td>\n",
              "      <td>143</td>\n",
              "    </tr>\n",
              "    <tr>\n",
              "      <th>42</th>\n",
              "      <td>topofmind</td>\n",
              "      <td>86</td>\n",
              "    </tr>\n",
              "    <tr>\n",
              "      <th>4</th>\n",
              "      <td>banco-de-dados</td>\n",
              "      <td>64</td>\n",
              "    </tr>\n",
              "    <tr>\n",
              "      <th>13</th>\n",
              "      <td>dw</td>\n",
              "      <td>48</td>\n",
              "    </tr>\n",
              "    <tr>\n",
              "      <th>17</th>\n",
              "      <td>especial</td>\n",
              "      <td>43</td>\n",
              "    </tr>\n",
              "    <tr>\n",
              "      <th>25</th>\n",
              "      <td>infograficos</td>\n",
              "      <td>43</td>\n",
              "    </tr>\n",
              "    <tr>\n",
              "      <th>7</th>\n",
              "      <td>cenarios-2017</td>\n",
              "      <td>43</td>\n",
              "    </tr>\n",
              "    <tr>\n",
              "      <th>36</th>\n",
              "      <td>rfi</td>\n",
              "      <td>29</td>\n",
              "    </tr>\n",
              "    <tr>\n",
              "      <th>22</th>\n",
              "      <td>guia-de-livros-filmes-discos</td>\n",
              "      <td>28</td>\n",
              "    </tr>\n",
              "    <tr>\n",
              "      <th>28</th>\n",
              "      <td>multimidia</td>\n",
              "      <td>27</td>\n",
              "    </tr>\n",
              "    <tr>\n",
              "      <th>43</th>\n",
              "      <td>treinamento</td>\n",
              "      <td>21</td>\n",
              "    </tr>\n",
              "    <tr>\n",
              "      <th>44</th>\n",
              "      <td>treinamentocienciaesaude</td>\n",
              "      <td>18</td>\n",
              "    </tr>\n",
              "    <tr>\n",
              "      <th>27</th>\n",
              "      <td>mulher</td>\n",
              "      <td>16</td>\n",
              "    </tr>\n",
              "    <tr>\n",
              "      <th>19</th>\n",
              "      <td>euronews</td>\n",
              "      <td>8</td>\n",
              "    </tr>\n",
              "    <tr>\n",
              "      <th>32</th>\n",
              "      <td>ombudsman</td>\n",
              "      <td>3</td>\n",
              "    </tr>\n",
              "    <tr>\n",
              "      <th>11</th>\n",
              "      <td>contas-de-casa</td>\n",
              "      <td>2</td>\n",
              "    </tr>\n",
              "    <tr>\n",
              "      <th>1</th>\n",
              "      <td>2016</td>\n",
              "      <td>1</td>\n",
              "    </tr>\n",
              "    <tr>\n",
              "      <th>6</th>\n",
              "      <td>bichos</td>\n",
              "      <td>1</td>\n",
              "    </tr>\n",
              "    <tr>\n",
              "      <th>30</th>\n",
              "      <td>musica</td>\n",
              "      <td>1</td>\n",
              "    </tr>\n",
              "    <tr>\n",
              "      <th>0</th>\n",
              "      <td>2015</td>\n",
              "      <td>1</td>\n",
              "    </tr>\n",
              "  </tbody>\n",
              "</table>\n",
              "</div>"
            ],
            "text/plain": [
              "                        category   link\n",
              "35                         poder  22022\n",
              "9                        colunas  21622\n",
              "26                       mercado  20970\n",
              "18                       esporte  19730\n",
              "29                         mundo  17130\n",
              "12                     cotidiano  16967\n",
              "23                     ilustrada  16345\n",
              "33                       opiniao   4525\n",
              "34                paineldoleitor   4011\n",
              "37                      saopaulo   3955\n",
              "41                           tec   2260\n",
              "46                            tv   2142\n",
              "14                      educacao   2118\n",
              "45                       turismo   1903\n",
              "24                  ilustrissima   1411\n",
              "8                        ciencia   1335\n",
              "16              equilibrioesaude   1312\n",
              "40                     sobretudo   1057\n",
              "5                            bbc    980\n",
              "20                      folhinha    876\n",
              "15            empreendedorsocial    841\n",
              "10                        comida    828\n",
              "3                         asmais    548\n",
              "2                       ambiente    491\n",
              "38               seminariosfolha    379\n",
              "39                      serafina    334\n",
              "31         o-melhor-de-sao-paulo    189\n",
              "47                          vice    146\n",
              "21  guia-de-livros-discos-filmes    143\n",
              "42                     topofmind     86\n",
              "4                 banco-de-dados     64\n",
              "13                            dw     48\n",
              "17                      especial     43\n",
              "25                  infograficos     43\n",
              "7                  cenarios-2017     43\n",
              "36                           rfi     29\n",
              "22  guia-de-livros-filmes-discos     28\n",
              "28                    multimidia     27\n",
              "43                   treinamento     21\n",
              "44      treinamentocienciaesaude     18\n",
              "27                        mulher     16\n",
              "19                      euronews      8\n",
              "32                     ombudsman      3\n",
              "11                contas-de-casa      2\n",
              "1                           2016      1\n",
              "6                         bichos      1\n",
              "30                        musica      1\n",
              "0                           2015      1"
            ]
          },
          "metadata": {
            "tags": []
          },
          "execution_count": 260
        }
      ]
    },
    {
      "cell_type": "markdown",
      "metadata": {
        "id": "urz3dmz2iKOz"
      },
      "source": [
        "**Conjunto de Notícias da nossa base de dados**"
      ]
    },
    {
      "cell_type": "code",
      "metadata": {
        "colab": {
          "base_uri": "https://localhost:8080/"
        },
        "id": "_43R0jQBiESU",
        "outputId": "e4df7464-c356-4643-f9ab-0954a6e715ce"
      },
      "source": [
        "dfNews = pd.read_csv('news.csv', header=0)\n",
        "print(dfNews.columns)\n",
        "dfNews.shape"
      ],
      "execution_count": null,
      "outputs": [
        {
          "output_type": "stream",
          "text": [
            "Index(['FONTE', 'CATEGORIA', 'TEXTO', 'URL', 'PUBLISHEDAT', 'TITLE', 'AUTHOR',\n",
            "       'DT_REGISTRO', 'TEXT_TRATADO'],\n",
            "      dtype='object')\n"
          ],
          "name": "stdout"
        },
        {
          "output_type": "execute_result",
          "data": {
            "text/plain": [
              "(11176, 9)"
            ]
          },
          "metadata": {
            "tags": []
          },
          "execution_count": 261
        }
      ]
    },
    {
      "cell_type": "code",
      "metadata": {
        "id": "G3fgFvzpi7CR"
      },
      "source": [
        "'''tornando o nome das colunas dos dois datasets iguais '''\n",
        "dfNews = dfNews.rename(columns={'CATEGORIA':'category',\n",
        "                       'URL':'link',\n",
        "                       'PUBLISHEDAT':'date',\n",
        "                       'TITLE':'title',\n",
        "                       'TEXT_TRATADO':'text',\n",
        "                       'FONTE':'fonte'}).copy()\n",
        "dfNews = dfNews[['title', 'text', 'date', 'category', 'link','fonte']]\n",
        "\n",
        "\n",
        "    "
      ],
      "execution_count": null,
      "outputs": []
    },
    {
      "cell_type": "code",
      "metadata": {
        "colab": {
          "base_uri": "https://localhost:8080/",
          "height": 273
        },
        "id": "SBxDFO9NlAUd",
        "outputId": "7a3bd728-28ae-4e24-d6c8-db8fe1ef03c5"
      },
      "source": [
        "dfNews.head(1)"
      ],
      "execution_count": null,
      "outputs": [
        {
          "output_type": "execute_result",
          "data": {
            "text/html": [
              "<div>\n",
              "<style scoped>\n",
              "    .dataframe tbody tr th:only-of-type {\n",
              "        vertical-align: middle;\n",
              "    }\n",
              "\n",
              "    .dataframe tbody tr th {\n",
              "        vertical-align: top;\n",
              "    }\n",
              "\n",
              "    .dataframe thead th {\n",
              "        text-align: right;\n",
              "    }\n",
              "</style>\n",
              "<table border=\"1\" class=\"dataframe\">\n",
              "  <thead>\n",
              "    <tr style=\"text-align: right;\">\n",
              "      <th></th>\n",
              "      <th>title</th>\n",
              "      <th>text</th>\n",
              "      <th>date</th>\n",
              "      <th>category</th>\n",
              "      <th>link</th>\n",
              "      <th>fonte</th>\n",
              "    </tr>\n",
              "  </thead>\n",
              "  <tbody>\n",
              "    <tr>\n",
              "      <th>0</th>\n",
              "      <td>Putin não espera \"grandes avanços\" em cúpula com Biden</td>\n",
              "      <td>Em entrevista para as principais agências de notícias internacionais, incluindo a Efe, Putin enfatizou que os dois países, apesar das discordâncias, têm interesses em comum e que ele está confiante que a cúpula com Biden será construtiva.\\nEntre as áreas de interesse comum, o chefe do Kremlin citou a solução de problemas ambientais, segurança estratégica e a dissolução de uma série de crises regionais.\\n\"Isso é muito importante, porque tem a ver com a segurança de nossos países\", afirmou Putin, além de destacar, por exemplo, que a crise no Oriente Médio \"leva ao crescimento do terrorismo\".\\n\"(Isso é) muito perigoso para todos, para os Estados Unidos, para a Rússia, para a Europa, para outras regiões do mundo\", acrescentou.\\nPutin enfatizou a importância da segurança estratégica e garantiu que a Rússia não quer \"assustar ninguém\" com seus novos armamentos.\\n\"Sim, estamos desenvolvendo esses armamentos e conseguimos certos resultados\", disse o mandatário, para quem a Rússia está um passo \"à frente\" de outros países.\\nEle também admitiu que os Estados Unidos e outras potências logo alcançarão resultados semelhantes, e portanto \"é melhor pensar em como vamos viver juntos\".\\n\\nO Conselho Tutelar de\\nIvaiporã foi acionado por volta das 12h30 de sexta-feira (4) para acompanhar\\nalgumas...\\nO sábado (5) começa com tempo estável nas regiões paranaenses. Ao amanhecer, Apucarana e Arapongas registraram...\\nO Senado vai analisar a Medida Provisória 1.034/2021, que aumenta a tributação de instituições financeiras O texto \\nEm meio à pandemia da Covid-19, especialistas apontam que a menor frequência nos parques públicos pode estar...\\nA Empresa de Limpeza Urbana de Salvador (Limpurb) fará uma série de ações até 11 de junho como parte da campanha...\\nOs ministros das Finanças do G7 esperam anunciar um acordo neste sábado (5) sobre um imposto mínimo global e uma...</td>\n",
              "      <td>2021-06-05T03:00:00Z</td>\n",
              "      <td>mundo</td>\n",
              "      <td>https://noticias.uol.com.br/ultimas-noticias/efe/2021/06/05/putin-nao-espera-grandes-avancos-em-cupula-com-biden.htm</td>\n",
              "      <td>UOL</td>\n",
              "    </tr>\n",
              "  </tbody>\n",
              "</table>\n",
              "</div>"
            ],
            "text/plain": [
              "                                                    title  \\\n",
              "0  Putin não espera \"grandes avanços\" em cúpula com Biden   \n",
              "\n",
              "                                                                                                                                                                                                                                                                                                                                                                                                                                                                                                                                                                                                                                                                                                                                                                                                                                                                                                                                                                                                                                                                                                                                                                                                                                                                                                                                                                                                                                                                                                                                                                                                                                                                                                                                                                                                                                                                                                                                                        text  \\\n",
              "0  Em entrevista para as principais agências de notícias internacionais, incluindo a Efe, Putin enfatizou que os dois países, apesar das discordâncias, têm interesses em comum e que ele está confiante que a cúpula com Biden será construtiva.\\nEntre as áreas de interesse comum, o chefe do Kremlin citou a solução de problemas ambientais, segurança estratégica e a dissolução de uma série de crises regionais.\\n\"Isso é muito importante, porque tem a ver com a segurança de nossos países\", afirmou Putin, além de destacar, por exemplo, que a crise no Oriente Médio \"leva ao crescimento do terrorismo\".\\n\"(Isso é) muito perigoso para todos, para os Estados Unidos, para a Rússia, para a Europa, para outras regiões do mundo\", acrescentou.\\nPutin enfatizou a importância da segurança estratégica e garantiu que a Rússia não quer \"assustar ninguém\" com seus novos armamentos.\\n\"Sim, estamos desenvolvendo esses armamentos e conseguimos certos resultados\", disse o mandatário, para quem a Rússia está um passo \"à frente\" de outros países.\\nEle também admitiu que os Estados Unidos e outras potências logo alcançarão resultados semelhantes, e portanto \"é melhor pensar em como vamos viver juntos\".\\n\\nO Conselho Tutelar de\\nIvaiporã foi acionado por volta das 12h30 de sexta-feira (4) para acompanhar\\nalgumas...\\nO sábado (5) começa com tempo estável nas regiões paranaenses. Ao amanhecer, Apucarana e Arapongas registraram...\\nO Senado vai analisar a Medida Provisória 1.034/2021, que aumenta a tributação de instituições financeiras O texto \\nEm meio à pandemia da Covid-19, especialistas apontam que a menor frequência nos parques públicos pode estar...\\nA Empresa de Limpeza Urbana de Salvador (Limpurb) fará uma série de ações até 11 de junho como parte da campanha...\\nOs ministros das Finanças do G7 esperam anunciar um acordo neste sábado (5) sobre um imposto mínimo global e uma...   \n",
              "\n",
              "                   date category  \\\n",
              "0  2021-06-05T03:00:00Z    mundo   \n",
              "\n",
              "                                                                                                                   link  \\\n",
              "0  https://noticias.uol.com.br/ultimas-noticias/efe/2021/06/05/putin-nao-espera-grandes-avancos-em-cupula-com-biden.htm   \n",
              "\n",
              "  fonte  \n",
              "0   UOL  "
            ]
          },
          "metadata": {
            "tags": []
          },
          "execution_count": 263
        }
      ]
    },
    {
      "cell_type": "code",
      "metadata": {
        "id": "WxvvbTjBivKl"
      },
      "source": [
        "categoriaNossa = dfNews.groupby(['category'])['link'].count().reset_index().sort_values(by = 'link', ascending=False)"
      ],
      "execution_count": null,
      "outputs": []
    },
    {
      "cell_type": "markdown",
      "metadata": {
        "id": "Ni1IVHngnuu5"
      },
      "source": [
        "### Integrando as duas bases de dados de noticias"
      ]
    },
    {
      "cell_type": "code",
      "metadata": {
        "colab": {
          "base_uri": "https://localhost:8080/"
        },
        "id": "DB_DKkiOst49",
        "outputId": "dff0900b-a535-4ccc-95e0-e481b51241f2"
      },
      "source": [
        "dfFSP['fonte']='FolhaSP'\n",
        "dfnoticias = pd.concat([dfFSP,dfNews],sort=False)\n",
        "dfnoticias.shape"
      ],
      "execution_count": null,
      "outputs": [
        {
          "output_type": "execute_result",
          "data": {
            "text/plain": [
              "(178229, 7)"
            ]
          },
          "metadata": {
            "tags": []
          },
          "execution_count": 265
        }
      ]
    },
    {
      "cell_type": "code",
      "metadata": {
        "colab": {
          "base_uri": "https://localhost:8080/"
        },
        "id": "F4UY4Qi4uzSM",
        "outputId": "60279643-171e-4247-a656-1f40e065d328"
      },
      "source": [
        "dfnoticias['fonte'].value_counts()"
      ],
      "execution_count": null,
      "outputs": [
        {
          "output_type": "execute_result",
          "data": {
            "text/plain": [
              "FolhaSP           167053\n",
              "UOL                 4034\n",
              "google-news-br      2089\n",
              "Poder360            1448\n",
              "Notícias da TV      1262\n",
              "Name: fonte, dtype: int64"
            ]
          },
          "metadata": {
            "tags": []
          },
          "execution_count": 266
        }
      ]
    },
    {
      "cell_type": "code",
      "metadata": {
        "id": "kosIxvRXnq6o"
      },
      "source": [
        "deParaCategorias = pd.merge(categoriaFSP[['category','link']], categoriaNossa, on=['category'], how='outer')"
      ],
      "execution_count": null,
      "outputs": []
    },
    {
      "cell_type": "markdown",
      "metadata": {
        "id": "cTLODU2psI8H"
      },
      "source": [
        "**Categorias com mesmo nome nos dois conjunto de dados**"
      ]
    },
    {
      "cell_type": "code",
      "metadata": {
        "colab": {
          "base_uri": "https://localhost:8080/",
          "height": 200
        },
        "id": "2s3P9H1doxO4",
        "outputId": "c3e85d37-405b-4d00-e10e-8bf5a5b76e95"
      },
      "source": [
        "deParaCategorias[(~deParaCategorias['link_x'].isnull()) & (~deParaCategorias['link_y'].isnull()) ]"
      ],
      "execution_count": null,
      "outputs": [
        {
          "output_type": "execute_result",
          "data": {
            "text/html": [
              "<div>\n",
              "<style scoped>\n",
              "    .dataframe tbody tr th:only-of-type {\n",
              "        vertical-align: middle;\n",
              "    }\n",
              "\n",
              "    .dataframe tbody tr th {\n",
              "        vertical-align: top;\n",
              "    }\n",
              "\n",
              "    .dataframe thead th {\n",
              "        text-align: right;\n",
              "    }\n",
              "</style>\n",
              "<table border=\"1\" class=\"dataframe\">\n",
              "  <thead>\n",
              "    <tr style=\"text-align: right;\">\n",
              "      <th></th>\n",
              "      <th>category</th>\n",
              "      <th>link_x</th>\n",
              "      <th>link_y</th>\n",
              "    </tr>\n",
              "  </thead>\n",
              "  <tbody>\n",
              "    <tr>\n",
              "      <th>1</th>\n",
              "      <td>colunas</td>\n",
              "      <td>21622.0</td>\n",
              "      <td>263.0</td>\n",
              "    </tr>\n",
              "    <tr>\n",
              "      <th>3</th>\n",
              "      <td>esporte</td>\n",
              "      <td>19730.0</td>\n",
              "      <td>590.0</td>\n",
              "    </tr>\n",
              "    <tr>\n",
              "      <th>4</th>\n",
              "      <td>mundo</td>\n",
              "      <td>17130.0</td>\n",
              "      <td>1251.0</td>\n",
              "    </tr>\n",
              "    <tr>\n",
              "      <th>5</th>\n",
              "      <td>cotidiano</td>\n",
              "      <td>16967.0</td>\n",
              "      <td>77.0</td>\n",
              "    </tr>\n",
              "    <tr>\n",
              "      <th>12</th>\n",
              "      <td>educacao</td>\n",
              "      <td>2118.0</td>\n",
              "      <td>27.0</td>\n",
              "    </tr>\n",
              "  </tbody>\n",
              "</table>\n",
              "</div>"
            ],
            "text/plain": [
              "     category   link_x  link_y\n",
              "1     colunas  21622.0   263.0\n",
              "3     esporte  19730.0   590.0\n",
              "4       mundo  17130.0  1251.0\n",
              "5   cotidiano  16967.0    77.0\n",
              "12   educacao   2118.0    27.0"
            ]
          },
          "metadata": {
            "tags": []
          },
          "execution_count": 268
        }
      ]
    },
    {
      "cell_type": "markdown",
      "metadata": {
        "id": "vTBdwIcDsYxr"
      },
      "source": [
        "**Categorias que estão no nosso dataset e não estão no dataset da FSP**"
      ]
    },
    {
      "cell_type": "code",
      "metadata": {
        "colab": {
          "base_uri": "https://localhost:8080/",
          "height": 100
        },
        "id": "IdHC0OQXskeL",
        "outputId": "dab59c7f-0886-446f-ab7d-ae9208edc6fd"
      },
      "source": [
        "str(deParaCategorias[(deParaCategorias['link_x'].isnull()) ]['category'].tolist())"
      ],
      "execution_count": null,
      "outputs": [
        {
          "output_type": "execute_result",
          "data": {
            "application/vnd.google.colaboratory.intrinsic+json": {
              "type": "string"
            },
            "text/plain": [
              "\"['midia', 'local', 'politica', 'novelas', 'miscelanea', 'saude', 'economia', 'brasil', 'coronavirus', 'justica', 'celebridades', 'tecnologia', 'fantastico', 'meio-ambiente', 'podcast', 'eleicoes', 'loterias', 'casos-de-policia', 'olimpiadas', 'pesquisas', 'confere', 'enem', 'carros', 'agronegocios', 'pme', 'mais', 'tilt, reuters', 'portuguese', 'legislacao', 'atitude', 'internet', 'coluna', 'especiais', 'start', 'sociedade, educacao', 'realities', 'programas, 3-em-1', 'comprova', 'pix', 'combate', 'transito', 'nieman', 'motor', 'inovacao', 'historia', 'nossa', 'carros, colunas', 'boxe', 'tilt, estado', 'brics', 'mais, levante', 'sociedade, epoca', 'saude, estado', 'eurocopa', 'rio, rio', 'golfe', 'programas', 'carros, colunas, infomoto', 'justica, 3-dos-ex-pms-levados-por-salles-para-ministerio-foram-afastados-pelo-stf', 'exercito', 'diplomacia', 'redacao']\""
            ]
          },
          "metadata": {
            "tags": []
          },
          "execution_count": 269
        }
      ]
    },
    {
      "cell_type": "code",
      "metadata": {
        "colab": {
          "base_uri": "https://localhost:8080/",
          "height": 83
        },
        "id": "CAprcExsudGq",
        "outputId": "c9c206dc-c539-424c-fc99-bd9d00caac61"
      },
      "source": [
        "str(categoriaFSP['category'].tolist())"
      ],
      "execution_count": null,
      "outputs": [
        {
          "output_type": "execute_result",
          "data": {
            "application/vnd.google.colaboratory.intrinsic+json": {
              "type": "string"
            },
            "text/plain": [
              "\"['poder', 'colunas', 'mercado', 'esporte', 'mundo', 'cotidiano', 'ilustrada', 'opiniao', 'paineldoleitor', 'saopaulo', 'tec', 'tv', 'educacao', 'turismo', 'ilustrissima', 'ciencia', 'equilibrioesaude', 'sobretudo', 'bbc', 'folhinha', 'empreendedorsocial', 'comida', 'asmais', 'ambiente', 'seminariosfolha', 'serafina', 'o-melhor-de-sao-paulo', 'vice', 'guia-de-livros-discos-filmes', 'topofmind', 'banco-de-dados', 'dw', 'especial', 'infograficos', 'cenarios-2017', 'rfi', 'guia-de-livros-filmes-discos', 'multimidia', 'treinamento', 'treinamentocienciaesaude', 'mulher', 'euronews', 'ombudsman', 'contas-de-casa', '2016', 'bichos', 'musica', '2015']\""
            ]
          },
          "metadata": {
            "tags": []
          },
          "execution_count": 270
        }
      ]
    },
    {
      "cell_type": "markdown",
      "metadata": {
        "id": "O0Z2A5HGvDqU"
      },
      "source": [
        "DE/PARA de categorias.\n",
        "\n",
        "nossa             FSP<br>\n",
        "midia      <--    tv, multimidia, novelas, celebridades   <br>\n",
        "local      <--    'saopaulo', 'o-melhor-de-sao-paulo' <br>\n",
        "politica      <--    poder <br>\n",
        "miscelanea -->     <br>\n",
        "saude      <--   equilibrioesaude <br>\n",
        "economia   <--   mercado <br>\n",
        "brasil                   <br>\n",
        "olimpiadas -->  esporte <br>\n",
        "tecnologia  <-- tec,'banco-de-dados', 'dw'  <br>\n",
        "meio-ambiente <-- ambiente <br>\n",
        "enem --> educacao\n",
        "\n",
        "\n",
        "\n",
        "\n",
        "\n",
        "\n"
      ]
    },
    {
      "cell_type": "code",
      "metadata": {
        "id": "oPwyitA387tp"
      },
      "source": [
        "dfnoticias['category'] = dfnoticias.loc[:,['category']].apply(lambda x: 'midia' if x['category'] in ['tv', 'multimidia', 'novelas', 'celebridades'] else \n",
        "                                                                        'local' if x['category'] in [ 'saopaulo', 'o-melhor-de-sao-paulo'] else \n",
        "                                                                        'politica' if x['category'] in ['poder'] else\n",
        "                                                                        'saude' if x['category'] in ['equilibrioesaude'] else \n",
        "                                                                        'economia' if x['category'] in ['mercado'] else\n",
        "                                                                        'esporte' if x['category'] in ['olimpiadas'] else\n",
        "                                                                        'tecnologia' if x['category'] in [ 'tec','banco-de-dados', 'dw'] else\n",
        "                                                                        'meio-ambiente' if x['category'] in [ 'ambiente'] else \n",
        "                                                                        'educacao' if x['category'] in ['enem'] else\n",
        "                                                                        x['category'], axis=1)\n"
      ],
      "execution_count": null,
      "outputs": []
    },
    {
      "cell_type": "markdown",
      "metadata": {
        "id": "vGVPiswwAfGg"
      },
      "source": [
        "**Quantitativo de noticias por categoria**"
      ]
    },
    {
      "cell_type": "code",
      "metadata": {
        "colab": {
          "base_uri": "https://localhost:8080/"
        },
        "id": "MRiD9tmGACgL",
        "outputId": "0d9fb24d-7848-4f22-c00b-29afbe9526d7"
      },
      "source": [
        "dfnoticias['category'].value_counts()"
      ],
      "execution_count": null,
      "outputs": [
        {
          "output_type": "execute_result",
          "data": {
            "text/plain": [
              "politica                                                                             23499\n",
              "colunas                                                                              21885\n",
              "economia                                                                             21476\n",
              "esporte                                                                              20331\n",
              "mundo                                                                                18381\n",
              "cotidiano                                                                            17044\n",
              "ilustrada                                                                            16345\n",
              "local                                                                                 5628\n",
              "midia                                                                                 4817\n",
              "opiniao                                                                               4525\n",
              "paineldoleitor                                                                        4011\n",
              "tecnologia                                                                            2458\n",
              "educacao                                                                              2150\n",
              "saude                                                                                 1910\n",
              "turismo                                                                               1903\n",
              "ilustrissima                                                                          1411\n",
              "ciencia                                                                               1335\n",
              "sobretudo                                                                             1057\n",
              "bbc                                                                                    980\n",
              "folhinha                                                                               876\n",
              "empreendedorsocial                                                                     841\n",
              "comida                                                                                 828\n",
              "miscelanea                                                                             768\n",
              "meio-ambiente                                                                          563\n",
              "asmais                                                                                 548\n",
              "brasil                                                                                 444\n",
              "seminariosfolha                                                                        379\n",
              "coronavirus                                                                            348\n",
              "serafina                                                                               334\n",
              "justica                                                                                205\n",
              "vice                                                                                   146\n",
              "guia-de-livros-discos-filmes                                                           143\n",
              "topofmind                                                                               86\n",
              "fantastico                                                                              79\n",
              "podcast                                                                                 51\n",
              "eleicoes                                                                                47\n",
              "especial                                                                                43\n",
              "infograficos                                                                            43\n",
              "cenarios-2017                                                                           43\n",
              "rfi                                                                                     29\n",
              "loterias                                                                                29\n",
              "guia-de-livros-filmes-discos                                                            28\n",
              "treinamento                                                                             21\n",
              "treinamentocienciaesaude                                                                18\n",
              "mulher                                                                                  16\n",
              "casos-de-policia                                                                        14\n",
              "pesquisas                                                                                8\n",
              "euronews                                                                                 8\n",
              "confere                                                                                  7\n",
              "carros                                                                                   5\n",
              "agronegocios                                                                             5\n",
              "tilt, reuters                                                                            4\n",
              "pme                                                                                      4\n",
              "mais                                                                                     4\n",
              "atitude                                                                                  3\n",
              "internet                                                                                 3\n",
              "coluna                                                                                   3\n",
              "portuguese                                                                               3\n",
              "ombudsman                                                                                3\n",
              "legislacao                                                                               3\n",
              "nieman                                                                                   2\n",
              "combate                                                                                  2\n",
              "motor                                                                                    2\n",
              "start                                                                                    2\n",
              "sociedade, educacao                                                                      2\n",
              "comprova                                                                                 2\n",
              "realities                                                                                2\n",
              "contas-de-casa                                                                           2\n",
              "especiais                                                                                2\n",
              "historia                                                                                 2\n",
              "pix                                                                                      2\n",
              "inovacao                                                                                 2\n",
              "nossa                                                                                    2\n",
              "programas, 3-em-1                                                                        2\n",
              "transito                                                                                 2\n",
              "eurocopa                                                                                 1\n",
              "2016                                                                                     1\n",
              "sociedade, epoca                                                                         1\n",
              "diplomacia                                                                               1\n",
              "mais, levante                                                                            1\n",
              "boxe                                                                                     1\n",
              "brics                                                                                    1\n",
              "carros, colunas, infomoto                                                                1\n",
              "bichos                                                                                   1\n",
              "musica                                                                                   1\n",
              "redacao                                                                                  1\n",
              "saude, estado                                                                            1\n",
              "carros, colunas                                                                          1\n",
              "tilt, estado                                                                             1\n",
              "programas                                                                                1\n",
              "golfe                                                                                    1\n",
              "justica, 3-dos-ex-pms-levados-por-salles-para-ministerio-foram-afastados-pelo-stf        1\n",
              "exercito                                                                                 1\n",
              "rio, rio                                                                                 1\n",
              "2015                                                                                     1\n",
              "Name: category, dtype: int64"
            ]
          },
          "metadata": {
            "tags": []
          },
          "execution_count": 272
        }
      ]
    },
    {
      "cell_type": "code",
      "metadata": {
        "id": "aTXLKF_NhUf2"
      },
      "source": [
        ""
      ],
      "execution_count": null,
      "outputs": []
    },
    {
      "cell_type": "markdown",
      "metadata": {
        "id": "nTeEu3ehhW3d"
      },
      "source": [
        "Limpeza em Textos extraídos pela nossa rotina de Web Scrapping\n",
        "Foram retirados primeiros paragráfos duplicados - ocorrência referente à fonte google-news-br -, textos de chamadas a outras noticias e chamadas a vídeos de outras reportagens no Youtube - ocorrências referentes à fonte UOL.   "
      ]
    },
    {
      "cell_type": "code",
      "metadata": {
        "id": "aVLwbPCeanzO"
      },
      "source": [
        "class preprocessamento():\n",
        "  def limpaReferenciaOutrasNoticiasApos2enters(self,dfnews,fonte):\n",
        "    '''extrai links de outras noticias no texto da noticial principal do uol. Considera quando inicia com dois enters'''\n",
        "    for index, row in dfnews[dfnews['fonte']==fonte][['fonte','category','text','link']].iterrows():\n",
        "      if '...' in str(row['text']):\n",
        "        for match in re.finditer(r'(?s)((?:[^\\n][\\n]?)+)', row['text']):\n",
        "          if not ('...' in str(row['text'])[match.start(): match.end()]):\n",
        "            dfnews.loc[dfnews['link']==row['link'],['text']]=row['text'][match.start(): match.end()]\n",
        "    return dfnews\n",
        "  def limpaReferenciaOutrasNoticiasApos1enter(self,dfnews,fonte):\n",
        "    '''extraindo links de outras noticias no texto da noticial principal do uol. obtem paragrafo por paragrafo e verifica se nele tem ...'''\n",
        "    for index, row in dfnews[dfnews['fonte']==fonte].iterrows():\n",
        "      if '...' in str(row['text']):\n",
        "        texto=''\n",
        "        for match in re.finditer(r'((?:[^\\n][\\.]?)+)', row['text']):\n",
        "          if not ('...' in str(row['text'])[match.start(): match.end()]):\n",
        "            texto+=str(row['text'])[match.start(): match.end()] + '\\n'\n",
        "          else:  \n",
        "            break\n",
        "        dfnews.loc[dfnews['link']==row['link'],['text']]=texto\n",
        "    return dfnews\n",
        "\n",
        "  def limpaReferenciaVideosYoutubeSemContexto(self,dfnews,fonte):\n",
        "    '''retira do final do texto referências a Youtube '''\n",
        "    for index, row in dfnews[(dfnews['fonte']=='UOL')&(dfnews['text'].str.contains('Já assistiu aos nossos novos vídeos no YouTube'))].iterrows():\n",
        "      for match in re.finditer(r'(Leia outras reportagens da série aqui)|(Já assistiu aos nossos novos vídeos no YouTube)', row['text']):\n",
        "        dfnews.loc[dfnews['link']==row['link'],['text']]=str(row['text'])[0: match.start()]\n",
        "        break\n",
        "    return dfnews\n",
        "  def limpaParagrafosDuplicados(self,dfnews,fonte):\n",
        "    '''excluindo primeiro paragráfo duplicado '''\n",
        "    for index, row in dfnews[dfnews['fonte']==fonte].iterrows():\n",
        "      texto=''\n",
        "      texto_anterior=''\n",
        "      for match in re.finditer(r'((?:[^\\n][\\.]?)+)', row['text']):\n",
        "        if (row['text'][match.start():match.end()])!=(texto_anterior):\n",
        "          texto+=row['text'][match.start():match.end()]+'\\n'\n",
        "          texto_anterior=row['text'][match.start():match.end()]\n",
        "      dfnews.loc[dfnews['link']==row['link'],['text']]=texto\n",
        "      return dfnews\n",
        "  def numerandoCategorias(self,dfnews):\n",
        "    dfNewsGrupo = dfnews.groupby(['category'])['link'].count().reset_index().sort_values('link',ascending=False)\n",
        "    dictCategoriaNumero = dict(zip(dfNewsGrupo['category'],range(0,dfNewsGrupo.shape[0])))\n",
        "    dfnews['category_nro'] = dfnews['category'].map(dictCategoriaNumero)\n",
        "    return dfnews\n",
        "\n",
        "\n",
        "\n",
        "\n",
        "\n",
        "\n"
      ],
      "execution_count": null,
      "outputs": []
    },
    {
      "cell_type": "code",
      "metadata": {
        "id": "DstKxEA6SjHP"
      },
      "source": [
        "pp=preprocessamento()\n",
        "dfnews_tratadas = dfnoticias.copy()\n",
        "dfnews_tratadas=pp.limpaReferenciaOutrasNoticiasApos2enters(dfnews_tratadas,'UOL')\n",
        "dfnews_tratadas=pp.limpaReferenciaOutrasNoticiasApos1enter(dfnews_tratadas,'UOL')  \n",
        "dfnews_tratadas=pp.limpaReferenciaVideosYoutubeSemContexto(dfnews_tratadas,'UOL')\n",
        "dfnews_tratadas=pp.limpaParagrafosDuplicados(dfnews_tratadas,'google-news-br')\n",
        "dfnews_tratadas=pp.numerandoCategorias(dfnews_tratadas)"
      ],
      "execution_count": null,
      "outputs": []
    },
    {
      "cell_type": "code",
      "metadata": {
        "id": "PvVMsp8VhKnI"
      },
      "source": [
        "dfnews_tratadas.to_csv(\"news_integradas.csv\",header=True,doublequote=True, index=False, quotechar='\"', encoding='utf-8')\n",
        "#Este arquivo está no drive google hederson.santos@gmail.com"
      ],
      "execution_count": null,
      "outputs": []
    },
    {
      "cell_type": "code",
      "metadata": {
        "id": "tT4a-ST4Nd-Q",
        "colab": {
          "base_uri": "https://localhost:8080/"
        },
        "outputId": "491b2f44-bfe3-4060-bb1b-6671a8ad606b"
      },
      "source": [
        "#!!unzip news_integradas.zip"
      ],
      "execution_count": null,
      "outputs": [
        {
          "output_type": "stream",
          "text": [
            "Archive:  news_integradas.zip\n",
            "  inflating: news_integradas.csv     \n"
          ],
          "name": "stdout"
        }
      ]
    },
    {
      "cell_type": "code",
      "metadata": {
        "id": "QLEF5xULNogm",
        "colab": {
          "base_uri": "https://localhost:8080/"
        },
        "outputId": "ad5552f4-be35-488e-f350-67776d740690"
      },
      "source": [
        "dfnews_tratadas = pd.read_csv(\"./news_integradas.csv\",header=0,doublequote=True, quotechar='\"', encoding='utf-8')\n",
        "print(dfnews_tratadas.shape)"
      ],
      "execution_count": 5,
      "outputs": [
        {
          "output_type": "stream",
          "name": "stdout",
          "text": [
            "(178229, 8)\n"
          ]
        }
      ]
    },
    {
      "cell_type": "code",
      "metadata": {
        "colab": {
          "base_uri": "https://localhost:8080/"
        },
        "id": "W0BBj_nZw2LZ",
        "outputId": "1c861bb1-6f41-40fe-954e-abffeee3b32d"
      },
      "source": [
        "dfnews_tratadas = dfnews_tratadas[~dfnews_tratadas['text'].isnull()]\n",
        "print(dfnews_tratadas.shape)"
      ],
      "execution_count": 7,
      "outputs": [
        {
          "output_type": "stream",
          "name": "stdout",
          "text": [
            "(177407, 8)\n"
          ]
        }
      ]
    },
    {
      "cell_type": "code",
      "metadata": {
        "id": "ABBCczkQ0IAU"
      },
      "source": [
        "areas = ['politica', 'economia', 'esporte', 'mundo', 'ilustrada', 'midia', 'tecnologia', 'educacao', 'saude', 'ciencia']\n",
        "dictCod = {}\n",
        "for i, a in enumerate(areas):\n",
        "  dictCod[a]=i \n",
        "dfCodigos = pd.DataFrame([dictCod]).T.reset_index().rename(columns={0:'category_nro', 'index':'category'})\n",
        "dfnews_tratadas = dfnews_tratadas[dfnews_tratadas['category'].isin(areas)]\n",
        "dfnews_tratadas = pd.merge(dfnews_tratadas[['text','category','link']],\n",
        "                           dfCodigos,\n",
        "                           on = ['category'], how='inner')\n"
      ],
      "execution_count": null,
      "outputs": []
    },
    {
      "cell_type": "code",
      "metadata": {
        "colab": {
          "base_uri": "https://localhost:8080/"
        },
        "id": "e-aGBnWF1t04",
        "outputId": "ea7791ce-734d-4f48-a7fa-877703e0250a"
      },
      "source": [
        "dfnews_tratadas.shape\n"
      ],
      "execution_count": 45,
      "outputs": [
        {
          "output_type": "execute_result",
          "data": {
            "text/plain": [
              "(177407, 8)"
            ]
          },
          "metadata": {},
          "execution_count": 45
        }
      ]
    },
    {
      "cell_type": "code",
      "metadata": {
        "id": "OaVqM2C0yhYo",
        "colab": {
          "base_uri": "https://localhost:8080/",
          "height": 1000
        },
        "outputId": "fbff21c0-3e51-46cf-80b8-6753c980dd0e"
      },
      "source": [
        "dfNewsGrupo = dfnews_tratadas.groupby(['category','category_nro'])['link'].count().reset_index().sort_values(by='link',ascending=False).reset_index().rename(columns={'link':'qtd_registros'})\n",
        "dfNewsGrupo"
      ],
      "execution_count": 46,
      "outputs": [
        {
          "output_type": "execute_result",
          "data": {
            "text/html": [
              "<div>\n",
              "<style scoped>\n",
              "    .dataframe tbody tr th:only-of-type {\n",
              "        vertical-align: middle;\n",
              "    }\n",
              "\n",
              "    .dataframe tbody tr th {\n",
              "        vertical-align: top;\n",
              "    }\n",
              "\n",
              "    .dataframe thead th {\n",
              "        text-align: right;\n",
              "    }\n",
              "</style>\n",
              "<table border=\"1\" class=\"dataframe\">\n",
              "  <thead>\n",
              "    <tr style=\"text-align: right;\">\n",
              "      <th></th>\n",
              "      <th>index</th>\n",
              "      <th>category</th>\n",
              "      <th>category_nro</th>\n",
              "      <th>qtd_registros</th>\n",
              "    </tr>\n",
              "  </thead>\n",
              "  <tbody>\n",
              "    <tr>\n",
              "      <th>0</th>\n",
              "      <td>66</td>\n",
              "      <td>politica</td>\n",
              "      <td>0</td>\n",
              "      <td>23499</td>\n",
              "    </tr>\n",
              "    <tr>\n",
              "      <th>1</th>\n",
              "      <td>15</td>\n",
              "      <td>colunas</td>\n",
              "      <td>1</td>\n",
              "      <td>21881</td>\n",
              "    </tr>\n",
              "    <tr>\n",
              "      <th>2</th>\n",
              "      <td>23</td>\n",
              "      <td>economia</td>\n",
              "      <td>2</td>\n",
              "      <td>21476</td>\n",
              "    </tr>\n",
              "    <tr>\n",
              "      <th>3</th>\n",
              "      <td>29</td>\n",
              "      <td>esporte</td>\n",
              "      <td>3</td>\n",
              "      <td>20327</td>\n",
              "    </tr>\n",
              "    <tr>\n",
              "      <th>4</th>\n",
              "      <td>56</td>\n",
              "      <td>mundo</td>\n",
              "      <td>4</td>\n",
              "      <td>18380</td>\n",
              "    </tr>\n",
              "    <tr>\n",
              "      <th>5</th>\n",
              "      <td>21</td>\n",
              "      <td>cotidiano</td>\n",
              "      <td>5</td>\n",
              "      <td>17044</td>\n",
              "    </tr>\n",
              "    <tr>\n",
              "      <th>6</th>\n",
              "      <td>39</td>\n",
              "      <td>ilustrada</td>\n",
              "      <td>6</td>\n",
              "      <td>15617</td>\n",
              "    </tr>\n",
              "    <tr>\n",
              "      <th>7</th>\n",
              "      <td>47</td>\n",
              "      <td>local</td>\n",
              "      <td>7</td>\n",
              "      <td>5628</td>\n",
              "    </tr>\n",
              "    <tr>\n",
              "      <th>8</th>\n",
              "      <td>52</td>\n",
              "      <td>midia</td>\n",
              "      <td>8</td>\n",
              "      <td>4797</td>\n",
              "    </tr>\n",
              "    <tr>\n",
              "      <th>9</th>\n",
              "      <td>60</td>\n",
              "      <td>opiniao</td>\n",
              "      <td>9</td>\n",
              "      <td>4525</td>\n",
              "    </tr>\n",
              "    <tr>\n",
              "      <th>10</th>\n",
              "      <td>61</td>\n",
              "      <td>paineldoleitor</td>\n",
              "      <td>10</td>\n",
              "      <td>4011</td>\n",
              "    </tr>\n",
              "    <tr>\n",
              "      <th>11</th>\n",
              "      <td>82</td>\n",
              "      <td>tecnologia</td>\n",
              "      <td>11</td>\n",
              "      <td>2458</td>\n",
              "    </tr>\n",
              "    <tr>\n",
              "      <th>12</th>\n",
              "      <td>24</td>\n",
              "      <td>educacao</td>\n",
              "      <td>12</td>\n",
              "      <td>2150</td>\n",
              "    </tr>\n",
              "    <tr>\n",
              "      <th>13</th>\n",
              "      <td>74</td>\n",
              "      <td>saude</td>\n",
              "      <td>13</td>\n",
              "      <td>1910</td>\n",
              "    </tr>\n",
              "    <tr>\n",
              "      <th>14</th>\n",
              "      <td>89</td>\n",
              "      <td>turismo</td>\n",
              "      <td>14</td>\n",
              "      <td>1903</td>\n",
              "    </tr>\n",
              "    <tr>\n",
              "      <th>15</th>\n",
              "      <td>40</td>\n",
              "      <td>ilustrissima</td>\n",
              "      <td>15</td>\n",
              "      <td>1409</td>\n",
              "    </tr>\n",
              "    <tr>\n",
              "      <th>16</th>\n",
              "      <td>13</td>\n",
              "      <td>ciencia</td>\n",
              "      <td>16</td>\n",
              "      <td>1335</td>\n",
              "    </tr>\n",
              "    <tr>\n",
              "      <th>17</th>\n",
              "      <td>78</td>\n",
              "      <td>sobretudo</td>\n",
              "      <td>17</td>\n",
              "      <td>1057</td>\n",
              "    </tr>\n",
              "    <tr>\n",
              "      <th>18</th>\n",
              "      <td>3</td>\n",
              "      <td>bbc</td>\n",
              "      <td>18</td>\n",
              "      <td>980</td>\n",
              "    </tr>\n",
              "    <tr>\n",
              "      <th>19</th>\n",
              "      <td>34</td>\n",
              "      <td>folhinha</td>\n",
              "      <td>19</td>\n",
              "      <td>875</td>\n",
              "    </tr>\n",
              "    <tr>\n",
              "      <th>20</th>\n",
              "      <td>26</td>\n",
              "      <td>empreendedorsocial</td>\n",
              "      <td>20</td>\n",
              "      <td>841</td>\n",
              "    </tr>\n",
              "    <tr>\n",
              "      <th>21</th>\n",
              "      <td>17</td>\n",
              "      <td>comida</td>\n",
              "      <td>21</td>\n",
              "      <td>828</td>\n",
              "    </tr>\n",
              "    <tr>\n",
              "      <th>22</th>\n",
              "      <td>53</td>\n",
              "      <td>miscelanea</td>\n",
              "      <td>22</td>\n",
              "      <td>719</td>\n",
              "    </tr>\n",
              "    <tr>\n",
              "      <th>23</th>\n",
              "      <td>51</td>\n",
              "      <td>meio-ambiente</td>\n",
              "      <td>23</td>\n",
              "      <td>562</td>\n",
              "    </tr>\n",
              "    <tr>\n",
              "      <th>24</th>\n",
              "      <td>1</td>\n",
              "      <td>asmais</td>\n",
              "      <td>24</td>\n",
              "      <td>547</td>\n",
              "    </tr>\n",
              "    <tr>\n",
              "      <th>25</th>\n",
              "      <td>6</td>\n",
              "      <td>brasil</td>\n",
              "      <td>25</td>\n",
              "      <td>444</td>\n",
              "    </tr>\n",
              "    <tr>\n",
              "      <th>26</th>\n",
              "      <td>76</td>\n",
              "      <td>seminariosfolha</td>\n",
              "      <td>26</td>\n",
              "      <td>379</td>\n",
              "    </tr>\n",
              "    <tr>\n",
              "      <th>27</th>\n",
              "      <td>20</td>\n",
              "      <td>coronavirus</td>\n",
              "      <td>27</td>\n",
              "      <td>348</td>\n",
              "    </tr>\n",
              "    <tr>\n",
              "      <th>28</th>\n",
              "      <td>77</td>\n",
              "      <td>serafina</td>\n",
              "      <td>28</td>\n",
              "      <td>331</td>\n",
              "    </tr>\n",
              "    <tr>\n",
              "      <th>29</th>\n",
              "      <td>44</td>\n",
              "      <td>justica</td>\n",
              "      <td>29</td>\n",
              "      <td>205</td>\n",
              "    </tr>\n",
              "    <tr>\n",
              "      <th>30</th>\n",
              "      <td>90</td>\n",
              "      <td>vice</td>\n",
              "      <td>30</td>\n",
              "      <td>146</td>\n",
              "    </tr>\n",
              "    <tr>\n",
              "      <th>31</th>\n",
              "      <td>36</td>\n",
              "      <td>guia-de-livros-discos-filmes</td>\n",
              "      <td>31</td>\n",
              "      <td>143</td>\n",
              "    </tr>\n",
              "    <tr>\n",
              "      <th>32</th>\n",
              "      <td>85</td>\n",
              "      <td>topofmind</td>\n",
              "      <td>32</td>\n",
              "      <td>86</td>\n",
              "    </tr>\n",
              "    <tr>\n",
              "      <th>33</th>\n",
              "      <td>33</td>\n",
              "      <td>fantastico</td>\n",
              "      <td>33</td>\n",
              "      <td>79</td>\n",
              "    </tr>\n",
              "    <tr>\n",
              "      <th>34</th>\n",
              "      <td>65</td>\n",
              "      <td>podcast</td>\n",
              "      <td>34</td>\n",
              "      <td>51</td>\n",
              "    </tr>\n",
              "    <tr>\n",
              "      <th>35</th>\n",
              "      <td>25</td>\n",
              "      <td>eleicoes</td>\n",
              "      <td>35</td>\n",
              "      <td>47</td>\n",
              "    </tr>\n",
              "    <tr>\n",
              "      <th>36</th>\n",
              "      <td>28</td>\n",
              "      <td>especial</td>\n",
              "      <td>36</td>\n",
              "      <td>43</td>\n",
              "    </tr>\n",
              "    <tr>\n",
              "      <th>37</th>\n",
              "      <td>12</td>\n",
              "      <td>cenarios-2017</td>\n",
              "      <td>38</td>\n",
              "      <td>43</td>\n",
              "    </tr>\n",
              "    <tr>\n",
              "      <th>38</th>\n",
              "      <td>41</td>\n",
              "      <td>infograficos</td>\n",
              "      <td>37</td>\n",
              "      <td>40</td>\n",
              "    </tr>\n",
              "    <tr>\n",
              "      <th>39</th>\n",
              "      <td>72</td>\n",
              "      <td>rfi</td>\n",
              "      <td>39</td>\n",
              "      <td>29</td>\n",
              "    </tr>\n",
              "    <tr>\n",
              "      <th>40</th>\n",
              "      <td>48</td>\n",
              "      <td>loterias</td>\n",
              "      <td>40</td>\n",
              "      <td>29</td>\n",
              "    </tr>\n",
              "    <tr>\n",
              "      <th>41</th>\n",
              "      <td>37</td>\n",
              "      <td>guia-de-livros-filmes-discos</td>\n",
              "      <td>41</td>\n",
              "      <td>28</td>\n",
              "    </tr>\n",
              "    <tr>\n",
              "      <th>42</th>\n",
              "      <td>87</td>\n",
              "      <td>treinamento</td>\n",
              "      <td>42</td>\n",
              "      <td>21</td>\n",
              "    </tr>\n",
              "    <tr>\n",
              "      <th>43</th>\n",
              "      <td>88</td>\n",
              "      <td>treinamentocienciaesaude</td>\n",
              "      <td>43</td>\n",
              "      <td>18</td>\n",
              "    </tr>\n",
              "    <tr>\n",
              "      <th>44</th>\n",
              "      <td>55</td>\n",
              "      <td>mulher</td>\n",
              "      <td>44</td>\n",
              "      <td>16</td>\n",
              "    </tr>\n",
              "    <tr>\n",
              "      <th>45</th>\n",
              "      <td>11</td>\n",
              "      <td>casos-de-policia</td>\n",
              "      <td>45</td>\n",
              "      <td>14</td>\n",
              "    </tr>\n",
              "    <tr>\n",
              "      <th>46</th>\n",
              "      <td>62</td>\n",
              "      <td>pesquisas</td>\n",
              "      <td>47</td>\n",
              "      <td>8</td>\n",
              "    </tr>\n",
              "    <tr>\n",
              "      <th>47</th>\n",
              "      <td>31</td>\n",
              "      <td>euronews</td>\n",
              "      <td>46</td>\n",
              "      <td>8</td>\n",
              "    </tr>\n",
              "    <tr>\n",
              "      <th>48</th>\n",
              "      <td>19</td>\n",
              "      <td>confere</td>\n",
              "      <td>48</td>\n",
              "      <td>7</td>\n",
              "    </tr>\n",
              "    <tr>\n",
              "      <th>49</th>\n",
              "      <td>0</td>\n",
              "      <td>agronegocios</td>\n",
              "      <td>50</td>\n",
              "      <td>5</td>\n",
              "    </tr>\n",
              "    <tr>\n",
              "      <th>50</th>\n",
              "      <td>8</td>\n",
              "      <td>carros</td>\n",
              "      <td>49</td>\n",
              "      <td>5</td>\n",
              "    </tr>\n",
              "    <tr>\n",
              "      <th>51</th>\n",
              "      <td>64</td>\n",
              "      <td>pme</td>\n",
              "      <td>52</td>\n",
              "      <td>4</td>\n",
              "    </tr>\n",
              "    <tr>\n",
              "      <th>52</th>\n",
              "      <td>84</td>\n",
              "      <td>tilt, reuters</td>\n",
              "      <td>51</td>\n",
              "      <td>4</td>\n",
              "    </tr>\n",
              "    <tr>\n",
              "      <th>53</th>\n",
              "      <td>49</td>\n",
              "      <td>mais</td>\n",
              "      <td>53</td>\n",
              "      <td>4</td>\n",
              "    </tr>\n",
              "    <tr>\n",
              "      <th>54</th>\n",
              "      <td>46</td>\n",
              "      <td>legislacao</td>\n",
              "      <td>58</td>\n",
              "      <td>3</td>\n",
              "    </tr>\n",
              "    <tr>\n",
              "      <th>55</th>\n",
              "      <td>43</td>\n",
              "      <td>internet</td>\n",
              "      <td>57</td>\n",
              "      <td>3</td>\n",
              "    </tr>\n",
              "    <tr>\n",
              "      <th>56</th>\n",
              "      <td>14</td>\n",
              "      <td>coluna</td>\n",
              "      <td>59</td>\n",
              "      <td>3</td>\n",
              "    </tr>\n",
              "    <tr>\n",
              "      <th>57</th>\n",
              "      <td>59</td>\n",
              "      <td>ombudsman</td>\n",
              "      <td>56</td>\n",
              "      <td>3</td>\n",
              "    </tr>\n",
              "    <tr>\n",
              "      <th>58</th>\n",
              "      <td>2</td>\n",
              "      <td>atitude</td>\n",
              "      <td>55</td>\n",
              "      <td>3</td>\n",
              "    </tr>\n",
              "    <tr>\n",
              "      <th>59</th>\n",
              "      <td>67</td>\n",
              "      <td>portuguese</td>\n",
              "      <td>54</td>\n",
              "      <td>3</td>\n",
              "    </tr>\n",
              "    <tr>\n",
              "      <th>60</th>\n",
              "      <td>86</td>\n",
              "      <td>transito</td>\n",
              "      <td>60</td>\n",
              "      <td>2</td>\n",
              "    </tr>\n",
              "    <tr>\n",
              "      <th>61</th>\n",
              "      <td>81</td>\n",
              "      <td>start</td>\n",
              "      <td>63</td>\n",
              "      <td>2</td>\n",
              "    </tr>\n",
              "    <tr>\n",
              "      <th>62</th>\n",
              "      <td>16</td>\n",
              "      <td>combate</td>\n",
              "      <td>71</td>\n",
              "      <td>2</td>\n",
              "    </tr>\n",
              "    <tr>\n",
              "      <th>63</th>\n",
              "      <td>18</td>\n",
              "      <td>comprova</td>\n",
              "      <td>72</td>\n",
              "      <td>2</td>\n",
              "    </tr>\n",
              "    <tr>\n",
              "      <th>64</th>\n",
              "      <td>69</td>\n",
              "      <td>programas, 3-em-1</td>\n",
              "      <td>67</td>\n",
              "      <td>2</td>\n",
              "    </tr>\n",
              "    <tr>\n",
              "      <th>65</th>\n",
              "      <td>70</td>\n",
              "      <td>realities</td>\n",
              "      <td>66</td>\n",
              "      <td>2</td>\n",
              "    </tr>\n",
              "    <tr>\n",
              "      <th>66</th>\n",
              "      <td>27</td>\n",
              "      <td>especiais</td>\n",
              "      <td>69</td>\n",
              "      <td>2</td>\n",
              "    </tr>\n",
              "    <tr>\n",
              "      <th>67</th>\n",
              "      <td>79</td>\n",
              "      <td>sociedade, educacao</td>\n",
              "      <td>64</td>\n",
              "      <td>2</td>\n",
              "    </tr>\n",
              "    <tr>\n",
              "      <th>68</th>\n",
              "      <td>63</td>\n",
              "      <td>pix</td>\n",
              "      <td>70</td>\n",
              "      <td>2</td>\n",
              "    </tr>\n",
              "    <tr>\n",
              "      <th>69</th>\n",
              "      <td>58</td>\n",
              "      <td>nossa</td>\n",
              "      <td>74</td>\n",
              "      <td>2</td>\n",
              "    </tr>\n",
              "    <tr>\n",
              "      <th>70</th>\n",
              "      <td>57</td>\n",
              "      <td>nieman</td>\n",
              "      <td>73</td>\n",
              "      <td>2</td>\n",
              "    </tr>\n",
              "    <tr>\n",
              "      <th>71</th>\n",
              "      <td>38</td>\n",
              "      <td>historia</td>\n",
              "      <td>61</td>\n",
              "      <td>2</td>\n",
              "    </tr>\n",
              "    <tr>\n",
              "      <th>72</th>\n",
              "      <td>42</td>\n",
              "      <td>inovacao</td>\n",
              "      <td>65</td>\n",
              "      <td>2</td>\n",
              "    </tr>\n",
              "    <tr>\n",
              "      <th>73</th>\n",
              "      <td>54</td>\n",
              "      <td>motor</td>\n",
              "      <td>68</td>\n",
              "      <td>2</td>\n",
              "    </tr>\n",
              "    <tr>\n",
              "      <th>74</th>\n",
              "      <td>7</td>\n",
              "      <td>brics</td>\n",
              "      <td>86</td>\n",
              "      <td>1</td>\n",
              "    </tr>\n",
              "    <tr>\n",
              "      <th>75</th>\n",
              "      <td>5</td>\n",
              "      <td>boxe</td>\n",
              "      <td>85</td>\n",
              "      <td>1</td>\n",
              "    </tr>\n",
              "    <tr>\n",
              "      <th>76</th>\n",
              "      <td>4</td>\n",
              "      <td>bichos</td>\n",
              "      <td>83</td>\n",
              "      <td>1</td>\n",
              "    </tr>\n",
              "    <tr>\n",
              "      <th>77</th>\n",
              "      <td>83</td>\n",
              "      <td>tilt, estado</td>\n",
              "      <td>81</td>\n",
              "      <td>1</td>\n",
              "    </tr>\n",
              "    <tr>\n",
              "      <th>78</th>\n",
              "      <td>80</td>\n",
              "      <td>sociedade, epoca</td>\n",
              "      <td>82</td>\n",
              "      <td>1</td>\n",
              "    </tr>\n",
              "    <tr>\n",
              "      <th>79</th>\n",
              "      <td>50</td>\n",
              "      <td>mais, levante</td>\n",
              "      <td>91</td>\n",
              "      <td>1</td>\n",
              "    </tr>\n",
              "    <tr>\n",
              "      <th>80</th>\n",
              "      <td>9</td>\n",
              "      <td>carros, colunas</td>\n",
              "      <td>84</td>\n",
              "      <td>1</td>\n",
              "    </tr>\n",
              "    <tr>\n",
              "      <th>81</th>\n",
              "      <td>10</td>\n",
              "      <td>carros, colunas, infomoto</td>\n",
              "      <td>89</td>\n",
              "      <td>1</td>\n",
              "    </tr>\n",
              "    <tr>\n",
              "      <th>82</th>\n",
              "      <td>75</td>\n",
              "      <td>saude, estado</td>\n",
              "      <td>87</td>\n",
              "      <td>1</td>\n",
              "    </tr>\n",
              "    <tr>\n",
              "      <th>83</th>\n",
              "      <td>73</td>\n",
              "      <td>rio, rio</td>\n",
              "      <td>88</td>\n",
              "      <td>1</td>\n",
              "    </tr>\n",
              "    <tr>\n",
              "      <th>84</th>\n",
              "      <td>71</td>\n",
              "      <td>redacao</td>\n",
              "      <td>90</td>\n",
              "      <td>1</td>\n",
              "    </tr>\n",
              "    <tr>\n",
              "      <th>85</th>\n",
              "      <td>68</td>\n",
              "      <td>programas</td>\n",
              "      <td>92</td>\n",
              "      <td>1</td>\n",
              "    </tr>\n",
              "    <tr>\n",
              "      <th>86</th>\n",
              "      <td>22</td>\n",
              "      <td>diplomacia</td>\n",
              "      <td>80</td>\n",
              "      <td>1</td>\n",
              "    </tr>\n",
              "    <tr>\n",
              "      <th>87</th>\n",
              "      <td>30</td>\n",
              "      <td>eurocopa</td>\n",
              "      <td>76</td>\n",
              "      <td>1</td>\n",
              "    </tr>\n",
              "    <tr>\n",
              "      <th>88</th>\n",
              "      <td>32</td>\n",
              "      <td>exercito</td>\n",
              "      <td>77</td>\n",
              "      <td>1</td>\n",
              "    </tr>\n",
              "    <tr>\n",
              "      <th>89</th>\n",
              "      <td>35</td>\n",
              "      <td>golfe</td>\n",
              "      <td>78</td>\n",
              "      <td>1</td>\n",
              "    </tr>\n",
              "    <tr>\n",
              "      <th>90</th>\n",
              "      <td>45</td>\n",
              "      <td>justica, 3-dos-ex-pms-levados-por-salles-para-ministerio-foram-afastados-pelo-stf</td>\n",
              "      <td>75</td>\n",
              "      <td>1</td>\n",
              "    </tr>\n",
              "  </tbody>\n",
              "</table>\n",
              "</div>"
            ],
            "text/plain": [
              "    index  \\\n",
              "0      66   \n",
              "1      15   \n",
              "2      23   \n",
              "3      29   \n",
              "4      56   \n",
              "5      21   \n",
              "6      39   \n",
              "7      47   \n",
              "8      52   \n",
              "9      60   \n",
              "10     61   \n",
              "11     82   \n",
              "12     24   \n",
              "13     74   \n",
              "14     89   \n",
              "15     40   \n",
              "16     13   \n",
              "17     78   \n",
              "18      3   \n",
              "19     34   \n",
              "20     26   \n",
              "21     17   \n",
              "22     53   \n",
              "23     51   \n",
              "24      1   \n",
              "25      6   \n",
              "26     76   \n",
              "27     20   \n",
              "28     77   \n",
              "29     44   \n",
              "30     90   \n",
              "31     36   \n",
              "32     85   \n",
              "33     33   \n",
              "34     65   \n",
              "35     25   \n",
              "36     28   \n",
              "37     12   \n",
              "38     41   \n",
              "39     72   \n",
              "40     48   \n",
              "41     37   \n",
              "42     87   \n",
              "43     88   \n",
              "44     55   \n",
              "45     11   \n",
              "46     62   \n",
              "47     31   \n",
              "48     19   \n",
              "49      0   \n",
              "50      8   \n",
              "51     64   \n",
              "52     84   \n",
              "53     49   \n",
              "54     46   \n",
              "55     43   \n",
              "56     14   \n",
              "57     59   \n",
              "58      2   \n",
              "59     67   \n",
              "60     86   \n",
              "61     81   \n",
              "62     16   \n",
              "63     18   \n",
              "64     69   \n",
              "65     70   \n",
              "66     27   \n",
              "67     79   \n",
              "68     63   \n",
              "69     58   \n",
              "70     57   \n",
              "71     38   \n",
              "72     42   \n",
              "73     54   \n",
              "74      7   \n",
              "75      5   \n",
              "76      4   \n",
              "77     83   \n",
              "78     80   \n",
              "79     50   \n",
              "80      9   \n",
              "81     10   \n",
              "82     75   \n",
              "83     73   \n",
              "84     71   \n",
              "85     68   \n",
              "86     22   \n",
              "87     30   \n",
              "88     32   \n",
              "89     35   \n",
              "90     45   \n",
              "\n",
              "                                                                             category  \\\n",
              "0                                                                            politica   \n",
              "1                                                                             colunas   \n",
              "2                                                                            economia   \n",
              "3                                                                             esporte   \n",
              "4                                                                               mundo   \n",
              "5                                                                           cotidiano   \n",
              "6                                                                           ilustrada   \n",
              "7                                                                               local   \n",
              "8                                                                               midia   \n",
              "9                                                                             opiniao   \n",
              "10                                                                     paineldoleitor   \n",
              "11                                                                         tecnologia   \n",
              "12                                                                           educacao   \n",
              "13                                                                              saude   \n",
              "14                                                                            turismo   \n",
              "15                                                                       ilustrissima   \n",
              "16                                                                            ciencia   \n",
              "17                                                                          sobretudo   \n",
              "18                                                                                bbc   \n",
              "19                                                                           folhinha   \n",
              "20                                                                 empreendedorsocial   \n",
              "21                                                                             comida   \n",
              "22                                                                         miscelanea   \n",
              "23                                                                      meio-ambiente   \n",
              "24                                                                             asmais   \n",
              "25                                                                             brasil   \n",
              "26                                                                    seminariosfolha   \n",
              "27                                                                        coronavirus   \n",
              "28                                                                           serafina   \n",
              "29                                                                            justica   \n",
              "30                                                                               vice   \n",
              "31                                                       guia-de-livros-discos-filmes   \n",
              "32                                                                          topofmind   \n",
              "33                                                                         fantastico   \n",
              "34                                                                            podcast   \n",
              "35                                                                           eleicoes   \n",
              "36                                                                           especial   \n",
              "37                                                                      cenarios-2017   \n",
              "38                                                                       infograficos   \n",
              "39                                                                                rfi   \n",
              "40                                                                           loterias   \n",
              "41                                                       guia-de-livros-filmes-discos   \n",
              "42                                                                        treinamento   \n",
              "43                                                           treinamentocienciaesaude   \n",
              "44                                                                             mulher   \n",
              "45                                                                   casos-de-policia   \n",
              "46                                                                          pesquisas   \n",
              "47                                                                           euronews   \n",
              "48                                                                            confere   \n",
              "49                                                                       agronegocios   \n",
              "50                                                                             carros   \n",
              "51                                                                                pme   \n",
              "52                                                                      tilt, reuters   \n",
              "53                                                                               mais   \n",
              "54                                                                         legislacao   \n",
              "55                                                                           internet   \n",
              "56                                                                             coluna   \n",
              "57                                                                          ombudsman   \n",
              "58                                                                            atitude   \n",
              "59                                                                         portuguese   \n",
              "60                                                                           transito   \n",
              "61                                                                              start   \n",
              "62                                                                            combate   \n",
              "63                                                                           comprova   \n",
              "64                                                                  programas, 3-em-1   \n",
              "65                                                                          realities   \n",
              "66                                                                          especiais   \n",
              "67                                                                sociedade, educacao   \n",
              "68                                                                                pix   \n",
              "69                                                                              nossa   \n",
              "70                                                                             nieman   \n",
              "71                                                                           historia   \n",
              "72                                                                           inovacao   \n",
              "73                                                                              motor   \n",
              "74                                                                              brics   \n",
              "75                                                                               boxe   \n",
              "76                                                                             bichos   \n",
              "77                                                                       tilt, estado   \n",
              "78                                                                   sociedade, epoca   \n",
              "79                                                                      mais, levante   \n",
              "80                                                                    carros, colunas   \n",
              "81                                                          carros, colunas, infomoto   \n",
              "82                                                                      saude, estado   \n",
              "83                                                                           rio, rio   \n",
              "84                                                                            redacao   \n",
              "85                                                                          programas   \n",
              "86                                                                         diplomacia   \n",
              "87                                                                           eurocopa   \n",
              "88                                                                           exercito   \n",
              "89                                                                              golfe   \n",
              "90  justica, 3-dos-ex-pms-levados-por-salles-para-ministerio-foram-afastados-pelo-stf   \n",
              "\n",
              "    category_nro  qtd_registros  \n",
              "0              0          23499  \n",
              "1              1          21881  \n",
              "2              2          21476  \n",
              "3              3          20327  \n",
              "4              4          18380  \n",
              "5              5          17044  \n",
              "6              6          15617  \n",
              "7              7           5628  \n",
              "8              8           4797  \n",
              "9              9           4525  \n",
              "10            10           4011  \n",
              "11            11           2458  \n",
              "12            12           2150  \n",
              "13            13           1910  \n",
              "14            14           1903  \n",
              "15            15           1409  \n",
              "16            16           1335  \n",
              "17            17           1057  \n",
              "18            18            980  \n",
              "19            19            875  \n",
              "20            20            841  \n",
              "21            21            828  \n",
              "22            22            719  \n",
              "23            23            562  \n",
              "24            24            547  \n",
              "25            25            444  \n",
              "26            26            379  \n",
              "27            27            348  \n",
              "28            28            331  \n",
              "29            29            205  \n",
              "30            30            146  \n",
              "31            31            143  \n",
              "32            32             86  \n",
              "33            33             79  \n",
              "34            34             51  \n",
              "35            35             47  \n",
              "36            36             43  \n",
              "37            38             43  \n",
              "38            37             40  \n",
              "39            39             29  \n",
              "40            40             29  \n",
              "41            41             28  \n",
              "42            42             21  \n",
              "43            43             18  \n",
              "44            44             16  \n",
              "45            45             14  \n",
              "46            47              8  \n",
              "47            46              8  \n",
              "48            48              7  \n",
              "49            50              5  \n",
              "50            49              5  \n",
              "51            52              4  \n",
              "52            51              4  \n",
              "53            53              4  \n",
              "54            58              3  \n",
              "55            57              3  \n",
              "56            59              3  \n",
              "57            56              3  \n",
              "58            55              3  \n",
              "59            54              3  \n",
              "60            60              2  \n",
              "61            63              2  \n",
              "62            71              2  \n",
              "63            72              2  \n",
              "64            67              2  \n",
              "65            66              2  \n",
              "66            69              2  \n",
              "67            64              2  \n",
              "68            70              2  \n",
              "69            74              2  \n",
              "70            73              2  \n",
              "71            61              2  \n",
              "72            65              2  \n",
              "73            68              2  \n",
              "74            86              1  \n",
              "75            85              1  \n",
              "76            83              1  \n",
              "77            81              1  \n",
              "78            82              1  \n",
              "79            91              1  \n",
              "80            84              1  \n",
              "81            89              1  \n",
              "82            87              1  \n",
              "83            88              1  \n",
              "84            90              1  \n",
              "85            92              1  \n",
              "86            80              1  \n",
              "87            76              1  \n",
              "88            77              1  \n",
              "89            78              1  \n",
              "90            75              1  "
            ]
          },
          "metadata": {},
          "execution_count": 46
        }
      ]
    },
    {
      "cell_type": "code",
      "metadata": {
        "colab": {
          "base_uri": "https://localhost:8080/",
          "height": 622
        },
        "id": "lCVvm9mCLKQK",
        "outputId": "72b1bc92-9039-4aaa-ed36-52bf452e7724"
      },
      "source": [
        "dfGraph = dfNewsGrupo[['category','qtd_registros']].head(30).copy()\n",
        "fig, ax =plt.subplots(figsize=(18, 8), sharex=True)\n",
        "sns.barplot(x='category',y='qtd_registros', data=dfGraph,orient='v', ax = ax).set_title(\"Ranque das 30 categorias com mais noticias no conjunto de dados\")\n",
        "for bar in ax.patches:\n",
        "  ax.annotate(format(bar.get_height(),'.0f'),\n",
        "                   (bar.get_x() + bar.get_width() / 2,\n",
        "                    bar.get_height()), ha='center', va='center',\n",
        "                   size=10, xytext=(0, 8),\n",
        "                   textcoords='offset points')\n",
        "for item in ax.get_xticklabels():\n",
        "    item.set_rotation(90)\n"
      ],
      "execution_count": 44,
      "outputs": [
        {
          "output_type": "display_data",
          "data": {
            "image/png": "[encoded data removed]",
            "text/plain": [
              "<Figure size 1296x576 with 1 Axes>"
            ]
          },
          "metadata": {}
        }
      ]
    },
    {
      "cell_type": "code",
      "metadata": {
        "id": "vUtKwtb1UQjs",
        "outputId": "51abf8db-6d3e-4306-b69b-27e43a564ed8",
        "colab": {
          "base_uri": "https://localhost:8080/"
        }
      },
      "source": [
        "dfNewsGrupo.loc[0:6,['qtd_registros']].sum()/dfNewsGrupo.loc[: As,['qtd_registros']].sum()\n"
      ],
      "execution_count": 51,
      "outputs": [
        {
          "output_type": "execute_result",
          "data": {
            "text/plain": [
              "qtd_registros    0.779135\n",
              "dtype: float64"
            ]
          },
          "metadata": {},
          "execution_count": 51
        }
      ]
    },
    {
      "cell_type": "code",
      "metadata": {
        "id": "a5U9vasPZDh4"
      },
      "source": [
        ""
      ],
      "execution_count": null,
      "outputs": []
    },
    {
      "cell_type": "code",
      "metadata": {
        "id": "Zs5ZvPgrZD1g"
      },
      "source": [
        ""
      ],
      "execution_count": null,
      "outputs": []
    },
    {
      "cell_type": "code",
      "metadata": {
        "id": "wUdr6d0FZD4y"
      },
      "source": [
        ""
      ],
      "execution_count": null,
      "outputs": []
    },
    {
      "cell_type": "code",
      "metadata": {
        "id": "ZtiwB58Qlvop"
      },
      "source": [
        "def gravaArquivos(dfAmostra, caminho):\n",
        "  df_train, df_test_valid = train_test_split(dfAmostra, train_size = 0.8, random_state = 10)\n",
        "  df_valid, df_test = train_test_split(df_test_valid, train_size = 0.5, random_state = 10)\n",
        "  print('Treinamento:',df_train.shape)\n",
        "  print('Teste:', df_test.shape)\n",
        "  print('Valid:', df_valid.shape)\n",
        "  df_train.to_csv(caminho + '/train.csv',header=True,doublequote=True, index=False, quotechar='\"', encoding='utf-8')\n",
        "  df_test.to_csv(caminho + '/test.csv',header=True,doublequote=True, index=False, quotechar='\"', encoding='utf-8')\n",
        "  df_valid.to_csv(caminho + '/valid.csv',header=True,doublequote=True, index=False, quotechar='\"', encoding='utf-8')\n",
        "def gravaArquivoUnico(dfAmostra, caminho):\n",
        "  print('Dimensao:',dfAmostra.shape)\n",
        "  os.makedirs(caminho,exist_ok=True )\n",
        "  dfAmostra.to_csv(caminho + '/amostra.csv',header=True,doublequote=True, index=False, quotechar='\"', encoding='utf-8')\n",
        "  "
      ],
      "execution_count": null,
      "outputs": []
    },
    {
      "cell_type": "code",
      "metadata": {
        "id": "_UBg0veWGRqw",
        "colab": {
          "base_uri": "https://localhost:8080/"
        },
        "outputId": "a415a5ff-1473-4dc6-eceb-60eb450841b7"
      },
      "source": [
        "n_registros=[[2000,30000],[1910,2000],[1335,1400]]  #considerar categorias com quantidade de registros acima desta. Se zero considerar toda a amostra.\n",
        "tam_amostra =[2000,1910,1335]  #tamanho da amostra a ser selecionada em cada categoria. Se zero, pega toda a quantidade da categoria.\n",
        "quantidade = True #determina se obtem uma fração ou uma quantidade de cada categoria. Se False obtem a fraçao.\n",
        "idx=5 #nro do dataset\n",
        "arquivoUnico = True # Se False faz o split em Treinamento, Validacao e Teste\n",
        "colunas = ['text','category_nro']\n",
        "for registro, amostra in zip(n_registros, tam_amostra):\n",
        "  categorias = dfNewsGrupo[(dfNewsGrupo['qtd_registros']>=registro[0]) & (dfNewsGrupo['qtd_registros']<registro[1]) ].loc[:,['category']]['category'].to_list()\n",
        "  print('qtd_categorias:',len(categorias))\n",
        "  frame=[]\n",
        "  if registro[0]>0:\n",
        "    for categoria in categorias:\n",
        "      if amostra==0:\n",
        "        dftmp = dfNewsGrupo[dfNewsGrupo['category']==categoria]\n",
        "        amostra_l = dftmp['qtd_registros'].tolist()[0]-1\n",
        "        quantidade=True\n",
        "      else:\n",
        "        amostra_l = amostra\n",
        "      if quantidade==True:\n",
        "        dftmp = dfnews_tratadas[dfnews_tratadas['category']==categoria].loc[:,colunas].sample(n=amostra_l, random_state=42)\n",
        "      else:\n",
        "        dftmp = dfnews_tratadas[dfnews_tratadas['category']==categoria].loc[:,colunas].sample(frac=amostra_l, random_state=42)\n",
        "      frame.append(dftmp)\n",
        "    dfAmostra = pd.concat(frame,ignore_index=True, sort=False)\n",
        "  else:\n",
        "    if quantidade==True:\n",
        "      dfAmostra = dfnews_tratadas.loc[:,colunas].sample(n=amostra, random_state=42) #usar pesos????\n",
        "    else:\n",
        "      dfAmostra = dfnews_tratadas.loc[:,colunas].sample(frac=amostra, random_state=42) #usar pesos????\n",
        "  if not dfAmostra.empty:\n",
        "    if not arquivoUnico == True:\n",
        "      gravaArquivos(dfAmostra,'./amostra_news_integrada/amostra_'+str(idx))\n",
        "    else:\n",
        "      gravaArquivoUnico(dfAmostra,'./amostra_news_integrada/amostra_'+str(idx))\n",
        "    print('Amostra', idx,':', dfAmostra.shape)\n",
        "  else:\n",
        "    print('Amostra ',idx,' não gerada.')\n",
        "  idx+=1\n"
      ],
      "execution_count": null,
      "outputs": [
        {
          "output_type": "stream",
          "name": "stdout",
          "text": [
            "qtd_categorias: 8\n",
            "Dimensao: (16000, 2)\n",
            "Amostra 5 : (16000, 2)\n",
            "qtd_categorias: 1\n",
            "Dimensao: (1910, 2)\n",
            "Amostra 6 : (1910, 2)\n",
            "qtd_categorias: 1\n",
            "Dimensao: (1335, 2)\n",
            "Amostra 7 : (1335, 2)\n"
          ]
        }
      ]
    },
    {
      "cell_type": "code",
      "metadata": {
        "id": "Nr0snHB19TB5"
      },
      "source": [
        "df5 = pd.read_csv('./amostra_news_integrada/amostra_5/amostra.csv')\n",
        "df6 = pd.read_csv('./amostra_news_integrada/amostra_6/amostra.csv')\n",
        "df7 = pd.read_csv('./amostra_news_integrada/amostra_7/amostra.csv')\n",
        "print(df5.shape, df6.shape, df7.shape)\n",
        "dfT = pd.concat([df5, df6, df7], sort=False)\n"
      ],
      "execution_count": null,
      "outputs": []
    },
    {
      "cell_type": "code",
      "metadata": {
        "id": "bPorXPGGEeRp",
        "colab": {
          "base_uri": "https://localhost:8080/"
        },
        "outputId": "3cae8ded-bc92-41c4-e27d-f0d28bd3e99c"
      },
      "source": [
        "gravaArquivos(dfT,'./amostra_news_integrada/amostra_5')"
      ],
      "execution_count": null,
      "outputs": [
        {
          "output_type": "stream",
          "name": "stdout",
          "text": [
            "Treinamento: (15396, 2)\n",
            "Teste: (1925, 2)\n",
            "Valid: (1924, 2)\n"
          ]
        }
      ]
    },
    {
      "cell_type": "code",
      "metadata": {
        "id": "jWf77ketwSil"
      },
      "source": [
        "#amostra para treinar ulmfit\n",
        "df_ulmfit = dfnews_tratadas[['text','category_nro']].sample(frac=0.5, random_state=42)"
      ],
      "execution_count": null,
      "outputs": []
    },
    {
      "cell_type": "code",
      "metadata": {
        "id": "yrpYBAZr7fBT"
      },
      "source": [
        "dfTreino = pd.read_csv('./amostra_news_integrada/amostra_5/train.csv')\n",
        "dfTeste = pd.read_csv('./amostra_news_integrada/amostra_5/test.csv')\n",
        "dfValid = pd.read_csv('./amostra_news_integrada/amostra_5/valid.csv')\n",
        "dfT = pd.concat([dfTreino, dfTeste, dfValid], sort=False).rename(columns={'category_rno':'categoria'})\n"
      ],
      "execution_count": null,
      "outputs": []
    },
    {
      "cell_type": "code",
      "metadata": {
        "id": "b1FBVaXN8GAp"
      },
      "source": [
        "dfx = pd.merge(df_ulmfit, dfT, on='text', how='left')"
      ],
      "execution_count": null,
      "outputs": []
    },
    {
      "cell_type": "code",
      "metadata": {
        "id": "g1IBUF8U-aRO"
      },
      "source": [
        "dfAmostra = dfx[dfx['category_nro_y'].isnull()]"
      ],
      "execution_count": null,
      "outputs": []
    },
    {
      "cell_type": "code",
      "metadata": {
        "id": "ZNOAYa4--o_S",
        "colab": {
          "base_uri": "https://localhost:8080/"
        },
        "outputId": "7cf036c6-a031-4486-a2bd-af1b039586ef"
      },
      "source": [
        "print(dfAmostra.shape, dfx.shape)"
      ],
      "execution_count": null,
      "outputs": [
        {
          "output_type": "stream",
          "name": "stdout",
          "text": [
            "(79048, 3) (89160, 3)\n"
          ]
        }
      ]
    },
    {
      "cell_type": "code",
      "metadata": {
        "id": "QJbKsRC1_CRC"
      },
      "source": [
        "dfAmostra[['text','category_nro_x']].to_csv('./amostra_news_integrada/amostra_6/amostra.csv',header=True,doublequote=True, index=False, quotechar='\"', encoding='utf-8')"
      ],
      "execution_count": null,
      "outputs": []
    },
    {
      "cell_type": "code",
      "metadata": {
        "id": "PPr_j54y-xRK",
        "colab": {
          "base_uri": "https://localhost:8080/"
        },
        "outputId": "ae8edd15-8dfd-4e81-bba3-8de863e6e9bd"
      },
      "source": [
        "%ls amostra_news_integrada/amostra_6/*.* -lh"
      ],
      "execution_count": null,
      "outputs": [
        {
          "output_type": "stream",
          "name": "stdout",
          "text": [
            "-rw------- 1 root root 215M Sep 21 01:38 amostra_news_integrada/amostra_6/amostra.csv\n"
          ]
        }
      ]
    }
  ]
}