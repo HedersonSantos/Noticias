{
  "nbformat": 4,
  "nbformat_minor": 0,
  "metadata": {
    "colab": {
      "name": "ResultadosExperimentos.ipynb",
      "provenance": [],
      "authorship_tag": "ABX9TyPbXQFzMK52TEr4ayhqmzE4",
      "include_colab_link": true
    },
    "kernelspec": {
      "name": "python3",
      "display_name": "Python 3"
    },
    "language_info": {
      "name": "python"
    }
  },
  "cells": [
    {
      "cell_type": "markdown",
      "metadata": {
        "id": "view-in-github",
        "colab_type": "text"
      },
      "source": [
        "<a href=\"https://colab.research.google.com/github/HedersonSantos/Noticias/blob/main/ResultadosExperimentos.ipynb\" target=\"_parent\"><img src=\"https://colab.research.google.com/assets/colab-badge.svg\" alt=\"Open In Colab\"/></a>"
      ]
    },
    {
      "cell_type": "markdown",
      "metadata": {
        "id": "m12X888-5Xcv"
      },
      "source": [
        "# Experimentos com BERTimbau"
      ]
    },
    {
      "cell_type": "markdown",
      "metadata": {
        "id": "JbaFSnpc7TRo"
      },
      "source": [
        "O nosso dataset de noticias é composto por 178.229 noticias, sendo que 167.053 são noticias da Folha de São Paulo entre janeiro de 2015 e Setembro de 2017 que estão disponibilizadas em https://www.kaggle.com/marlesson/news-of-the-site-folhauol. As outras 11.176 são noticias de vários sítios de noticias como uol.com.br, globo.com, google-news-br, poder360.com. Estas noticias foram extraídas por um algoritmo de webScrapping nosso entre o período de 17 de abril a 15 de julho de 2021.<br>\n",
        "\n",
        "As noticias do dataset da Folha já vieram categorizadas com a seção em que foram publicadas no sítio deste jornal. As do nosso web scrapping foram inicialmente categorizadas com a seção do sítio de notícias que aparece na url da noticia. Posteriormente elas foram manipuladas para serem categorizadas em uma seção já existente e de acordo com o assunto uma vez que a url não tinha a seção em que se encontrava. <br>\n",
        "\n",
        "Por fim, manipulamos as seções do nosso dataset para se adequar as categorias da Folha de São Paulo e obtivemos 95 categorias diferentes, sendo que  4  categorias possuem mais de 200 mil noticias, 7 possuem mais de 160 mil noticias, 13 possuem mais de 2 mil noticias, 18 possuem mais de 1000 noticias, 25 possuem mais de 500 noticias e 32 possuem mais de 100 noticias. O restante possuem muito poucas noticias.\n",
        "\n",
        "Inicialmente criamos 3 datasets."
      ]
    },
    {
      "cell_type": "code",
      "metadata": {
        "id": "Ij5pfuJR3080"
      },
      "source": [
        "!pip install torch==1.8.1 torchvision==0.9.1 torchaudio==0.8.\n"
      ],
      "execution_count": null,
      "outputs": []
    }
  ]
}